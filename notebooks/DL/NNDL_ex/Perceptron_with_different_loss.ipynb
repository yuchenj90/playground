{
 "cells": [
  {
   "cell_type": "code",
   "execution_count": 1,
   "id": "recorded-qatar",
   "metadata": {},
   "outputs": [
    {
     "name": "stdout",
     "output_type": "stream",
     "text": [
      "TensorFlow version: 2.7.0\n"
     ]
    }
   ],
   "source": [
    "import tensorflow as tf\n",
    "print(\"TensorFlow version:\", tf.__version__)"
   ]
  },
  {
   "cell_type": "code",
   "execution_count": 2,
   "id": "loaded-porcelain",
   "metadata": {},
   "outputs": [],
   "source": [
    "import numpy as np\n",
    "import pandas as pd\n",
    "import random"
   ]
  },
  {
   "cell_type": "markdown",
   "id": "weighted-seattle",
   "metadata": {},
   "source": [
    "# Generate N data points within unit square and labels"
   ]
  },
  {
   "cell_type": "code",
   "execution_count": 13,
   "id": "suburban-collar",
   "metadata": {},
   "outputs": [],
   "source": [
    "def generate_data(N):\n",
    "    x = np.random.uniform(0,1,N*2).reshape(N,2)\n",
    "    y = (x[:,0] - x[:,1] > 0).astype(int)*2-1\n",
    "    return x, y"
   ]
  },
  {
   "cell_type": "code",
   "execution_count": 42,
   "id": "independent-screw",
   "metadata": {},
   "outputs": [],
   "source": [
    "x_train, y_train = generate_data(20)\n",
    "x_test, y_test = generate_data(1000)"
   ]
  },
  {
   "cell_type": "code",
   "execution_count": 43,
   "id": "magnetic-teaching",
   "metadata": {},
   "outputs": [
    {
     "name": "stdout",
     "output_type": "stream",
     "text": [
      "[[0.67239282 0.10022841]\n",
      " [0.54381034 0.02878654]\n",
      " [0.14008126 0.77086849]\n",
      " [0.72636794 0.45263393]\n",
      " [0.07281047 0.65587833]\n",
      " [0.76551505 0.84246293]\n",
      " [0.53678763 0.30877629]\n",
      " [0.54106736 0.65185553]\n",
      " [0.21498941 0.75477042]\n",
      " [0.01514386 0.50858212]\n",
      " [0.75685352 0.07318384]\n",
      " [0.45006962 0.18971094]\n",
      " [0.96416723 0.0198879 ]\n",
      " [0.9395163  0.43102253]\n",
      " [0.99861812 0.70790419]\n",
      " [0.94477674 0.9629321 ]\n",
      " [0.6472921  0.22963197]\n",
      " [0.90021079 0.93735798]\n",
      " [0.58161061 0.40604057]\n",
      " [0.87920545 0.04011996]] [ 1  1 -1  1 -1 -1  1 -1 -1 -1  1  1  1  1  1 -1  1 -1  1  1]\n"
     ]
    }
   ],
   "source": [
    "print(x_train, y_train)"
   ]
  },
  {
   "cell_type": "markdown",
   "id": "applicable-netscape",
   "metadata": {},
   "source": [
    "# Perceptron algorithm\n",
    "-  Nerual Network without hidden layer.\n",
    "-  The activation function of the output layer is the sign function. ($y_i \\in \\{-1,1\\}$, $\\hat{y}_i = sign(W \\cdot X_i)\\in\\{-1,1\\}$)\n",
    "-  Loss functions\n",
    "    -  Perceptron criterion loss: $L_i = max\\{-y_i(W \\cdot X_i),0\\}$, $\\partial L_i/\\partial w_j = \\begin{cases}\n",
    "                                                                                                    0 &\\text{if $y_i = \\hat{y}_i$} \\\\\n",
    "                                                                                                    -y_iX_{ij} &\\text{otherwise}\n",
    "                                                                                                    \\end{cases} = -\\frac{1}{2}(y_i - \\hat{y}_i)X_{ij}$                                                                        \n",
    "       Downside: You can always set $W$ to zero to minimize the loss.\n",
    "    -  Hinge loss: $L_i = max\\{1-y_i(W \\cdot X_i),0\\}$, $\\partial L_i/\\partial w_j = \\begin{cases}\n",
    "                                                                                                    0 &\\text{if $y_i(W \\cdot X_i)>1$} \\\\\n",
    "                                                                                                    -y_iX_{ij} &\\text{otherwise}\n",
    "                                                                                                    \\end{cases}$            "
   ]
  },
  {
   "cell_type": "markdown",
   "id": "prime-conversation",
   "metadata": {},
   "source": []
  },
  {
   "cell_type": "code",
   "execution_count": 76,
   "id": "boolean-heritage",
   "metadata": {
    "tags": []
   },
   "outputs": [],
   "source": [
    "class Perceptron:\n",
    "    def __init__(self, d, alpha=0.1):\n",
    "        self.W = np.random.uniform(-1,1,d)\n",
    "        self.alpha= alpha\n",
    "    \n",
    "    def predict(self, x):\n",
    "        return np.sign(np.dot(x, self.W))\n",
    "    \n",
    "    def fit(self, X, y, batch_size = 1, epoch = 100, loss='perceptron'):\n",
    "        N = len(y)\n",
    "        Nb = round(N*batch_size)\n",
    "        for _ in range(epoch):\n",
    "            idlist = np.random.randint(0,N,size=Nb)\n",
    "            grad = 0\n",
    "            for i in idlist:\n",
    "                xi = X[idlist[i]]\n",
    "                yi = y[idlist[i]]\n",
    "                if loss == 'perceptron':\n",
    "                    if  yi*(np.dot(xi, self.W))<0:\n",
    "                        grad += -yi*xi\n",
    "                elif loss == 'hinge':\n",
    "                    if  yi*(np.dot(xi, self.W))<1:\n",
    "                        grad += -yi*xi\n",
    "            self.W = self.W - self.alpha*grad"
   ]
  },
  {
   "cell_type": "code",
   "execution_count": 86,
   "id": "demonstrated-token",
   "metadata": {},
   "outputs": [],
   "source": [
    "model = Perceptron(len(x_train[0]))\n",
    "model.fit(x_train,y_train,epoch=100)"
   ]
  },
  {
   "cell_type": "code",
   "execution_count": 87,
   "id": "competitive-renewal",
   "metadata": {},
   "outputs": [
    {
     "name": "stdout",
     "output_type": "stream",
     "text": [
      "Train accuracy: 1.0\n",
      "Test accuracy: 0.87\n"
     ]
    }
   ],
   "source": [
    "print(\"Train accuracy:\", (model.predict(x_train) == y_train).mean())\n",
    "print(\"Test accuracy:\", (model.predict(x_test) == y_test).mean())"
   ]
  },
  {
   "cell_type": "code",
   "execution_count": 88,
   "id": "resident-labor",
   "metadata": {},
   "outputs": [],
   "source": [
    "model2 = Perceptron(len(x_train[0]))\n",
    "model2.fit(x_train,y_train,epoch=100, loss='hinge')"
   ]
  },
  {
   "cell_type": "code",
   "execution_count": 89,
   "id": "introductory-fabric",
   "metadata": {},
   "outputs": [
    {
     "name": "stdout",
     "output_type": "stream",
     "text": [
      "Train accuracy: 1.0\n",
      "Test accuracy: 0.941\n"
     ]
    }
   ],
   "source": [
    "print(\"Train accuracy:\", (model2.predict(x_train) == y_train).mean())\n",
    "print(\"Test accuracy:\", (model2.predict(x_test) == y_test).mean())"
   ]
  },
  {
   "cell_type": "code",
   "execution_count": null,
   "id": "attempted-delivery",
   "metadata": {},
   "outputs": [],
   "source": []
  },
  {
   "cell_type": "code",
   "execution_count": null,
   "id": "right-nickname",
   "metadata": {},
   "outputs": [],
   "source": []
  },
  {
   "cell_type": "code",
   "execution_count": null,
   "id": "animal-freedom",
   "metadata": {},
   "outputs": [],
   "source": []
  }
 ],
 "metadata": {
  "kernelspec": {
   "display_name": "Python 3",
   "language": "python",
   "name": "python3"
  },
  "language_info": {
   "codemirror_mode": {
    "name": "ipython",
    "version": 3
   },
   "file_extension": ".py",
   "mimetype": "text/x-python",
   "name": "python",
   "nbconvert_exporter": "python",
   "pygments_lexer": "ipython3",
   "version": "3.8.2"
  }
 },
 "nbformat": 4,
 "nbformat_minor": 5
}
