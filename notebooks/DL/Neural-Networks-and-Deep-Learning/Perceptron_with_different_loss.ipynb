{
 "cells": [
  {
   "cell_type": "code",
   "execution_count": 1,
   "id": "improving-beaver",
   "metadata": {},
   "outputs": [
    {
     "name": "stdout",
     "output_type": "stream",
     "text": [
      "TensorFlow version: 2.7.0\n"
     ]
    }
   ],
   "source": [
    "import tensorflow as tf\n",
    "print(\"TensorFlow version:\", tf.__version__)"
   ]
  },
  {
   "cell_type": "code",
   "execution_count": 2,
   "id": "welsh-horse",
   "metadata": {},
   "outputs": [],
   "source": [
    "import numpy as np\n",
    "import pandas as pd\n",
    "import random"
   ]
  },
  {
   "cell_type": "markdown",
   "id": "veterinary-radical",
   "metadata": {},
   "source": [
    "# Generate N data points within unit square and labels"
   ]
  },
  {
   "cell_type": "code",
   "execution_count": 3,
   "id": "killing-sharing",
   "metadata": {},
   "outputs": [],
   "source": [
    "def generate_data(N):\n",
    "    x = np.random.uniform(0,1,N*2).reshape(N,2)\n",
    "    y = (x[:,0] - x[:,1] > 0).astype(int)*2-1\n",
    "    return x, y"
   ]
  },
  {
   "cell_type": "code",
   "execution_count": 4,
   "id": "other-procedure",
   "metadata": {},
   "outputs": [],
   "source": [
    "x_train, y_train = generate_data(20)\n",
    "x_test, y_test = generate_data(1000)"
   ]
  },
  {
   "cell_type": "code",
   "execution_count": 5,
   "id": "moving-motivation",
   "metadata": {},
   "outputs": [
    {
     "name": "stdout",
     "output_type": "stream",
     "text": [
      "[[0.53418224 0.71668829]\n",
      " [0.9103246  0.89357462]\n",
      " [0.05721559 0.43756385]\n",
      " [0.88444044 0.12768854]\n",
      " [0.70402733 0.49461694]\n",
      " [0.85764027 0.41277816]\n",
      " [0.39609031 0.34649127]\n",
      " [0.31938538 0.7385899 ]\n",
      " [0.49334731 0.51231368]\n",
      " [0.82488302 0.95868036]\n",
      " [0.16444687 0.29322307]\n",
      " [0.22465656 0.70204661]\n",
      " [0.97821809 0.7197862 ]\n",
      " [0.28002307 0.72276618]\n",
      " [0.47190302 0.16425309]\n",
      " [0.16136981 0.44112853]\n",
      " [0.53413983 0.64966776]\n",
      " [0.16076358 0.28698629]\n",
      " [0.69718786 0.14790561]\n",
      " [0.13659892 0.16050024]] [-1  1 -1  1  1  1  1 -1 -1 -1 -1 -1  1 -1  1 -1 -1 -1  1 -1]\n"
     ]
    }
   ],
   "source": [
    "print(x_train, y_train)"
   ]
  },
  {
   "cell_type": "markdown",
   "id": "computational-immunology",
   "metadata": {},
   "source": [
    "# Perceptron algorithm\n",
    "-  Nerual Network without hidden layer.\n",
    "-  The activation function of the output layer is the sign function. ($y_i \\in \\{-1,1\\}$, $\\hat{y}_i = sign(W \\cdot X_i)\\in\\{-1,1\\}$)\n",
    "-  Loss functions\n",
    "    -  Perceptron criterion loss: $L_i = max\\{-y_i(W \\cdot X_i),0\\}$, $\\partial L_i/\\partial w_j = \\begin{cases}\n",
    "                                                                                                    0 &\\text{if $y_i = \\hat{y}_i$} \\\\\n",
    "                                                                                                    -y_iX_{ij} &\\text{otherwise}\n",
    "                                                                                                    \\end{cases} = -\\frac{1}{2}(y_i - \\hat{y}_i)X_{ij}$                                                                        \n",
    "       Downside: You can always set $W$ to zero to minimize the loss.\n",
    "    -  Hinge loss: $L_i = max\\{1-y_i(W \\cdot X_i),0\\}$, $\\partial L_i/\\partial w_j = \\begin{cases}\n",
    "                                                                                                    0 &\\text{if $y_i(W \\cdot X_i)>1$} \\\\\n",
    "                                                                                                    -y_iX_{ij} &\\text{otherwise}\n",
    "                                                                                                    \\end{cases}$            "
   ]
  },
  {
   "cell_type": "code",
   "execution_count": 7,
   "id": "joint-serum",
   "metadata": {
    "tags": []
   },
   "outputs": [],
   "source": [
    "class Perceptron:\n",
    "    def __init__(self, d, alpha=0.1):\n",
    "        self.W = np.random.uniform(-1,1,d)\n",
    "        self.alpha= alpha\n",
    "    \n",
    "    def predict(self, x):\n",
    "        return np.sign(np.dot(x, self.W))\n",
    "    \n",
    "    def fit(self, X, y, batch_size = 1, epoch = 100, loss='perceptron'):\n",
    "        N = len(y)\n",
    "        Nb = round(N*batch_size)\n",
    "        for _ in range(epoch):\n",
    "            idlist = np.random.randint(0,N,size=Nb)\n",
    "            grad = 0\n",
    "            for i in idlist:\n",
    "                xi = X[idlist[i]]\n",
    "                yi = y[idlist[i]]\n",
    "                if loss == 'perceptron':\n",
    "                    if  yi*(np.dot(xi, self.W))<0:\n",
    "                        grad += -yi*xi\n",
    "                elif loss == 'hinge':\n",
    "                    if  yi*(np.dot(xi, self.W))<1:\n",
    "                        grad += -yi*xi\n",
    "            self.W = self.W - self.alpha*grad"
   ]
  },
  {
   "cell_type": "code",
   "execution_count": 8,
   "id": "shaped-female",
   "metadata": {},
   "outputs": [],
   "source": [
    "model = Perceptron(len(x_train[0]))\n",
    "model.fit(x_train,y_train,epoch=100)"
   ]
  },
  {
   "cell_type": "code",
   "execution_count": 9,
   "id": "completed-december",
   "metadata": {},
   "outputs": [
    {
     "name": "stdout",
     "output_type": "stream",
     "text": [
      "Train accuracy: 1.0\n",
      "Test accuracy: 0.984\n"
     ]
    }
   ],
   "source": [
    "print(\"Train accuracy:\", (model.predict(x_train) == y_train).mean())\n",
    "print(\"Test accuracy:\", (model.predict(x_test) == y_test).mean())"
   ]
  },
  {
   "cell_type": "code",
   "execution_count": 10,
   "id": "iraqi-manufacturer",
   "metadata": {},
   "outputs": [],
   "source": [
    "model2 = Perceptron(len(x_train[0]))\n",
    "model2.fit(x_train,y_train,epoch=100, loss='hinge')"
   ]
  },
  {
   "cell_type": "code",
   "execution_count": 11,
   "id": "engaging-boost",
   "metadata": {},
   "outputs": [
    {
     "name": "stdout",
     "output_type": "stream",
     "text": [
      "Train accuracy: 1.0\n",
      "Test accuracy: 1.0\n"
     ]
    }
   ],
   "source": [
    "print(\"Train accuracy:\", (model2.predict(x_train) == y_train).mean())\n",
    "print(\"Test accuracy:\", (model2.predict(x_test) == y_test).mean())"
   ]
  },
  {
   "cell_type": "code",
   "execution_count": null,
   "id": "tender-forward",
   "metadata": {},
   "outputs": [],
   "source": []
  },
  {
   "cell_type": "code",
   "execution_count": null,
   "id": "declared-train",
   "metadata": {},
   "outputs": [],
   "source": []
  },
  {
   "cell_type": "code",
   "execution_count": null,
   "id": "pressing-berkeley",
   "metadata": {},
   "outputs": [],
   "source": []
  }
 ],
 "metadata": {
  "kernelspec": {
   "display_name": "Python 3",
   "language": "python",
   "name": "python3"
  },
  "language_info": {
   "codemirror_mode": {
    "name": "ipython",
    "version": 3
   },
   "file_extension": ".py",
   "mimetype": "text/x-python",
   "name": "python",
   "nbconvert_exporter": "python",
   "pygments_lexer": "ipython3",
   "version": "3.8.9"
  }
 },
 "nbformat": 4,
 "nbformat_minor": 5
}
