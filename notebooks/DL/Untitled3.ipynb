{
 "cells": [
  {
   "cell_type": "code",
   "execution_count": 1,
   "id": "914ab7fd-9a45-48a3-ab6b-c1bcf65ef5ba",
   "metadata": {
    "tags": []
   },
   "outputs": [],
   "source": [
    "import csv"
   ]
  },
  {
   "cell_type": "code",
   "execution_count": 19,
   "id": "b3df89f2-5aa2-4983-9fb9-6025fb36e1fa",
   "metadata": {
    "tags": []
   },
   "outputs": [
    {
     "name": "stdout",
     "output_type": "stream",
     "text": [
      "0 ['Id', 'OwnerUserId', 'CreationDate', 'ClosedDate', 'Score', 'Title', 'Body']\n",
      "1 ['80', '26', '2008-08-01T13:57:07Z', 'NA', '26', 'SQLStatement.execute() - multiple queries in one statement', '<p>I\\'ve written a database generation script in <a href=\"http://en.wikipedia.org/wiki/SQL\">SQL</a> and want to execute it in my <a href=\"http://en.wikipedia.org/wiki/Adobe_Integrated_Runtime\">Adobe AIR</a> application:</p>\\n\\n<pre><code>Create Table tRole (\\n      roleID integer Primary Key\\n      ,roleName varchar(40)\\n);\\nCreate Table tFile (\\n    fileID integer Primary Key\\n    ,fileName varchar(50)\\n    ,fileDescription varchar(500)\\n    ,thumbnailID integer\\n    ,fileFormatID integer\\n    ,categoryID integer\\n    ,isFavorite boolean\\n    ,dateAdded date\\n    ,globalAccessCount integer\\n    ,lastAccessTime date\\n    ,downloadComplete boolean\\n    ,isNew boolean\\n    ,isSpotlight boolean\\n    ,duration varchar(30)\\n);\\nCreate Table tCategory (\\n    categoryID integer Primary Key\\n    ,categoryName varchar(50)\\n    ,parent_categoryID integer\\n);\\n...\\n</code></pre>\\n\\n<p>I execute this in Adobe AIR using the following methods:</p>\\n\\n<pre><code>public static function RunSqlFromFile(fileName:String):void {\\n    var file:File = File.applicationDirectory.resolvePath(fileName);\\n    var stream:FileStream = new FileStream();\\n    stream.open(file, FileMode.READ)\\n    var strSql:String = stream.readUTFBytes(stream.bytesAvailable);\\n    NonQuery(strSql);\\n}\\n\\npublic static function NonQuery(strSQL:String):void\\n{\\n    var sqlConnection:SQLConnection = new SQLConnection();\\n    sqlConnection.open(File.applicationStorageDirectory.resolvePath(DBPATH);\\n    var sqlStatement:SQLStatement = new SQLStatement();\\n    sqlStatement.text = strSQL;\\n    sqlStatement.sqlConnection = sqlConnection;\\n    try\\n    {\\n        sqlStatement.execute();\\n    }\\n    catch (error:SQLError)\\n    {\\n        Alert.show(error.toString());\\n    }\\n}\\n</code></pre>\\n\\n<p>No errors are generated, however only <code>tRole</code> exists. It seems that it only looks at the first query (up to the semicolon- if I remove it, the query fails). Is there a way to call multiple queries in one statement?</p>\\n']\n",
      "2 ['90', '58', '2008-08-01T14:41:24Z', '2012-12-26T03:45:49Z', '144', 'Good branching and merging tutorials for TortoiseSVN?', '<p>Are there any really good tutorials explaining <a href=\"http://svnbook.red-bean.com/en/1.8/svn.branchmerge.html\" rel=\"nofollow\">branching and merging</a> with Apache Subversion? </p>\\n\\n<p>All the better if it\\'s specific to TortoiseSVN client.</p>\\n']\n",
      "3 ['120', '83', '2008-08-01T15:50:08Z', 'NA', '21', 'ASP.NET Site Maps', \"<p>Has anyone got experience creating <strong>SQL-based ASP.NET</strong> site-map providers?</p>\\n\\n<p>I've got the default XML file <code>web.sitemap</code> working properly with my Menu and <strong>SiteMapPath</strong> controls, but I'll need a way for the users of my site to create and modify pages dynamically.</p>\\n\\n<p>I need to tie page viewing permissions into the standard <code>ASP.NET</code> membership system as well.</p>\\n\"]\n",
      "4 ['180', '2089740', '2008-08-01T18:42:19Z', 'NA', '53', 'Function for creating color wheels', \"<p>This is something I've pseudo-solved many times and never quite found a solution. That's stuck with me. The problem is to come up with a way to generate <code>N</code> colors, that are as distinguishable as possible where <code>N</code> is a parameter.</p>\\n\"]\n",
      "5 ['260', '91', '2008-08-01T23:22:08Z', 'NA', '49', 'Adding scripting functionality to .NET applications', '<p>I have a little game written in C#. It uses a database as back-end. It\\'s \\na <a href=\"http://en.wikipedia.org/wiki/Collectible_card_game\">trading card game</a>, and I wanted to implement the function of the cards as a script.</p>\\n\\n<p>What I mean is that I essentially have an interface, <code>ICard</code>, which a card class implements (<code>public class Card056 : ICard</code>) and which contains function that are called by the game.</p>\\n\\n<p>Now, to make the thing maintainable/moddable, I would like to have the class for each card as source code in the database and essentially compile it on first use. So when I have to add/change a card, I\\'ll just add it to the database and tell my application to refresh, without needing any assembly deployment (especially since we would be talking about 1 assembly per card which means hundreds of assemblies).</p>\\n\\n<p>Is that possible? Register a class from a source file and then instantiate it, etc.</p>\\n\\n<pre><code>ICard Cards[current] = new MyGame.CardLibrary.Card056();\\nCards[current].OnEnterPlay(ref currentGameState);\\n</code></pre>\\n\\n<p>The language is C#, but extra bonus if it\\'s possible to write the script in any .NET language.</p>\\n']\n",
      "6 ['330', '63', '2008-08-02T02:51:36Z', 'NA', '29', 'Should I use nested classes in this case?', \"<p>I am working on a collection of classes used for video playback and recording. I have one main class which acts like the public interface, with methods like <code>play()</code>, <code>stop()</code>, <code>pause()</code>, <code>record()</code> etc... Then I have workhorse classes which do the video decoding and video encoding. </p>\\n\\n<p>I just learned about the existence of nested classes in C++, and I'm curious to know what programmers think about using them. I am a little wary and not really sure what the benefits/drawbacks are, but they seem (according to the book I'm reading) to be used in cases such as mine.</p>\\n\\n<p>The book suggests that in a scenario like mine, a good solution would be to nest the workhorse classes inside the interface class, so there are no separate files for classes the client is not meant to use, and to avoid any possible naming conflicts? I don't know about these justifications. Nested classes are a new concept to me. Just want to see what programmers think about the issue.</p>\\n\"]\n",
      "7 ['470', '71', '2008-08-02T15:11:47Z', '2016-03-26T05:23:29Z', '13', 'Homegrown consumption of web services', \"<p>I've been writing a few web services for a .net app, now I'm ready to consume them. I've seen numerous examples where there is homegrown code for consuming the service as opposed to using the auto generated methods Visual Studio creates when adding the web reference. </p>\\n\\n<p>Is there some advantage to this?</p>\\n\"]\n",
      "8 ['580', '91', '2008-08-02T23:30:59Z', 'NA', '21', 'Deploying SQL Server Databases from Test to Live', '<p>I wonder how you guys manage deployment of a database between 2 SQL Servers, specifically SQL Server 2005.\\nNow, there is a development and a live one. As this should be part of a buildscript (standard windows batch, even do with current complexity of those scripts, i might switch to PowerShell or so later), Enterprise Manager/Management Studio Express do not count.</p>\\n\\n<p>Would you just copy the .mdf File and attach it? I am always a bit careful when working with binary data, as this seems to be a compatiblity issue (even though development and live should run the same version of the server at all time).</p>\\n\\n<p>Or - given the lack of \"EXPLAIN CREATE TABLE\" in T-SQL - do you do something that exports an existing database into SQL-Scripts which you can run on the target server? If yes, is there a tool that can automatically dump a given Database into SQL Queries and that runs off the command line? (Again, Enterprise Manager/Management Studio Express do not count).</p>\\n\\n<p>And lastly - given the fact that the live database already contains data, the deployment may not involve creating all tables but rather checking the difference in structure and ALTER TABLE the live ones instead, which may also need data verification/conversion when existing fields change.</p>\\n\\n<p>Now, i hear a lot of great stuff about the <a href=\"http://www.red-gate.com/products/index.htm\">Red Gate</a> products, but for hobby projects, the price is a bit steep.</p>\\n\\n<p>So, what are you using to automatically deploy SQL Server Databases from Test to Live?</p>\\n']\n",
      "9 ['650', '143', '2008-08-03T11:12:52Z', 'NA', '79', 'Automatically update version number', \"<p>I would like the version property of my application to be incremented for each build but I'm not sure on how to enable this functionality in Visual Studio (2005/2008). I have tried to specify the AssemblyVersion as 1.0.* but it doesn't get me exactly what I want. </p>\\n\\n<p>I'm also using a settings file and in earlier attempts when the assembly version changed my settings got reset to the default since the application looked for the settings file in another directory. </p>\\n\\n<p>I would like to be able to display a version number in the form of 1.1.38 so when a user finds a problem I can log the version they are using as well as tell them to upgrade if they have an old release.</p>\\n\\n<p>A short explanation of how the versioning works would also be appreciated. When does the build and revision number get incremented?</p>\"]\n",
      "10 ['810', '233', '2008-08-03T20:35:01Z', 'NA', '9', 'Visual Studio Setup Project - Per User Registry Settings', \"<p>I'm trying to maintain a Setup Project in <code>Visual Studio 2003</code> (yes, it's a legacy application). The problem we have at the moment is that we need to write registry entries to <code>HKCU</code> for every user on the computer. They need to be in the <code>HKCU</code> rather than <code>HKLM</code> because they are the default user settings, and they do change per user. My feeling is that</p>\\n\\n<ol>\\n<li>This isn't possible</li>\\n<li>This isn't something the installer should be doing, but something the application should be doing (after all what happens when a user profile is created after the install?).</li>\\n</ol>\\n\\n<p>With that in mind, I still want to change as little as possible in the application, so my question is, <strong>is it possible to add registry entries for every user in a <code>Visual Studio 2003</code> setup project?</strong> </p>\\n\\n<p>And, at the moment the project lists five registry root keys (<code>HKEY_CLASSES_ROOT, HKEY_CURRENT_USER</code>, <code>HKEY_LOCAL_MACHINE</code>, <code>HKEY_USERS</code>, and User/Machine Hive). I don't really know anything about the Users root key, and haven't seen User/Machine Hive. Can anyone enlighten me on what they are? Perhaps they could solve my problem above.</p>\\n\"]\n",
      "11 ['930', '245', '2008-08-04T00:47:25Z', 'NA', '28', 'How do I connect to a database and loop over a recordset in C#?', \"<p>What's the simplest way to connect and query a database for a set of records in C#?</p>\\n\"]\n"
     ]
    }
   ],
   "source": [
    "with open('data/StackOverflowQ&A/Questions.csv') as csvfile:\n",
    "    csv_reader = csv.reader(csvfile)\n",
    "    for i, row in enumerate(csv_reader):\n",
    "        print(i, row)\n",
    "        if i>10:\n",
    "            break"
   ]
  },
  {
   "cell_type": "code",
   "execution_count": null,
   "id": "ba15e8bd-671f-4cf6-87a0-8d739e6e0e82",
   "metadata": {},
   "outputs": [],
   "source": []
  },
  {
   "cell_type": "code",
   "execution_count": null,
   "id": "440c22e4-4ed2-4db0-a1b6-a4fa73209aff",
   "metadata": {},
   "outputs": [],
   "source": []
  },
  {
   "cell_type": "code",
   "execution_count": null,
   "id": "80f336be-e066-4d01-9688-c14517832534",
   "metadata": {},
   "outputs": [],
   "source": []
  }
 ],
 "metadata": {
  "kernelspec": {
   "display_name": "Python 3 (ipykernel)",
   "language": "python",
   "name": "python3"
  },
  "language_info": {
   "codemirror_mode": {
    "name": "ipython",
    "version": 3
   },
   "file_extension": ".py",
   "mimetype": "text/x-python",
   "name": "python",
   "nbconvert_exporter": "python",
   "pygments_lexer": "ipython3",
   "version": "3.8.12"
  }
 },
 "nbformat": 4,
 "nbformat_minor": 5
}
