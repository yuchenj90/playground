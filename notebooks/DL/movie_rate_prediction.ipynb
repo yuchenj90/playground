{
 "cells": [
  {
   "cell_type": "code",
   "execution_count": 1,
   "id": "3d771f08-9e37-4261-b9dc-20828c2c79c5",
   "metadata": {
    "tags": []
   },
   "outputs": [],
   "source": [
    "import torch\n",
    "import pandas as pd\n",
    "from torch.utils.data import DataLoader, TensorDataset\n",
    "from torch import nn\n",
    "import numpy as np"
   ]
  },
  {
   "cell_type": "code",
   "execution_count": 2,
   "id": "13dfc5cc-af82-40ea-806c-09cc13d020e0",
   "metadata": {
    "tags": []
   },
   "outputs": [],
   "source": [
    "data_cols = ['user_id', 'movie_id', 'rating', 'ts']\n",
    "data = []\n",
    "with open('data/ml-100k/u.data', 'r') as f:\n",
    "    while True:\n",
    "        l = f.readline() \n",
    "        if not l:\n",
    "            break\n",
    "        res = l[:-1].split('\\t')\n",
    "        info_d = {}\n",
    "        for i in range(len(data_cols)):\n",
    "            info_d[data_cols[i]] = res[i]\n",
    "        data.append(info_d)"
   ]
  },
  {
   "cell_type": "code",
   "execution_count": 3,
   "id": "c478e719-53a0-4cb3-94cf-cf044d3d596a",
   "metadata": {
    "tags": []
   },
   "outputs": [],
   "source": [
    "item_cols = ['movie_id', 'movie_title', 'release_date', 'video_release_date', 'IMDb_url', 'unknown', 'Action', \n",
    "'Adventure', 'Animation', \"Children's\", \"Comedy\", \"Crime\", \"Documentary\", \"Drama\", \"Fantasy\", \"Film-Noir\",\n",
    "\"Horror\", \"Musical\", \"Mystery\", \"Romance\", \"Sci-Fi\", \"Thriller\", \"War\", \"Western\"]\n",
    "items = []\n",
    "with open('data/ml-100k/u.item', 'r', encoding='ISO-8859-1') as f:\n",
    "    while True:\n",
    "        l = f.readline()\n",
    "        if not l:\n",
    "            break\n",
    "        res = l[:-1].split('|')\n",
    "        info_d = {}\n",
    "        for i in range(len(item_cols)):\n",
    "            info_d[item_cols[i]] = res[i]\n",
    "        items.append(info_d)"
   ]
  },
  {
   "cell_type": "code",
   "execution_count": 4,
   "id": "c5ecc8d0-bf1e-4f96-ad4b-73e65c8e3c53",
   "metadata": {
    "tags": []
   },
   "outputs": [],
   "source": [
    "user_cols = ['user_id', 'age', 'gender', 'occupation', 'zipcode']\n",
    "users = []\n",
    "with open('data/ml-100k/u.user', 'r', encoding='ISO-8859-1') as f:\n",
    "    while True:\n",
    "        l = f.readline()\n",
    "        if not l:\n",
    "            break\n",
    "        res = l[:-1].split('|')\n",
    "        info_d = {}\n",
    "        for i in range(len(user_cols)):\n",
    "            info_d[user_cols[i]] = res[i]\n",
    "        users.append(info_d)"
   ]
  },
  {
   "cell_type": "code",
   "execution_count": 5,
   "id": "dc323c95-df53-4037-a55b-45496a674b9a",
   "metadata": {
    "tags": []
   },
   "outputs": [],
   "source": [
    "df_items = pd.DataFrame(items)\n",
    "df_users = pd.DataFrame(users)\n",
    "df_data = pd.DataFrame(data)\n",
    "df_data['user_id'] = df_data['user_id'].astype(int)\n",
    "df_data['movie_id'] = df_data['movie_id'].astype(int)\n",
    "df_data['rating'] = df_data['rating'].astype('float32')"
   ]
  },
  {
   "cell_type": "code",
   "execution_count": 6,
   "id": "34716749-4666-499f-9169-60de7a362cd5",
   "metadata": {
    "tags": []
   },
   "outputs": [],
   "source": [
    "from sklearn.model_selection import train_test_split\n",
    "df_train, df_test = train_test_split(df_data, random_state=1, test_size=0.4)\n",
    "df_val = df_test[:len(df_test)//4]\n",
    "df_test = df_test[len(df_test)//4:]\n",
    "\n",
    "X_train = np.array(df_train[['user_id', 'movie_id']])\n",
    "y_train = np.array(df_train['rating'])\n",
    "X_val = np.array(df_val[['user_id', 'movie_id']])\n",
    "y_val = np.array(df_val['rating'])\n",
    "X_test = np.array(df_test[['user_id', 'movie_id']])\n",
    "y_test = np.array(df_test['rating'])"
   ]
  },
  {
   "cell_type": "code",
   "execution_count": 7,
   "id": "e065e9eb-008b-4ce2-92f4-a79c665ffb50",
   "metadata": {
    "tags": []
   },
   "outputs": [],
   "source": [
    "n_users = len(df_users)\n",
    "n_items = len(df_items)"
   ]
  },
  {
   "cell_type": "markdown",
   "id": "d94496fb-3441-444f-920c-877dc704df96",
   "metadata": {
    "tags": []
   },
   "source": [
    "## prepare batch data"
   ]
  },
  {
   "cell_type": "code",
   "execution_count": 8,
   "id": "d64ce49d-7fd8-4abf-b4b0-53eff77db318",
   "metadata": {
    "tags": []
   },
   "outputs": [],
   "source": [
    "def prep_batch_dataset(X, y, batch_size):\n",
    "    tensorX = torch.tensor(X)\n",
    "    tensory = torch.tensor(y)\n",
    "    dataset = TensorDataset(tensorX, tensory)\n",
    "    dl = DataLoader(dataset, batch_size)\n",
    "    return dl"
   ]
  },
  {
   "cell_type": "code",
   "execution_count": 9,
   "id": "60b0b542-e445-487e-aeb6-85ffd2a27602",
   "metadata": {
    "tags": []
   },
   "outputs": [],
   "source": [
    "batch_size = 1024\n",
    "dl_train = prep_batch_dataset(X_train, y_train, batch_size)\n",
    "dl_val = prep_batch_dataset(X_val, y_val, batch_size)\n",
    "dl_test = prep_batch_dataset(X_test, y_test, batch_size)"
   ]
  },
  {
   "cell_type": "markdown",
   "id": "1ac96993-d4d3-452f-8a66-4c2a14f428d0",
   "metadata": {
    "tags": []
   },
   "source": [
    "# Matrix Factorization"
   ]
  },
  {
   "cell_type": "code",
   "execution_count": 79,
   "id": "07514967-2572-46a2-b5a1-82ef16c99bf6",
   "metadata": {},
   "outputs": [],
   "source": [
    "from torch import nn\n",
    "\n",
    "class MatrixFactorization(nn.Module):\n",
    "    def __init__(self, num_users, num_items, dim):\n",
    "        super().__init__()\n",
    "        self.n_users = num_users\n",
    "        self.n_items = num_items\n",
    "        self.user_embedding = nn.Embedding(self.n_users, dim, sparse=True)\n",
    "        self.item_embedding = nn.Embedding(self.n_items, dim, sparse=True)\n",
    "    \n",
    "    def forward(self, user, item):\n",
    "        return (self.user_embedding(user) * self.item_embedding(item)).sum(axis=1)"
   ]
  },
  {
   "cell_type": "code",
   "execution_count": 80,
   "id": "752bd329-d97d-475b-8f55-3a9b6c295a09",
   "metadata": {
    "tags": []
   },
   "outputs": [
    {
     "data": {
      "text/plain": [
       "<generator object Module.named_parameters at 0x2b0da9b30>"
      ]
     },
     "execution_count": 80,
     "metadata": {},
     "output_type": "execute_result"
    }
   ],
   "source": [
    "model.named_parameters()"
   ]
  },
  {
   "cell_type": "code",
   "execution_count": 81,
   "id": "95542c95-9892-4e18-94eb-9652838e5f7d",
   "metadata": {},
   "outputs": [],
   "source": [
    "model = MatrixFactorization(n_users+1, n_items+1, dim=100)\n",
    "alpha = 1\n",
    "loss_fn = nn.MSELoss()\n",
    "opt = torch.optim.SparseAdam(model.parameters())"
   ]
  },
  {
   "cell_type": "code",
   "execution_count": 82,
   "id": "0c3a9a47-ee77-4676-8b35-1bd4f3c4a887",
   "metadata": {
    "tags": []
   },
   "outputs": [
    {
     "name": "stdout",
     "output_type": "stream",
     "text": [
      "Iteration 0, Train loss = 130.3518, Val loss = 128.7564, Test loss = 128.9979\n",
      "Iteration 10, Train loss = 83.0928, Val loss = 107.5646, Test loss = 107.8861\n",
      "Iteration 20, Train loss = 57.3953, Val loss = 94.0227, Test loss = 94.4044\n",
      "Iteration 30, Train loss = 42.3057, Val loss = 84.5172, Test loss = 84.9488\n",
      "Iteration 40, Train loss = 32.8826, Val loss = 77.1413, Test loss = 77.6146\n",
      "Iteration 50, Train loss = 26.6466, Val loss = 70.773, Test loss = 71.2716\n",
      "Iteration 60, Train loss = 22.3334, Val loss = 64.8159, Test loss = 65.3105\n",
      "Iteration 70, Train loss = 19.314, Val loss = 59.1334, Test loss = 59.5957\n",
      "Iteration 80, Train loss = 17.1699, Val loss = 53.7763, Test loss = 54.1826\n",
      "Iteration 90, Train loss = 15.5444, Val loss = 48.7068, Test loss = 49.0417\n",
      "Iteration 100, Train loss = 14.1831, Val loss = 43.7918, Test loss = 44.0498\n",
      "Iteration 110, Train loss = 12.9376, Val loss = 38.9127, Test loss = 39.097\n",
      "Iteration 120, Train loss = 11.7245, Val loss = 34.0155, Test loss = 34.1359\n",
      "Iteration 130, Train loss = 10.5221, Val loss = 29.1339, Test loss = 29.2082\n",
      "Iteration 140, Train loss = 9.3402, Val loss = 24.3688, Test loss = 24.4161\n",
      "Iteration 150, Train loss = 8.2103, Val loss = 19.876, Test loss = 19.9072\n",
      "Iteration 160, Train loss = 7.1731, Val loss = 15.8318, Test loss = 15.8537\n",
      "Iteration 170, Train loss = 6.2654, Val loss = 12.3982, Test loss = 12.412\n",
      "Iteration 180, Train loss = 5.5101, Val loss = 9.676, Test loss = 9.6846\n",
      "Iteration 190, Train loss = 4.9135, Val loss = 7.6785, Test loss = 7.6846\n",
      "Iteration 200, Train loss = 4.4705, Val loss = 6.3257, Test loss = 6.3297\n",
      "Iteration 210, Train loss = 4.1652, Val loss = 5.4732, Test loss = 5.4751\n",
      "Iteration 220, Train loss = 3.9702, Val loss = 4.9621, Test loss = 4.9621\n",
      "Iteration 230, Train loss = 3.8535, Val loss = 4.6628, Test loss = 4.6615\n",
      "Iteration 240, Train loss = 3.7867, Val loss = 4.4875, Test loss = 4.4855\n",
      "Iteration 250, Train loss = 3.7491, Val loss = 4.3832, Test loss = 4.381\n",
      "Iteration 260, Train loss = 3.7276, Val loss = 4.3199, Test loss = 4.3177\n",
      "Iteration 270, Train loss = 3.7149, Val loss = 4.2805, Test loss = 4.2786\n",
      "Iteration 280, Train loss = 3.7071, Val loss = 4.2555, Test loss = 4.2537\n",
      "Iteration 290, Train loss = 3.702, Val loss = 4.2392, Test loss = 4.2376\n",
      "Iteration 300, Train loss = 3.6985, Val loss = 4.2284, Test loss = 4.227\n",
      "Iteration 310, Train loss = 3.6961, Val loss = 4.2211, Test loss = 4.2198\n",
      "Iteration 320, Train loss = 3.6943, Val loss = 4.2161, Test loss = 4.2149\n",
      "Iteration 330, Train loss = 3.693, Val loss = 4.2127, Test loss = 4.2115\n",
      "Iteration 340, Train loss = 3.692, Val loss = 4.2103, Test loss = 4.2091\n",
      "Iteration 350, Train loss = 3.6912, Val loss = 4.2085, Test loss = 4.2074\n",
      "Iteration 360, Train loss = 3.6905, Val loss = 4.2073, Test loss = 4.2062\n",
      "Iteration 370, Train loss = 3.69, Val loss = 4.2065, Test loss = 4.2054\n",
      "Iteration 380, Train loss = 3.6896, Val loss = 4.2058, Test loss = 4.2048\n",
      "Iteration 390, Train loss = 3.6893, Val loss = 4.2054, Test loss = 4.2043\n",
      "Iteration 400, Train loss = 3.689, Val loss = 4.2051, Test loss = 4.204\n",
      "Iteration 410, Train loss = 3.6887, Val loss = 4.2048, Test loss = 4.2038\n",
      "Iteration 420, Train loss = 3.6885, Val loss = 4.2047, Test loss = 4.2037\n",
      "Iteration 430, Train loss = 3.6884, Val loss = 4.2046, Test loss = 4.2036\n",
      "Iteration 440, Train loss = 3.6882, Val loss = 4.2045, Test loss = 4.2035\n",
      "Iteration 450, Train loss = 3.6881, Val loss = 4.2044, Test loss = 4.2034\n",
      "Iteration 460, Train loss = 3.688, Val loss = 4.2044, Test loss = 4.2034\n",
      "Iteration 470, Train loss = 3.6879, Val loss = 4.2043, Test loss = 4.2034\n",
      "Iteration 480, Train loss = 3.6878, Val loss = 4.2043, Test loss = 4.2034\n",
      "Iteration 490, Train loss = 3.6877, Val loss = 4.2043, Test loss = 4.2034\n",
      "Iteration 500, Train loss = 3.6876, Val loss = 4.2043, Test loss = 4.2034\n",
      "Iteration 510, Train loss = 3.6876, Val loss = 4.2042, Test loss = 4.2034\n",
      "Iteration 520, Train loss = 3.6875, Val loss = 4.2042, Test loss = 4.2034\n",
      "Iteration 530, Train loss = 3.6875, Val loss = 4.2042, Test loss = 4.2034\n",
      "Iteration 540, Train loss = 3.6874, Val loss = 4.2042, Test loss = 4.2034\n",
      "Iteration 550, Train loss = 3.6874, Val loss = 4.2042, Test loss = 4.2034\n",
      "Iteration 560, Train loss = 3.6873, Val loss = 4.2041, Test loss = 4.2033\n",
      "Iteration 570, Train loss = 3.6873, Val loss = 4.2041, Test loss = 4.2033\n",
      "Iteration 580, Train loss = 3.6873, Val loss = 4.2041, Test loss = 4.2033\n",
      "Iteration 590, Train loss = 3.6872, Val loss = 4.2041, Test loss = 4.2033\n",
      "Iteration 600, Train loss = 3.6872, Val loss = 4.204, Test loss = 4.2033\n",
      "Iteration 610, Train loss = 3.6872, Val loss = 4.204, Test loss = 4.2033\n",
      "Iteration 620, Train loss = 3.6871, Val loss = 4.204, Test loss = 4.2033\n",
      "Iteration 630, Train loss = 3.6871, Val loss = 4.2039, Test loss = 4.2033\n",
      "Iteration 640, Train loss = 3.6871, Val loss = 4.2039, Test loss = 4.2033\n",
      "Iteration 650, Train loss = 3.6871, Val loss = 4.2039, Test loss = 4.2033\n",
      "Iteration 660, Train loss = 3.687, Val loss = 4.2039, Test loss = 4.2033\n",
      "Iteration 670, Train loss = 3.687, Val loss = 4.2038, Test loss = 4.2032\n",
      "Iteration 680, Train loss = 3.687, Val loss = 4.2038, Test loss = 4.2032\n",
      "Iteration 690, Train loss = 3.687, Val loss = 4.2038, Test loss = 4.2032\n",
      "Iteration 700, Train loss = 3.687, Val loss = 4.2037, Test loss = 4.2032\n",
      "Iteration 710, Train loss = 3.6869, Val loss = 4.2037, Test loss = 4.2032\n",
      "Iteration 720, Train loss = 3.6869, Val loss = 4.2037, Test loss = 4.2032\n",
      "Iteration 730, Train loss = 3.6869, Val loss = 4.2036, Test loss = 4.2031\n",
      "Iteration 740, Train loss = 3.6869, Val loss = 4.2036, Test loss = 4.2031\n",
      "Iteration 750, Train loss = 3.6869, Val loss = 4.2036, Test loss = 4.2031\n",
      "Iteration 760, Train loss = 3.6868, Val loss = 4.2035, Test loss = 4.2031\n",
      "Iteration 770, Train loss = 3.6868, Val loss = 4.2035, Test loss = 4.2031\n",
      "Iteration 780, Train loss = 3.6868, Val loss = 4.2035, Test loss = 4.203\n",
      "Iteration 790, Train loss = 3.6868, Val loss = 4.2034, Test loss = 4.203\n",
      "Iteration 800, Train loss = 3.6868, Val loss = 4.2034, Test loss = 4.203\n",
      "Iteration 810, Train loss = 3.6868, Val loss = 4.2034, Test loss = 4.203\n",
      "Iteration 820, Train loss = 3.6867, Val loss = 4.2033, Test loss = 4.203\n",
      "Iteration 830, Train loss = 3.6867, Val loss = 4.2033, Test loss = 4.2029\n",
      "Iteration 840, Train loss = 3.6867, Val loss = 4.2033, Test loss = 4.2029\n"
     ]
    },
    {
     "ename": "KeyboardInterrupt",
     "evalue": "",
     "output_type": "error",
     "traceback": [
      "\u001b[0;31m---------------------------------------------------------------------------\u001b[0m",
      "\u001b[0;31mKeyboardInterrupt\u001b[0m                         Traceback (most recent call last)",
      "Cell \u001b[0;32mIn[82], line 16\u001b[0m\n\u001b[1;32m     14\u001b[0m     batch_loss \u001b[38;5;241m+\u001b[39m\u001b[38;5;241m=\u001b[39m alpha \u001b[38;5;241m*\u001b[39m torch\u001b[38;5;241m.\u001b[39mnorm(model\u001b[38;5;241m.\u001b[39mitem_embedding(torch\u001b[38;5;241m.\u001b[39mtensor(\u001b[38;5;28mrange\u001b[39m(model\u001b[38;5;241m.\u001b[39mn_items))), dim\u001b[38;5;241m=\u001b[39m\u001b[38;5;241m1\u001b[39m)\u001b[38;5;241m.\u001b[39mmean()\n\u001b[1;32m     15\u001b[0m     batch_loss\u001b[38;5;241m.\u001b[39mbackward()\n\u001b[0;32m---> 16\u001b[0m     \u001b[43mopt\u001b[49m\u001b[38;5;241;43m.\u001b[39;49m\u001b[43mstep\u001b[49m\u001b[43m(\u001b[49m\u001b[43m)\u001b[49m\n\u001b[1;32m     17\u001b[0m     epoch_losses_train\u001b[38;5;241m.\u001b[39mappend(batch_loss\u001b[38;5;241m.\u001b[39mitem())\n\u001b[1;32m     18\u001b[0m losses_train\u001b[38;5;241m.\u001b[39mappend(np\u001b[38;5;241m.\u001b[39marray(epoch_losses_train)\u001b[38;5;241m.\u001b[39mmean())\n",
      "File \u001b[0;32m~/personal/repos/playground/env/lib/python3.8/site-packages/torch/optim/optimizer.py:280\u001b[0m, in \u001b[0;36mOptimizer.profile_hook_step.<locals>.wrapper\u001b[0;34m(*args, **kwargs)\u001b[0m\n\u001b[1;32m    276\u001b[0m         \u001b[38;5;28;01melse\u001b[39;00m:\n\u001b[1;32m    277\u001b[0m             \u001b[38;5;28;01mraise\u001b[39;00m \u001b[38;5;167;01mRuntimeError\u001b[39;00m(\u001b[38;5;124mf\u001b[39m\u001b[38;5;124m\"\u001b[39m\u001b[38;5;132;01m{\u001b[39;00mfunc\u001b[38;5;132;01m}\u001b[39;00m\u001b[38;5;124m must return None or a tuple of (new_args, new_kwargs),\u001b[39m\u001b[38;5;124m\"\u001b[39m\n\u001b[1;32m    278\u001b[0m                                \u001b[38;5;124mf\u001b[39m\u001b[38;5;124m\"\u001b[39m\u001b[38;5;124mbut got \u001b[39m\u001b[38;5;132;01m{\u001b[39;00mresult\u001b[38;5;132;01m}\u001b[39;00m\u001b[38;5;124m.\u001b[39m\u001b[38;5;124m\"\u001b[39m)\n\u001b[0;32m--> 280\u001b[0m out \u001b[38;5;241m=\u001b[39m \u001b[43mfunc\u001b[49m\u001b[43m(\u001b[49m\u001b[38;5;241;43m*\u001b[39;49m\u001b[43margs\u001b[49m\u001b[43m,\u001b[49m\u001b[43m \u001b[49m\u001b[38;5;241;43m*\u001b[39;49m\u001b[38;5;241;43m*\u001b[39;49m\u001b[43mkwargs\u001b[49m\u001b[43m)\u001b[49m\n\u001b[1;32m    281\u001b[0m \u001b[38;5;28mself\u001b[39m\u001b[38;5;241m.\u001b[39m_optimizer_step_code()\n\u001b[1;32m    283\u001b[0m \u001b[38;5;66;03m# call optimizer step post hooks\u001b[39;00m\n",
      "File \u001b[0;32m~/personal/repos/playground/env/lib/python3.8/site-packages/torch/utils/_contextlib.py:115\u001b[0m, in \u001b[0;36mcontext_decorator.<locals>.decorate_context\u001b[0;34m(*args, **kwargs)\u001b[0m\n\u001b[1;32m    112\u001b[0m \u001b[38;5;129m@functools\u001b[39m\u001b[38;5;241m.\u001b[39mwraps(func)\n\u001b[1;32m    113\u001b[0m \u001b[38;5;28;01mdef\u001b[39;00m \u001b[38;5;21mdecorate_context\u001b[39m(\u001b[38;5;241m*\u001b[39margs, \u001b[38;5;241m*\u001b[39m\u001b[38;5;241m*\u001b[39mkwargs):\n\u001b[1;32m    114\u001b[0m     \u001b[38;5;28;01mwith\u001b[39;00m ctx_factory():\n\u001b[0;32m--> 115\u001b[0m         \u001b[38;5;28;01mreturn\u001b[39;00m \u001b[43mfunc\u001b[49m\u001b[43m(\u001b[49m\u001b[38;5;241;43m*\u001b[39;49m\u001b[43margs\u001b[49m\u001b[43m,\u001b[49m\u001b[43m \u001b[49m\u001b[38;5;241;43m*\u001b[39;49m\u001b[38;5;241;43m*\u001b[39;49m\u001b[43mkwargs\u001b[49m\u001b[43m)\u001b[49m\n",
      "File \u001b[0;32m~/personal/repos/playground/env/lib/python3.8/site-packages/torch/optim/sparse_adam.py:87\u001b[0m, in \u001b[0;36mSparseAdam.step\u001b[0;34m(self, closure)\u001b[0m\n\u001b[1;32m     84\u001b[0m             \u001b[38;5;66;03m# record the step after step update\u001b[39;00m\n\u001b[1;32m     85\u001b[0m             state_steps\u001b[38;5;241m.\u001b[39mappend(state[\u001b[38;5;124m'\u001b[39m\u001b[38;5;124mstep\u001b[39m\u001b[38;5;124m'\u001b[39m])\n\u001b[0;32m---> 87\u001b[0m     \u001b[43mF\u001b[49m\u001b[38;5;241;43m.\u001b[39;49m\u001b[43msparse_adam\u001b[49m\u001b[43m(\u001b[49m\u001b[43mparams_with_grad\u001b[49m\u001b[43m,\u001b[49m\n\u001b[1;32m     88\u001b[0m \u001b[43m                  \u001b[49m\u001b[43mgrads\u001b[49m\u001b[43m,\u001b[49m\n\u001b[1;32m     89\u001b[0m \u001b[43m                  \u001b[49m\u001b[43mexp_avgs\u001b[49m\u001b[43m,\u001b[49m\n\u001b[1;32m     90\u001b[0m \u001b[43m                  \u001b[49m\u001b[43mexp_avg_sqs\u001b[49m\u001b[43m,\u001b[49m\n\u001b[1;32m     91\u001b[0m \u001b[43m                  \u001b[49m\u001b[43mstate_steps\u001b[49m\u001b[43m,\u001b[49m\n\u001b[1;32m     92\u001b[0m \u001b[43m                  \u001b[49m\u001b[43mbeta1\u001b[49m\u001b[38;5;241;43m=\u001b[39;49m\u001b[43mbeta1\u001b[49m\u001b[43m,\u001b[49m\n\u001b[1;32m     93\u001b[0m \u001b[43m                  \u001b[49m\u001b[43mbeta2\u001b[49m\u001b[38;5;241;43m=\u001b[39;49m\u001b[43mbeta2\u001b[49m\u001b[43m,\u001b[49m\n\u001b[1;32m     94\u001b[0m \u001b[43m                  \u001b[49m\u001b[43mlr\u001b[49m\u001b[38;5;241;43m=\u001b[39;49m\u001b[43mgroup\u001b[49m\u001b[43m[\u001b[49m\u001b[38;5;124;43m'\u001b[39;49m\u001b[38;5;124;43mlr\u001b[39;49m\u001b[38;5;124;43m'\u001b[39;49m\u001b[43m]\u001b[49m\u001b[43m,\u001b[49m\n\u001b[1;32m     95\u001b[0m \u001b[43m                  \u001b[49m\u001b[43meps\u001b[49m\u001b[38;5;241;43m=\u001b[39;49m\u001b[43mgroup\u001b[49m\u001b[43m[\u001b[49m\u001b[38;5;124;43m'\u001b[39;49m\u001b[38;5;124;43meps\u001b[39;49m\u001b[38;5;124;43m'\u001b[39;49m\u001b[43m]\u001b[49m\u001b[43m,\u001b[49m\n\u001b[1;32m     96\u001b[0m \u001b[43m                  \u001b[49m\u001b[43mmaximize\u001b[49m\u001b[38;5;241;43m=\u001b[39;49m\u001b[43mmaximize\u001b[49m\u001b[43m)\u001b[49m\n\u001b[1;32m     98\u001b[0m \u001b[38;5;28;01mreturn\u001b[39;00m loss\n",
      "File \u001b[0;32m~/personal/repos/playground/env/lib/python3.8/site-packages/torch/optim/_functional.py:72\u001b[0m, in \u001b[0;36msparse_adam\u001b[0;34m(params, grads, exp_avgs, exp_avg_sqs, state_steps, eps, beta1, beta2, lr, maximize)\u001b[0m\n\u001b[1;32m     70\u001b[0m numer \u001b[38;5;241m=\u001b[39m exp_avg_update_values\u001b[38;5;241m.\u001b[39madd_(old_exp_avg_values)\n\u001b[1;32m     71\u001b[0m exp_avg_sq_update_values\u001b[38;5;241m.\u001b[39madd_(old_exp_avg_sq_values)\n\u001b[0;32m---> 72\u001b[0m denom \u001b[38;5;241m=\u001b[39m \u001b[43mexp_avg_sq_update_values\u001b[49m\u001b[38;5;241;43m.\u001b[39;49m\u001b[43msqrt_\u001b[49m\u001b[43m(\u001b[49m\u001b[43m)\u001b[49m\u001b[38;5;241m.\u001b[39madd_(eps)\n\u001b[1;32m     73\u001b[0m \u001b[38;5;28;01mdel\u001b[39;00m exp_avg_update_values, exp_avg_sq_update_values\n\u001b[1;32m     75\u001b[0m bias_correction1 \u001b[38;5;241m=\u001b[39m \u001b[38;5;241m1\u001b[39m \u001b[38;5;241m-\u001b[39m beta1 \u001b[38;5;241m*\u001b[39m\u001b[38;5;241m*\u001b[39m step\n",
      "\u001b[0;31mKeyboardInterrupt\u001b[0m: "
     ]
    }
   ],
   "source": [
    "n_epochs = 1000\n",
    "losses_train = []\n",
    "losses_val = []\n",
    "losses_test = []\n",
    "alpha = 1\n",
    "\n",
    "for i in range(n_epochs):\n",
    "    epoch_losses_train = []\n",
    "    for bi, (x,y) in enumerate(dl_train):\n",
    "        opt.zero_grad()\n",
    "        y_pred = model(x[:,0],x[:,1])\n",
    "        batch_loss = loss_fn(y_pred, y)\n",
    "        mse = batch_loss\n",
    "        batch_loss += alpha * torch.norm(model.user_embedding(torch.tensor(range(model.n_users))), dim=1).mean() \n",
    "        batch_loss += alpha * torch.norm(model.item_embedding(torch.tensor(range(model.n_items))), dim=1).mean()\n",
    "        batch_loss.backward()\n",
    "        opt.step()\n",
    "        epoch_losses_train.append(batch_loss.item())\n",
    "    losses_train.append(np.array(epoch_losses_train).mean())\n",
    "\n",
    "    if i%10==0:\n",
    "        epoch_losses_val = []\n",
    "        epoch_losses_test = []\n",
    "        for bi, (x,y) in enumerate(dl_val):\n",
    "            y_pred = model(x[:,0], x[:,1])\n",
    "            batch_loss = loss_fn(y_pred, y) \n",
    "            batch_loss += alpha * torch.norm(model.user_embedding(torch.tensor(range(model.n_users))), dim=1).mean() \n",
    "            batch_loss += alpha * torch.norm(model.item_embedding(torch.tensor(range(model.n_items))), dim=1).mean()\n",
    "            epoch_losses_val.append(batch_loss.item())\n",
    "        losses_val.append(np.array(epoch_losses_val).mean())\n",
    "\n",
    "        for bi, (x,y) in enumerate(dl_test):\n",
    "            y_pred = model(x[:,0], x[:,1])\n",
    "            batch_loss = loss_fn(y_pred, y)\n",
    "            batch_loss += alpha * torch.norm(model.user_embedding(torch.tensor(range(model.n_users))), dim=1).mean() \n",
    "            batch_loss += alpha * torch.norm(model.item_embedding(torch.tensor(range(model.n_items))), dim=1).mean()\n",
    "            epoch_losses_test.append(batch_loss.item())\n",
    "        losses_test.append(np.array(epoch_losses_test).mean())\n",
    "        \n",
    "        print(f'Iteration {i}, Train loss = {round(losses_train[-1],4)}, Val loss = {round(losses_val[-1],4)}, Test loss = {round(losses_test[-1],4)}')\n",
    "    \n",
    "        if len(losses_val)>1 and losses_val[-1] - losses_val[-2] > 0:\n",
    "            print(f\"Early stopped at iteration {i}\")\n",
    "            break\n",
    "    \n",
    "    "
   ]
  },
  {
   "cell_type": "code",
   "execution_count": null,
   "id": "1e268956-5913-4e05-b1f7-72715a839962",
   "metadata": {},
   "outputs": [],
   "source": [
    "Test loss = 4.2029"
   ]
  },
  {
   "cell_type": "code",
   "execution_count": 104,
   "id": "6292cf09-f852-4b60-b8c9-6b5abc931499",
   "metadata": {
    "tags": []
   },
   "outputs": [
    {
     "data": {
      "text/plain": [
       "[<matplotlib.lines.Line2D at 0x2b86c1d90>]"
      ]
     },
     "execution_count": 104,
     "metadata": {},
     "output_type": "execute_result"
    },
    {
     "data": {
      "image/png": "[encoded data removed]",
      "text/plain": [
       "<Figure size 640x480 with 1 Axes>"
      ]
     },
     "metadata": {},
     "output_type": "display_data"
    }
   ],
   "source": [
    "from matplotlib import pyplot as plt\n",
    "plt.plot(losses_train[:400], color='b')\n",
    "plt.plot(np.arange(0,400,10), losses_val[:40], color='r')"
   ]
  },
  {
   "cell_type": "code",
   "execution_count": 122,
   "id": "5fa55427-c63e-4b93-bdde-8b214be9497c",
   "metadata": {
    "tags": []
   },
   "outputs": [
    {
     "data": {
      "text/plain": [
       "0.37733333333333335"
      ]
     },
     "execution_count": 122,
     "metadata": {},
     "output_type": "execute_result"
    }
   ],
   "source": [
    "((torch.round(.detach().numpy()==y_test).mean()"
   ]
  },
  {
   "cell_type": "code",
   "execution_count": 130,
   "id": "ac776652-788e-4105-86ca-003158068454",
   "metadata": {
    "tags": []
   },
   "outputs": [
    {
     "data": {
      "text/plain": [
       "tensor(1.2603, grad_fn=<MeanBackward0>)"
      ]
     },
     "execution_count": 130,
     "metadata": {},
     "output_type": "execute_result"
    }
   ],
   "source": [
    "(model(torch.tensor(X_test)[:,0], torch.tensor(X_test)[:,1])-torch.tensor(y_test)).pow(2).mean()"
   ]
  },
  {
   "cell_type": "code",
   "execution_count": null,
   "id": "767af1e4-28ca-481a-ad40-e490e39e76a9",
   "metadata": {},
   "outputs": [],
   "source": []
  },
  {
   "cell_type": "markdown",
   "id": "6a08a08d-f50d-44d1-8fda-0e6c8129c0ee",
   "metadata": {},
   "source": [
    "# Include other features"
   ]
  },
  {
   "cell_type": "code",
   "execution_count": 8,
   "id": "57696c54-7c23-4170-82cf-a57c7aaf20d8",
   "metadata": {
    "tags": []
   },
   "outputs": [],
   "source": [
    "from sklearn.preprocessing import MinMaxScaler,StandardScaler"
   ]
  },
  {
   "cell_type": "code",
   "execution_count": 9,
   "id": "6ca2e8dc-c1c0-4fef-a721-a53c6e8fa978",
   "metadata": {
    "tags": []
   },
   "outputs": [],
   "source": [
    "df_users['user_id'] = df_users['user_id'].astype(int)\n",
    "df_users['age'] = df_users['age'].astype(int)\n",
    "df_users['zipcode'] = df_users['zipcode'].map(lambda x: int(x) if x.isdigit() else None)\n",
    "df_users['zipcode'].fillna(df_users['zipcode'].mean(), inplace=True)"
   ]
  },
  {
   "cell_type": "code",
   "execution_count": 10,
   "id": "75370fce-c485-47d2-b4e6-d0d145389cdf",
   "metadata": {
    "tags": []
   },
   "outputs": [],
   "source": [
    "l = list(df_users['occupation'].value_counts().index)\n",
    "for o in l:\n",
    "    df_users[o] = 0\n",
    "    df_users.loc[df_users['occupation']==o, o] = 1\n",
    "    \n",
    "l = list(df_users['gender'].value_counts().index)\n",
    "for g in l:\n",
    "    df_users[g] = 0\n",
    "    df_users.loc[df_users['gender']==g, g] = 1"
   ]
  },
  {
   "cell_type": "code",
   "execution_count": 11,
   "id": "e5eeeea8-1346-477e-8585-af6ed2ddb644",
   "metadata": {
    "tags": []
   },
   "outputs": [],
   "source": [
    "user_scaler = MinMaxScaler()\n",
    "df_users[['age_trans', 'zipcode_trans']] = user_scaler.fit_transform(df_users[['age', 'zipcode']])\n",
    "df_users.drop(columns=['age', 'gender', 'occupation', 'zipcode'], inplace=True)"
   ]
  },
  {
   "cell_type": "code",
   "execution_count": 12,
   "id": "288aac86-05da-4d95-9f91-6568d13af5bf",
   "metadata": {
    "tags": []
   },
   "outputs": [],
   "source": [
    "for col in list(df_users.columns)[1:]:\n",
    "    df_users[col] = df_users[col].astype('float32')"
   ]
  },
  {
   "cell_type": "code",
   "execution_count": 13,
   "id": "a62d089b-b63d-4d90-8a02-80d7473275aa",
   "metadata": {
    "tags": []
   },
   "outputs": [],
   "source": [
    "df_items['movie_id'] = df_items['movie_id'].astype(int)\n",
    "df_items[item_cols[5:]] = df_items[item_cols[5:]].astype(int)\n",
    "df_items.drop(columns=item_cols[1:5], inplace=True)\n",
    "for col in list(df_items.columns)[1:]:\n",
    "    df_items[col] = df_items[col].astype('float32')"
   ]
  },
  {
   "cell_type": "code",
   "execution_count": 14,
   "id": "bed9c171-9edc-4069-a52b-a3623d1446d7",
   "metadata": {
    "tags": []
   },
   "outputs": [],
   "source": [
    "df_train = df_train.merge(df_users, on='user_id').merge(df_items, on='movie_id')\n",
    "df_val = df_val.merge(df_users, on='user_id').merge(df_items, on='movie_id')\n",
    "df_test = df_test.merge(df_users, on='user_id').merge(df_items, on='movie_id')\n",
    "\n",
    "f_list = list(df_train.columns[4:])\n",
    "z_train = np.array(df_train[f_list])\n",
    "z_val = np.array(df_val[f_list])\n",
    "z_test = np.array(df_test[f_list])"
   ]
  },
  {
   "cell_type": "markdown",
   "id": "5e50db9c-3a41-4df8-b66a-ef813026bc2c",
   "metadata": {},
   "source": [
    "## prepare batch dataset"
   ]
  },
  {
   "cell_type": "code",
   "execution_count": 15,
   "id": "85298d79-3f62-40aa-970c-94a9e4faca50",
   "metadata": {
    "tags": []
   },
   "outputs": [],
   "source": [
    "def prep_batch_dataset2(X, z, y, batch_size):\n",
    "    dataset2 = TensorDataset(torch.tensor(X), torch.tensor(z), torch.tensor(y.reshape((-1,1))))\n",
    "    return DataLoader(dataset2, batch_size)"
   ]
  },
  {
   "cell_type": "code",
   "execution_count": 16,
   "id": "4d479ddc-9dea-4878-8dac-e1b67c462039",
   "metadata": {
    "tags": []
   },
   "outputs": [],
   "source": [
    "batch_size = 1024\n",
    "dl2_train = prep_batch_dataset2(X_train, z_train, y_train, batch_size)\n",
    "dl2_val = prep_batch_dataset2(X_val, z_val, y_val, batch_size)\n",
    "dl2_test = prep_batch_dataset2(X_test, z_test, y_test, batch_size)"
   ]
  },
  {
   "cell_type": "markdown",
   "id": "06a62b72-8f4a-4b92-97d2-5b80840bb5c1",
   "metadata": {},
   "source": [
    "# Model"
   ]
  },
  {
   "cell_type": "code",
   "execution_count": 35,
   "id": "ea38b77f-7223-45c0-85b1-0005edd1f1f4",
   "metadata": {
    "tags": []
   },
   "outputs": [],
   "source": [
    "from collections import OrderedDict\n",
    "class DNN(nn.Module):\n",
    "    def __init__(self, n_users, n_items, embedding_dims, hidden_dims, dropout_prob):\n",
    "        def init_weights(m):\n",
    "            if type(m) in [nn.Linear, nn.LazyLinear]:\n",
    "                torch.nn.init.xavier_uniform(m.weight)\n",
    "                m.bias.data.fill_(0.01)\n",
    "            \n",
    "        super().__init__()\n",
    "        self.n_users = n_users\n",
    "        self.n_items = n_items\n",
    "        self.user_embedding = nn.Embedding(self.n_users, embedding_dims['user'])\n",
    "        self.item_embedding = nn.Embedding(self.n_items, embedding_dims['item'])\n",
    "        self.dense_layers = []\n",
    "        for i in range(len(hidden_dims)):\n",
    "            self.dense_layers.append((f\"linear{i}\", nn.LazyLinear(hidden_dims[i])))\n",
    "            self.dense_layers.append((f\"BatchNorm{i}\", nn.LazyBatchNorm1d()))\n",
    "            self.dense_layers.append((f\"Relu{i}\", nn.ReLU()))\n",
    "            self.dense_layers.append((f\"Dropout{i}\", nn.Dropout(dropout_prob)))\n",
    "        self.dense_layers = nn.Sequential(OrderedDict(self.dense_layers))\n",
    "        # self.dense_layers.apply(init_weights)\n",
    "        self.final_layer = nn.LazyLinear(1)\n",
    "        \n",
    "    \n",
    "        \n",
    "    def forward(self, user, item, z):\n",
    "        out = torch.concat((self.user_embedding(user), self.item_embedding(item), z), dim=1)\n",
    "        out = self.dense_layers(out)\n",
    "        out = self.final_layer(out)\n",
    "        return out\n",
    "        "
   ]
  },
  {
   "cell_type": "code",
   "execution_count": 36,
   "id": "c247b7d4-04a2-49a1-adc3-8c056f66f6ae",
   "metadata": {
    "tags": []
   },
   "outputs": [],
   "source": [
    "model2 = DNN(n_users+1, n_items+1, {'user': 50, 'item': 50}, [128, 64, 64, 16], 0.2)"
   ]
  },
  {
   "cell_type": "code",
   "execution_count": 37,
   "id": "0a965666-f093-4565-bb06-2571a7f521d4",
   "metadata": {
    "tags": []
   },
   "outputs": [],
   "source": [
    "loss_fn = nn.MSELoss()\n",
    "opt = torch.optim.Adam(model2.parameters(), lr=0.001)"
   ]
  },
  {
   "cell_type": "code",
   "execution_count": 52,
   "id": "eb8dc27d-9d67-4568-906b-3cca90d4ac5d",
   "metadata": {
    "tags": []
   },
   "outputs": [],
   "source": [
    "alpha = 0.5\n",
    "def train(train_dl, val_dl, test_dl, n_epochs, optimizer, print_every=10):\n",
    "    epoch_loss_train = []\n",
    "    epoch_mse_train = []\n",
    "    epoch_mse_val = []\n",
    "    for i in range(n_epochs):\n",
    "        batch_loss_train = []\n",
    "        batch_mse_train = []\n",
    "        for _, (x,z,y) in enumerate(train_dl):\n",
    "            optimizer.zero_grad()\n",
    "            y_pred = model2(x[:,0], x[:,1], z)\n",
    "            mse_loss = loss_fn(y_pred, y) \n",
    "            loss = loss_fn(y_pred, y) \n",
    "            loss += alpha*torch.norm(model2.user_embedding(torch.tensor(range(model2.n_users))), dim=1).mean()\n",
    "            loss += alpha*torch.norm(model2.item_embedding(torch.tensor(range(model2.n_items))), dim=1).mean() \n",
    "            loss.backward()\n",
    "            optimizer.step()\n",
    "            batch_loss_train.append(loss.item())\n",
    "            batch_mse_train.append(mse_loss.item())\n",
    "        epoch_loss_train.append(np.array(batch_loss_train).mean())\n",
    "        epoch_mse_train.append(np.array(batch_mse_train).mean())\n",
    "        \n",
    "        if i % print_every==0:\n",
    "            batch_mse_val = []\n",
    "            for _, (x,z,y) in enumerate(val_dl):\n",
    "                y_pred = model2(x[:,0], x[:,1], z)\n",
    "                mse_loss = loss_fn(y_pred, y)\n",
    "                batch_mse_val.append(mse_loss.item())\n",
    "            # print(batch_mse_train, batch_mse_val)\n",
    "            epoch_mse_val.append(np.array(batch_mse_val).mean())\n",
    "            print(f\"Iteration {i}, Train loss = {round(epoch_loss_train[-1],4)}, Train MSE = {round(epoch_mse_train[-1],4)}, Validation MSE = {round(epoch_mse_val[-1],4)}\")\n",
    "            if len(epoch_mse_val)>2 and epoch_mse_val[-1] - epoch_mse_val[-2] > 0.01:\n",
    "                print(f\"Early Stopped at iteration {i}, Validation loss increase.\")\n",
    "                break\n",
    "            \n",
    "    return epoch_loss_train, epoch_mse_train, epoch_mse_val\n",
    "                \n",
    "    "
   ]
  },
  {
   "cell_type": "code",
   "execution_count": 53,
   "id": "662c546c-dad9-484f-aece-e92aaa77a983",
   "metadata": {
    "tags": []
   },
   "outputs": [
    {
     "name": "stdout",
     "output_type": "stream",
     "text": [
      "Iteration 0, Train loss = 2.0063, Train MSE = 0.8526, Validation MSE = 1.2027\n",
      "Iteration 10, Train loss = 1.7721, Train MSE = 0.8009, Validation MSE = 1.1997\n",
      "Iteration 20, Train loss = 1.5934, Train MSE = 0.7497, Validation MSE = 1.232\n",
      "Early Stopped at iteration 20, Validation loss increase.\n"
     ]
    }
   ],
   "source": [
    "loss_train, mse_train, mse_val = train(dl2_train, dl2_val, dl2_test, 1000, opt)"
   ]
  },
  {
   "cell_type": "code",
   "execution_count": 54,
   "id": "cda3832e-4990-4fef-ac52-c87a59c263e7",
   "metadata": {
    "tags": []
   },
   "outputs": [
    {
     "data": {
      "text/plain": [
       "tensor(1.9757, grad_fn=<MeanBackward0>)"
      ]
     },
     "execution_count": 54,
     "metadata": {},
     "output_type": "execute_result"
    }
   ],
   "source": [
    "(model2(torch.tensor(X_test)[:,0], torch.tensor(X_test)[:,1], torch.tensor(z_test))-torch.tensor(y_test)).pow(2).mean()"
   ]
  },
  {
   "cell_type": "code",
   "execution_count": null,
   "id": "1a48f759-3815-4247-affc-0c927f1e4119",
   "metadata": {},
   "outputs": [],
   "source": []
  },
  {
   "cell_type": "code",
   "execution_count": null,
   "id": "54690c56-3fda-4680-a92c-0336b00840de",
   "metadata": {},
   "outputs": [],
   "source": []
  }
 ],
 "metadata": {
  "kernelspec": {
   "display_name": "Python 3 (ipykernel)",
   "language": "python",
   "name": "python3"
  },
  "language_info": {
   "codemirror_mode": {
    "name": "ipython",
    "version": 3
   },
   "file_extension": ".py",
   "mimetype": "text/x-python",
   "name": "python",
   "nbconvert_exporter": "python",
   "pygments_lexer": "ipython3",
   "version": "3.8.12"
  }
 },
 "nbformat": 4,
 "nbformat_minor": 5
}
