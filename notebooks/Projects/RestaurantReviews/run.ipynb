{
 "cells": [
  {
   "cell_type": "code",
   "execution_count": 1,
   "id": "a4c419d2-158a-4309-8ace-7e516add4e7b",
   "metadata": {
    "tags": []
   },
   "outputs": [
    {
     "name": "stdout",
     "output_type": "stream",
     "text": [
      "-------------------Getting nearby restaurants-------------------\n",
      "Finished in 17.68631911277771 seconds. Got 1028 restaurants\n",
      "-------------------Getting restaurants reviews-------------------\n",
      "Finished in 51.80638074874878 seconds.\n",
      "-------------------Data post-processing-------------------\n",
      "Finished data post-processing. Data saved to restaurants_info.json\n"
     ]
    }
   ],
   "source": [
    "from main import main\n",
    "import asyncio\n",
    "\n",
    "if __name__ == '__main__':\n",
    "    await main()"
   ]
  },
  {
   "cell_type": "code",
   "execution_count": 2,
   "id": "1f75f4d8-f75e-457f-ba1a-dc1c563dbeca",
   "metadata": {},
   "outputs": [
    {
     "name": "stdout",
     "output_type": "stream",
     "text": [
      "{'name': \"Chi-Chi's Pizza\", 'place_id': 'ChIJUejhsuyIwoARKyaKUeuq4Fo', 'lat': 34.407204, 'lng': -118.462963, 'reviews': [{'author_name': 'Sandra C.', 'author_url': 'https://www.google.com/maps/contrib/114528412671530968185/reviews', 'language': 'en', 'original_language': 'en', 'profile_photo_url': 'https://lh3.googleusercontent.com/a-/ALV-UjUKaeIpb8jiFsv5yyymhJ321By3IatGO3CA0n6zqgH_iTPxddk4mA=s128-c0x00000000-cc-rp-mo-ba7', 'rating': 4, 'relative_time_description': '5 months ago', 'text': \"I love this place the food is good. The service is great & the atmosphere fits perfectly. I normally take it to go, but this time dined in, and I'm glad I did. Our server was great 👍 plenty of leftovers to take home.\", 'time': 1714440067, 'translated': False}, {'author_name': 'Cindy D', 'author_url': 'https://www.google.com/maps/contrib/101203499420288995903/reviews', 'language': 'en', 'original_language': 'en', 'profile_photo_url': 'https://lh3.googleusercontent.com/a/ACg8ocKE86e5S3cTH_13qYDqLu51U-JMWnJfBDPHA2UVE2rf_7Pg2A=s128-c0x00000000-cc-rp-mo-ba6', 'rating': 3, 'relative_time_description': '2 months ago', 'text': 'Haven\\'t been to Chi-Chi\\'s in sometime. My first impression was the prices were a bit too much, that\\'s my humble opinion. One link of Italian sausage was $5, seriously? Our server, apparently was eager to leave as she gave us our antipasto and before I picked up my fork, here comes our entrees. Soon after we were told our server had left. Okay then! The food was good and the server who replaced our original young lady was exceptional. Many thanks to her for stepping in. Another small but noticeable item, no condiments were on the table or offered, so where was the grated cheese or pepper? Chi-Chi\"s, should maybe rethink its pricing? I seriously doubt we will return. We will visit another Italian restaurant that truly runs circles around Chi-Chi\\'s Pizza in every respect, from service to food to pricing. Do I hear unlimited salad and breadsticks calling?', 'time': 1722100606, 'translated': False}, {'author_name': 'Sarah Edminster', 'author_url': 'https://www.google.com/maps/contrib/106524557748505066404/reviews', 'language': 'en', 'original_language': 'en', 'profile_photo_url': 'https://lh3.googleusercontent.com/a/ACg8ocL7cdSAXyvzs2LcFlQNUgAdphN46DnSHE_HWB4dUyVLhiRTug=s128-c0x00000000-cc-rp-mo-ba4', 'rating': 1, 'relative_time_description': '11 months ago', 'text': 'I am not one to post negative reviews but after paying over $50 for pizza and wings I expected not to see hair baked into my pizza. I took a bite of pizza and was happy until a thin dark brown strand of hair got stuck between my teeth. I pulled it out then saw there was more of it baked into the pizza crust. I really expected more out of a place that got such good reviews. What a shame...', 'time': 1699655079, 'translated': False}, {'author_name': 'Briana Ramos', 'author_url': 'https://www.google.com/maps/contrib/110094613831703665604/reviews', 'language': 'en', 'original_language': 'en', 'profile_photo_url': 'https://lh3.googleusercontent.com/a-/ALV-UjURK2yErqP7zWT2S4Zgto1Xw-Y-SJDbn8XDDlsgdrHSWcJOTSss=s128-c0x00000000-cc-rp-mo-ba4', 'rating': 5, 'relative_time_description': '4 months ago', 'text': 'My family and I always love coming here. They have the Best Pizza! The service is always great and they are very friendly. We have been coming here for the past 10 years. Love Love Love it all. Everything on the menu is great! Great pasta! The sauces are so delicious! Thank you', 'time': 1715711472, 'translated': False}, {'author_name': 'Stephanie Sosa', 'author_url': 'https://www.google.com/maps/contrib/109297447800560593174/reviews', 'language': 'en', 'original_language': 'en', 'profile_photo_url': 'https://lh3.googleusercontent.com/a-/ALV-UjVo3zaIwekPAAIPN7pyZQr6bePsn7AFwWFUpXPwqau2JkXlnw-bQg=s128-c0x00000000-cc-rp-mo-ba4', 'rating': 1, 'relative_time_description': 'a year ago', 'text': 'Overall: extremely over priced mediocre pizza\\n\\nBoth pizzas were mainly cheese with toppings and dough wrapped around it. Neither pizza had any discernable amount of sauce. Dough was bland and chewy. Very unbalanced pizza - poor ratios and spread of toppings\\n\\nChicken wings: good amount of meat and sauce.\\n\\nService: slow. The pizza was ready before the wings by at least 10 minutes. Polite servers.\\n\\nAtmosphere: outdated decor', 'time': 1665804738, 'translated': False}, {'author_name': 'Jonathan H', 'author_url': 'https://www.google.com/maps/contrib/112269196806878944678/reviews', 'language': 'en', 'original_language': 'en', 'profile_photo_url': 'https://lh3.googleusercontent.com/a/ACg8ocKPWDBJCQZKo0XzuA86gN-r84DnWps2txIYLyQ6BSubWvi6UA=s128-c0x00000000-cc-rp-mo', 'rating': 1, 'relative_time_description': 'in the last week', 'text': \"Terrible! They now nickel-and-dime for the bread. Bread is no longer complimentary, and they give you ONE piece of bread if you get pastas. This is horrible. This was a MAJOR reason we would come in. Can't wait for other people to find out about this and similarly never visit again, despite coming here for over 15 years. We will not give this restaurant our business ever again (not just an empty threat). And I encourage other people to do the same!\", 'time': 1728163099, 'translated': False}, {'author_name': 'Nancy Portillo', 'author_url': 'https://www.google.com/maps/contrib/112619095837833275308/reviews', 'profile_photo_url': 'https://lh3.googleusercontent.com/a-/ALV-UjXWPzNsfyL2i2L4jJ9dubz8TjqPWYOqSK4qmUd7NRoSgf0EJsJI=s128-c0x00000000-cc-rp-mo-ba4', 'rating': 5, 'relative_time_description': 'in the last week', 'text': '', 'time': 1728113902, 'translated': False}, {'author_name': 'Peggie Cates', 'author_url': 'https://www.google.com/maps/contrib/104871375397256912555/reviews', 'profile_photo_url': 'https://lh3.googleusercontent.com/a/ACg8ocLQx8d4tm2wjLz0fvKyk9hGmoBqYEAFIUbB5gqAixV9UJVGLg=s128-c0x00000000-cc-rp-mo', 'rating': 5, 'relative_time_description': 'in the last week', 'text': '', 'time': 1728052769, 'translated': False}, {'author_name': 'Annette Childree', 'author_url': 'https://www.google.com/maps/contrib/117425492554198383051/reviews', 'language': 'en', 'original_language': 'en', 'profile_photo_url': 'https://lh3.googleusercontent.com/a-/ALV-UjUj-stn8SfEZSnJoTgl1op9SfBIPdARqAmpqvMjLjocsEQVGFQ=s128-c0x00000000-cc-rp-mo', 'rating': 4, 'relative_time_description': 'in the last week', 'text': 'Wonderful food, but has become extremely expensive 😳', 'time': 1727915788, 'translated': False}, {'author_name': 'Dawn Rubacher', 'author_url': 'https://www.google.com/maps/contrib/108496611885301300234/reviews', 'profile_photo_url': 'https://lh3.googleusercontent.com/a/ACg8ocIO0ntcLTrHDASV4a7JdLtV17UQOOhqf7sbFtKh0y2TDBXM2Q=s128-c0x00000000-cc-rp-mo-ba3', 'rating': 5, 'relative_time_description': 'a week ago', 'text': '', 'time': 1727676721, 'translated': False}]}\n"
     ]
    }
   ],
   "source": [
    "import json\n",
    "with open(\"restaurants_info.json\", 'r') as f:\n",
    "    restaurants_info = json.load(f)\n",
    "\n",
    "print(restaurants_info[423])"
   ]
  },
  {
   "cell_type": "code",
   "execution_count": null,
   "id": "5777bfda-1a86-4f34-a8f9-48705ae24448",
   "metadata": {},
   "outputs": [],
   "source": []
  },
  {
   "cell_type": "code",
   "execution_count": null,
   "id": "f84287ad-2968-48a3-bb50-f254e7f50faf",
   "metadata": {},
   "outputs": [],
   "source": []
  },
  {
   "cell_type": "code",
   "execution_count": null,
   "id": "b4778594-792e-43dc-8526-2660c8ea020d",
   "metadata": {},
   "outputs": [],
   "source": []
  }
 ],
 "metadata": {
  "kernelspec": {
   "display_name": "Python 3 (ipykernel)",
   "language": "python",
   "name": "python3"
  },
  "language_info": {
   "codemirror_mode": {
    "name": "ipython",
    "version": 3
   },
   "file_extension": ".py",
   "mimetype": "text/x-python",
   "name": "python",
   "nbconvert_exporter": "python",
   "pygments_lexer": "ipython3",
   "version": "3.8.12"
  }
 },
 "nbformat": 4,
 "nbformat_minor": 5
}
