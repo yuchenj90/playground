{
 "cells": [
  {
   "cell_type": "code",
   "execution_count": 10,
   "id": "a8a2853d-152f-4b7e-bfde-e38759f8860c",
   "metadata": {
    "tags": []
   },
   "outputs": [],
   "source": [
    "import torch\n",
    "from torch import nn\n",
    "from matplotlib import pyplot as plt\n",
    "import numpy as np\n",
    "from collections import OrderedDict"
   ]
  },
  {
   "cell_type": "code",
   "execution_count": 2,
   "id": "d042454e-5011-43c6-907c-dbd628783752",
   "metadata": {
    "tags": []
   },
   "outputs": [],
   "source": [
    "device = torch.device('cuda' if torch.cuda.is_available() else 'cpu')"
   ]
  },
  {
   "cell_type": "code",
   "execution_count": 3,
   "id": "2984d9a1-71e5-4e18-88db-26343ca6597e",
   "metadata": {
    "tags": []
   },
   "outputs": [],
   "source": [
    "def get_config():\n",
    "    return {\n",
    "        'batch_size': 128,\n",
    "        'learning_rate': 1e-3,\n",
    "        'n_epoch': 10,\n",
    "        'hidden_sizes': [512,128,32],\n",
    "    }\n",
    "\n",
    "config = get_config()"
   ]
  },
  {
   "cell_type": "code",
   "execution_count": 4,
   "id": "e557725f-76df-42a9-8539-70e9956c678e",
   "metadata": {
    "tags": []
   },
   "outputs": [],
   "source": [
    "# Load MNIST dataset from torchvision\n",
    "import torchvision\n",
    "from torchvision import transforms\n",
    "\n",
    "train_dataset = torchvision.datasets.MNIST(root='../../data',\n",
    "                                           train = True,\n",
    "                                           transform=transforms.ToTensor(),\n",
    "                                           download=True)\n",
    "test_dataset = torchvision.datasets.MNIST(root='../../data',\n",
    "                                          train = False,\n",
    "                                          transform=transforms.ToTensor())\n"
   ]
  },
  {
   "cell_type": "code",
   "execution_count": 5,
   "id": "9da83391-c2b3-4231-bc06-ee16d12fc1c6",
   "metadata": {
    "tags": []
   },
   "outputs": [],
   "source": [
    "train_dataloader = torch.utils.data.DataLoader(dataset = train_dataset,\n",
    "                                               batch_size = config['batch_size'],\n",
    "                                               shuffle=True)\n",
    "test_dataloader = torch.utils.data.DataLoader(dataset = test_dataset,\n",
    "                                               batch_size = config['batch_size'],\n",
    "                                               shuffle=False)\n",
    "train_size = len(train_dataloader.dataset)\n",
    "test_size = len(test_dataloader.dataset)"
   ]
  },
  {
   "cell_type": "code",
   "execution_count": 6,
   "id": "dd7d9aa0-ec5a-4d33-9a06-fa90826eefa8",
   "metadata": {
    "tags": []
   },
   "outputs": [
    {
     "name": "stdout",
     "output_type": "stream",
     "text": [
      "torch.Size([128, 1, 28, 28]) torch.Size([128])\n"
     ]
    }
   ],
   "source": [
    "examples = iter(train_dataloader)\n",
    "sample_data, sample_label = next(examples) # one batch train data\n",
    "print(sample_data.size(), sample_label.size())"
   ]
  },
  {
   "cell_type": "code",
   "execution_count": 7,
   "id": "58628c56-265b-4df8-bc1e-5bfbd3d5af45",
   "metadata": {
    "tags": []
   },
   "outputs": [
    {
     "data": {
      "image/png": "[encoded data removed]",
      "text/plain": [
       "<Figure size 640x480 with 6 Axes>"
      ]
     },
     "metadata": {},
     "output_type": "display_data"
    }
   ],
   "source": [
    "for i in range(6):\n",
    "    plt.subplot(2,3, i+1)\n",
    "    plt.title(sample_label[i].numpy())\n",
    "    plt.imshow(sample_data[i][0], cmap='gray')"
   ]
  },
  {
   "cell_type": "code",
   "execution_count": 15,
   "id": "053fbe21-16ca-4901-88b5-2dfb842ad56e",
   "metadata": {
    "tags": []
   },
   "outputs": [],
   "source": [
    "class DNN(nn.Module):\n",
    "    def __init__(self, input_size, hidden_layers, output_size):\n",
    "        super().__init__()\n",
    "        self.input_size = input_size\n",
    "        self.layer_dims = [input_size] + hidden_layers + [output_size]\n",
    "        self.output_size = output_size\n",
    "        self.model = None\n",
    "        \n",
    "    def build(self):\n",
    "        self.layers = OrderedDict()\n",
    "        for i in range(1, len(self.layer_dims)):\n",
    "            self.layers[f'linear{i}'] = nn.Linear(self.layer_dims[i-1], self.layer_dims[i])\n",
    "            if i < len(self.layer_dims) - 1:\n",
    "                self.layers[f'relu{i}'] = nn.ReLU()\n",
    "        self.model = nn.Sequential(self.layers)\n",
    "        # print(self.model)\n",
    "        \n",
    "    def forward(self, x):\n",
    "        if not self.model:\n",
    "            self.build()\n",
    "        return self.model(x)\n",
    "        "
   ]
  },
  {
   "cell_type": "code",
   "execution_count": 16,
   "id": "48ddd59e-127f-49e0-80a2-f2a864c00b13",
   "metadata": {
    "tags": []
   },
   "outputs": [],
   "source": [
    "dnn = DNN(784, [512, 128, 32], 10)\n",
    "dnn.build()\n",
    "loss_fn = nn.CrossEntropyLoss()\n",
    "optimizer = torch.optim.Adam(dnn.parameters(), lr = config['learning_rate'])"
   ]
  },
  {
   "cell_type": "code",
   "execution_count": 14,
   "id": "b29d4e66-0bf4-49fe-86c5-b026ee09ea8a",
   "metadata": {
    "tags": []
   },
   "outputs": [
    {
     "name": "stdout",
     "output_type": "stream",
     "text": [
      "--------------Epoch 1---------------\n",
      "Batch train loss: 2.30098, [128/60000 examples]\n",
      "Batch train loss: 0.38886, [12928/60000 examples]\n",
      "Batch train loss: 0.21374, [25728/60000 examples]\n",
      "Batch train loss: 0.14954, [38528/60000 examples]\n",
      "Batch train loss: 0.22081, [51328/60000 examples]\n",
      "Epoch train loss: 0.36170, Epoch train acc: 0.89558\n",
      "Epoch test loss: 0.15817, Epoch test acc: 0.95085\n",
      "--------------Epoch 2---------------\n",
      "Batch train loss: 0.18203, [128/60000 examples]\n",
      "Batch train loss: 0.06267, [12928/60000 examples]\n",
      "Batch train loss: 0.09264, [25728/60000 examples]\n",
      "Batch train loss: 0.05252, [38528/60000 examples]\n",
      "Batch train loss: 0.09683, [51328/60000 examples]\n",
      "Epoch train loss: 0.12847, Epoch train acc: 0.96142\n",
      "Epoch test loss: 0.10762, Epoch test acc: 0.96766\n",
      "--------------Epoch 3---------------\n",
      "Batch train loss: 0.04903, [128/60000 examples]\n",
      "Batch train loss: 0.07768, [12928/60000 examples]\n",
      "Batch train loss: 0.07194, [25728/60000 examples]\n",
      "Batch train loss: 0.03437, [38528/60000 examples]\n",
      "Batch train loss: 0.05323, [51328/60000 examples]\n",
      "Epoch train loss: 0.08322, Epoch train acc: 0.97384\n",
      "Epoch test loss: 0.07719, Epoch test acc: 0.97597\n",
      "--------------Epoch 4---------------\n",
      "Batch train loss: 0.04103, [128/60000 examples]\n",
      "Batch train loss: 0.02428, [12928/60000 examples]\n",
      "Batch train loss: 0.05368, [25728/60000 examples]\n",
      "Batch train loss: 0.06013, [38528/60000 examples]\n",
      "Batch train loss: 0.08180, [51328/60000 examples]\n",
      "Epoch train loss: 0.05920, Epoch train acc: 0.98113\n",
      "Epoch test loss: 0.07490, Epoch test acc: 0.97538\n",
      "--------------Epoch 5---------------\n",
      "Batch train loss: 0.02195, [128/60000 examples]\n",
      "Batch train loss: 0.01594, [12928/60000 examples]\n",
      "Batch train loss: 0.01775, [25728/60000 examples]\n",
      "Batch train loss: 0.11668, [38528/60000 examples]\n",
      "Batch train loss: 0.03737, [51328/60000 examples]\n",
      "Epoch train loss: 0.04458, Epoch train acc: 0.98597\n",
      "Epoch test loss: 0.07710, Epoch test acc: 0.97716\n",
      "--------------Epoch 6---------------\n",
      "Batch train loss: 0.01435, [128/60000 examples]\n",
      "Batch train loss: 0.02311, [12928/60000 examples]\n",
      "Batch train loss: 0.01134, [25728/60000 examples]\n",
      "Batch train loss: 0.06367, [38528/60000 examples]\n",
      "Batch train loss: 0.08738, [51328/60000 examples]\n",
      "Epoch train loss: 0.03613, Epoch train acc: 0.98868\n",
      "Epoch test loss: 0.07609, Epoch test acc: 0.97725\n",
      "--------------Epoch 7---------------\n",
      "Batch train loss: 0.01838, [128/60000 examples]\n",
      "Batch train loss: 0.00932, [12928/60000 examples]\n",
      "Batch train loss: 0.03607, [25728/60000 examples]\n",
      "Batch train loss: 0.01543, [38528/60000 examples]\n",
      "Batch train loss: 0.00264, [51328/60000 examples]\n",
      "Epoch train loss: 0.02607, Epoch train acc: 0.99159\n",
      "Epoch test loss: 0.07357, Epoch test acc: 0.98012\n",
      "--------------Epoch 8---------------\n",
      "Batch train loss: 0.01020, [128/60000 examples]\n",
      "Batch train loss: 0.02553, [12928/60000 examples]\n",
      "Batch train loss: 0.00540, [25728/60000 examples]\n",
      "Batch train loss: 0.00346, [38528/60000 examples]\n",
      "Batch train loss: 0.02141, [51328/60000 examples]\n",
      "Epoch train loss: 0.02138, Epoch train acc: 0.99284\n",
      "Epoch test loss: 0.06706, Epoch test acc: 0.98161\n",
      "--------------Epoch 9---------------\n",
      "Batch train loss: 0.01968, [128/60000 examples]\n",
      "Batch train loss: 0.02415, [12928/60000 examples]\n",
      "Batch train loss: 0.00211, [25728/60000 examples]\n",
      "Batch train loss: 0.03168, [38528/60000 examples]\n",
      "Batch train loss: 0.00629, [51328/60000 examples]\n",
      "Epoch train loss: 0.01652, Epoch train acc: 0.99500\n",
      "Epoch test loss: 0.08086, Epoch test acc: 0.97943\n",
      "--------------Epoch 10---------------\n",
      "Batch train loss: 0.00606, [128/60000 examples]\n",
      "Batch train loss: 0.00698, [12928/60000 examples]\n",
      "Batch train loss: 0.03366, [25728/60000 examples]\n",
      "Batch train loss: 0.00347, [38528/60000 examples]\n",
      "Batch train loss: 0.02995, [51328/60000 examples]\n",
      "Epoch train loss: 0.01684, Epoch train acc: 0.99443\n",
      "Epoch test loss: 0.07478, Epoch test acc: 0.98042\n"
     ]
    }
   ],
   "source": [
    "for epoch in range(config['n_epoch']):\n",
    "    print(f'--------------Epoch {epoch+1}---------------')\n",
    "    train_epoch_loss = []\n",
    "    train_epoch_acc = []\n",
    "    for i_batch, batch in enumerate(train_dataloader):\n",
    "        y_true = batch[1]\n",
    "        y_logits = dnn(batch[0].reshape(batch[0].shape[0],-1))\n",
    "        y_pred = torch.argmax(y_logits,-1)\n",
    "        \n",
    "        loss = loss_fn(y_logits, y_true)\n",
    "        train_epoch_loss.append(loss.detach().numpy())\n",
    "        train_epoch_acc.append((y_pred==y_true).numpy().mean())\n",
    "        if i_batch % 100 == 0:  # print loss every 100 batches\n",
    "            print(f'Batch train loss: {loss:.5f}, [{(i_batch+1) * batch[0].shape[0]}/{train_size} examples]') \n",
    "        \n",
    "        loss.backward()\n",
    "        optimizer.step()\n",
    "        optimizer.zero_grad()\n",
    "    \n",
    "    test_epoch_loss = []\n",
    "    test_epoch_acc = []\n",
    "    for i_batch, batch in enumerate(test_dataloader):\n",
    "        y_true = batch[1]\n",
    "        y_logits = dnn(batch[0].reshape(batch[0].shape[0],-1))\n",
    "        y_pred = torch.argmax(y_logits,-1)\n",
    "        test_epoch_loss.append(loss_fn(y_logits, y_true).detach().numpy())\n",
    "        test_epoch_acc.append((y_pred==y_true).numpy().mean())\n",
    "    print(f'Epoch train loss: {np.array(train_epoch_loss).mean():.5f}, Epoch train acc: {np.array(train_epoch_acc).mean():.5f}')\n",
    "    print(f'Epoch test loss: {np.array(test_epoch_loss).mean():.5f}, Epoch test acc: {np.array(test_epoch_acc).mean():.5f}')"
   ]
  },
  {
   "cell_type": "code",
   "execution_count": null,
   "id": "94b291f9-2fd9-415e-804d-ce9908b7b39d",
   "metadata": {},
   "outputs": [],
   "source": []
  },
  {
   "cell_type": "code",
   "execution_count": null,
   "id": "b47d80a4-4b98-4f61-873d-27b08497d0e2",
   "metadata": {},
   "outputs": [],
   "source": []
  }
 ],
 "metadata": {
  "kernelspec": {
   "display_name": "Python 3 (ipykernel)",
   "language": "python",
   "name": "python3"
  },
  "language_info": {
   "codemirror_mode": {
    "name": "ipython",
    "version": 3
   },
   "file_extension": ".py",
   "mimetype": "text/x-python",
   "name": "python",
   "nbconvert_exporter": "python",
   "pygments_lexer": "ipython3",
   "version": "3.8.12"
  }
 },
 "nbformat": 4,
 "nbformat_minor": 5
}
