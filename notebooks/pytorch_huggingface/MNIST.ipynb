{
 "cells": [
  {
   "cell_type": "code",
   "execution_count": 1,
   "id": "a8a2853d-152f-4b7e-bfde-e38759f8860c",
   "metadata": {
    "tags": []
   },
   "outputs": [],
   "source": [
    "import torch\n",
    "from torch import nn\n",
    "from matplotlib import pyplot as plt\n",
    "import numpy as np\n",
    "from collections import OrderedDict"
   ]
  },
  {
   "cell_type": "code",
   "execution_count": 2,
   "id": "d042454e-5011-43c6-907c-dbd628783752",
   "metadata": {
    "tags": []
   },
   "outputs": [
    {
     "name": "stdout",
     "output_type": "stream",
     "text": [
      "cuda\n"
     ]
    }
   ],
   "source": [
    "device = torch.device('cuda' if torch.cuda.is_available() else 'cpu')\n",
    "print(device)"
   ]
  },
  {
   "cell_type": "code",
   "execution_count": 3,
   "id": "2984d9a1-71e5-4e18-88db-26343ca6597e",
   "metadata": {
    "tags": []
   },
   "outputs": [],
   "source": [
    "def get_config():\n",
    "    return {\n",
    "        'batch_size': 64,\n",
    "        'learning_rate': 1e-3,\n",
    "        'n_epoch': 10,\n",
    "        'hidden_sizes': [512,128,32],\n",
    "    }\n",
    "\n",
    "config = get_config()"
   ]
  },
  {
   "cell_type": "code",
   "execution_count": 4,
   "id": "e557725f-76df-42a9-8539-70e9956c678e",
   "metadata": {
    "tags": []
   },
   "outputs": [],
   "source": [
    "# Load MNIST dataset from torchvision\n",
    "import torchvision\n",
    "from torchvision import transforms\n",
    "\n",
    "train_dataset = torchvision.datasets.MNIST(root='../../data',\n",
    "                                           train = True,\n",
    "                                           transform=transforms.ToTensor(),\n",
    "                                           download=True)\n",
    "test_dataset = torchvision.datasets.MNIST(root='../../data',\n",
    "                                          train = False,\n",
    "                                          transform=transforms.ToTensor())\n"
   ]
  },
  {
   "cell_type": "code",
   "execution_count": 5,
   "id": "9da83391-c2b3-4231-bc06-ee16d12fc1c6",
   "metadata": {
    "tags": []
   },
   "outputs": [],
   "source": [
    "train_dataloader = torch.utils.data.DataLoader(dataset = train_dataset,\n",
    "                                               batch_size = config['batch_size'],\n",
    "                                               shuffle=True)\n",
    "test_dataloader = torch.utils.data.DataLoader(dataset = test_dataset,\n",
    "                                               batch_size = config['batch_size'],\n",
    "                                               shuffle=False)\n",
    "train_size = len(train_dataloader.dataset)\n",
    "test_size = len(test_dataloader.dataset)"
   ]
  },
  {
   "cell_type": "code",
   "execution_count": 6,
   "id": "dd7d9aa0-ec5a-4d33-9a06-fa90826eefa8",
   "metadata": {
    "tags": []
   },
   "outputs": [
    {
     "name": "stdout",
     "output_type": "stream",
     "text": [
      "torch.Size([64, 1, 28, 28]) torch.Size([64])\n"
     ]
    }
   ],
   "source": [
    "examples = iter(train_dataloader)\n",
    "sample_data, sample_label = next(examples) # one batch train data\n",
    "print(sample_data.size(), sample_label.size())"
   ]
  },
  {
   "cell_type": "code",
   "execution_count": 7,
   "id": "58628c56-265b-4df8-bc1e-5bfbd3d5af45",
   "metadata": {
    "tags": []
   },
   "outputs": [
    {
     "data": {
      "image/png": "[encoded data removed]",
      "text/plain": [
       "<Figure size 640x480 with 6 Axes>"
      ]
     },
     "metadata": {},
     "output_type": "display_data"
    }
   ],
   "source": [
    "for i in range(6):\n",
    "    plt.subplot(2,3, i+1)\n",
    "    plt.title(sample_label[i].numpy())\n",
    "    plt.imshow(sample_data[i][0], cmap='gray')"
   ]
  },
  {
   "cell_type": "code",
   "execution_count": 8,
   "id": "053fbe21-16ca-4901-88b5-2dfb842ad56e",
   "metadata": {
    "tags": []
   },
   "outputs": [],
   "source": [
    "class DNN(nn.Module):\n",
    "    def __init__(self, input_size, hidden_layers, output_size):\n",
    "        super().__init__()\n",
    "        self.input_size = input_size\n",
    "        self.layer_dims = [input_size] + hidden_layers + [output_size]\n",
    "        self.output_size = output_size\n",
    "        self.model = None\n",
    "        \n",
    "    def build(self):\n",
    "        self.layers = OrderedDict()\n",
    "        for i in range(1, len(self.layer_dims)):\n",
    "            self.layers[f'linear{i}'] = nn.Linear(self.layer_dims[i-1], self.layer_dims[i])\n",
    "            if i < len(self.layer_dims) - 1:\n",
    "                self.layers[f'relu{i}'] = nn.ReLU()\n",
    "        self.model = nn.Sequential(self.layers)\n",
    "        # print(self.model)\n",
    "        \n",
    "    def forward(self, x):\n",
    "        if not self.model:\n",
    "            self.build()\n",
    "        return self.model(x)\n",
    "        "
   ]
  },
  {
   "cell_type": "code",
   "execution_count": 9,
   "id": "48ddd59e-127f-49e0-80a2-f2a864c00b13",
   "metadata": {
    "tags": []
   },
   "outputs": [],
   "source": [
    "dnn = DNN(784, [512, 128, 32], 10)\n",
    "dnn.build()\n",
    "dnn = dnn.to(device)\n",
    "loss_fn = nn.CrossEntropyLoss()\n",
    "optimizer = torch.optim.Adam(dnn.parameters(), lr = config['learning_rate'])"
   ]
  },
  {
   "cell_type": "code",
   "execution_count": 10,
   "id": "ee762e9b",
   "metadata": {},
   "outputs": [
    {
     "data": {
      "text/plain": [
       "True"
      ]
     },
     "execution_count": 10,
     "metadata": {},
     "output_type": "execute_result"
    }
   ],
   "source": [
    "next(dnn.parameters()).is_cuda"
   ]
  },
  {
   "cell_type": "code",
   "execution_count": 11,
   "id": "b29d4e66-0bf4-49fe-86c5-b026ee09ea8a",
   "metadata": {
    "tags": []
   },
   "outputs": [
    {
     "name": "stdout",
     "output_type": "stream",
     "text": [
      "--------------Epoch 1---------------\n",
      "Batch train loss: 2.28336, [64/60000 examples]\n",
      "Batch train loss: 0.42415, [6464/60000 examples]\n",
      "Batch train loss: 0.32347, [12864/60000 examples]\n",
      "Batch train loss: 0.18934, [19264/60000 examples]\n",
      "Batch train loss: 0.11718, [25664/60000 examples]\n",
      "Batch train loss: 0.12469, [32064/60000 examples]\n",
      "Batch train loss: 0.06902, [38464/60000 examples]\n",
      "Batch train loss: 0.04947, [44864/60000 examples]\n",
      "Batch train loss: 0.10668, [51264/60000 examples]\n",
      "Batch train loss: 0.17751, [57664/60000 examples]\n",
      "Epoch train loss: 0.30065, Epoch train acc: 0.90991\n",
      "Epoch test loss: 0.15336, Epoch test acc: 0.95223\n",
      "--------------Epoch 2---------------\n",
      "Batch train loss: 0.05644, [64/60000 examples]\n",
      "Batch train loss: 0.02088, [6464/60000 examples]\n",
      "Batch train loss: 0.24266, [12864/60000 examples]\n",
      "Batch train loss: 0.06106, [19264/60000 examples]\n",
      "Batch train loss: 0.22882, [25664/60000 examples]\n",
      "Batch train loss: 0.06173, [32064/60000 examples]\n",
      "Batch train loss: 0.10519, [38464/60000 examples]\n",
      "Batch train loss: 0.09534, [44864/60000 examples]\n",
      "Batch train loss: 0.17258, [51264/60000 examples]\n",
      "Batch train loss: 0.17693, [57664/60000 examples]\n",
      "Epoch train loss: 0.10798, Epoch train acc: 0.96753\n",
      "Epoch test loss: 0.08876, Epoch test acc: 0.97442\n",
      "--------------Epoch 3---------------\n",
      "Batch train loss: 0.01919, [64/60000 examples]\n",
      "Batch train loss: 0.03648, [6464/60000 examples]\n",
      "Batch train loss: 0.08604, [12864/60000 examples]\n",
      "Batch train loss: 0.05500, [19264/60000 examples]\n",
      "Batch train loss: 0.07048, [25664/60000 examples]\n",
      "Batch train loss: 0.04049, [32064/60000 examples]\n",
      "Batch train loss: 0.09323, [38464/60000 examples]\n",
      "Batch train loss: 0.02130, [44864/60000 examples]\n",
      "Batch train loss: 0.03355, [51264/60000 examples]\n",
      "Batch train loss: 0.07479, [57664/60000 examples]\n",
      "Epoch train loss: 0.06944, Epoch train acc: 0.97826\n",
      "Epoch test loss: 0.08292, Epoch test acc: 0.97562\n",
      "--------------Epoch 4---------------\n",
      "Batch train loss: 0.01831, [64/60000 examples]\n",
      "Batch train loss: 0.02502, [6464/60000 examples]\n",
      "Batch train loss: 0.07412, [12864/60000 examples]\n",
      "Batch train loss: 0.00423, [19264/60000 examples]\n",
      "Batch train loss: 0.07751, [25664/60000 examples]\n",
      "Batch train loss: 0.02896, [32064/60000 examples]\n",
      "Batch train loss: 0.03330, [38464/60000 examples]\n",
      "Batch train loss: 0.07506, [44864/60000 examples]\n",
      "Batch train loss: 0.13826, [51264/60000 examples]\n",
      "Batch train loss: 0.03446, [57664/60000 examples]\n",
      "Epoch train loss: 0.05028, Epoch train acc: 0.98409\n",
      "Epoch test loss: 0.07320, Epoch test acc: 0.97920\n",
      "--------------Epoch 5---------------\n",
      "Batch train loss: 0.01592, [64/60000 examples]\n",
      "Batch train loss: 0.05818, [6464/60000 examples]\n",
      "Batch train loss: 0.02933, [12864/60000 examples]\n",
      "Batch train loss: 0.01532, [19264/60000 examples]\n",
      "Batch train loss: 0.11206, [25664/60000 examples]\n",
      "Batch train loss: 0.14009, [32064/60000 examples]\n",
      "Batch train loss: 0.02147, [38464/60000 examples]\n",
      "Batch train loss: 0.02081, [44864/60000 examples]\n",
      "Batch train loss: 0.00346, [51264/60000 examples]\n",
      "Batch train loss: 0.08370, [57664/60000 examples]\n",
      "Epoch train loss: 0.03904, Epoch train acc: 0.98757\n",
      "Epoch test loss: 0.08304, Epoch test acc: 0.97731\n",
      "--------------Epoch 6---------------\n",
      "Batch train loss: 0.02154, [64/60000 examples]\n",
      "Batch train loss: 0.00984, [6464/60000 examples]\n",
      "Batch train loss: 0.01734, [12864/60000 examples]\n",
      "Batch train loss: 0.07282, [19264/60000 examples]\n",
      "Batch train loss: 0.00979, [25664/60000 examples]\n",
      "Batch train loss: 0.00360, [32064/60000 examples]\n",
      "Batch train loss: 0.00408, [38464/60000 examples]\n",
      "Batch train loss: 0.01380, [44864/60000 examples]\n",
      "Batch train loss: 0.00518, [51264/60000 examples]\n",
      "Batch train loss: 0.03354, [57664/60000 examples]\n",
      "Epoch train loss: 0.02978, Epoch train acc: 0.98979\n",
      "Epoch test loss: 0.08138, Epoch test acc: 0.97960\n",
      "--------------Epoch 7---------------\n",
      "Batch train loss: 0.00290, [64/60000 examples]\n",
      "Batch train loss: 0.02391, [6464/60000 examples]\n",
      "Batch train loss: 0.00122, [12864/60000 examples]\n",
      "Batch train loss: 0.02889, [19264/60000 examples]\n",
      "Batch train loss: 0.04030, [25664/60000 examples]\n",
      "Batch train loss: 0.00512, [32064/60000 examples]\n",
      "Batch train loss: 0.00106, [38464/60000 examples]\n",
      "Batch train loss: 0.00682, [44864/60000 examples]\n",
      "Batch train loss: 0.08344, [51264/60000 examples]\n",
      "Batch train loss: 0.10285, [57664/60000 examples]\n",
      "Epoch train loss: 0.02389, Epoch train acc: 0.99225\n",
      "Epoch test loss: 0.07781, Epoch test acc: 0.98109\n",
      "--------------Epoch 8---------------\n",
      "Batch train loss: 0.00154, [64/60000 examples]\n",
      "Batch train loss: 0.04802, [6464/60000 examples]\n",
      "Batch train loss: 0.00316, [12864/60000 examples]\n",
      "Batch train loss: 0.01988, [19264/60000 examples]\n",
      "Batch train loss: 0.00683, [25664/60000 examples]\n",
      "Batch train loss: 0.00127, [32064/60000 examples]\n",
      "Batch train loss: 0.05923, [38464/60000 examples]\n",
      "Batch train loss: 0.00294, [44864/60000 examples]\n",
      "Batch train loss: 0.02750, [51264/60000 examples]\n",
      "Batch train loss: 0.00609, [57664/60000 examples]\n",
      "Epoch train loss: 0.02152, Epoch train acc: 0.99295\n",
      "Epoch test loss: 0.07973, Epoch test acc: 0.98039\n",
      "--------------Epoch 9---------------\n",
      "Batch train loss: 0.00017, [64/60000 examples]\n",
      "Batch train loss: 0.00361, [6464/60000 examples]\n",
      "Batch train loss: 0.04638, [12864/60000 examples]\n",
      "Batch train loss: 0.00270, [19264/60000 examples]\n",
      "Batch train loss: 0.04580, [25664/60000 examples]\n",
      "Batch train loss: 0.00070, [32064/60000 examples]\n",
      "Batch train loss: 0.00120, [38464/60000 examples]\n",
      "Batch train loss: 0.03300, [44864/60000 examples]\n",
      "Batch train loss: 0.01326, [51264/60000 examples]\n",
      "Batch train loss: 0.01309, [57664/60000 examples]\n",
      "Epoch train loss: 0.01951, Epoch train acc: 0.99424\n",
      "Epoch test loss: 0.07164, Epoch test acc: 0.98089\n",
      "--------------Epoch 10---------------\n",
      "Batch train loss: 0.00298, [64/60000 examples]\n",
      "Batch train loss: 0.01373, [6464/60000 examples]\n",
      "Batch train loss: 0.00052, [12864/60000 examples]\n",
      "Batch train loss: 0.01895, [19264/60000 examples]\n",
      "Batch train loss: 0.00374, [25664/60000 examples]\n",
      "Batch train loss: 0.05030, [32064/60000 examples]\n",
      "Batch train loss: 0.00333, [38464/60000 examples]\n",
      "Batch train loss: 0.00973, [44864/60000 examples]\n",
      "Batch train loss: 0.13618, [51264/60000 examples]\n",
      "Batch train loss: 0.00258, [57664/60000 examples]\n",
      "Epoch train loss: 0.01799, Epoch train acc: 0.99394\n",
      "Epoch test loss: 0.08333, Epoch test acc: 0.97990\n"
     ]
    }
   ],
   "source": [
    "for epoch in range(config['n_epoch']):\n",
    "    print(f'--------------Epoch {epoch+1}---------------')\n",
    "    train_epoch_loss = []\n",
    "    train_epoch_acc = []\n",
    "    for i_batch, batch in enumerate(train_dataloader):\n",
    "        y_true = batch[1].to(device)\n",
    "        X = batch[0].reshape(batch[0].shape[0],-1).to(device)\n",
    "        y_logits = dnn(X)\n",
    "        y_pred = torch.argmax(y_logits,-1)\n",
    "        \n",
    "        loss = loss_fn(y_logits, y_true)\n",
    "        train_epoch_loss.append(loss.cpu().detach().numpy())\n",
    "        train_epoch_acc.append((y_pred==y_true).cpu().numpy().mean())\n",
    "        if i_batch % 100 == 0:  # print loss every 100 batches\n",
    "            print(f'Batch train loss: {loss:.5f}, [{(i_batch+1) * batch[0].shape[0]}/{train_size} examples]') \n",
    "        \n",
    "        loss.backward()\n",
    "        optimizer.step()\n",
    "        optimizer.zero_grad()\n",
    "    \n",
    "    test_epoch_loss = []\n",
    "    test_epoch_acc = []\n",
    "    for i_batch, batch in enumerate(test_dataloader):\n",
    "        y_true = batch[1].to(device)\n",
    "        y_logits = dnn(batch[0].reshape(batch[0].shape[0],-1).to(device))\n",
    "        y_pred = torch.argmax(y_logits,-1)\n",
    "        test_epoch_loss.append(loss_fn(y_logits, y_true).cpu().detach().numpy())\n",
    "        test_epoch_acc.append((y_pred==y_true).cpu().numpy().mean())\n",
    "    print(f'Epoch train loss: {np.array(train_epoch_loss).mean():.5f}, Epoch train acc: {np.array(train_epoch_acc).mean():.5f}')\n",
    "    print(f'Epoch test loss: {np.array(test_epoch_loss).mean():.5f}, Epoch test acc: {np.array(test_epoch_acc).mean():.5f}')"
   ]
  },
  {
   "cell_type": "code",
   "execution_count": 26,
   "id": "94b291f9-2fd9-415e-804d-ce9908b7b39d",
   "metadata": {},
   "outputs": [
    {
     "name": "stdout",
     "output_type": "stream",
     "text": [
      "total memory: 1.999755859375 GB\n",
      "reserved memory: 0.041015625 GB\n",
      "allocated memory: 0.02133035659790039 GB\n",
      "free inside reserved: 0.01968526840209961 GB\n"
     ]
    }
   ],
   "source": [
    "print(f'total memory: {torch.cuda.get_device_properties(0).total_memory/np.power(1024, 3)} GB') \n",
    "print(f'reserved memory: {torch.cuda.memory_reserved(0)/np.power(1024, 3)} GB') \n",
    "print(f'allocated memory: {torch.cuda.memory_allocated(0)/np.power(1024, 3)} GB')\n",
    "print(f'free inside reserved: {torch.cuda.memory_reserved(0)/np.power(1024, 3) - torch.cuda.memory_allocated(0)/np.power(1024, 3)} GB')"
   ]
  },
  {
   "cell_type": "code",
   "execution_count": null,
   "id": "2a35b3c2",
   "metadata": {},
   "outputs": [],
   "source": []
  },
  {
   "cell_type": "code",
   "execution_count": null,
   "id": "aba559f4",
   "metadata": {},
   "outputs": [],
   "source": []
  }
 ],
 "metadata": {
  "kernelspec": {
   "display_name": "Python 3 (ipykernel)",
   "language": "python",
   "name": "python3"
  },
  "language_info": {
   "codemirror_mode": {
    "name": "ipython",
    "version": 3
   },
   "file_extension": ".py",
   "mimetype": "text/x-python",
   "name": "python",
   "nbconvert_exporter": "python",
   "pygments_lexer": "ipython3",
   "version": "3.8.0"
  }
 },
 "nbformat": 4,
 "nbformat_minor": 5
}
