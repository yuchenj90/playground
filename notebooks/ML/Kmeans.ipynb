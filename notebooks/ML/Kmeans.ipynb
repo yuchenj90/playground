{
 "cells": [
  {
   "cell_type": "code",
   "execution_count": 1,
   "metadata": {},
   "outputs": [],
   "source": [
    "import numpy as np\n",
    "from matplotlib import pyplot as plt"
   ]
  },
  {
   "cell_type": "code",
   "execution_count": 2,
   "metadata": {},
   "outputs": [],
   "source": [
    "data = np.array([[1,2],[2,3],[9,4]])"
   ]
  },
  {
   "cell_type": "code",
   "execution_count": 3,
   "metadata": {},
   "outputs": [
    {
     "data": {
      "text/plain": [
       "array([[1, 2],\n",
       "       [2, 3],\n",
       "       [9, 4]])"
      ]
     },
     "execution_count": 3,
     "metadata": {},
     "output_type": "execute_result"
    }
   ],
   "source": [
    "data"
   ]
  },
  {
   "cell_type": "code",
   "execution_count": 4,
   "metadata": {},
   "outputs": [
    {
     "data": {
      "text/plain": [
       "array([ 5, 13, 97])"
      ]
     },
     "execution_count": 4,
     "metadata": {},
     "output_type": "execute_result"
    }
   ],
   "source": [
    "np.sum(data**2,axis=1)"
   ]
  },
  {
   "cell_type": "code",
   "execution_count": 5,
   "metadata": {},
   "outputs": [
    {
     "data": {
      "text/plain": [
       "array([[3, 2],\n",
       "       [3, 2],\n",
       "       [3, 2]])"
      ]
     },
     "execution_count": 5,
     "metadata": {},
     "output_type": "execute_result"
    }
   ],
   "source": [
    "data-(data-[3,2])"
   ]
  },
  {
   "cell_type": "code",
   "execution_count": 6,
   "metadata": {},
   "outputs": [
    {
     "data": {
      "text/plain": [
       "10.816653826391967"
      ]
     },
     "execution_count": 6,
     "metadata": {},
     "output_type": "execute_result"
    }
   ],
   "source": [
    "np.linalg.norm(data-(data-[3,2]),axis=1).sum()"
   ]
  },
  {
   "cell_type": "code",
   "execution_count": 9,
   "metadata": {},
   "outputs": [],
   "source": [
    "def Kmeans(data, K, epsilon=0.1, max_iter=1000):\n",
    "    p=len(data[0])\n",
    "    centroids = np.random.uniform(0,100,(K,p))\n",
    "    for t in range(max_iter):\n",
    "        l = [[] for i in range(K)]\n",
    "        for i in range(len(data)):\n",
    "            l[np.argmin(np.linalg.norm(centroids-data[i],axis=1))].append(i)\n",
    "\n",
    "        c_new = np.zeros(shape=(K,p))\n",
    "        \n",
    "        for i in range(K):\n",
    "            c_new[i] = data[l[i]].mean(axis=0)\n",
    "        if np.linalg.norm(c_new-centroids,axis=1).sum()<epsilon:\n",
    "            break\n",
    "        centroids = c_new.copy()\n",
    "        \n",
    "    return centroids"
   ]
  },
  {
   "cell_type": "code",
   "execution_count": 10,
   "metadata": {},
   "outputs": [],
   "source": [
    "data = np.random.uniform(0,100,(15,2))\n",
    "K = 2\n",
    "c = Kmeans(data,K)"
   ]
  },
  {
   "cell_type": "code",
   "execution_count": 11,
   "metadata": {},
   "outputs": [
    {
     "data": {
      "text/plain": [
       "array([[48.64752048, 77.54010791],\n",
       "       [53.39946197, 15.2617412 ]])"
      ]
     },
     "execution_count": 11,
     "metadata": {},
     "output_type": "execute_result"
    }
   ],
   "source": [
    "c"
   ]
  },
  {
   "cell_type": "code",
   "execution_count": 12,
   "metadata": {},
   "outputs": [
    {
     "data": {
      "text/plain": [
       "<matplotlib.collections.PathCollection at 0x12389c7c0>"
      ]
     },
     "execution_count": 12,
     "metadata": {},
     "output_type": "execute_result"
    },
    {
     "data": {
      "image/png": "[encoded data removed]",
      "text/plain": [
       "<Figure size 432x288 with 1 Axes>"
      ]
     },
     "metadata": {
      "needs_background": "light"
     },
     "output_type": "display_data"
    }
   ],
   "source": [
    "plt.scatter(data[:,0],data[:,1])\n",
    "plt.scatter(c[:,0],c[:,1])"
   ]
  },
  {
   "cell_type": "code",
   "execution_count": 20,
   "metadata": {},
   "outputs": [],
   "source": [
    "a = [3,4]"
   ]
  },
  {
   "cell_type": "code",
   "execution_count": 23,
   "metadata": {},
   "outputs": [],
   "source": [
    "a.extend([])"
   ]
  },
  {
   "cell_type": "code",
   "execution_count": 32,
   "metadata": {},
   "outputs": [
    {
     "data": {
      "text/plain": [
       "[3, 4, 5, 4]"
      ]
     },
     "execution_count": 32,
     "metadata": {},
     "output_type": "execute_result"
    }
   ],
   "source": [
    "a"
   ]
  },
  {
   "cell_type": "code",
   "execution_count": 33,
   "metadata": {},
   "outputs": [
    {
     "data": {
      "text/plain": [
       "4"
      ]
     },
     "execution_count": 33,
     "metadata": {},
     "output_type": "execute_result"
    }
   ],
   "source": [
    "a.pop()"
   ]
  },
  {
   "cell_type": "code",
   "execution_count": 34,
   "metadata": {},
   "outputs": [
    {
     "data": {
      "text/plain": [
       "[3, 4, 5]"
      ]
     },
     "execution_count": 34,
     "metadata": {},
     "output_type": "execute_result"
    }
   ],
   "source": [
    "a"
   ]
  },
  {
   "cell_type": "markdown",
   "metadata": {},
   "source": [
    "# Generate Gaussian mixture data"
   ]
  },
  {
   "cell_type": "code",
   "execution_count": 254,
   "metadata": {
    "tags": []
   },
   "outputs": [],
   "source": [
    "import numpy as np\n",
    "from matplotlib import pyplot as plt\n",
    "\n",
    "np.random.seed(7)\n",
    "centroids = np.random.uniform(-1,1,size=(6,2))\n",
    "centroids[:,0]*=10\n",
    "centroids[:,1]*=15\n",
    "\n",
    "size = [100, 400, 180, 50, 250, 20]\n",
    "std = [3,4,1,2,2.3,1.8]\n",
    "points = {}\n",
    "for i in range(6):\n",
    "    nor = np.random.normal(size=(size[i],2))\n",
    "    points[i] = (nor*std[i] + centroids[i])"
   ]
  },
  {
   "cell_type": "code",
   "execution_count": 255,
   "metadata": {},
   "outputs": [
    {
     "data": {
      "text/plain": [
       "<matplotlib.collections.PathCollection at 0x299093340>"
      ]
     },
     "execution_count": 255,
     "metadata": {},
     "output_type": "execute_result"
    },
    {
     "data": {
      "image/png": "[encoded data removed]",
      "text/plain": [
       "<Figure size 640x480 with 1 Axes>"
      ]
     },
     "metadata": {},
     "output_type": "display_data"
    }
   ],
   "source": [
    "\n",
    "plt.scatter(points[0][:,0], points[0][:,1], s=1, color='b')\n",
    "plt.scatter(points[1][:,0], points[1][:,1], s=1, color='g')\n",
    "plt.scatter(points[2][:,0], points[2][:,1], s=1, color='y')\n",
    "plt.scatter(points[3][:,0], points[3][:,1], s=1, color='c')\n",
    "plt.scatter(points[4][:,0], points[4][:,1], s=1, color='orange')\n",
    "plt.scatter(points[5][:,0], points[5][:,1], s=1, color='black')\n",
    "plt.scatter(centroids[:,0], centroids[:,1], color='r')"
   ]
  },
  {
   "cell_type": "code",
   "execution_count": 256,
   "metadata": {
    "tags": []
   },
   "outputs": [
    {
     "data": {
      "text/html": [
       "<div>\n",
       "<style scoped>\n",
       "    .dataframe tbody tr th:only-of-type {\n",
       "        vertical-align: middle;\n",
       "    }\n",
       "\n",
       "    .dataframe tbody tr th {\n",
       "        vertical-align: top;\n",
       "    }\n",
       "\n",
       "    .dataframe thead th {\n",
       "        text-align: right;\n",
       "    }\n",
       "</style>\n",
       "<table border=\"1\" class=\"dataframe\">\n",
       "  <thead>\n",
       "    <tr style=\"text-align: right;\">\n",
       "      <th></th>\n",
       "      <th>x</th>\n",
       "      <th>y</th>\n",
       "      <th>group</th>\n",
       "      <th>centroids</th>\n",
       "    </tr>\n",
       "  </thead>\n",
       "  <tbody>\n",
       "    <tr>\n",
       "      <th>0</th>\n",
       "      <td>-6.304642</td>\n",
       "      <td>0.518132</td>\n",
       "      <td>4</td>\n",
       "      <td>[-4.631220397962577, -0.0035249752332011663]</td>\n",
       "    </tr>\n",
       "    <tr>\n",
       "      <th>1</th>\n",
       "      <td>-4.043633</td>\n",
       "      <td>-1.270127</td>\n",
       "      <td>4</td>\n",
       "      <td>[-4.631220397962577, -0.0035249752332011663]</td>\n",
       "    </tr>\n",
       "    <tr>\n",
       "      <th>2</th>\n",
       "      <td>-12.778725</td>\n",
       "      <td>9.902436</td>\n",
       "      <td>0</td>\n",
       "      <td>[-8.473834212520856, 8.397563767203438]</td>\n",
       "    </tr>\n",
       "    <tr>\n",
       "      <th>3</th>\n",
       "      <td>-6.303512</td>\n",
       "      <td>1.358193</td>\n",
       "      <td>4</td>\n",
       "      <td>[-4.631220397962577, -0.0035249752332011663]</td>\n",
       "    </tr>\n",
       "    <tr>\n",
       "      <th>4</th>\n",
       "      <td>-2.584349</td>\n",
       "      <td>5.140504</td>\n",
       "      <td>1</td>\n",
       "      <td>[-1.23181537118213, 6.703955334928237]</td>\n",
       "    </tr>\n",
       "    <tr>\n",
       "      <th>...</th>\n",
       "      <td>...</td>\n",
       "      <td>...</td>\n",
       "      <td>...</td>\n",
       "      <td>...</td>\n",
       "    </tr>\n",
       "    <tr>\n",
       "      <th>995</th>\n",
       "      <td>-5.176827</td>\n",
       "      <td>0.814965</td>\n",
       "      <td>4</td>\n",
       "      <td>[-4.631220397962577, -0.0035249752332011663]</td>\n",
       "    </tr>\n",
       "    <tr>\n",
       "      <th>996</th>\n",
       "      <td>-2.135692</td>\n",
       "      <td>12.705231</td>\n",
       "      <td>1</td>\n",
       "      <td>[-1.23181537118213, 6.703955334928237]</td>\n",
       "    </tr>\n",
       "    <tr>\n",
       "      <th>997</th>\n",
       "      <td>-1.903346</td>\n",
       "      <td>-2.905362</td>\n",
       "      <td>4</td>\n",
       "      <td>[-4.631220397962577, -0.0035249752332011663]</td>\n",
       "    </tr>\n",
       "    <tr>\n",
       "      <th>998</th>\n",
       "      <td>10.438258</td>\n",
       "      <td>-0.455614</td>\n",
       "      <td>2</td>\n",
       "      <td>[9.559790239932052, 1.1548761123130102]</td>\n",
       "    </tr>\n",
       "    <tr>\n",
       "      <th>999</th>\n",
       "      <td>10.189728</td>\n",
       "      <td>2.109271</td>\n",
       "      <td>2</td>\n",
       "      <td>[9.559790239932052, 1.1548761123130102]</td>\n",
       "    </tr>\n",
       "  </tbody>\n",
       "</table>\n",
       "<p>1000 rows × 4 columns</p>\n",
       "</div>"
      ],
      "text/plain": [
       "             x          y  group                                     centroids\n",
       "0    -6.304642   0.518132      4  [-4.631220397962577, -0.0035249752332011663]\n",
       "1    -4.043633  -1.270127      4  [-4.631220397962577, -0.0035249752332011663]\n",
       "2   -12.778725   9.902436      0       [-8.473834212520856, 8.397563767203438]\n",
       "3    -6.303512   1.358193      4  [-4.631220397962577, -0.0035249752332011663]\n",
       "4    -2.584349   5.140504      1        [-1.23181537118213, 6.703955334928237]\n",
       "..         ...        ...    ...                                           ...\n",
       "995  -5.176827   0.814965      4  [-4.631220397962577, -0.0035249752332011663]\n",
       "996  -2.135692  12.705231      1        [-1.23181537118213, 6.703955334928237]\n",
       "997  -1.903346  -2.905362      4  [-4.631220397962577, -0.0035249752332011663]\n",
       "998  10.438258  -0.455614      2       [9.559790239932052, 1.1548761123130102]\n",
       "999  10.189728   2.109271      2       [9.559790239932052, 1.1548761123130102]\n",
       "\n",
       "[1000 rows x 4 columns]"
      ]
     },
     "execution_count": 256,
     "metadata": {},
     "output_type": "execute_result"
    }
   ],
   "source": [
    "df_data = pd.DataFrame([(x,y,k) for k, v in points.items() for x,y in v])\n",
    "df_data.columns = ['x', 'y', 'group']\n",
    "df_data['centroids'] = df_data.group.map(lambda x: centroids[x])\n",
    "df_data.sample(random_state=19,frac=1).reset_index(drop=True)"
   ]
  },
  {
   "cell_type": "code",
   "execution_count": 257,
   "metadata": {
    "tags": []
   },
   "outputs": [
    {
     "data": {
      "text/html": [
       "<div>\n",
       "<style scoped>\n",
       "    .dataframe tbody tr th:only-of-type {\n",
       "        vertical-align: middle;\n",
       "    }\n",
       "\n",
       "    .dataframe tbody tr th {\n",
       "        vertical-align: top;\n",
       "    }\n",
       "\n",
       "    .dataframe thead th {\n",
       "        text-align: right;\n",
       "    }\n",
       "</style>\n",
       "<table border=\"1\" class=\"dataframe\">\n",
       "  <thead>\n",
       "    <tr style=\"text-align: right;\">\n",
       "      <th></th>\n",
       "      <th>x</th>\n",
       "      <th>y</th>\n",
       "      <th>group</th>\n",
       "      <th>centroids</th>\n",
       "    </tr>\n",
       "  </thead>\n",
       "  <tbody>\n",
       "    <tr>\n",
       "      <th>0</th>\n",
       "      <td>-10.350121</td>\n",
       "      <td>7.882919</td>\n",
       "      <td>0</td>\n",
       "      <td>[-8.473834212520856, 8.397563767203438]</td>\n",
       "    </tr>\n",
       "    <tr>\n",
       "      <th>1</th>\n",
       "      <td>-6.957936</td>\n",
       "      <td>7.613495</td>\n",
       "      <td>0</td>\n",
       "      <td>[-8.473834212520856, 8.397563767203438]</td>\n",
       "    </tr>\n",
       "    <tr>\n",
       "      <th>2</th>\n",
       "      <td>-9.202081</td>\n",
       "      <td>4.037840</td>\n",
       "      <td>0</td>\n",
       "      <td>[-8.473834212520856, 8.397563767203438]</td>\n",
       "    </tr>\n",
       "    <tr>\n",
       "      <th>3</th>\n",
       "      <td>-6.810093</td>\n",
       "      <td>8.769206</td>\n",
       "      <td>0</td>\n",
       "      <td>[-8.473834212520856, 8.397563767203438]</td>\n",
       "    </tr>\n",
       "    <tr>\n",
       "      <th>4</th>\n",
       "      <td>-7.650454</td>\n",
       "      <td>3.817990</td>\n",
       "      <td>0</td>\n",
       "      <td>[-8.473834212520856, 8.397563767203438]</td>\n",
       "    </tr>\n",
       "    <tr>\n",
       "      <th>...</th>\n",
       "      <td>...</td>\n",
       "      <td>...</td>\n",
       "      <td>...</td>\n",
       "      <td>...</td>\n",
       "    </tr>\n",
       "    <tr>\n",
       "      <th>995</th>\n",
       "      <td>3.448592</td>\n",
       "      <td>10.028269</td>\n",
       "      <td>5</td>\n",
       "      <td>[3.5845999224188096, 9.112171083131264]</td>\n",
       "    </tr>\n",
       "    <tr>\n",
       "      <th>996</th>\n",
       "      <td>2.150113</td>\n",
       "      <td>10.050252</td>\n",
       "      <td>5</td>\n",
       "      <td>[3.5845999224188096, 9.112171083131264]</td>\n",
       "    </tr>\n",
       "    <tr>\n",
       "      <th>997</th>\n",
       "      <td>3.034253</td>\n",
       "      <td>10.906225</td>\n",
       "      <td>5</td>\n",
       "      <td>[3.5845999224188096, 9.112171083131264]</td>\n",
       "    </tr>\n",
       "    <tr>\n",
       "      <th>998</th>\n",
       "      <td>5.928050</td>\n",
       "      <td>12.131037</td>\n",
       "      <td>5</td>\n",
       "      <td>[3.5845999224188096, 9.112171083131264]</td>\n",
       "    </tr>\n",
       "    <tr>\n",
       "      <th>999</th>\n",
       "      <td>3.196669</td>\n",
       "      <td>6.576299</td>\n",
       "      <td>5</td>\n",
       "      <td>[3.5845999224188096, 9.112171083131264]</td>\n",
       "    </tr>\n",
       "  </tbody>\n",
       "</table>\n",
       "<p>1000 rows × 4 columns</p>\n",
       "</div>"
      ],
      "text/plain": [
       "             x          y  group                                centroids\n",
       "0   -10.350121   7.882919      0  [-8.473834212520856, 8.397563767203438]\n",
       "1    -6.957936   7.613495      0  [-8.473834212520856, 8.397563767203438]\n",
       "2    -9.202081   4.037840      0  [-8.473834212520856, 8.397563767203438]\n",
       "3    -6.810093   8.769206      0  [-8.473834212520856, 8.397563767203438]\n",
       "4    -7.650454   3.817990      0  [-8.473834212520856, 8.397563767203438]\n",
       "..         ...        ...    ...                                      ...\n",
       "995   3.448592  10.028269      5  [3.5845999224188096, 9.112171083131264]\n",
       "996   2.150113  10.050252      5  [3.5845999224188096, 9.112171083131264]\n",
       "997   3.034253  10.906225      5  [3.5845999224188096, 9.112171083131264]\n",
       "998   5.928050  12.131037      5  [3.5845999224188096, 9.112171083131264]\n",
       "999   3.196669   6.576299      5  [3.5845999224188096, 9.112171083131264]\n",
       "\n",
       "[1000 rows x 4 columns]"
      ]
     },
     "execution_count": 257,
     "metadata": {},
     "output_type": "execute_result"
    }
   ],
   "source": [
    "df_data"
   ]
  },
  {
   "cell_type": "code",
   "execution_count": 258,
   "metadata": {
    "tags": []
   },
   "outputs": [],
   "source": [
    "data = np.array(df_data[['x', 'y']])"
   ]
  },
  {
   "cell_type": "code",
   "execution_count": 259,
   "metadata": {
    "tags": []
   },
   "outputs": [
    {
     "data": {
      "text/plain": [
       "array([[-10.35012113,   7.88291898],\n",
       "       [ -6.95793609,   7.61349452],\n",
       "       [ -9.20208145,   4.03783953],\n",
       "       ...,\n",
       "       [  3.03425281,  10.90622495],\n",
       "       [  5.92805023,  12.13103683],\n",
       "       [  3.19666934,   6.57629883]])"
      ]
     },
     "execution_count": 259,
     "metadata": {},
     "output_type": "execute_result"
    }
   ],
   "source": [
    "data"
   ]
  },
  {
   "cell_type": "code",
   "execution_count": 260,
   "metadata": {
    "tags": []
   },
   "outputs": [],
   "source": [
    "n = len(data)\n",
    "dist = np.zeros((n,n))\n",
    "for i in range(n):\n",
    "    for j in range(n):\n",
    "        dist[i,j] = ((data[i]-data[j])**2).sum()\n"
   ]
  },
  {
   "cell_type": "code",
   "execution_count": 282,
   "metadata": {
    "tags": []
   },
   "outputs": [],
   "source": [
    "from typing import List, Union, Tuple"
   ]
  },
  {
   "cell_type": "code",
   "execution_count": 272,
   "metadata": {
    "tags": []
   },
   "outputs": [
    {
     "data": {
      "text/plain": [
       "numpy.ndarray"
      ]
     },
     "execution_count": 272,
     "metadata": {},
     "output_type": "execute_result"
    }
   ],
   "source": [
    "type(data)"
   ]
  },
  {
   "cell_type": "code",
   "execution_count": 283,
   "metadata": {
    "tags": []
   },
   "outputs": [],
   "source": [
    "def Kmeans(data: Union[List[float], np.ndarray], k: int) -> Tuple[np.ndarray, List[float]]:\n",
    "    np.random.seed(1)\n",
    "    n = len(data)\n",
    "    idx = np.random.choice(range(n), size=k, replace=False)\n",
    "    centroids = data[idx,:]\n",
    "    losses = []\n",
    "    for _ in range(100):\n",
    "        distance = []\n",
    "        for c in centroids:\n",
    "            distance.append(((data-c)**2).sum(axis=1))\n",
    "        assigned_centroids = np.array(distance).argmin(axis=0)\n",
    "        loss = 0\n",
    "        for c in range(k):\n",
    "            idx = np.argwhere(assigned_centroids==c).reshape(-1)\n",
    "            for i in idx:\n",
    "                for j in idx:\n",
    "                    loss += dist[i,j]\n",
    "        losses.append(loss/2)\n",
    "        new_centroids = []\n",
    "        for i in range(k):\n",
    "            new_centroids.append(data[assigned_centroids==i].mean(axis=0))\n",
    "        centroids = np.array(new_centroids)\n",
    "        if len(losses)>1 and abs(losses[-1]-losses[-2]) < 1:\n",
    "            break\n",
    "    \n",
    "    return centroids, losses"
   ]
  },
  {
   "cell_type": "code",
   "execution_count": 284,
   "metadata": {
    "tags": []
   },
   "outputs": [],
   "source": [
    "centroids_pred, losses = Kmeans(data, 3)"
   ]
  },
  {
   "cell_type": "code",
   "execution_count": 285,
   "metadata": {
    "tags": []
   },
   "outputs": [
    {
     "data": {
      "text/plain": [
       "[10465563.948556818,\n",
       " 9792264.318631835,\n",
       " 9534777.324858857,\n",
       " 9410667.226608101,\n",
       " 9324332.083274368,\n",
       " 9322004.378349379,\n",
       " 9322004.378349379]"
      ]
     },
     "execution_count": 285,
     "metadata": {},
     "output_type": "execute_result"
    }
   ],
   "source": [
    "losses"
   ]
  },
  {
   "cell_type": "code",
   "execution_count": 264,
   "metadata": {
    "tags": []
   },
   "outputs": [],
   "source": [
    "centroids_pred = []\n",
    "loss = []\n",
    "for k in range(2,10):\n",
    "    c, l = Kmeans(data, k)\n",
    "    centroids_pred.append(c)\n",
    "    loss.append(l[-1])"
   ]
  },
  {
   "cell_type": "code",
   "execution_count": 265,
   "metadata": {
    "tags": []
   },
   "outputs": [
    {
     "data": {
      "text/plain": [
       "[<matplotlib.lines.Line2D at 0x2990db460>]"
      ]
     },
     "execution_count": 265,
     "metadata": {},
     "output_type": "execute_result"
    },
    {
     "data": {
      "image/png": "[encoded data removed]",
      "text/plain": [
       "<Figure size 640x480 with 1 Axes>"
      ]
     },
     "metadata": {},
     "output_type": "display_data"
    }
   ],
   "source": [
    "plt.plot(np.linspace(2,9,8), loss, marker='*')"
   ]
  },
  {
   "cell_type": "code",
   "execution_count": 268,
   "metadata": {
    "tags": []
   },
   "outputs": [
    {
     "data": {
      "text/plain": [
       "<matplotlib.collections.PathCollection at 0x29921c100>"
      ]
     },
     "execution_count": 268,
     "metadata": {},
     "output_type": "execute_result"
    },
    {
     "data": {
      "image/png": "[encoded data removed]",
      "text/plain": [
       "<Figure size 640x480 with 1 Axes>"
      ]
     },
     "metadata": {},
     "output_type": "display_data"
    }
   ],
   "source": [
    "plt.scatter(points[0][:,0], points[0][:,1], s=2, color='b')\n",
    "plt.scatter(points[1][:,0], points[1][:,1], s=2, color='g')\n",
    "plt.scatter(points[2][:,0], points[2][:,1], s=2, color='y')\n",
    "plt.scatter(points[3][:,0], points[3][:,1], s=2, color='c')\n",
    "plt.scatter(points[4][:,0], points[4][:,1], s=2, color='orange')\n",
    "plt.scatter(points[5][:,0], points[5][:,1], s=2, color='black')\n",
    "plt.scatter(centroids[:,0], centroids[:,1], color='r')\n",
    "plt.scatter(centroids_pred[4][:,0], centroids_pred[4][:,1], color='m')"
   ]
  },
  {
   "cell_type": "code",
   "execution_count": null,
   "metadata": {},
   "outputs": [],
   "source": []
  },
  {
   "cell_type": "code",
   "execution_count": null,
   "metadata": {},
   "outputs": [],
   "source": []
  },
  {
   "cell_type": "code",
   "execution_count": null,
   "metadata": {},
   "outputs": [],
   "source": []
  }
 ],
 "metadata": {
  "kernelspec": {
   "display_name": "Python 3 (ipykernel)",
   "language": "python",
   "name": "python3"
  },
  "language_info": {
   "codemirror_mode": {
    "name": "ipython",
    "version": 3
   },
   "file_extension": ".py",
   "mimetype": "text/x-python",
   "name": "python",
   "nbconvert_exporter": "python",
   "pygments_lexer": "ipython3",
   "version": "3.8.12"
  }
 },
 "nbformat": 4,
 "nbformat_minor": 4
}
