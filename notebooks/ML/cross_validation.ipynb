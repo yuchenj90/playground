{
 "cells": [
  {
   "cell_type": "code",
   "execution_count": 19,
   "metadata": {},
   "outputs": [],
   "source": [
    "import pandas as pd\n",
    "import seaborn as sns\n",
    "import numpy as np"
   ]
  },
  {
   "cell_type": "markdown",
   "metadata": {},
   "source": [
    "# Generate training data"
   ]
  },
  {
   "cell_type": "code",
   "execution_count": 26,
   "metadata": {},
   "outputs": [],
   "source": [
    "num_features = 1000\n",
    "num_data = 20"
   ]
  },
  {
   "cell_type": "code",
   "execution_count": 27,
   "metadata": {},
   "outputs": [],
   "source": [
    "features = np.random.normal(size=(num_features,num_data))"
   ]
  },
  {
   "cell_type": "code",
   "execution_count": 31,
   "metadata": {},
   "outputs": [],
   "source": [
    "df = pd.DataFrame()\n",
    "for i in range(num_features):\n",
    "    df['x_{}'.format(i)] = features[i]"
   ]
  },
  {
   "cell_type": "code",
   "execution_count": 32,
   "metadata": {},
   "outputs": [],
   "source": [
    "df['y'] = np.random.randint(2,size=num_data)"
   ]
  },
  {
   "cell_type": "code",
   "execution_count": 33,
   "metadata": {},
   "outputs": [
    {
     "data": {
      "text/html": [
       "<div>\n",
       "<style scoped>\n",
       "    .dataframe tbody tr th:only-of-type {\n",
       "        vertical-align: middle;\n",
       "    }\n",
       "\n",
       "    .dataframe tbody tr th {\n",
       "        vertical-align: top;\n",
       "    }\n",
       "\n",
       "    .dataframe thead th {\n",
       "        text-align: right;\n",
       "    }\n",
       "</style>\n",
       "<table border=\"1\" class=\"dataframe\">\n",
       "  <thead>\n",
       "    <tr style=\"text-align: right;\">\n",
       "      <th></th>\n",
       "      <th>x_0</th>\n",
       "      <th>x_1</th>\n",
       "      <th>x_2</th>\n",
       "      <th>x_3</th>\n",
       "      <th>x_4</th>\n",
       "      <th>x_5</th>\n",
       "      <th>x_6</th>\n",
       "      <th>x_7</th>\n",
       "      <th>x_8</th>\n",
       "      <th>x_9</th>\n",
       "      <th>...</th>\n",
       "      <th>x_991</th>\n",
       "      <th>x_992</th>\n",
       "      <th>x_993</th>\n",
       "      <th>x_994</th>\n",
       "      <th>x_995</th>\n",
       "      <th>x_996</th>\n",
       "      <th>x_997</th>\n",
       "      <th>x_998</th>\n",
       "      <th>x_999</th>\n",
       "      <th>y</th>\n",
       "    </tr>\n",
       "  </thead>\n",
       "  <tbody>\n",
       "    <tr>\n",
       "      <th>0</th>\n",
       "      <td>-0.758268</td>\n",
       "      <td>0.733332</td>\n",
       "      <td>-0.216755</td>\n",
       "      <td>2.437540</td>\n",
       "      <td>-0.424452</td>\n",
       "      <td>-0.873683</td>\n",
       "      <td>-0.415759</td>\n",
       "      <td>-0.373350</td>\n",
       "      <td>-1.896155</td>\n",
       "      <td>-1.604126</td>\n",
       "      <td>...</td>\n",
       "      <td>-1.868494</td>\n",
       "      <td>-0.210578</td>\n",
       "      <td>-0.452361</td>\n",
       "      <td>0.740867</td>\n",
       "      <td>-0.634294</td>\n",
       "      <td>-0.613191</td>\n",
       "      <td>1.178419</td>\n",
       "      <td>-1.633131</td>\n",
       "      <td>-1.366668</td>\n",
       "      <td>1</td>\n",
       "    </tr>\n",
       "    <tr>\n",
       "      <th>1</th>\n",
       "      <td>0.499545</td>\n",
       "      <td>1.715791</td>\n",
       "      <td>0.228466</td>\n",
       "      <td>-0.364907</td>\n",
       "      <td>-0.177097</td>\n",
       "      <td>-0.026455</td>\n",
       "      <td>-0.954352</td>\n",
       "      <td>0.511370</td>\n",
       "      <td>1.418401</td>\n",
       "      <td>-2.951762</td>\n",
       "      <td>...</td>\n",
       "      <td>-0.565373</td>\n",
       "      <td>-0.416115</td>\n",
       "      <td>0.486722</td>\n",
       "      <td>-0.393259</td>\n",
       "      <td>0.364048</td>\n",
       "      <td>0.341979</td>\n",
       "      <td>1.345322</td>\n",
       "      <td>-1.272521</td>\n",
       "      <td>0.872826</td>\n",
       "      <td>1</td>\n",
       "    </tr>\n",
       "    <tr>\n",
       "      <th>2</th>\n",
       "      <td>0.002474</td>\n",
       "      <td>0.767844</td>\n",
       "      <td>-0.206633</td>\n",
       "      <td>0.057876</td>\n",
       "      <td>-0.064253</td>\n",
       "      <td>0.212192</td>\n",
       "      <td>2.308302</td>\n",
       "      <td>0.328050</td>\n",
       "      <td>0.396139</td>\n",
       "      <td>-0.881282</td>\n",
       "      <td>...</td>\n",
       "      <td>0.893318</td>\n",
       "      <td>-0.516983</td>\n",
       "      <td>0.900057</td>\n",
       "      <td>-3.153486</td>\n",
       "      <td>-0.710294</td>\n",
       "      <td>-1.210022</td>\n",
       "      <td>0.586816</td>\n",
       "      <td>-1.116137</td>\n",
       "      <td>0.752819</td>\n",
       "      <td>0</td>\n",
       "    </tr>\n",
       "    <tr>\n",
       "      <th>3</th>\n",
       "      <td>-0.180345</td>\n",
       "      <td>1.224257</td>\n",
       "      <td>-1.373010</td>\n",
       "      <td>0.046975</td>\n",
       "      <td>1.768243</td>\n",
       "      <td>-2.229293</td>\n",
       "      <td>-1.160698</td>\n",
       "      <td>0.853327</td>\n",
       "      <td>-1.225633</td>\n",
       "      <td>1.896572</td>\n",
       "      <td>...</td>\n",
       "      <td>1.010621</td>\n",
       "      <td>-1.995990</td>\n",
       "      <td>-1.634226</td>\n",
       "      <td>-0.009191</td>\n",
       "      <td>-0.006330</td>\n",
       "      <td>-0.399502</td>\n",
       "      <td>0.260885</td>\n",
       "      <td>0.906520</td>\n",
       "      <td>0.362111</td>\n",
       "      <td>1</td>\n",
       "    </tr>\n",
       "    <tr>\n",
       "      <th>4</th>\n",
       "      <td>-0.542886</td>\n",
       "      <td>0.040102</td>\n",
       "      <td>0.682495</td>\n",
       "      <td>1.051705</td>\n",
       "      <td>-0.236169</td>\n",
       "      <td>0.226137</td>\n",
       "      <td>0.062418</td>\n",
       "      <td>0.977017</td>\n",
       "      <td>0.559717</td>\n",
       "      <td>0.212490</td>\n",
       "      <td>...</td>\n",
       "      <td>-0.061105</td>\n",
       "      <td>0.895092</td>\n",
       "      <td>0.197777</td>\n",
       "      <td>0.936848</td>\n",
       "      <td>-0.472660</td>\n",
       "      <td>0.257669</td>\n",
       "      <td>1.122302</td>\n",
       "      <td>1.729031</td>\n",
       "      <td>0.337699</td>\n",
       "      <td>0</td>\n",
       "    </tr>\n",
       "  </tbody>\n",
       "</table>\n",
       "<p>5 rows × 1001 columns</p>\n",
       "</div>"
      ],
      "text/plain": [
       "        x_0       x_1       x_2       x_3       x_4       x_5       x_6  \\\n",
       "0 -0.758268  0.733332 -0.216755  2.437540 -0.424452 -0.873683 -0.415759   \n",
       "1  0.499545  1.715791  0.228466 -0.364907 -0.177097 -0.026455 -0.954352   \n",
       "2  0.002474  0.767844 -0.206633  0.057876 -0.064253  0.212192  2.308302   \n",
       "3 -0.180345  1.224257 -1.373010  0.046975  1.768243 -2.229293 -1.160698   \n",
       "4 -0.542886  0.040102  0.682495  1.051705 -0.236169  0.226137  0.062418   \n",
       "\n",
       "        x_7       x_8       x_9  ...     x_991     x_992     x_993     x_994  \\\n",
       "0 -0.373350 -1.896155 -1.604126  ... -1.868494 -0.210578 -0.452361  0.740867   \n",
       "1  0.511370  1.418401 -2.951762  ... -0.565373 -0.416115  0.486722 -0.393259   \n",
       "2  0.328050  0.396139 -0.881282  ...  0.893318 -0.516983  0.900057 -3.153486   \n",
       "3  0.853327 -1.225633  1.896572  ...  1.010621 -1.995990 -1.634226 -0.009191   \n",
       "4  0.977017  0.559717  0.212490  ... -0.061105  0.895092  0.197777  0.936848   \n",
       "\n",
       "      x_995     x_996     x_997     x_998     x_999  y  \n",
       "0 -0.634294 -0.613191  1.178419 -1.633131 -1.366668  1  \n",
       "1  0.364048  0.341979  1.345322 -1.272521  0.872826  1  \n",
       "2 -0.710294 -1.210022  0.586816 -1.116137  0.752819  0  \n",
       "3 -0.006330 -0.399502  0.260885  0.906520  0.362111  1  \n",
       "4 -0.472660  0.257669  1.122302  1.729031  0.337699  0  \n",
       "\n",
       "[5 rows x 1001 columns]"
      ]
     },
     "execution_count": 33,
     "metadata": {},
     "output_type": "execute_result"
    }
   ],
   "source": [
    "df.head()"
   ]
  },
  {
   "cell_type": "markdown",
   "metadata": {},
   "source": [
    "# A simple stump tree model"
   ]
  },
  {
   "cell_type": "code",
   "execution_count": 35,
   "metadata": {},
   "outputs": [],
   "source": [
    "flist = []\n",
    "for i in range(num_features):\n",
    "    flist += ['x_{}'.format(i)]"
   ]
  },
  {
   "cell_type": "code",
   "execution_count": 66,
   "metadata": {},
   "outputs": [],
   "source": [
    "X = np.array(df[flist])"
   ]
  },
  {
   "cell_type": "code",
   "execution_count": 67,
   "metadata": {},
   "outputs": [],
   "source": [
    "y = np.array(df['y'])"
   ]
  },
  {
   "cell_type": "code",
   "execution_count": 68,
   "metadata": {},
   "outputs": [],
   "source": [
    "from sklearn import tree\n",
    "clf = tree.DecisionTreeClassifier(max_depth=1)\n",
    "clf = clf.fit(X, y)"
   ]
  },
  {
   "cell_type": "code",
   "execution_count": 69,
   "metadata": {},
   "outputs": [
    {
     "data": {
      "text/plain": [
       "[Text(167.4, 163.07999999999998, 'X[515] <= 0.664\\ngini = 0.5\\nsamples = 20\\nvalue = [10, 10]'),\n",
       " Text(83.7, 54.360000000000014, 'gini = 0.355\\nsamples = 13\\nvalue = [3, 10]'),\n",
       " Text(251.10000000000002, 54.360000000000014, 'gini = 0.0\\nsamples = 7\\nvalue = [7, 0]')]"
      ]
     },
     "execution_count": 69,
     "metadata": {},
     "output_type": "execute_result"
    },
    {
     "data": {
      "image/png": "[encoded data removed]",
      "text/plain": [
       "<Figure size 432x288 with 1 Axes>"
      ]
     },
     "metadata": {
      "needs_background": "light"
     },
     "output_type": "display_data"
    }
   ],
   "source": [
    "tree.plot_tree(clf)"
   ]
  },
  {
   "cell_type": "code",
   "execution_count": 70,
   "metadata": {},
   "outputs": [
    {
     "name": "stdout",
     "output_type": "stream",
     "text": [
      "Training accuracy: 0.85\n"
     ]
    }
   ],
   "source": [
    "print(\"Training accuracy:\", (clf.predict(X)==y).mean())"
   ]
  },
  {
   "cell_type": "markdown",
   "metadata": {},
   "source": [
    "# Correct way of cross validation"
   ]
  },
  {
   "cell_type": "code",
   "execution_count": 71,
   "metadata": {},
   "outputs": [
    {
     "data": {
      "text/plain": [
       "5"
      ]
     },
     "execution_count": 71,
     "metadata": {},
     "output_type": "execute_result"
    }
   ],
   "source": [
    "from sklearn.model_selection import KFold\n",
    "kf = KFold(n_splits=5, shuffle=True, random_state = 12)\n",
    "kf.get_n_splits(X)"
   ]
  },
  {
   "cell_type": "code",
   "execution_count": 72,
   "metadata": {},
   "outputs": [
    {
     "name": "stdout",
     "output_type": "stream",
     "text": [
      "[ 0  1  2  3  4  5  6  8 10 11 12 14 15 16 17 18] [ 7  9 13 19]\n",
      "Training accuracy: 0.8125\n",
      "Testing accuracy: 1.0\n",
      "[ 0  1  2  3  4  5  6  7  9 11 12 13 15 17 18 19] [ 8 10 14 16]\n",
      "Training accuracy: 0.8125\n",
      "Testing accuracy: 1.0\n",
      "[ 0  2  3  6  7  8  9 10 11 12 13 14 15 16 17 19] [ 1  4  5 18]\n",
      "Training accuracy: 0.875\n",
      "Testing accuracy: 0.75\n",
      "[ 1  2  4  5  6  7  8  9 10 11 13 14 16 17 18 19] [ 0  3 12 15]\n",
      "Training accuracy: 0.8125\n",
      "Testing accuracy: 1.0\n",
      "[ 0  1  3  4  5  7  8  9 10 12 13 14 15 16 18 19] [ 2  6 11 17]\n",
      "Training accuracy: 0.9375\n",
      "Testing accuracy: 0.5\n"
     ]
    }
   ],
   "source": [
    "# Applying previous predictor\n",
    "for train_idx, test_idx in kf.split(X):\n",
    "    print(train_idx, test_idx)\n",
    "    print(\"Training accuracy:\", (clf.predict(X[train_idx])==y[train_idx]).mean())\n",
    "    print(\"Testing accuracy:\", (clf.predict(X[test_idx])==y[test_idx]).mean())"
   ]
  },
  {
   "cell_type": "code",
   "execution_count": 63,
   "metadata": {},
   "outputs": [
    {
     "name": "stdout",
     "output_type": "stream",
     "text": [
      "[ 0  1  2  3  4  5  6  8 10 11 12 14 15 16 17 18] [ 7  9 13 19]\n",
      "Training accuracy: 0.9375\n",
      "Testing accuracy: 0.25\n",
      "[ 0  1  2  3  4  5  6  7  9 11 12 13 15 17 18 19] [ 8 10 14 16]\n",
      "Training accuracy: 0.875\n",
      "Testing accuracy: 0.75\n",
      "[ 0  2  3  6  7  8  9 10 11 12 13 14 15 16 17 19] [ 1  4  5 18]\n",
      "Training accuracy: 0.9375\n",
      "Testing accuracy: 0.0\n",
      "[ 1  2  4  5  6  7  8  9 10 11 13 14 16 17 18 19] [ 0  3 12 15]\n",
      "Training accuracy: 1.0\n",
      "Testing accuracy: 0.25\n",
      "[ 0  1  3  4  5  7  8  9 10 12 13 14 15 16 18 19] [ 2  6 11 17]\n",
      "Training accuracy: 0.9375\n",
      "Testing accuracy: 0.5\n"
     ]
    }
   ],
   "source": [
    "for train_idx, test_idx in kf.split(X):\n",
    "    print(train_idx, test_idx)\n",
    "    clf = tree.DecisionTreeClassifier(max_depth=1)\n",
    "    clf = clf.fit(X[train_idx], y[train_idx])\n",
    "    print(\"Training accuracy:\", (clf.predict(X[train_idx])==y[train_idx]).mean())\n",
    "    print(\"Testing accuracy:\", (clf.predict(X[test_idx])==y[test_idx]).mean())"
   ]
  },
  {
   "cell_type": "code",
   "execution_count": null,
   "metadata": {},
   "outputs": [],
   "source": []
  },
  {
   "cell_type": "code",
   "execution_count": null,
   "metadata": {},
   "outputs": [],
   "source": []
  }
 ],
 "metadata": {
  "kernelspec": {
   "display_name": "Python 3",
   "language": "python",
   "name": "python3"
  },
  "language_info": {
   "codemirror_mode": {
    "name": "ipython",
    "version": 3
   },
   "file_extension": ".py",
   "mimetype": "text/x-python",
   "name": "python",
   "nbconvert_exporter": "python",
   "pygments_lexer": "ipython3",
   "version": "3.8.6"
  }
 },
 "nbformat": 4,
 "nbformat_minor": 4
}
