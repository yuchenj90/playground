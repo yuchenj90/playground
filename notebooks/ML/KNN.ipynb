{
 "cells": [
  {
   "cell_type": "code",
   "execution_count": 1,
   "id": "76ef654a-b9b3-438a-a406-eed727a895b0",
   "metadata": {
    "tags": []
   },
   "outputs": [],
   "source": [
    "import numpy as np\n",
    "from matplotlib import pyplot as plt"
   ]
  },
  {
   "cell_type": "code",
   "execution_count": 2,
   "id": "647c5d1d-f452-48bb-92df-7d649a37cee9",
   "metadata": {
    "tags": []
   },
   "outputs": [],
   "source": [
    "x = np.random.uniform(size=(200,2))\n",
    "x[:,0] = (x[:,0]-0.5)*10\n",
    "x[:,1] = (x[:,1]-0.6)*15"
   ]
  },
  {
   "cell_type": "code",
   "execution_count": 3,
   "id": "766e5091-631f-4bdd-aa26-c6bd75a7d012",
   "metadata": {
    "tags": []
   },
   "outputs": [],
   "source": [
    "y = (((x[:,0]**2 + x[:,1]**2) < 25) & ((x[:,0]**2 + x[:,1]**2) > 10))"
   ]
  },
  {
   "cell_type": "code",
   "execution_count": 4,
   "id": "b22b3eca-33c8-40f3-86f1-3838cada6477",
   "metadata": {
    "tags": []
   },
   "outputs": [
    {
     "data": {
      "text/plain": [
       "<matplotlib.collections.PathCollection at 0x1196caa30>"
      ]
     },
     "execution_count": 4,
     "metadata": {},
     "output_type": "execute_result"
    },
    {
     "data": {
      "image/png": "[encoded data removed]",
      "text/plain": [
       "<Figure size 640x480 with 1 Axes>"
      ]
     },
     "metadata": {},
     "output_type": "display_data"
    }
   ],
   "source": [
    "plt.scatter(x[y==True,0], x[y==True,1], color = 'b')\n",
    "plt.scatter(x[y==False,0], x[y==False,1], color = 'r')\n"
   ]
  },
  {
   "cell_type": "code",
   "execution_count": 51,
   "id": "ae3f0a17-bd6c-4e23-bdcb-fadb307e0f6f",
   "metadata": {
    "tags": []
   },
   "outputs": [],
   "source": [
    "class KNN():\n",
    "    def __init__(self, k: int = 3) -> None:\n",
    "        self.k = k\n",
    "    \n",
    "    def fit(self, x, y):\n",
    "        self.data = x  # (train size, input dim)\n",
    "        self.label = y # (train size)\n",
    "    \n",
    "    def predict(self, x):\n",
    "        # x can be (batch_size, input_dim)\n",
    "        def _predict_single(x):\n",
    "            dist = np.linalg.norm(np.transpose(self.data) - x.reshape((-1,1)), axis=0)\n",
    "            idx = np.argpartition(dist, kth=self.k)[:self.k] # index of k closest point\n",
    "            return (self.label[idx].mean()>=0.5)\n",
    "            \n",
    "        if len(x.shape)>1:\n",
    "            assert (x.shape[1]==self.data.shape[1]), \"Input dimension does not match!\"\n",
    "            res = []\n",
    "            for i in range(len(x)):\n",
    "                res.append(_predict_single(x[i]))\n",
    "            return np.array(res)\n",
    "                \n",
    "        else:\n",
    "            return np.array(_predict_single(x))"
   ]
  },
  {
   "cell_type": "code",
   "execution_count": 52,
   "id": "daa8ea6e-d929-4b1b-9aee-dffa183ed655",
   "metadata": {
    "tags": []
   },
   "outputs": [],
   "source": [
    "np.random.seed(12)\n",
    "test_idx = np.random.choice(len(x), int(0.3*len(x)), replace=False)\n",
    "train_idx = np.array(list(set([i for i in range(len(x))]) - set(list(test_idx))))\n",
    "X_train, y_train = x[train_idx], y[train_idx]\n",
    "X_test, y_test = x[test_idx], y[test_idx]"
   ]
  },
  {
   "cell_type": "code",
   "execution_count": 57,
   "id": "80e5f2ab-a011-493c-8061-3f53c7d826ba",
   "metadata": {
    "tags": []
   },
   "outputs": [],
   "source": [
    "clf = KNN(k=3)"
   ]
  },
  {
   "cell_type": "code",
   "execution_count": 58,
   "id": "4eb732a0-7abb-48da-b7e4-7c3228dd2758",
   "metadata": {
    "tags": []
   },
   "outputs": [],
   "source": [
    "clf.fit(X_train, y_train)"
   ]
  },
  {
   "cell_type": "code",
   "execution_count": 59,
   "id": "8f622bb4-c0e2-478d-afd4-617ef52b7f86",
   "metadata": {
    "tags": []
   },
   "outputs": [
    {
     "data": {
      "text/plain": [
       "0.95"
      ]
     },
     "execution_count": 59,
     "metadata": {},
     "output_type": "execute_result"
    }
   ],
   "source": [
    "(clf.predict(X_train) == y_train).mean()"
   ]
  },
  {
   "cell_type": "code",
   "execution_count": 60,
   "id": "feb5c99c-60fb-4b06-bfc1-833059060656",
   "metadata": {
    "tags": []
   },
   "outputs": [
    {
     "data": {
      "text/plain": [
       "0.95"
      ]
     },
     "execution_count": 60,
     "metadata": {},
     "output_type": "execute_result"
    }
   ],
   "source": [
    "(clf.predict(X_test) == y_test).mean()"
   ]
  },
  {
   "cell_type": "code",
   "execution_count": null,
   "id": "ff223cf2-64e9-4645-a972-010f1d73e9bf",
   "metadata": {},
   "outputs": [],
   "source": []
  },
  {
   "cell_type": "code",
   "execution_count": null,
   "id": "cd21a24f-2ad4-44b9-af09-7df7c4611771",
   "metadata": {},
   "outputs": [],
   "source": []
  },
  {
   "cell_type": "code",
   "execution_count": null,
   "id": "6420af3f-a95a-4e3f-bee7-c4a6a8f72faf",
   "metadata": {},
   "outputs": [],
   "source": []
  }
 ],
 "metadata": {
  "kernelspec": {
   "display_name": "Python 3 (ipykernel)",
   "language": "python",
   "name": "python3"
  },
  "language_info": {
   "codemirror_mode": {
    "name": "ipython",
    "version": 3
   },
   "file_extension": ".py",
   "mimetype": "text/x-python",
   "name": "python",
   "nbconvert_exporter": "python",
   "pygments_lexer": "ipython3",
   "version": "3.8.12"
  }
 },
 "nbformat": 4,
 "nbformat_minor": 5
}
