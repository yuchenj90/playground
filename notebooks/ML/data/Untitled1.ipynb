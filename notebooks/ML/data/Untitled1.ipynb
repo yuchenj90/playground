{
 "cells": [
  {
   "cell_type": "code",
   "execution_count": 14,
   "id": "963019b9-73f4-44ff-ac55-96d839fadb8f",
   "metadata": {
    "tags": []
   },
   "outputs": [],
   "source": [
    "n = 4\n",
    "m = 8\n",
    "# arr = [[0,1,0,1],[1,0,1,0],[0,1,0,1],[1,0,1,0]]\n",
    "arr = [[0 for i in range(m)] for j in range(n)]\n",
    "arr_tuple = tuple(tuple(t) for t in arr)"
   ]
  },
  {
   "cell_type": "code",
   "execution_count": 15,
   "id": "e0395d6d-d3c9-4b58-9c7f-0a95ce676bb2",
   "metadata": {
    "tags": []
   },
   "outputs": [],
   "source": [
    "tar = [[1 for i in range(m)] for j in range(n)]\n",
    "tar_tuple = tuple(tuple(t) for t in tar)"
   ]
  },
  {
   "cell_type": "code",
   "execution_count": 16,
   "id": "9299218c-1293-4422-b5a9-76967c23a08f",
   "metadata": {
    "tags": []
   },
   "outputs": [],
   "source": [
    "visited = {}\n",
    "visited[tuple(tuple(x) for x in arr)] = 0"
   ]
  },
  {
   "cell_type": "code",
   "execution_count": null,
   "id": "d7a614d5-c4e0-446f-af37-8d80d2cfb358",
   "metadata": {
    "tags": []
   },
   "outputs": [
    {
     "name": "stderr",
     "output_type": "stream",
     "text": [
      "IOStream.flush timed out\n"
     ]
    }
   ],
   "source": [
    "queue = [arr_tuple]\n",
    "p = 0\n",
    "while p < len(queue):\n",
    "    cur = queue[p]\n",
    "    for i in range(n):\n",
    "        for j in range(m):\n",
    "            l = list(list(x) for x in cur)\n",
    "            l[i][j] = 1 - l[i][j]\n",
    "            if i>0:\n",
    "                l[i-1][j] = 1 - l[i-1][j]\n",
    "            if j>0:\n",
    "                l[i][j-1] = 1 - l[i][j-1]\n",
    "            if i+1<n:\n",
    "                l[i+1][j] = 1 - l[i+1][j]\n",
    "            if j+1<m:\n",
    "                l[i][j+1] = 1 - l[i][j+1]\n",
    "            l_tuple = tuple(tuple(t) for t in l)\n",
    "            if l_tuple not in visited:\n",
    "                visited[l_tuple] = cur\n",
    "                queue.append(l_tuple)\n",
    "            if l_tuple == tar_tuple:\n",
    "                print(visited[l_tuple]) \n",
    "    p += 1"
   ]
  },
  {
   "cell_type": "code",
   "execution_count": null,
   "id": "88a5a237-3c15-4324-b98e-4f07f9b0d8c3",
   "metadata": {
    "tags": []
   },
   "outputs": [],
   "source": [
    "len(queue)"
   ]
  },
  {
   "cell_type": "code",
   "execution_count": 12,
   "id": "21f85705-9e5d-472a-ae45-0b50f8585a70",
   "metadata": {
    "tags": []
   },
   "outputs": [
    {
     "name": "stdout",
     "output_type": "stream",
     "text": [
      "((1, 1, 1, 1, 1), (1, 1, 1, 1, 1), (1, 1, 1, 1, 1), (1, 1, 1, 1, 0), (1, 1, 1, 0, 0))\n",
      "((1, 1, 1, 1, 1), (1, 1, 1, 1, 1), (1, 1, 1, 1, 1), (1, 1, 0, 1, 0), (1, 0, 0, 1, 0))\n",
      "((1, 1, 1, 1, 1), (1, 1, 1, 1, 1), (1, 1, 1, 1, 1), (1, 0, 0, 1, 0), (0, 1, 1, 1, 0))\n",
      "((1, 1, 1, 1, 1), (1, 1, 1, 1, 1), (1, 1, 1, 0, 1), (1, 0, 1, 0, 1), (0, 1, 1, 0, 0))\n",
      "((1, 1, 1, 1, 1), (1, 1, 1, 1, 1), (1, 1, 0, 0, 1), (1, 1, 0, 1, 1), (0, 1, 0, 0, 0))\n",
      "((1, 1, 1, 1, 1), (1, 1, 1, 1, 1), (1, 0, 0, 0, 1), (0, 0, 1, 1, 1), (0, 0, 0, 0, 0))\n",
      "((1, 1, 1, 1, 1), (1, 1, 1, 1, 0), (1, 0, 0, 1, 0), (0, 0, 1, 1, 0), (0, 0, 0, 0, 0))\n",
      "((1, 1, 1, 1, 1), (1, 1, 1, 0, 0), (1, 0, 1, 0, 1), (0, 0, 1, 0, 0), (0, 0, 0, 0, 0))\n",
      "((1, 1, 1, 1, 1), (1, 1, 0, 0, 0), (1, 1, 0, 1, 1), (0, 0, 0, 0, 0), (0, 0, 0, 0, 0))\n",
      "((1, 1, 1, 1, 0), (1, 1, 0, 1, 1), (1, 1, 0, 1, 0), (0, 0, 0, 0, 0), (0, 0, 0, 0, 0))\n",
      "((1, 1, 1, 0, 0), (1, 1, 1, 0, 0), (1, 1, 0, 0, 0), (0, 0, 0, 0, 0), (0, 0, 0, 0, 0))\n",
      "((1, 0, 1, 0, 0), (0, 0, 0, 0, 0), (1, 0, 0, 0, 0), (0, 0, 0, 0, 0), (0, 0, 0, 0, 0))\n",
      "((0, 0, 1, 0, 0), (1, 1, 0, 0, 0), (0, 0, 0, 0, 0), (0, 0, 0, 0, 0), (0, 0, 0, 0, 0))\n",
      "((1, 1, 0, 0, 0), (1, 0, 0, 0, 0), (0, 0, 0, 0, 0), (0, 0, 0, 0, 0), (0, 0, 0, 0, 0))\n",
      "((0, 0, 0, 0, 0), (0, 0, 0, 0, 0), (0, 0, 0, 0, 0), (0, 0, 0, 0, 0), (0, 0, 0, 0, 0))\n"
     ]
    }
   ],
   "source": [
    "x = tar_tuple\n",
    "while x!=arr_tuple:\n",
    "    print(visited[x])\n",
    "    x = visited[x]"
   ]
  },
  {
   "cell_type": "code",
   "execution_count": 13,
   "id": "57757034-fce2-4ca5-a3df-a8a3a24673a4",
   "metadata": {
    "tags": []
   },
   "outputs": [
    {
     "data": {
      "text/plain": [
       "2048.0"
      ]
     },
     "execution_count": 13,
     "metadata": {},
     "output_type": "execute_result"
    }
   ],
   "source": [
    "8388608/4096"
   ]
  },
  {
   "cell_type": "code",
   "execution_count": null,
   "id": "fb09f0c0-45a1-4fee-b1b5-04dc048a306c",
   "metadata": {},
   "outputs": [],
   "source": [
    "00\n",
    "00\n",
    "\n",
    "11\n",
    "10\n",
    "\n",
    "00\n",
    "11\n",
    "\n",
    "10\n",
    "00\n",
    "\n",
    "16->512->4096\n",
    "\n",
    "\n",
    "0000\n",
    "0000\n",
    "0000\n",
    "0000\n",
    "\n",
    "1110\n",
    "0100\n",
    "0000\n",
    "0000\n",
    "\n",
    "1111\n",
    "0111\n",
    "0001\n",
    "0000\n",
    "\n",
    "1111\n",
    "1111\n",
    "1101\n",
    "1000\n",
    "\n",
    "1111\n",
    "1111\n",
    "1111\n",
    "1111"
   ]
  }
 ],
 "metadata": {
  "kernelspec": {
   "display_name": "Python 3 (ipykernel)",
   "language": "python",
   "name": "python3"
  },
  "language_info": {
   "codemirror_mode": {
    "name": "ipython",
    "version": 3
   },
   "file_extension": ".py",
   "mimetype": "text/x-python",
   "name": "python",
   "nbconvert_exporter": "python",
   "pygments_lexer": "ipython3",
   "version": "3.8.12"
  }
 },
 "nbformat": 4,
 "nbformat_minor": 5
}
