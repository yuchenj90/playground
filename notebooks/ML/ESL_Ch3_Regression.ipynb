{
 "cells": [
  {
   "cell_type": "code",
   "execution_count": 1,
   "metadata": {},
   "outputs": [],
   "source": [
    "import pandas as pd\n",
    "import seaborn as sns\n",
    "import numpy as np\n",
    "from matplotlib import pyplot as plt"
   ]
  },
  {
   "cell_type": "markdown",
   "metadata": {},
   "source": [
    "# Read Prostate data"
   ]
  },
  {
   "cell_type": "code",
   "execution_count": 2,
   "metadata": {},
   "outputs": [],
   "source": [
    "df = pd.read_csv('data/prostate.data',sep='\\t')"
   ]
  },
  {
   "cell_type": "code",
   "execution_count": 3,
   "metadata": {},
   "outputs": [
    {
     "data": {
      "text/plain": [
       "Index(['Unnamed: 0', 'lcavol', 'lweight', 'age', 'lbph', 'svi', 'lcp',\n",
       "       'gleason', 'pgg45', 'lpsa', 'train'],\n",
       "      dtype='object')"
      ]
     },
     "execution_count": 3,
     "metadata": {},
     "output_type": "execute_result"
    }
   ],
   "source": [
    "df.columns"
   ]
  },
  {
   "cell_type": "code",
   "execution_count": 4,
   "metadata": {},
   "outputs": [],
   "source": [
    "df.drop(columns=['Unnamed: 0'],inplace=True)"
   ]
  },
  {
   "cell_type": "code",
   "execution_count": 5,
   "metadata": {},
   "outputs": [],
   "source": [
    "df_train = df[df['train']=='T'].reset_index(drop=True)\n",
    "df_test = df[df['train']=='F'].reset_index(drop=True)"
   ]
  },
  {
   "cell_type": "markdown",
   "metadata": {},
   "source": [
    "## Correlation matrix"
   ]
  },
  {
   "cell_type": "code",
   "execution_count": 6,
   "metadata": {},
   "outputs": [
    {
     "data": {
      "text/html": [
       "<style  type=\"text/css\" >\n",
       "    #T_1add9458_a35e_11ea_8c93_acde48001122row0_col0 {\n",
       "            background-color:  #b40426;\n",
       "            color:  #f1f1f1;\n",
       "        }    #T_1add9458_a35e_11ea_8c93_acde48001122row0_col1 {\n",
       "            background-color:  #98b9ff;\n",
       "            color:  #000000;\n",
       "        }    #T_1add9458_a35e_11ea_8c93_acde48001122row0_col2 {\n",
       "            background-color:  #7597f6;\n",
       "            color:  #000000;\n",
       "        }    #T_1add9458_a35e_11ea_8c93_acde48001122row0_col3 {\n",
       "            background-color:  #7396f5;\n",
       "            color:  #000000;\n",
       "        }    #T_1add9458_a35e_11ea_8c93_acde48001122row0_col4 {\n",
       "            background-color:  #f6bfa6;\n",
       "            color:  #000000;\n",
       "        }    #T_1add9458_a35e_11ea_8c93_acde48001122row0_col5 {\n",
       "            background-color:  #f7a688;\n",
       "            color:  #000000;\n",
       "        }    #T_1add9458_a35e_11ea_8c93_acde48001122row0_col6 {\n",
       "            background-color:  #c4d5f3;\n",
       "            color:  #000000;\n",
       "        }    #T_1add9458_a35e_11ea_8c93_acde48001122row0_col7 {\n",
       "            background-color:  #dcdddd;\n",
       "            color:  #000000;\n",
       "        }    #T_1add9458_a35e_11ea_8c93_acde48001122row0_col8 {\n",
       "            background-color:  #f7bca1;\n",
       "            color:  #000000;\n",
       "        }    #T_1add9458_a35e_11ea_8c93_acde48001122row1_col0 {\n",
       "            background-color:  #8db0fe;\n",
       "            color:  #000000;\n",
       "        }    #T_1add9458_a35e_11ea_8c93_acde48001122row1_col1 {\n",
       "            background-color:  #b40426;\n",
       "            color:  #f1f1f1;\n",
       "        }    #T_1add9458_a35e_11ea_8c93_acde48001122row1_col2 {\n",
       "            background-color:  #81a4fb;\n",
       "            color:  #000000;\n",
       "        }    #T_1add9458_a35e_11ea_8c93_acde48001122row1_col3 {\n",
       "            background-color:  #dedcdb;\n",
       "            color:  #000000;\n",
       "        }    #T_1add9458_a35e_11ea_8c93_acde48001122row1_col4 {\n",
       "            background-color:  #97b8ff;\n",
       "            color:  #000000;\n",
       "        }    #T_1add9458_a35e_11ea_8c93_acde48001122row1_col5 {\n",
       "            background-color:  #84a7fc;\n",
       "            color:  #000000;\n",
       "        }    #T_1add9458_a35e_11ea_8c93_acde48001122row1_col6 {\n",
       "            background-color:  #3b4cc0;\n",
       "            color:  #f1f1f1;\n",
       "        }    #T_1add9458_a35e_11ea_8c93_acde48001122row1_col7 {\n",
       "            background-color:  #5977e3;\n",
       "            color:  #000000;\n",
       "        }    #T_1add9458_a35e_11ea_8c93_acde48001122row1_col8 {\n",
       "            background-color:  #aac7fd;\n",
       "            color:  #000000;\n",
       "        }    #T_1add9458_a35e_11ea_8c93_acde48001122row2_col0 {\n",
       "            background-color:  #88abfd;\n",
       "            color:  #000000;\n",
       "        }    #T_1add9458_a35e_11ea_8c93_acde48001122row2_col1 {\n",
       "            background-color:  #9ebeff;\n",
       "            color:  #000000;\n",
       "        }    #T_1add9458_a35e_11ea_8c93_acde48001122row2_col2 {\n",
       "            background-color:  #b40426;\n",
       "            color:  #f1f1f1;\n",
       "        }    #T_1add9458_a35e_11ea_8c93_acde48001122row2_col3 {\n",
       "            background-color:  #b7cff9;\n",
       "            color:  #000000;\n",
       "        }    #T_1add9458_a35e_11ea_8c93_acde48001122row2_col4 {\n",
       "            background-color:  #88abfd;\n",
       "            color:  #000000;\n",
       "        }    #T_1add9458_a35e_11ea_8c93_acde48001122row2_col5 {\n",
       "            background-color:  #89acfd;\n",
       "            color:  #000000;\n",
       "        }    #T_1add9458_a35e_11ea_8c93_acde48001122row2_col6 {\n",
       "            background-color:  #afcafc;\n",
       "            color:  #000000;\n",
       "        }    #T_1add9458_a35e_11ea_8c93_acde48001122row2_col7 {\n",
       "            background-color:  #9ebeff;\n",
       "            color:  #000000;\n",
       "        }    #T_1add9458_a35e_11ea_8c93_acde48001122row2_col8 {\n",
       "            background-color:  #3b4cc0;\n",
       "            color:  #f1f1f1;\n",
       "        }    #T_1add9458_a35e_11ea_8c93_acde48001122row3_col0 {\n",
       "            background-color:  #3b4cc0;\n",
       "            color:  #f1f1f1;\n",
       "        }    #T_1add9458_a35e_11ea_8c93_acde48001122row3_col1 {\n",
       "            background-color:  #c7d7f0;\n",
       "            color:  #000000;\n",
       "        }    #T_1add9458_a35e_11ea_8c93_acde48001122row3_col2 {\n",
       "            background-color:  #7597f6;\n",
       "            color:  #000000;\n",
       "        }    #T_1add9458_a35e_11ea_8c93_acde48001122row3_col3 {\n",
       "            background-color:  #b40426;\n",
       "            color:  #f1f1f1;\n",
       "        }    #T_1add9458_a35e_11ea_8c93_acde48001122row3_col4 {\n",
       "            background-color:  #3b4cc0;\n",
       "            color:  #f1f1f1;\n",
       "        }    #T_1add9458_a35e_11ea_8c93_acde48001122row3_col5 {\n",
       "            background-color:  #3b4cc0;\n",
       "            color:  #f1f1f1;\n",
       "        }    #T_1add9458_a35e_11ea_8c93_acde48001122row3_col6 {\n",
       "            background-color:  #3d50c3;\n",
       "            color:  #f1f1f1;\n",
       "        }    #T_1add9458_a35e_11ea_8c93_acde48001122row3_col7 {\n",
       "            background-color:  #3b4cc0;\n",
       "            color:  #f1f1f1;\n",
       "        }    #T_1add9458_a35e_11ea_8c93_acde48001122row3_col8 {\n",
       "            background-color:  #485fd1;\n",
       "            color:  #f1f1f1;\n",
       "        }    #T_1add9458_a35e_11ea_8c93_acde48001122row4_col0 {\n",
       "            background-color:  #ecd3c5;\n",
       "            color:  #000000;\n",
       "        }    #T_1add9458_a35e_11ea_8c93_acde48001122row4_col1 {\n",
       "            background-color:  #6e90f2;\n",
       "            color:  #000000;\n",
       "        }    #T_1add9458_a35e_11ea_8c93_acde48001122row4_col2 {\n",
       "            background-color:  #3b4cc0;\n",
       "            color:  #f1f1f1;\n",
       "        }    #T_1add9458_a35e_11ea_8c93_acde48001122row4_col3 {\n",
       "            background-color:  #3b4cc0;\n",
       "            color:  #f1f1f1;\n",
       "        }    #T_1add9458_a35e_11ea_8c93_acde48001122row4_col4 {\n",
       "            background-color:  #b40426;\n",
       "            color:  #f1f1f1;\n",
       "        }    #T_1add9458_a35e_11ea_8c93_acde48001122row4_col5 {\n",
       "            background-color:  #f7ad90;\n",
       "            color:  #000000;\n",
       "        }    #T_1add9458_a35e_11ea_8c93_acde48001122row4_col6 {\n",
       "            background-color:  #9bbcff;\n",
       "            color:  #000000;\n",
       "        }    #T_1add9458_a35e_11ea_8c93_acde48001122row4_col7 {\n",
       "            background-color:  #dcdddd;\n",
       "            color:  #000000;\n",
       "        }    #T_1add9458_a35e_11ea_8c93_acde48001122row4_col8 {\n",
       "            background-color:  #c9d7f0;\n",
       "            color:  #000000;\n",
       "        }    #T_1add9458_a35e_11ea_8c93_acde48001122row5_col0 {\n",
       "            background-color:  #f7b79b;\n",
       "            color:  #000000;\n",
       "        }    #T_1add9458_a35e_11ea_8c93_acde48001122row5_col1 {\n",
       "            background-color:  #6485ec;\n",
       "            color:  #000000;\n",
       "        }    #T_1add9458_a35e_11ea_8c93_acde48001122row5_col2 {\n",
       "            background-color:  #4961d2;\n",
       "            color:  #f1f1f1;\n",
       "        }    #T_1add9458_a35e_11ea_8c93_acde48001122row5_col3 {\n",
       "            background-color:  #485fd1;\n",
       "            color:  #f1f1f1;\n",
       "        }    #T_1add9458_a35e_11ea_8c93_acde48001122row5_col4 {\n",
       "            background-color:  #f7a889;\n",
       "            color:  #000000;\n",
       "        }    #T_1add9458_a35e_11ea_8c93_acde48001122row5_col5 {\n",
       "            background-color:  #b40426;\n",
       "            color:  #f1f1f1;\n",
       "        }    #T_1add9458_a35e_11ea_8c93_acde48001122row5_col6 {\n",
       "            background-color:  #d3dbe7;\n",
       "            color:  #000000;\n",
       "        }    #T_1add9458_a35e_11ea_8c93_acde48001122row5_col7 {\n",
       "            background-color:  #f7b599;\n",
       "            color:  #000000;\n",
       "        }    #T_1add9458_a35e_11ea_8c93_acde48001122row5_col8 {\n",
       "            background-color:  #abc8fd;\n",
       "            color:  #000000;\n",
       "        }    #T_1add9458_a35e_11ea_8c93_acde48001122row6_col0 {\n",
       "            background-color:  #bcd2f7;\n",
       "            color:  #000000;\n",
       "        }    #T_1add9458_a35e_11ea_8c93_acde48001122row6_col1 {\n",
       "            background-color:  #3b4cc0;\n",
       "            color:  #f1f1f1;\n",
       "        }    #T_1add9458_a35e_11ea_8c93_acde48001122row6_col2 {\n",
       "            background-color:  #94b6ff;\n",
       "            color:  #000000;\n",
       "        }    #T_1add9458_a35e_11ea_8c93_acde48001122row6_col3 {\n",
       "            background-color:  #6a8bef;\n",
       "            color:  #000000;\n",
       "        }    #T_1add9458_a35e_11ea_8c93_acde48001122row6_col4 {\n",
       "            background-color:  #bed2f6;\n",
       "            color:  #000000;\n",
       "        }    #T_1add9458_a35e_11ea_8c93_acde48001122row6_col5 {\n",
       "            background-color:  #e1dad6;\n",
       "            color:  #000000;\n",
       "        }    #T_1add9458_a35e_11ea_8c93_acde48001122row6_col6 {\n",
       "            background-color:  #b40426;\n",
       "            color:  #f1f1f1;\n",
       "        }    #T_1add9458_a35e_11ea_8c93_acde48001122row6_col7 {\n",
       "            background-color:  #f39475;\n",
       "            color:  #000000;\n",
       "        }    #T_1add9458_a35e_11ea_8c93_acde48001122row6_col8 {\n",
       "            background-color:  #688aef;\n",
       "            color:  #000000;\n",
       "        }    #T_1add9458_a35e_11ea_8c93_acde48001122row7_col0 {\n",
       "            background-color:  #cedaeb;\n",
       "            color:  #000000;\n",
       "        }    #T_1add9458_a35e_11ea_8c93_acde48001122row7_col1 {\n",
       "            background-color:  #4a63d3;\n",
       "            color:  #f1f1f1;\n",
       "        }    #T_1add9458_a35e_11ea_8c93_acde48001122row7_col2 {\n",
       "            background-color:  #7093f3;\n",
       "            color:  #000000;\n",
       "        }    #T_1add9458_a35e_11ea_8c93_acde48001122row7_col3 {\n",
       "            background-color:  #5875e1;\n",
       "            color:  #000000;\n",
       "        }    #T_1add9458_a35e_11ea_8c93_acde48001122row7_col4 {\n",
       "            background-color:  #e8d6cc;\n",
       "            color:  #000000;\n",
       "        }    #T_1add9458_a35e_11ea_8c93_acde48001122row7_col5 {\n",
       "            background-color:  #f7b093;\n",
       "            color:  #000000;\n",
       "        }    #T_1add9458_a35e_11ea_8c93_acde48001122row7_col6 {\n",
       "            background-color:  #f4987a;\n",
       "            color:  #000000;\n",
       "        }    #T_1add9458_a35e_11ea_8c93_acde48001122row7_col7 {\n",
       "            background-color:  #b40426;\n",
       "            color:  #f1f1f1;\n",
       "        }    #T_1add9458_a35e_11ea_8c93_acde48001122row7_col8 {\n",
       "            background-color:  #98b9ff;\n",
       "            color:  #000000;\n",
       "        }    #T_1add9458_a35e_11ea_8c93_acde48001122row8_col0 {\n",
       "            background-color:  #f7a688;\n",
       "            color:  #000000;\n",
       "        }    #T_1add9458_a35e_11ea_8c93_acde48001122row8_col1 {\n",
       "            background-color:  #d5dbe5;\n",
       "            color:  #000000;\n",
       "        }    #T_1add9458_a35e_11ea_8c93_acde48001122row8_col2 {\n",
       "            background-color:  #5e7de7;\n",
       "            color:  #000000;\n",
       "        }    #T_1add9458_a35e_11ea_8c93_acde48001122row8_col3 {\n",
       "            background-color:  #b1cbfc;\n",
       "            color:  #000000;\n",
       "        }    #T_1add9458_a35e_11ea_8c93_acde48001122row8_col4 {\n",
       "            background-color:  #f3c8b2;\n",
       "            color:  #000000;\n",
       "        }    #T_1add9458_a35e_11ea_8c93_acde48001122row8_col5 {\n",
       "            background-color:  #e4d9d2;\n",
       "            color:  #000000;\n",
       "        }    #T_1add9458_a35e_11ea_8c93_acde48001122row8_col6 {\n",
       "            background-color:  #a7c5fe;\n",
       "            color:  #000000;\n",
       "        }    #T_1add9458_a35e_11ea_8c93_acde48001122row8_col7 {\n",
       "            background-color:  #d3dbe7;\n",
       "            color:  #000000;\n",
       "        }    #T_1add9458_a35e_11ea_8c93_acde48001122row8_col8 {\n",
       "            background-color:  #b40426;\n",
       "            color:  #f1f1f1;\n",
       "        }</style><table id=\"T_1add9458_a35e_11ea_8c93_acde48001122\" ><thead>    <tr>        <th class=\"blank level0\" ></th>        <th class=\"col_heading level0 col0\" >lcavol</th>        <th class=\"col_heading level0 col1\" >lweight</th>        <th class=\"col_heading level0 col2\" >age</th>        <th class=\"col_heading level0 col3\" >lbph</th>        <th class=\"col_heading level0 col4\" >svi</th>        <th class=\"col_heading level0 col5\" >lcp</th>        <th class=\"col_heading level0 col6\" >gleason</th>        <th class=\"col_heading level0 col7\" >pgg45</th>        <th class=\"col_heading level0 col8\" >lpsa</th>    </tr></thead><tbody>\n",
       "                <tr>\n",
       "                        <th id=\"T_1add9458_a35e_11ea_8c93_acde48001122level0_row0\" class=\"row_heading level0 row0\" >lcavol</th>\n",
       "                        <td id=\"T_1add9458_a35e_11ea_8c93_acde48001122row0_col0\" class=\"data row0 col0\" >1</td>\n",
       "                        <td id=\"T_1add9458_a35e_11ea_8c93_acde48001122row0_col1\" class=\"data row0 col1\" >0.3</td>\n",
       "                        <td id=\"T_1add9458_a35e_11ea_8c93_acde48001122row0_col2\" class=\"data row0 col2\" >0.286</td>\n",
       "                        <td id=\"T_1add9458_a35e_11ea_8c93_acde48001122row0_col3\" class=\"data row0 col3\" >0.063</td>\n",
       "                        <td id=\"T_1add9458_a35e_11ea_8c93_acde48001122row0_col4\" class=\"data row0 col4\" >0.593</td>\n",
       "                        <td id=\"T_1add9458_a35e_11ea_8c93_acde48001122row0_col5\" class=\"data row0 col5\" >0.692</td>\n",
       "                        <td id=\"T_1add9458_a35e_11ea_8c93_acde48001122row0_col6\" class=\"data row0 col6\" >0.426</td>\n",
       "                        <td id=\"T_1add9458_a35e_11ea_8c93_acde48001122row0_col7\" class=\"data row0 col7\" >0.483</td>\n",
       "                        <td id=\"T_1add9458_a35e_11ea_8c93_acde48001122row0_col8\" class=\"data row0 col8\" >0.733</td>\n",
       "            </tr>\n",
       "            <tr>\n",
       "                        <th id=\"T_1add9458_a35e_11ea_8c93_acde48001122level0_row1\" class=\"row_heading level0 row1\" >lweight</th>\n",
       "                        <td id=\"T_1add9458_a35e_11ea_8c93_acde48001122row1_col0\" class=\"data row1 col0\" >0.3</td>\n",
       "                        <td id=\"T_1add9458_a35e_11ea_8c93_acde48001122row1_col1\" class=\"data row1 col1\" >1</td>\n",
       "                        <td id=\"T_1add9458_a35e_11ea_8c93_acde48001122row1_col2\" class=\"data row1 col2\" >0.317</td>\n",
       "                        <td id=\"T_1add9458_a35e_11ea_8c93_acde48001122row1_col3\" class=\"data row1 col3\" >0.437</td>\n",
       "                        <td id=\"T_1add9458_a35e_11ea_8c93_acde48001122row1_col4\" class=\"data row1 col4\" >0.181</td>\n",
       "                        <td id=\"T_1add9458_a35e_11ea_8c93_acde48001122row1_col5\" class=\"data row1 col5\" >0.157</td>\n",
       "                        <td id=\"T_1add9458_a35e_11ea_8c93_acde48001122row1_col6\" class=\"data row1 col6\" >0.024</td>\n",
       "                        <td id=\"T_1add9458_a35e_11ea_8c93_acde48001122row1_col7\" class=\"data row1 col7\" >0.074</td>\n",
       "                        <td id=\"T_1add9458_a35e_11ea_8c93_acde48001122row1_col8\" class=\"data row1 col8\" >0.485</td>\n",
       "            </tr>\n",
       "            <tr>\n",
       "                        <th id=\"T_1add9458_a35e_11ea_8c93_acde48001122level0_row2\" class=\"row_heading level0 row2\" >age</th>\n",
       "                        <td id=\"T_1add9458_a35e_11ea_8c93_acde48001122row2_col0\" class=\"data row2 col0\" >0.286</td>\n",
       "                        <td id=\"T_1add9458_a35e_11ea_8c93_acde48001122row2_col1\" class=\"data row2 col1\" >0.317</td>\n",
       "                        <td id=\"T_1add9458_a35e_11ea_8c93_acde48001122row2_col2\" class=\"data row2 col2\" >1</td>\n",
       "                        <td id=\"T_1add9458_a35e_11ea_8c93_acde48001122row2_col3\" class=\"data row2 col3\" >0.287</td>\n",
       "                        <td id=\"T_1add9458_a35e_11ea_8c93_acde48001122row2_col4\" class=\"data row2 col4\" >0.129</td>\n",
       "                        <td id=\"T_1add9458_a35e_11ea_8c93_acde48001122row2_col5\" class=\"data row2 col5\" >0.173</td>\n",
       "                        <td id=\"T_1add9458_a35e_11ea_8c93_acde48001122row2_col6\" class=\"data row2 col6\" >0.366</td>\n",
       "                        <td id=\"T_1add9458_a35e_11ea_8c93_acde48001122row2_col7\" class=\"data row2 col7\" >0.276</td>\n",
       "                        <td id=\"T_1add9458_a35e_11ea_8c93_acde48001122row2_col8\" class=\"data row2 col8\" >0.228</td>\n",
       "            </tr>\n",
       "            <tr>\n",
       "                        <th id=\"T_1add9458_a35e_11ea_8c93_acde48001122level0_row3\" class=\"row_heading level0 row3\" >lbph</th>\n",
       "                        <td id=\"T_1add9458_a35e_11ea_8c93_acde48001122row3_col0\" class=\"data row3 col0\" >0.063</td>\n",
       "                        <td id=\"T_1add9458_a35e_11ea_8c93_acde48001122row3_col1\" class=\"data row3 col1\" >0.437</td>\n",
       "                        <td id=\"T_1add9458_a35e_11ea_8c93_acde48001122row3_col2\" class=\"data row3 col2\" >0.287</td>\n",
       "                        <td id=\"T_1add9458_a35e_11ea_8c93_acde48001122row3_col3\" class=\"data row3 col3\" >1</td>\n",
       "                        <td id=\"T_1add9458_a35e_11ea_8c93_acde48001122row3_col4\" class=\"data row3 col4\" >-0.139</td>\n",
       "                        <td id=\"T_1add9458_a35e_11ea_8c93_acde48001122row3_col5\" class=\"data row3 col5\" >-0.089</td>\n",
       "                        <td id=\"T_1add9458_a35e_11ea_8c93_acde48001122row3_col6\" class=\"data row3 col6\" >0.033</td>\n",
       "                        <td id=\"T_1add9458_a35e_11ea_8c93_acde48001122row3_col7\" class=\"data row3 col7\" >-0.03</td>\n",
       "                        <td id=\"T_1add9458_a35e_11ea_8c93_acde48001122row3_col8\" class=\"data row3 col8\" >0.263</td>\n",
       "            </tr>\n",
       "            <tr>\n",
       "                        <th id=\"T_1add9458_a35e_11ea_8c93_acde48001122level0_row4\" class=\"row_heading level0 row4\" >svi</th>\n",
       "                        <td id=\"T_1add9458_a35e_11ea_8c93_acde48001122row4_col0\" class=\"data row4 col0\" >0.593</td>\n",
       "                        <td id=\"T_1add9458_a35e_11ea_8c93_acde48001122row4_col1\" class=\"data row4 col1\" >0.181</td>\n",
       "                        <td id=\"T_1add9458_a35e_11ea_8c93_acde48001122row4_col2\" class=\"data row4 col2\" >0.129</td>\n",
       "                        <td id=\"T_1add9458_a35e_11ea_8c93_acde48001122row4_col3\" class=\"data row4 col3\" >-0.139</td>\n",
       "                        <td id=\"T_1add9458_a35e_11ea_8c93_acde48001122row4_col4\" class=\"data row4 col4\" >1</td>\n",
       "                        <td id=\"T_1add9458_a35e_11ea_8c93_acde48001122row4_col5\" class=\"data row4 col5\" >0.671</td>\n",
       "                        <td id=\"T_1add9458_a35e_11ea_8c93_acde48001122row4_col6\" class=\"data row4 col6\" >0.307</td>\n",
       "                        <td id=\"T_1add9458_a35e_11ea_8c93_acde48001122row4_col7\" class=\"data row4 col7\" >0.481</td>\n",
       "                        <td id=\"T_1add9458_a35e_11ea_8c93_acde48001122row4_col8\" class=\"data row4 col8\" >0.557</td>\n",
       "            </tr>\n",
       "            <tr>\n",
       "                        <th id=\"T_1add9458_a35e_11ea_8c93_acde48001122level0_row5\" class=\"row_heading level0 row5\" >lcp</th>\n",
       "                        <td id=\"T_1add9458_a35e_11ea_8c93_acde48001122row5_col0\" class=\"data row5 col0\" >0.692</td>\n",
       "                        <td id=\"T_1add9458_a35e_11ea_8c93_acde48001122row5_col1\" class=\"data row5 col1\" >0.157</td>\n",
       "                        <td id=\"T_1add9458_a35e_11ea_8c93_acde48001122row5_col2\" class=\"data row5 col2\" >0.173</td>\n",
       "                        <td id=\"T_1add9458_a35e_11ea_8c93_acde48001122row5_col3\" class=\"data row5 col3\" >-0.089</td>\n",
       "                        <td id=\"T_1add9458_a35e_11ea_8c93_acde48001122row5_col4\" class=\"data row5 col4\" >0.671</td>\n",
       "                        <td id=\"T_1add9458_a35e_11ea_8c93_acde48001122row5_col5\" class=\"data row5 col5\" >1</td>\n",
       "                        <td id=\"T_1add9458_a35e_11ea_8c93_acde48001122row5_col6\" class=\"data row5 col6\" >0.476</td>\n",
       "                        <td id=\"T_1add9458_a35e_11ea_8c93_acde48001122row5_col7\" class=\"data row5 col7\" >0.663</td>\n",
       "                        <td id=\"T_1add9458_a35e_11ea_8c93_acde48001122row5_col8\" class=\"data row5 col8\" >0.489</td>\n",
       "            </tr>\n",
       "            <tr>\n",
       "                        <th id=\"T_1add9458_a35e_11ea_8c93_acde48001122level0_row6\" class=\"row_heading level0 row6\" >gleason</th>\n",
       "                        <td id=\"T_1add9458_a35e_11ea_8c93_acde48001122row6_col0\" class=\"data row6 col0\" >0.426</td>\n",
       "                        <td id=\"T_1add9458_a35e_11ea_8c93_acde48001122row6_col1\" class=\"data row6 col1\" >0.024</td>\n",
       "                        <td id=\"T_1add9458_a35e_11ea_8c93_acde48001122row6_col2\" class=\"data row6 col2\" >0.366</td>\n",
       "                        <td id=\"T_1add9458_a35e_11ea_8c93_acde48001122row6_col3\" class=\"data row6 col3\" >0.033</td>\n",
       "                        <td id=\"T_1add9458_a35e_11ea_8c93_acde48001122row6_col4\" class=\"data row6 col4\" >0.307</td>\n",
       "                        <td id=\"T_1add9458_a35e_11ea_8c93_acde48001122row6_col5\" class=\"data row6 col5\" >0.476</td>\n",
       "                        <td id=\"T_1add9458_a35e_11ea_8c93_acde48001122row6_col6\" class=\"data row6 col6\" >1</td>\n",
       "                        <td id=\"T_1add9458_a35e_11ea_8c93_acde48001122row6_col7\" class=\"data row6 col7\" >0.757</td>\n",
       "                        <td id=\"T_1add9458_a35e_11ea_8c93_acde48001122row6_col8\" class=\"data row6 col8\" >0.342</td>\n",
       "            </tr>\n",
       "            <tr>\n",
       "                        <th id=\"T_1add9458_a35e_11ea_8c93_acde48001122level0_row7\" class=\"row_heading level0 row7\" >pgg45</th>\n",
       "                        <td id=\"T_1add9458_a35e_11ea_8c93_acde48001122row7_col0\" class=\"data row7 col0\" >0.483</td>\n",
       "                        <td id=\"T_1add9458_a35e_11ea_8c93_acde48001122row7_col1\" class=\"data row7 col1\" >0.074</td>\n",
       "                        <td id=\"T_1add9458_a35e_11ea_8c93_acde48001122row7_col2\" class=\"data row7 col2\" >0.276</td>\n",
       "                        <td id=\"T_1add9458_a35e_11ea_8c93_acde48001122row7_col3\" class=\"data row7 col3\" >-0.03</td>\n",
       "                        <td id=\"T_1add9458_a35e_11ea_8c93_acde48001122row7_col4\" class=\"data row7 col4\" >0.481</td>\n",
       "                        <td id=\"T_1add9458_a35e_11ea_8c93_acde48001122row7_col5\" class=\"data row7 col5\" >0.663</td>\n",
       "                        <td id=\"T_1add9458_a35e_11ea_8c93_acde48001122row7_col6\" class=\"data row7 col6\" >0.757</td>\n",
       "                        <td id=\"T_1add9458_a35e_11ea_8c93_acde48001122row7_col7\" class=\"data row7 col7\" >1</td>\n",
       "                        <td id=\"T_1add9458_a35e_11ea_8c93_acde48001122row7_col8\" class=\"data row7 col8\" >0.448</td>\n",
       "            </tr>\n",
       "            <tr>\n",
       "                        <th id=\"T_1add9458_a35e_11ea_8c93_acde48001122level0_row8\" class=\"row_heading level0 row8\" >lpsa</th>\n",
       "                        <td id=\"T_1add9458_a35e_11ea_8c93_acde48001122row8_col0\" class=\"data row8 col0\" >0.733</td>\n",
       "                        <td id=\"T_1add9458_a35e_11ea_8c93_acde48001122row8_col1\" class=\"data row8 col1\" >0.485</td>\n",
       "                        <td id=\"T_1add9458_a35e_11ea_8c93_acde48001122row8_col2\" class=\"data row8 col2\" >0.228</td>\n",
       "                        <td id=\"T_1add9458_a35e_11ea_8c93_acde48001122row8_col3\" class=\"data row8 col3\" >0.263</td>\n",
       "                        <td id=\"T_1add9458_a35e_11ea_8c93_acde48001122row8_col4\" class=\"data row8 col4\" >0.557</td>\n",
       "                        <td id=\"T_1add9458_a35e_11ea_8c93_acde48001122row8_col5\" class=\"data row8 col5\" >0.489</td>\n",
       "                        <td id=\"T_1add9458_a35e_11ea_8c93_acde48001122row8_col6\" class=\"data row8 col6\" >0.342</td>\n",
       "                        <td id=\"T_1add9458_a35e_11ea_8c93_acde48001122row8_col7\" class=\"data row8 col7\" >0.448</td>\n",
       "                        <td id=\"T_1add9458_a35e_11ea_8c93_acde48001122row8_col8\" class=\"data row8 col8\" >1</td>\n",
       "            </tr>\n",
       "    </tbody></table>"
      ],
      "text/plain": [
       "<pandas.io.formats.style.Styler at 0x11fa20990>"
      ]
     },
     "execution_count": 6,
     "metadata": {},
     "output_type": "execute_result"
    }
   ],
   "source": [
    "corr=df_train.corr()\n",
    "corr.round(3).style.background_gradient(cmap='coolwarm')"
   ]
  },
  {
   "cell_type": "markdown",
   "metadata": {},
   "source": [
    "# Fit linear model lpsa ~ lcavol, lweight, age, lbph, svi, lcp, gleason, pgg45"
   ]
  },
  {
   "cell_type": "markdown",
   "metadata": {},
   "source": [
    "## standardized features to have unit variance"
   ]
  },
  {
   "cell_type": "code",
   "execution_count": 7,
   "metadata": {},
   "outputs": [],
   "source": [
    "from sklearn import preprocessing\n",
    "feature_list = ['lcavol', 'lweight', 'age', 'lbph', 'svi', 'lcp', 'gleason', 'pgg45']"
   ]
  },
  {
   "cell_type": "code",
   "execution_count": 8,
   "metadata": {},
   "outputs": [],
   "source": [
    "scaler = preprocessing.StandardScaler()\n",
    "df_train_scaled = pd.DataFrame(scaler.fit_transform(df_train[feature_list]), columns=feature_list)\n",
    "df_test_scaled = pd.DataFrame(scaler.transform(df_test[feature_list]), columns=feature_list)\n",
    "\n",
    "df_train_scaled['lpsa'] = df_train['lpsa']\n",
    "df_test_scaled['lpsa'] = df_test['lpsa']"
   ]
  },
  {
   "cell_type": "code",
   "execution_count": 9,
   "metadata": {},
   "outputs": [
    {
     "data": {
      "text/html": [
       "<div>\n",
       "<style scoped>\n",
       "    .dataframe tbody tr th:only-of-type {\n",
       "        vertical-align: middle;\n",
       "    }\n",
       "\n",
       "    .dataframe tbody tr th {\n",
       "        vertical-align: top;\n",
       "    }\n",
       "\n",
       "    .dataframe thead th {\n",
       "        text-align: right;\n",
       "    }\n",
       "</style>\n",
       "<table border=\"1\" class=\"dataframe\">\n",
       "  <thead>\n",
       "    <tr style=\"text-align: right;\">\n",
       "      <th></th>\n",
       "      <th>lcavol</th>\n",
       "      <th>lweight</th>\n",
       "      <th>age</th>\n",
       "      <th>lbph</th>\n",
       "      <th>svi</th>\n",
       "      <th>lcp</th>\n",
       "      <th>gleason</th>\n",
       "      <th>pgg45</th>\n",
       "      <th>lpsa</th>\n",
       "    </tr>\n",
       "  </thead>\n",
       "  <tbody>\n",
       "    <tr>\n",
       "      <th>count</th>\n",
       "      <td>6.700000e+01</td>\n",
       "      <td>6.700000e+01</td>\n",
       "      <td>6.700000e+01</td>\n",
       "      <td>6.700000e+01</td>\n",
       "      <td>6.700000e+01</td>\n",
       "      <td>6.700000e+01</td>\n",
       "      <td>6.700000e+01</td>\n",
       "      <td>6.700000e+01</td>\n",
       "      <td>67.000000</td>\n",
       "    </tr>\n",
       "    <tr>\n",
       "      <th>mean</th>\n",
       "      <td>4.308328e-17</td>\n",
       "      <td>-4.971148e-18</td>\n",
       "      <td>-8.343243e-16</td>\n",
       "      <td>6.628197e-18</td>\n",
       "      <td>3.976918e-17</td>\n",
       "      <td>-4.308328e-17</td>\n",
       "      <td>4.921436e-16</td>\n",
       "      <td>-3.314099e-17</td>\n",
       "      <td>2.452345</td>\n",
       "    </tr>\n",
       "    <tr>\n",
       "      <th>std</th>\n",
       "      <td>1.007547e+00</td>\n",
       "      <td>1.007547e+00</td>\n",
       "      <td>1.007547e+00</td>\n",
       "      <td>1.007547e+00</td>\n",
       "      <td>1.007547e+00</td>\n",
       "      <td>1.007547e+00</td>\n",
       "      <td>1.007547e+00</td>\n",
       "      <td>1.007547e+00</td>\n",
       "      <td>1.207812</td>\n",
       "    </tr>\n",
       "    <tr>\n",
       "      <th>min</th>\n",
       "      <td>-2.157304e+00</td>\n",
       "      <td>-2.645075e+00</td>\n",
       "      <td>-3.189126e+00</td>\n",
       "      <td>-1.003472e+00</td>\n",
       "      <td>-5.370862e-01</td>\n",
       "      <td>-8.430840e-01</td>\n",
       "      <td>-1.039499e+00</td>\n",
       "      <td>-9.032532e-01</td>\n",
       "      <td>-0.430783</td>\n",
       "    </tr>\n",
       "    <tr>\n",
       "      <th>25%</th>\n",
       "      <td>-6.691190e-01</td>\n",
       "      <td>-6.252199e-01</td>\n",
       "      <td>-5.031242e-01</td>\n",
       "      <td>-1.003472e+00</td>\n",
       "      <td>-5.370862e-01</td>\n",
       "      <td>-8.430840e-01</td>\n",
       "      <td>-1.039499e+00</td>\n",
       "      <td>-9.032532e-01</td>\n",
       "      <td>1.667306</td>\n",
       "    </tr>\n",
       "    <tr>\n",
       "      <th>50%</th>\n",
       "      <td>1.251804e-01</td>\n",
       "      <td>-5.798078e-02</td>\n",
       "      <td>3.407614e-02</td>\n",
       "      <td>-8.448679e-02</td>\n",
       "      <td>-5.370862e-01</td>\n",
       "      <td>-4.202897e-01</td>\n",
       "      <td>3.818568e-01</td>\n",
       "      <td>-3.874751e-01</td>\n",
       "      <td>2.568788</td>\n",
       "    </tr>\n",
       "    <tr>\n",
       "      <th>75%</th>\n",
       "      <td>8.396889e-01</td>\n",
       "      <td>5.443671e-01</td>\n",
       "      <td>5.712765e-01</td>\n",
       "      <td>1.016091e+00</td>\n",
       "      <td>-5.370862e-01</td>\n",
       "      <td>8.696292e-01</td>\n",
       "      <td>3.818568e-01</td>\n",
       "      <td>8.160072e-01</td>\n",
       "      <td>3.365188</td>\n",
       "    </tr>\n",
       "    <tr>\n",
       "      <th>max</th>\n",
       "      <td>2.033202e+00</td>\n",
       "      <td>2.440170e+00</td>\n",
       "      <td>1.914277e+00</td>\n",
       "      <td>1.552196e+00</td>\n",
       "      <td>1.861899e+00</td>\n",
       "      <td>2.065078e+00</td>\n",
       "      <td>3.224568e+00</td>\n",
       "      <td>2.535268e+00</td>\n",
       "      <td>5.477509</td>\n",
       "    </tr>\n",
       "  </tbody>\n",
       "</table>\n",
       "</div>"
      ],
      "text/plain": [
       "             lcavol       lweight           age          lbph           svi  \\\n",
       "count  6.700000e+01  6.700000e+01  6.700000e+01  6.700000e+01  6.700000e+01   \n",
       "mean   4.308328e-17 -4.971148e-18 -8.343243e-16  6.628197e-18  3.976918e-17   \n",
       "std    1.007547e+00  1.007547e+00  1.007547e+00  1.007547e+00  1.007547e+00   \n",
       "min   -2.157304e+00 -2.645075e+00 -3.189126e+00 -1.003472e+00 -5.370862e-01   \n",
       "25%   -6.691190e-01 -6.252199e-01 -5.031242e-01 -1.003472e+00 -5.370862e-01   \n",
       "50%    1.251804e-01 -5.798078e-02  3.407614e-02 -8.448679e-02 -5.370862e-01   \n",
       "75%    8.396889e-01  5.443671e-01  5.712765e-01  1.016091e+00 -5.370862e-01   \n",
       "max    2.033202e+00  2.440170e+00  1.914277e+00  1.552196e+00  1.861899e+00   \n",
       "\n",
       "                lcp       gleason         pgg45       lpsa  \n",
       "count  6.700000e+01  6.700000e+01  6.700000e+01  67.000000  \n",
       "mean  -4.308328e-17  4.921436e-16 -3.314099e-17   2.452345  \n",
       "std    1.007547e+00  1.007547e+00  1.007547e+00   1.207812  \n",
       "min   -8.430840e-01 -1.039499e+00 -9.032532e-01  -0.430783  \n",
       "25%   -8.430840e-01 -1.039499e+00 -9.032532e-01   1.667306  \n",
       "50%   -4.202897e-01  3.818568e-01 -3.874751e-01   2.568788  \n",
       "75%    8.696292e-01  3.818568e-01  8.160072e-01   3.365188  \n",
       "max    2.065078e+00  3.224568e+00  2.535268e+00   5.477509  "
      ]
     },
     "execution_count": 9,
     "metadata": {},
     "output_type": "execute_result"
    }
   ],
   "source": [
    "df_train_scaled.describe()"
   ]
  },
  {
   "cell_type": "code",
   "execution_count": 10,
   "metadata": {},
   "outputs": [
    {
     "data": {
      "text/html": [
       "<div>\n",
       "<style scoped>\n",
       "    .dataframe tbody tr th:only-of-type {\n",
       "        vertical-align: middle;\n",
       "    }\n",
       "\n",
       "    .dataframe tbody tr th {\n",
       "        vertical-align: top;\n",
       "    }\n",
       "\n",
       "    .dataframe thead th {\n",
       "        text-align: right;\n",
       "    }\n",
       "</style>\n",
       "<table border=\"1\" class=\"dataframe\">\n",
       "  <thead>\n",
       "    <tr style=\"text-align: right;\">\n",
       "      <th></th>\n",
       "      <th>lcavol</th>\n",
       "      <th>lweight</th>\n",
       "      <th>age</th>\n",
       "      <th>lbph</th>\n",
       "      <th>svi</th>\n",
       "      <th>lcp</th>\n",
       "      <th>gleason</th>\n",
       "      <th>pgg45</th>\n",
       "      <th>lpsa</th>\n",
       "    </tr>\n",
       "  </thead>\n",
       "  <tbody>\n",
       "    <tr>\n",
       "      <th>count</th>\n",
       "      <td>30.000000</td>\n",
       "      <td>30.000000</td>\n",
       "      <td>30.000000</td>\n",
       "      <td>30.000000</td>\n",
       "      <td>30.000000</td>\n",
       "      <td>30.000000</td>\n",
       "      <td>30.000000</td>\n",
       "      <td>30.000000</td>\n",
       "      <td>30.000000</td>\n",
       "    </tr>\n",
       "    <tr>\n",
       "      <th>mean</th>\n",
       "      <td>0.095740</td>\n",
       "      <td>0.019378</td>\n",
       "      <td>-0.382254</td>\n",
       "      <td>0.064359</td>\n",
       "      <td>-0.057289</td>\n",
       "      <td>0.081023</td>\n",
       "      <td>0.097586</td>\n",
       "      <td>-0.209818</td>\n",
       "      <td>2.536547</td>\n",
       "    </tr>\n",
       "    <tr>\n",
       "      <th>std</th>\n",
       "      <td>0.840554</td>\n",
       "      <td>0.636143</td>\n",
       "      <td>0.945937</td>\n",
       "      <td>0.994212</td>\n",
       "      <td>0.975998</td>\n",
       "      <td>1.016637</td>\n",
       "      <td>1.081828</td>\n",
       "      <td>0.878424</td>\n",
       "      <td>1.042035</td>\n",
       "    </tr>\n",
       "    <tr>\n",
       "      <th>min</th>\n",
       "      <td>-1.694681</td>\n",
       "      <td>-1.608889</td>\n",
       "      <td>-2.920526</td>\n",
       "      <td>-1.003472</td>\n",
       "      <td>-0.537086</td>\n",
       "      <td>-0.843084</td>\n",
       "      <td>-1.039499</td>\n",
       "      <td>-0.903253</td>\n",
       "      <td>0.765468</td>\n",
       "    </tr>\n",
       "    <tr>\n",
       "      <th>25%</th>\n",
       "      <td>-0.419189</td>\n",
       "      <td>-0.309628</td>\n",
       "      <td>-0.637424</td>\n",
       "      <td>-1.003472</td>\n",
       "      <td>-0.537086</td>\n",
       "      <td>-0.843084</td>\n",
       "      <td>-1.039499</td>\n",
       "      <td>-0.903253</td>\n",
       "      <td>1.864393</td>\n",
       "    </tr>\n",
       "    <tr>\n",
       "      <th>50%</th>\n",
       "      <td>0.106276</td>\n",
       "      <td>0.051599</td>\n",
       "      <td>-0.100224</td>\n",
       "      <td>0.252507</td>\n",
       "      <td>-0.537086</td>\n",
       "      <td>-0.155786</td>\n",
       "      <td>0.381857</td>\n",
       "      <td>-0.628172</td>\n",
       "      <td>2.591516</td>\n",
       "    </tr>\n",
       "    <tr>\n",
       "      <th>75%</th>\n",
       "      <td>0.599712</td>\n",
       "      <td>0.447602</td>\n",
       "      <td>0.403401</td>\n",
       "      <td>1.033480</td>\n",
       "      <td>-0.537086</td>\n",
       "      <td>0.935755</td>\n",
       "      <td>0.381857</td>\n",
       "      <td>0.300229</td>\n",
       "      <td>2.882004</td>\n",
       "    </tr>\n",
       "    <tr>\n",
       "      <th>max</th>\n",
       "      <td>1.750187</td>\n",
       "      <td>1.047216</td>\n",
       "      <td>0.705577</td>\n",
       "      <td>1.445522</td>\n",
       "      <td>1.861899</td>\n",
       "      <td>2.243039</td>\n",
       "      <td>3.224568</td>\n",
       "      <td>2.191416</td>\n",
       "      <td>5.582932</td>\n",
       "    </tr>\n",
       "  </tbody>\n",
       "</table>\n",
       "</div>"
      ],
      "text/plain": [
       "          lcavol    lweight        age       lbph        svi        lcp  \\\n",
       "count  30.000000  30.000000  30.000000  30.000000  30.000000  30.000000   \n",
       "mean    0.095740   0.019378  -0.382254   0.064359  -0.057289   0.081023   \n",
       "std     0.840554   0.636143   0.945937   0.994212   0.975998   1.016637   \n",
       "min    -1.694681  -1.608889  -2.920526  -1.003472  -0.537086  -0.843084   \n",
       "25%    -0.419189  -0.309628  -0.637424  -1.003472  -0.537086  -0.843084   \n",
       "50%     0.106276   0.051599  -0.100224   0.252507  -0.537086  -0.155786   \n",
       "75%     0.599712   0.447602   0.403401   1.033480  -0.537086   0.935755   \n",
       "max     1.750187   1.047216   0.705577   1.445522   1.861899   2.243039   \n",
       "\n",
       "         gleason      pgg45       lpsa  \n",
       "count  30.000000  30.000000  30.000000  \n",
       "mean    0.097586  -0.209818   2.536547  \n",
       "std     1.081828   0.878424   1.042035  \n",
       "min    -1.039499  -0.903253   0.765468  \n",
       "25%    -1.039499  -0.903253   1.864393  \n",
       "50%     0.381857  -0.628172   2.591516  \n",
       "75%     0.381857   0.300229   2.882004  \n",
       "max     3.224568   2.191416   5.582932  "
      ]
     },
     "execution_count": 10,
     "metadata": {},
     "output_type": "execute_result"
    }
   ],
   "source": [
    "df_test_scaled.describe()"
   ]
  },
  {
   "cell_type": "markdown",
   "metadata": {},
   "source": [
    "## Fitting linear model: sklearn"
   ]
  },
  {
   "cell_type": "code",
   "execution_count": 11,
   "metadata": {},
   "outputs": [],
   "source": [
    "from sklearn.linear_model import LinearRegression"
   ]
  },
  {
   "cell_type": "code",
   "execution_count": 12,
   "metadata": {},
   "outputs": [],
   "source": [
    "reg = LinearRegression().fit(df_train_scaled[feature_list], df_train_scaled['lpsa'])"
   ]
  },
  {
   "cell_type": "code",
   "execution_count": 13,
   "metadata": {},
   "outputs": [
    {
     "name": "stdout",
     "output_type": "stream",
     "text": [
      "2.4523450850746267 [ 0.71104059  0.29045029 -0.14148182  0.21041951  0.30730025 -0.28684075\n",
      " -0.02075686  0.27526843]\n"
     ]
    }
   ],
   "source": [
    "print(reg.intercept_, reg.coef_)"
   ]
  },
  {
   "cell_type": "markdown",
   "metadata": {},
   "source": [
    "## Fitting linear model: statsmodel"
   ]
  },
  {
   "cell_type": "code",
   "execution_count": 14,
   "metadata": {},
   "outputs": [
    {
     "data": {
      "text/plain": [
       "'lpsa ~ lcavol + lweight + age + lbph + svi + lcp + gleason + pgg45'"
      ]
     },
     "execution_count": 14,
     "metadata": {},
     "output_type": "execute_result"
    }
   ],
   "source": [
    "formula = 'lpsa ~ ' + ' + '.join(feature_list)\n",
    "formula"
   ]
  },
  {
   "cell_type": "code",
   "execution_count": 15,
   "metadata": {},
   "outputs": [
    {
     "name": "stdout",
     "output_type": "stream",
     "text": [
      "                            OLS Regression Results                            \n",
      "==============================================================================\n",
      "Dep. Variable:                   lpsa   R-squared:                       0.694\n",
      "Model:                            OLS   Adj. R-squared:                  0.652\n",
      "Method:                 Least Squares   F-statistic:                     16.47\n",
      "Date:                Sun, 31 May 2020   Prob (F-statistic):           2.04e-12\n",
      "Time:                        09:45:22   Log-Likelihood:                -67.505\n",
      "No. Observations:                  67   AIC:                             153.0\n",
      "Df Residuals:                      58   BIC:                             172.9\n",
      "Df Model:                           8                                         \n",
      "Covariance Type:            nonrobust                                         \n",
      "==============================================================================\n",
      "                 coef    std err          t      P>|t|      [0.025      0.975]\n",
      "------------------------------------------------------------------------------\n",
      "Intercept      2.4523      0.087     28.182      0.000       2.278       2.627\n",
      "lcavol         0.7110      0.133      5.366      0.000       0.446       0.976\n",
      "lweight        0.2905      0.106      2.751      0.008       0.079       0.502\n",
      "age           -0.1415      0.101     -1.396      0.168      -0.344       0.061\n",
      "lbph           0.2104      0.102      2.056      0.044       0.006       0.415\n",
      "svi            0.3073      0.124      2.469      0.017       0.058       0.556\n",
      "lcp           -0.2868      0.154     -1.867      0.067      -0.594       0.021\n",
      "gleason       -0.0208      0.142     -0.147      0.884      -0.304       0.263\n",
      "pgg45          0.2753      0.158      1.738      0.088      -0.042       0.592\n",
      "==============================================================================\n",
      "Omnibus:                        0.825   Durbin-Watson:                   1.690\n",
      "Prob(Omnibus):                  0.662   Jarque-Bera (JB):                0.389\n",
      "Skew:                          -0.164   Prob(JB):                        0.823\n",
      "Kurtosis:                       3.178   Cond. No.                         4.44\n",
      "==============================================================================\n",
      "\n",
      "Warnings:\n",
      "[1] Standard Errors assume that the covariance matrix of the errors is correctly specified.\n"
     ]
    }
   ],
   "source": [
    "import statsmodels.formula.api as smf\n",
    "ols = smf.ols(formula = formula, data = df_train_scaled)\n",
    "ols_result = ols.fit()\n",
    "print(ols_result.summary())"
   ]
  },
  {
   "cell_type": "code",
   "execution_count": 16,
   "metadata": {},
   "outputs": [],
   "source": [
    "squared_error = (ols_result.predict(df_test_scaled[feature_list]) - df_test_scaled['lpsa'])**2\n",
    "test_error = np.mean(squared_error)\n",
    "std_error = np.std(squared_error, ddof=1)/np.sqrt(len(df_test_scaled))"
   ]
  },
  {
   "cell_type": "code",
   "execution_count": 17,
   "metadata": {},
   "outputs": [],
   "source": [
    "df_result = pd.DataFrame(ols_result.params,columns=['LS'])\n",
    "df_result.loc['test_error'] = test_error\n",
    "df_result.loc['std_error'] = std_error"
   ]
  },
  {
   "cell_type": "code",
   "execution_count": 18,
   "metadata": {},
   "outputs": [
    {
     "data": {
      "text/html": [
       "<div>\n",
       "<style scoped>\n",
       "    .dataframe tbody tr th:only-of-type {\n",
       "        vertical-align: middle;\n",
       "    }\n",
       "\n",
       "    .dataframe tbody tr th {\n",
       "        vertical-align: top;\n",
       "    }\n",
       "\n",
       "    .dataframe thead th {\n",
       "        text-align: right;\n",
       "    }\n",
       "</style>\n",
       "<table border=\"1\" class=\"dataframe\">\n",
       "  <thead>\n",
       "    <tr style=\"text-align: right;\">\n",
       "      <th></th>\n",
       "      <th>LS</th>\n",
       "    </tr>\n",
       "  </thead>\n",
       "  <tbody>\n",
       "    <tr>\n",
       "      <th>Intercept</th>\n",
       "      <td>2.452345</td>\n",
       "    </tr>\n",
       "    <tr>\n",
       "      <th>lcavol</th>\n",
       "      <td>0.711041</td>\n",
       "    </tr>\n",
       "    <tr>\n",
       "      <th>lweight</th>\n",
       "      <td>0.290450</td>\n",
       "    </tr>\n",
       "    <tr>\n",
       "      <th>age</th>\n",
       "      <td>-0.141482</td>\n",
       "    </tr>\n",
       "    <tr>\n",
       "      <th>lbph</th>\n",
       "      <td>0.210420</td>\n",
       "    </tr>\n",
       "    <tr>\n",
       "      <th>svi</th>\n",
       "      <td>0.307300</td>\n",
       "    </tr>\n",
       "    <tr>\n",
       "      <th>lcp</th>\n",
       "      <td>-0.286841</td>\n",
       "    </tr>\n",
       "    <tr>\n",
       "      <th>gleason</th>\n",
       "      <td>-0.020757</td>\n",
       "    </tr>\n",
       "    <tr>\n",
       "      <th>pgg45</th>\n",
       "      <td>0.275268</td>\n",
       "    </tr>\n",
       "    <tr>\n",
       "      <th>test_error</th>\n",
       "      <td>0.521274</td>\n",
       "    </tr>\n",
       "    <tr>\n",
       "      <th>std_error</th>\n",
       "      <td>0.178724</td>\n",
       "    </tr>\n",
       "  </tbody>\n",
       "</table>\n",
       "</div>"
      ],
      "text/plain": [
       "                  LS\n",
       "Intercept   2.452345\n",
       "lcavol      0.711041\n",
       "lweight     0.290450\n",
       "age        -0.141482\n",
       "lbph        0.210420\n",
       "svi         0.307300\n",
       "lcp        -0.286841\n",
       "gleason    -0.020757\n",
       "pgg45       0.275268\n",
       "test_error  0.521274\n",
       "std_error   0.178724"
      ]
     },
     "execution_count": 18,
     "metadata": {},
     "output_type": "execute_result"
    }
   ],
   "source": [
    "df_result"
   ]
  },
  {
   "cell_type": "code",
   "execution_count": 19,
   "metadata": {},
   "outputs": [
    {
     "name": "stdout",
     "output_type": "stream",
     "text": [
      "                                 OLS Regression Results                                \n",
      "=======================================================================================\n",
      "Dep. Variable:                   lpsa   R-squared (uncentered):                   0.134\n",
      "Model:                            OLS   Adj. R-squared (uncentered):              0.016\n",
      "Method:                 Least Squares   F-statistic:                              1.140\n",
      "Date:                Sun, 31 May 2020   Prob (F-statistic):                       0.351\n",
      "Time:                        09:45:25   Log-Likelihood:                         -157.53\n",
      "No. Observations:                  67   AIC:                                      331.1\n",
      "Df Residuals:                      59   BIC:                                      348.7\n",
      "Df Model:                           8                                                  \n",
      "Covariance Type:            nonrobust                                                  \n",
      "==============================================================================\n",
      "                 coef    std err          t      P>|t|      [0.025      0.975]\n",
      "------------------------------------------------------------------------------\n",
      "lcavol         0.7110      0.504      1.412      0.163      -0.297       1.719\n",
      "lweight        0.2905      0.401      0.724      0.472      -0.513       1.093\n",
      "age           -0.1415      0.385     -0.367      0.715      -0.912       0.629\n",
      "lbph           0.2104      0.389      0.541      0.591      -0.568       0.989\n",
      "svi            0.3073      0.473      0.650      0.518      -0.639       1.254\n",
      "lcp           -0.2868      0.584     -0.491      0.625      -1.455       0.882\n",
      "gleason       -0.0208      0.538     -0.039      0.969      -1.097       1.055\n",
      "pgg45          0.2753      0.602      0.457      0.649      -0.929       1.480\n",
      "==============================================================================\n",
      "Omnibus:                        0.825   Durbin-Watson:                   0.115\n",
      "Prob(Omnibus):                  0.662   Jarque-Bera (JB):                0.389\n",
      "Skew:                          -0.164   Prob(JB):                        0.823\n",
      "Kurtosis:                       3.178   Cond. No.                         4.44\n",
      "==============================================================================\n",
      "\n",
      "Warnings:\n",
      "[1] Standard Errors assume that the covariance matrix of the errors is correctly specified.\n"
     ]
    }
   ],
   "source": [
    "# Without intercept\n",
    "import statsmodels.formula.api as smf\n",
    "ols = smf.ols(formula = formula + ' - 1', data = df_train_scaled)\n",
    "ols_result = ols.fit()\n",
    "print(ols_result.summary())"
   ]
  },
  {
   "cell_type": "code",
   "execution_count": null,
   "metadata": {},
   "outputs": [],
   "source": []
  },
  {
   "cell_type": "markdown",
   "metadata": {},
   "source": [
    "# Ridge regression: $\\min_{b,\\beta \\in R^p} \\|y - X\\beta - b\\|_2^2 + \\alpha \\|\\beta\\|_2^2$"
   ]
  },
  {
   "cell_type": "code",
   "execution_count": 20,
   "metadata": {},
   "outputs": [],
   "source": [
    "from sklearn.linear_model import Ridge"
   ]
  },
  {
   "cell_type": "code",
   "execution_count": 21,
   "metadata": {},
   "outputs": [
    {
     "data": {
      "text/plain": [
       "Ridge()"
      ]
     },
     "execution_count": 21,
     "metadata": {},
     "output_type": "execute_result"
    }
   ],
   "source": [
    "reg = Ridge(alpha=1.0)\n",
    "reg.fit(df_train_scaled[feature_list],df_train_scaled['lpsa'])"
   ]
  },
  {
   "cell_type": "code",
   "execution_count": 22,
   "metadata": {},
   "outputs": [
    {
     "name": "stdout",
     "output_type": "stream",
     "text": [
      "2.4523450850746267 [ 0.68540969  0.28959545 -0.13430643  0.20841057  0.30162494 -0.25453234\n",
      " -0.0112517   0.25598543]\n"
     ]
    }
   ],
   "source": [
    "print(reg.intercept_, reg.coef_)"
   ]
  },
  {
   "cell_type": "markdown",
   "metadata": {},
   "source": [
    "## Step 1: map degree of freedom to regularizer coefficients "
   ]
  },
  {
   "cell_type": "code",
   "execution_count": 23,
   "metadata": {},
   "outputs": [],
   "source": [
    "# find all singular values\n",
    "from sklearn.decomposition import PCA\n",
    "pca = PCA(n_components = len(feature_list)) \n",
    "pca.fit(df_train_scaled[feature_list])\n",
    "d = pca.singular_values_"
   ]
  },
  {
   "cell_type": "code",
   "execution_count": 24,
   "metadata": {},
   "outputs": [],
   "source": [
    "def compute_dof(d,lbd):\n",
    "    '''\n",
    "        degree of freedom = \\sum_i \\frac{d_i^2}{d_i^2 + lbd}\n",
    "    '''\n",
    "    return (d**2/(d**2+lbd)).sum()\n",
    "\n",
    "def find_lambda(d, dof_target):\n",
    "    '''\n",
    "        Binary search to find lbd that achieves dof_target\n",
    "    '''\n",
    "    left = 0\n",
    "    right = 1e8\n",
    "    while (right-left>1):\n",
    "        mid = left + (right-left)/2\n",
    "        dof = compute_dof(d, mid)\n",
    "        if dof < dof_target:\n",
    "            right = mid\n",
    "        else:\n",
    "            left = mid\n",
    "    return mid"
   ]
  },
  {
   "cell_type": "code",
   "execution_count": 25,
   "metadata": {},
   "outputs": [],
   "source": [
    "alphas = []\n",
    "for dof in range(9):\n",
    "    alphas.append(find_lambda(d,dof))"
   ]
  },
  {
   "cell_type": "code",
   "execution_count": 26,
   "metadata": {},
   "outputs": [
    {
     "data": {
      "text/plain": [
       "[99999999.25494194,\n",
       " 412.0171070098877,\n",
       " 157.20725059509277,\n",
       " 78.2310962677002,\n",
       " 42.46830940246582,\n",
       " 23.096799850463867,\n",
       " 11.175870895385742,\n",
       " 5.21540641784668,\n",
       " 0.7450580596923828]"
      ]
     },
     "execution_count": 26,
     "metadata": {},
     "output_type": "execute_result"
    }
   ],
   "source": [
    "alphas"
   ]
  },
  {
   "cell_type": "markdown",
   "metadata": {},
   "source": [
    "## Step 2: Cross Validation to pick the regularization coefficient alpha by “one-standard-error” rule"
   ]
  },
  {
   "cell_type": "code",
   "execution_count": 27,
   "metadata": {},
   "outputs": [],
   "source": [
    "from sklearn.model_selection import KFold\n",
    "df = pd.DataFrame()\n",
    "K=10\n",
    "kf = KFold(n_splits=K,shuffle=True, random_state=69438)\n",
    "kf.get_n_splits(df_train_scaled)\n",
    "\n",
    "for i in range(len(alphas)):\n",
    "    reg = Ridge(alpha=alphas[i])\n",
    "    train_mse = []\n",
    "    test_mse = []\n",
    "    predict_mse = []\n",
    "    \n",
    "    for train_index, test_index in kf.split(df_train_scaled):\n",
    "        reg.fit(df_train_scaled.loc[train_index][feature_list], df_train_scaled.loc[train_index]['lpsa'])\n",
    "        train_mse.append(((reg.predict(df_train_scaled.loc[train_index][feature_list]) - df_train_scaled.loc[train_index]['lpsa'])**2).mean())\n",
    "        test_mse.append(((reg.predict(df_train_scaled.loc[test_index][feature_list]) - df_train_scaled.loc[test_index]['lpsa'])**2).mean())\n",
    "        predict_mse.append(((reg.predict(df_test_scaled[feature_list])-df_test_scaled['lpsa'])**2).mean())\n",
    "    \n",
    "    df = df.append({'dof': i, 'train_mse': np.array(train_mse).mean(), 'test_mse': np.array(test_mse).mean(), 'test_mse_se': np.std(test_mse, ddof=1)/np.sqrt(K), \\\n",
    "                    'predict_mse': np.array(predict_mse).mean()}, ignore_index=True)"
   ]
  },
  {
   "cell_type": "code",
   "execution_count": 28,
   "metadata": {},
   "outputs": [
    {
     "data": {
      "text/plain": [
       "Text(0, 0.5, 'CV MSE')"
      ]
     },
     "execution_count": 28,
     "metadata": {},
     "output_type": "execute_result"
    },
    {
     "data": {
      "image/png": "[encoded data removed]",
      "text/plain": [
       "<Figure size 432x288 with 1 Axes>"
      ]
     },
     "metadata": {
      "needs_background": "light"
     },
     "output_type": "display_data"
    }
   ],
   "source": [
    "ax = df.plot(x='dof',y='train_mse', color='c')\n",
    "df.plot(x='dof',y='test_mse', yerr='test_mse_se', color='orange', ax=ax, capsize=3, ecolor='blue')\n",
    "df.plot(x='dof', y='predict_mse', ax=ax, color='r')\n",
    "ax.set_xlim(left=-0.2,right=8.2)\n",
    "idx = df['test_mse'].idxmin()\n",
    "ax.axhline(y=df.eval('test_mse + test_mse_se').loc[idx], ls='--', color='y')\n",
    "ax.axvline(x=df[df['test_mse']<df.eval('test_mse + test_mse_se').loc[idx]]['dof'].min(), ls='--', color = 'm')\n",
    "ax.set_xlabel('Degree of freedom')\n",
    "ax.set_ylabel('CV MSE')"
   ]
  },
  {
   "cell_type": "markdown",
   "metadata": {},
   "source": [
    "## Step 3: Train full model next using picked alpha value"
   ]
  },
  {
   "cell_type": "code",
   "execution_count": 29,
   "metadata": {},
   "outputs": [],
   "source": [
    "coef = []\n",
    "intercept = []\n",
    "df_testerror = pd.DataFrame()\n",
    "for i in range(len(alphas)):\n",
    "    reg = Ridge(alpha=alphas[i])\n",
    "    \n",
    "    reg.fit(df_train_scaled[feature_list], df_train_scaled['lpsa'])\n",
    "    coef.append(list(reg.coef_))\n",
    "    intercept.append(reg.intercept_)\n",
    "    \n",
    "    squared_errors = (reg.predict(df_test_scaled[feature_list]) - df_test_scaled['lpsa'])**2\n",
    "    df_testerror = df_testerror.append({'dof':i, 'test_error': np.mean(squared_errors), 'std_error': np.std(squared_errors, ddof=1)/np.sqrt(len(df_test_scaled))}, ignore_index=True)"
   ]
  },
  {
   "cell_type": "code",
   "execution_count": 30,
   "metadata": {},
   "outputs": [],
   "source": [
    "df_coef = pd.DataFrame(coef,columns=feature_list)"
   ]
  },
  {
   "cell_type": "code",
   "execution_count": 31,
   "metadata": {},
   "outputs": [],
   "source": [
    "df_coef['Intercept'] = intercept"
   ]
  },
  {
   "cell_type": "code",
   "execution_count": 32,
   "metadata": {},
   "outputs": [],
   "source": [
    "df_coef['dof'] = [i for i in range(9)]"
   ]
  },
  {
   "cell_type": "code",
   "execution_count": 33,
   "metadata": {},
   "outputs": [
    {
     "data": {
      "text/plain": [
       "<matplotlib.lines.Line2D at 0x124b261d0>"
      ]
     },
     "execution_count": 33,
     "metadata": {},
     "output_type": "execute_result"
    },
    {
     "data": {
      "image/png": "[encoded data removed]",
      "text/plain": [
       "<Figure size 432x288 with 1 Axes>"
      ]
     },
     "metadata": {
      "needs_background": "light"
     },
     "output_type": "display_data"
    }
   ],
   "source": [
    "ax = df_coef.drop(columns=['Intercept']).plot(x='dof', marker='o')\n",
    "ax.set_xlim(left=-0.2,right=8.2)\n",
    "ax.axvline(x=df[df['test_mse']<df.eval('test_mse + test_mse_se').loc[idx]]['dof'].min(), ls='--', color = 'm')"
   ]
  },
  {
   "cell_type": "code",
   "execution_count": 34,
   "metadata": {},
   "outputs": [],
   "source": [
    "df_ridgeres = df_coef[df_coef['dof']==5].T.rename(columns={5:'Ridge'})\n",
    "df_ridgeres.loc['test_error'] = df_testerror.loc[5,'test_error']\n",
    "df_ridgeres.loc['std_error'] = df_testerror.loc[5,'std_error']\n",
    "df_ridgeres = df_ridgeres.drop(['dof'])"
   ]
  },
  {
   "cell_type": "code",
   "execution_count": 35,
   "metadata": {},
   "outputs": [],
   "source": [
    "df_result = pd.concat([df_result,df_ridgeres], axis=1, sort = False)"
   ]
  },
  {
   "cell_type": "code",
   "execution_count": null,
   "metadata": {},
   "outputs": [],
   "source": []
  },
  {
   "cell_type": "markdown",
   "metadata": {},
   "source": [
    "# Lasso regression: $\\min_{b,\\beta\\in R^p, \\|\\beta\\|_1 \\leq t} \\|y-X\\beta-b\\|_2^2$\n",
    "> Sklearn solves the Lagranian relaxation problem: $\\min_{b,\\beta\\in R^p} \\|y-X\\beta-b\\|_2^2 + \\alpha  \\|\\beta\\|_1$"
   ]
  },
  {
   "cell_type": "code",
   "execution_count": 36,
   "metadata": {},
   "outputs": [],
   "source": [
    "from sklearn.linear_model import Lasso"
   ]
  },
  {
   "cell_type": "code",
   "execution_count": 37,
   "metadata": {},
   "outputs": [
    {
     "data": {
      "text/plain": [
       "array([ 0.71104059,  0.29045029, -0.14148182,  0.21041951,  0.30730025,\n",
       "       -0.28684075, -0.02075686,  0.27526843])"
      ]
     },
     "execution_count": 37,
     "metadata": {},
     "output_type": "execute_result"
    }
   ],
   "source": [
    "reg = LinearRegression().fit(df_train_scaled[feature_list], df_train_scaled['lpsa'])\n",
    "reg.coef_"
   ]
  },
  {
   "cell_type": "code",
   "execution_count": 38,
   "metadata": {},
   "outputs": [
    {
     "data": {
      "text/plain": [
       "2.24355850754002"
      ]
     },
     "execution_count": 38,
     "metadata": {},
     "output_type": "execute_result"
    }
   ],
   "source": [
    "np.linalg.norm(reg.coef_, ord=1)"
   ]
  },
  {
   "cell_type": "code",
   "execution_count": 39,
   "metadata": {},
   "outputs": [
    {
     "data": {
      "text/plain": [
       "Lasso(alpha=0.0001)"
      ]
     },
     "execution_count": 39,
     "metadata": {},
     "output_type": "execute_result"
    }
   ],
   "source": [
    "lasso = Lasso(alpha=0.0001)\n",
    "lasso.fit(df_train_scaled[feature_list], df_train_scaled['lpsa'])"
   ]
  },
  {
   "cell_type": "code",
   "execution_count": 40,
   "metadata": {},
   "outputs": [
    {
     "data": {
      "text/plain": [
       "array([ 0.71069524,  0.29042003, -0.1413067 ,  0.21030232,  0.30711583,\n",
       "       -0.28618748, -0.02032945,  0.27461805])"
      ]
     },
     "execution_count": 40,
     "metadata": {},
     "output_type": "execute_result"
    }
   ],
   "source": [
    "lasso.coef_"
   ]
  },
  {
   "cell_type": "markdown",
   "metadata": {},
   "source": [
    "## Step 1: map lasso regularization coef to shrinkage factor"
   ]
  },
  {
   "cell_type": "code",
   "execution_count": 41,
   "metadata": {},
   "outputs": [],
   "source": [
    "df_map = pd.DataFrame()\n",
    "baseline = np.linalg.norm(reg.coef_, ord=1)\n",
    "\n",
    "alphalist = [i/10000.0 for i in range(1,10000)]\n",
    "for i in alphalist:\n",
    "    lasso = Lasso(alpha=i)\n",
    "    lasso.fit(df_train_scaled[feature_list], df_train_scaled['lpsa'])\n",
    "    df_map = df_map.append({'alpha': i, 'coef_l1': np.linalg.norm(lasso.coef_, ord=1), 'shrinkage_factor': np.linalg.norm(lasso.coef_, ord=1)/baseline}, ignore_index=True)"
   ]
  },
  {
   "cell_type": "code",
   "execution_count": 42,
   "metadata": {},
   "outputs": [
    {
     "data": {
      "text/plain": [
       "<matplotlib.axes._subplots.AxesSubplot at 0x11fd25550>"
      ]
     },
     "execution_count": 42,
     "metadata": {},
     "output_type": "execute_result"
    },
    {
     "data": {
      "image/png": "[encoded data removed]",
      "text/plain": [
       "<Figure size 432x288 with 1 Axes>"
      ]
     },
     "metadata": {
      "needs_background": "light"
     },
     "output_type": "display_data"
    }
   ],
   "source": [
    "ax = df_map.plot(x='alpha', y='coef_l1')\n",
    "df_map.plot(x='alpha', y='shrinkage_factor', ax=ax)"
   ]
  },
  {
   "cell_type": "code",
   "execution_count": 43,
   "metadata": {},
   "outputs": [],
   "source": [
    "alphalist = []\n",
    "slist = []\n",
    "for i in range(11):\n",
    "    target = i/10.0\n",
    "    slist.append(target)\n",
    "    alphalist.append(df_map.loc[np.abs(df_map['shrinkage_factor']-target).idxmin()]['alpha'])"
   ]
  },
  {
   "cell_type": "code",
   "execution_count": 44,
   "metadata": {},
   "outputs": [
    {
     "data": {
      "text/plain": [
       "[0.8789,\n",
       " 0.6545,\n",
       " 0.4386,\n",
       " 0.3021,\n",
       " 0.1885,\n",
       " 0.1068,\n",
       " 0.0452,\n",
       " 0.0335,\n",
       " 0.0218,\n",
       " 0.01,\n",
       " 0.0001]"
      ]
     },
     "execution_count": 44,
     "metadata": {},
     "output_type": "execute_result"
    }
   ],
   "source": [
    "alphalist"
   ]
  },
  {
   "cell_type": "markdown",
   "metadata": {},
   "source": [
    "## Step2: Cross Validation to pick the regularization coefficient alpha by “one-standard-error” rule"
   ]
  },
  {
   "cell_type": "code",
   "execution_count": 45,
   "metadata": {},
   "outputs": [],
   "source": [
    "df = pd.DataFrame()\n",
    "K=10\n",
    "kf = KFold(n_splits=K,shuffle=True, random_state=69438)\n",
    "kf.get_n_splits(df_train_scaled)\n",
    "\n",
    "for i in range(len(alphalist)):\n",
    "    lasso = Lasso(alpha=alphalist[i])\n",
    "    train_mse = []\n",
    "    test_mse = []\n",
    "    predict_mse = []\n",
    "    \n",
    "    for train_index, test_index in kf.split(df_train_scaled):\n",
    "        lasso.fit(df_train_scaled.loc[train_index][feature_list], df_train_scaled.loc[train_index]['lpsa'])\n",
    "        train_mse.append(((lasso.predict(df_train_scaled.loc[train_index][feature_list]) - df_train_scaled.loc[train_index]['lpsa'])**2).mean())\n",
    "        test_mse.append(((lasso.predict(df_train_scaled.loc[test_index][feature_list]) - df_train_scaled.loc[test_index]['lpsa'])**2).mean())\n",
    "        predict_mse.append(((lasso.predict(df_test_scaled[feature_list])-df_test_scaled['lpsa'])**2).mean())\n",
    "    \n",
    "    df = df.append({'shrinkage': slist[i], 'train_mse': np.array(train_mse).mean(), 'test_mse': np.array(test_mse).mean(), 'test_mse_se': np.std(test_mse,ddof=1)/np.sqrt(K), \\\n",
    "                    'predict_mse': np.array(predict_mse).mean()}, ignore_index=True)"
   ]
  },
  {
   "cell_type": "code",
   "execution_count": 46,
   "metadata": {},
   "outputs": [
    {
     "data": {
      "text/plain": [
       "Text(0, 0.5, 'CV MSE')"
      ]
     },
     "execution_count": 46,
     "metadata": {},
     "output_type": "execute_result"
    },
    {
     "data": {
      "image/png": "[encoded data removed]",
      "text/plain": [
       "<Figure size 432x288 with 1 Axes>"
      ]
     },
     "metadata": {
      "needs_background": "light"
     },
     "output_type": "display_data"
    }
   ],
   "source": [
    "ax = df.plot(x='shrinkage', y='test_mse', yerr='test_mse_se',capsize=3, color='orange', ecolor='blue', marker='o')\n",
    "df.plot(x='shrinkage', y='train_mse', color='g', ax=ax)\n",
    "df.plot(x='shrinkage', y='predict_mse', color='r', ax=ax)\n",
    "ax.set_xlim(left=-0.1, right=1.1)\n",
    "\n",
    "idx = df['test_mse'].idxmin()\n",
    "ax.axhline(y=df.eval('test_mse + test_mse_se').loc[idx], ls='--', color='y')\n",
    "ax.axvline(x=df[df['test_mse']<df.eval('test_mse + test_mse_se').loc[idx]]['shrinkage'].min(), ls='--', color = 'm')\n",
    "ax.set_xlabel('Shrinkage factor s')\n",
    "ax.set_ylabel('CV MSE')"
   ]
  },
  {
   "cell_type": "markdown",
   "metadata": {},
   "source": [
    "## Step 3: Train full model using the selected alpha by cross validation"
   ]
  },
  {
   "cell_type": "code",
   "execution_count": 47,
   "metadata": {},
   "outputs": [],
   "source": [
    "coef = []\n",
    "intercept = []\n",
    "df_testerror = pd.DataFrame()\n",
    "for i in range(len(alphalist)):\n",
    "    lasso = Lasso(alpha=alphalist[i])\n",
    "    \n",
    "    lasso.fit(df_train_scaled[feature_list], df_train_scaled['lpsa'])\n",
    "    coef.append(list(lasso.coef_))\n",
    "    intercept.append(lasso.intercept_)\n",
    "    \n",
    "    squared_errors = (lasso.predict(df_test_scaled[feature_list]) - df_test_scaled['lpsa'])**2\n",
    "    df_testerror = df_testerror.append({'shrinkage':slist[i], 'test_error': np.mean(squared_errors), 'std_error': np.std(squared_errors, ddof=1)/np.sqrt(len(df_test_scaled))}, ignore_index=True)"
   ]
  },
  {
   "cell_type": "code",
   "execution_count": 48,
   "metadata": {},
   "outputs": [
    {
     "data": {
      "text/plain": [
       "[2.4523450850746267,\n",
       " 2.4523450850746267,\n",
       " 2.4523450850746267,\n",
       " 2.4523450850746267,\n",
       " 2.4523450850746267,\n",
       " 2.4523450850746267,\n",
       " 2.4523450850746267,\n",
       " 2.4523450850746267,\n",
       " 2.4523450850746267,\n",
       " 2.4523450850746267,\n",
       " 2.4523450850746267]"
      ]
     },
     "execution_count": 48,
     "metadata": {},
     "output_type": "execute_result"
    }
   ],
   "source": [
    "intercept"
   ]
  },
  {
   "cell_type": "code",
   "execution_count": 49,
   "metadata": {},
   "outputs": [],
   "source": [
    "df_coef = pd.DataFrame(coef,columns=feature_list)\n",
    "df_coef['shrinkage'] = slist"
   ]
  },
  {
   "cell_type": "code",
   "execution_count": 50,
   "metadata": {},
   "outputs": [
    {
     "data": {
      "text/plain": [
       "<matplotlib.lines.Line2D at 0x124c8ee50>"
      ]
     },
     "execution_count": 50,
     "metadata": {},
     "output_type": "execute_result"
    },
    {
     "data": {
      "image/png": "[encoded data removed]",
      "text/plain": [
       "<Figure size 432x288 with 1 Axes>"
      ]
     },
     "metadata": {
      "needs_background": "light"
     },
     "output_type": "display_data"
    }
   ],
   "source": [
    "ax = df_coef.plot(x='shrinkage', marker='o')\n",
    "ax.set_xlabel('shrinkage factor')\n",
    "ax.axvline(x=df[df['test_mse']<df.eval('test_mse + test_mse_se').loc[idx]]['shrinkage'].min(), ls='--', color = 'm')"
   ]
  },
  {
   "cell_type": "code",
   "execution_count": 51,
   "metadata": {},
   "outputs": [],
   "source": [
    "df_coef['Intercept'] = intercept\n",
    "\n",
    "df_lassores = df_coef[df_coef['shrinkage']==0.4].T.rename(columns={4:'Lasso'})\n",
    "df_lassores.loc['test_error'] = df_testerror.loc[4,'test_error']\n",
    "df_lassores.loc['std_error'] = df_testerror.loc[4,'std_error']\n",
    "df_lassores = df_lassores.drop(['shrinkage'])"
   ]
  },
  {
   "cell_type": "code",
   "execution_count": 53,
   "metadata": {},
   "outputs": [],
   "source": [
    "df_result = pd.concat([df_result,df_lassores], axis=1, sort = False)"
   ]
  },
  {
   "cell_type": "code",
   "execution_count": 54,
   "metadata": {},
   "outputs": [
    {
     "data": {
      "text/html": [
       "<div>\n",
       "<style scoped>\n",
       "    .dataframe tbody tr th:only-of-type {\n",
       "        vertical-align: middle;\n",
       "    }\n",
       "\n",
       "    .dataframe tbody tr th {\n",
       "        vertical-align: top;\n",
       "    }\n",
       "\n",
       "    .dataframe thead th {\n",
       "        text-align: right;\n",
       "    }\n",
       "</style>\n",
       "<table border=\"1\" class=\"dataframe\">\n",
       "  <thead>\n",
       "    <tr style=\"text-align: right;\">\n",
       "      <th></th>\n",
       "      <th>LS</th>\n",
       "      <th>Ridge</th>\n",
       "      <th>Lasso</th>\n",
       "    </tr>\n",
       "  </thead>\n",
       "  <tbody>\n",
       "    <tr>\n",
       "      <th>Intercept</th>\n",
       "      <td>2.452345</td>\n",
       "      <td>2.452345</td>\n",
       "      <td>2.452345</td>\n",
       "    </tr>\n",
       "    <tr>\n",
       "      <th>lcavol</th>\n",
       "      <td>0.711041</td>\n",
       "      <td>0.432815</td>\n",
       "      <td>0.560203</td>\n",
       "    </tr>\n",
       "    <tr>\n",
       "      <th>lweight</th>\n",
       "      <td>0.290450</td>\n",
       "      <td>0.252017</td>\n",
       "      <td>0.194887</td>\n",
       "    </tr>\n",
       "    <tr>\n",
       "      <th>age</th>\n",
       "      <td>-0.141482</td>\n",
       "      <td>-0.046407</td>\n",
       "      <td>0.000000</td>\n",
       "    </tr>\n",
       "    <tr>\n",
       "      <th>lbph</th>\n",
       "      <td>0.210420</td>\n",
       "      <td>0.168537</td>\n",
       "      <td>0.021667</td>\n",
       "    </tr>\n",
       "    <tr>\n",
       "      <th>svi</th>\n",
       "      <td>0.307300</td>\n",
       "      <td>0.234399</td>\n",
       "      <td>0.109014</td>\n",
       "    </tr>\n",
       "    <tr>\n",
       "      <th>lcp</th>\n",
       "      <td>-0.286841</td>\n",
       "      <td>0.002985</td>\n",
       "      <td>0.000000</td>\n",
       "    </tr>\n",
       "    <tr>\n",
       "      <th>gleason</th>\n",
       "      <td>-0.020757</td>\n",
       "      <td>0.041893</td>\n",
       "      <td>0.000000</td>\n",
       "    </tr>\n",
       "    <tr>\n",
       "      <th>pgg45</th>\n",
       "      <td>0.275268</td>\n",
       "      <td>0.134372</td>\n",
       "      <td>0.011666</td>\n",
       "    </tr>\n",
       "    <tr>\n",
       "      <th>test_error</th>\n",
       "      <td>0.521274</td>\n",
       "      <td>0.492480</td>\n",
       "      <td>0.468676</td>\n",
       "    </tr>\n",
       "    <tr>\n",
       "      <th>std_error</th>\n",
       "      <td>0.178724</td>\n",
       "      <td>0.161666</td>\n",
       "      <td>0.160616</td>\n",
       "    </tr>\n",
       "  </tbody>\n",
       "</table>\n",
       "</div>"
      ],
      "text/plain": [
       "                  LS     Ridge     Lasso\n",
       "Intercept   2.452345  2.452345  2.452345\n",
       "lcavol      0.711041  0.432815  0.560203\n",
       "lweight     0.290450  0.252017  0.194887\n",
       "age        -0.141482 -0.046407  0.000000\n",
       "lbph        0.210420  0.168537  0.021667\n",
       "svi         0.307300  0.234399  0.109014\n",
       "lcp        -0.286841  0.002985  0.000000\n",
       "gleason    -0.020757  0.041893  0.000000\n",
       "pgg45       0.275268  0.134372  0.011666\n",
       "test_error  0.521274  0.492480  0.468676\n",
       "std_error   0.178724  0.161666  0.160616"
      ]
     },
     "execution_count": 54,
     "metadata": {},
     "output_type": "execute_result"
    }
   ],
   "source": [
    "df_result"
   ]
  },
  {
   "cell_type": "markdown",
   "metadata": {},
   "source": [
    "# Subset_selection"
   ]
  },
  {
   "cell_type": "markdown",
   "metadata": {},
   "source": [
    "## Step 1: Define BestSubsetRegression class as a sklearn base estimator\n",
    "> Since sklearn doesn't have the module, we define best subset regression class to fit the model overselves. It is derived from BaseEstimator class in sklearn module, so can be used in standard Scikit-learn pipelines and cross-validation."
   ]
  },
  {
   "cell_type": "code",
   "execution_count": 55,
   "metadata": {},
   "outputs": [],
   "source": [
    "# reg = BestSubsetRegression(subset_size=2).fit(df_train_scaled[feature_list], df_train_scaled['lpsa'])\n",
    "from itertools import combinations\n",
    "from sklearn.linear_model import LinearRegression\n",
    "\n",
    "from sklearn.base import BaseEstimator, ClassifierMixin, TransformerMixin, RegressorMixin\n",
    "from sklearn.utils.validation import check_X_y, check_array, check_is_fitted\n",
    "\n",
    "class BestSubsetRegression(BaseEstimator):    \n",
    "    \"\"\" Linear regression based on the best features subset of fixed size.\n",
    "    Parameters\n",
    "    ----------\n",
    "        subset_size :\n",
    "            The number of features in the subset.\n",
    "    Examples\n",
    "    --------\n",
    "    >>> estimator = BestSubsetRegression(2)\n",
    "    >>> estimator.fit(X, y)\n",
    "    \"\"\"\n",
    "    \n",
    "    def __init__(self, subset_size=1):\n",
    "        #LinearRegression.__init__(self)\n",
    "        self.subset_size = subset_size\n",
    "    \n",
    "    def fit(self, X, y):\n",
    "        # always check input data first, and specify num of features\n",
    "        X, y = check_X_y(X, y, accept_sparse=False)\n",
    "        self.n_features_in_ = X.shape[1]\n",
    "        subset_size = max(min(int(self.subset_size),self.n_features_in_),0) # subset size should be integer between 0 and feature numbers\n",
    "        \n",
    "        if (subset_size==0):\n",
    "            self.best_coef_ = np.array([])\n",
    "            self.best_intercept_ = y.mean()\n",
    "            self.best_mse_ = ((y - y.mean())**2).mean()\n",
    "            self.best_subset_ = []\n",
    "            return self\n",
    "        \n",
    "        else:\n",
    "            best_mse_ = None\n",
    "            best_subset_ = None\n",
    "            best_coef_ = None\n",
    "            best_intercept_ = None\n",
    "            for subset in combinations(range(X.shape[1]),subset_size):\n",
    "                X_subset = X[:,list(subset)]\n",
    "                reg = LinearRegression().fit(X_subset,y)\n",
    "                mse = ((reg.predict(X_subset)-y)**2).mean()\n",
    "                if best_mse_==None or mse < best_mse_:\n",
    "                    best_mse_ = mse\n",
    "                    best_subset_ = list(subset)\n",
    "                    best_coef_ = reg.coef_\n",
    "                    best_intercept_ = reg.intercept_\n",
    "\n",
    "            self.best_coef_, self.best_intercept_ = best_coef_, best_intercept_\n",
    "            self.best_mse_, self.best_subset_ = best_mse_, best_subset_\n",
    "            self.is_fitted_ = True\n",
    "            return self\n",
    "    \n",
    "    def predict(self, X):\n",
    "        # Check is fit had been called\n",
    "        check_is_fitted(self)\n",
    "\n",
    "        # Input validation\n",
    "        X = check_array(X)\n",
    "        \n",
    "        X_subset = X[:, self.best_subset_]\n",
    "        return np.dot(X_subset, self.best_coef_) + self.best_intercept_"
   ]
  },
  {
   "cell_type": "code",
   "execution_count": 56,
   "metadata": {},
   "outputs": [
    {
     "name": "stderr",
     "output_type": "stream",
     "text": [
      "/Users/yuchenj/learn/playground/env/lib/python3.7/site-packages/sklearn/utils/estimator_checks.py:488: FutureWarning: Passing a class is deprecated since version 0.23 and won't be supported in 0.24.Please pass an instance instead.\n",
      "  warnings.warn(msg, FutureWarning)\n"
     ]
    }
   ],
   "source": [
    "# Check if estimator is a valid sklearn estimator so that it can be passed-in in later GridSearchCV pipelines\n",
    "from sklearn.utils.estimator_checks import check_estimator\n",
    "check_estimator(BestSubsetRegression)"
   ]
  },
  {
   "cell_type": "code",
   "execution_count": 57,
   "metadata": {},
   "outputs": [],
   "source": [
    "# Sanity check by training the full model, it should have the same results as linear regressor\n",
    "reg = BestSubsetRegression(subset_size=8).fit(df_train_scaled[feature_list], df_train_scaled['lpsa'])"
   ]
  },
  {
   "cell_type": "code",
   "execution_count": 58,
   "metadata": {},
   "outputs": [],
   "source": [
    "check_estimator(reg)"
   ]
  },
  {
   "cell_type": "code",
   "execution_count": 59,
   "metadata": {},
   "outputs": [
    {
     "data": {
      "text/plain": [
       "array([ 0.71104059,  0.29045029, -0.14148182,  0.21041951,  0.30730025,\n",
       "       -0.28684075, -0.02075686,  0.27526843])"
      ]
     },
     "execution_count": 59,
     "metadata": {},
     "output_type": "execute_result"
    }
   ],
   "source": [
    "reg.best_coef_"
   ]
  },
  {
   "cell_type": "code",
   "execution_count": 60,
   "metadata": {},
   "outputs": [
    {
     "data": {
      "text/plain": [
       "0.5212740055076"
      ]
     },
     "execution_count": 60,
     "metadata": {},
     "output_type": "execute_result"
    }
   ],
   "source": [
    "((reg.predict(df_test_scaled[feature_list]) - df_test_scaled['lpsa'])**2).mean()"
   ]
  },
  {
   "cell_type": "markdown",
   "metadata": {},
   "source": [
    "## Step 2: Cross Validation using GridSearchCV class in sklearn"
   ]
  },
  {
   "cell_type": "code",
   "execution_count": 61,
   "metadata": {},
   "outputs": [],
   "source": [
    "from sklearn.model_selection import GridSearchCV, KFold\n",
    "K=10\n",
    "g = GridSearchCV(BestSubsetRegression(), {'subset_size': [i for i in range(len(feature_list)+1)]},\n",
    "            cv=KFold(K, shuffle=True, random_state=69438),\n",
    "            scoring='neg_mean_squared_error',\n",
    "            return_train_score=True, iid=True)"
   ]
  },
  {
   "cell_type": "code",
   "execution_count": 62,
   "metadata": {},
   "outputs": [
    {
     "name": "stderr",
     "output_type": "stream",
     "text": [
      "/Users/yuchenj/learn/playground/env/lib/python3.7/site-packages/sklearn/model_selection/_search.py:849: FutureWarning: The parameter 'iid' is deprecated in 0.22 and will be removed in 0.24.\n",
      "  \"removed in 0.24.\", FutureWarning\n"
     ]
    },
    {
     "data": {
      "text/plain": [
       "GridSearchCV(cv=KFold(n_splits=10, random_state=69438, shuffle=True),\n",
       "             estimator=BestSubsetRegression(), iid=True,\n",
       "             param_grid={'subset_size': [0, 1, 2, 3, 4, 5, 6, 7, 8]},\n",
       "             return_train_score=True, scoring='neg_mean_squared_error')"
      ]
     },
     "execution_count": 62,
     "metadata": {},
     "output_type": "execute_result"
    }
   ],
   "source": [
    "g.fit(df_train_scaled[feature_list], df_train_scaled['lpsa'])"
   ]
  },
  {
   "cell_type": "code",
   "execution_count": 63,
   "metadata": {},
   "outputs": [
    {
     "data": {
      "text/plain": [
       "<matplotlib.legend.Legend at 0x125513a50>"
      ]
     },
     "execution_count": 63,
     "metadata": {},
     "output_type": "execute_result"
    },
    {
     "data": {
      "image/png": "[encoded data removed]",
      "text/plain": [
       "<Figure size 432x288 with 1 Axes>"
      ]
     },
     "metadata": {
      "needs_background": "light"
     },
     "output_type": "display_data"
    }
   ],
   "source": [
    "plt.errorbar(g.param_grid['subset_size'],-g.cv_results_['mean_test_score'],yerr=-g.cv_results_['std_test_score']/np.sqrt(K), marker='o', capsize=3,label='test_error', color='orange', ecolor='blue')\n",
    "plt.plot(g.param_grid['subset_size'],-g.cv_results_['mean_train_score'],label='train_error', color='g')\n",
    "\n",
    "oneStandardError_test_score = -g.cv_results_['mean_test_score'][g.best_estimator_.subset_size] + g.cv_results_['std_test_score'][g.best_estimator_.subset_size]/np.sqrt(K)\n",
    "plt.axhline(y = oneStandardError_test_score, ls='--', color='y')\n",
    "plt.axvline(x = (-g.cv_results_['mean_test_score']<oneStandardError_test_score).argmax(), ls='--', color='m')\n",
    "plt.xlabel('Subset_size')\n",
    "plt.ylabel('CV MSE')\n",
    "plt.legend()"
   ]
  },
  {
   "cell_type": "markdown",
   "metadata": {},
   "source": [
    "## Step 3: Retrain full model using selected subset sizes"
   ]
  },
  {
   "cell_type": "code",
   "execution_count": 64,
   "metadata": {},
   "outputs": [
    {
     "name": "stdout",
     "output_type": "stream",
     "text": [
      "[0.77401717 0.34927407] 2.4523450850746267\n"
     ]
    }
   ],
   "source": [
    "reg = BestSubsetRegression(subset_size=2).fit(df_train_scaled[feature_list], df_train_scaled['lpsa'])\n",
    "print(reg.best_coef_, reg.best_intercept_)"
   ]
  },
  {
   "cell_type": "code",
   "execution_count": 65,
   "metadata": {},
   "outputs": [],
   "source": [
    "squared_errors = (reg.predict(df_test_scaled[feature_list]) - df_test_scaled['lpsa'])**2\n",
    "test_error = squared_errors.mean()\n",
    "std_error = np.std(squared_errors, ddof=1)/np.sqrt(len(df_test_scaled))"
   ]
  },
  {
   "cell_type": "code",
   "execution_count": 66,
   "metadata": {},
   "outputs": [],
   "source": [
    "df_bestsubset = pd.DataFrame(reg.best_coef_, [feature_list[i] for i in reg.best_subset_], columns=['best_subset'])\n",
    "df_bestsubset.loc['test_error'] = test_error\n",
    "df_bestsubset.loc['std_error'] = std_error\n",
    "df_bestsubset.loc['Intercept'] = reg.best_intercept_"
   ]
  },
  {
   "cell_type": "code",
   "execution_count": 67,
   "metadata": {},
   "outputs": [],
   "source": [
    "df_result = pd.concat([df_result,df_bestsubset], axis=1, sort = False).fillna(0)"
   ]
  },
  {
   "cell_type": "code",
   "execution_count": 68,
   "metadata": {},
   "outputs": [
    {
     "data": {
      "text/html": [
       "<div>\n",
       "<style scoped>\n",
       "    .dataframe tbody tr th:only-of-type {\n",
       "        vertical-align: middle;\n",
       "    }\n",
       "\n",
       "    .dataframe tbody tr th {\n",
       "        vertical-align: top;\n",
       "    }\n",
       "\n",
       "    .dataframe thead th {\n",
       "        text-align: right;\n",
       "    }\n",
       "</style>\n",
       "<table border=\"1\" class=\"dataframe\">\n",
       "  <thead>\n",
       "    <tr style=\"text-align: right;\">\n",
       "      <th></th>\n",
       "      <th>LS</th>\n",
       "      <th>Ridge</th>\n",
       "      <th>Lasso</th>\n",
       "      <th>best_subset</th>\n",
       "    </tr>\n",
       "  </thead>\n",
       "  <tbody>\n",
       "    <tr>\n",
       "      <th>Intercept</th>\n",
       "      <td>2.452345</td>\n",
       "      <td>2.452345</td>\n",
       "      <td>2.452345</td>\n",
       "      <td>2.452345</td>\n",
       "    </tr>\n",
       "    <tr>\n",
       "      <th>lcavol</th>\n",
       "      <td>0.711041</td>\n",
       "      <td>0.432815</td>\n",
       "      <td>0.560203</td>\n",
       "      <td>0.774017</td>\n",
       "    </tr>\n",
       "    <tr>\n",
       "      <th>lweight</th>\n",
       "      <td>0.290450</td>\n",
       "      <td>0.252017</td>\n",
       "      <td>0.194887</td>\n",
       "      <td>0.349274</td>\n",
       "    </tr>\n",
       "    <tr>\n",
       "      <th>age</th>\n",
       "      <td>-0.141482</td>\n",
       "      <td>-0.046407</td>\n",
       "      <td>0.000000</td>\n",
       "      <td>0.000000</td>\n",
       "    </tr>\n",
       "    <tr>\n",
       "      <th>lbph</th>\n",
       "      <td>0.210420</td>\n",
       "      <td>0.168537</td>\n",
       "      <td>0.021667</td>\n",
       "      <td>0.000000</td>\n",
       "    </tr>\n",
       "    <tr>\n",
       "      <th>svi</th>\n",
       "      <td>0.307300</td>\n",
       "      <td>0.234399</td>\n",
       "      <td>0.109014</td>\n",
       "      <td>0.000000</td>\n",
       "    </tr>\n",
       "    <tr>\n",
       "      <th>lcp</th>\n",
       "      <td>-0.286841</td>\n",
       "      <td>0.002985</td>\n",
       "      <td>0.000000</td>\n",
       "      <td>0.000000</td>\n",
       "    </tr>\n",
       "    <tr>\n",
       "      <th>gleason</th>\n",
       "      <td>-0.020757</td>\n",
       "      <td>0.041893</td>\n",
       "      <td>0.000000</td>\n",
       "      <td>0.000000</td>\n",
       "    </tr>\n",
       "    <tr>\n",
       "      <th>pgg45</th>\n",
       "      <td>0.275268</td>\n",
       "      <td>0.134372</td>\n",
       "      <td>0.011666</td>\n",
       "      <td>0.000000</td>\n",
       "    </tr>\n",
       "    <tr>\n",
       "      <th>test_error</th>\n",
       "      <td>0.521274</td>\n",
       "      <td>0.492480</td>\n",
       "      <td>0.468676</td>\n",
       "      <td>0.492482</td>\n",
       "    </tr>\n",
       "    <tr>\n",
       "      <th>std_error</th>\n",
       "      <td>0.178724</td>\n",
       "      <td>0.161666</td>\n",
       "      <td>0.160616</td>\n",
       "      <td>0.143123</td>\n",
       "    </tr>\n",
       "  </tbody>\n",
       "</table>\n",
       "</div>"
      ],
      "text/plain": [
       "                  LS     Ridge     Lasso  best_subset\n",
       "Intercept   2.452345  2.452345  2.452345     2.452345\n",
       "lcavol      0.711041  0.432815  0.560203     0.774017\n",
       "lweight     0.290450  0.252017  0.194887     0.349274\n",
       "age        -0.141482 -0.046407  0.000000     0.000000\n",
       "lbph        0.210420  0.168537  0.021667     0.000000\n",
       "svi         0.307300  0.234399  0.109014     0.000000\n",
       "lcp        -0.286841  0.002985  0.000000     0.000000\n",
       "gleason    -0.020757  0.041893  0.000000     0.000000\n",
       "pgg45       0.275268  0.134372  0.011666     0.000000\n",
       "test_error  0.521274  0.492480  0.468676     0.492482\n",
       "std_error   0.178724  0.161666  0.160616     0.143123"
      ]
     },
     "execution_count": 68,
     "metadata": {},
     "output_type": "execute_result"
    }
   ],
   "source": [
    "df_result"
   ]
  },
  {
   "cell_type": "code",
   "execution_count": null,
   "metadata": {},
   "outputs": [],
   "source": []
  },
  {
   "cell_type": "markdown",
   "metadata": {},
   "source": [
    "# Principal Component Regression\n",
    "> For training data $X_{n*p}$, let $v_k \\in R^p$ be the $k$-th principal component direction, $z_k = Xv_k - avg(Xv_k)\\in R^n$ is the direction that has the largest sample variance\n",
    "amongst all normalized linear combinations of the columns of X which is orthogonal to all previous directions $1, 2, \\dots, k-1$. The singular values are $d_k = \\|z_k\\|$.  \n",
    "> The Principal Component Regression is to regress $y$ on $z_1, \\dots, z_m$, for some $m<p$, i.e, $$\\mathbf{\\hat{y}} =  \\bar{y} \\mathbf{1} + \\sum_{i=1}^m \\hat{\\theta}_i \\mathbf{z_i}.$$ Since $\\mathbf{z_i}$ are orthogonal to each other, we have $\\hat{\\theta}_i = \\frac{<z_i, y>}{<z_i, z_i>}$.  \n",
    "> Mapping to original space, $\\hat{\\beta} = \\sum_{i=1}^m \\hat{\\theta}_i v_i$"
   ]
  },
  {
   "cell_type": "markdown",
   "metadata": {},
   "source": [
    "## Step 1: Implement PCR function to return beta coef"
   ]
  },
  {
   "cell_type": "code",
   "execution_count": 69,
   "metadata": {},
   "outputs": [],
   "source": [
    "from sklearn.decomposition import PCA\n",
    "from sklearn.preprocessing import StandardScaler\n",
    "\n",
    "def PCR(df, feature_list, output_col):\n",
    "    # find principal components\n",
    "    x, y = df[feature_list], df[output_col]\n",
    "    \n",
    "    pca = PCA(n_components = len(feature_list)) \n",
    "    pca.fit(x)\n",
    "    d = pca.singular_values_\n",
    "    v = pca.components_\n",
    "    \n",
    "    z = pca.fit_transform(x).T\n",
    "    \n",
    "    # compute coefficients\n",
    "    thetas = np.dot(z,y)/(d**2)\n",
    "    ybars = [np.mean(y)]\n",
    "    \n",
    "    betas = [[0 for _ in range(len(feature_list))]]\n",
    "    for m in range(len(feature_list)):\n",
    "        betas.append(list(betas[-1]+thetas[m] * v[m]))\n",
    "        ybars.append(ybars[-1]-np.dot(x, v[m]).mean()*thetas[m]) # re-compute intercept since X might not be centered\n",
    "    betas = np.array(betas)\n",
    "    \n",
    "    return ybars,betas"
   ]
  },
  {
   "cell_type": "code",
   "execution_count": 70,
   "metadata": {},
   "outputs": [],
   "source": [
    "beta0,betas = PCR(df_train_scaled, feature_list, 'lpsa')"
   ]
  },
  {
   "cell_type": "code",
   "execution_count": 71,
   "metadata": {},
   "outputs": [
    {
     "data": {
      "text/plain": [
       "array([[ 0.        ,  0.        ,  0.        ,  0.        ,  0.        ,\n",
       "         0.        ,  0.        ,  0.        ],\n",
       "       [ 0.18977538,  0.07294251,  0.10486558,  0.01321516,  0.17224992,\n",
       "         0.20021365,  0.17172686,  0.19418163],\n",
       "       [ 0.19698013,  0.19899826,  0.1985914 ,  0.15837241,  0.1330765 ,\n",
       "         0.16226077,  0.15942118,  0.1640579 ],\n",
       "       [ 0.29613106,  0.33479572,  0.07103   ,  0.13681513,  0.27985354,\n",
       "         0.23411875, -0.03316913,  0.05253095],\n",
       "       [ 0.28621553,  0.33695222, -0.06573739,  0.23470027,  0.25447565,\n",
       "         0.25247067,  0.00253234,  0.10062603],\n",
       "       [ 0.31507681,  0.28674723, -0.05472296,  0.26823868,  0.25958424,\n",
       "         0.26134135, -0.01035579,  0.08076792],\n",
       "       [ 0.43402324,  0.31187656, -0.07728811,  0.21951084,  0.13379538,\n",
       "         0.27055809,  0.01346759,  0.0515934 ],\n",
       "       [ 0.5663068 ,  0.32085962, -0.15256804,  0.21438171,  0.31970713,\n",
       "        -0.05002414,  0.22686072, -0.06314984],\n",
       "       [ 0.71104059,  0.29045029, -0.14148182,  0.21041951,  0.30730025,\n",
       "        -0.28684075, -0.02075686,  0.27526843]])"
      ]
     },
     "execution_count": 71,
     "metadata": {},
     "output_type": "execute_result"
    }
   ],
   "source": [
    "betas"
   ]
  },
  {
   "cell_type": "code",
   "execution_count": 72,
   "metadata": {},
   "outputs": [
    {
     "data": {
      "text/plain": [
       "[2.4523450850746267,\n",
       " 2.4523450850746267,\n",
       " 2.4523450850746267,\n",
       " 2.4523450850746267,\n",
       " 2.4523450850746267,\n",
       " 2.4523450850746267,\n",
       " 2.4523450850746267,\n",
       " 2.4523450850746267,\n",
       " 2.4523450850746267]"
      ]
     },
     "execution_count": 72,
     "metadata": {},
     "output_type": "execute_result"
    }
   ],
   "source": [
    "beta0"
   ]
  },
  {
   "cell_type": "markdown",
   "metadata": {},
   "source": [
    "## Step 2: Cross validation to choose desired number of components"
   ]
  },
  {
   "cell_type": "code",
   "execution_count": 73,
   "metadata": {},
   "outputs": [],
   "source": [
    "df = pd.DataFrame()\n",
    "K=10\n",
    "kf = KFold(n_splits=K,shuffle=True,random_state=69438)\n",
    "kf.get_n_splits(df_train_scaled)\n",
    "train_mse = []\n",
    "test_mse = []\n",
    "predict_mse = []\n",
    "\n",
    "for train_index, test_index in kf.split(df_train_scaled):\n",
    "    beta0s,betas = PCR(df_train_scaled.loc[train_index], feature_list, 'lpsa')\n",
    "\n",
    "    train_mse.append([])\n",
    "    test_mse.append([])\n",
    "    predict_mse.append([])\n",
    "    for m in range(len(betas)):\n",
    "        train_mse[-1].append(((np.dot(betas[m],df_train_scaled.loc[train_index][feature_list].T)+beta0s[m] - df_train_scaled.loc[train_index]['lpsa'])**2).mean())\n",
    "        test_mse[-1].append(((np.dot(betas[m],df_train_scaled.loc[test_index][feature_list].T)+beta0s[m] - df_train_scaled.loc[test_index]['lpsa'])**2).mean())\n",
    "        predict_mse[-1].append(((np.dot(betas[m],df_test_scaled[feature_list].T)+beta0s[m] - df_test_scaled['lpsa'])**2).mean())\n",
    "\n",
    "df = pd.DataFrame({'num_components': [i for i in range(len(feature_list)+1)], 'train_mse': np.mean(train_mse, axis=0), 'test_mse': np.mean(test_mse, axis=0), \n",
    "                'test_mse_se': np.std(test_mse, ddof=1, axis=0)/np.sqrt(K), 'predict_mse': np.mean(predict_mse,axis=0)})"
   ]
  },
  {
   "cell_type": "code",
   "execution_count": 74,
   "metadata": {},
   "outputs": [
    {
     "data": {
      "text/plain": [
       "Text(0, 0.5, 'CV MSE')"
      ]
     },
     "execution_count": 74,
     "metadata": {},
     "output_type": "execute_result"
    },
    {
     "data": {
      "image/png": "[encoded data removed]",
      "text/plain": [
       "<Figure size 432x288 with 1 Axes>"
      ]
     },
     "metadata": {
      "needs_background": "light"
     },
     "output_type": "display_data"
    }
   ],
   "source": [
    "ax = df.plot(x='num_components', y='test_mse', yerr='test_mse_se',capsize=3, color='orange', ecolor='blue',marker='o')\n",
    "df.plot(x='num_components', y='train_mse', color='g', ax=ax)\n",
    "df.plot(x='num_components', y='predict_mse', color='r', ax=ax)\n",
    "ax.set_xlim(left=-0.2, right=8.2)\n",
    "\n",
    "idx = df['test_mse'].idxmin()\n",
    "ax.axhline(y=df.eval('test_mse + test_mse_se').loc[idx], ls='--', color='y')\n",
    "ax.axvline(x=df[df['test_mse']<df.eval('test_mse + test_mse_se').loc[idx]]['num_components'].min(), ls='--', color = 'm')\n",
    "ax.set_xlabel('num_components')\n",
    "ax.set_ylabel('CV MSE')"
   ]
  },
  {
   "cell_type": "code",
   "execution_count": 75,
   "metadata": {},
   "outputs": [
    {
     "data": {
      "text/html": [
       "<div>\n",
       "<style scoped>\n",
       "    .dataframe tbody tr th:only-of-type {\n",
       "        vertical-align: middle;\n",
       "    }\n",
       "\n",
       "    .dataframe tbody tr th {\n",
       "        vertical-align: top;\n",
       "    }\n",
       "\n",
       "    .dataframe thead th {\n",
       "        text-align: right;\n",
       "    }\n",
       "</style>\n",
       "<table border=\"1\" class=\"dataframe\">\n",
       "  <thead>\n",
       "    <tr style=\"text-align: right;\">\n",
       "      <th></th>\n",
       "      <th>num_components</th>\n",
       "      <th>train_mse</th>\n",
       "      <th>test_mse</th>\n",
       "      <th>test_mse_se</th>\n",
       "      <th>predict_mse</th>\n",
       "    </tr>\n",
       "  </thead>\n",
       "  <tbody>\n",
       "    <tr>\n",
       "      <th>0</th>\n",
       "      <td>0</td>\n",
       "      <td>1.435814</td>\n",
       "      <td>1.471813</td>\n",
       "      <td>0.275333</td>\n",
       "      <td>1.058056</td>\n",
       "    </tr>\n",
       "    <tr>\n",
       "      <th>1</th>\n",
       "      <td>1</td>\n",
       "      <td>0.786630</td>\n",
       "      <td>0.863364</td>\n",
       "      <td>0.167884</td>\n",
       "      <td>0.550056</td>\n",
       "    </tr>\n",
       "    <tr>\n",
       "      <th>2</th>\n",
       "      <td>2</td>\n",
       "      <td>0.704094</td>\n",
       "      <td>0.787020</td>\n",
       "      <td>0.169953</td>\n",
       "      <td>0.718940</td>\n",
       "    </tr>\n",
       "    <tr>\n",
       "      <th>3</th>\n",
       "      <td>3</td>\n",
       "      <td>0.573595</td>\n",
       "      <td>0.741485</td>\n",
       "      <td>0.126342</td>\n",
       "      <td>0.524360</td>\n",
       "    </tr>\n",
       "    <tr>\n",
       "      <th>4</th>\n",
       "      <td>4</td>\n",
       "      <td>0.553455</td>\n",
       "      <td>0.716156</td>\n",
       "      <td>0.128460</td>\n",
       "      <td>0.545145</td>\n",
       "    </tr>\n",
       "    <tr>\n",
       "      <th>5</th>\n",
       "      <td>5</td>\n",
       "      <td>0.549381</td>\n",
       "      <td>0.724272</td>\n",
       "      <td>0.125748</td>\n",
       "      <td>0.535810</td>\n",
       "    </tr>\n",
       "    <tr>\n",
       "      <th>6</th>\n",
       "      <td>6</td>\n",
       "      <td>0.530917</td>\n",
       "      <td>0.756797</td>\n",
       "      <td>0.102597</td>\n",
       "      <td>0.499313</td>\n",
       "    </tr>\n",
       "    <tr>\n",
       "      <th>7</th>\n",
       "      <td>7</td>\n",
       "      <td>0.475795</td>\n",
       "      <td>0.666069</td>\n",
       "      <td>0.116200</td>\n",
       "      <td>0.458563</td>\n",
       "    </tr>\n",
       "    <tr>\n",
       "      <th>8</th>\n",
       "      <td>8</td>\n",
       "      <td>0.432666</td>\n",
       "      <td>0.574335</td>\n",
       "      <td>0.094005</td>\n",
       "      <td>0.527207</td>\n",
       "    </tr>\n",
       "  </tbody>\n",
       "</table>\n",
       "</div>"
      ],
      "text/plain": [
       "   num_components  train_mse  test_mse  test_mse_se  predict_mse\n",
       "0               0   1.435814  1.471813     0.275333     1.058056\n",
       "1               1   0.786630  0.863364     0.167884     0.550056\n",
       "2               2   0.704094  0.787020     0.169953     0.718940\n",
       "3               3   0.573595  0.741485     0.126342     0.524360\n",
       "4               4   0.553455  0.716156     0.128460     0.545145\n",
       "5               5   0.549381  0.724272     0.125748     0.535810\n",
       "6               6   0.530917  0.756797     0.102597     0.499313\n",
       "7               7   0.475795  0.666069     0.116200     0.458563\n",
       "8               8   0.432666  0.574335     0.094005     0.527207"
      ]
     },
     "execution_count": 75,
     "metadata": {},
     "output_type": "execute_result"
    }
   ],
   "source": [
    "df"
   ]
  },
  {
   "cell_type": "markdown",
   "metadata": {},
   "source": [
    "# Step 3: Train full model using selected number of components"
   ]
  },
  {
   "cell_type": "code",
   "execution_count": 76,
   "metadata": {},
   "outputs": [],
   "source": [
    "beta0s,betas = PCR(df_train_scaled, feature_list, 'lpsa')"
   ]
  },
  {
   "cell_type": "code",
   "execution_count": 77,
   "metadata": {},
   "outputs": [
    {
     "name": "stdout",
     "output_type": "stream",
     "text": [
      "[2.4523450850746267, 2.4523450850746267, 2.4523450850746267, 2.4523450850746267, 2.4523450850746267, 2.4523450850746267, 2.4523450850746267, 2.4523450850746267, 2.4523450850746267] [ 0.71104059  0.29045029 -0.14148182  0.21041951  0.30730025 -0.28684075\n",
      " -0.02075686  0.27526843]\n"
     ]
    }
   ],
   "source": [
    "print(beta0s, betas[-1])"
   ]
  },
  {
   "cell_type": "code",
   "execution_count": 78,
   "metadata": {},
   "outputs": [
    {
     "name": "stdout",
     "output_type": "stream",
     "text": [
      "2.4523450850746267 [ 0.71104059  0.29045029 -0.14148182  0.21041951  0.30730025 -0.28684075\n",
      " -0.02075686  0.27526843]\n"
     ]
    }
   ],
   "source": [
    "reg = LinearRegression().fit(df_train_scaled[feature_list], df_train_scaled['lpsa'])\n",
    "print(reg.intercept_, reg.coef_)"
   ]
  },
  {
   "cell_type": "code",
   "execution_count": 79,
   "metadata": {},
   "outputs": [],
   "source": [
    "squared_errors = (np.dot(df_test_scaled[feature_list],betas[7])+beta0s[7] - df_test_scaled['lpsa'])**2"
   ]
  },
  {
   "cell_type": "code",
   "execution_count": 80,
   "metadata": {},
   "outputs": [],
   "source": [
    "test_error = squared_errors.mean()\n",
    "std_error = np.std(squared_errors, ddof=1)/np.sqrt(len(df_test_scaled))"
   ]
  },
  {
   "cell_type": "code",
   "execution_count": 81,
   "metadata": {},
   "outputs": [
    {
     "data": {
      "text/plain": [
       "0.10443722001698953"
      ]
     },
     "execution_count": 81,
     "metadata": {},
     "output_type": "execute_result"
    }
   ],
   "source": [
    "std_error"
   ]
  },
  {
   "cell_type": "code",
   "execution_count": 82,
   "metadata": {},
   "outputs": [
    {
     "data": {
      "text/plain": [
       "<matplotlib.axes._subplots.AxesSubplot at 0x12560ec50>"
      ]
     },
     "execution_count": 82,
     "metadata": {},
     "output_type": "execute_result"
    },
    {
     "data": {
      "image/png": "[encoded data removed]",
      "text/plain": [
       "<Figure size 432x288 with 1 Axes>"
      ]
     },
     "metadata": {
      "needs_background": "light"
     },
     "output_type": "display_data"
    }
   ],
   "source": [
    "df_coef = pd.DataFrame(betas,columns=feature_list)\n",
    "df_coef['num_components'] = [i for i in range(9)]\n",
    "df_coef.plot(x='num_components',marker='o')"
   ]
  },
  {
   "cell_type": "code",
   "execution_count": 83,
   "metadata": {},
   "outputs": [],
   "source": [
    "df_coef['Intercept'] = beta0"
   ]
  },
  {
   "cell_type": "code",
   "execution_count": 84,
   "metadata": {},
   "outputs": [],
   "source": [
    "df_pcr = df_coef[df_coef['num_components']==7].T.rename(columns={7:'PCR'})\n",
    "df_pcr.loc['test_error'] = test_error\n",
    "df_pcr.loc['std_error'] = std_error\n",
    "df_pcr = df_pcr.drop(['num_components'])"
   ]
  },
  {
   "cell_type": "code",
   "execution_count": 85,
   "metadata": {},
   "outputs": [],
   "source": [
    "df_result = pd.concat([df_result,df_pcr], axis=1, sort = False)"
   ]
  },
  {
   "cell_type": "code",
   "execution_count": 86,
   "metadata": {},
   "outputs": [
    {
     "data": {
      "text/html": [
       "<div>\n",
       "<style scoped>\n",
       "    .dataframe tbody tr th:only-of-type {\n",
       "        vertical-align: middle;\n",
       "    }\n",
       "\n",
       "    .dataframe tbody tr th {\n",
       "        vertical-align: top;\n",
       "    }\n",
       "\n",
       "    .dataframe thead th {\n",
       "        text-align: right;\n",
       "    }\n",
       "</style>\n",
       "<table border=\"1\" class=\"dataframe\">\n",
       "  <thead>\n",
       "    <tr style=\"text-align: right;\">\n",
       "      <th></th>\n",
       "      <th>LS</th>\n",
       "      <th>Ridge</th>\n",
       "      <th>Lasso</th>\n",
       "      <th>best_subset</th>\n",
       "      <th>PCR</th>\n",
       "    </tr>\n",
       "  </thead>\n",
       "  <tbody>\n",
       "    <tr>\n",
       "      <th>Intercept</th>\n",
       "      <td>2.452345</td>\n",
       "      <td>2.452345</td>\n",
       "      <td>2.452345</td>\n",
       "      <td>2.452345</td>\n",
       "      <td>2.452345</td>\n",
       "    </tr>\n",
       "    <tr>\n",
       "      <th>lcavol</th>\n",
       "      <td>0.711041</td>\n",
       "      <td>0.432815</td>\n",
       "      <td>0.560203</td>\n",
       "      <td>0.774017</td>\n",
       "      <td>0.566307</td>\n",
       "    </tr>\n",
       "    <tr>\n",
       "      <th>lweight</th>\n",
       "      <td>0.290450</td>\n",
       "      <td>0.252017</td>\n",
       "      <td>0.194887</td>\n",
       "      <td>0.349274</td>\n",
       "      <td>0.320860</td>\n",
       "    </tr>\n",
       "    <tr>\n",
       "      <th>age</th>\n",
       "      <td>-0.141482</td>\n",
       "      <td>-0.046407</td>\n",
       "      <td>0.000000</td>\n",
       "      <td>0.000000</td>\n",
       "      <td>-0.152568</td>\n",
       "    </tr>\n",
       "    <tr>\n",
       "      <th>lbph</th>\n",
       "      <td>0.210420</td>\n",
       "      <td>0.168537</td>\n",
       "      <td>0.021667</td>\n",
       "      <td>0.000000</td>\n",
       "      <td>0.214382</td>\n",
       "    </tr>\n",
       "    <tr>\n",
       "      <th>svi</th>\n",
       "      <td>0.307300</td>\n",
       "      <td>0.234399</td>\n",
       "      <td>0.109014</td>\n",
       "      <td>0.000000</td>\n",
       "      <td>0.319707</td>\n",
       "    </tr>\n",
       "    <tr>\n",
       "      <th>lcp</th>\n",
       "      <td>-0.286841</td>\n",
       "      <td>0.002985</td>\n",
       "      <td>0.000000</td>\n",
       "      <td>0.000000</td>\n",
       "      <td>-0.050024</td>\n",
       "    </tr>\n",
       "    <tr>\n",
       "      <th>gleason</th>\n",
       "      <td>-0.020757</td>\n",
       "      <td>0.041893</td>\n",
       "      <td>0.000000</td>\n",
       "      <td>0.000000</td>\n",
       "      <td>0.226861</td>\n",
       "    </tr>\n",
       "    <tr>\n",
       "      <th>pgg45</th>\n",
       "      <td>0.275268</td>\n",
       "      <td>0.134372</td>\n",
       "      <td>0.011666</td>\n",
       "      <td>0.000000</td>\n",
       "      <td>-0.063150</td>\n",
       "    </tr>\n",
       "    <tr>\n",
       "      <th>test_error</th>\n",
       "      <td>0.521274</td>\n",
       "      <td>0.492480</td>\n",
       "      <td>0.468676</td>\n",
       "      <td>0.492482</td>\n",
       "      <td>0.448309</td>\n",
       "    </tr>\n",
       "    <tr>\n",
       "      <th>std_error</th>\n",
       "      <td>0.178724</td>\n",
       "      <td>0.161666</td>\n",
       "      <td>0.160616</td>\n",
       "      <td>0.143123</td>\n",
       "      <td>0.104437</td>\n",
       "    </tr>\n",
       "  </tbody>\n",
       "</table>\n",
       "</div>"
      ],
      "text/plain": [
       "                  LS     Ridge     Lasso  best_subset       PCR\n",
       "Intercept   2.452345  2.452345  2.452345     2.452345  2.452345\n",
       "lcavol      0.711041  0.432815  0.560203     0.774017  0.566307\n",
       "lweight     0.290450  0.252017  0.194887     0.349274  0.320860\n",
       "age        -0.141482 -0.046407  0.000000     0.000000 -0.152568\n",
       "lbph        0.210420  0.168537  0.021667     0.000000  0.214382\n",
       "svi         0.307300  0.234399  0.109014     0.000000  0.319707\n",
       "lcp        -0.286841  0.002985  0.000000     0.000000 -0.050024\n",
       "gleason    -0.020757  0.041893  0.000000     0.000000  0.226861\n",
       "pgg45       0.275268  0.134372  0.011666     0.000000 -0.063150\n",
       "test_error  0.521274  0.492480  0.468676     0.492482  0.448309\n",
       "std_error   0.178724  0.161666  0.160616     0.143123  0.104437"
      ]
     },
     "execution_count": 86,
     "metadata": {},
     "output_type": "execute_result"
    }
   ],
   "source": [
    "df_result"
   ]
  },
  {
   "cell_type": "code",
   "execution_count": null,
   "metadata": {},
   "outputs": [],
   "source": []
  },
  {
   "cell_type": "markdown",
   "metadata": {},
   "source": [
    "### An easier way is to utilize the GridSearchCV class to do cross validation and select desired number of components.\n",
    "> see here: https://scikit-learn.org/stable/modules/compose.html"
   ]
  },
  {
   "cell_type": "code",
   "execution_count": 87,
   "metadata": {},
   "outputs": [],
   "source": [
    "# Define model pipeline, first use PCA class to find principal components, and the apply linear regreesion class to fit a linear model\n",
    "from sklearn.pipeline import Pipeline\n",
    "from sklearn.decomposition import PCA\n",
    "from sklearn.linear_model import LinearRegression\n",
    "\n",
    "PCR_pipe = Pipeline([('pca', PCA()),\n",
    "                ('regression', LinearRegression())])"
   ]
  },
  {
   "cell_type": "code",
   "execution_count": 88,
   "metadata": {},
   "outputs": [
    {
     "data": {
      "text/plain": [
       "{'memory': None,\n",
       " 'steps': [('pca', PCA()), ('regression', LinearRegression())],\n",
       " 'verbose': False,\n",
       " 'pca': PCA(),\n",
       " 'regression': LinearRegression(),\n",
       " 'pca__copy': True,\n",
       " 'pca__iterated_power': 'auto',\n",
       " 'pca__n_components': None,\n",
       " 'pca__random_state': None,\n",
       " 'pca__svd_solver': 'auto',\n",
       " 'pca__tol': 0.0,\n",
       " 'pca__whiten': False,\n",
       " 'regression__copy_X': True,\n",
       " 'regression__fit_intercept': True,\n",
       " 'regression__n_jobs': None,\n",
       " 'regression__normalize': False}"
      ]
     },
     "execution_count": 88,
     "metadata": {},
     "output_type": "execute_result"
    }
   ],
   "source": [
    "PCR_pipe.get_params()"
   ]
  },
  {
   "cell_type": "code",
   "execution_count": 89,
   "metadata": {},
   "outputs": [],
   "source": [
    "params = {'pca__n_components': [i+1 for i in range(len(feature_list))]} # Cannot pass 0 into PCA n_components"
   ]
  },
  {
   "cell_type": "code",
   "execution_count": 90,
   "metadata": {},
   "outputs": [
    {
     "data": {
      "text/plain": [
       "GridSearchCV(cv=KFold(n_splits=10, random_state=69438, shuffle=True),\n",
       "             estimator=Pipeline(steps=[('pca', PCA()),\n",
       "                                       ('regression', LinearRegression())]),\n",
       "             param_grid={'pca__n_components': [1, 2, 3, 4, 5, 6, 7, 8]},\n",
       "             return_train_score=True, scoring='neg_mean_squared_error')"
      ]
     },
     "execution_count": 90,
     "metadata": {},
     "output_type": "execute_result"
    }
   ],
   "source": [
    "from sklearn.model_selection import GridSearchCV\n",
    "K = 10\n",
    "g = GridSearchCV(PCR_pipe, params, scoring='neg_mean_squared_error', cv=KFold(n_splits=K,shuffle=True, random_state=69438), return_train_score=True)\n",
    "g.fit(df_train_scaled[feature_list], df_train_scaled['lpsa'])"
   ]
  },
  {
   "cell_type": "code",
   "execution_count": 91,
   "metadata": {},
   "outputs": [
    {
     "data": {
      "text/plain": [
       "GridSearchCV(cv=KFold(n_splits=10, random_state=69438, shuffle=True),\n",
       "             estimator=DummyRegressor(), param_grid={'constant': [None]},\n",
       "             return_train_score=True, scoring='neg_mean_squared_error')"
      ]
     },
     "execution_count": 91,
     "metadata": {},
     "output_type": "execute_result"
    }
   ],
   "source": [
    "# Now using DummyRegressor to get 0 component case, i.e., Dummy regressor with intercept only\n",
    "from sklearn.dummy import DummyRegressor\n",
    "g0 = GridSearchCV(DummyRegressor(), param_grid={'constant': [None]}, scoring='neg_mean_squared_error', cv=KFold(n_splits=K,shuffle=True, random_state=69438), return_train_score=True)\n",
    "g0.fit(df_train_scaled[feature_list], df_train_scaled['lpsa'])"
   ]
  },
  {
   "cell_type": "code",
   "execution_count": 92,
   "metadata": {},
   "outputs": [],
   "source": [
    "# Combine two results from GridSearch\n",
    "num_components = [0] + g.param_grid['pca__n_components']\n",
    "mean_test_score = list(-g0.cv_results_['mean_test_score']) + list(-g.cv_results_['mean_test_score'])\n",
    "mean_train_score = list(-g0.cv_results_['mean_train_score']) + list(-g.cv_results_['mean_train_score'])\n",
    "se_test_score = list(g0.cv_results_['std_test_score']/np.sqrt(K)) + list((g.cv_results_['std_test_score']/np.sqrt(K)))"
   ]
  },
  {
   "cell_type": "code",
   "execution_count": 93,
   "metadata": {},
   "outputs": [
    {
     "data": {
      "text/plain": [
       "<matplotlib.legend.Legend at 0x125723ad0>"
      ]
     },
     "execution_count": 93,
     "metadata": {},
     "output_type": "execute_result"
    },
    {
     "data": {
      "image/png": "[encoded data removed]",
      "text/plain": [
       "<Figure size 432x288 with 1 Axes>"
      ]
     },
     "metadata": {
      "needs_background": "light"
     },
     "output_type": "display_data"
    }
   ],
   "source": [
    "plt.errorbar(num_components, mean_test_score, yerr=se_test_score, capsize=3, label='test_error', color='orange', ecolor='blue', marker='o')\n",
    "plt.plot(num_components, mean_train_score, label='train_error', color='g')\n",
    "\n",
    "oneStandardError_test_score = mean_test_score[g.best_index_+1] + se_test_score[g.best_index_+1]\n",
    "plt.axhline(y = oneStandardError_test_score, ls='--', color='y')\n",
    "plt.axvline(x = (-g.cv_results_['mean_test_score']<oneStandardError_test_score).argmax(), ls='--', color='m')\n",
    "plt.xlabel('num_components')\n",
    "plt.ylabel('CV MSE')\n",
    "plt.legend()"
   ]
  },
  {
   "cell_type": "code",
   "execution_count": 94,
   "metadata": {},
   "outputs": [
    {
     "data": {
      "text/plain": [
       "[1.4718128795871817,\n",
       " 0.8633638327249266,\n",
       " 0.7870203112370902,\n",
       " 0.7414846099000567,\n",
       " 0.7161561630932926,\n",
       " 0.7242719421361915,\n",
       " 0.7567972436153876,\n",
       " 0.6660692515663051,\n",
       " 0.5743347458763434]"
      ]
     },
     "execution_count": 94,
     "metadata": {},
     "output_type": "execute_result"
    }
   ],
   "source": [
    "mean_test_score"
   ]
  },
  {
   "cell_type": "code",
   "execution_count": 100,
   "metadata": {},
   "outputs": [
    {
     "data": {
      "text/plain": [
       "Pipeline(steps=[('PCA', PCA(n_components=7)),\n",
       "                ('regression', LinearRegression())])"
      ]
     },
     "execution_count": 100,
     "metadata": {},
     "output_type": "execute_result"
    }
   ],
   "source": [
    "# Retrain full model\n",
    "pipe = Pipeline([('PCA', PCA(n_components=7)), ('regression', LinearRegression())])\n",
    "pipe.fit(df_train_scaled[feature_list], df_train_scaled['lpsa'])"
   ]
  },
  {
   "cell_type": "code",
   "execution_count": 101,
   "metadata": {},
   "outputs": [],
   "source": [
    "masked_array = [0 for _ in range(len(feature_list))]\n",
    "intercept = pipe.predict([[0,0,0,0,0,0,0,0]])[0]\n",
    "coef = []\n",
    "for i in range(len(masked_array)):\n",
    "    masked_array[i] = 1\n",
    "    coef.extend(list(pipe.predict([masked_array]) - intercept))\n",
    "    masked_array[i] = 0"
   ]
  },
  {
   "cell_type": "code",
   "execution_count": 102,
   "metadata": {},
   "outputs": [
    {
     "name": "stdout",
     "output_type": "stream",
     "text": [
      "2.4523450850746262 [0.5663067950477276, 0.32085962285954617, -0.15256804226382492, 0.21438170573184223, 0.3197071330892425, -0.05002414368489161, 0.2268607181670359, -0.06314983973561583]\n"
     ]
    }
   ],
   "source": [
    "print(intercept, coef)"
   ]
  },
  {
   "cell_type": "code",
   "execution_count": 103,
   "metadata": {},
   "outputs": [
    {
     "name": "stdout",
     "output_type": "stream",
     "text": [
      "0.44830894405802024 0.1044372200169897\n"
     ]
    }
   ],
   "source": [
    "squared_errors = (pipe.predict(df_test_scaled[feature_list]) - df_test_scaled['lpsa']) ** 2\n",
    "test_error = squared_errors.mean()\n",
    "std_error = np.std(squared_errors, ddof=1)/np.sqrt(len(df_test_scaled))\n",
    "print(test_error, std_error)"
   ]
  },
  {
   "cell_type": "code",
   "execution_count": null,
   "metadata": {},
   "outputs": [],
   "source": []
  },
  {
   "cell_type": "code",
   "execution_count": null,
   "metadata": {},
   "outputs": [],
   "source": []
  },
  {
   "cell_type": "code",
   "execution_count": null,
   "metadata": {},
   "outputs": [],
   "source": []
  }
 ],
 "metadata": {
  "kernelspec": {
   "display_name": "Python 3",
   "language": "python",
   "name": "python3"
  },
  "language_info": {
   "codemirror_mode": {
    "name": "ipython",
    "version": 3
   },
   "file_extension": ".py",
   "mimetype": "text/x-python",
   "name": "python",
   "nbconvert_exporter": "python",
   "pygments_lexer": "ipython3",
   "version": "3.8.6"
  }
 },
 "nbformat": 4,
 "nbformat_minor": 4
}
