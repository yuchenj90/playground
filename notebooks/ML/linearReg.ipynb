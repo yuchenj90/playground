{
 "cells": [
  {
   "cell_type": "code",
   "execution_count": 1,
   "metadata": {},
   "outputs": [],
   "source": [
    "import pandas as pd\n",
    "import seaborn as sns\n",
    "import numpy as np\n",
    "from matplotlib import pyplot as plt"
   ]
  },
  {
   "cell_type": "markdown",
   "metadata": {},
   "source": [
    "# Read Prostate data"
   ]
  },
  {
   "cell_type": "code",
   "execution_count": 7,
   "metadata": {},
   "outputs": [],
   "source": [
    "df = pd.read_csv('data/prostate.data',sep='\\t')"
   ]
  },
  {
   "cell_type": "code",
   "execution_count": 8,
   "metadata": {},
   "outputs": [
    {
     "data": {
      "text/plain": [
       "Index(['Unnamed: 0', 'lcavol', 'lweight', 'age', 'lbph', 'svi', 'lcp',\n",
       "       'gleason', 'pgg45', 'lpsa', 'train'],\n",
       "      dtype='object')"
      ]
     },
     "execution_count": 8,
     "metadata": {},
     "output_type": "execute_result"
    }
   ],
   "source": [
    "df.columns"
   ]
  },
  {
   "cell_type": "code",
   "execution_count": 9,
   "metadata": {},
   "outputs": [],
   "source": [
    "df.drop(columns=['Unnamed: 0'],inplace=True)"
   ]
  },
  {
   "cell_type": "code",
   "execution_count": 10,
   "metadata": {},
   "outputs": [],
   "source": [
    "df_train = df[df['train']=='T'].reset_index(drop=True)\n",
    "df_test = df[df['train']=='F'].reset_index(drop=True)"
   ]
  },
  {
   "cell_type": "markdown",
   "metadata": {},
   "source": [
    "## Correlation matrix"
   ]
  },
  {
   "cell_type": "code",
   "execution_count": 11,
   "metadata": {},
   "outputs": [
    {
     "data": {
      "text/html": [
       "<style  type=\"text/css\" >\n",
       "    #T_d72e5dc6_a107_11ea_a4b3_acde48001122row0_col0 {\n",
       "            background-color:  #b40426;\n",
       "            color:  #f1f1f1;\n",
       "        }    #T_d72e5dc6_a107_11ea_a4b3_acde48001122row0_col1 {\n",
       "            background-color:  #98b9ff;\n",
       "            color:  #000000;\n",
       "        }    #T_d72e5dc6_a107_11ea_a4b3_acde48001122row0_col2 {\n",
       "            background-color:  #7597f6;\n",
       "            color:  #000000;\n",
       "        }    #T_d72e5dc6_a107_11ea_a4b3_acde48001122row0_col3 {\n",
       "            background-color:  #7396f5;\n",
       "            color:  #000000;\n",
       "        }    #T_d72e5dc6_a107_11ea_a4b3_acde48001122row0_col4 {\n",
       "            background-color:  #f6bfa6;\n",
       "            color:  #000000;\n",
       "        }    #T_d72e5dc6_a107_11ea_a4b3_acde48001122row0_col5 {\n",
       "            background-color:  #f7a688;\n",
       "            color:  #000000;\n",
       "        }    #T_d72e5dc6_a107_11ea_a4b3_acde48001122row0_col6 {\n",
       "            background-color:  #c4d5f3;\n",
       "            color:  #000000;\n",
       "        }    #T_d72e5dc6_a107_11ea_a4b3_acde48001122row0_col7 {\n",
       "            background-color:  #dcdddd;\n",
       "            color:  #000000;\n",
       "        }    #T_d72e5dc6_a107_11ea_a4b3_acde48001122row0_col8 {\n",
       "            background-color:  #f7bca1;\n",
       "            color:  #000000;\n",
       "        }    #T_d72e5dc6_a107_11ea_a4b3_acde48001122row1_col0 {\n",
       "            background-color:  #8db0fe;\n",
       "            color:  #000000;\n",
       "        }    #T_d72e5dc6_a107_11ea_a4b3_acde48001122row1_col1 {\n",
       "            background-color:  #b40426;\n",
       "            color:  #f1f1f1;\n",
       "        }    #T_d72e5dc6_a107_11ea_a4b3_acde48001122row1_col2 {\n",
       "            background-color:  #81a4fb;\n",
       "            color:  #000000;\n",
       "        }    #T_d72e5dc6_a107_11ea_a4b3_acde48001122row1_col3 {\n",
       "            background-color:  #dedcdb;\n",
       "            color:  #000000;\n",
       "        }    #T_d72e5dc6_a107_11ea_a4b3_acde48001122row1_col4 {\n",
       "            background-color:  #97b8ff;\n",
       "            color:  #000000;\n",
       "        }    #T_d72e5dc6_a107_11ea_a4b3_acde48001122row1_col5 {\n",
       "            background-color:  #84a7fc;\n",
       "            color:  #000000;\n",
       "        }    #T_d72e5dc6_a107_11ea_a4b3_acde48001122row1_col6 {\n",
       "            background-color:  #3b4cc0;\n",
       "            color:  #f1f1f1;\n",
       "        }    #T_d72e5dc6_a107_11ea_a4b3_acde48001122row1_col7 {\n",
       "            background-color:  #5977e3;\n",
       "            color:  #000000;\n",
       "        }    #T_d72e5dc6_a107_11ea_a4b3_acde48001122row1_col8 {\n",
       "            background-color:  #aac7fd;\n",
       "            color:  #000000;\n",
       "        }    #T_d72e5dc6_a107_11ea_a4b3_acde48001122row2_col0 {\n",
       "            background-color:  #88abfd;\n",
       "            color:  #000000;\n",
       "        }    #T_d72e5dc6_a107_11ea_a4b3_acde48001122row2_col1 {\n",
       "            background-color:  #9ebeff;\n",
       "            color:  #000000;\n",
       "        }    #T_d72e5dc6_a107_11ea_a4b3_acde48001122row2_col2 {\n",
       "            background-color:  #b40426;\n",
       "            color:  #f1f1f1;\n",
       "        }    #T_d72e5dc6_a107_11ea_a4b3_acde48001122row2_col3 {\n",
       "            background-color:  #b7cff9;\n",
       "            color:  #000000;\n",
       "        }    #T_d72e5dc6_a107_11ea_a4b3_acde48001122row2_col4 {\n",
       "            background-color:  #88abfd;\n",
       "            color:  #000000;\n",
       "        }    #T_d72e5dc6_a107_11ea_a4b3_acde48001122row2_col5 {\n",
       "            background-color:  #89acfd;\n",
       "            color:  #000000;\n",
       "        }    #T_d72e5dc6_a107_11ea_a4b3_acde48001122row2_col6 {\n",
       "            background-color:  #afcafc;\n",
       "            color:  #000000;\n",
       "        }    #T_d72e5dc6_a107_11ea_a4b3_acde48001122row2_col7 {\n",
       "            background-color:  #9ebeff;\n",
       "            color:  #000000;\n",
       "        }    #T_d72e5dc6_a107_11ea_a4b3_acde48001122row2_col8 {\n",
       "            background-color:  #3b4cc0;\n",
       "            color:  #f1f1f1;\n",
       "        }    #T_d72e5dc6_a107_11ea_a4b3_acde48001122row3_col0 {\n",
       "            background-color:  #3b4cc0;\n",
       "            color:  #f1f1f1;\n",
       "        }    #T_d72e5dc6_a107_11ea_a4b3_acde48001122row3_col1 {\n",
       "            background-color:  #c7d7f0;\n",
       "            color:  #000000;\n",
       "        }    #T_d72e5dc6_a107_11ea_a4b3_acde48001122row3_col2 {\n",
       "            background-color:  #7597f6;\n",
       "            color:  #000000;\n",
       "        }    #T_d72e5dc6_a107_11ea_a4b3_acde48001122row3_col3 {\n",
       "            background-color:  #b40426;\n",
       "            color:  #f1f1f1;\n",
       "        }    #T_d72e5dc6_a107_11ea_a4b3_acde48001122row3_col4 {\n",
       "            background-color:  #3b4cc0;\n",
       "            color:  #f1f1f1;\n",
       "        }    #T_d72e5dc6_a107_11ea_a4b3_acde48001122row3_col5 {\n",
       "            background-color:  #3b4cc0;\n",
       "            color:  #f1f1f1;\n",
       "        }    #T_d72e5dc6_a107_11ea_a4b3_acde48001122row3_col6 {\n",
       "            background-color:  #3d50c3;\n",
       "            color:  #f1f1f1;\n",
       "        }    #T_d72e5dc6_a107_11ea_a4b3_acde48001122row3_col7 {\n",
       "            background-color:  #3b4cc0;\n",
       "            color:  #f1f1f1;\n",
       "        }    #T_d72e5dc6_a107_11ea_a4b3_acde48001122row3_col8 {\n",
       "            background-color:  #485fd1;\n",
       "            color:  #f1f1f1;\n",
       "        }    #T_d72e5dc6_a107_11ea_a4b3_acde48001122row4_col0 {\n",
       "            background-color:  #ecd3c5;\n",
       "            color:  #000000;\n",
       "        }    #T_d72e5dc6_a107_11ea_a4b3_acde48001122row4_col1 {\n",
       "            background-color:  #6e90f2;\n",
       "            color:  #000000;\n",
       "        }    #T_d72e5dc6_a107_11ea_a4b3_acde48001122row4_col2 {\n",
       "            background-color:  #3b4cc0;\n",
       "            color:  #f1f1f1;\n",
       "        }    #T_d72e5dc6_a107_11ea_a4b3_acde48001122row4_col3 {\n",
       "            background-color:  #3b4cc0;\n",
       "            color:  #f1f1f1;\n",
       "        }    #T_d72e5dc6_a107_11ea_a4b3_acde48001122row4_col4 {\n",
       "            background-color:  #b40426;\n",
       "            color:  #f1f1f1;\n",
       "        }    #T_d72e5dc6_a107_11ea_a4b3_acde48001122row4_col5 {\n",
       "            background-color:  #f7ad90;\n",
       "            color:  #000000;\n",
       "        }    #T_d72e5dc6_a107_11ea_a4b3_acde48001122row4_col6 {\n",
       "            background-color:  #9bbcff;\n",
       "            color:  #000000;\n",
       "        }    #T_d72e5dc6_a107_11ea_a4b3_acde48001122row4_col7 {\n",
       "            background-color:  #dcdddd;\n",
       "            color:  #000000;\n",
       "        }    #T_d72e5dc6_a107_11ea_a4b3_acde48001122row4_col8 {\n",
       "            background-color:  #c9d7f0;\n",
       "            color:  #000000;\n",
       "        }    #T_d72e5dc6_a107_11ea_a4b3_acde48001122row5_col0 {\n",
       "            background-color:  #f7b79b;\n",
       "            color:  #000000;\n",
       "        }    #T_d72e5dc6_a107_11ea_a4b3_acde48001122row5_col1 {\n",
       "            background-color:  #6485ec;\n",
       "            color:  #000000;\n",
       "        }    #T_d72e5dc6_a107_11ea_a4b3_acde48001122row5_col2 {\n",
       "            background-color:  #4961d2;\n",
       "            color:  #f1f1f1;\n",
       "        }    #T_d72e5dc6_a107_11ea_a4b3_acde48001122row5_col3 {\n",
       "            background-color:  #485fd1;\n",
       "            color:  #f1f1f1;\n",
       "        }    #T_d72e5dc6_a107_11ea_a4b3_acde48001122row5_col4 {\n",
       "            background-color:  #f7a889;\n",
       "            color:  #000000;\n",
       "        }    #T_d72e5dc6_a107_11ea_a4b3_acde48001122row5_col5 {\n",
       "            background-color:  #b40426;\n",
       "            color:  #f1f1f1;\n",
       "        }    #T_d72e5dc6_a107_11ea_a4b3_acde48001122row5_col6 {\n",
       "            background-color:  #d3dbe7;\n",
       "            color:  #000000;\n",
       "        }    #T_d72e5dc6_a107_11ea_a4b3_acde48001122row5_col7 {\n",
       "            background-color:  #f7b599;\n",
       "            color:  #000000;\n",
       "        }    #T_d72e5dc6_a107_11ea_a4b3_acde48001122row5_col8 {\n",
       "            background-color:  #abc8fd;\n",
       "            color:  #000000;\n",
       "        }    #T_d72e5dc6_a107_11ea_a4b3_acde48001122row6_col0 {\n",
       "            background-color:  #bcd2f7;\n",
       "            color:  #000000;\n",
       "        }    #T_d72e5dc6_a107_11ea_a4b3_acde48001122row6_col1 {\n",
       "            background-color:  #3b4cc0;\n",
       "            color:  #f1f1f1;\n",
       "        }    #T_d72e5dc6_a107_11ea_a4b3_acde48001122row6_col2 {\n",
       "            background-color:  #94b6ff;\n",
       "            color:  #000000;\n",
       "        }    #T_d72e5dc6_a107_11ea_a4b3_acde48001122row6_col3 {\n",
       "            background-color:  #6a8bef;\n",
       "            color:  #000000;\n",
       "        }    #T_d72e5dc6_a107_11ea_a4b3_acde48001122row6_col4 {\n",
       "            background-color:  #bed2f6;\n",
       "            color:  #000000;\n",
       "        }    #T_d72e5dc6_a107_11ea_a4b3_acde48001122row6_col5 {\n",
       "            background-color:  #e1dad6;\n",
       "            color:  #000000;\n",
       "        }    #T_d72e5dc6_a107_11ea_a4b3_acde48001122row6_col6 {\n",
       "            background-color:  #b40426;\n",
       "            color:  #f1f1f1;\n",
       "        }    #T_d72e5dc6_a107_11ea_a4b3_acde48001122row6_col7 {\n",
       "            background-color:  #f39475;\n",
       "            color:  #000000;\n",
       "        }    #T_d72e5dc6_a107_11ea_a4b3_acde48001122row6_col8 {\n",
       "            background-color:  #688aef;\n",
       "            color:  #000000;\n",
       "        }    #T_d72e5dc6_a107_11ea_a4b3_acde48001122row7_col0 {\n",
       "            background-color:  #cedaeb;\n",
       "            color:  #000000;\n",
       "        }    #T_d72e5dc6_a107_11ea_a4b3_acde48001122row7_col1 {\n",
       "            background-color:  #4a63d3;\n",
       "            color:  #f1f1f1;\n",
       "        }    #T_d72e5dc6_a107_11ea_a4b3_acde48001122row7_col2 {\n",
       "            background-color:  #7093f3;\n",
       "            color:  #000000;\n",
       "        }    #T_d72e5dc6_a107_11ea_a4b3_acde48001122row7_col3 {\n",
       "            background-color:  #5875e1;\n",
       "            color:  #000000;\n",
       "        }    #T_d72e5dc6_a107_11ea_a4b3_acde48001122row7_col4 {\n",
       "            background-color:  #e8d6cc;\n",
       "            color:  #000000;\n",
       "        }    #T_d72e5dc6_a107_11ea_a4b3_acde48001122row7_col5 {\n",
       "            background-color:  #f7b093;\n",
       "            color:  #000000;\n",
       "        }    #T_d72e5dc6_a107_11ea_a4b3_acde48001122row7_col6 {\n",
       "            background-color:  #f4987a;\n",
       "            color:  #000000;\n",
       "        }    #T_d72e5dc6_a107_11ea_a4b3_acde48001122row7_col7 {\n",
       "            background-color:  #b40426;\n",
       "            color:  #f1f1f1;\n",
       "        }    #T_d72e5dc6_a107_11ea_a4b3_acde48001122row7_col8 {\n",
       "            background-color:  #98b9ff;\n",
       "            color:  #000000;\n",
       "        }    #T_d72e5dc6_a107_11ea_a4b3_acde48001122row8_col0 {\n",
       "            background-color:  #f7a688;\n",
       "            color:  #000000;\n",
       "        }    #T_d72e5dc6_a107_11ea_a4b3_acde48001122row8_col1 {\n",
       "            background-color:  #d5dbe5;\n",
       "            color:  #000000;\n",
       "        }    #T_d72e5dc6_a107_11ea_a4b3_acde48001122row8_col2 {\n",
       "            background-color:  #5e7de7;\n",
       "            color:  #000000;\n",
       "        }    #T_d72e5dc6_a107_11ea_a4b3_acde48001122row8_col3 {\n",
       "            background-color:  #b1cbfc;\n",
       "            color:  #000000;\n",
       "        }    #T_d72e5dc6_a107_11ea_a4b3_acde48001122row8_col4 {\n",
       "            background-color:  #f3c8b2;\n",
       "            color:  #000000;\n",
       "        }    #T_d72e5dc6_a107_11ea_a4b3_acde48001122row8_col5 {\n",
       "            background-color:  #e4d9d2;\n",
       "            color:  #000000;\n",
       "        }    #T_d72e5dc6_a107_11ea_a4b3_acde48001122row8_col6 {\n",
       "            background-color:  #a7c5fe;\n",
       "            color:  #000000;\n",
       "        }    #T_d72e5dc6_a107_11ea_a4b3_acde48001122row8_col7 {\n",
       "            background-color:  #d3dbe7;\n",
       "            color:  #000000;\n",
       "        }    #T_d72e5dc6_a107_11ea_a4b3_acde48001122row8_col8 {\n",
       "            background-color:  #b40426;\n",
       "            color:  #f1f1f1;\n",
       "        }</style><table id=\"T_d72e5dc6_a107_11ea_a4b3_acde48001122\" ><thead>    <tr>        <th class=\"blank level0\" ></th>        <th class=\"col_heading level0 col0\" >lcavol</th>        <th class=\"col_heading level0 col1\" >lweight</th>        <th class=\"col_heading level0 col2\" >age</th>        <th class=\"col_heading level0 col3\" >lbph</th>        <th class=\"col_heading level0 col4\" >svi</th>        <th class=\"col_heading level0 col5\" >lcp</th>        <th class=\"col_heading level0 col6\" >gleason</th>        <th class=\"col_heading level0 col7\" >pgg45</th>        <th class=\"col_heading level0 col8\" >lpsa</th>    </tr></thead><tbody>\n",
       "                <tr>\n",
       "                        <th id=\"T_d72e5dc6_a107_11ea_a4b3_acde48001122level0_row0\" class=\"row_heading level0 row0\" >lcavol</th>\n",
       "                        <td id=\"T_d72e5dc6_a107_11ea_a4b3_acde48001122row0_col0\" class=\"data row0 col0\" >1</td>\n",
       "                        <td id=\"T_d72e5dc6_a107_11ea_a4b3_acde48001122row0_col1\" class=\"data row0 col1\" >0.3</td>\n",
       "                        <td id=\"T_d72e5dc6_a107_11ea_a4b3_acde48001122row0_col2\" class=\"data row0 col2\" >0.286</td>\n",
       "                        <td id=\"T_d72e5dc6_a107_11ea_a4b3_acde48001122row0_col3\" class=\"data row0 col3\" >0.063</td>\n",
       "                        <td id=\"T_d72e5dc6_a107_11ea_a4b3_acde48001122row0_col4\" class=\"data row0 col4\" >0.593</td>\n",
       "                        <td id=\"T_d72e5dc6_a107_11ea_a4b3_acde48001122row0_col5\" class=\"data row0 col5\" >0.692</td>\n",
       "                        <td id=\"T_d72e5dc6_a107_11ea_a4b3_acde48001122row0_col6\" class=\"data row0 col6\" >0.426</td>\n",
       "                        <td id=\"T_d72e5dc6_a107_11ea_a4b3_acde48001122row0_col7\" class=\"data row0 col7\" >0.483</td>\n",
       "                        <td id=\"T_d72e5dc6_a107_11ea_a4b3_acde48001122row0_col8\" class=\"data row0 col8\" >0.733</td>\n",
       "            </tr>\n",
       "            <tr>\n",
       "                        <th id=\"T_d72e5dc6_a107_11ea_a4b3_acde48001122level0_row1\" class=\"row_heading level0 row1\" >lweight</th>\n",
       "                        <td id=\"T_d72e5dc6_a107_11ea_a4b3_acde48001122row1_col0\" class=\"data row1 col0\" >0.3</td>\n",
       "                        <td id=\"T_d72e5dc6_a107_11ea_a4b3_acde48001122row1_col1\" class=\"data row1 col1\" >1</td>\n",
       "                        <td id=\"T_d72e5dc6_a107_11ea_a4b3_acde48001122row1_col2\" class=\"data row1 col2\" >0.317</td>\n",
       "                        <td id=\"T_d72e5dc6_a107_11ea_a4b3_acde48001122row1_col3\" class=\"data row1 col3\" >0.437</td>\n",
       "                        <td id=\"T_d72e5dc6_a107_11ea_a4b3_acde48001122row1_col4\" class=\"data row1 col4\" >0.181</td>\n",
       "                        <td id=\"T_d72e5dc6_a107_11ea_a4b3_acde48001122row1_col5\" class=\"data row1 col5\" >0.157</td>\n",
       "                        <td id=\"T_d72e5dc6_a107_11ea_a4b3_acde48001122row1_col6\" class=\"data row1 col6\" >0.024</td>\n",
       "                        <td id=\"T_d72e5dc6_a107_11ea_a4b3_acde48001122row1_col7\" class=\"data row1 col7\" >0.074</td>\n",
       "                        <td id=\"T_d72e5dc6_a107_11ea_a4b3_acde48001122row1_col8\" class=\"data row1 col8\" >0.485</td>\n",
       "            </tr>\n",
       "            <tr>\n",
       "                        <th id=\"T_d72e5dc6_a107_11ea_a4b3_acde48001122level0_row2\" class=\"row_heading level0 row2\" >age</th>\n",
       "                        <td id=\"T_d72e5dc6_a107_11ea_a4b3_acde48001122row2_col0\" class=\"data row2 col0\" >0.286</td>\n",
       "                        <td id=\"T_d72e5dc6_a107_11ea_a4b3_acde48001122row2_col1\" class=\"data row2 col1\" >0.317</td>\n",
       "                        <td id=\"T_d72e5dc6_a107_11ea_a4b3_acde48001122row2_col2\" class=\"data row2 col2\" >1</td>\n",
       "                        <td id=\"T_d72e5dc6_a107_11ea_a4b3_acde48001122row2_col3\" class=\"data row2 col3\" >0.287</td>\n",
       "                        <td id=\"T_d72e5dc6_a107_11ea_a4b3_acde48001122row2_col4\" class=\"data row2 col4\" >0.129</td>\n",
       "                        <td id=\"T_d72e5dc6_a107_11ea_a4b3_acde48001122row2_col5\" class=\"data row2 col5\" >0.173</td>\n",
       "                        <td id=\"T_d72e5dc6_a107_11ea_a4b3_acde48001122row2_col6\" class=\"data row2 col6\" >0.366</td>\n",
       "                        <td id=\"T_d72e5dc6_a107_11ea_a4b3_acde48001122row2_col7\" class=\"data row2 col7\" >0.276</td>\n",
       "                        <td id=\"T_d72e5dc6_a107_11ea_a4b3_acde48001122row2_col8\" class=\"data row2 col8\" >0.228</td>\n",
       "            </tr>\n",
       "            <tr>\n",
       "                        <th id=\"T_d72e5dc6_a107_11ea_a4b3_acde48001122level0_row3\" class=\"row_heading level0 row3\" >lbph</th>\n",
       "                        <td id=\"T_d72e5dc6_a107_11ea_a4b3_acde48001122row3_col0\" class=\"data row3 col0\" >0.063</td>\n",
       "                        <td id=\"T_d72e5dc6_a107_11ea_a4b3_acde48001122row3_col1\" class=\"data row3 col1\" >0.437</td>\n",
       "                        <td id=\"T_d72e5dc6_a107_11ea_a4b3_acde48001122row3_col2\" class=\"data row3 col2\" >0.287</td>\n",
       "                        <td id=\"T_d72e5dc6_a107_11ea_a4b3_acde48001122row3_col3\" class=\"data row3 col3\" >1</td>\n",
       "                        <td id=\"T_d72e5dc6_a107_11ea_a4b3_acde48001122row3_col4\" class=\"data row3 col4\" >-0.139</td>\n",
       "                        <td id=\"T_d72e5dc6_a107_11ea_a4b3_acde48001122row3_col5\" class=\"data row3 col5\" >-0.089</td>\n",
       "                        <td id=\"T_d72e5dc6_a107_11ea_a4b3_acde48001122row3_col6\" class=\"data row3 col6\" >0.033</td>\n",
       "                        <td id=\"T_d72e5dc6_a107_11ea_a4b3_acde48001122row3_col7\" class=\"data row3 col7\" >-0.03</td>\n",
       "                        <td id=\"T_d72e5dc6_a107_11ea_a4b3_acde48001122row3_col8\" class=\"data row3 col8\" >0.263</td>\n",
       "            </tr>\n",
       "            <tr>\n",
       "                        <th id=\"T_d72e5dc6_a107_11ea_a4b3_acde48001122level0_row4\" class=\"row_heading level0 row4\" >svi</th>\n",
       "                        <td id=\"T_d72e5dc6_a107_11ea_a4b3_acde48001122row4_col0\" class=\"data row4 col0\" >0.593</td>\n",
       "                        <td id=\"T_d72e5dc6_a107_11ea_a4b3_acde48001122row4_col1\" class=\"data row4 col1\" >0.181</td>\n",
       "                        <td id=\"T_d72e5dc6_a107_11ea_a4b3_acde48001122row4_col2\" class=\"data row4 col2\" >0.129</td>\n",
       "                        <td id=\"T_d72e5dc6_a107_11ea_a4b3_acde48001122row4_col3\" class=\"data row4 col3\" >-0.139</td>\n",
       "                        <td id=\"T_d72e5dc6_a107_11ea_a4b3_acde48001122row4_col4\" class=\"data row4 col4\" >1</td>\n",
       "                        <td id=\"T_d72e5dc6_a107_11ea_a4b3_acde48001122row4_col5\" class=\"data row4 col5\" >0.671</td>\n",
       "                        <td id=\"T_d72e5dc6_a107_11ea_a4b3_acde48001122row4_col6\" class=\"data row4 col6\" >0.307</td>\n",
       "                        <td id=\"T_d72e5dc6_a107_11ea_a4b3_acde48001122row4_col7\" class=\"data row4 col7\" >0.481</td>\n",
       "                        <td id=\"T_d72e5dc6_a107_11ea_a4b3_acde48001122row4_col8\" class=\"data row4 col8\" >0.557</td>\n",
       "            </tr>\n",
       "            <tr>\n",
       "                        <th id=\"T_d72e5dc6_a107_11ea_a4b3_acde48001122level0_row5\" class=\"row_heading level0 row5\" >lcp</th>\n",
       "                        <td id=\"T_d72e5dc6_a107_11ea_a4b3_acde48001122row5_col0\" class=\"data row5 col0\" >0.692</td>\n",
       "                        <td id=\"T_d72e5dc6_a107_11ea_a4b3_acde48001122row5_col1\" class=\"data row5 col1\" >0.157</td>\n",
       "                        <td id=\"T_d72e5dc6_a107_11ea_a4b3_acde48001122row5_col2\" class=\"data row5 col2\" >0.173</td>\n",
       "                        <td id=\"T_d72e5dc6_a107_11ea_a4b3_acde48001122row5_col3\" class=\"data row5 col3\" >-0.089</td>\n",
       "                        <td id=\"T_d72e5dc6_a107_11ea_a4b3_acde48001122row5_col4\" class=\"data row5 col4\" >0.671</td>\n",
       "                        <td id=\"T_d72e5dc6_a107_11ea_a4b3_acde48001122row5_col5\" class=\"data row5 col5\" >1</td>\n",
       "                        <td id=\"T_d72e5dc6_a107_11ea_a4b3_acde48001122row5_col6\" class=\"data row5 col6\" >0.476</td>\n",
       "                        <td id=\"T_d72e5dc6_a107_11ea_a4b3_acde48001122row5_col7\" class=\"data row5 col7\" >0.663</td>\n",
       "                        <td id=\"T_d72e5dc6_a107_11ea_a4b3_acde48001122row5_col8\" class=\"data row5 col8\" >0.489</td>\n",
       "            </tr>\n",
       "            <tr>\n",
       "                        <th id=\"T_d72e5dc6_a107_11ea_a4b3_acde48001122level0_row6\" class=\"row_heading level0 row6\" >gleason</th>\n",
       "                        <td id=\"T_d72e5dc6_a107_11ea_a4b3_acde48001122row6_col0\" class=\"data row6 col0\" >0.426</td>\n",
       "                        <td id=\"T_d72e5dc6_a107_11ea_a4b3_acde48001122row6_col1\" class=\"data row6 col1\" >0.024</td>\n",
       "                        <td id=\"T_d72e5dc6_a107_11ea_a4b3_acde48001122row6_col2\" class=\"data row6 col2\" >0.366</td>\n",
       "                        <td id=\"T_d72e5dc6_a107_11ea_a4b3_acde48001122row6_col3\" class=\"data row6 col3\" >0.033</td>\n",
       "                        <td id=\"T_d72e5dc6_a107_11ea_a4b3_acde48001122row6_col4\" class=\"data row6 col4\" >0.307</td>\n",
       "                        <td id=\"T_d72e5dc6_a107_11ea_a4b3_acde48001122row6_col5\" class=\"data row6 col5\" >0.476</td>\n",
       "                        <td id=\"T_d72e5dc6_a107_11ea_a4b3_acde48001122row6_col6\" class=\"data row6 col6\" >1</td>\n",
       "                        <td id=\"T_d72e5dc6_a107_11ea_a4b3_acde48001122row6_col7\" class=\"data row6 col7\" >0.757</td>\n",
       "                        <td id=\"T_d72e5dc6_a107_11ea_a4b3_acde48001122row6_col8\" class=\"data row6 col8\" >0.342</td>\n",
       "            </tr>\n",
       "            <tr>\n",
       "                        <th id=\"T_d72e5dc6_a107_11ea_a4b3_acde48001122level0_row7\" class=\"row_heading level0 row7\" >pgg45</th>\n",
       "                        <td id=\"T_d72e5dc6_a107_11ea_a4b3_acde48001122row7_col0\" class=\"data row7 col0\" >0.483</td>\n",
       "                        <td id=\"T_d72e5dc6_a107_11ea_a4b3_acde48001122row7_col1\" class=\"data row7 col1\" >0.074</td>\n",
       "                        <td id=\"T_d72e5dc6_a107_11ea_a4b3_acde48001122row7_col2\" class=\"data row7 col2\" >0.276</td>\n",
       "                        <td id=\"T_d72e5dc6_a107_11ea_a4b3_acde48001122row7_col3\" class=\"data row7 col3\" >-0.03</td>\n",
       "                        <td id=\"T_d72e5dc6_a107_11ea_a4b3_acde48001122row7_col4\" class=\"data row7 col4\" >0.481</td>\n",
       "                        <td id=\"T_d72e5dc6_a107_11ea_a4b3_acde48001122row7_col5\" class=\"data row7 col5\" >0.663</td>\n",
       "                        <td id=\"T_d72e5dc6_a107_11ea_a4b3_acde48001122row7_col6\" class=\"data row7 col6\" >0.757</td>\n",
       "                        <td id=\"T_d72e5dc6_a107_11ea_a4b3_acde48001122row7_col7\" class=\"data row7 col7\" >1</td>\n",
       "                        <td id=\"T_d72e5dc6_a107_11ea_a4b3_acde48001122row7_col8\" class=\"data row7 col8\" >0.448</td>\n",
       "            </tr>\n",
       "            <tr>\n",
       "                        <th id=\"T_d72e5dc6_a107_11ea_a4b3_acde48001122level0_row8\" class=\"row_heading level0 row8\" >lpsa</th>\n",
       "                        <td id=\"T_d72e5dc6_a107_11ea_a4b3_acde48001122row8_col0\" class=\"data row8 col0\" >0.733</td>\n",
       "                        <td id=\"T_d72e5dc6_a107_11ea_a4b3_acde48001122row8_col1\" class=\"data row8 col1\" >0.485</td>\n",
       "                        <td id=\"T_d72e5dc6_a107_11ea_a4b3_acde48001122row8_col2\" class=\"data row8 col2\" >0.228</td>\n",
       "                        <td id=\"T_d72e5dc6_a107_11ea_a4b3_acde48001122row8_col3\" class=\"data row8 col3\" >0.263</td>\n",
       "                        <td id=\"T_d72e5dc6_a107_11ea_a4b3_acde48001122row8_col4\" class=\"data row8 col4\" >0.557</td>\n",
       "                        <td id=\"T_d72e5dc6_a107_11ea_a4b3_acde48001122row8_col5\" class=\"data row8 col5\" >0.489</td>\n",
       "                        <td id=\"T_d72e5dc6_a107_11ea_a4b3_acde48001122row8_col6\" class=\"data row8 col6\" >0.342</td>\n",
       "                        <td id=\"T_d72e5dc6_a107_11ea_a4b3_acde48001122row8_col7\" class=\"data row8 col7\" >0.448</td>\n",
       "                        <td id=\"T_d72e5dc6_a107_11ea_a4b3_acde48001122row8_col8\" class=\"data row8 col8\" >1</td>\n",
       "            </tr>\n",
       "    </tbody></table>"
      ],
      "text/plain": [
       "<pandas.io.formats.style.Styler at 0x12c264950>"
      ]
     },
     "execution_count": 11,
     "metadata": {},
     "output_type": "execute_result"
    }
   ],
   "source": [
    "corr=df_train.corr()\n",
    "corr.round(3).style.background_gradient(cmap='coolwarm')"
   ]
  },
  {
   "cell_type": "markdown",
   "metadata": {},
   "source": [
    "# Fit linear model lpsa ~ lcavol, lweight, age, lbph, svi, lcp, gleason, pgg45"
   ]
  },
  {
   "cell_type": "markdown",
   "metadata": {},
   "source": [
    "## standardized features to have unit variance"
   ]
  },
  {
   "cell_type": "code",
   "execution_count": 12,
   "metadata": {},
   "outputs": [],
   "source": [
    "from sklearn import preprocessing\n",
    "feature_list = ['lcavol', 'lweight', 'age', 'lbph', 'svi', 'lcp', 'gleason', 'pgg45']"
   ]
  },
  {
   "cell_type": "code",
   "execution_count": 13,
   "metadata": {},
   "outputs": [],
   "source": [
    "scaler = preprocessing.StandardScaler()\n",
    "df_train_scaled = pd.DataFrame(scaler.fit_transform(df_train[feature_list]), columns=feature_list)\n",
    "df_test_scaled = pd.DataFrame(scaler.transform(df_test[feature_list]), columns=feature_list)\n",
    "\n",
    "df_train_scaled['lpsa'] = df_train['lpsa']\n",
    "df_test_scaled['lpsa'] = df_test['lpsa']"
   ]
  },
  {
   "cell_type": "code",
   "execution_count": 14,
   "metadata": {},
   "outputs": [
    {
     "data": {
      "text/html": [
       "<div>\n",
       "<style scoped>\n",
       "    .dataframe tbody tr th:only-of-type {\n",
       "        vertical-align: middle;\n",
       "    }\n",
       "\n",
       "    .dataframe tbody tr th {\n",
       "        vertical-align: top;\n",
       "    }\n",
       "\n",
       "    .dataframe thead th {\n",
       "        text-align: right;\n",
       "    }\n",
       "</style>\n",
       "<table border=\"1\" class=\"dataframe\">\n",
       "  <thead>\n",
       "    <tr style=\"text-align: right;\">\n",
       "      <th></th>\n",
       "      <th>lcavol</th>\n",
       "      <th>lweight</th>\n",
       "      <th>age</th>\n",
       "      <th>lbph</th>\n",
       "      <th>svi</th>\n",
       "      <th>lcp</th>\n",
       "      <th>gleason</th>\n",
       "      <th>pgg45</th>\n",
       "      <th>lpsa</th>\n",
       "    </tr>\n",
       "  </thead>\n",
       "  <tbody>\n",
       "    <tr>\n",
       "      <th>count</th>\n",
       "      <td>6.700000e+01</td>\n",
       "      <td>6.700000e+01</td>\n",
       "      <td>6.700000e+01</td>\n",
       "      <td>6.700000e+01</td>\n",
       "      <td>6.700000e+01</td>\n",
       "      <td>6.700000e+01</td>\n",
       "      <td>6.700000e+01</td>\n",
       "      <td>6.700000e+01</td>\n",
       "      <td>67.000000</td>\n",
       "    </tr>\n",
       "    <tr>\n",
       "      <th>mean</th>\n",
       "      <td>4.308328e-17</td>\n",
       "      <td>-4.971148e-18</td>\n",
       "      <td>-8.343243e-16</td>\n",
       "      <td>6.628197e-18</td>\n",
       "      <td>3.976918e-17</td>\n",
       "      <td>-4.308328e-17</td>\n",
       "      <td>4.921436e-16</td>\n",
       "      <td>-3.314099e-17</td>\n",
       "      <td>2.452345</td>\n",
       "    </tr>\n",
       "    <tr>\n",
       "      <th>std</th>\n",
       "      <td>1.007547e+00</td>\n",
       "      <td>1.007547e+00</td>\n",
       "      <td>1.007547e+00</td>\n",
       "      <td>1.007547e+00</td>\n",
       "      <td>1.007547e+00</td>\n",
       "      <td>1.007547e+00</td>\n",
       "      <td>1.007547e+00</td>\n",
       "      <td>1.007547e+00</td>\n",
       "      <td>1.207812</td>\n",
       "    </tr>\n",
       "    <tr>\n",
       "      <th>min</th>\n",
       "      <td>-2.157304e+00</td>\n",
       "      <td>-2.645075e+00</td>\n",
       "      <td>-3.189126e+00</td>\n",
       "      <td>-1.003472e+00</td>\n",
       "      <td>-5.370862e-01</td>\n",
       "      <td>-8.430840e-01</td>\n",
       "      <td>-1.039499e+00</td>\n",
       "      <td>-9.032532e-01</td>\n",
       "      <td>-0.430783</td>\n",
       "    </tr>\n",
       "    <tr>\n",
       "      <th>25%</th>\n",
       "      <td>-6.691190e-01</td>\n",
       "      <td>-6.252199e-01</td>\n",
       "      <td>-5.031242e-01</td>\n",
       "      <td>-1.003472e+00</td>\n",
       "      <td>-5.370862e-01</td>\n",
       "      <td>-8.430840e-01</td>\n",
       "      <td>-1.039499e+00</td>\n",
       "      <td>-9.032532e-01</td>\n",
       "      <td>1.667306</td>\n",
       "    </tr>\n",
       "    <tr>\n",
       "      <th>50%</th>\n",
       "      <td>1.251804e-01</td>\n",
       "      <td>-5.798078e-02</td>\n",
       "      <td>3.407614e-02</td>\n",
       "      <td>-8.448679e-02</td>\n",
       "      <td>-5.370862e-01</td>\n",
       "      <td>-4.202897e-01</td>\n",
       "      <td>3.818568e-01</td>\n",
       "      <td>-3.874751e-01</td>\n",
       "      <td>2.568788</td>\n",
       "    </tr>\n",
       "    <tr>\n",
       "      <th>75%</th>\n",
       "      <td>8.396889e-01</td>\n",
       "      <td>5.443671e-01</td>\n",
       "      <td>5.712765e-01</td>\n",
       "      <td>1.016091e+00</td>\n",
       "      <td>-5.370862e-01</td>\n",
       "      <td>8.696292e-01</td>\n",
       "      <td>3.818568e-01</td>\n",
       "      <td>8.160072e-01</td>\n",
       "      <td>3.365188</td>\n",
       "    </tr>\n",
       "    <tr>\n",
       "      <th>max</th>\n",
       "      <td>2.033202e+00</td>\n",
       "      <td>2.440170e+00</td>\n",
       "      <td>1.914277e+00</td>\n",
       "      <td>1.552196e+00</td>\n",
       "      <td>1.861899e+00</td>\n",
       "      <td>2.065078e+00</td>\n",
       "      <td>3.224568e+00</td>\n",
       "      <td>2.535268e+00</td>\n",
       "      <td>5.477509</td>\n",
       "    </tr>\n",
       "  </tbody>\n",
       "</table>\n",
       "</div>"
      ],
      "text/plain": [
       "             lcavol       lweight           age          lbph           svi  \\\n",
       "count  6.700000e+01  6.700000e+01  6.700000e+01  6.700000e+01  6.700000e+01   \n",
       "mean   4.308328e-17 -4.971148e-18 -8.343243e-16  6.628197e-18  3.976918e-17   \n",
       "std    1.007547e+00  1.007547e+00  1.007547e+00  1.007547e+00  1.007547e+00   \n",
       "min   -2.157304e+00 -2.645075e+00 -3.189126e+00 -1.003472e+00 -5.370862e-01   \n",
       "25%   -6.691190e-01 -6.252199e-01 -5.031242e-01 -1.003472e+00 -5.370862e-01   \n",
       "50%    1.251804e-01 -5.798078e-02  3.407614e-02 -8.448679e-02 -5.370862e-01   \n",
       "75%    8.396889e-01  5.443671e-01  5.712765e-01  1.016091e+00 -5.370862e-01   \n",
       "max    2.033202e+00  2.440170e+00  1.914277e+00  1.552196e+00  1.861899e+00   \n",
       "\n",
       "                lcp       gleason         pgg45       lpsa  \n",
       "count  6.700000e+01  6.700000e+01  6.700000e+01  67.000000  \n",
       "mean  -4.308328e-17  4.921436e-16 -3.314099e-17   2.452345  \n",
       "std    1.007547e+00  1.007547e+00  1.007547e+00   1.207812  \n",
       "min   -8.430840e-01 -1.039499e+00 -9.032532e-01  -0.430783  \n",
       "25%   -8.430840e-01 -1.039499e+00 -9.032532e-01   1.667306  \n",
       "50%   -4.202897e-01  3.818568e-01 -3.874751e-01   2.568788  \n",
       "75%    8.696292e-01  3.818568e-01  8.160072e-01   3.365188  \n",
       "max    2.065078e+00  3.224568e+00  2.535268e+00   5.477509  "
      ]
     },
     "execution_count": 14,
     "metadata": {},
     "output_type": "execute_result"
    }
   ],
   "source": [
    "df_train_scaled.describe()"
   ]
  },
  {
   "cell_type": "code",
   "execution_count": 15,
   "metadata": {},
   "outputs": [
    {
     "data": {
      "text/html": [
       "<div>\n",
       "<style scoped>\n",
       "    .dataframe tbody tr th:only-of-type {\n",
       "        vertical-align: middle;\n",
       "    }\n",
       "\n",
       "    .dataframe tbody tr th {\n",
       "        vertical-align: top;\n",
       "    }\n",
       "\n",
       "    .dataframe thead th {\n",
       "        text-align: right;\n",
       "    }\n",
       "</style>\n",
       "<table border=\"1\" class=\"dataframe\">\n",
       "  <thead>\n",
       "    <tr style=\"text-align: right;\">\n",
       "      <th></th>\n",
       "      <th>lcavol</th>\n",
       "      <th>lweight</th>\n",
       "      <th>age</th>\n",
       "      <th>lbph</th>\n",
       "      <th>svi</th>\n",
       "      <th>lcp</th>\n",
       "      <th>gleason</th>\n",
       "      <th>pgg45</th>\n",
       "      <th>lpsa</th>\n",
       "    </tr>\n",
       "  </thead>\n",
       "  <tbody>\n",
       "    <tr>\n",
       "      <th>count</th>\n",
       "      <td>30.000000</td>\n",
       "      <td>30.000000</td>\n",
       "      <td>30.000000</td>\n",
       "      <td>30.000000</td>\n",
       "      <td>30.000000</td>\n",
       "      <td>30.000000</td>\n",
       "      <td>30.000000</td>\n",
       "      <td>30.000000</td>\n",
       "      <td>30.000000</td>\n",
       "    </tr>\n",
       "    <tr>\n",
       "      <th>mean</th>\n",
       "      <td>0.095740</td>\n",
       "      <td>0.019378</td>\n",
       "      <td>-0.382254</td>\n",
       "      <td>0.064359</td>\n",
       "      <td>-0.057289</td>\n",
       "      <td>0.081023</td>\n",
       "      <td>0.097586</td>\n",
       "      <td>-0.209818</td>\n",
       "      <td>2.536547</td>\n",
       "    </tr>\n",
       "    <tr>\n",
       "      <th>std</th>\n",
       "      <td>0.840554</td>\n",
       "      <td>0.636143</td>\n",
       "      <td>0.945937</td>\n",
       "      <td>0.994212</td>\n",
       "      <td>0.975998</td>\n",
       "      <td>1.016637</td>\n",
       "      <td>1.081828</td>\n",
       "      <td>0.878424</td>\n",
       "      <td>1.042035</td>\n",
       "    </tr>\n",
       "    <tr>\n",
       "      <th>min</th>\n",
       "      <td>-1.694681</td>\n",
       "      <td>-1.608889</td>\n",
       "      <td>-2.920526</td>\n",
       "      <td>-1.003472</td>\n",
       "      <td>-0.537086</td>\n",
       "      <td>-0.843084</td>\n",
       "      <td>-1.039499</td>\n",
       "      <td>-0.903253</td>\n",
       "      <td>0.765468</td>\n",
       "    </tr>\n",
       "    <tr>\n",
       "      <th>25%</th>\n",
       "      <td>-0.419189</td>\n",
       "      <td>-0.309628</td>\n",
       "      <td>-0.637424</td>\n",
       "      <td>-1.003472</td>\n",
       "      <td>-0.537086</td>\n",
       "      <td>-0.843084</td>\n",
       "      <td>-1.039499</td>\n",
       "      <td>-0.903253</td>\n",
       "      <td>1.864393</td>\n",
       "    </tr>\n",
       "    <tr>\n",
       "      <th>50%</th>\n",
       "      <td>0.106276</td>\n",
       "      <td>0.051599</td>\n",
       "      <td>-0.100224</td>\n",
       "      <td>0.252507</td>\n",
       "      <td>-0.537086</td>\n",
       "      <td>-0.155786</td>\n",
       "      <td>0.381857</td>\n",
       "      <td>-0.628172</td>\n",
       "      <td>2.591516</td>\n",
       "    </tr>\n",
       "    <tr>\n",
       "      <th>75%</th>\n",
       "      <td>0.599712</td>\n",
       "      <td>0.447602</td>\n",
       "      <td>0.403401</td>\n",
       "      <td>1.033480</td>\n",
       "      <td>-0.537086</td>\n",
       "      <td>0.935755</td>\n",
       "      <td>0.381857</td>\n",
       "      <td>0.300229</td>\n",
       "      <td>2.882004</td>\n",
       "    </tr>\n",
       "    <tr>\n",
       "      <th>max</th>\n",
       "      <td>1.750187</td>\n",
       "      <td>1.047216</td>\n",
       "      <td>0.705577</td>\n",
       "      <td>1.445522</td>\n",
       "      <td>1.861899</td>\n",
       "      <td>2.243039</td>\n",
       "      <td>3.224568</td>\n",
       "      <td>2.191416</td>\n",
       "      <td>5.582932</td>\n",
       "    </tr>\n",
       "  </tbody>\n",
       "</table>\n",
       "</div>"
      ],
      "text/plain": [
       "          lcavol    lweight        age       lbph        svi        lcp  \\\n",
       "count  30.000000  30.000000  30.000000  30.000000  30.000000  30.000000   \n",
       "mean    0.095740   0.019378  -0.382254   0.064359  -0.057289   0.081023   \n",
       "std     0.840554   0.636143   0.945937   0.994212   0.975998   1.016637   \n",
       "min    -1.694681  -1.608889  -2.920526  -1.003472  -0.537086  -0.843084   \n",
       "25%    -0.419189  -0.309628  -0.637424  -1.003472  -0.537086  -0.843084   \n",
       "50%     0.106276   0.051599  -0.100224   0.252507  -0.537086  -0.155786   \n",
       "75%     0.599712   0.447602   0.403401   1.033480  -0.537086   0.935755   \n",
       "max     1.750187   1.047216   0.705577   1.445522   1.861899   2.243039   \n",
       "\n",
       "         gleason      pgg45       lpsa  \n",
       "count  30.000000  30.000000  30.000000  \n",
       "mean    0.097586  -0.209818   2.536547  \n",
       "std     1.081828   0.878424   1.042035  \n",
       "min    -1.039499  -0.903253   0.765468  \n",
       "25%    -1.039499  -0.903253   1.864393  \n",
       "50%     0.381857  -0.628172   2.591516  \n",
       "75%     0.381857   0.300229   2.882004  \n",
       "max     3.224568   2.191416   5.582932  "
      ]
     },
     "execution_count": 15,
     "metadata": {},
     "output_type": "execute_result"
    }
   ],
   "source": [
    "df_test_scaled.describe()"
   ]
  },
  {
   "cell_type": "markdown",
   "metadata": {},
   "source": [
    "## Fitting linear model: sklearn"
   ]
  },
  {
   "cell_type": "code",
   "execution_count": 16,
   "metadata": {},
   "outputs": [],
   "source": [
    "from sklearn.linear_model import LinearRegression"
   ]
  },
  {
   "cell_type": "code",
   "execution_count": 17,
   "metadata": {},
   "outputs": [],
   "source": [
    "reg = LinearRegression().fit(df_train_scaled[feature_list], df_train_scaled['lpsa'])"
   ]
  },
  {
   "cell_type": "code",
   "execution_count": 18,
   "metadata": {},
   "outputs": [
    {
     "name": "stdout",
     "output_type": "stream",
     "text": [
      "2.4523450850746267 [ 0.71104059  0.29045029 -0.14148182  0.21041951  0.30730025 -0.28684075\n",
      " -0.02075686  0.27526843]\n"
     ]
    }
   ],
   "source": [
    "print(reg.intercept_, reg.coef_)"
   ]
  },
  {
   "cell_type": "markdown",
   "metadata": {},
   "source": [
    "## Fitting linear model: statsmodel"
   ]
  },
  {
   "cell_type": "code",
   "execution_count": 19,
   "metadata": {},
   "outputs": [
    {
     "data": {
      "text/plain": [
       "'lpsa ~ lcavol + lweight + age + lbph + svi + lcp + gleason + pgg45'"
      ]
     },
     "execution_count": 19,
     "metadata": {},
     "output_type": "execute_result"
    }
   ],
   "source": [
    "formula = 'lpsa ~ ' + ' + '.join(feature_list)\n",
    "formula"
   ]
  },
  {
   "cell_type": "code",
   "execution_count": 20,
   "metadata": {},
   "outputs": [
    {
     "name": "stdout",
     "output_type": "stream",
     "text": [
      "                            OLS Regression Results                            \n",
      "==============================================================================\n",
      "Dep. Variable:                   lpsa   R-squared:                       0.694\n",
      "Model:                            OLS   Adj. R-squared:                  0.652\n",
      "Method:                 Least Squares   F-statistic:                     16.47\n",
      "Date:                Thu, 28 May 2020   Prob (F-statistic):           2.04e-12\n",
      "Time:                        10:22:52   Log-Likelihood:                -67.505\n",
      "No. Observations:                  67   AIC:                             153.0\n",
      "Df Residuals:                      58   BIC:                             172.9\n",
      "Df Model:                           8                                         \n",
      "Covariance Type:            nonrobust                                         \n",
      "==============================================================================\n",
      "                 coef    std err          t      P>|t|      [0.025      0.975]\n",
      "------------------------------------------------------------------------------\n",
      "Intercept      2.4523      0.087     28.182      0.000       2.278       2.627\n",
      "lcavol         0.7110      0.133      5.366      0.000       0.446       0.976\n",
      "lweight        0.2905      0.106      2.751      0.008       0.079       0.502\n",
      "age           -0.1415      0.101     -1.396      0.168      -0.344       0.061\n",
      "lbph           0.2104      0.102      2.056      0.044       0.006       0.415\n",
      "svi            0.3073      0.124      2.469      0.017       0.058       0.556\n",
      "lcp           -0.2868      0.154     -1.867      0.067      -0.594       0.021\n",
      "gleason       -0.0208      0.142     -0.147      0.884      -0.304       0.263\n",
      "pgg45          0.2753      0.158      1.738      0.088      -0.042       0.592\n",
      "==============================================================================\n",
      "Omnibus:                        0.825   Durbin-Watson:                   1.690\n",
      "Prob(Omnibus):                  0.662   Jarque-Bera (JB):                0.389\n",
      "Skew:                          -0.164   Prob(JB):                        0.823\n",
      "Kurtosis:                       3.178   Cond. No.                         4.44\n",
      "==============================================================================\n",
      "\n",
      "Warnings:\n",
      "[1] Standard Errors assume that the covariance matrix of the errors is correctly specified.\n"
     ]
    }
   ],
   "source": [
    "import statsmodels.formula.api as smf\n",
    "ols = smf.ols(formula = formula, data = df_train_scaled)\n",
    "ols_result = ols.fit()\n",
    "print(ols_result.summary())"
   ]
  },
  {
   "cell_type": "code",
   "execution_count": 34,
   "metadata": {},
   "outputs": [],
   "source": [
    "squared_error = (ols_result.predict(df_test_scaled[feature_list]) - df_test_scaled['lpsa'])**2\n",
    "test_error = np.mean(squared_error)\n",
    "std_error = np.std(squared_error, ddof=1)/np.sqrt(len(df_test_scaled))"
   ]
  },
  {
   "cell_type": "code",
   "execution_count": 39,
   "metadata": {},
   "outputs": [],
   "source": [
    "df_result = pd.DataFrame(ols_result.params,columns=['LS'])\n",
    "df_result.loc['test_error'] = test_error\n",
    "df_result.loc['std_error'] = std_error"
   ]
  },
  {
   "cell_type": "code",
   "execution_count": 40,
   "metadata": {},
   "outputs": [
    {
     "data": {
      "text/html": [
       "<div>\n",
       "<style scoped>\n",
       "    .dataframe tbody tr th:only-of-type {\n",
       "        vertical-align: middle;\n",
       "    }\n",
       "\n",
       "    .dataframe tbody tr th {\n",
       "        vertical-align: top;\n",
       "    }\n",
       "\n",
       "    .dataframe thead th {\n",
       "        text-align: right;\n",
       "    }\n",
       "</style>\n",
       "<table border=\"1\" class=\"dataframe\">\n",
       "  <thead>\n",
       "    <tr style=\"text-align: right;\">\n",
       "      <th></th>\n",
       "      <th>LS</th>\n",
       "    </tr>\n",
       "  </thead>\n",
       "  <tbody>\n",
       "    <tr>\n",
       "      <th>Intercept</th>\n",
       "      <td>2.452345</td>\n",
       "    </tr>\n",
       "    <tr>\n",
       "      <th>lcavol</th>\n",
       "      <td>0.711041</td>\n",
       "    </tr>\n",
       "    <tr>\n",
       "      <th>lweight</th>\n",
       "      <td>0.290450</td>\n",
       "    </tr>\n",
       "    <tr>\n",
       "      <th>age</th>\n",
       "      <td>-0.141482</td>\n",
       "    </tr>\n",
       "    <tr>\n",
       "      <th>lbph</th>\n",
       "      <td>0.210420</td>\n",
       "    </tr>\n",
       "    <tr>\n",
       "      <th>svi</th>\n",
       "      <td>0.307300</td>\n",
       "    </tr>\n",
       "    <tr>\n",
       "      <th>lcp</th>\n",
       "      <td>-0.286841</td>\n",
       "    </tr>\n",
       "    <tr>\n",
       "      <th>gleason</th>\n",
       "      <td>-0.020757</td>\n",
       "    </tr>\n",
       "    <tr>\n",
       "      <th>pgg45</th>\n",
       "      <td>0.275268</td>\n",
       "    </tr>\n",
       "    <tr>\n",
       "      <th>test_error</th>\n",
       "      <td>0.521274</td>\n",
       "    </tr>\n",
       "    <tr>\n",
       "      <th>std_error</th>\n",
       "      <td>0.178724</td>\n",
       "    </tr>\n",
       "  </tbody>\n",
       "</table>\n",
       "</div>"
      ],
      "text/plain": [
       "                  LS\n",
       "Intercept   2.452345\n",
       "lcavol      0.711041\n",
       "lweight     0.290450\n",
       "age        -0.141482\n",
       "lbph        0.210420\n",
       "svi         0.307300\n",
       "lcp        -0.286841\n",
       "gleason    -0.020757\n",
       "pgg45       0.275268\n",
       "test_error  0.521274\n",
       "std_error   0.178724"
      ]
     },
     "execution_count": 40,
     "metadata": {},
     "output_type": "execute_result"
    }
   ],
   "source": [
    "df_result"
   ]
  },
  {
   "cell_type": "code",
   "execution_count": 41,
   "metadata": {},
   "outputs": [
    {
     "name": "stdout",
     "output_type": "stream",
     "text": [
      "                                 OLS Regression Results                                \n",
      "=======================================================================================\n",
      "Dep. Variable:                   lpsa   R-squared (uncentered):                   0.134\n",
      "Model:                            OLS   Adj. R-squared (uncentered):              0.016\n",
      "Method:                 Least Squares   F-statistic:                              1.140\n",
      "Date:                Thu, 28 May 2020   Prob (F-statistic):                       0.351\n",
      "Time:                        10:31:57   Log-Likelihood:                         -157.53\n",
      "No. Observations:                  67   AIC:                                      331.1\n",
      "Df Residuals:                      59   BIC:                                      348.7\n",
      "Df Model:                           8                                                  \n",
      "Covariance Type:            nonrobust                                                  \n",
      "==============================================================================\n",
      "                 coef    std err          t      P>|t|      [0.025      0.975]\n",
      "------------------------------------------------------------------------------\n",
      "lcavol         0.7110      0.504      1.412      0.163      -0.297       1.719\n",
      "lweight        0.2905      0.401      0.724      0.472      -0.513       1.093\n",
      "age           -0.1415      0.385     -0.367      0.715      -0.912       0.629\n",
      "lbph           0.2104      0.389      0.541      0.591      -0.568       0.989\n",
      "svi            0.3073      0.473      0.650      0.518      -0.639       1.254\n",
      "lcp           -0.2868      0.584     -0.491      0.625      -1.455       0.882\n",
      "gleason       -0.0208      0.538     -0.039      0.969      -1.097       1.055\n",
      "pgg45          0.2753      0.602      0.457      0.649      -0.929       1.480\n",
      "==============================================================================\n",
      "Omnibus:                        0.825   Durbin-Watson:                   0.115\n",
      "Prob(Omnibus):                  0.662   Jarque-Bera (JB):                0.389\n",
      "Skew:                          -0.164   Prob(JB):                        0.823\n",
      "Kurtosis:                       3.178   Cond. No.                         4.44\n",
      "==============================================================================\n",
      "\n",
      "Warnings:\n",
      "[1] Standard Errors assume that the covariance matrix of the errors is correctly specified.\n"
     ]
    }
   ],
   "source": [
    "# Without intercept\n",
    "import statsmodels.formula.api as smf\n",
    "ols = smf.ols(formula = formula + ' - 1', data = df_train_scaled)\n",
    "ols_result = ols.fit()\n",
    "print(ols_result.summary())"
   ]
  },
  {
   "cell_type": "code",
   "execution_count": null,
   "metadata": {},
   "outputs": [],
   "source": []
  },
  {
   "cell_type": "markdown",
   "metadata": {},
   "source": [
    "# Ridge regression: $\\min_{b,\\beta \\in R^p} \\|y - X\\beta - b\\|_2^2 + \\alpha \\|\\beta\\|_2^2$"
   ]
  },
  {
   "cell_type": "code",
   "execution_count": 42,
   "metadata": {},
   "outputs": [],
   "source": [
    "from sklearn.linear_model import Ridge"
   ]
  },
  {
   "cell_type": "code",
   "execution_count": 43,
   "metadata": {},
   "outputs": [
    {
     "data": {
      "text/plain": [
       "Ridge()"
      ]
     },
     "execution_count": 43,
     "metadata": {},
     "output_type": "execute_result"
    }
   ],
   "source": [
    "reg = Ridge(alpha=1.0)\n",
    "reg.fit(df_train_scaled[feature_list],df_train_scaled['lpsa'])"
   ]
  },
  {
   "cell_type": "code",
   "execution_count": 44,
   "metadata": {},
   "outputs": [
    {
     "name": "stdout",
     "output_type": "stream",
     "text": [
      "2.4523450850746267 [ 0.68540969  0.28959545 -0.13430643  0.20841057  0.30162494 -0.25453234\n",
      " -0.0112517   0.25598543]\n"
     ]
    }
   ],
   "source": [
    "print(reg.intercept_, reg.coef_)"
   ]
  },
  {
   "cell_type": "markdown",
   "metadata": {},
   "source": [
    "## Step 1: map degree of freedom to regularizer coefficients "
   ]
  },
  {
   "cell_type": "code",
   "execution_count": 45,
   "metadata": {},
   "outputs": [],
   "source": [
    "# find all singular values\n",
    "from sklearn.decomposition import PCA\n",
    "pca = PCA(n_components = len(feature_list)) \n",
    "pca.fit(df_train_scaled[feature_list])\n",
    "d = pca.singular_values_"
   ]
  },
  {
   "cell_type": "code",
   "execution_count": 46,
   "metadata": {},
   "outputs": [],
   "source": [
    "def compute_dof(d,lbd):\n",
    "    '''\n",
    "        degree of freedom = \\sum_i \\frac{d_i^2}{d_i^2 + lbd}\n",
    "    '''\n",
    "    return (d**2/(d**2+lbd)).sum()\n",
    "\n",
    "def find_lambda(d, dof_target):\n",
    "    '''\n",
    "        Binary search to find lbd that achieves dof_target\n",
    "    '''\n",
    "    left = 0\n",
    "    right = 1e8\n",
    "    while (right-left>1):\n",
    "        mid = left + (right-left)/2\n",
    "        dof = compute_dof(d, mid)\n",
    "        if dof < dof_target:\n",
    "            right = mid\n",
    "        else:\n",
    "            left = mid\n",
    "    return mid"
   ]
  },
  {
   "cell_type": "code",
   "execution_count": 47,
   "metadata": {},
   "outputs": [],
   "source": [
    "alphas = []\n",
    "for dof in range(9):\n",
    "    alphas.append(find_lambda(d,dof))"
   ]
  },
  {
   "cell_type": "code",
   "execution_count": 48,
   "metadata": {},
   "outputs": [
    {
     "data": {
      "text/plain": [
       "[99999999.25494194,\n",
       " 412.0171070098877,\n",
       " 157.20725059509277,\n",
       " 78.2310962677002,\n",
       " 42.46830940246582,\n",
       " 23.096799850463867,\n",
       " 11.175870895385742,\n",
       " 5.21540641784668,\n",
       " 0.7450580596923828]"
      ]
     },
     "execution_count": 48,
     "metadata": {},
     "output_type": "execute_result"
    }
   ],
   "source": [
    "alphas"
   ]
  },
  {
   "cell_type": "markdown",
   "metadata": {},
   "source": [
    "## Step 2: Cross Validation to pick the regularization coefficient alpha by “one-standard-error” rule"
   ]
  },
  {
   "cell_type": "code",
   "execution_count": 51,
   "metadata": {},
   "outputs": [],
   "source": [
    "from sklearn.model_selection import KFold\n",
    "df = pd.DataFrame()\n",
    "K=10\n",
    "kf = KFold(n_splits=K,shuffle=True, random_state=69438)\n",
    "kf.get_n_splits(df_train_scaled)\n",
    "\n",
    "for i in range(len(alphas)):\n",
    "    reg = Ridge(alpha=alphas[i])\n",
    "    train_mse = []\n",
    "    test_mse = []\n",
    "    predict_mse = []\n",
    "    \n",
    "    for train_index, test_index in kf.split(df_train_scaled):\n",
    "        reg.fit(df_train_scaled.loc[train_index][feature_list], df_train_scaled.loc[train_index]['lpsa'])\n",
    "        train_mse.append(((reg.predict(df_train_scaled.loc[train_index][feature_list]) - df_train_scaled.loc[train_index]['lpsa'])**2).mean())\n",
    "        test_mse.append(((reg.predict(df_train_scaled.loc[test_index][feature_list]) - df_train_scaled.loc[test_index]['lpsa'])**2).mean())\n",
    "        predict_mse.append(((reg.predict(df_test_scaled[feature_list])-df_test_scaled['lpsa'])**2).mean())\n",
    "    \n",
    "    df = df.append({'dof': i, 'train_mse': np.array(train_mse).mean(), 'test_mse': np.array(test_mse).mean(), 'test_mse_se': np.array(test_mse).std()/np.sqrt(K), \\\n",
    "                    'predict_mse': np.array(predict_mse).mean()}, ignore_index=True)"
   ]
  },
  {
   "cell_type": "code",
   "execution_count": 52,
   "metadata": {},
   "outputs": [
    {
     "data": {
      "text/plain": [
       "Text(0, 0.5, 'CV MSE')"
      ]
     },
     "execution_count": 52,
     "metadata": {},
     "output_type": "execute_result"
    },
    {
     "data": {
      "image/png": "[encoded data removed]",
      "text/plain": [
       "<Figure size 432x288 with 1 Axes>"
      ]
     },
     "metadata": {
      "needs_background": "light"
     },
     "output_type": "display_data"
    }
   ],
   "source": [
    "ax = df.plot(x='dof',y='train_mse', color='c')\n",
    "df.plot(x='dof',y='test_mse', yerr='test_mse_se', color='orange', ax=ax, capsize=3, ecolor='blue')\n",
    "df.plot(x='dof', y='predict_mse', ax=ax, color='r')\n",
    "ax.set_xlim(left=-0.2,right=8.2)\n",
    "idx = df['test_mse'].idxmin()\n",
    "ax.axhline(y=df.eval('test_mse + test_mse_se').loc[idx], ls='--', color='y')\n",
    "ax.axvline(x=df[df['test_mse']<df.eval('test_mse + test_mse_se').loc[idx]]['dof'].min(), ls='--', color = 'm')\n",
    "ax.set_xlabel('Degree of freedom')\n",
    "ax.set_ylabel('CV MSE')"
   ]
  },
  {
   "cell_type": "markdown",
   "metadata": {},
   "source": [
    "## Step 3: Train full model next using picked alpha value"
   ]
  },
  {
   "cell_type": "code",
   "execution_count": 93,
   "metadata": {},
   "outputs": [],
   "source": [
    "coef = []\n",
    "intercept = []\n",
    "df_testerror = pd.DataFrame()\n",
    "for i in range(len(alphas)):\n",
    "    reg = Ridge(alpha=alphas[i])\n",
    "    \n",
    "    reg.fit(df_train_scaled[feature_list], df_train_scaled['lpsa'])\n",
    "    coef.append(list(reg.coef_))\n",
    "    intercept.append(reg.intercept_)\n",
    "    \n",
    "    squared_errors = (reg.predict(df_test_scaled[feature_list]) - df_test_scaled['lpsa'])**2\n",
    "    df_testerror = df_testerror.append({'dof':i, 'test_error': np.mean(squared_errors), 'std_error': np.std(squared_errors, ddof=1)/np.sqrt(len(df_test_scaled))}, ignore_index=True)"
   ]
  },
  {
   "cell_type": "code",
   "execution_count": 94,
   "metadata": {},
   "outputs": [],
   "source": [
    "df_coef = pd.DataFrame(coef,columns=feature_list)"
   ]
  },
  {
   "cell_type": "code",
   "execution_count": 95,
   "metadata": {},
   "outputs": [],
   "source": [
    "df_coef['Intercept'] = intercept"
   ]
  },
  {
   "cell_type": "code",
   "execution_count": 96,
   "metadata": {},
   "outputs": [],
   "source": [
    "df_coef['dof'] = [i for i in range(9)]"
   ]
  },
  {
   "cell_type": "code",
   "execution_count": 97,
   "metadata": {},
   "outputs": [
    {
     "data": {
      "text/plain": [
       "<matplotlib.lines.Line2D at 0x12f1b1050>"
      ]
     },
     "execution_count": 97,
     "metadata": {},
     "output_type": "execute_result"
    },
    {
     "data": {
      "image/png": "[encoded data removed]",
      "text/plain": [
       "<Figure size 432x288 with 1 Axes>"
      ]
     },
     "metadata": {
      "needs_background": "light"
     },
     "output_type": "display_data"
    }
   ],
   "source": [
    "ax = df_coef.drop(columns=['Intercept']).plot(x='dof', marker='o')\n",
    "ax.set_xlim(left=-0.2,right=8.2)\n",
    "ax.axvline(x=df[df['test_mse']<df.eval('test_mse + test_mse_se').loc[idx]]['dof'].min(), ls='--', color = 'm')"
   ]
  },
  {
   "cell_type": "code",
   "execution_count": 112,
   "metadata": {},
   "outputs": [],
   "source": [
    "df_ridgeres = df_coef[df_coef['dof']==5].T.rename(columns={5:'Ridge'})\n",
    "df_ridgeres.loc['test_error'] = df_testerror.loc[5,'test_error']\n",
    "df_ridgeres.loc['std_error'] = df_testerror.loc[5,'std_error']\n",
    "df_ridgeres = df_ridgeres.drop(['dof'])"
   ]
  },
  {
   "cell_type": "code",
   "execution_count": 116,
   "metadata": {},
   "outputs": [],
   "source": [
    "df_result = pd.concat([df_result,df_ridgeres], axis=1, sort = False)"
   ]
  },
  {
   "cell_type": "code",
   "execution_count": null,
   "metadata": {},
   "outputs": [],
   "source": []
  },
  {
   "cell_type": "markdown",
   "metadata": {},
   "source": [
    "# Lasso regression: $\\min_{b,\\beta\\in R^p, \\|\\beta\\|_1 \\leq t} \\|y-X\\beta-b\\|_2^2$\n",
    "> Sklearn solves the Lagranian relaxation problem: $\\min_{b,\\beta\\in R^p} \\|y-X\\beta-b\\|_2^2 + \\alpha  \\|\\beta\\|_1$"
   ]
  },
  {
   "cell_type": "code",
   "execution_count": 119,
   "metadata": {},
   "outputs": [],
   "source": [
    "from sklearn.linear_model import Lasso"
   ]
  },
  {
   "cell_type": "code",
   "execution_count": 120,
   "metadata": {},
   "outputs": [
    {
     "data": {
      "text/plain": [
       "array([ 0.71104059,  0.29045029, -0.14148182,  0.21041951,  0.30730025,\n",
       "       -0.28684075, -0.02075686,  0.27526843])"
      ]
     },
     "execution_count": 120,
     "metadata": {},
     "output_type": "execute_result"
    }
   ],
   "source": [
    "reg = LinearRegression().fit(df_train_scaled[feature_list], df_train_scaled['lpsa'])\n",
    "reg.coef_"
   ]
  },
  {
   "cell_type": "code",
   "execution_count": 121,
   "metadata": {},
   "outputs": [
    {
     "data": {
      "text/plain": [
       "2.24355850754002"
      ]
     },
     "execution_count": 121,
     "metadata": {},
     "output_type": "execute_result"
    }
   ],
   "source": [
    "np.linalg.norm(reg.coef_, ord=1)"
   ]
  },
  {
   "cell_type": "code",
   "execution_count": 122,
   "metadata": {},
   "outputs": [
    {
     "data": {
      "text/plain": [
       "Lasso(alpha=0.0001)"
      ]
     },
     "execution_count": 122,
     "metadata": {},
     "output_type": "execute_result"
    }
   ],
   "source": [
    "lasso = Lasso(alpha=0.0001)\n",
    "lasso.fit(df_train_scaled[feature_list], df_train_scaled['lpsa'])"
   ]
  },
  {
   "cell_type": "code",
   "execution_count": 123,
   "metadata": {},
   "outputs": [
    {
     "data": {
      "text/plain": [
       "array([ 0.71069524,  0.29042003, -0.1413067 ,  0.21030232,  0.30711583,\n",
       "       -0.28618748, -0.02032945,  0.27461805])"
      ]
     },
     "execution_count": 123,
     "metadata": {},
     "output_type": "execute_result"
    }
   ],
   "source": [
    "lasso.coef_"
   ]
  },
  {
   "cell_type": "markdown",
   "metadata": {},
   "source": [
    "## Step 1: map lasso regularization coef to shrinkage factor"
   ]
  },
  {
   "cell_type": "code",
   "execution_count": 124,
   "metadata": {},
   "outputs": [],
   "source": [
    "df_map = pd.DataFrame()\n",
    "baseline = np.linalg.norm(reg.coef_, ord=1)\n",
    "\n",
    "alphalist = [i/10000.0 for i in range(1,10000)]\n",
    "for i in alphalist:\n",
    "    lasso = Lasso(alpha=i)\n",
    "    lasso.fit(df_train_scaled[feature_list], df_train_scaled['lpsa'])\n",
    "    df_map = df_map.append({'alpha': i, 'coef_l1': np.linalg.norm(lasso.coef_, ord=1), 'shrinkage_factor': np.linalg.norm(lasso.coef_, ord=1)/baseline}, ignore_index=True)"
   ]
  },
  {
   "cell_type": "code",
   "execution_count": 125,
   "metadata": {},
   "outputs": [
    {
     "data": {
      "text/plain": [
       "<matplotlib.axes._subplots.AxesSubplot at 0x13229ee90>"
      ]
     },
     "execution_count": 125,
     "metadata": {},
     "output_type": "execute_result"
    },
    {
     "data": {
      "image/png": "[encoded data removed]",
      "text/plain": [
       "<Figure size 432x288 with 1 Axes>"
      ]
     },
     "metadata": {
      "needs_background": "light"
     },
     "output_type": "display_data"
    }
   ],
   "source": [
    "ax = df_map.plot(x='alpha', y='coef_l1')\n",
    "df_map.plot(x='alpha', y='shrinkage_factor', ax=ax)"
   ]
  },
  {
   "cell_type": "code",
   "execution_count": 126,
   "metadata": {},
   "outputs": [],
   "source": [
    "alphalist = []\n",
    "slist = []\n",
    "for i in range(11):\n",
    "    target = i/10.0\n",
    "    slist.append(target)\n",
    "    alphalist.append(df_map.loc[np.abs(df_map['shrinkage_factor']-target).idxmin()]['alpha'])"
   ]
  },
  {
   "cell_type": "code",
   "execution_count": 127,
   "metadata": {},
   "outputs": [
    {
     "data": {
      "text/plain": [
       "[0.8789,\n",
       " 0.6545,\n",
       " 0.4386,\n",
       " 0.3021,\n",
       " 0.1885,\n",
       " 0.1068,\n",
       " 0.0452,\n",
       " 0.0335,\n",
       " 0.0218,\n",
       " 0.01,\n",
       " 0.0001]"
      ]
     },
     "execution_count": 127,
     "metadata": {},
     "output_type": "execute_result"
    }
   ],
   "source": [
    "alphalist"
   ]
  },
  {
   "cell_type": "markdown",
   "metadata": {},
   "source": [
    "## Step2: Cross Validation to pick the regularization coefficient alpha by “one-standard-error” rule"
   ]
  },
  {
   "cell_type": "code",
   "execution_count": 128,
   "metadata": {},
   "outputs": [],
   "source": [
    "df = pd.DataFrame()\n",
    "K=10\n",
    "kf = KFold(n_splits=K,shuffle=True, random_state=69438)\n",
    "kf.get_n_splits(df_train_scaled)\n",
    "\n",
    "for i in range(len(alphalist)):\n",
    "    lasso = Lasso(alpha=alphalist[i])\n",
    "    train_mse = []\n",
    "    test_mse = []\n",
    "    predict_mse = []\n",
    "    \n",
    "    for train_index, test_index in kf.split(df_train_scaled):\n",
    "        lasso.fit(df_train_scaled.loc[train_index][feature_list], df_train_scaled.loc[train_index]['lpsa'])\n",
    "        train_mse.append(((lasso.predict(df_train_scaled.loc[train_index][feature_list]) - df_train_scaled.loc[train_index]['lpsa'])**2).mean())\n",
    "        test_mse.append(((lasso.predict(df_train_scaled.loc[test_index][feature_list]) - df_train_scaled.loc[test_index]['lpsa'])**2).mean())\n",
    "        predict_mse.append(((lasso.predict(df_test_scaled[feature_list])-df_test_scaled['lpsa'])**2).mean())\n",
    "    \n",
    "    df = df.append({'shrinkage': slist[i], 'train_mse': np.array(train_mse).mean(), 'test_mse': np.array(test_mse).mean(), 'test_mse_se': np.array(test_mse).std()/np.sqrt(K), \\\n",
    "                    'predict_mse': np.array(predict_mse).mean()}, ignore_index=True)"
   ]
  },
  {
   "cell_type": "code",
   "execution_count": 129,
   "metadata": {},
   "outputs": [
    {
     "data": {
      "text/plain": [
       "Text(0, 0.5, 'CV MSE')"
      ]
     },
     "execution_count": 129,
     "metadata": {},
     "output_type": "execute_result"
    },
    {
     "data": {
      "image/png": "[encoded data removed]",
      "text/plain": [
       "<Figure size 432x288 with 1 Axes>"
      ]
     },
     "metadata": {
      "needs_background": "light"
     },
     "output_type": "display_data"
    }
   ],
   "source": [
    "ax = df.plot(x='shrinkage', y='test_mse', yerr='test_mse_se',capsize=3, color='orange', ecolor='blue')\n",
    "df.plot(x='shrinkage', y='train_mse', color='g', ax=ax)\n",
    "df.plot(x='shrinkage', y='predict_mse', color='r', ax=ax)\n",
    "ax.set_xlim(left=-0.1, right=1.1)\n",
    "\n",
    "idx = df['test_mse'].idxmin()\n",
    "ax.axhline(y=df.eval('test_mse + test_mse_se').loc[idx], ls='--', color='y')\n",
    "ax.axvline(x=df[df['test_mse']<df.eval('test_mse + test_mse_se').loc[idx]]['shrinkage'].min(), ls='--', color = 'm')\n",
    "ax.set_xlabel('Shrinkage factor s')\n",
    "ax.set_ylabel('CV MSE')"
   ]
  },
  {
   "cell_type": "markdown",
   "metadata": {},
   "source": [
    "## Step 3: Train full model using the selected alpha by cross validation"
   ]
  },
  {
   "cell_type": "code",
   "execution_count": 157,
   "metadata": {},
   "outputs": [],
   "source": [
    "coef = []\n",
    "intercept = []\n",
    "df_testerror = pd.DataFrame()\n",
    "for i in range(len(alphalist)):\n",
    "    lasso = Lasso(alpha=alphalist[i])\n",
    "    \n",
    "    lasso.fit(df_train_scaled[feature_list], df_train_scaled['lpsa'])\n",
    "    coef.append(list(lasso.coef_))\n",
    "    intercept.append(lasso.intercept_)\n",
    "    \n",
    "    squared_errors = (lasso.predict(df_test_scaled[feature_list]) - df_test_scaled['lpsa'])**2\n",
    "    df_testerror = df_testerror.append({'shrinkage':slist[i], 'test_error': np.mean(squared_errors), 'std_error': np.std(squared_errors, ddof=1)/np.sqrt(len(df_test_scaled))}, ignore_index=True)"
   ]
  },
  {
   "cell_type": "code",
   "execution_count": 158,
   "metadata": {},
   "outputs": [
    {
     "data": {
      "text/plain": [
       "[2.4523450850746267,\n",
       " 2.4523450850746267,\n",
       " 2.4523450850746267,\n",
       " 2.4523450850746267,\n",
       " 2.4523450850746267,\n",
       " 2.4523450850746267,\n",
       " 2.4523450850746267,\n",
       " 2.4523450850746267,\n",
       " 2.4523450850746267,\n",
       " 2.4523450850746267,\n",
       " 2.4523450850746267]"
      ]
     },
     "execution_count": 158,
     "metadata": {},
     "output_type": "execute_result"
    }
   ],
   "source": [
    "intercept"
   ]
  },
  {
   "cell_type": "code",
   "execution_count": 159,
   "metadata": {},
   "outputs": [],
   "source": [
    "df_coef = pd.DataFrame(coef,columns=feature_list)\n",
    "df_coef['Intercept'] = intercept\n",
    "df_coef['shrinkage'] = slist"
   ]
  },
  {
   "cell_type": "code",
   "execution_count": 160,
   "metadata": {},
   "outputs": [
    {
     "data": {
      "text/plain": [
       "<matplotlib.lines.Line2D at 0x1354ea5d0>"
      ]
     },
     "execution_count": 160,
     "metadata": {},
     "output_type": "execute_result"
    },
    {
     "data": {
      "image/png": "[encoded data removed]",
      "text/plain": [
       "<Figure size 432x288 with 1 Axes>"
      ]
     },
     "metadata": {
      "needs_background": "light"
     },
     "output_type": "display_data"
    }
   ],
   "source": [
    "ax = df_coef.plot(x='shrinkage', marker='o')\n",
    "ax.set_xlabel('shrinkage factor')\n",
    "ax.axvline(x=df[df['test_mse']<df.eval('test_mse + test_mse_se').loc[idx]]['shrinkage'].min(), ls='--', color = 'm')"
   ]
  },
  {
   "cell_type": "code",
   "execution_count": 161,
   "metadata": {},
   "outputs": [],
   "source": [
    "df_lassores = df_coef[df_coef['shrinkage']==0.4].T.rename(columns={4:'Lasso'})\n",
    "df_lassores.loc['test_error'] = df_testerror.loc[4,'test_error']\n",
    "df_lassores.loc['std_error'] = df_testerror.loc[4,'std_error']\n",
    "df_lassores = df_lassores.drop(['shrinkage'])"
   ]
  },
  {
   "cell_type": "code",
   "execution_count": 162,
   "metadata": {},
   "outputs": [
    {
     "data": {
      "text/html": [
       "<div>\n",
       "<style scoped>\n",
       "    .dataframe tbody tr th:only-of-type {\n",
       "        vertical-align: middle;\n",
       "    }\n",
       "\n",
       "    .dataframe tbody tr th {\n",
       "        vertical-align: top;\n",
       "    }\n",
       "\n",
       "    .dataframe thead th {\n",
       "        text-align: right;\n",
       "    }\n",
       "</style>\n",
       "<table border=\"1\" class=\"dataframe\">\n",
       "  <thead>\n",
       "    <tr style=\"text-align: right;\">\n",
       "      <th></th>\n",
       "      <th>Lasso</th>\n",
       "    </tr>\n",
       "  </thead>\n",
       "  <tbody>\n",
       "    <tr>\n",
       "      <th>lcavol</th>\n",
       "      <td>0.560203</td>\n",
       "    </tr>\n",
       "    <tr>\n",
       "      <th>lweight</th>\n",
       "      <td>0.194887</td>\n",
       "    </tr>\n",
       "    <tr>\n",
       "      <th>age</th>\n",
       "      <td>0.000000</td>\n",
       "    </tr>\n",
       "    <tr>\n",
       "      <th>lbph</th>\n",
       "      <td>0.021667</td>\n",
       "    </tr>\n",
       "    <tr>\n",
       "      <th>svi</th>\n",
       "      <td>0.109014</td>\n",
       "    </tr>\n",
       "    <tr>\n",
       "      <th>lcp</th>\n",
       "      <td>0.000000</td>\n",
       "    </tr>\n",
       "    <tr>\n",
       "      <th>gleason</th>\n",
       "      <td>0.000000</td>\n",
       "    </tr>\n",
       "    <tr>\n",
       "      <th>pgg45</th>\n",
       "      <td>0.011666</td>\n",
       "    </tr>\n",
       "    <tr>\n",
       "      <th>Intercept</th>\n",
       "      <td>2.452345</td>\n",
       "    </tr>\n",
       "    <tr>\n",
       "      <th>test_error</th>\n",
       "      <td>0.468676</td>\n",
       "    </tr>\n",
       "    <tr>\n",
       "      <th>std_error</th>\n",
       "      <td>0.160616</td>\n",
       "    </tr>\n",
       "  </tbody>\n",
       "</table>\n",
       "</div>"
      ],
      "text/plain": [
       "               Lasso\n",
       "lcavol      0.560203\n",
       "lweight     0.194887\n",
       "age         0.000000\n",
       "lbph        0.021667\n",
       "svi         0.109014\n",
       "lcp         0.000000\n",
       "gleason     0.000000\n",
       "pgg45       0.011666\n",
       "Intercept   2.452345\n",
       "test_error  0.468676\n",
       "std_error   0.160616"
      ]
     },
     "execution_count": 162,
     "metadata": {},
     "output_type": "execute_result"
    }
   ],
   "source": [
    "df_lassores"
   ]
  },
  {
   "cell_type": "code",
   "execution_count": 167,
   "metadata": {},
   "outputs": [],
   "source": [
    "df_result = pd.concat([df_result,df_lassores], axis=1, sort = False)"
   ]
  },
  {
   "cell_type": "code",
   "execution_count": 168,
   "metadata": {},
   "outputs": [
    {
     "data": {
      "text/html": [
       "<div>\n",
       "<style scoped>\n",
       "    .dataframe tbody tr th:only-of-type {\n",
       "        vertical-align: middle;\n",
       "    }\n",
       "\n",
       "    .dataframe tbody tr th {\n",
       "        vertical-align: top;\n",
       "    }\n",
       "\n",
       "    .dataframe thead th {\n",
       "        text-align: right;\n",
       "    }\n",
       "</style>\n",
       "<table border=\"1\" class=\"dataframe\">\n",
       "  <thead>\n",
       "    <tr style=\"text-align: right;\">\n",
       "      <th></th>\n",
       "      <th>LS</th>\n",
       "      <th>Ridge</th>\n",
       "      <th>Lasso</th>\n",
       "    </tr>\n",
       "  </thead>\n",
       "  <tbody>\n",
       "    <tr>\n",
       "      <th>Intercept</th>\n",
       "      <td>2.452345</td>\n",
       "      <td>2.452345</td>\n",
       "      <td>2.452345</td>\n",
       "    </tr>\n",
       "    <tr>\n",
       "      <th>lcavol</th>\n",
       "      <td>0.711041</td>\n",
       "      <td>0.432815</td>\n",
       "      <td>0.560203</td>\n",
       "    </tr>\n",
       "    <tr>\n",
       "      <th>lweight</th>\n",
       "      <td>0.290450</td>\n",
       "      <td>0.252017</td>\n",
       "      <td>0.194887</td>\n",
       "    </tr>\n",
       "    <tr>\n",
       "      <th>age</th>\n",
       "      <td>-0.141482</td>\n",
       "      <td>-0.046407</td>\n",
       "      <td>0.000000</td>\n",
       "    </tr>\n",
       "    <tr>\n",
       "      <th>lbph</th>\n",
       "      <td>0.210420</td>\n",
       "      <td>0.168537</td>\n",
       "      <td>0.021667</td>\n",
       "    </tr>\n",
       "    <tr>\n",
       "      <th>svi</th>\n",
       "      <td>0.307300</td>\n",
       "      <td>0.234399</td>\n",
       "      <td>0.109014</td>\n",
       "    </tr>\n",
       "    <tr>\n",
       "      <th>lcp</th>\n",
       "      <td>-0.286841</td>\n",
       "      <td>0.002985</td>\n",
       "      <td>0.000000</td>\n",
       "    </tr>\n",
       "    <tr>\n",
       "      <th>gleason</th>\n",
       "      <td>-0.020757</td>\n",
       "      <td>0.041893</td>\n",
       "      <td>0.000000</td>\n",
       "    </tr>\n",
       "    <tr>\n",
       "      <th>pgg45</th>\n",
       "      <td>0.275268</td>\n",
       "      <td>0.134372</td>\n",
       "      <td>0.011666</td>\n",
       "    </tr>\n",
       "    <tr>\n",
       "      <th>test_error</th>\n",
       "      <td>0.521274</td>\n",
       "      <td>0.492480</td>\n",
       "      <td>0.468676</td>\n",
       "    </tr>\n",
       "    <tr>\n",
       "      <th>std_error</th>\n",
       "      <td>0.178724</td>\n",
       "      <td>0.161666</td>\n",
       "      <td>0.160616</td>\n",
       "    </tr>\n",
       "  </tbody>\n",
       "</table>\n",
       "</div>"
      ],
      "text/plain": [
       "                  LS     Ridge     Lasso\n",
       "Intercept   2.452345  2.452345  2.452345\n",
       "lcavol      0.711041  0.432815  0.560203\n",
       "lweight     0.290450  0.252017  0.194887\n",
       "age        -0.141482 -0.046407  0.000000\n",
       "lbph        0.210420  0.168537  0.021667\n",
       "svi         0.307300  0.234399  0.109014\n",
       "lcp        -0.286841  0.002985  0.000000\n",
       "gleason    -0.020757  0.041893  0.000000\n",
       "pgg45       0.275268  0.134372  0.011666\n",
       "test_error  0.521274  0.492480  0.468676\n",
       "std_error   0.178724  0.161666  0.160616"
      ]
     },
     "execution_count": 168,
     "metadata": {},
     "output_type": "execute_result"
    }
   ],
   "source": [
    "df_result"
   ]
  },
  {
   "cell_type": "markdown",
   "metadata": {},
   "source": [
    "## Subset_selection"
   ]
  },
  {
   "cell_type": "code",
   "execution_count": 184,
   "metadata": {},
   "outputs": [
    {
     "data": {
      "text/plain": [
       "['lcavol', 'lweight', 'age', 'lbph', 'svi', 'lcp', 'gleason', 'pgg45']"
      ]
     },
     "execution_count": 184,
     "metadata": {},
     "output_type": "execute_result"
    }
   ],
   "source": [
    "feature_list"
   ]
  },
  {
   "cell_type": "markdown",
   "metadata": {},
   "source": [
    "### Forward-stepwise"
   ]
  },
  {
   "cell_type": "code",
   "execution_count": null,
   "metadata": {},
   "outputs": [],
   "source": []
  },
  {
   "cell_type": "code",
   "execution_count": null,
   "metadata": {},
   "outputs": [],
   "source": []
  },
  {
   "cell_type": "code",
   "execution_count": null,
   "metadata": {},
   "outputs": [],
   "source": []
  }
 ],
 "metadata": {
  "kernelspec": {
   "display_name": "Python 3",
   "language": "python",
   "name": "python3"
  },
  "language_info": {
   "codemirror_mode": {
    "name": "ipython",
    "version": 3
   },
   "file_extension": ".py",
   "mimetype": "text/x-python",
   "name": "python",
   "nbconvert_exporter": "python",
   "pygments_lexer": "ipython3",
   "version": "3.7.7"
  }
 },
 "nbformat": 4,
 "nbformat_minor": 4
}
