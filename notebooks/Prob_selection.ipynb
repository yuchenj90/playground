{
 "cells": [
  {
   "cell_type": "markdown",
   "metadata": {},
   "source": [
    "# Choose distinct k items from n items, each item i occur with probabilities p_i"
   ]
  },
  {
   "cell_type": "raw",
   "metadata": {},
   "source": [
    "Alg 1\n",
    "\n",
    "Select item i with probability p_i(k-\\sum_{j<i} y_j)/(k - \\sum_{j<i} p_j)\n"
   ]
  },
  {
   "cell_type": "code",
   "execution_count": 3,
   "metadata": {},
   "outputs": [],
   "source": [
    "import numpy as np"
   ]
  },
  {
   "cell_type": "code",
   "execution_count": 93,
   "metadata": {},
   "outputs": [],
   "source": [
    "def n_choose_k(p,m):\n",
    "    '''\n",
    "        Implement the n choose k with probability p algorithm\n",
    "            1. sort according to p in descending order\n",
    "            2. sequentially select item i with probability p_i(k-\\sum_{j<i} y_j)/(k - \\sum_{j<i} p_j),\n",
    "                where y_j = 1 indicates the j-th item has been selected\n",
    "        Input:\n",
    "            Probabilities array p with size n such that sum_i p_i = k\n",
    "            m: Generate final selection set m times for simulation purposes\n",
    "    '''\n",
    "    \n",
    "    n = len(p)\n",
    "    k = int(np.sum(p))\n",
    "    \n",
    "    random_numbers = np.random.uniform(size=(m,n))\n",
    "    items = np.argsort(p)[::-1]  # sort prob in descending order\n",
    "    \n",
    "    res = []\n",
    "    for t in range(m):\n",
    "        num_selected = 0\n",
    "        prob = 0\n",
    "        selection = []\n",
    "\n",
    "        for i in range(n):\n",
    "            if num_selected < k:\n",
    "                p_new = np.minimum(1,p[items[i]]*(k-num_selected)*1.0/(k-prob))\n",
    "\n",
    "                # select items[i] with probability p_new \n",
    "                flag = random_numbers[t][i]<=p_new\n",
    "                num_selected += flag\n",
    "                prob += p[items[i]]\n",
    "                if flag==1:\n",
    "                    selection.append(items[i])\n",
    "            else:\n",
    "                break\n",
    "        assert len(selection)<=k, 'Error: selected more than k items'\n",
    "        assert len(selection)>=k, 'Error: selected less than k items'\n",
    "        \n",
    "        res.append(selection)\n",
    "    return res"
   ]
  },
  {
   "cell_type": "code",
   "execution_count": null,
   "metadata": {},
   "outputs": [],
   "source": []
  },
  {
   "cell_type": "code",
   "execution_count": 94,
   "metadata": {},
   "outputs": [],
   "source": []
  },
  {
   "cell_type": "code",
   "execution_count": 95,
   "metadata": {},
   "outputs": [],
   "source": [
    "prob = np.array([0.3,0.1,0.6,0.3,0.1,0.6,0.9,0.8,0.3])\n",
    "m = 100000"
   ]
  },
  {
   "cell_type": "code",
   "execution_count": 125,
   "metadata": {},
   "outputs": [],
   "source": [
    "prob = np.array([0.8,0.8,0.75,0.72,0.7,0.65,0.65,0.62,0.61,0.6,0.45,0.3,0.38,0.2,0.1,0.1,0.15,0.05,0.06,0.08,0.05,0.02,0.04,0.12])\n",
    "m = 100000"
   ]
  },
  {
   "cell_type": "code",
   "execution_count": 126,
   "metadata": {},
   "outputs": [
    {
     "data": {
      "text/plain": [
       "9.0"
      ]
     },
     "execution_count": 126,
     "metadata": {},
     "output_type": "execute_result"
    }
   ],
   "source": [
    "sum(prob)"
   ]
  },
  {
   "cell_type": "code",
   "execution_count": 121,
   "metadata": {},
   "outputs": [],
   "source": [
    "prob = np.array([0.8,0.7,0.5])\n",
    "m = 100000"
   ]
  },
  {
   "cell_type": "code",
   "execution_count": 127,
   "metadata": {},
   "outputs": [
    {
     "name": "stdout",
     "output_type": "stream",
     "text": [
      "{0: 0.79841, 1: 0.80006, 2: 0.74722, 3: 0.72257, 4: 0.70129, 5: 0.6482, 6: 0.65011, 7: 0.62027, 8: 0.60966, 9: 0.59799, 10: 0.45308, 11: 0.30015, 12: 0.38021, 13: 0.20145, 14: 0.10015, 15: 0.10001, 16: 0.14957, 17: 0.04994, 18: 0.06066, 19: 0.0804, 20: 0.04973, 21: 0.01913, 22: 0.04028, 23: 0.11946}\n"
     ]
    }
   ],
   "source": [
    "\n",
    "selections = n_choose_k(prob,m)\n",
    "\n",
    "n = len(prob)\n",
    "k = int(np.sum(prob))\n",
    "freq = {}\n",
    "\n",
    "for i in range(n):\n",
    "    freq[i] = 0\n",
    "\n",
    "for s in selections:\n",
    "    for i in range(k):\n",
    "        freq[s[i]] += 1\n",
    "        \n",
    "for i in range(n):\n",
    "    freq[i] = freq[i]*1.0/m\n",
    "    \n",
    "print(freq)"
   ]
  },
  {
   "cell_type": "code",
   "execution_count": null,
   "metadata": {},
   "outputs": [],
   "source": []
  },
  {
   "cell_type": "code",
   "execution_count": null,
   "metadata": {},
   "outputs": [],
   "source": []
  }
 ],
 "metadata": {
  "kernelspec": {
   "display_name": "Python 3",
   "language": "python",
   "name": "python3"
  },
  "language_info": {
   "codemirror_mode": {
    "name": "ipython",
    "version": 3
   },
   "file_extension": ".py",
   "mimetype": "text/x-python",
   "name": "python",
   "nbconvert_exporter": "python",
   "pygments_lexer": "ipython3",
   "version": "3.7.7"
  }
 },
 "nbformat": 4,
 "nbformat_minor": 4
}
