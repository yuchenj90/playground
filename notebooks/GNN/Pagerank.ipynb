{
 "cells": [
  {
   "cell_type": "code",
   "execution_count": 1,
   "id": "8ebb333c-307b-4613-a4f5-cf96fcde9113",
   "metadata": {},
   "outputs": [],
   "source": [
    "import numpy as np"
   ]
  },
  {
   "cell_type": "code",
   "execution_count": null,
   "id": "e2ee2e30-e3a4-4331-a8a1-00339d1b8a89",
   "metadata": {},
   "outputs": [],
   "source": []
  },
  {
   "cell_type": "code",
   "execution_count": 85,
   "id": "dc5ba4fb-90cd-4d14-a283-f530a6678993",
   "metadata": {},
   "outputs": [],
   "source": [
    "def pagerank(T, epsilon= 1e-20):\n",
    "    n = len(T)\n",
    "    v = np.array([1.0/n for _ in range(n)])\n",
    "    while True:\n",
    "        v_next = np.dot(v, T.transpose())\n",
    "        if np.linalg.norm(v_next-v, 2) < epsilon:\n",
    "            break\n",
    "        v = v_next\n",
    "    return v_next"
   ]
  },
  {
   "cell_type": "code",
   "execution_count": 86,
   "id": "326397d1-1a8a-4a93-90e7-68d1f033d3c8",
   "metadata": {},
   "outputs": [],
   "source": [
    "T1 = np.random.random((10,10))\n",
    "T2 = np.random.random((10,10))\n",
    "T1 = T1/T1.sum(axis=0)\n",
    "T2 = T2/T2.sum(axis=0)"
   ]
  },
  {
   "cell_type": "code",
   "execution_count": 87,
   "id": "51c62546-b2a9-45ed-9bd5-eb61252784e1",
   "metadata": {},
   "outputs": [],
   "source": [
    "v1 = pagerank(T1)\n",
    "v2 = pagerank(T2)"
   ]
  },
  {
   "cell_type": "code",
   "execution_count": 88,
   "id": "715fe83e-d598-48b9-937d-485145ffd9c1",
   "metadata": {},
   "outputs": [
    {
     "name": "stdout",
     "output_type": "stream",
     "text": [
      "[0.1043339  0.08332381 0.09027928 0.09011463 0.08926088 0.08687108\n",
      " 0.0819603  0.13572007 0.11038573 0.12775033] [0.09661106 0.0880347  0.08077362 0.11672595 0.0952488  0.11513279\n",
      " 0.1365101  0.0593386  0.10920386 0.10242053]\n"
     ]
    }
   ],
   "source": [
    "print(v1, v2)"
   ]
  },
  {
   "cell_type": "code",
   "execution_count": 89,
   "id": "985c3a61-5602-427e-9a09-435afe5ef71c",
   "metadata": {},
   "outputs": [],
   "source": [
    "T = (T1 + 2*T2)/3"
   ]
  },
  {
   "cell_type": "code",
   "execution_count": 90,
   "id": "1b4e7ef7-d643-4b61-a678-22b6e3e6bb74",
   "metadata": {},
   "outputs": [
    {
     "data": {
      "text/plain": [
       "array([[0.14175453, 0.03899807, 0.10863467, 0.1176916 , 0.06970691,\n",
       "        0.10916465, 0.14147737, 0.05642156, 0.07332262, 0.0933083 ],\n",
       "       [0.03704695, 0.12075778, 0.16910632, 0.0719973 , 0.0842626 ,\n",
       "        0.05264206, 0.03694371, 0.15172985, 0.08492765, 0.11441113],\n",
       "       [0.11811124, 0.14000536, 0.02333961, 0.16083611, 0.07894549,\n",
       "        0.05607732, 0.09421231, 0.0127928 , 0.06188451, 0.08290415],\n",
       "       [0.02691141, 0.10047432, 0.11372864, 0.0979078 , 0.05811528,\n",
       "        0.12318437, 0.09535671, 0.20814456, 0.23918538, 0.05840103],\n",
       "       [0.01245361, 0.07521059, 0.13394393, 0.03527564, 0.07894819,\n",
       "        0.13174363, 0.17437698, 0.1259307 , 0.04649109, 0.10664751],\n",
       "       [0.18658305, 0.09729163, 0.09892074, 0.08860475, 0.15051768,\n",
       "        0.10596484, 0.01906185, 0.08867812, 0.05635364, 0.17083856],\n",
       "       [0.11747282, 0.1283377 , 0.10217007, 0.09539394, 0.16332765,\n",
       "        0.15018472, 0.12885553, 0.15969095, 0.14190023, 0.01698873],\n",
       "       [0.09301853, 0.12937921, 0.05081665, 0.07393547, 0.05685496,\n",
       "        0.06194406, 0.10517899, 0.05728811, 0.09157559, 0.11337796],\n",
       "       [0.17822061, 0.0905777 , 0.14146678, 0.13637856, 0.15071421,\n",
       "        0.10338977, 0.07272672, 0.08305645, 0.02594094, 0.11634982],\n",
       "       [0.08842725, 0.07896763, 0.0578726 , 0.12197884, 0.10860703,\n",
       "        0.10570458, 0.13180984, 0.0562669 , 0.17841835, 0.1267728 ]])"
      ]
     },
     "execution_count": 90,
     "metadata": {},
     "output_type": "execute_result"
    }
   ],
   "source": [
    "T"
   ]
  },
  {
   "cell_type": "code",
   "execution_count": 95,
   "id": "eb679928-ce3b-4992-bd84-6ca93ae72528",
   "metadata": {},
   "outputs": [],
   "source": [
    "v = pagerank(T, 1e-15)"
   ]
  },
  {
   "cell_type": "code",
   "execution_count": 96,
   "id": "50cc7a22-d44a-4d75-8b89-b2aa641384fd",
   "metadata": {},
   "outputs": [
    {
     "data": {
      "text/plain": [
       "array([0.09713754, 0.08887923, 0.08500891, 0.11158182, 0.0922874 ,\n",
       "       0.10447942, 0.11896132, 0.08443708, 0.10845095, 0.10877631])"
      ]
     },
     "execution_count": 96,
     "metadata": {},
     "output_type": "execute_result"
    }
   ],
   "source": [
    "v"
   ]
  },
  {
   "cell_type": "code",
   "execution_count": 97,
   "id": "55a84741-67cf-4f86-9fe2-49fd505a0696",
   "metadata": {},
   "outputs": [
    {
     "data": {
      "text/plain": [
       "array([0.09918534, 0.0864644 , 0.08394217, 0.10785551, 0.09325283,\n",
       "       0.10571222, 0.11832683, 0.08479909, 0.10959782, 0.11086379])"
      ]
     },
     "execution_count": 97,
     "metadata": {},
     "output_type": "execute_result"
    }
   ],
   "source": [
    "(v1 + 2*v2)/3"
   ]
  },
  {
   "cell_type": "code",
   "execution_count": null,
   "id": "f760fc4c-8717-4aaa-8de2-28f55a99983b",
   "metadata": {},
   "outputs": [],
   "source": []
  }
 ],
 "metadata": {
  "kernelspec": {
   "display_name": "Python 3 (ipykernel)",
   "language": "python",
   "name": "python3"
  },
  "language_info": {
   "codemirror_mode": {
    "name": "ipython",
    "version": 3
   },
   "file_extension": ".py",
   "mimetype": "text/x-python",
   "name": "python",
   "nbconvert_exporter": "python",
   "pygments_lexer": "ipython3",
   "version": "3.8.12"
  }
 },
 "nbformat": 4,
 "nbformat_minor": 5
}
