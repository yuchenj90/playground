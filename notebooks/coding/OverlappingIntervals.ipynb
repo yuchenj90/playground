{
 "cells": [
  {
   "cell_type": "markdown",
   "metadata": {},
   "source": [
    "## Leetcode 452: Minimum Number of Arrows to Burst Balloons\n",
    "> There are some spherical balloons spread in two-dimensional space. For each balloon, provided input is the start and end coordinates of the horizontal diameter. Since it's horizontal, y-coordinates don't matter, and hence the x-coordinates of start and end of the diameter suffice. The start is always smaller than the end.  \n",
    "> An arrow can be shot up exactly vertically from different points along the x-axis. A balloon with xstart and xend bursts by an arrow shot at x if xstart ≤ x ≤ xend. There is no limit to the number of arrows that can be shot. An arrow once shot keeps traveling up infinitely.\n",
    "\n",
    "> Example:  \n",
    "> points = [[10,16],[2,8],[1,6],[7,12]]  \n",
    "> Output: 2  \n",
    "> One way is to shoot one arrow for example at x = 6 (bursting the balloons [2,8] and [1,6]) and another arrow at x = 11 (bursting the other two balloons).\n"
   ]
  },
  {
   "cell_type": "markdown",
   "metadata": {},
   "source": [
    "## Solution:\n",
    "> Greedy algorithm.\n",
    "> 1. Sort the interval by end point. \n",
    "> 2. From left to right, each time we add one balloon. If it is bursted, we can continue to the next balloon. Otherwise, we need an additional arrow to burst it. Put the arrow to the end point to burst as much balloons that haven't seen as possible."
   ]
  },
  {
   "cell_type": "code",
   "execution_count": 4,
   "metadata": {},
   "outputs": [],
   "source": [
    "def burst_balloons(points):\n",
    "    sorted_p = sorted(points, key=lambda x: x[1])\n",
    "    shots = []\n",
    "    \n",
    "    for p in sorted_p:\n",
    "        if len(shots)==0:\n",
    "            shots.append(p[1])\n",
    "        elif shots[-1]<p[0]:\n",
    "            shots.append(p[1])\n",
    "    return len(shots)\n",
    "        "
   ]
  },
  {
   "cell_type": "code",
   "execution_count": 6,
   "metadata": {},
   "outputs": [
    {
     "data": {
      "text/plain": [
       "1"
      ]
     },
     "execution_count": 6,
     "metadata": {},
     "output_type": "execute_result"
    }
   ],
   "source": [
    "burst_balloons([[2,3],[2,3]])"
   ]
  },
  {
   "cell_type": "markdown",
   "metadata": {},
   "source": [
    "## Leetcode 435. Non-overlapping Intervals\n",
    "> Given a collection of intervals, find the minimum number of intervals you need to remove to make the rest of the intervals non-overlapping.  \n",
    "> Example:  \n",
    "> Input: [[1,2],[2,3],[3,4],[1,3]]   \n",
    "> Output: 1  \n",
    "> Explaination: [1,3] can be removed and the rest of intervals are non-overlapping."
   ]
  },
  {
   "cell_type": "markdown",
   "metadata": {},
   "source": [
    "## Solution:\n",
    "> Greedy, still sort according to the end points.  \n",
    "> Each time we consider one more interval. If the interval overlaps with the current remaining intervals, we need to remove it. (check if new interval start point is less than current max point)"
   ]
  },
  {
   "cell_type": "code",
   "execution_count": 10,
   "metadata": {},
   "outputs": [],
   "source": [
    "def eraseOverlapIntervals(intervals):\n",
    "    \"\"\"\n",
    "    :type intervals: List[List[int]]\n",
    "    :rtype: int\n",
    "    \"\"\"\n",
    "    sorted_intervals = sorted(intervals, key=lambda x:x[1])\n",
    "    current_max = None\n",
    "    count = 0\n",
    "    for interval in sorted_intervals:\n",
    "        if current_max==None:\n",
    "            current_max = interval[1]\n",
    "        elif interval[0]<current_max: # has overlap\n",
    "            count += 1\n",
    "        else: # no overlap\n",
    "            current_max = interval[1]\n",
    "    return count"
   ]
  },
  {
   "cell_type": "code",
   "execution_count": 11,
   "metadata": {},
   "outputs": [
    {
     "data": {
      "text/plain": [
       "1"
      ]
     },
     "execution_count": 11,
     "metadata": {},
     "output_type": "execute_result"
    }
   ],
   "source": [
    "eraseOverlapIntervals([[1,2],[2,3],[3,4],[1,3]])"
   ]
  },
  {
   "cell_type": "markdown",
   "metadata": {},
   "source": [
    "## Leetcode 56: Merge Intervals\n",
    "> Given a collection of intervals, merge all overlapping intervals.  \n",
    "> **Example:**    \n",
    "> Input: intervals = [[1,3],[2,6],[10,12],[8,10],[15,18]]  \n",
    "> Output: [[1,6],[8,12],[15,18]]  \n",
    "> Explanation: Since intervals [1,3] and [2,6] overlaps, merge them into [1,6]. [10,12] and [8,10] overlaps, merge them into [8,12]."
   ]
  },
  {
   "cell_type": "markdown",
   "metadata": {},
   "source": [
    "## Solution:\n",
    "> Again, sort according to the end point. \n",
    "> Each time, consider one more interval from left to right. Maintain a list of combined intervals. According to the start of current interval, find its position in the interval array (binary search on all the end points of the combined intervals). Merge accordingly."
   ]
  },
  {
   "cell_type": "code",
   "execution_count": 33,
   "metadata": {},
   "outputs": [],
   "source": [
    "def merge_intervals(intervals):\n",
    "    \"\"\"\n",
    "    :type intervals: List[List[int]]\n",
    "    :rtype: List[List[int]]\n",
    "    \"\"\"\n",
    "    \n",
    "    sorted_intervals = sorted(intervals, key=lambda x:x[1])\n",
    "    \n",
    "    res = []\n",
    "    for interval in sorted_intervals:\n",
    "        if len(res) == 0:\n",
    "            res.append(interval)\n",
    "        else:\n",
    "            left = 0\n",
    "            right = len(res)-1\n",
    "            while (left<=right):\n",
    "                mid = int((right-left)/2)+left\n",
    "                if res[mid][1] < interval[0]: \n",
    "                    left = mid+1\n",
    "                else:\n",
    "                    right = mid-1\n",
    "            \n",
    "            if right==len(res)-1: # res[-1][1]<interval[0]\n",
    "                res.append(interval)\n",
    "            else: # res[right+1][1]>=interval[0]\n",
    "                new_interval = [min(res[right+1][0],interval[0]),interval[1]]\n",
    "                res = res[0:right+1] + [new_interval]\n",
    "    return res\n",
    "    "
   ]
  },
  {
   "cell_type": "code",
   "execution_count": 34,
   "metadata": {},
   "outputs": [
    {
     "data": {
      "text/plain": [
       "[[1, 3], [4, 7]]"
      ]
     },
     "execution_count": 34,
     "metadata": {},
     "output_type": "execute_result"
    }
   ],
   "source": [
    "merge_intervals([[2,3],[2,2],[3,3],[1,3],[5,7],[2,2],[4,6]])"
   ]
  },
  {
   "cell_type": "code",
   "execution_count": 35,
   "metadata": {},
   "outputs": [],
   "source": [
    "l=[[1,2],[2,3]]"
   ]
  },
  {
   "cell_type": "code",
   "execution_count": 21,
   "metadata": {},
   "outputs": [
    {
     "data": {
      "text/plain": [
       "[]"
      ]
     },
     "execution_count": 21,
     "metadata": {},
     "output_type": "execute_result"
    }
   ],
   "source": [
    "l[0:0]"
   ]
  },
  {
   "cell_type": "markdown",
   "metadata": {},
   "source": [
    "## Leetcode 252: Meeting rooms\n",
    "> Given an array of meeting time intervals consisting of start and end times $[[s1,e1],[s2,e2],...] (si < ei)$, determine if a person could attend all meetings.\n",
    "\n",
    "> Example:  \n",
    "> Input: $[[0, 30],[5, 10],[15, 20]]$  \n",
    "> Output: False"
   ]
  },
  {
   "cell_type": "markdown",
   "metadata": {},
   "source": [
    "## Solution:\n",
    "> Sort according to end time. Then check if each interval has start time no larger than the previous end time. Time complexity O(nlogn)."
   ]
  },
  {
   "cell_type": "code",
   "execution_count": 36,
   "metadata": {},
   "outputs": [],
   "source": [
    "def attend_all_meetings(intervals):\n",
    "    sorted_intervals = sorted(intervals, key=lambda x: x[1])\n",
    "    for i in range(1, len(sorted_intervals)):\n",
    "        if sorted_intervals[i-1][1] > sorted_intervals[i][0]:\n",
    "            return False\n",
    "    return True"
   ]
  },
  {
   "cell_type": "code",
   "execution_count": 40,
   "metadata": {},
   "outputs": [
    {
     "data": {
      "text/plain": [
       "True"
      ]
     },
     "execution_count": 40,
     "metadata": {},
     "output_type": "execute_result"
    }
   ],
   "source": [
    "attend_all_meetings([[5, 10],[15, 20],[12,15]])"
   ]
  },
  {
   "cell_type": "code",
   "execution_count": null,
   "metadata": {},
   "outputs": [],
   "source": []
  },
  {
   "cell_type": "markdown",
   "metadata": {},
   "source": [
    "## Leetcode 253: Meeting rooms II\n",
    "> Given an array of meeting time intervals consisting of start and end times $[[s1,e1],[s2,e2],...] (si < ei)$, find the minimum number of conference rooms required.  \n",
    "> **Example:**  \n",
    "> Input: $[[0, 30],[5, 10],[15, 20]]$  \n",
    "> Output: 2\n"
   ]
  },
  {
   "cell_type": "markdown",
   "metadata": {},
   "source": [
    "## Solution:\n",
    "> **General solution framework**:\n",
    "> 1. Sort intervals according to start position.  \n",
    "> 2. Keep track of the rightmost overlapped intervals (any two of them overlap). At most times, we do not need to use an explicit set to store them. Instead, we just need to maintain several key parameters, e.g. the number of overlapping intervals (count), the minimum ending point among all overlapping intervals (minEnd), etc.  \n",
    "> 3. Start from the left, we consider one more interval at a time. If the interval has overlapped with the rightmost overlapped intervals, add it to our overlapped intervals set (by checking if interval.start<minEnd). Otherwise, the intervals after this one will not overlap with previous set of overlapped intervals (since we sort by start point), hence we can reset the rightmost overlapped intervals by dropping a few intervals.\n",
    "\n",
    "> **Specific for Meeting rooms problem:**\n",
    "> 1. Sort intervals according to start position.\n",
    "> 2. Keep track of the rightmost overlapped intervals by recording the minimum ending point (minEnd).\n",
    "> 3. Consider a new interval I.  \n",
    "> i) if I.start < minEnd, I is also overlapped with the rightmost overlapped interval set. Add it to the set and set minEnd = min(minEnd, I.end)  \n",
    "> ii) if I.start>=minEnd, I is not overlapped with the rightmost overlapped interval set. We then remove all intervals in the set with end point no larger than I.start. Thus, for better efficiency of the algorithm, we can maintain a heap/balanced BST to store the end points of these rightmost overlapped intervals so that each deletion and insertion can be performed within O(logn) time."
   ]
  },
  {
   "cell_type": "code",
   "execution_count": 44,
   "metadata": {},
   "outputs": [],
   "source": [
    "import heapq as hq"
   ]
  },
  {
   "cell_type": "code",
   "execution_count": 46,
   "metadata": {},
   "outputs": [
    {
     "data": {
      "text/plain": [
       "\u001b[0;31mSignature:\u001b[0m \u001b[0mhq\u001b[0m\u001b[0;34m.\u001b[0m\u001b[0mheappush\u001b[0m\u001b[0;34m(\u001b[0m\u001b[0mheap\u001b[0m\u001b[0;34m,\u001b[0m \u001b[0mitem\u001b[0m\u001b[0;34m,\u001b[0m \u001b[0;34m/\u001b[0m\u001b[0;34m)\u001b[0m\u001b[0;34m\u001b[0m\u001b[0;34m\u001b[0m\u001b[0m\n",
       "\u001b[0;31mDocstring:\u001b[0m Push item onto heap, maintaining the heap invariant.\n",
       "\u001b[0;31mType:\u001b[0m      builtin_function_or_method\n"
      ]
     },
     "metadata": {},
     "output_type": "display_data"
    }
   ],
   "source": [
    "hq.heappush?"
   ]
  },
  {
   "cell_type": "code",
   "execution_count": 49,
   "metadata": {},
   "outputs": [],
   "source": [
    "def minimum_meeting_rooms(intervals):\n",
    "    sorted_i = sorted(intervals, key = lambda x: x[0])\n",
    "    h = [] # min heap to store the end points of rightmost overlapped intervals\n",
    "    count = 0\n",
    "    for interval in sorted_i:\n",
    "        while len(h)>0 and h[0]<=interval[0]:\n",
    "            hq.heappop(h)\n",
    "        hq.heappush(h, interval[1])\n",
    "        count = max(count, len(h))\n",
    "    return count"
   ]
  },
  {
   "cell_type": "code",
   "execution_count": 54,
   "metadata": {},
   "outputs": [
    {
     "data": {
      "text/plain": [
       "3"
      ]
     },
     "execution_count": 54,
     "metadata": {},
     "output_type": "execute_result"
    }
   ],
   "source": [
    "minimum_meeting_rooms([[0, 30],[5, 10],[15, 20],[11,14],[6,13]])"
   ]
  },
  {
   "cell_type": "code",
   "execution_count": null,
   "metadata": {},
   "outputs": [],
   "source": []
  }
 ],
 "metadata": {
  "kernelspec": {
   "display_name": "Python 3",
   "language": "python",
   "name": "python3"
  },
  "language_info": {
   "codemirror_mode": {
    "name": "ipython",
    "version": 3
   },
   "file_extension": ".py",
   "mimetype": "text/x-python",
   "name": "python",
   "nbconvert_exporter": "python",
   "pygments_lexer": "ipython3",
   "version": "3.8.5"
  }
 },
 "nbformat": 4,
 "nbformat_minor": 4
}
