{
 "cells": [
  {
   "cell_type": "markdown",
   "metadata": {},
   "source": [
    "## Leetcode 300. Longest Increasing Subsequence\n",
    "> Given an unsorted array of integers, find the length of longest increasing subsequence.   \n",
    "> **Example:**   \n",
    "> **Input:** [10,9,2,5,3,7,101,18]   \n",
    "> **Output:** 4  \n",
    "> Follow up: Could you improve it to $O(n\\log n)$ time complexity?"
   ]
  },
  {
   "cell_type": "markdown",
   "metadata": {},
   "source": [
    "## Solution: DP\n",
    "Straightforward DP solution uses v[i] to store the longest increasing subsequence with the last element being nums[i-1]. \n",
    "1. v[0]=0.\n",
    "2. To update v[i], we visit each index before and check if the value is less than nums[i-1] so that nums[i-1] can be append to it. Take maximum over all possible scenarios.  \n",
    "\n",
    "Time complexity is $O(n^2)$."
   ]
  },
  {
   "cell_type": "code",
   "execution_count": 2,
   "metadata": {},
   "outputs": [],
   "source": [
    "def lengthOfLIS(nums):\n",
    "    \"\"\"\n",
    "    :type nums: List[int]\n",
    "    :rtype: int\n",
    "    \"\"\"\n",
    "    v = [0]\n",
    "    n = len(nums)\n",
    "    res = 0\n",
    "    for i in range(n):\n",
    "        length = 1\n",
    "        for j in range(i):\n",
    "            if nums[j]<nums[i]:\n",
    "                length = max(length, 1+v[j+1])\n",
    "        v.append(length)\n",
    "        res = max(res, length)\n",
    "    return res"
   ]
  },
  {
   "cell_type": "code",
   "execution_count": 4,
   "metadata": {},
   "outputs": [
    {
     "data": {
      "text/plain": [
       "4"
      ]
     },
     "execution_count": 4,
     "metadata": {},
     "output_type": "execute_result"
    }
   ],
   "source": [
    "lengthOfLIS([10,9,2,5,3,7,101,18])"
   ]
  },
  {
   "cell_type": "code",
   "execution_count": null,
   "metadata": {},
   "outputs": [],
   "source": []
  },
  {
   "cell_type": "markdown",
   "metadata": {},
   "source": [
    "## Solution2: \n",
    "Use v[i] to store the minimum of the last element with increasing subsequence of length i+1. For example, if the input array is [10,9,2,5,3,7,101,18], then for the first 6 elements, v[0]=min_last_element{10,9,2,5,3,7} = 2, v[1]=min_last_element{[2,5],[2,3],[2,7],[5,7]} = 3, v[2]=min_last_element{[2,3,7],[2,5,7]} = 7.  Note that the array v must be monotonically increasing.\n",
    "Each time we consider one more element e. Use binary search to find the index i such that v[i]<e<v[i+1]. \n",
    "* If e<=v[0], we can update v[0]=e and the others v[i] are the same since e is the smallest element we have seen so far. \n",
    "* If v[i]<e<=v[i+1], it means e can be attached to the end of subsequence with length less than or equal to i. Hence we update v[i+1] = e\n",
    "* If e>v[-1], it means a new subsequence with larger length can be created by attaching e to the current max length subsequence. We append e to the array v.  \n",
    "Finally, we output len(v), which is the length of longest incraesing subsequence of the array.\n",
    "Time complexity of the above algorithm is $O(n\\log n)$."
   ]
  },
  {
   "cell_type": "code",
   "execution_count": 5,
   "metadata": {},
   "outputs": [],
   "source": [
    "def lengthOfLIS(nums):\n",
    "    v = [nums[0]]\n",
    "    for i in range(1,len(nums)):\n",
    "        if nums[i]<=v[0]:\n",
    "            v[0] = nums[i]\n",
    "        elif nums[i]>v[-1]:\n",
    "            v.append(nums[i])\n",
    "        else: # binary search the position of nums[i] in array v\n",
    "            left = 0\n",
    "            right = len(v)-1\n",
    "            while left<=right:\n",
    "                mid = int((right-left)/2)+left\n",
    "                if v[mid] < nums[i]:\n",
    "                    left = mid+1\n",
    "                else:\n",
    "                    right = mid-1\n",
    "            # must have v[left-1]<nums[i]<=v[left]\n",
    "            v[left] = nums[i]\n",
    "    return len(v)"
   ]
  },
  {
   "cell_type": "code",
   "execution_count": 6,
   "metadata": {},
   "outputs": [
    {
     "data": {
      "text/plain": [
       "4"
      ]
     },
     "execution_count": 6,
     "metadata": {},
     "output_type": "execute_result"
    }
   ],
   "source": [
    "lengthOfLIS([10,9,2,5,3,7,101,18])"
   ]
  },
  {
   "cell_type": "code",
   "execution_count": null,
   "metadata": {},
   "outputs": [],
   "source": []
  },
  {
   "cell_type": "markdown",
   "metadata": {},
   "source": [
    "## Leetcode 354. Russian Doll Envelopes\n",
    "> You have a number of envelopes with widths and heights given as a pair of integers $(w, h)$. One envelope can fit into another if and only if both the width and height of one envelope is **greater** than the width and height of the other envelope. (Rotation is not allowed)\n",
    "> What is the maximum number of envelopes can you Russian doll? (put one inside other)  \n",
    "> **Example:**   \n",
    "> Input: [[5,4],[6,4],[6,7],[2,3]]  \n",
    "> Output: 3   \n",
    "> Explaination: The maximum number of envelopes you can Russian doll is 3 ([2,3] => [5,4] => [6,7]).\n"
   ]
  },
  {
   "cell_type": "markdown",
   "metadata": {},
   "source": [
    "## DP with O(n^2) worst case time complexity"
   ]
  },
  {
   "cell_type": "code",
   "execution_count": null,
   "metadata": {},
   "outputs": [],
   "source": [
    "def maxEnvelopes(self, envelopes):\n",
    "        \"\"\"\n",
    "        :type envelopes: List[List[int]]\n",
    "        :rtype: int\n",
    "        \"\"\"\n",
    "        n = len(envelopes)\n",
    "        if n==0:\n",
    "            return 0\n",
    "        \n",
    "        e = sorted(envelopes, key=lambda x: x[0])\n",
    "\n",
    "        v = [0]\n",
    "        res = 0\n",
    "        \n",
    "        for i in range(n):\n",
    "            max_num = 1\n",
    "            for j in range(i):\n",
    "                if e[j][0]<e[i][0] and e[j][1]<e[i][1]:\n",
    "                    max_num = max(max_num, 1+v[j+1])\n",
    "            v.append(max_num)\n",
    "            res = max(max_num, res)\n",
    "\n",
    "        return res"
   ]
  },
  {
   "cell_type": "code",
   "execution_count": null,
   "metadata": {},
   "outputs": [],
   "source": []
  },
  {
   "cell_type": "markdown",
   "metadata": {},
   "source": [
    "## Better O(nlogn) time algorithm"
   ]
  },
  {
   "cell_type": "markdown",
   "metadata": {},
   "source": [
    "First, sort envelops according to width.   \n",
    "Similar to longest increasing subsequence (LIS), we record the min height of the last envelope for each possible length of incresing envelopes.  \n",
    "Unlike LIS problem, here we also need to make sure width is strictly greater. To resolve this issue, we sort the envelope such that if width are the same, larger height comes first. Then we can use exactly the same algorithm for LIS."
   ]
  },
  {
   "cell_type": "code",
   "execution_count": 14,
   "metadata": {},
   "outputs": [],
   "source": [
    "def maxEnvelopes(envelopes):\n",
    "        \"\"\"\n",
    "        :type envelopes: List[List[int]]\n",
    "        :rtype: int\n",
    "        \"\"\"\n",
    "        n = len(envelopes)\n",
    "        if n==0:\n",
    "            return 0\n",
    "        \n",
    "        e = sorted(envelopes, key=lambda x: (x[0],-x[1]))\n",
    "        \n",
    "        v=[]\n",
    "        for i in range(n):\n",
    "            h = e[i][1]\n",
    "            if i==0:\n",
    "                v.append(e[0][1])\n",
    "            else:\n",
    "                if h<v[0]:\n",
    "                    v[0] = h\n",
    "                elif h>v[-1]:\n",
    "                    v.append(h)\n",
    "                else:\n",
    "                    left = 0\n",
    "                    right = len(v)-1\n",
    "                    while left<=right:\n",
    "                        mid = int((right-left)/2)+left\n",
    "                        if v[mid]<h:\n",
    "                            left = mid+1\n",
    "                        else:\n",
    "                            right = mid-1\n",
    "                    v[left] = h\n",
    "        return len(v)"
   ]
  },
  {
   "cell_type": "code",
   "execution_count": 15,
   "metadata": {},
   "outputs": [
    {
     "data": {
      "text/plain": [
       "3"
      ]
     },
     "execution_count": 15,
     "metadata": {},
     "output_type": "execute_result"
    }
   ],
   "source": [
    "maxEnvelopes([[5,4],[6,4],[6,7],[2,3]])"
   ]
  },
  {
   "cell_type": "code",
   "execution_count": 22,
   "metadata": {},
   "outputs": [
    {
     "data": {
      "text/plain": [
       "False"
      ]
     },
     "execution_count": 22,
     "metadata": {},
     "output_type": "execute_result"
    }
   ],
   "source": [
    "(-1,True)<(-1,False)"
   ]
  },
  {
   "cell_type": "code",
   "execution_count": null,
   "metadata": {},
   "outputs": [],
   "source": []
  }
 ],
 "metadata": {
  "kernelspec": {
   "display_name": "Python 3",
   "language": "python",
   "name": "python3"
  },
  "language_info": {
   "codemirror_mode": {
    "name": "ipython",
    "version": 3
   },
   "file_extension": ".py",
   "mimetype": "text/x-python",
   "name": "python",
   "nbconvert_exporter": "python",
   "pygments_lexer": "ipython3",
   "version": "3.8.5"
  }
 },
 "nbformat": 4,
 "nbformat_minor": 4
}
