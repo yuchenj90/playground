{
 "cells": [
  {
   "cell_type": "markdown",
   "metadata": {},
   "source": [
    "# Leetcode 315\n",
    "> You are given an integer array nums and you have to return a new counts array. The counts array has the property where counts[i] is the number of smaller elements to the right of nums[i]. \n",
    "> Length of nums n <= 10^5, nums[i] has range of [-10^4, 10^4] (denoted by m)  \n",
    "> **Example:**  \n",
    "> Input array: [5,4,6,4,2,1]  \n",
    "> Output array: [4,2,3,2,1,0] "
   ]
  },
  {
   "cell_type": "markdown",
   "metadata": {},
   "source": [
    "## Solution 1: Brute force\n",
    "> Go through array reversely, count each occurance and store it in hash table. Using the hash table to recover the number of elements that is less than the current elements within O(m) time. The time complexity is O(mn), which beats the brute force solution of O(n^2)"
   ]
  },
  {
   "cell_type": "code",
   "execution_count": 9,
   "metadata": {},
   "outputs": [],
   "source": [
    "def countSmaller(nums):\n",
    "    \"\"\"\n",
    "    :type nums: List[int]\n",
    "    :rtype: List[int]\n",
    "    \"\"\"\n",
    "\n",
    "    count = {}\n",
    "\n",
    "    n = len(nums)\n",
    "    res = []\n",
    "    for i in reversed(nums):\n",
    "        if i in count.keys():\n",
    "            count[i] += 1\n",
    "        else:\n",
    "            count[i] = 1\n",
    "        s = 0\n",
    "        for k,v in count.items():\n",
    "            if k<i:\n",
    "                s += v\n",
    "        res.append(s)\n",
    "    return list(reversed(res))"
   ]
  },
  {
   "cell_type": "code",
   "execution_count": 11,
   "metadata": {},
   "outputs": [
    {
     "data": {
      "text/plain": [
       "[4, 2, 3, 2, 1, 0]"
      ]
     },
     "execution_count": 11,
     "metadata": {},
     "output_type": "execute_result"
    }
   ],
   "source": [
    "arr = [5,4,6,4,2,1]\n",
    "countSmaller(arr)"
   ]
  },
  {
   "cell_type": "markdown",
   "metadata": {},
   "source": [
    "## Solution 2: Merge sort\n",
    "> Perform a merge sort to the array and update the result array after each merge step. When performing the merge, we always insert each number of left array to right array using binary search. The results of the right array won't change, but for left array, the result for each position is updated by adding the number of elements in the right array that is less than the current number. The following example illustrate this idea:  \n",
    "> Start: [5], [4], [6], [4], [2], [1], position = [0], [1], [2], [3], [4], [5], result = [0,0,0,0,0,0]   \n",
    "> First merge: [4,5], [6], [2,4], [1], position = [1,0], [2], [4,3], [5], result = [0,1,0,0,1,0]  \n",
    "> Second merge: [4,5,6], [1,2,4], postion = [1,0,2], [5,4,3], result = [0,1,0], [0,1,2]  \n",
    "> Third merge: [1,2,4,4,5,6], position = [5,4,1,3,0,2], result = [0,1,2,2,4,3]  \n",
    "> Finally, we need to adjust the sequence of the result according to the original sequence of the array (using position). The time complexity is the same as merge sort, which is $O(nlogn)$."
   ]
  },
  {
   "cell_type": "code",
   "execution_count": 67,
   "metadata": {},
   "outputs": [],
   "source": [
    "def mergeSort(nums, pos, res):\n",
    "    '''\n",
    "        Perform a merge sort to nums. \n",
    "        pos is the original position of each element in nums. \n",
    "        res is the results counting the number of smaller element after each element.\n",
    "        return the sorted array, position and the updated results\n",
    "    '''\n",
    "    if len(nums)==1:\n",
    "        return nums, pos, res\n",
    "    else:\n",
    "        i = int((len(nums)-1)/2)\n",
    "        n1,p1,r1 = mergeSort(nums[0:i+1], pos[0:i+1], res[0:i+1])\n",
    "        n2,p2,r2 = mergeSort(nums[i+1:],pos[i+1:],res[i+1:])\n",
    "        # merge\n",
    "        i, j = 0, 0\n",
    "        n, p, r = [], [], []\n",
    "        while (i<len(n1) or j<len(n2)):\n",
    "            if i==len(n1):\n",
    "                left = False\n",
    "            elif j==len(n2):\n",
    "                left = True\n",
    "            else:\n",
    "                left = (n1[i] <= n2[j])\n",
    "            if left:\n",
    "                n.append(n1[i])\n",
    "                p.append(p1[i])\n",
    "                r.append(r1[i]+j)\n",
    "                i += 1\n",
    "            else:\n",
    "                n.append(n2[j])\n",
    "                p.append(p2[j])\n",
    "                r.append(r2[j])\n",
    "                j += 1\n",
    "        return n,p,r\n",
    "    \n",
    "    \n",
    "def countSmaller(nums):\n",
    "    \"\"\"\n",
    "    :type nums: List[int]\n",
    "    :rtype: List[int]\n",
    "    \"\"\"\n",
    "    pos = range(len(nums))\n",
    "    res = [0 for _ in range(len(nums))]\n",
    "    n,p,r = mergeSort(nums, pos, res)\n",
    "    res = []\n",
    "    for i in np.argsort(p):\n",
    "        res.append(r[i])\n",
    "    return res"
   ]
  },
  {
   "cell_type": "code",
   "execution_count": 68,
   "metadata": {},
   "outputs": [
    {
     "data": {
      "text/plain": [
       "[3, 3, 2, 2, 1, 0]"
      ]
     },
     "execution_count": 68,
     "metadata": {},
     "output_type": "execute_result"
    }
   ],
   "source": [
    "countSmaller([4,5,3,6,2,1])"
   ]
  },
  {
   "cell_type": "code",
   "execution_count": 69,
   "metadata": {},
   "outputs": [
    {
     "data": {
      "text/plain": [
       "[4, 2, 3, 2, 1, 0]"
      ]
     },
     "execution_count": 69,
     "metadata": {},
     "output_type": "execute_result"
    }
   ],
   "source": [
    "arr = [5,4,6,4,2,1]\n",
    "countSmaller(arr)"
   ]
  },
  {
   "cell_type": "markdown",
   "metadata": {},
   "source": [
    "### Note:\n",
    "> A similar idea is divide and conquer, where we split the array into two parts and count separately. Then we merge the two parts together using similar approach as we seen in merge sort. "
   ]
  },
  {
   "cell_type": "markdown",
   "metadata": {},
   "source": [
    "# Solution 3: Binary Search Tree\n",
    "> The idea is simple. We add numbers to the BST reversely from the original list. As long as the BST is balanced, each time we need O(logn) time to identify the number of elements that are smaller than the current element. Then we insert the element into the BST, which also use O(nlogn) time.  \n",
    "> To balance the BST, we can consider Red-black tree, AVL tree, etc."
   ]
  },
  {
   "cell_type": "code",
   "execution_count": 113,
   "metadata": {},
   "outputs": [],
   "source": [
    "from bintrees import RBTree as rb"
   ]
  },
  {
   "cell_type": "code",
   "execution_count": 114,
   "metadata": {},
   "outputs": [],
   "source": [
    "T = rb()"
   ]
  },
  {
   "cell_type": "code",
   "execution_count": null,
   "metadata": {},
   "outputs": [],
   "source": [
    "def countSmaller(nums):\n",
    "    \"\"\"\n",
    "    :type nums: List[int]\n",
    "    :rtype: List[int]\n",
    "    \"\"\"\n",
    "    T = rb()\n",
    "    res = []\n",
    "    for i in reversed(nums):\n",
    "        \n",
    "        T.insert(i,0)"
   ]
  },
  {
   "cell_type": "markdown",
   "metadata": {},
   "source": [
    "# Solution 4: Binary Indexed Tree\n",
    "> Step 1: Rank the array from smallest to largest to reduce the magnitude of each number in the array. For example, an array of [5,4,6,4,2,1,7,3] would become [6,5,7,5,2,1,8,3], with each number corresponds to the rank of the element in the original array (in case of ties, we use largest rank as the ranks for ties). Notice that using the rank array yields the same results as the original array.  \n",
    "> Step 2: Maintain a Binary Indexed Tree to record the number of smaller element so far by adding numbers reversely from the rank array. In the above example, we first add 3 to the BIT by increasing BIT[3,4,8] by 1. Then we add 8 by increasing BIT[8] by 1, followed by adding 1 by increasing BIT[1,2,4,8] by 1, and so on. To get the number of smaller elements for rank r, we can simply call getSum to compute the cumsum before r. For example, to compute number of smaller elements before 5 in the above example, we use A[1:4] = BIT[4] = 3, as it was increased by 1 each time when adding 3,1,2. Similarly, to get smaller elements before 7, we use A[1:6] = BIT[4] + BIT[6] = 3 + 1 = 4, as BIT[4] = 3 and BIT[6] = 1 was increased by 1 when adding 5.  \n",
    "Finally, we reverse the result array and get the final answer. The algorithm takes O(nlogn) time, as sorting, inserting into BIT, get sum from BIT all takes O(nlogn) time to complete."
   ]
  },
  {
   "cell_type": "code",
   "execution_count": 115,
   "metadata": {},
   "outputs": [
    {
     "data": {
      "text/plain": [
       "1"
      ]
     },
     "execution_count": 115,
     "metadata": {},
     "output_type": "execute_result"
    }
   ],
   "source": [
    "3&(-3)"
   ]
  },
  {
   "cell_type": "code",
   "execution_count": 118,
   "metadata": {},
   "outputs": [
    {
     "name": "stdout",
     "output_type": "stream",
     "text": [
      "0 4\n",
      "1 5\n",
      "2 6\n"
     ]
    }
   ],
   "source": [
    "for i, val in enumerate([4,5,6]):\n",
    "    print(i,val)"
   ]
  },
  {
   "cell_type": "code",
   "execution_count": 81,
   "metadata": {},
   "outputs": [],
   "source": [
    "def countSmaller(nums):\n",
    "    rank, N, res = {val: i + 1 for i, val in enumerate(sorted(nums))}, len(nums), []\n",
    "    BITree = [0] * (N + 1)\n",
    "    \n",
    "    def update(i):\n",
    "        while i <= N:\n",
    "            print(i)\n",
    "            BITree[i] += 1\n",
    "            i += (i & -i)\n",
    "        \n",
    "    def getSum(i):\n",
    "        s = 0\n",
    "        while i:\n",
    "            s += BITree[i]\n",
    "            i -= (i & -i)\n",
    "        return s\n",
    "    \n",
    "    for x in reversed(nums):\n",
    "        res += getSum(rank[x] - 1),\n",
    "        print(res,BITree)\n",
    "        update(rank[x])\n",
    "    return res[::-1]"
   ]
  },
  {
   "cell_type": "code",
   "execution_count": 83,
   "metadata": {},
   "outputs": [
    {
     "name": "stdout",
     "output_type": "stream",
     "text": [
      "[0] [0, 0, 0, 0, 0, 0, 0, 0, 0]\n",
      "3\n",
      "4\n",
      "8\n",
      "[0, 1] [0, 0, 0, 1, 1, 0, 0, 0, 1]\n",
      "8\n",
      "[0, 1, 0] [0, 0, 0, 1, 1, 0, 0, 0, 2]\n",
      "1\n",
      "2\n",
      "4\n",
      "8\n",
      "[0, 1, 0, 1] [0, 1, 1, 1, 2, 0, 0, 0, 3]\n",
      "2\n",
      "4\n",
      "8\n",
      "[0, 1, 0, 1, 3] [0, 1, 2, 1, 3, 0, 0, 0, 4]\n",
      "5\n",
      "6\n",
      "8\n",
      "[0, 1, 0, 1, 3, 4] [0, 1, 2, 1, 3, 1, 1, 0, 5]\n",
      "7\n",
      "8\n",
      "[0, 1, 0, 1, 3, 4, 3] [0, 1, 2, 1, 3, 1, 1, 1, 6]\n",
      "5\n",
      "6\n",
      "8\n",
      "[0, 1, 0, 1, 3, 4, 3, 5] [0, 1, 2, 1, 3, 2, 2, 1, 7]\n",
      "6\n",
      "8\n"
     ]
    },
    {
     "data": {
      "text/plain": [
       "[5, 3, 4, 3, 1, 0, 1, 0]"
      ]
     },
     "execution_count": 83,
     "metadata": {},
     "output_type": "execute_result"
    }
   ],
   "source": [
    "arr = [5,4,6,4,2,1,7,3]\n",
    "countSmaller(arr)"
   ]
  },
  {
   "cell_type": "code",
   "execution_count": null,
   "metadata": {},
   "outputs": [],
   "source": []
  },
  {
   "cell_type": "markdown",
   "metadata": {},
   "source": [
    "# Leetcode 327. Count of Range Sum"
   ]
  },
  {
   "cell_type": "markdown",
   "metadata": {},
   "source": [
    "> Given an integer array nums, return the number of range sums that lie in [lower, upper] inclusive.\n",
    "Range sum S(i, j) is defined as the sum of the elements in nums between indices i and j (i ≤ j), inclusive.  \n",
    "> **Example:**  \n",
    "> Input: nums = [-2,-1,1,3], lower=-1, upper = 3  \n",
    "> Output: 6  \n",
    "> Explanation: S(0,3)=1, S(1,1)=-1, S(1,2)=0, S(1,3)=3, S(2,2)=1, S(3,3)=3 all falls in range [-1,3]."
   ]
  },
  {
   "cell_type": "markdown",
   "metadata": {},
   "source": [
    "# Solution 1: Brute Force\n",
    "> Compute range sum using prefix sum and check if each sum falls into the [lower, upper] range. Time complexity is O(n^2)"
   ]
  },
  {
   "cell_type": "code",
   "execution_count": 101,
   "metadata": {},
   "outputs": [],
   "source": [
    "def countRangeSum(nums, lower, upper):\n",
    "    \"\"\"\n",
    "    :type nums: List[int]\n",
    "    :type lower: int\n",
    "    :type upper: int\n",
    "    :rtype: int\n",
    "    \"\"\"\n",
    "    s = [0]\n",
    "    for n in nums:\n",
    "        s.append(s[-1]+n)\n",
    "    res = 0\n",
    "    for i in range(len(s)):\n",
    "        for j in range(i+1, len(s)):\n",
    "            print(s[j]-s[i])\n",
    "            res += ((lower<=s[j]-s[i]) and (upper>=s[j]-s[i]))\n",
    "    return res"
   ]
  },
  {
   "cell_type": "code",
   "execution_count": 102,
   "metadata": {},
   "outputs": [
    {
     "name": "stdout",
     "output_type": "stream",
     "text": [
      "-2\n",
      "-3\n",
      "-2\n",
      "1\n",
      "-1\n",
      "0\n",
      "3\n",
      "1\n",
      "4\n",
      "3\n"
     ]
    },
    {
     "data": {
      "text/plain": [
       "6"
      ]
     },
     "execution_count": 102,
     "metadata": {},
     "output_type": "execute_result"
    }
   ],
   "source": [
    "countRangeSum([-2,-1,1,3], -1, 3)"
   ]
  },
  {
   "cell_type": "markdown",
   "metadata": {},
   "source": [
    "# Solution 2: Divide and Conquer\n",
    "> We split the list of numbers into two lists: left and right. The range sum counts are computed within left and right recursively. The final count equals to the range sum count in the left list plus the range sum count in the right list, plus the range sum start from left list and end at right list. Now we describe a method to compute the count of range sum from left list and end at right list.  \n",
    "> For the left list, we can compute all suffix sums. For the right list, we compute all prefix sums. The range sum must be a sum of a suffix sum in the left list and a prefix sum in the right list. Enumerating such combinations take O(n^2) time, which makes the overall time complexity the same as brute force solution. However, we can do this in a smarter way. Since the order of the combinations do not matter, we can sort the suffix sums and prefix sums. Then starting from each prefix sums in the right list, we can perform a binary search on the left list to count the number of suffix sums that would produce total sums within the desired range. The time complexity for both sorting and this procedure take O(nlogn).  \n",
    "> For time complexity, we have T(n) = 2T(n/2) + O(nlogn). Let S(n)=T(n)/n, we have S(n) = S(n/2) + O(logn), hence $S(n) = O(logn + log(n/2) + log(n/4) + ...) = O((logn)^2)$, which means $T(n) = O(n(logn)^2)$\n"
   ]
  },
  {
   "cell_type": "code",
   "execution_count": 98,
   "metadata": {},
   "outputs": [],
   "source": [
    "def findCount(arr, lb, ub):\n",
    "    # Find first position such that arr[pos]>=lb\n",
    "    left = 0\n",
    "    right = len(arr)-1\n",
    "    if arr[0]>=lb:\n",
    "        pos1 = 0\n",
    "    else:\n",
    "        while (left<=right):\n",
    "            mid = int((right-left)/2)+left\n",
    "            if arr[mid]<lb:\n",
    "                left = mid + 1\n",
    "            else:\n",
    "                right = mid - 1\n",
    "        pos1 = left\n",
    "        \n",
    "    # Find last position such that arr[pos]<=ub\n",
    "    left = 0\n",
    "    right = len(arr)-1\n",
    "    if arr[right]<=ub:\n",
    "        pos2 = right\n",
    "    else:\n",
    "        while (left<=right):\n",
    "            mid = int((right-left)/2)+left\n",
    "            if arr[mid]<=ub:\n",
    "                left = mid + 1\n",
    "            else:\n",
    "                right = mid - 1\n",
    "        pos2 = right\n",
    "    \n",
    "    return pos2 - pos1 + 1 "
   ]
  },
  {
   "cell_type": "code",
   "execution_count": 104,
   "metadata": {},
   "outputs": [],
   "source": [
    "def countRangeSum(nums, lower, upper):\n",
    "    \"\"\"\n",
    "    :type nums: List[int]\n",
    "    :type lower: int\n",
    "    :type upper: int\n",
    "    :rtype: int\n",
    "    \"\"\"\n",
    "    if len(nums)==0:\n",
    "        return 0\n",
    "    elif len(nums)==1:\n",
    "        if nums[0]>upper or nums[0]<lower:\n",
    "            return 0\n",
    "        else:\n",
    "            return 1\n",
    "    else:\n",
    "        n = int((len(nums)+1)/2)\n",
    "        left = nums[0:n]\n",
    "        right = nums[n:]\n",
    "        # compute count of range sum starting from index in left and end with index in right\n",
    "        left_suffix = []\n",
    "        s = 0\n",
    "        for n in reversed(left):\n",
    "            s += n\n",
    "            left_suffix.append(s)\n",
    "        left_suffix = sorted(left_suffix)\n",
    "\n",
    "        s = 0\n",
    "        count = 0\n",
    "        for n in right:\n",
    "            s += n\n",
    "            lb = lower - s\n",
    "            ub = upper - s\n",
    "            count += findCount(left_suffix, lb, ub)\n",
    "            \n",
    "        return countRangeSum(left, lower, upper) + countRangeSum(right, lower, upper) + count"
   ]
  },
  {
   "cell_type": "code",
   "execution_count": 105,
   "metadata": {},
   "outputs": [
    {
     "data": {
      "text/plain": [
       "6"
      ]
     },
     "execution_count": 105,
     "metadata": {},
     "output_type": "execute_result"
    }
   ],
   "source": [
    "countRangeSum([-2,-1,1,3], -1, 3)"
   ]
  },
  {
   "cell_type": "code",
   "execution_count": null,
   "metadata": {},
   "outputs": [],
   "source": []
  },
  {
   "cell_type": "markdown",
   "metadata": {},
   "source": [
    "## Similar approach can be used on Leetcode 493 Reverse Pairs. \n",
    "> Given an array nums, we call $(i, j)$ an important reverse pair if $i < j$ and $nums[i] > 2 * nums[j]$. You need to return the number of important reverse pairs in the given array.  \n",
    "> **Example:**  \n",
    "> Input: $[1,3,2,3,1]$  \n",
    "> Output: $2$  \n",
    "> Explaination: $(1,4)$ and $(3,4)$ are two important reverse pairs"
   ]
  },
  {
   "cell_type": "markdown",
   "metadata": {},
   "source": [
    "### Solution\n",
    "> We can use similar divide and conquer approach to solve this problem. First, we split the array into left and right two arrays. The total important reverse pairs in the original array equals to the sum of the important reverse pairs in the left and right array respectively, plus the important reverse pair which has index $i$ in the left array while index $j$ in the right array. To compute the later, notice that we can always sort the left array in an ascending order, and for each element in the right array, we can do a binary search in the sorted left array to compute the number of elements that are larger than 2 times the element. These operations can be performed in $O(nlogn)$ time. Hence, the overall time complexity of the algorithm is $O(n(logn)^2)$"
   ]
  },
  {
   "cell_type": "code",
   "execution_count": 110,
   "metadata": {},
   "outputs": [],
   "source": [
    "def reversePairs(nums):\n",
    "    def binarySearch(x, arr):\n",
    "        '''\n",
    "            Find number of elements in sorted arr that are larger than x\n",
    "        '''\n",
    "        left = 0\n",
    "        right = len(arr)-1\n",
    "        if arr[right]<=x:\n",
    "            return 0\n",
    "        else:\n",
    "            while (left<=right):\n",
    "                mid = int((right-left)/2) + left\n",
    "                if arr[mid]<=x:\n",
    "                    left = mid + 1\n",
    "                else:\n",
    "                    right = mid - 1\n",
    "            return len(arr) - 1 - right\n",
    "        \n",
    "    if len(nums)<=1:\n",
    "        return 0\n",
    "    else:\n",
    "        n = int((len(nums)+1)/2)\n",
    "        left = nums[0:n]\n",
    "        right = nums[n:]\n",
    "        count = 0\n",
    "        \n",
    "        # Compute the number of important reverse pair that has an index in left and another index in right\n",
    "        left_sorted = sorted(left)\n",
    "        for k in right:\n",
    "            count += binarySearch(k*2, left_sorted)\n",
    "        return count + reversePairs(left) + reversePairs(right)\n",
    "    \n"
   ]
  },
  {
   "cell_type": "code",
   "execution_count": 111,
   "metadata": {},
   "outputs": [
    {
     "data": {
      "text/plain": [
       "2"
      ]
     },
     "execution_count": 111,
     "metadata": {},
     "output_type": "execute_result"
    }
   ],
   "source": [
    "reversePairs([1,3,2,3,1])"
   ]
  },
  {
   "cell_type": "markdown",
   "metadata": {},
   "source": [
    "# Solution 3: Binary Indexed Tree"
   ]
  },
  {
   "cell_type": "code",
   "execution_count": null,
   "metadata": {},
   "outputs": [],
   "source": []
  },
  {
   "cell_type": "code",
   "execution_count": null,
   "metadata": {},
   "outputs": [],
   "source": []
  },
  {
   "cell_type": "code",
   "execution_count": null,
   "metadata": {},
   "outputs": [],
   "source": []
  },
  {
   "cell_type": "code",
   "execution_count": null,
   "metadata": {},
   "outputs": [],
   "source": []
  },
  {
   "cell_type": "code",
   "execution_count": null,
   "metadata": {},
   "outputs": [],
   "source": []
  }
 ],
 "metadata": {
  "kernelspec": {
   "display_name": "Python 3",
   "language": "python",
   "name": "python3"
  },
  "language_info": {
   "codemirror_mode": {
    "name": "ipython",
    "version": 3
   },
   "file_extension": ".py",
   "mimetype": "text/x-python",
   "name": "python",
   "nbconvert_exporter": "python",
   "pygments_lexer": "ipython3",
   "version": "3.8.4"
  }
 },
 "nbformat": 4,
 "nbformat_minor": 4
}
