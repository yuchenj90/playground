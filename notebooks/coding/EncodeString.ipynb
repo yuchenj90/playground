{
 "cells": [
  {
   "cell_type": "markdown",
   "metadata": {},
   "source": [
    "## Leetcode 471: encode string with shortest length\n",
    "> Given a non-empty string, encode the string such that its encoded length is the shortest.  \n",
    "The encoding rule is: k\\[encoded_string\\], where the encoded_string inside the square brackets is being repeated exactly k times.  \n",
    "\n",
    "> 1. k will be a positive integer and encoded string will not be empty or have extra space.\n",
    "> 2. You may assume that the input string contains only lowercase English letters. The string's length is at most 160.\n",
    "> 3. If an encoding process does not make the string shorter, then do not encode it. If there are several solutions, return any of them is fine.\n",
    "\n",
    "> Example:  \n",
    "> Input: \"abbbabbbcabbbabbbc\"  \n",
    "> Output: \"2[2[abbb]c]\""
   ]
  },
  {
   "cell_type": "markdown",
   "metadata": {},
   "source": [
    "> Solution:  \n",
    "> Use $v[i][j]$ to denote the min length of the encode of string $s[i:j)$.  \n",
    "> Dynamic Programming, compute substrings with smaller length first, and use the following formula to update:  \n",
    "> $v[i][j] = \\min_{k\\in{i+1, ..., j}}\\{v[i][k]+v[k][j]\\}$.  \n",
    "> Each time, $v[i][k]$ and $v[k][j]$ are known (when $i<k<j$), since smaller length substrings are all computed, it remains to compute $v[i][j]$.\n",
    "> To compute $v[i][j]$ directly without any split in the middle, it only requires to check if the entire substring $s[i:j)$ can be represented as $x[string]$. Note that t can be written as $k[t']$ if and only if the second position where $t$ occurred in $t+t$ is before the length of $t$."
   ]
  },
  {
   "cell_type": "code",
   "execution_count": 17,
   "metadata": {},
   "outputs": [],
   "source": [
    "t = \"abcdabcd\""
   ]
  },
  {
   "cell_type": "code",
   "execution_count": 18,
   "metadata": {},
   "outputs": [],
   "source": [
    "pos = (t+t)[1:].find(t)+1"
   ]
  },
  {
   "cell_type": "code",
   "execution_count": 19,
   "metadata": {},
   "outputs": [
    {
     "data": {
      "text/plain": [
       "4"
      ]
     },
     "execution_count": 19,
     "metadata": {},
     "output_type": "execute_result"
    }
   ],
   "source": [
    "pos"
   ]
  },
  {
   "cell_type": "code",
   "execution_count": 29,
   "metadata": {},
   "outputs": [],
   "source": [
    "def encode_string(s):\n",
    "    n = len(s)\n",
    "    v = []\n",
    "    for i in range(n+1):\n",
    "        v.append([\"\" for _ in range(n+1)])\n",
    "    for step in range(1,n+1):\n",
    "        for i in range(n-step+1):\n",
    "            j = i+step\n",
    "            if step==1:\n",
    "                v[i][j] = s[i:j]\n",
    "            else:\n",
    "                v[i][j] = s[i:j]\n",
    "                t = s[i:j]\n",
    "                pos = (t+t)[1:].find(t)+1\n",
    "                num_repeats = int(len(t)/pos)\n",
    "                if num_repeats > 1: # s[i:j] itself can be write as k[string]\n",
    "                    cand = str(num_repeats) + '[' + t[0:pos] + ']'\n",
    "                    if len(cand) < step:\n",
    "                        v[i][j] = cand\n",
    "                    \n",
    "                for k in range(i+1, j):\n",
    "                    if len(v[i][k]) + len(v[k][j]) < len(v[i][j]):\n",
    "                        v[i][j] = v[i][k] + v[k][j]\n",
    "                        \n",
    "    return v[0][n]"
   ]
  },
  {
   "cell_type": "code",
   "execution_count": 35,
   "metadata": {},
   "outputs": [
    {
     "data": {
      "text/plain": [
       "'abc2[abczzzz]'"
      ]
     },
     "execution_count": 35,
     "metadata": {},
     "output_type": "execute_result"
    }
   ],
   "source": [
    "encode_string('abcabczzzzabczzzz')"
   ]
  },
  {
   "cell_type": "code",
   "execution_count": 33,
   "metadata": {},
   "outputs": [
    {
     "data": {
      "text/plain": [
       "11"
      ]
     },
     "execution_count": 33,
     "metadata": {},
     "output_type": "execute_result"
    }
   ],
   "source": [
    "len('3[ab]2[abc]')"
   ]
  },
  {
   "cell_type": "code",
   "execution_count": 34,
   "metadata": {},
   "outputs": [
    {
     "data": {
      "text/plain": [
       "9"
      ]
     },
     "execution_count": 34,
     "metadata": {},
     "output_type": "execute_result"
    }
   ],
   "source": [
    "len('4[ab]cabc')"
   ]
  },
  {
   "cell_type": "code",
   "execution_count": null,
   "metadata": {},
   "outputs": [],
   "source": []
  }
 ],
 "metadata": {
  "kernelspec": {
   "display_name": "Python 3",
   "language": "python",
   "name": "python3"
  },
  "language_info": {
   "codemirror_mode": {
    "name": "ipython",
    "version": 3
   },
   "file_extension": ".py",
   "mimetype": "text/x-python",
   "name": "python",
   "nbconvert_exporter": "python",
   "pygments_lexer": "ipython3",
   "version": "3.8.5"
  }
 },
 "nbformat": 4,
 "nbformat_minor": 4
}
