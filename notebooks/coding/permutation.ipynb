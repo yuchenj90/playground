{
 "cells": [
  {
   "cell_type": "markdown",
   "id": "78c5e75e-e5c9-4fd0-85eb-c1f2932ee2ee",
   "metadata": {},
   "source": [
    "Find all the permutations of a given string.\n",
    "- Input: \"app\"\n",
    "- Output: [\"app\", \"pap\", \"ppa\"]"
   ]
  },
  {
   "cell_type": "code",
   "execution_count": 10,
   "id": "9b75c374-2f61-4cd8-aee5-5910094d5348",
   "metadata": {
    "tags": []
   },
   "outputs": [],
   "source": [
    "from typing import List, Dict\n",
    "\n",
    "def permutation(s: str) -> List[str]:\n",
    "\n",
    "    def recur(s:str, arr:Dict[str, int], res: List[str], n: int):\n",
    "        if len(s) == n:\n",
    "            res.append(s)\n",
    "        else:\n",
    "            l = list(arr.keys())\n",
    "            for d in l:\n",
    "                arr[d] -= 1\n",
    "                if arr[d] == 0:\n",
    "                    del arr[d]\n",
    "                recur(s+d, arr, res, n)\n",
    "                if d not in arr:\n",
    "                    arr[d] = 0\n",
    "                arr[d] += 1\n",
    "\n",
    "    res = []\n",
    "    d = {}\n",
    "    for x in s:\n",
    "        if x not in d:\n",
    "            d[x] = 0\n",
    "        d[x] += 1\n",
    "    \n",
    "    recur(\"\", d, res, len(s))\n",
    "    return res\n"
   ]
  },
  {
   "cell_type": "code",
   "execution_count": 14,
   "id": "af563b5e-3474-4f5f-afcf-83677f3df977",
   "metadata": {
    "tags": []
   },
   "outputs": [
    {
     "data": {
      "text/plain": [
       "['apple',\n",
       " 'appel',\n",
       " 'aplep',\n",
       " 'aplpe',\n",
       " 'apepl',\n",
       " 'apelp',\n",
       " 'alppe',\n",
       " 'alpep',\n",
       " 'alepp',\n",
       " 'aeppl',\n",
       " 'aeplp',\n",
       " 'aelpp',\n",
       " 'pplea',\n",
       " 'pplae',\n",
       " 'ppeal',\n",
       " 'ppela',\n",
       " 'ppale',\n",
       " 'ppael',\n",
       " 'pleap',\n",
       " 'plepa',\n",
       " 'plape',\n",
       " 'plaep',\n",
       " 'plpea',\n",
       " 'plpae',\n",
       " 'peapl',\n",
       " 'pealp',\n",
       " 'pepla',\n",
       " 'pepal',\n",
       " 'pelap',\n",
       " 'pelpa',\n",
       " 'paple',\n",
       " 'papel',\n",
       " 'palep',\n",
       " 'palpe',\n",
       " 'paepl',\n",
       " 'paelp',\n",
       " 'lppea',\n",
       " 'lppae',\n",
       " 'lpeap',\n",
       " 'lpepa',\n",
       " 'lpape',\n",
       " 'lpaep',\n",
       " 'leppa',\n",
       " 'lepap',\n",
       " 'leapp',\n",
       " 'lappe',\n",
       " 'lapep',\n",
       " 'laepp',\n",
       " 'eppal',\n",
       " 'eppla',\n",
       " 'epalp',\n",
       " 'epapl',\n",
       " 'eplpa',\n",
       " 'eplap',\n",
       " 'eappl',\n",
       " 'eaplp',\n",
       " 'ealpp',\n",
       " 'elppa',\n",
       " 'elpap',\n",
       " 'elapp']"
      ]
     },
     "execution_count": 14,
     "metadata": {},
     "output_type": "execute_result"
    }
   ],
   "source": [
    "permutation(\"apple\")"
   ]
  },
  {
   "cell_type": "code",
   "execution_count": null,
   "id": "1ae006a5-f5e8-4aa8-96df-7b5fd909b68a",
   "metadata": {},
   "outputs": [],
   "source": []
  }
 ],
 "metadata": {
  "kernelspec": {
   "display_name": "Python 3 (ipykernel)",
   "language": "python",
   "name": "python3"
  },
  "language_info": {
   "codemirror_mode": {
    "name": "ipython",
    "version": 3
   },
   "file_extension": ".py",
   "mimetype": "text/x-python",
   "name": "python",
   "nbconvert_exporter": "python",
   "pygments_lexer": "ipython3",
   "version": "3.8.12"
  }
 },
 "nbformat": 4,
 "nbformat_minor": 5
}
