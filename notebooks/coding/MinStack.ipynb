{
 "cells": [
  {
   "cell_type": "markdown",
   "metadata": {},
   "source": [
    "**Problem:**\n",
    "\n",
    "Design a stack that supports push, pop, top, and retrieving the minimum element in constant time.\n",
    "\n",
    "* MinStack(arr) -- initialize MinStack from list arr\n",
    "* push(x) -- Push element x onto stack.\n",
    "* pop() -- Removes the element on top of the stack.\n",
    "* top() -- Get the top element.\n",
    "* getMin() -- Retrieve the minimum element in the stack."
   ]
  },
  {
   "cell_type": "markdown",
   "metadata": {},
   "source": [
    "**Solution:**\n",
    "> In order to retrieve min element in constant time, we have following two ways.  \n",
    "> * Maintain another stack in the same time tracking current minimum element (minstack). After new element pushed in, update both stacks. When pop out an element, also pop out the top element in the minstack. getMin() will get the top element from the minstack. The additional space complexity is O(n).\n",
    "> * In order to use only O(1) additional space, we can keep track of the current min element. Each time we push x to the stack\n",
    ">   * if x < current_min, we push 2x - current_min < x to the stack and then update the current_min to x.\n",
    ">   *  if x >= current_min, we push x to the stack.  \n",
    "> To get top element, \n",
    ">   * if top element < current_min, then top element is current_min\n",
    ">   * if top element >= current_min, then top element is the same.  \n",
    "> To pop out an element,\n",
    ">   * if top element < current_min, update current_min = 2*current_min - top value and pop the top element\n",
    ">   * if top element >= current_min, then pop the top element"
   ]
  },
  {
   "cell_type": "code",
   "execution_count": null,
   "metadata": {},
   "outputs": [],
   "source": []
  },
  {
   "cell_type": "code",
   "execution_count": 13,
   "metadata": {},
   "outputs": [],
   "source": [
    "class MinStack(object):\n",
    "\n",
    "    def __init__(self):\n",
    "        \"\"\"\n",
    "        initialize your data structure here.\n",
    "        \"\"\"\n",
    "        self.arr = []\n",
    "        self.minEle = None\n",
    "        \n",
    "\n",
    "    def push(self, x):\n",
    "        \"\"\"\n",
    "        :type x: int\n",
    "        :rtype: None\n",
    "        \"\"\"\n",
    "        if len(self.arr)==0:\n",
    "            self.arr.append(x)\n",
    "            self.minEle = x\n",
    "        else:\n",
    "            if x<self.minEle:\n",
    "                self.arr.append(2*x - self.minEle)\n",
    "                self.minEle = x\n",
    "            else:\n",
    "                self.arr.append(x)\n",
    "\n",
    "    def pop(self):\n",
    "        \"\"\"\n",
    "        :rtype: None\n",
    "        \"\"\"\n",
    "        if len(self.arr) > 0:\n",
    "            if self.arr[-1]<self.minEle:\n",
    "                self.minEle = 2*self.minEle - self.arr[-1]\n",
    "                self.arr.pop()\n",
    "            else:\n",
    "                self.arr.pop()\n",
    "            if len(self.arr)==0:\n",
    "                self.minEle = None\n",
    "\n",
    "    def top(self):\n",
    "        \"\"\"\n",
    "        :rtype: int\n",
    "        \"\"\"\n",
    "        if len(self.arr) > 0:\n",
    "            if self.arr[-1]<self.minEle:\n",
    "                return self.minEle\n",
    "            else:\n",
    "                return self.arr[-1]\n",
    "        else:\n",
    "            return None\n",
    "\n",
    "    def getMin(self):\n",
    "        \"\"\"\n",
    "        :rtype: int\n",
    "        \"\"\"\n",
    "        return self.minEle\n",
    "\n",
    "\n"
   ]
  },
  {
   "cell_type": "code",
   "execution_count": 24,
   "metadata": {},
   "outputs": [],
   "source": [
    "obj = MinStack()"
   ]
  },
  {
   "cell_type": "code",
   "execution_count": 28,
   "metadata": {},
   "outputs": [
    {
     "name": "stdout",
     "output_type": "stream",
     "text": [
      "67\n",
      "79\n",
      "92\n",
      "61\n",
      "70\n",
      "18\n",
      "66\n",
      "57\n",
      "72\n",
      "83\n"
     ]
    }
   ],
   "source": [
    "import random\n",
    "\n",
    "for x in range(10):\n",
    "    a = random.randint(1,101)\n",
    "    print(a)\n",
    "    obj.push(a)"
   ]
  },
  {
   "cell_type": "code",
   "execution_count": 29,
   "metadata": {},
   "outputs": [
    {
     "data": {
      "text/plain": [
       "[67, 79, 92, 55, 70, -25, 66, 57, 72, 83]"
      ]
     },
     "execution_count": 29,
     "metadata": {},
     "output_type": "execute_result"
    }
   ],
   "source": [
    "obj.arr"
   ]
  },
  {
   "cell_type": "code",
   "execution_count": 30,
   "metadata": {},
   "outputs": [
    {
     "name": "stdout",
     "output_type": "stream",
     "text": [
      "83 18\n",
      "72 18\n",
      "57 18\n",
      "66 18\n",
      "18 18\n",
      "70 61\n",
      "61 61\n",
      "92 67\n",
      "79 67\n",
      "67 67\n"
     ]
    }
   ],
   "source": [
    "for i in range(10):\n",
    "    print(obj.top(),obj.getMin())\n",
    "    obj.pop()"
   ]
  },
  {
   "cell_type": "code",
   "execution_count": null,
   "metadata": {},
   "outputs": [],
   "source": []
  },
  {
   "cell_type": "code",
   "execution_count": null,
   "metadata": {},
   "outputs": [],
   "source": []
  }
 ],
 "metadata": {
  "kernelspec": {
   "display_name": "Python 3",
   "language": "python",
   "name": "python3"
  },
  "language_info": {
   "codemirror_mode": {
    "name": "ipython",
    "version": 3
   },
   "file_extension": ".py",
   "mimetype": "text/x-python",
   "name": "python",
   "nbconvert_exporter": "python",
   "pygments_lexer": "ipython3",
   "version": "3.7.7"
  }
 },
 "nbformat": 4,
 "nbformat_minor": 4
}
