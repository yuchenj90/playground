{
 "cells": [
  {
   "cell_type": "code",
   "execution_count": 3,
   "id": "a60698e2-971a-4859-93d4-c41fe7af3b72",
   "metadata": {
    "tags": []
   },
   "outputs": [
    {
     "data": {
      "text/plain": [
       "4"
      ]
     },
     "execution_count": 3,
     "metadata": {},
     "output_type": "execute_result"
    }
   ],
   "source": [
    "import math\n",
    "math.floor(4.9)"
   ]
  },
  {
   "cell_type": "code",
   "execution_count": 4,
   "id": "5bdeed52-b143-40de-a69f-993ba1d1492a",
   "metadata": {
    "tags": []
   },
   "outputs": [],
   "source": [
    "l = [2,32,2,4,5]"
   ]
  },
  {
   "cell_type": "code",
   "execution_count": 5,
   "id": "75e89d19-2e22-43ee-9411-50982292391d",
   "metadata": {
    "tags": []
   },
   "outputs": [],
   "source": [
    "l[0], l[3] = l[3], l[0]"
   ]
  },
  {
   "cell_type": "code",
   "execution_count": 6,
   "id": "72cfa0aa-f61a-44b0-a083-e493f6f82d39",
   "metadata": {
    "tags": []
   },
   "outputs": [
    {
     "data": {
      "text/plain": [
       "[4, 32, 2, 2, 5]"
      ]
     },
     "execution_count": 6,
     "metadata": {},
     "output_type": "execute_result"
    }
   ],
   "source": [
    "l"
   ]
  },
  {
   "cell_type": "code",
   "execution_count": 12,
   "id": "ec01fdf6-d029-4853-a37d-0b9da10b5918",
   "metadata": {
    "tags": []
   },
   "outputs": [],
   "source": [
    "# quicksort\n",
    "from typing import List\n",
    "import random, math\n",
    "\n",
    "def quicksort(arr: List[int]) -> List[int]:\n",
    "    n = len(arr)\n",
    "    if n<=1:\n",
    "        return arr\n",
    "    k = math.floor(random.random()*n)\n",
    "    arr[0], arr[k] = arr[k], arr[0]\n",
    "    l, r = 1, n-1\n",
    "    while l<=r:\n",
    "        if arr[l] <= arr[0]:\n",
    "            l += 1\n",
    "        else:\n",
    "            arr[l], arr[r] = arr[r], arr[l]\n",
    "            r -= 1\n",
    "    arr[l-1], arr[0] = arr[0], arr[l-1]\n",
    "    return quicksort(arr[:l-1]) + [arr[l-1]] + quicksort(arr[l:])"
   ]
  },
  {
   "cell_type": "code",
   "execution_count": 13,
   "id": "92c9bcde-3ae2-4f64-9773-37e34dde3b0c",
   "metadata": {
    "tags": []
   },
   "outputs": [
    {
     "data": {
      "text/plain": [
       "[2, 4, 31, 32, 43, 45, 65]"
      ]
     },
     "execution_count": 13,
     "metadata": {},
     "output_type": "execute_result"
    }
   ],
   "source": [
    "quicksort([32,45,2,4,31,43,65])"
   ]
  },
  {
   "cell_type": "markdown",
   "id": "34fb7906-e859-47a6-b7ab-f670e79428bc",
   "metadata": {},
   "source": [
    "求到一系列坐标的距离和最小的点"
   ]
  },
  {
   "cell_type": "markdown",
   "id": "e6047334-49e3-439e-8980-20e1ebbb7efd",
   "metadata": {},
   "source": [
    "在一条DNA序列里找出所有出现了多次的长度为10的子序列，要用到bit operation"
   ]
  },
  {
   "cell_type": "code",
   "execution_count": null,
   "id": "f81137ea-2a16-4e63-893f-d3359c7a1222",
   "metadata": {},
   "outputs": [],
   "source": [
    "s = \"ACTCGTAGGCTGTCAGTGGT\""
   ]
  },
  {
   "cell_type": "code",
   "execution_count": 25,
   "id": "566af82e-b497-4188-96c2-2ee987bd6d50",
   "metadata": {},
   "outputs": [],
   "source": [
    "# DFS of a tree\n",
    "from typing import Optional\n",
    "\n",
    "class TreeNode:\n",
    "    def __init__(self, val=0, left=None, right=None):\n",
    "        self.val = val\n",
    "        self.left = left\n",
    "        self.right = right\n",
    "\n",
    "def findLeaves(root: Optional[TreeNode]) -> List[List[int]]:\n",
    "    def DFS(root: Optional[TreeNode]) -> int:\n",
    "        if root is None:\n",
    "            return -1\n",
    "        left_level = DFS(root.left)\n",
    "        right_level = DFS(root.right)\n",
    "        cur_level = max(left_level, right_level)+1\n",
    "        while len(res) <= cur_level:\n",
    "            res.append([])\n",
    "        res[cur_level].append(root.val)\n",
    "        return cur_level\n",
    "        \n",
    "    res = []\n",
    "    DFS(root)\n",
    "    return res\n",
    "    "
   ]
  },
  {
   "cell_type": "code",
   "execution_count": 26,
   "id": "ff6964f6-e482-4a30-b2c8-870b5f13c235",
   "metadata": {},
   "outputs": [],
   "source": [
    "l = [TreeNode(i+1) for i in range(5)]\n",
    "l[0].left = l[1]\n",
    "l[0].right = l[2]\n",
    "l[1].left = l[3]\n",
    "l[1].right = l[4]\n",
    "r = l[0]"
   ]
  },
  {
   "cell_type": "code",
   "execution_count": 27,
   "id": "08192c1c-49e8-4812-abee-6fb9e2242373",
   "metadata": {
    "tags": []
   },
   "outputs": [
    {
     "data": {
      "text/plain": [
       "[[4, 5, 3], [2], [1]]"
      ]
     },
     "execution_count": 27,
     "metadata": {},
     "output_type": "execute_result"
    }
   ],
   "source": [
    "findLeaves(r)"
   ]
  },
  {
   "cell_type": "code",
   "execution_count": null,
   "id": "79fcf20f-86e3-4ba2-a906-66955bc79448",
   "metadata": {},
   "outputs": [],
   "source": []
  }
 ],
 "metadata": {
  "kernelspec": {
   "display_name": "Python 3 (ipykernel)",
   "language": "python",
   "name": "python3"
  },
  "language_info": {
   "codemirror_mode": {
    "name": "ipython",
    "version": 3
   },
   "file_extension": ".py",
   "mimetype": "text/x-python",
   "name": "python",
   "nbconvert_exporter": "python",
   "pygments_lexer": "ipython3",
   "version": "3.8.12"
  }
 },
 "nbformat": 4,
 "nbformat_minor": 5
}
