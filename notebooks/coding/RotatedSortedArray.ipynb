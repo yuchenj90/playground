{
 "cells": [
  {
   "cell_type": "markdown",
   "metadata": {},
   "source": [
    "## Rotated sorted array\n",
    "A rotated sorted array is an array sorted in ascending order but is rotated at some pivot point. For example, A = \\[2,5,6,0,0,1,2\\] is an example of rotated sorted array as you can put the first three elements to the end and make the array non-decreasing. Note that there can be duplicated elements in a rotated sorted array"
   ]
  },
  {
   "cell_type": "markdown",
   "metadata": {},
   "source": [
    "**Problem (Leetcode 153/154)**\n",
    "> Find the minimum element in a rotated sorted array, when the array contains no duplicated/duplicated elements"
   ]
  },
  {
   "cell_type": "markdown",
   "metadata": {},
   "source": [
    "**Problem (Leetcode 33/81)**\n",
    "> Given a target number, search it in the rotated sorted array and return the first position, when the array contains no dupilicated/duplicated elements."
   ]
  },
  {
   "cell_type": "markdown",
   "metadata": {},
   "source": [
    "**Solution**\n",
    "> * If array doesn't contain duplicates, we can apply binary search to both problems.\n",
    ">   * For finding minimum element, we compare elements in the array with the first element. If an element in the array is smaller than the first element, then the minimum element must be in the first half. Otherwise, the minimum element must be in the second half. Worst case time complexity is O(log n) if we use binary search (see code below).\n",
    ">   * For searching the target number, we can also apply similar logic. Assume the original array is \\[x_0, x_1, ..., x_n\\], with x_k being the smallest element.  \n",
    ">     1. If the first element equals to the target number, we have already found it.\n",
    ">     2. If target number is smaller than the first element, then we can perform binary search on the modified array \\[x_0, x_1, ..., x_{k-1}, inf, ... ,inf\\]. Notice that we don't need to actually modify the array, we can still set left = 1 and right = n, but as long as the number is smaller than x_0, we treat it as inf and move the right pointer.\n",
    ">     3. If target number is larger than the first element, then we perform binary search on the modified array \\[-inf, ..., -inf, x_k, ..., x_n\\]. Notice that we don't need to actually modify the array, we can still set left = 1 and right = n, but as long as the number is greater than x_0, we treat it as -inf and move the left pointer. (see code below)\n",
    ">   \n",
    "> * If the array contains duplicates, then the worst case time complexity for both problems cannot beat O(n). To prove it, we consider an array with length n, where n-1 of the elements are 1 and the remaining one is 0. Any position of the 0 element can occur in the array for the array being rotated sorted. Therefore, one must check at least O(n) positions to know which one is zero. Similarly, if the target is 0 for the search problem, we have to check at least O(n) positions to know the exact position of 0. Therefore, performing a linear search is the best algorithm in terms of worst case time complexity, which is O(n)."
   ]
  },
  {
   "cell_type": "code",
   "execution_count": 7,
   "metadata": {},
   "outputs": [],
   "source": [
    "def findMin(nums):\n",
    "    \"\"\"\n",
    "    :type nums: List[int]\n",
    "    :rtype: int\n",
    "    \"\"\"\n",
    "\n",
    "    if len(nums) == 1:\n",
    "        return nums[0]\n",
    "\n",
    "    left = 1\n",
    "    right = len(nums) - 1\n",
    "    while (left<=right):\n",
    "        mid = int((left+right)/2)\n",
    "        if nums[0] < nums[mid]: # when arr[mid] > arr[0], the minimum element must be from [mid+1,right]\n",
    "            left = mid + 1\n",
    "        else:                 # since we don't have duplicates, arr[mid] < arr[0] and the minimum element must be from [left, mid-1]\n",
    "            right = mid - 1\n",
    "    # after while loop, left>right. All the positions to the right of right less than arr[0]. All the positions to the left of left greater than arr[0].\n",
    "    if right == len(nums) - 1:\n",
    "        return nums[0]\n",
    "    else:\n",
    "        return nums[right+1] "
   ]
  },
  {
   "cell_type": "code",
   "execution_count": 8,
   "metadata": {},
   "outputs": [
    {
     "data": {
      "text/plain": [
       "1"
      ]
     },
     "execution_count": 8,
     "metadata": {},
     "output_type": "execute_result"
    }
   ],
   "source": [
    "findMin([3,1,2])"
   ]
  },
  {
   "cell_type": "code",
   "execution_count": 9,
   "metadata": {},
   "outputs": [
    {
     "data": {
      "text/plain": [
       "1"
      ]
     },
     "execution_count": 9,
     "metadata": {},
     "output_type": "execute_result"
    }
   ],
   "source": [
    "findMin([3,4,5,6,1,2])"
   ]
  },
  {
   "cell_type": "code",
   "execution_count": null,
   "metadata": {},
   "outputs": [],
   "source": []
  },
  {
   "cell_type": "code",
   "execution_count": 11,
   "metadata": {},
   "outputs": [],
   "source": [
    "def search(nums, target):\n",
    "    \"\"\"\n",
    "    :type nums: List[int]\n",
    "    :type target: int\n",
    "    :rtype: int\n",
    "    \"\"\"\n",
    "    if len(nums)==0:\n",
    "        return -1\n",
    "    if target == nums[0]:\n",
    "        return 0\n",
    "    elif target > nums[0]:\n",
    "        left = 1\n",
    "        right = len(nums)-1\n",
    "        while (left<=right):\n",
    "            mid = left + int((right-left)/2)\n",
    "            if (nums[mid]==target):\n",
    "                return mid\n",
    "            elif (nums[mid]>nums[0]) and (nums[mid]>target):\n",
    "                right = mid - 1\n",
    "            elif (nums[mid]>nums[0]) and (nums[mid]<target):\n",
    "                left = mid + 1\n",
    "            else:\n",
    "                right = mid - 1\n",
    "    else:\n",
    "        left = 1\n",
    "        right = len(nums)-1\n",
    "        while (left<=right):\n",
    "            mid = left + int((right-left)/2)\n",
    "            if (nums[mid]==target):\n",
    "                return mid\n",
    "            elif (nums[mid]<nums[0]) and (nums[mid]>target):\n",
    "                right = mid - 1\n",
    "            elif (nums[mid]<nums[0]) and (nums[mid]<target):\n",
    "                left = mid + 1\n",
    "            else:\n",
    "                left = mid + 1\n",
    "\n",
    "    return -1"
   ]
  },
  {
   "cell_type": "code",
   "execution_count": 12,
   "metadata": {},
   "outputs": [
    {
     "data": {
      "text/plain": [
       "1"
      ]
     },
     "execution_count": 12,
     "metadata": {},
     "output_type": "execute_result"
    }
   ],
   "source": [
    "search([1,3],3)"
   ]
  },
  {
   "cell_type": "code",
   "execution_count": 13,
   "metadata": {},
   "outputs": [
    {
     "data": {
      "text/plain": [
       "1"
      ]
     },
     "execution_count": 13,
     "metadata": {},
     "output_type": "execute_result"
    }
   ],
   "source": [
    "search([3,1],1)"
   ]
  },
  {
   "cell_type": "code",
   "execution_count": 14,
   "metadata": {},
   "outputs": [
    {
     "data": {
      "text/plain": [
       "0"
      ]
     },
     "execution_count": 14,
     "metadata": {},
     "output_type": "execute_result"
    }
   ],
   "source": [
    "search([3,1],3)"
   ]
  },
  {
   "cell_type": "code",
   "execution_count": 15,
   "metadata": {},
   "outputs": [
    {
     "data": {
      "text/plain": [
       "-1"
      ]
     },
     "execution_count": 15,
     "metadata": {},
     "output_type": "execute_result"
    }
   ],
   "source": [
    "search([5,7,8,10,14,1,3],20)"
   ]
  },
  {
   "cell_type": "code",
   "execution_count": null,
   "metadata": {},
   "outputs": [],
   "source": []
  },
  {
   "cell_type": "code",
   "execution_count": null,
   "metadata": {},
   "outputs": [],
   "source": []
  },
  {
   "cell_type": "code",
   "execution_count": null,
   "metadata": {},
   "outputs": [],
   "source": []
  }
 ],
 "metadata": {
  "kernelspec": {
   "display_name": "Python 3",
   "language": "python",
   "name": "python3"
  },
  "language_info": {
   "codemirror_mode": {
    "name": "ipython",
    "version": 3
   },
   "file_extension": ".py",
   "mimetype": "text/x-python",
   "name": "python",
   "nbconvert_exporter": "python",
   "pygments_lexer": "ipython3",
   "version": "3.7.7"
  }
 },
 "nbformat": 4,
 "nbformat_minor": 4
}
