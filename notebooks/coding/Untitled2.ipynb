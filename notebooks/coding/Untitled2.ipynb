{
 "cells": [
  {
   "cell_type": "markdown",
   "metadata": {},
   "source": [
    "第一象限 给一堆点 让你找一个最小正方形能把包含的离原点最近的k个点，followup是找这样的长方形"
   ]
  },
  {
   "cell_type": "code",
   "execution_count": 2,
   "metadata": {},
   "outputs": [],
   "source": [
    "import heapq"
   ]
  },
  {
   "cell_type": "code",
   "execution_count": 3,
   "metadata": {},
   "outputs": [],
   "source": [
    "def minSquare(data,k):\n",
    "    res = []\n",
    "    for d in data:\n",
    "        x = max(d[0],d[1])\n",
    "        if len(res)<k:\n",
    "            heapq.heappush(res, -x)\n",
    "        elif -res[0] > x:\n",
    "            heapq.heappushpop(res, -x)\n",
    "    return -res[0]    "
   ]
  },
  {
   "cell_type": "code",
   "execution_count": 4,
   "metadata": {},
   "outputs": [],
   "source": [
    "data = [[1,3],[2,7],[5,4],[1,0],[8,0],[9,4],[6,1],[10,2],[4,4]]"
   ]
  },
  {
   "cell_type": "code",
   "execution_count": 6,
   "metadata": {},
   "outputs": [
    {
     "data": {
      "text/plain": [
       "7"
      ]
     },
     "execution_count": 6,
     "metadata": {},
     "output_type": "execute_result"
    }
   ],
   "source": [
    "minSquare(data,6)"
   ]
  },
  {
   "cell_type": "code",
   "execution_count": null,
   "metadata": {},
   "outputs": [],
   "source": []
  },
  {
   "cell_type": "markdown",
   "metadata": {},
   "source": [
    "excel类似的功能，需要支持set和get，\n",
    "- set 就是给你一个col key和它的value, 它的value可以是一个int，也可以是一个reference，指向其他的column\n",
    "- get 就是给你col key 需要你能resolve它的value"
   ]
  },
  {
   "cell_type": "code",
   "execution_count": 130,
   "metadata": {},
   "outputs": [],
   "source": [
    "class Excel():\n",
    "    def __init__(self, H, W):\n",
    "        self.height = H\n",
    "        self.width = ord(W)-ord('A')+1\n",
    "        self.values = [[0 for i in range(self.height)] for j in range(self.width)]\n",
    "        self.ref = {}\n",
    "    \n",
    "    def Util(self, key):\n",
    "        for i in range(len(key)):\n",
    "            if key[i].isnumeric():\n",
    "                break\n",
    "        col = ord(key[0:i])-ord('A')\n",
    "        row = int(key[i:])    \n",
    "        return col, row\n",
    "    \n",
    "    def Set(self, key, value):\n",
    "        col, row = self.Util(key)\n",
    "        \n",
    "        if value.isnumeric():\n",
    "            self.values[col][row] = int(value)\n",
    "            if key in self.ref:\n",
    "                del self.ref[key]\n",
    "        else:\n",
    "            vcol, vrow = self.Util(value)\n",
    "            self.values[col][row] = self.values[vcol][vrow]\n",
    "            self.ref[key] = value\n",
    "            \n",
    "    def Get(self, key):\n",
    "        while key in self.ref:\n",
    "            key = self.ref[key]\n",
    "        col, row = self.Util(key)\n",
    "        return self.values[col][row]"
   ]
  },
  {
   "cell_type": "code",
   "execution_count": null,
   "metadata": {},
   "outputs": [],
   "source": []
  },
  {
   "cell_type": "code",
   "execution_count": null,
   "metadata": {},
   "outputs": [],
   "source": []
  },
  {
   "cell_type": "code",
   "execution_count": 131,
   "metadata": {},
   "outputs": [],
   "source": [
    "o = Excel(10, 'T')"
   ]
  },
  {
   "cell_type": "code",
   "execution_count": 132,
   "metadata": {},
   "outputs": [],
   "source": [
    "o.Set('A2','B6')\n",
    "o.Set('B6','A2')\n",
    "o.Set('C9','A7')\n",
    "o.Set('A2','C9')"
   ]
  },
  {
   "cell_type": "code",
   "execution_count": 133,
   "metadata": {},
   "outputs": [],
   "source": [
    "o.Set('A2','8')"
   ]
  },
  {
   "cell_type": "code",
   "execution_count": 135,
   "metadata": {},
   "outputs": [
    {
     "data": {
      "text/plain": [
       "8"
      ]
     },
     "execution_count": 135,
     "metadata": {},
     "output_type": "execute_result"
    }
   ],
   "source": [
    "o.Get('A2')"
   ]
  },
  {
   "cell_type": "code",
   "execution_count": 142,
   "metadata": {},
   "outputs": [],
   "source": [
    "import copy"
   ]
  },
  {
   "cell_type": "code",
   "execution_count": 149,
   "metadata": {},
   "outputs": [],
   "source": [
    "p = copy.deepcopy(o)"
   ]
  },
  {
   "cell_type": "code",
   "execution_count": 150,
   "metadata": {},
   "outputs": [
    {
     "data": {
      "text/plain": [
       "9"
      ]
     },
     "execution_count": 150,
     "metadata": {},
     "output_type": "execute_result"
    }
   ],
   "source": [
    "p.Get('A2')"
   ]
  },
  {
   "cell_type": "code",
   "execution_count": 154,
   "metadata": {},
   "outputs": [],
   "source": [
    "o.Set('A2','90')"
   ]
  },
  {
   "cell_type": "code",
   "execution_count": 155,
   "metadata": {},
   "outputs": [
    {
     "data": {
      "text/plain": [
       "90"
      ]
     },
     "execution_count": 155,
     "metadata": {},
     "output_type": "execute_result"
    }
   ],
   "source": [
    "o.Get('A2')"
   ]
  },
  {
   "cell_type": "code",
   "execution_count": 156,
   "metadata": {},
   "outputs": [
    {
     "data": {
      "text/plain": [
       "9"
      ]
     },
     "execution_count": 156,
     "metadata": {},
     "output_type": "execute_result"
    }
   ],
   "source": [
    "p.Get('A2')"
   ]
  },
  {
   "cell_type": "code",
   "execution_count": 14,
   "metadata": {},
   "outputs": [
    {
     "data": {
      "text/plain": [
       "65"
      ]
     },
     "execution_count": 14,
     "metadata": {},
     "output_type": "execute_result"
    }
   ],
   "source": [
    "ord('A')"
   ]
  },
  {
   "cell_type": "code",
   "execution_count": 93,
   "metadata": {},
   "outputs": [],
   "source": [
    "import numpy as np"
   ]
  },
  {
   "cell_type": "code",
   "execution_count": 127,
   "metadata": {},
   "outputs": [],
   "source": [
    "def minVote(votes):\n",
    "    n = len(votes)\n",
    "    l = []\n",
    "    num_delegates = 0\n",
    "    max_possible = 0\n",
    "    for i in range(n):\n",
    "        tv = votes[i][1] + votes[i][2] + votes[i][3]\n",
    "        rv = max(0,int(tv/2)+1 - votes[i][1])\n",
    "        if rv <= votes[i][3]:\n",
    "            l.append([votes[i][0],rv])\n",
    "            max_possible += votes[i][0]\n",
    "        num_delegates += votes[i][0]\n",
    "    \n",
    "    m = int(num_delegates/2)+1\n",
    "    print(l,m)\n",
    "    nl = len(l)\n",
    "\n",
    "    if max_possible<m:\n",
    "        return -1\n",
    "    else:\n",
    "        dp = [[np.inf for j in range(nl+1)] for i in range(m+1)]\n",
    "        for i in range(m+1):\n",
    "            for j in range(nl+1):\n",
    "                if i==0:\n",
    "                    dp[i][j] = 0\n",
    "                elif j>0:\n",
    "                    if l[j-1][0]>i:\n",
    "                        dp[i][j] = l[j-1][1]\n",
    "                    else:\n",
    "                        dp[i][j] = min(l[j-1][1] + dp[i-l[j-1][0]][j-1], dp[i][j-1])\n",
    "\n",
    "        return dp[m][nl]\n",
    "    "
   ]
  },
  {
   "cell_type": "code",
   "execution_count": 128,
   "metadata": {},
   "outputs": [],
   "source": [
    "votes = [[7,100,200,200],[8,100,300,200],[9,100,400,200]]"
   ]
  },
  {
   "cell_type": "code",
   "execution_count": 129,
   "metadata": {},
   "outputs": [
    {
     "name": "stdout",
     "output_type": "stream",
     "text": [
      "[[7, 151]] 13\n"
     ]
    },
    {
     "data": {
      "text/plain": [
       "-1"
      ]
     },
     "execution_count": 129,
     "metadata": {},
     "output_type": "execute_result"
    }
   ],
   "source": [
    "minVote(votes)"
   ]
  },
  {
   "cell_type": "code",
   "execution_count": null,
   "metadata": {},
   "outputs": [],
   "source": []
  },
  {
   "cell_type": "code",
   "execution_count": null,
   "metadata": {},
   "outputs": [],
   "source": []
  },
  {
   "cell_type": "code",
   "execution_count": null,
   "metadata": {},
   "outputs": [],
   "source": []
  }
 ],
 "metadata": {
  "kernelspec": {
   "display_name": "Python 3",
   "language": "python",
   "name": "python3"
  },
  "language_info": {
   "codemirror_mode": {
    "name": "ipython",
    "version": 3
   },
   "file_extension": ".py",
   "mimetype": "text/x-python",
   "name": "python",
   "nbconvert_exporter": "python",
   "pygments_lexer": "ipython3",
   "version": "3.8.6"
  }
 },
 "nbformat": 4,
 "nbformat_minor": 4
}
