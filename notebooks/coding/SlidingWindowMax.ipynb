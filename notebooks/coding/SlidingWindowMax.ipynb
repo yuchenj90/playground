{
 "cells": [
  {
   "cell_type": "markdown",
   "id": "e56ff2dc-eb99-4a0b-9290-99e4fd3e74ec",
   "metadata": {},
   "source": [
    "## Sliding Window Maximum [LC 239](https://leetcode.com/problems/sliding-window-maximum/)"
   ]
  },
  {
   "cell_type": "markdown",
   "id": "b29bee1d-ae75-4cd7-98f6-91615505f3a5",
   "metadata": {},
   "source": [
    "You are given an array of integers nums, there is a sliding window of size k which is moving from the very left of the array to the very right. You can only see the k numbers in the window. Each time the sliding window moves right by one position.\n",
    "\n",
    "Return the max sliding window.\n",
    "\n",
    " \n",
    "\n",
    "Example 1:\n",
    "```\n",
    "Input: nums = [1,3,-1,-3,5,3,6,7], k = 3\n",
    "Output: [3,3,5,5,6,7]\n",
    "Explanation: \n",
    "Window position                Max\n",
    "---------------               -----\n",
    "[1  3  -1] -3  5  3  6  7       3\n",
    " 1 [3  -1  -3] 5  3  6  7       3\n",
    " 1  3 [-1  -3  5] 3  6  7       5\n",
    " 1  3  -1 [-3  5  3] 6  7       5\n",
    " 1  3  -1  -3 [5  3  6] 7       6\n",
    " 1  3  -1  -3  5 [3  6  7]      7\n",
    "```\n",
    "```\n",
    "Example 2:\n",
    "\n",
    "Input: nums = [1], k = 1\n",
    "Output: [1]\n",
    "```\n",
    "``` Python\n",
    "Constraints:\n",
    "\n",
    "1 <= nums.length <= 105\n",
    "-104 <= nums[i] <= 104\n",
    "1 <= k <= nums.length\n",
    "```"
   ]
  },
  {
   "cell_type": "markdown",
   "id": "2fe723e6-be80-494e-8eac-f62080f4d3d9",
   "metadata": {},
   "source": [
    "> Idea: keep a queue to store candidate index. \n",
    "Scan the original array from left to right and check each element to see if it's a candidate. \n",
    "If the element has larger value than the last element in the queue, that element is no longer useful and we need to pop that out. \n",
    "\n",
    ">> p=0, queue=[]\n",
    "\n",
    ">> p=1, queue=[0], nums[1]>nums[0], remove last element in queue and add current\n",
    "\n",
    ">> p=2, queue=[1], nums[2]<nums[1], add current, update res=[nums[1]]\n",
    "\n",
    ">> p=3, queue=[1,2], nums[3]<nums[2], add current, update res = [nums[1], nums[1]]\n",
    "\n",
    ">> p=4, queue=[1,2,3], 4-3>queue[0], pop out first element in queue. nums[4]>nums[3], pop out last element in queue. nums[4]>nums[2], pop out last element. add current update queue=[4], res = [nums[1], nums[4]]"
   ]
  },
  {
   "cell_type": "code",
   "execution_count": 5,
   "id": "588611f3-85eb-4d89-b8c4-a5eaf427f850",
   "metadata": {
    "tags": []
   },
   "outputs": [],
   "source": [
    "from collections import deque\n",
    "from typing import List\n",
    "\n",
    "def SlidingWindowMax(nums: List[int], k: int) -> List[int]:\n",
    "    q = deque([])\n",
    "    n = len(nums)\n",
    "    res = []\n",
    "        \n",
    "    for i in range(n):\n",
    "        if len(q)>0 and i-k == q[0]:\n",
    "            q.popleft()\n",
    "        while len(q) > 0 and nums[q[-1]] <= nums[i]:\n",
    "            q.pop()\n",
    "        q.append(i)\n",
    "        if i>=k-1:\n",
    "            res.append(nums[q[0]])\n",
    "    return res\n",
    "            "
   ]
  },
  {
   "cell_type": "code",
   "execution_count": 6,
   "id": "4ea8bf40-c471-4934-b7db-f380dc1a3396",
   "metadata": {
    "tags": []
   },
   "outputs": [
    {
     "data": {
      "text/plain": [
       "[3, 3, 5, 5, 6, 7]"
      ]
     },
     "execution_count": 6,
     "metadata": {},
     "output_type": "execute_result"
    }
   ],
   "source": [
    "SlidingWindowMax([1,3,-1,-3,5,3,6,7],3)"
   ]
  },
  {
   "cell_type": "markdown",
   "id": "0f794d25-9e7b-41f8-ac9c-17341294e258",
   "metadata": {
    "tags": []
   },
   "source": [
    "## Sliding Window Median [LC 480](https://leetcode.com/problems/sliding-window-median/)"
   ]
  },
  {
   "cell_type": "markdown",
   "id": "9487d745-736f-44df-8be8-44e21fb89da8",
   "metadata": {},
   "source": [
    "The median is the middle value in an ordered integer list. If the size of the list is even, there is no middle value. So the median is the mean of the two middle values.\n",
    "\n",
    "For examples, if arr = [2,3,4], the median is 3.\n",
    "For examples, if arr = [1,2,3,4], the median is (2 + 3) / 2 = 2.5.\n",
    "You are given an integer array nums and an integer k. There is a sliding window of size k which is moving from the very left of the array to the very right. You can only see the k numbers in the window. Each time the sliding window moves right by one position.\n",
    "\n",
    "Return the median array for each window in the original array. Answers within 10-5 of the actual value will be accepted.\n",
    "\n",
    " \n",
    "```\n",
    "Example 1:\n",
    "\n",
    "Input: nums = [1,3,-1,-3,5,3,6,7], k = 3\n",
    "Output: [1.00000,-1.00000,-1.00000,3.00000,5.00000,6.00000]\n",
    "Explanation: \n",
    "Window position                Median\n",
    "---------------                -----\n",
    "[1  3  -1] -3  5  3  6  7        1\n",
    " 1 [3  -1  -3] 5  3  6  7       -1\n",
    " 1  3 [-1  -3  5] 3  6  7       -1\n",
    " 1  3  -1 [-3  5  3] 6  7        3\n",
    " 1  3  -1  -3 [5  3  6] 7        5\n",
    " 1  3  -1  -3  5 [3  6  7]       6\n",
    " \n",
    "Example 2:\n",
    "Input: nums = [1,2,3,4,2,3,1,4,2], k = 3\n",
    "Output: [2.00000,3.00000,3.00000,3.00000,2.00000,3.00000,2.00000]\n",
    "```\n",
    "```Python\n",
    "Constraints:\n",
    "\n",
    "1 <= k <= nums.length <= 105\n",
    "-231 <= nums[i] <= 231 - 1\n",
    "```"
   ]
  },
  {
   "cell_type": "code",
   "execution_count": 15,
   "id": "da086faa-0dd2-432b-ace0-79ddee9470d9",
   "metadata": {
    "tags": []
   },
   "outputs": [],
   "source": [
    "import heapq\n",
    "from typing import List\n",
    "\n",
    "def SlidingWindowMedian(nums: List[int], k: int) -> List[float]:\n",
    "    minh, maxh = [], []\n",
    "    s_min, s_max = 0, 0\n",
    "    res = []\n",
    "    n = len(nums)\n",
    "    \n",
    "    for i in range(len(nums)):\n",
    "        x = nums[i]\n",
    "        if len(minh)==0 or minh[0][0] < x:\n",
    "            heapq.heappush(minh, (x,i))\n",
    "            s_min += 1\n",
    "        else:\n",
    "            heapq.heappush(maxh, (-x,i))\n",
    "            s_max += 1\n",
    "        \n",
    "        if i>=k: # need to remove elements\n",
    "            if nums[i-k] >= minh[0][0]:\n",
    "                s_min -= 1\n",
    "            else:\n",
    "                s_max -= 1\n",
    "            \n",
    "        if s_min < s_max:\n",
    "            tmp = heapq.heappop(maxh)\n",
    "            heapq.heappush(minh, (-tmp[0], tmp[1]))\n",
    "            s_min += 1\n",
    "            s_max -= 1\n",
    "        elif s_min - s_max>1:\n",
    "            tmp = heapq.heappop(minh)\n",
    "            heapq.heappush(maxh, (-tmp[0], tmp[1]))\n",
    "            s_min -= 1\n",
    "            s_max += 1\n",
    "        while len(maxh)>0 and maxh[0][1] <= i-k:\n",
    "            heapq.heappop(maxh)\n",
    "        while len(minh)>0 and minh[0][1] <= i-k:\n",
    "            heapq.heappop(minh)\n",
    "            \n",
    "        if i>=k-1:\n",
    "            if s_min==s_max:\n",
    "                res.append((minh[0][0]-maxh[0][0])/2)\n",
    "            else:\n",
    "                res.append(minh[0][0])\n",
    "            print(minh, maxh, s_min, s_max)\n",
    "            \n",
    "    return res"
   ]
  },
  {
   "cell_type": "code",
   "execution_count": 16,
   "id": "3d5f6320-c8e2-465a-99a1-1731d746259b",
   "metadata": {},
   "outputs": [
    {
     "name": "stdout",
     "output_type": "stream",
     "text": [
      "[(2, 1), (3, 2)] [(-1, 0)] 2 1\n",
      "[(3, 2), (4, 3)] [(-2, 1), (-1, 0)] 2 1\n",
      "[(3, 2), (4, 3)] [(-2, 4), (-1, 0)] 2 1\n",
      "[(3, 5), (4, 3)] [(-2, 4), (-1, 0)] 2 1\n",
      "[(2, 4), (4, 3), (3, 5)] [(-1, 6)] 2 1\n",
      "[(3, 5), (4, 3), (4, 7)] [(-1, 6)] 2 1\n",
      "[(2, 8), (3, 5), (4, 7), (4, 3)] [(-1, 6)] 2 1\n"
     ]
    },
    {
     "data": {
      "text/plain": [
       "[2, 3, 3, 3, 2, 3, 2]"
      ]
     },
     "execution_count": 16,
     "metadata": {},
     "output_type": "execute_result"
    }
   ],
   "source": [
    "SlidingWindowMedian([1,2,3,4,2,3,1,4,2], 3)"
   ]
  },
  {
   "cell_type": "code",
   "execution_count": 18,
   "id": "05df0245-5bba-4eb2-9f27-f724ce10bd0e",
   "metadata": {
    "tags": []
   },
   "outputs": [
    {
     "name": "stdout",
     "output_type": "stream",
     "text": [
      "[(1, 0), (3, 1)] [(1, 2)] 2 1\n",
      "[(-1, 2), (3, 1), (1, 0)] [(3, 3)] 2 1\n",
      "[(-1, 2), (3, 1), (1, 0), (5, 4)] [(3, 3)] 2 1\n",
      "[(3, 5), (5, 4)] [(3, 3)] 2 1\n",
      "[(5, 4), (6, 6)] [(-3, 5), (3, 3)] 2 1\n",
      "[(6, 6), (7, 7)] [(-3, 5), (3, 3)] 2 1\n"
     ]
    },
    {
     "data": {
      "text/plain": [
       "[1, -1, -1, 3, 5, 6]"
      ]
     },
     "execution_count": 18,
     "metadata": {},
     "output_type": "execute_result"
    }
   ],
   "source": [
    "SlidingWindowMedian([1,3,-1,-3,5,3,6,7], 3)"
   ]
  },
  {
   "cell_type": "code",
   "execution_count": 19,
   "id": "d7f7aef4-548a-4d1f-95bf-54393b1f366f",
   "metadata": {
    "tags": []
   },
   "outputs": [
    {
     "name": "stdout",
     "output_type": "stream",
     "text": [
      "[(4, 3), (6, 5), (5, 4)] [(-3, 2), (-1, 0), (-2, 1)] 3 3\n",
      "[(5, 4), (6, 5), (7, 6)] [(-4, 3), (-3, 2), (-2, 1), (-1, 0)] 3 3\n",
      "[(6, 5), (8, 7), (7, 6)] [(-5, 4), (-4, 3), (-2, 1), (-1, 0), (-3, 2)] 3 3\n",
      "[(7, 6), (8, 7), (9, 8)] [(-6, 5), (-4, 3), (-5, 4), (-1, 0), (-3, 2), (-2, 1)] 3 3\n",
      "[(8, 7), (10, 9), (9, 8)] [(-7, 6), (-4, 3), (-6, 5), (-1, 0), (-3, 2), (-2, 1), (-5, 4)] 3 3\n"
     ]
    },
    {
     "data": {
      "text/plain": [
       "[3.5, 4.5, 5.5, 6.5, 7.5]"
      ]
     },
     "execution_count": 19,
     "metadata": {},
     "output_type": "execute_result"
    }
   ],
   "source": [
    "SlidingWindowMedian([1,2,3,4,5,6,7,8,9,10], 6)"
   ]
  },
  {
   "cell_type": "code",
   "execution_count": 20,
   "id": "01f29f90-eb4b-4543-ac7c-badc0d91b3ed",
   "metadata": {
    "tags": []
   },
   "outputs": [
    {
     "name": "stdout",
     "output_type": "stream",
     "text": [
      "[(8, 2), (10, 0), (9, 1)] [(-7, 3), (-6, 4), (-5, 5)] 3 3\n",
      "[(7, 3), (8, 2), (9, 1), (10, 0)] [(-6, 4), (-4, 6), (-5, 5)] 3 3\n",
      "[(6, 4), (7, 3), (9, 1), (10, 0), (8, 2)] [(-5, 5), (-4, 6), (-3, 7)] 3 3\n",
      "[(5, 5), (7, 3), (6, 4), (10, 0), (8, 2), (9, 1)] [(-4, 6), (-2, 8), (-3, 7)] 3 3\n",
      "[(4, 6), (7, 3), (5, 5), (10, 0), (8, 2), (9, 1), (6, 4)] [(-3, 7), (-2, 8), (-1, 9)] 3 3\n"
     ]
    },
    {
     "data": {
      "text/plain": [
       "[7.5, 6.5, 5.5, 4.5, 3.5]"
      ]
     },
     "execution_count": 20,
     "metadata": {},
     "output_type": "execute_result"
    }
   ],
   "source": [
    "SlidingWindowMedian([10,9,8,7,6,5,4,3,2,1], 6)"
   ]
  },
  {
   "cell_type": "code",
   "execution_count": null,
   "id": "d1d1513b-4145-4bfb-8d52-277d8879cc38",
   "metadata": {},
   "outputs": [],
   "source": []
  }
 ],
 "metadata": {
  "kernelspec": {
   "display_name": "Python 3 (ipykernel)",
   "language": "python",
   "name": "python3"
  },
  "language_info": {
   "codemirror_mode": {
    "name": "ipython",
    "version": 3
   },
   "file_extension": ".py",
   "mimetype": "text/x-python",
   "name": "python",
   "nbconvert_exporter": "python",
   "pygments_lexer": "ipython3",
   "version": "3.8.12"
  }
 },
 "nbformat": 4,
 "nbformat_minor": 5
}
