{
 "cells": [
  {
   "cell_type": "markdown",
   "id": "1f6ee15f-20e8-4744-9f4b-9ad95096da8e",
   "metadata": {},
   "source": [
    "# Problem 1: check permutation"
   ]
  },
  {
   "cell_type": "markdown",
   "id": "4e7aa0a4-2482-4916-9671-3e41ca825ab1",
   "metadata": {},
   "source": [
    "LC: Check if a List of numbers is a permutation. Coded an O(N) Time and O(1) space solution."
   ]
  },
  {
   "cell_type": "code",
   "execution_count": 1,
   "id": "b0f0f462-33df-4915-819d-c81e183e9a00",
   "metadata": {
    "tags": []
   },
   "outputs": [],
   "source": [
    "from typing import List, Dict\n",
    "def checkPermutation(nums: List[int]) -> bool:\n",
    "    for i in range(len(nums)):\n",
    "        if nums[i] > len(nums):\n",
    "            return False\n",
    "        if nums[i] <= 0:\n",
    "            return False\n",
    "    for i in range(len(nums)):\n",
    "        nums[abs(nums[i])-1] = -nums[abs(nums[i])-1]\n",
    "    for i in range(len(nums)):\n",
    "        if nums[i] > 0:\n",
    "            return False\n",
    "    return True"
   ]
  },
  {
   "cell_type": "code",
   "execution_count": 2,
   "id": "66465fa9-819f-4b88-9fd4-459841323b25",
   "metadata": {
    "tags": []
   },
   "outputs": [],
   "source": [
    "assert checkPermutation([4,2,1,5,6,1,1]) == False\n",
    "assert checkPermutation([3,2,6,5,1,7,4]) == True\n",
    "assert checkPermutation([2]) == False\n",
    "assert checkPermutation([]) == True"
   ]
  },
  {
   "cell_type": "markdown",
   "id": "e0a89619-1c4d-4b78-9678-b46e5670624d",
   "metadata": {
    "tags": []
   },
   "source": [
    "# Problem 2: Valid paths to go around towns"
   ]
  },
  {
   "cell_type": "markdown",
   "id": "affa19e0-4e83-4891-8bc6-58fec7f95689",
   "metadata": {},
   "source": [
    "Here are multiple towns within one City. And sometimes people may travel through different towns\n",
    "Suppose you are given the start towns and end towns for each trip, and there might be many trips\n",
    "Can you find all valid trips?\n",
    "You can only use one trip only one time, must use all trips\n",
    "You can assume there are at least one valid solution\n",
    "\n",
    "Let's assume you will always start from 'A'\n",
    "```\n",
    "Example 1\n",
    "Input: [['A', 'B'], ['B', 'C'], ['C', 'D'], ['D', 'E']]\n",
    "Assum you will always start with 'A'\n",
    "Meaning: A ==> B, B ==> C, C ==> D, D ==> E\n",
    "Output: [A, B, C, D, E]\n",
    "\n",
    "Example 2\n",
    "Input: [['A', 'B'], ['B', 'C'], ['C', 'B'], ['B', 'A'],[\"A\",\"C]]\n",
    "A ==> B, B ==> C, C ==> B, B ==> A, A ==> C\n",
    "Output_1: A, B, C, B, A, C\n",
    "Output_2: A, C, B, A, B, C\n",
    "Output_3: A, C, B, A, B, C\n",
    "final output should be [[ A, B, C, B, A, C],[A, C, B, A, B, C],[A, B, A, C, B, C]]\n",
    "```\n"
   ]
  },
  {
   "cell_type": "code",
   "execution_count": 3,
   "id": "2cb32029-a619-4502-b69e-ca3e135ac72d",
   "metadata": {
    "tags": []
   },
   "outputs": [],
   "source": [
    "# assume given trips are identical\n",
    "def GetPaths(trips: List[List[str]]) -> List[List[str]]:\n",
    "    def DFS(node, cur_trip, res, n_trips):\n",
    "        #print(cur_trip)\n",
    "        if len(cur_trip) == n_trips+1:\n",
    "            res.append(cur_trip)\n",
    "        \n",
    "        if node in adj_m:\n",
    "            for nn in adj_m[node].keys():\n",
    "                if adj_m[node][nn]:\n",
    "                    adj_m[node][nn] = False\n",
    "                    DFS(nn, cur_trip+[nn], res, n_trips)\n",
    "                    adj_m[node][nn] = True\n",
    "            \n",
    "    adj_m = {}\n",
    "    for t in trips:\n",
    "        if t[0] not in adj_m:\n",
    "            adj_m[t[0]] = {}\n",
    "        adj_m[t[0]][t[1]] = True\n",
    "    res = []\n",
    "    n_trips = len(trips)\n",
    "    DFS('A', ['A'], res, n_trips)\n",
    "    return res"
   ]
  },
  {
   "cell_type": "code",
   "execution_count": 4,
   "id": "38faa11f-7d88-421c-8c7b-a8f9cbd55371",
   "metadata": {
    "tags": []
   },
   "outputs": [
    {
     "data": {
      "text/plain": [
       "[['A', 'B', 'C', 'B', 'A', 'C'],\n",
       " ['A', 'B', 'A', 'C', 'B', 'C'],\n",
       " ['A', 'C', 'B', 'A', 'B', 'C']]"
      ]
     },
     "execution_count": 4,
     "metadata": {},
     "output_type": "execute_result"
    }
   ],
   "source": [
    "GetPaths([['A', 'B'], ['B', 'C'], ['C', 'B'], ['B', 'A'],[\"A\",\"C\"]])"
   ]
  },
  {
   "cell_type": "markdown",
   "id": "6179b21f-f1d3-48eb-9d32-b57d83d671ff",
   "metadata": {
    "tags": []
   },
   "source": [
    "# Problem 3: card games"
   ]
  },
  {
   "cell_type": "markdown",
   "id": "c9854ed1-04af-4c28-bbce-a30095b475e5",
   "metadata": {
    "tags": []
   },
   "source": [
    "玩一种卡牌游戏。牌的两面各写一个数字，当两张牌的各自一面有相同数字的时候可以连起来， 比如牌[1, 3]和牌[3,7] 可以通过3连起来，牌不分正反面，[1, 3]可以用作[3, 1]。\n",
    "input是一些牌，要output用这些牌最长能连多少张牌。\n",
    "```Python\n",
    "example input\n",
    "[1, 3] [5, 7] [3, 7] [8, 5] [10, 11]\n",
    "output 4 ( [1, 3] → [3, 7] → [7, 5] → [5, 8])‍‍‍‍‍‌‍‍‍‌‌‌‍‌‌‍\n",
    "```\n",
    "不允许用dfs，要求复杂度很低"
   ]
  },
  {
   "cell_type": "code",
   "execution_count": 5,
   "id": "ea9dc404-96b3-49a9-aa01-9a9e90d6efe2",
   "metadata": {
    "tags": []
   },
   "outputs": [],
   "source": [
    "from typing import List, Dict\n",
    "def ConnectedComp(nodes: List[int], adj_m: Dict[int,List[int]]) -> List[List[int]]:\n",
    "    res = []\n",
    "    for n in nodes.keys():\n",
    "        if nodes[n]:\n",
    "            queue = [n]\n",
    "            p = 0\n",
    "            nodes[n] = False\n",
    "            while p < len(queue):\n",
    "                x = queue[p]\n",
    "                for y in adj_m[x]:\n",
    "                    if nodes[y]:\n",
    "                        queue.append(y)\n",
    "                        nodes[y] = False\n",
    "                p += 1\n",
    "            res.append(queue)\n",
    "    return res\n",
    "\n",
    "def LongestSeqConnected(nodes: List[int], adj_m: Dict[int,List[int]]) -> List[int]:\n",
    "    start_node =  nodes[0]\n",
    "    for n in nodes[1:]:\n",
    "        if n in adj_m:\n",
    "            if len(adj_m[n]) % 2 == 1 and len(adj_m[n]) < len(adj_m[start_node]):\n",
    "                start_node = n\n",
    "    stack = [start_node]\n",
    "    res = []\n",
    "    m = {}\n",
    "    for k, v in adj_m.items():\n",
    "        m[k] = {}\n",
    "        for x in v:\n",
    "            m[k][x] = True\n",
    "    while len(stack) > 0:\n",
    "        while stack[-1] in m and len(m[stack[-1]]) > 0:\n",
    "            x = m[stack[-1]].popitem()\n",
    "            del m[x[0]][stack[-1]]   # remove the other edge\n",
    "            stack.append(x[0])\n",
    "        res.append(stack.pop())\n",
    "    return res[::-1]\n",
    "\n",
    "#def LongestSeqConnected(nodes: List[int], adj_m: Dict[int,List[int]]) -> List[int]:\n",
    "    \n",
    "\n",
    "def LongestSeq(cards: List[List[int]]) -> int:\n",
    "    if len(cards) == 0:\n",
    "        return 0\n",
    "    adj_m = {}\n",
    "    nodes = {}\n",
    "    for e in cards:\n",
    "        if e[0] not in adj_m:\n",
    "            adj_m[e[0]] = []\n",
    "        adj_m[e[0]].append(e[1])\n",
    "        if e[1] not in adj_m:\n",
    "            adj_m[e[1]] = []\n",
    "        adj_m[e[1]].append(e[0])\n",
    "        if e[0] not in nodes:\n",
    "            nodes[e[0]] = True\n",
    "        if e[1] not in nodes:\n",
    "            nodes[e[1]] = True\n",
    "    connected_comps = ConnectedComp(nodes, adj_m)\n",
    "    paths = []\n",
    "    for comp in connected_comps:\n",
    "        paths.append(LongestSeqConnected(comp, adj_m))\n",
    "    \n",
    "    return max([len(p) for p in paths])-1"
   ]
  },
  {
   "cell_type": "code",
   "execution_count": 6,
   "id": "65a5a0d6-d50f-4db7-976d-e37097ffa028",
   "metadata": {
    "tags": []
   },
   "outputs": [
    {
     "data": {
      "text/plain": [
       "4"
      ]
     },
     "execution_count": 6,
     "metadata": {},
     "output_type": "execute_result"
    }
   ],
   "source": [
    "LongestSeq([[2,5],[4,8],[5,4],[3,7],[8,2],[1,7]])"
   ]
  },
  {
   "cell_type": "code",
   "execution_count": 7,
   "id": "360c138b-1643-45d5-a65f-e15927f70fbf",
   "metadata": {},
   "outputs": [
    {
     "ename": "AssertionError",
     "evalue": "",
     "output_type": "error",
     "traceback": [
      "\u001b[0;31m---------------------------------------------------------------------------\u001b[0m",
      "\u001b[0;31mAssertionError\u001b[0m                            Traceback (most recent call last)",
      "Cell \u001b[0;32mIn[7], line 9\u001b[0m\n\u001b[1;32m      7\u001b[0m \u001b[38;5;28;01massert\u001b[39;00m LongestSeq([[i, (i\u001b[38;5;241m+\u001b[39m\u001b[38;5;241m1\u001b[39m) \u001b[38;5;241m%\u001b[39m \u001b[38;5;241m1000\u001b[39m] \u001b[38;5;28;01mfor\u001b[39;00m i \u001b[38;5;129;01min\u001b[39;00m \u001b[38;5;28mrange\u001b[39m(\u001b[38;5;241m1000\u001b[39m)]) \u001b[38;5;241m==\u001b[39m \u001b[38;5;241m1000\u001b[39m\n\u001b[1;32m      8\u001b[0m \u001b[38;5;66;03m# 4. star\u001b[39;00m\n\u001b[0;32m----> 9\u001b[0m \u001b[38;5;28;01massert\u001b[39;00m LongestSeq([[\u001b[38;5;241m1\u001b[39m,i] \u001b[38;5;28;01mfor\u001b[39;00m i \u001b[38;5;129;01min\u001b[39;00m \u001b[38;5;28mrange\u001b[39m(\u001b[38;5;241m2\u001b[39m,\u001b[38;5;241m100\u001b[39m)]) \u001b[38;5;241m==\u001b[39m \u001b[38;5;241m2\u001b[39m\n\u001b[1;32m     10\u001b[0m \u001b[38;5;66;03m# 5. trail: find the correct start 8,4,1,9,6,3,1,2,5,7\u001b[39;00m\n\u001b[1;32m     11\u001b[0m \u001b[38;5;28;01massert\u001b[39;00m LongestSeq([[\u001b[38;5;241m2\u001b[39m,\u001b[38;5;241m5\u001b[39m],[\u001b[38;5;241m1\u001b[39m,\u001b[38;5;241m4\u001b[39m],[\u001b[38;5;241m6\u001b[39m,\u001b[38;5;241m9\u001b[39m],[\u001b[38;5;241m7\u001b[39m,\u001b[38;5;241m5\u001b[39m],[\u001b[38;5;241m1\u001b[39m,\u001b[38;5;241m2\u001b[39m],[\u001b[38;5;241m3\u001b[39m,\u001b[38;5;241m6\u001b[39m],[\u001b[38;5;241m1\u001b[39m,\u001b[38;5;241m9\u001b[39m],[\u001b[38;5;241m4\u001b[39m,\u001b[38;5;241m8\u001b[39m],[\u001b[38;5;241m1\u001b[39m,\u001b[38;5;241m3\u001b[39m]]) \u001b[38;5;241m==\u001b[39m \u001b[38;5;241m9\u001b[39m\n",
      "\u001b[0;31mAssertionError\u001b[0m: "
     ]
    }
   ],
   "source": [
    "# Test cases\n",
    "# 1. sample case\n",
    "assert LongestSeq([[1,3], [5,7], [3,7], [8,5], [10,11]]) == 4\n",
    "# 2. no edges\n",
    "assert LongestSeq([]) == 0\n",
    "# 3. cycle\n",
    "assert LongestSeq([[i, (i+1) % 1000] for i in range(1000)]) == 1000\n",
    "# 4. star\n",
    "assert LongestSeq([[1,i] for i in range(2,100)]) == 2\n",
    "# 5. trail: find the correct start 8,4,1,9,6,3,1,2,5,7\n",
    "assert LongestSeq([[2,5],[1,4],[6,9],[7,5],[1,2],[3,6],[1,9],[4,8],[1,3]]) == 9\n",
    "# 6. Multiple connected components\n",
    "assert LongestSeq([[2,5],[4,8],[5,4],[3,7],[8,2],[1,7]]) == 4\n",
    "# 7. two stars, find the correct starting point\n",
    "assert LongestSeq([[1,2],[1,3],[1,4],[1,5],[1,6],[4,7],[4,8],[4,9],[4,10]]) == 3\n",
    "# 8. find the correct starting point 8,2,1,3,2,6,7\n",
    "assert LongestSeq([[1,2],[2,3],[3,1],[4,3],[2,8],[5,2],[6,7],[2,6]]) == 6"
   ]
  },
  {
   "cell_type": "code",
   "execution_count": null,
   "id": "563c17d2-5ab1-425f-a49f-ad9fa3344971",
   "metadata": {},
   "outputs": [],
   "source": []
  },
  {
   "cell_type": "markdown",
   "id": "0145bb09-b790-4bf7-8638-2a7f3486414d",
   "metadata": {
    "tags": []
   },
   "source": [
    "# Problem 4"
   ]
  },
  {
   "cell_type": "markdown",
   "id": "14b441e0-23dc-49ec-998e-fcb8c9e80000",
   "metadata": {},
   "source": [
    "给了一道小车开车的题，问给N个长方形障碍物，每个障碍物坐标格式大概是{lower_left_x, lower_left_y,upper_right_x,upper_right_y}在一个X轴[0,100], Y不限制的这么一段路上。想判断路有没有被障碍物堵死，长方形挨着一点点就算堵"
   ]
  },
  {
   "cell_type": "code",
   "execution_count": 8,
   "id": "1fe6a519-aff4-4018-8536-1f2b2abe1f8b",
   "metadata": {
    "tags": []
   },
   "outputs": [],
   "source": [
    "import matplotlib.pyplot as plt\n",
    "from matplotlib.patches import Rectangle as plotRect\n",
    "\n",
    "class Rectangle:\n",
    "    def __init__(self, lower_left, upper_right):\n",
    "        self.lower_left_x = lower_left[0]\n",
    "        self.lower_left_y = lower_left[1]\n",
    "        self.upper_right_x = upper_right[0]\n",
    "        self.upper_right_y = upper_right[1]\n",
    "\n",
    "def plot_rectangles(rectangles: List[Rectangle]):\n",
    "\n",
    "    #define Matplotlib figure and axis\n",
    "    fig, ax = plt.subplots()\n",
    "\n",
    "    #add rectangle to plot\n",
    "    for i in range(len(rectangles)):\n",
    "        rect = rectangles[i]\n",
    "        ax.add_patch(plotRect((rect.lower_left_x, rect.lower_left_y), \n",
    "                               rect.upper_right_x-rect.lower_left_x , \n",
    "                               rect.upper_right_y-rect.lower_left_y,\n",
    "                              fill=False))\n",
    "        ax.annotate(f\"R{i}\", ((rect.lower_left_x + rect.upper_right_x)/2, (rect.lower_left_y + rect.upper_right_y)/2), \n",
    "                    color='blue', weight='bold', \n",
    "                fontsize=6, ha='center', va='center')\n",
    "    ax.set_xlim([0, 100])\n",
    "    ax.set_ylim([0, 100])\n",
    "\n",
    "    #display plot\n",
    "    plt.show()\n"
   ]
  },
  {
   "cell_type": "code",
   "execution_count": 9,
   "id": "b68d482f-134c-476e-ae56-b5fae48fa85d",
   "metadata": {
    "tags": []
   },
   "outputs": [
    {
     "data": {
      "image/png": "[encoded data removed]",
      "text/plain": [
       "<Figure size 640x480 with 1 Axes>"
      ]
     },
     "metadata": {},
     "output_type": "display_data"
    }
   ],
   "source": [
    "R1 = Rectangle((0,0),(50,20))\n",
    "R2 = Rectangle((80,10),(90,20))\n",
    "R3 = Rectangle((60,20),(95,70))\n",
    "R4 = Rectangle((50,10),(70,50))\n",
    "R5 = Rectangle((20,30),(40,80))\n",
    "R6 = Rectangle((10,75),(100,100))\n",
    "l3 = [R1, R2, R3, R4, R5, R6]\n",
    "plot_rectangles(l3)"
   ]
  },
  {
   "cell_type": "code",
   "execution_count": 10,
   "id": "93f673c3-bccc-401c-a16e-fd4ffb054a75",
   "metadata": {
    "tags": []
   },
   "outputs": [],
   "source": [
    "import random\n",
    "def generate_rectangles(n = 10, random_seed = 43):\n",
    "    recs = []\n",
    "    random.seed(random_seed)\n",
    "    for i in range(n):\n",
    "        centers = [random.random()*100 for _ in range(2)]\n",
    "        width = random.random()*50\n",
    "        height = random.random()*50\n",
    "        recs.append(Rectangle((max([centers[0]-width/2,0]), max([centers[1]-height/2,0])), \n",
    "                              (min([centers[0]+width/2,100]), min([centers[1]+height/2,100]))))\n",
    "    return recs"
   ]
  },
  {
   "cell_type": "code",
   "execution_count": 11,
   "id": "a627be1b-bfb3-4a07-963b-19f84e7ad812",
   "metadata": {
    "tags": []
   },
   "outputs": [],
   "source": [
    "import heapq\n",
    "\n",
    "def CheckBlock2D(rectangles: List[Rectangle]) -> bool:\n",
    "    '''\n",
    "        Output True if rectangles block the road, otherwise output False\n",
    "        Construct grids using the sides of all rectangles, each rectangle is a block\n",
    "        starting from the grids not being blocked at bottom, use BFS to see if any of the grid at the top is reachable.\n",
    "        O(n^2) time complexity, O(n^2) space complexity\n",
    "    '''\n",
    "    xs = sorted(list(set([rec.lower_left_x for rec in rectangles]+[rec.upper_right_x for rec in rectangles])))\n",
    "    ys = sorted(list(set([rec.lower_left_y for rec in rectangles]+[rec.upper_right_y for rec in rectangles])))\n",
    "    m, n = len(xs)-1, len(ys)-1\n",
    "    grid = [[0 for i in range(m)] for j in range(n)]\n",
    "    xdict = {xs[i]: i for i in range(m+1)}\n",
    "    ydict = {ys[j]: j for j in range(n+1)}\n",
    "    for rec in rectangles:\n",
    "        for i in range(ydict[rec.lower_left_y], ydict[rec.upper_right_y]):\n",
    "            for j in range(xdict[rec.lower_left_x], xdict[rec.upper_right_x]):\n",
    "                grid[i][j] = 1\n",
    "\n",
    "    queue = []\n",
    "    visited = {}\n",
    "    for i in range(m):\n",
    "        if grid[0][i] == 0:\n",
    "            queue.append([0,i])\n",
    "            visited[(0,i)] = True\n",
    "    p = 0\n",
    "    while p < len(queue):\n",
    "        g = queue[p]\n",
    "        if g[0]-1>=0 and (g[0]-1,g[1]) not in visited and grid[g[0]-1][g[1]] == 0:\n",
    "            queue.append([g[0]-1,g[1]])\n",
    "            visited[(g[0]-1,g[1])] = True\n",
    "        if g[0]+1<n and (g[0]+1,g[1]) not in visited and grid[g[0]+1][g[1]] == 0:\n",
    "            if g[0]+1 == n-1:\n",
    "                return False\n",
    "            queue.append([g[0]+1,g[1]])\n",
    "            visited[(g[0]+1,g[1])] = True\n",
    "        if g[1]-1>=0 and (g[0],g[1]-1) not in visited and grid[g[0]][g[1]-1] == 0:\n",
    "            queue.append([g[0],g[1]-1])\n",
    "            visited[(g[0],g[1]-1)] = True\n",
    "        if g[1]+1<m and (g[0],g[1]+1) not in visited and grid[g[0]][g[1]+1] == 0:\n",
    "            queue.append([g[0],g[1]+1])\n",
    "            visited[(g[0],g[1]+1)] = True\n",
    "        p += 1\n",
    "    return True"
   ]
  },
  {
   "cell_type": "code",
   "execution_count": 12,
   "id": "52230b60-7bc5-4893-9658-52fab573bd0d",
   "metadata": {
    "tags": []
   },
   "outputs": [
    {
     "data": {
      "image/png": "[encoded data removed]",
      "text/plain": [
       "<Figure size 640x480 with 1 Axes>"
      ]
     },
     "metadata": {},
     "output_type": "display_data"
    },
    {
     "data": {
      "text/plain": [
       "False"
      ]
     },
     "execution_count": 12,
     "metadata": {},
     "output_type": "execute_result"
    }
   ],
   "source": [
    "l = generate_rectangles(n=12, random_seed=300)\n",
    "plot_rectangles(l)\n",
    "CheckBlock2D(l)"
   ]
  },
  {
   "cell_type": "code",
   "execution_count": 13,
   "id": "004e2c4a-60f4-4c12-8cd2-8dd19626f508",
   "metadata": {
    "tags": []
   },
   "outputs": [
    {
     "data": {
      "image/png": "[encoded data removed]",
      "text/plain": [
       "<Figure size 640x480 with 1 Axes>"
      ]
     },
     "metadata": {},
     "output_type": "display_data"
    },
    {
     "data": {
      "text/plain": [
       "True"
      ]
     },
     "execution_count": 13,
     "metadata": {},
     "output_type": "execute_result"
    }
   ],
   "source": [
    "l = []\n",
    "for i in range(0,100,10):\n",
    "    l.append(Rectangle((i,i),(i+10,i+10)))\n",
    "plot_rectangles(l)\n",
    "CheckBlock2D(l)"
   ]
  },
  {
   "cell_type": "code",
   "execution_count": 14,
   "id": "abb994cb-4aff-4b12-8fb1-7e09072b801b",
   "metadata": {
    "tags": []
   },
   "outputs": [
    {
     "data": {
      "image/png": "[encoded data removed]",
      "text/plain": [
       "<Figure size 640x480 with 1 Axes>"
      ]
     },
     "metadata": {},
     "output_type": "display_data"
    },
    {
     "data": {
      "text/plain": [
       "True"
      ]
     },
     "execution_count": 14,
     "metadata": {},
     "output_type": "execute_result"
    }
   ],
   "source": [
    "l = []\n",
    "for i in range(0,100,10):\n",
    "    l.append(Rectangle((i,90-i),(i+10,100-i)))\n",
    "plot_rectangles(l)\n",
    "CheckBlock2D(l)"
   ]
  },
  {
   "cell_type": "code",
   "execution_count": 15,
   "id": "f3dd0bed-b222-4ab4-bfb4-1c7a102f3e15",
   "metadata": {
    "tags": []
   },
   "outputs": [
    {
     "data": {
      "image/png": "[encoded data removed]",
      "text/plain": [
       "<Figure size 640x480 with 1 Axes>"
      ]
     },
     "metadata": {},
     "output_type": "display_data"
    },
    {
     "data": {
      "text/plain": [
       "False"
      ]
     },
     "execution_count": 15,
     "metadata": {},
     "output_type": "execute_result"
    }
   ],
   "source": [
    "R1 = Rectangle((0,0),(50,20))\n",
    "R2 = Rectangle((80,10),(90,20))\n",
    "R3 = Rectangle((60,20),(95,70))\n",
    "R4 = Rectangle((50,10),(70,50))\n",
    "R5 = Rectangle((20,30),(40,80))\n",
    "R6 = Rectangle((10,75),(100,100))\n",
    "l = [R1, R2, R3, R4, R5, R6]\n",
    "plot_rectangles(l)\n",
    "CheckBlock2D(l)"
   ]
  },
  {
   "cell_type": "code",
   "execution_count": 16,
   "id": "9a6bec02-ac9d-4de0-a0c6-713d53b2332f",
   "metadata": {
    "tags": []
   },
   "outputs": [
    {
     "data": {
      "image/png": "[encoded data removed]",
      "text/plain": [
       "<Figure size 640x480 with 1 Axes>"
      ]
     },
     "metadata": {},
     "output_type": "display_data"
    },
    {
     "data": {
      "text/plain": [
       "True"
      ]
     },
     "execution_count": 16,
     "metadata": {},
     "output_type": "execute_result"
    }
   ],
   "source": [
    "R1 = Rectangle((0,0),(50,20))\n",
    "R2 = Rectangle((80,10),(90,20))\n",
    "R3 = Rectangle((60,20),(95,70))\n",
    "R4 = Rectangle((50,10),(70,50))\n",
    "R5 = Rectangle((20,30),(40,80))\n",
    "R6 = Rectangle((10,75),(100,100))\n",
    "R7 = Rectangle((25,20),(30,30))\n",
    "l = [R1, R2, R3, R4, R5, R6,R7]\n",
    "plot_rectangles(l)\n",
    "CheckBlock2D(l)"
   ]
  },
  {
   "cell_type": "code",
   "execution_count": null,
   "id": "ab18dd16-54f8-4059-8c2e-58402e096e0b",
   "metadata": {},
   "outputs": [],
   "source": []
  },
  {
   "cell_type": "code",
   "execution_count": null,
   "id": "5a59e74e-3d03-4e50-9804-59397c7f32a6",
   "metadata": {},
   "outputs": [],
   "source": []
  }
 ],
 "metadata": {
  "kernelspec": {
   "display_name": "Python 3 (ipykernel)",
   "language": "python",
   "name": "python3"
  },
  "language_info": {
   "codemirror_mode": {
    "name": "ipython",
    "version": 3
   },
   "file_extension": ".py",
   "mimetype": "text/x-python",
   "name": "python",
   "nbconvert_exporter": "python",
   "pygments_lexer": "ipython3",
   "version": "3.8.12"
  }
 },
 "nbformat": 4,
 "nbformat_minor": 5
}
