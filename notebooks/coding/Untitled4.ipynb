{
 "cells": [
  {
   "cell_type": "code",
   "execution_count": null,
   "id": "608ebd3c-f695-4fac-9048-23c9e6b50e0e",
   "metadata": {},
   "outputs": [],
   "source": [
    "Input: paint = [[1,4],[4,7],[5,8]]\n",
    "Output: [3,3,1]\n",
    "\n",
    "Input: paint = [[1,4],[5,8],[4,7]]\n",
    "Output: [3,3,1]\n",
    "\n",
    "Input: paint = [[1,5],[2,4]]\n",
    "Output: [4,0]\n"
   ]
  },
  {
   "cell_type": "code",
   "execution_count": 10,
   "id": "0170a992-0213-4534-885f-19d5be58741b",
   "metadata": {
    "tags": []
   },
   "outputs": [],
   "source": [
    "def merge_intervals(intervals, new_itv):\n",
    "    p = 0\n",
    "    res = []\n",
    "    while p < len(intervals) and intervals[p][1] < new_itv[0]:\n",
    "        res.append(intervals[p])\n",
    "        p += 1\n",
    "        \n",
    "    cur_left, cur_right = new_itv[0], new_itv[1]\n",
    "    overlap = 0\n",
    "    while p < len(intervals):\n",
    "        x = intervals[p]\n",
    "        if x[0] <= cur_right: # current merged interval ends after the start of x\n",
    "            cur_left, cur_right = min([cur_left, x[0]]), max([cur_right, x[1]]) \n",
    "            overlap += min([new_itv[1], x[1]]) - max([new_itv[0], x[0]])\n",
    "        else:\n",
    "            break\n",
    "        p += 1\n",
    "        \n",
    "    res.append([cur_left, cur_right])\n",
    "    res.extend(intervals[p:])\n",
    "    return res, overlap"
   ]
  },
  {
   "cell_type": "code",
   "execution_count": 17,
   "id": "42e73b55-3033-4ffd-84e4-ec6693a4a950",
   "metadata": {
    "tags": []
   },
   "outputs": [
    {
     "data": {
      "text/plain": [
       "([[1, 2]], 0)"
      ]
     },
     "execution_count": 17,
     "metadata": {},
     "output_type": "execute_result"
    }
   ],
   "source": [
    "merge_intervals([], [1,2])"
   ]
  },
  {
   "cell_type": "code",
   "execution_count": 23,
   "id": "6bf64769-9007-43d0-912e-e656098c8729",
   "metadata": {
    "tags": []
   },
   "outputs": [],
   "source": [
    "from typing import List\n",
    "def amountPainted(paint: List[List[int]]) -> List[int]:\n",
    "    def merge_intervals(intervals, new_itv):\n",
    "        # merge new_itv into intervals, return both the merged intervals and overlap length\n",
    "        # e.g., [[1,3], [3,5], [6,10], [12,18]], [-1,6] -> [[-1,10], [12,18]], 4\n",
    "        \n",
    "        p = 0\n",
    "        res = []\n",
    "        # find the first interval that may overlap with new_itv\n",
    "        while p < len(intervals) and intervals[p][1] < new_itv[0]:\n",
    "            res.append(intervals[p])\n",
    "            p += 1\n",
    "\n",
    "        cur_left, cur_right = new_itv[0], new_itv[1]\n",
    "        overlap = 0\n",
    "        while p < len(intervals):\n",
    "            x = intervals[p]\n",
    "            if x[0] <= cur_right: # current merged interval ends after the start of x\n",
    "                cur_left, cur_right = min([cur_left, x[0]]), max([cur_right, x[1]]) # update left/right endpoints\n",
    "                overlap += min([new_itv[1], x[1]]) - max([new_itv[0], x[0]]) # update overlap\n",
    "            else:\n",
    "                break\n",
    "            p += 1\n",
    "\n",
    "        res.append([cur_left, cur_right])\n",
    "        res.extend(intervals[p:])\n",
    "        return res, overlap\n",
    "    \n",
    "    res = []\n",
    "    intervals = []\n",
    "    for p in paint:\n",
    "        intervals, overlap = merge_intervals(intervals, p)\n",
    "        res.append(p[1] - p[0] - overlap)\n",
    "    return res\n",
    "        "
   ]
  },
  {
   "cell_type": "code",
   "execution_count": 24,
   "id": "b08ebcbb-4b61-40b4-84e3-3fa4fe24db2b",
   "metadata": {
    "tags": []
   },
   "outputs": [
    {
     "data": {
      "text/plain": [
       "[3, 3, 1]"
      ]
     },
     "execution_count": 24,
     "metadata": {},
     "output_type": "execute_result"
    }
   ],
   "source": [
    "amountPainted([[1,4],[5,8],[4,7]])"
   ]
  },
  {
   "cell_type": "code",
   "execution_count": 29,
   "id": "3757304b-442a-4e04-a20a-5dc7908c1455",
   "metadata": {
    "tags": []
   },
   "outputs": [
    {
     "data": {
      "text/plain": [
       "(0, 1)"
      ]
     },
     "execution_count": 29,
     "metadata": {},
     "output_type": "execute_result"
    }
   ],
   "source": [
    "import numpy as np\n",
    "tuple(np.array((0,1)))"
   ]
  },
  {
   "cell_type": "code",
   "execution_count": 32,
   "id": "efe6e932-69a7-432a-93f5-8afde22a73f1",
   "metadata": {
    "tags": []
   },
   "outputs": [],
   "source": [
    "t = [[((1,0),(0,1))]]\n",
    "for _ in range(10):\n",
    "    p = 0\n",
    "    res = []\n",
    "    while p < len(t[-1]):\n",
    "        x = t[-1][p]\n",
    "        res.append((tuple(np.array(x[0])+np.array(x[1])), x[1]))\n",
    "        res.append((x[0], tuple(np.array(x[0])+np.array(x[1]))))\n",
    "        p += 1\n",
    "    t.append(res)"
   ]
  },
  {
   "cell_type": "code",
   "execution_count": 38,
   "id": "2f907313-81dc-460f-8ecc-3a92c835c387",
   "metadata": {
    "tags": []
   },
   "outputs": [],
   "source": [
    "def incre_quad(l):\n",
    "    n = len(l)\n",
    "    dp = [[0 for i in range(n)] for j in range(4)]\n",
    "    for i in range(4):\n",
    "        for j in range(n):\n",
    "            if i==0:\n",
    "                dp[i][j] = 1 # 1 possible increasing seq with last element at pos j \n",
    "            else:\n",
    "                for k in range(j): # search index before j\n",
    "                    if l[k] < l[j]:\n",
    "                        dp[i][j] += dp[i-1][k]\n",
    "                \n",
    "    return dp[3][n-1]"
   ]
  },
  {
   "cell_type": "code",
   "execution_count": 41,
   "id": "60395bf1-7db6-4cc2-a2a3-b5ea554c0745",
   "metadata": {
    "tags": []
   },
   "outputs": [
    {
     "data": {
      "text/plain": [
       "1"
      ]
     },
     "execution_count": 41,
     "metadata": {},
     "output_type": "execute_result"
    }
   ],
   "source": [
    "incre_quad([1,2,3,4])"
   ]
  },
  {
   "cell_type": "code",
   "execution_count": null,
   "id": "649d695b-ee9f-45e3-87d7-e9085e349e27",
   "metadata": {},
   "outputs": [],
   "source": []
  }
 ],
 "metadata": {
  "kernelspec": {
   "display_name": "Python 3 (ipykernel)",
   "language": "python",
   "name": "python3"
  },
  "language_info": {
   "codemirror_mode": {
    "name": "ipython",
    "version": 3
   },
   "file_extension": ".py",
   "mimetype": "text/x-python",
   "name": "python",
   "nbconvert_exporter": "python",
   "pygments_lexer": "ipython3",
   "version": "3.8.12"
  }
 },
 "nbformat": 4,
 "nbformat_minor": 5
}
