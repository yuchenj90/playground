{
 "cells": [
  {
   "cell_type": "markdown",
   "metadata": {},
   "source": [
    "**Problem:**\n",
    "> Given a sorted array of size n, find all majority elements. The majority element is the element that appears more than n/4 times. You may assume that the array is non-empty. If a majority element doesn't exist, return empty list. Can you achieve it in O(log n) time?"
   ]
  },
  {
   "cell_type": "markdown",
   "metadata": {},
   "source": [
    "**Solution:**\n",
    "\n",
    ">1. Let k=[n/4]+1. Majority element (if exists) must from the set {A[0], A[[n/4]+1], A[ceil(2n/4)], A[ceil(3n/4)], A[n-1]}\n",
    "2. For each value in the set, find the initial position the value appears in the array A using binary search. Say {i_0=0, i_1, i_2, i_3, i_4}\n",
    "3. check if A[i_t] = A[i_t+k-1]. If true, then A[i_t] is a majority element."
   ]
  },
  {
   "cell_type": "code",
   "execution_count": 41,
   "metadata": {},
   "outputs": [],
   "source": [
    "def findMajority(A):\n",
    "    \n",
    "    def get_first_index(num, A):\n",
    "        # using binary search to get first index num occurred in sorted array A\n",
    "        left = 0\n",
    "        right = len(A)-1\n",
    "        while (left<right):\n",
    "            mid = int((left+right)/2)\n",
    "            if A[mid]<c:\n",
    "                left = mid + 1\n",
    "            else:\n",
    "                right = mid - 1\n",
    "        if (right<0) or (A[right]<c):\n",
    "            return right+1\n",
    "        else:\n",
    "            return right\n",
    "        \n",
    "    if len(A)==0:\n",
    "        return []\n",
    "    if len(A)<4:\n",
    "        return list(dict.fromkeys(A))\n",
    "    n = len(A)\n",
    "    k = int(n/4)+1\n",
    "    candidate = [A[0], A[int((n-1)/4)+1], A[int((n-1)/2)+1], A[int((n-1)*3/4)+1], A[-1]]\n",
    "    res = {}\n",
    "    for c in candidate:\n",
    "        i = get_first_index(c, A)\n",
    "        if (i+k-1 < len(A)) and (A[i] == A[i+k-1]):\n",
    "            res.update({c:True})\n",
    "    return list(res.keys())"
   ]
  },
  {
   "cell_type": "code",
   "execution_count": 42,
   "metadata": {},
   "outputs": [
    {
     "data": {
      "text/plain": [
       "[2]"
      ]
     },
     "execution_count": 42,
     "metadata": {},
     "output_type": "execute_result"
    }
   ],
   "source": [
    "findMajority([0,0,0,1,1,1,2,2,2,2,3,4,5])"
   ]
  },
  {
   "cell_type": "code",
   "execution_count": 43,
   "metadata": {},
   "outputs": [
    {
     "data": {
      "text/plain": [
       "[]"
      ]
     },
     "execution_count": 43,
     "metadata": {},
     "output_type": "execute_result"
    }
   ],
   "source": [
    "findMajority([0,0,0,1,1,1,2,2,2,3,3,3])"
   ]
  },
  {
   "cell_type": "code",
   "execution_count": 46,
   "metadata": {},
   "outputs": [
    {
     "data": {
      "text/plain": [
       "[0, 1]"
      ]
     },
     "execution_count": 46,
     "metadata": {},
     "output_type": "execute_result"
    }
   ],
   "source": [
    "findMajority([0,0,1,1,2])"
   ]
  },
  {
   "cell_type": "code",
   "execution_count": 45,
   "metadata": {},
   "outputs": [
    {
     "data": {
      "text/plain": [
       "[]"
      ]
     },
     "execution_count": 45,
     "metadata": {},
     "output_type": "execute_result"
    }
   ],
   "source": [
    "findMajority([0,0,1,1,2,3,3,4])"
   ]
  },
  {
   "cell_type": "markdown",
   "metadata": {},
   "source": [
    "**Problem:** \n",
    "> Given an array nums of length n and an int k. All the elements are non-negative integers and the same elements are adjacent in the array (but the array is not sorted). Find the majority element. The majority element is any element that appears more than n/k times. If there's no majority element return -1. Can you do better than O(n)?  \n",
    "\n",
    "**Example:** \n",
    ">**Input**: nums = [1, 1, 1, 1, 3, 4, 0, 0, 0, 0, 0, 9], k = 3  \n",
    "**Output**: 0  \n",
    "**Explanation**: n = 12 -> n / k = 12 / 3 = 4. Only 0 appears more than 4 times so return 0.  \n"
   ]
  },
  {
   "cell_type": "markdown",
   "metadata": {},
   "source": [
    "**Solution:**\n",
    "> 1. Majority element (if exists) must from the set {A[0], A[ceil(n/k)], A[ceil(2n/k)], ..., A[ceil((k-1)n/k)], A[n-1]}\n",
    "2. For each value in the set, find the first position the value appears in the array A using binary search. Say {i_0=0, i_1, i_2, ..., i_k}\n",
    "3. check if A[i_t] = A[i_t+k-1]. If true, then A[i_t] is a majority element.  \n",
    "Time complexity is O(klog n)"
   ]
  },
  {
   "cell_type": "code",
   "execution_count": 70,
   "metadata": {},
   "outputs": [],
   "source": [
    "def findMajority(A,k):\n",
    "    def findFirstloc(A,c,left,right):\n",
    "        while (left<right):\n",
    "            mid = int((left+right)/2)\n",
    "            if A[mid]!=c:\n",
    "                left = mid + 1\n",
    "            else:\n",
    "                right = mid - 1\n",
    "        if (right<0) or (A[right]!=c):\n",
    "            return right+1\n",
    "        else:\n",
    "            return right\n",
    "                \n",
    "    n = len(A)\n",
    "    if n==0:\n",
    "        return []\n",
    "    t = int(n/k) + 1\n",
    "    candidates = []\n",
    "    pos = 0\n",
    "    res = {}\n",
    "    while pos<n:\n",
    "        candidates.append([pos,A[pos]])\n",
    "        pos += t\n",
    "    #print(candidates)\n",
    "    for c in candidates:\n",
    "        loc = findFirstloc(A,c[1],0,c[0])\n",
    "        #print(loc)\n",
    "        if (loc+t-1<n) and (A[loc]==A[loc+t-1]):\n",
    "            res.update({A[loc]:True})\n",
    "    \n",
    "    return list(res.keys())"
   ]
  },
  {
   "cell_type": "code",
   "execution_count": 71,
   "metadata": {},
   "outputs": [
    {
     "data": {
      "text/plain": [
       "[0]"
      ]
     },
     "execution_count": 71,
     "metadata": {},
     "output_type": "execute_result"
    }
   ],
   "source": [
    "findMajority([1, 1, 1, 1, 3, 4, 0, 0, 0, 0, 0, 9],3)"
   ]
  },
  {
   "cell_type": "code",
   "execution_count": 80,
   "metadata": {},
   "outputs": [
    {
     "data": {
      "text/plain": [
       "[6, 9, 2, 5]"
      ]
     },
     "execution_count": 80,
     "metadata": {},
     "output_type": "execute_result"
    }
   ],
   "source": [
    "findMajority([6,6,6,3,3,9,9,9,9,2,2,2,1,5,5,5,5,8],7)"
   ]
  },
  {
   "cell_type": "code",
   "execution_count": null,
   "metadata": {},
   "outputs": [],
   "source": []
  },
  {
   "cell_type": "markdown",
   "metadata": {},
   "source": [
    "**Leetcode 169/229**\n",
    "\n",
    "> Given an integer array of size n, write an algorithm run in linear time and in O(1) space to\n",
    "> 1. find all elements that appear more than ⌊ n/2 ⌋ times.\n",
    "> 2. find all elements that appear more than ⌊ n/3 ⌋ times.\n",
    "\n",
    "\n",
    "**Example:**  \n",
    ">**Input:** [1,1,3,1,2,1,2,2,1,2,1]  \n",
    "**Output:** [1], [1,2]"
   ]
  },
  {
   "cell_type": "markdown",
   "metadata": {},
   "source": [
    "**Solutions:**\n",
    "> * For the first question, we maintain a candidate x and a counter c. Scan through the array,\n",
    ">  * If x is not set, we set it to the current element and set c = 1\n",
    ">  * If the current element is x then we increase the counter by 1, otherwise we decrease the counter by 1.\n",
    ">  * If the counter reaches zero, we reset the candidate to current element.  \n",
    "> * After we scan through the array, we must left with the only candidate that can appear more than ⌊ n/2 ⌋ times. Why? Suppose we switch numbers at positions i_0=0, i_1, ..., i_k,\n",
    ">  * For any interval \\[i_j,i_\\{j+1\\}\\), A\\[i_j\\] appeared (i_\\{j+1\\}-i_j+1)/2 times, more than any other elements in that range.\n",
    ">  * If the correct element was not chosen before i_j, it cannot appear more than n/2 times in interval \\[0, i_j\\)\n",
    ">  * At index i, any number other than the candidate cannot appear more than i/2 times in interval \\[0,i\\)\n",
    "\n",
    "> * For the second question, we use the similar approach.\n",
    ">  * At most 2 elements will appear more than ⌊ n/3 ⌋ times. Hence, we maintain two candidates: x1, x2 and the counter c1, c2.\n",
    ">  * Scan through the list, each time we saw one element we increase its counter by 1. If we saw a number that was not one of the candidate, we decrease both counters by 1. \n",
    ">  * If a counter reaches 0, we reset the candidate.  \n",
    "> * After the scan, the remaining two candidates are the only two possibilities. Another scan through the array can validate if they satisfy the condition.\n",
    "\n",
    "> * In general, if we want to find all elements that appear more than n/k times, we maintain k-1 candidates and their counts. After scan through the array, we left with final k-1 candidates and double check if they satisfy the condition by another scan over the array. The space complexity is O(k) and time complexity is O(nk)."
   ]
  },
  {
   "cell_type": "code",
   "execution_count": 116,
   "metadata": {},
   "outputs": [],
   "source": [
    "def findMajorityElements(A,k):\n",
    "    candidate = {}\n",
    "    for i in range(len(A)):\n",
    "        if A[i] in candidate:\n",
    "            candidate[A[i]] += 1\n",
    "        else:\n",
    "            if len(candidate)<k-1:\n",
    "                candidate[A[i]] = 1\n",
    "            else:\n",
    "                for x in candidate.copy().keys():\n",
    "                    if candidate[x]==1:\n",
    "                        del candidate[x]\n",
    "                    else:\n",
    "                        candidate[x] -= 1\n",
    "    for x in candidate.keys():\n",
    "        candidate[x] = 0\n",
    "        \n",
    "    for i in range(len(A)):\n",
    "        if A[i] in candidate:\n",
    "            candidate[A[i]] += 1\n",
    "    \n",
    "    res = []\n",
    "    for x,v in candidate.items():\n",
    "        if v > len(A)*1.0/k:\n",
    "            res.append(x)\n",
    "                \n",
    "    return res"
   ]
  },
  {
   "cell_type": "code",
   "execution_count": 118,
   "metadata": {},
   "outputs": [
    {
     "data": {
      "text/plain": [
       "[1]"
      ]
     },
     "execution_count": 118,
     "metadata": {},
     "output_type": "execute_result"
    }
   ],
   "source": [
    "A = [1,1,3,1,2,1,2,2,1,2,1] \n",
    "k = 2\n",
    "findMajorityElements(A,k)"
   ]
  },
  {
   "cell_type": "code",
   "execution_count": 122,
   "metadata": {},
   "outputs": [
    {
     "data": {
      "text/plain": [
       "[1, 2]"
      ]
     },
     "execution_count": 122,
     "metadata": {},
     "output_type": "execute_result"
    }
   ],
   "source": [
    "A = [1,2,1,3,1,2,1,2,2,2,1,1,1,2,1,1] \n",
    "k = 3\n",
    "findMajorityElements(A,k)"
   ]
  },
  {
   "cell_type": "code",
   "execution_count": null,
   "metadata": {},
   "outputs": [],
   "source": []
  }
 ],
 "metadata": {
  "kernelspec": {
   "display_name": "Python 3",
   "language": "python",
   "name": "python3"
  },
  "language_info": {
   "codemirror_mode": {
    "name": "ipython",
    "version": 3
   },
   "file_extension": ".py",
   "mimetype": "text/x-python",
   "name": "python",
   "nbconvert_exporter": "python",
   "pygments_lexer": "ipython3",
   "version": "3.7.7"
  }
 },
 "nbformat": 4,
 "nbformat_minor": 4
}
