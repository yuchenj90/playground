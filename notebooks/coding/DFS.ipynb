{
 "cells": [
  {
   "cell_type": "code",
   "execution_count": 1,
   "id": "597f05f5-2651-4e42-932e-a46f445f62dd",
   "metadata": {
    "tags": []
   },
   "outputs": [],
   "source": [
    "from typing import List"
   ]
  },
  {
   "cell_type": "code",
   "execution_count": 10,
   "id": "2e404841-4c94-4577-87a2-3e623cfe56e2",
   "metadata": {
    "tags": []
   },
   "outputs": [],
   "source": [
    "def DFS_recursive(nodes: List[str], edges: List[List[str]], start_node: str) -> List[str]:\n",
    "    adj_m = {}\n",
    "    for e in edges:\n",
    "        if e[0] not in adj_m:\n",
    "            adj_m[e[0]] = []\n",
    "        adj_m[e[0]].append(e[1])\n",
    "    visited = {n: False for n in nodes}\n",
    "\n",
    "    def recur(node, res):\n",
    "        visited[node] = True\n",
    "        res += node\n",
    "        if node in adj_m:\n",
    "            for nn in adj_m[node]:\n",
    "                if not visited[nn]:\n",
    "                    recur(nn, res)\n",
    "                    \n",
    "    res = []\n",
    "    recur(start_node, res)\n",
    "    return res"
   ]
  },
  {
   "cell_type": "code",
   "execution_count": 17,
   "id": "714f45b4-a1ef-475f-9fcb-dd93dab0f42f",
   "metadata": {
    "tags": []
   },
   "outputs": [
    {
     "data": {
      "text/plain": [
       "['A', 'E', 'B', 'C', 'D']"
      ]
     },
     "execution_count": 17,
     "metadata": {},
     "output_type": "execute_result"
    }
   ],
   "source": [
    "nodes = [\"A\", \"B\", \"C\", \"D\", \"E\"]\n",
    "edges = [[\"A\", \"E\"], [\"A\", \"B\"], [\"B\", \"C\"], [\"C\", \"D\"]]\n",
    "DFS_recursive(nodes, edges, \"A\")"
   ]
  },
  {
   "cell_type": "code",
   "execution_count": null,
   "id": "ef143aac-05a0-420b-b26a-845cd61159e0",
   "metadata": {},
   "outputs": [],
   "source": []
  },
  {
   "cell_type": "code",
   "execution_count": null,
   "id": "9acea630-6ae6-403f-874a-3dd99b06ae71",
   "metadata": {},
   "outputs": [],
   "source": [
    "def DFS_iterative(nodes: List[str], edges: List[List[str]], start_node: str) -> List[str]:\n",
    "    adj_m = {}\n",
    "    for e in edges:\n",
    "        if e[0] not in adj_m:\n",
    "            adj_m[e[0]] = []\n",
    "        adj_m[e[0]].append(e[1])\n",
    "        \n",
    "    stack = [start_node]\n",
    "    res = []\n",
    "    \n",
    "    while len(stack) > 0:\n",
    "        while stack[-1] in adj_m:\n",
    "            adj_m[stack[-1]]\n",
    "        res = stack.pop()"
   ]
  }
 ],
 "metadata": {
  "kernelspec": {
   "display_name": "Python 3 (ipykernel)",
   "language": "python",
   "name": "python3"
  },
  "language_info": {
   "codemirror_mode": {
    "name": "ipython",
    "version": 3
   },
   "file_extension": ".py",
   "mimetype": "text/x-python",
   "name": "python",
   "nbconvert_exporter": "python",
   "pygments_lexer": "ipython3",
   "version": "3.8.12"
  }
 },
 "nbformat": 4,
 "nbformat_minor": 5
}
