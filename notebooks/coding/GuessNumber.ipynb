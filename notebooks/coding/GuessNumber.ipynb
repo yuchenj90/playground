{
 "cells": [
  {
   "cell_type": "markdown",
   "metadata": {},
   "source": [
    "## Leetcode 375: Guess Number Higher or Lower II\n",
    "> We are playing the Guessing Game. The game will work as follows:  \n",
    "> I pick a number between 1 and n.  \n",
    "You guess a number.\n",
    "If you guess the right number, you win the game.  \n",
    "If you guess the wrong number, then I will tell you whether the number I picked is higher or lower, and you will continue guessing.  \n",
    "Every time you guess a wrong number x, you will pay x dollars. If you run out of money, you lose the game.  \n",
    "Given a particular n, return the minimum amount of money you need to guarantee a win regardless of what number I pick.\n",
    "\n"
   ]
  },
  {
   "cell_type": "code",
   "execution_count": 12,
   "metadata": {},
   "outputs": [],
   "source": [
    "import numpy as np\n",
    "from matplotlib import pyplot as plt"
   ]
  },
  {
   "cell_type": "code",
   "execution_count": 16,
   "metadata": {},
   "outputs": [],
   "source": [
    "def min_money_to_win(n):\n",
    "    \"\"\"\n",
    "    :type n: int\n",
    "    :rtype: int\n",
    "    \"\"\"\n",
    "    # v[i][j] denote the min money to guarantee win if number is between i+1 and j+1\n",
    "    # v[i][i]=0, want v[0][n-1]\n",
    "\n",
    "    v = []\n",
    "    strategy = []\n",
    "    for i in range(n):\n",
    "        v.append([np.inf for j in range(n)])\n",
    "        strategy.append([-1 for j in range(n)])\n",
    "\n",
    "    for s in range(n):\n",
    "        for i in range(n-s):\n",
    "            j = i+s\n",
    "            if i==j:\n",
    "                v[i][j] = 0\n",
    "                strategy[i][j] = i\n",
    "            elif j-i==1:\n",
    "                v[i][j] = i+1\n",
    "                strategy[i][j] = i\n",
    "            else:\n",
    "                for k in range(i+1,j):\n",
    "                    if v[i][j]>k+1+max(v[i][k-1],v[k+1][j]):\n",
    "                        v[i][j] = k+1+max(v[i][k-1],v[k+1][j])\n",
    "                        strategy[i][j] = k\n",
    "\n",
    "    return v,strategy"
   ]
  },
  {
   "cell_type": "code",
   "execution_count": 17,
   "metadata": {},
   "outputs": [],
   "source": [
    "a,b = min_money_to_win(500)"
   ]
  },
  {
   "cell_type": "code",
   "execution_count": 18,
   "metadata": {},
   "outputs": [
    {
     "data": {
      "text/plain": [
       "[<matplotlib.lines.Line2D at 0x120b1ef70>]"
      ]
     },
     "execution_count": 18,
     "metadata": {},
     "output_type": "execute_result"
    },
    {
     "data": {
      "image/png": "[encoded data removed]",
      "text/plain": [
       "<Figure size 432x288 with 1 Axes>"
      ]
     },
     "metadata": {
      "needs_background": "light"
     },
     "output_type": "display_data"
    }
   ],
   "source": [
    "plt.plot(a[0])"
   ]
  },
  {
   "cell_type": "code",
   "execution_count": 8,
   "metadata": {},
   "outputs": [
    {
     "data": {
      "text/plain": [
       "436"
      ]
     },
     "execution_count": 8,
     "metadata": {},
     "output_type": "execute_result"
    }
   ],
   "source": [
    "b[0][499]"
   ]
  },
  {
   "cell_type": "code",
   "execution_count": 9,
   "metadata": {},
   "outputs": [
    {
     "data": {
      "text/plain": [
       "468"
      ]
     },
     "execution_count": 9,
     "metadata": {},
     "output_type": "execute_result"
    }
   ],
   "source": [
    "b[436][499]"
   ]
  },
  {
   "cell_type": "code",
   "execution_count": 15,
   "metadata": {},
   "outputs": [
    {
     "data": {
      "text/plain": [
       "[<matplotlib.lines.Line2D at 0x12074fb50>]"
      ]
     },
     "execution_count": 15,
     "metadata": {},
     "output_type": "execute_result"
    },
    {
     "data": {
      "image/png": "[encoded data removed]",
      "text/plain": [
       "<Figure size 432x288 with 1 Axes>"
      ]
     },
     "metadata": {
      "needs_background": "light"
     },
     "output_type": "display_data"
    }
   ],
   "source": [
    "plt.plot(b[0])"
   ]
  },
  {
   "cell_type": "code",
   "execution_count": null,
   "metadata": {},
   "outputs": [],
   "source": []
  },
  {
   "cell_type": "markdown",
   "metadata": {},
   "source": [
    "## To compute the expected cost of the game, assuming uniform distribution of the number picked"
   ]
  },
  {
   "cell_type": "code",
   "execution_count": 21,
   "metadata": {},
   "outputs": [],
   "source": [
    "def get_expected_cost(n):\n",
    "    \"\"\"\n",
    "    :type n: int\n",
    "    :rtype: int\n",
    "    \"\"\"\n",
    "    # v[i][j] denote the min expected money to the game if number is between i and j\n",
    "    # v[i][i]=0, want v[0][n-1]\n",
    "\n",
    "    v = []\n",
    "    strategy = []\n",
    "    for i in range(n):\n",
    "        v.append([np.inf for j in range(n)])\n",
    "        strategy.append([-1 for j in range(n)])\n",
    "\n",
    "    for s in range(n):\n",
    "        for i in range(n-s):\n",
    "            j = i+s\n",
    "            if i==j:\n",
    "                v[i][j] = 0\n",
    "                strategy[i][j] = i\n",
    "            else:\n",
    "                for k in range(i,j+1):\n",
    "                    if k==i:\n",
    "                        if v[i][j] > (j-i)*1.0/(j-i+1)*(k + v[k+1][j]):\n",
    "                            v[i][j] = (j-i)*1.0/(j-i+1)*(k + v[k+1][j])\n",
    "                            strategy[i][j] = k\n",
    "                    elif k==j:\n",
    "                        if v[i][j] > (j-i)*1.0/(j-i+1)*(k + v[i][k-1]):\n",
    "                            v[i][j] = (j-i)*1.0/(j-i+1)*(k + v[i][k-1])\n",
    "                            strategy[i][j] = k\n",
    "                    else:\n",
    "                        if v[i][j] > k*(j-i)*1.0/(j-i+1) + v[i][k-1]*(k-i)*1.0/(j-i+1) + v[k+1][j]*(j-k)*1.0/(j-i+1):\n",
    "                            v[i][j] = k*(j-i)*1.0/(j-i+1) + v[i][k-1]*(k-i)*1.0/(j-i+1) + v[k+1][j]*(j-k)*1.0/(j-i+1)\n",
    "                            strategy[i][j] = k\n",
    "\n",
    "    return v,strategy"
   ]
  },
  {
   "cell_type": "code",
   "execution_count": 22,
   "metadata": {},
   "outputs": [],
   "source": [
    "v,s = get_expected_cost(500)"
   ]
  },
  {
   "cell_type": "code",
   "execution_count": 27,
   "metadata": {},
   "outputs": [
    {
     "data": {
      "text/plain": [
       "[<matplotlib.lines.Line2D at 0x1213afd90>]"
      ]
     },
     "execution_count": 27,
     "metadata": {},
     "output_type": "execute_result"
    },
    {
     "data": {
      "image/png": "[encoded data removed]",
      "text/plain": [
       "<Figure size 432x288 with 1 Axes>"
      ]
     },
     "metadata": {
      "needs_background": "light"
     },
     "output_type": "display_data"
    }
   ],
   "source": [
    "plt.plot(v[0])"
   ]
  },
  {
   "cell_type": "code",
   "execution_count": 29,
   "metadata": {},
   "outputs": [
    {
     "data": {
      "text/plain": [
       "[<matplotlib.lines.Line2D at 0x120bf5370>]"
      ]
     },
     "execution_count": 29,
     "metadata": {},
     "output_type": "execute_result"
    },
    {
     "data": {
      "image/png": "[encoded data removed]",
      "text/plain": [
       "<Figure size 432x288 with 1 Axes>"
      ]
     },
     "metadata": {
      "needs_background": "light"
     },
     "output_type": "display_data"
    }
   ],
   "source": [
    "plt.plot(s[1])"
   ]
  },
  {
   "cell_type": "code",
   "execution_count": 31,
   "metadata": {},
   "outputs": [
    {
     "data": {
      "text/plain": [
       "[8, 7, 6, 5]"
      ]
     },
     "execution_count": 31,
     "metadata": {},
     "output_type": "execute_result"
    }
   ],
   "source": [
    "list(reversed([5,6,7,8]))\n"
   ]
  },
  {
   "cell_type": "code",
   "execution_count": 36,
   "metadata": {},
   "outputs": [],
   "source": [
    "a = [[0]*3 for i in range(5)]"
   ]
  },
  {
   "cell_type": "code",
   "execution_count": 42,
   "metadata": {},
   "outputs": [],
   "source": [
    "a[0][0]=1"
   ]
  },
  {
   "cell_type": "code",
   "execution_count": 43,
   "metadata": {},
   "outputs": [
    {
     "data": {
      "text/plain": [
       "[[1, 0, 0], [0, 1, 0], [0, 0, 0], [0, 0, 0], [0, 1, 0]]"
      ]
     },
     "execution_count": 43,
     "metadata": {},
     "output_type": "execute_result"
    }
   ],
   "source": [
    "a"
   ]
  },
  {
   "cell_type": "code",
   "execution_count": null,
   "metadata": {},
   "outputs": [],
   "source": []
  }
 ],
 "metadata": {
  "kernelspec": {
   "display_name": "Python 3",
   "language": "python",
   "name": "python3"
  },
  "language_info": {
   "codemirror_mode": {
    "name": "ipython",
    "version": 3
   },
   "file_extension": ".py",
   "mimetype": "text/x-python",
   "name": "python",
   "nbconvert_exporter": "python",
   "pygments_lexer": "ipython3",
   "version": "3.8.5"
  }
 },
 "nbformat": 4,
 "nbformat_minor": 4
}
