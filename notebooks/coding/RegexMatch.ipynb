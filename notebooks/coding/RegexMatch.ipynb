{
 "cells": [
  {
   "cell_type": "markdown",
   "metadata": {},
   "source": [
    "# Leetcode 44 Wildcard Matching\n",
    "Given an input string (s) and a pattern (p), implement wildcard pattern matching with support for '?' and '*'.  \n",
    "* '?' Matches any single character.  \n",
    "* '*' Matches any sequence of characters (including the empty sequence). \n",
    "\n",
    "The matching should cover the entire input string (not partial). Note: \n",
    "\n",
    "* s could be empty and contains only lowercase letters a-z.  \n",
    "* p could be empty and contains only lowercase letters a-z, and characters like . or *. \n",
    "\n",
    "Example 1:\n",
    "> **Input:** s = \"aa\",  p = \"a\"  \n",
    "> **Output:** false  \n",
    "> **Explanation:** \"a\" does not match the entire string \"aa\".  \n",
    "\n",
    "Example 2:\n",
    "> **Input:** s = \"aa\", p = \"*\"  \n",
    "> **Output:** true  \n",
    "> **Explanation:** '\\*' matches any sequence.\n",
    "\n",
    "Example 3:\n",
    "> **Input:** s = \"cb\", p = \"?a\"  \n",
    "> **Output:** false  \n",
    "> **Explanation:** '?' matches 'c', but the second letter is 'a', which does not match 'b'.\n",
    "\n",
    "Example 4:\n",
    "> **Input:** s = \"adceb\", p = \"\\*a\\*b\"  \n",
    "> **Output:** true  \n",
    "> **Explanation:** The first '\\*' matches the empty sequence, while the second '\\*' matches the substring \"dce\".\n",
    "\n",
    "Example 5:\n",
    "> **Input:** s = \"acdcb\", p = \"a\\*c\\?b\"  \n",
    "> **Output:** false"
   ]
  },
  {
   "cell_type": "code",
   "execution_count": 18,
   "metadata": {},
   "outputs": [],
   "source": [
    "def WildcardMatch(s, p):\n",
    "    \"\"\"\n",
    "    :type s: str\n",
    "    :type p: str\n",
    "    :rtype: bool\n",
    "    \"\"\"\n",
    "    s_len = len(s)\n",
    "    p_len = len(p)\n",
    "\n",
    "    ## dp[i][j] is True if and only if there exists a match between p[0,i) and s[0,j)\n",
    "    ## dp[i][j] = dp[i-1][j-1]             if p[i-1] == s[j-1] or p[i-1] == '?'\n",
    "    ## dp[i][j] = False                    if p[i-1] != s[j-1] and p[i-1] is a letter\n",
    "    ## dp[i][j] = max_{k<=j}{dp[i-1][k]}   if p[i-1] == '*' (or max(dp[i-1][j],dp[i][j-1]))\n",
    "    ## dp[0][0] = True, dp[0][j] = False for all j>0\n",
    "    \n",
    "    dp=[]\n",
    "    for i in range(p_len+1):\n",
    "        if i==0:\n",
    "            dp.append([True])\n",
    "            for j in range(s_len):\n",
    "                dp[i].append(False)\n",
    "        else:\n",
    "            dp.append([])\n",
    "            for j in range(s_len+1):\n",
    "                if p[i-1]==\"?\":\n",
    "                    if j==0:\n",
    "                        dp[i].append(False)\n",
    "                    else:\n",
    "                        dp[i].append(dp[i-1][j-1])\n",
    "                elif p[i-1] == '*':\n",
    "                    if j==0:\n",
    "                        dp[i].append(dp[i-1][j])\n",
    "                    else:\n",
    "                        dp[i].append(max(dp[i-1][j], dp[i][j-1]))\n",
    "                else:\n",
    "                    if j==0:\n",
    "                        dp[i].append(False)\n",
    "                    elif p[i-1] == s[j-1]:\n",
    "                        dp[i].append(dp[i-1][j-1])\n",
    "                    else:\n",
    "                        dp[i].append(False)\n",
    "\n",
    "    return dp[p_len][s_len]"
   ]
  },
  {
   "cell_type": "code",
   "execution_count": 19,
   "metadata": {},
   "outputs": [
    {
     "data": {
      "text/plain": [
       "False"
      ]
     },
     "execution_count": 19,
     "metadata": {},
     "output_type": "execute_result"
    }
   ],
   "source": [
    "WildcardMatch(\"mississippi\", \"m??*ss*?i*pi\")"
   ]
  },
  {
   "cell_type": "code",
   "execution_count": 20,
   "metadata": {},
   "outputs": [
    {
     "data": {
      "text/plain": [
       "True"
      ]
     },
     "execution_count": 20,
     "metadata": {},
     "output_type": "execute_result"
    }
   ],
   "source": [
    "WildcardMatch(\"mississippi\", \"m?*ss*?i*pi\")"
   ]
  },
  {
   "cell_type": "code",
   "execution_count": null,
   "metadata": {},
   "outputs": [],
   "source": []
  },
  {
   "cell_type": "markdown",
   "metadata": {},
   "source": [
    "# Leetcode 10 Regular Expression Matching\n",
    "Given an input string (s) and a pattern (p), implement regular expression matching with support for '.' and '*'.\n",
    "\n",
    "* '.' Matches any single character.\n",
    "* '\\*' Matches zero or more of the preceding element.\n",
    "\n",
    "The matching should cover the entire input string (not partial). Note:\n",
    "\n",
    "* s could be empty and contains only lowercase letters a-z.\n",
    "* p could be empty and contains only lowercase letters a-z, and characters like . or *.\n",
    "\n",
    "Example 1:\n",
    "> **Input:** s = \"aa\",  p = \"a\"  \n",
    "> **Output:** false  \n",
    "> **Explanation:** \"a\" does not match the entire string \"aa\".  \n",
    "\n",
    "Example 2:\n",
    "> **Input:** s = \"aa\", p = \"a*\"   \n",
    "> **Output:** true  \n",
    "> **Explanation:** '\\*' means zero or more of the preceding element, 'a'. Therefore, by repeating 'a' once, it becomes \"aa\".\n",
    "\n",
    "Example 3:\n",
    "> **Input:** s = \"ab\", p = \".*\"  \n",
    "> **Output:** true  \n",
    "> **Explanation:** \".*\" means \"zero or more (\\*) of any character (.)\".\n",
    "\n",
    "Example 4:\n",
    "> **Input:** s = \"aab\", p = \"c\\*a\\*b\"  \n",
    "> **Output:** true  \n",
    "> **Explanation:** c can be repeated 0 times, a can be repeated 2 times. Therefore, it matches \"aab\".\n",
    "\n",
    "Example 5:\n",
    "> **Input:** s = \"mississippi\", p = \"mis\\*is\\*p\\*.\"  \n",
    "> **Output:** false"
   ]
  },
  {
   "cell_type": "code",
   "execution_count": 15,
   "metadata": {},
   "outputs": [
    {
     "data": {
      "text/plain": [
       "[[False, False], [False, False], [False, False], [False, False]]"
      ]
     },
     "execution_count": 15,
     "metadata": {},
     "output_type": "execute_result"
    }
   ],
   "source": [
    "[[False]*2]*4"
   ]
  },
  {
   "cell_type": "code",
   "execution_count": 16,
   "metadata": {},
   "outputs": [],
   "source": [
    "def RegexMatch(s, p):\n",
    "        \"\"\"\n",
    "        :type s: str\n",
    "        :type p: str\n",
    "        :rtype: bool\n",
    "        \"\"\"\n",
    "        \n",
    "        s_len = len(s)\n",
    "        p_len = len(p)\n",
    "        \n",
    "        #dp[i][j]=True when p[0:i) matches s[0:j)\n",
    "        #If p[i-1] = s[j-1] or '.' is a match, then dp[i][j] = dp[i-1][j-1]\n",
    "        #If p[i-1] and s[j-1] does not match, then dp[i][j] = False\n",
    "        #If p[i-1] = '*', that means p[i-2] can occur any number of times. \n",
    "        #    dp[i][j] = dp[i-2][j] (zero times) or \n",
    "        #    dp[i][j] = dp[i][j-1] and p[i-2] matches s[j-1] (at least once) \n",
    "        \n",
    "        dp = [[False for _ in range(s_len+1)] for _ in range(p_len+1)]\n",
    "        dp[0][0] = True\n",
    "        \n",
    "        for i in range(1,p_len+1):\n",
    "            for j in range(s_len+1):\n",
    "                if p[i-1]=='*':\n",
    "                    assert i>1, \"Error: no character before *\"\n",
    "                    assert p[i-2]!='*', 'Error: * before *'\n",
    "                    if j==0:\n",
    "                        dp[i][j]= dp[i-2][j]\n",
    "                    elif (p[i-2] in {s[j-1],'.'}):\n",
    "                        dp[i][j] = dp[i-2][j] or dp[i][j-1]\n",
    "                    else:\n",
    "                        dp[i][j] = dp[i-2][j]\n",
    "                \n",
    "                elif j==0:\n",
    "                    dp[i][j] = False\n",
    "                \n",
    "                elif p[i-1] in {s[j-1], '.'}:\n",
    "                    dp[i][j] = dp[i-1][j-1]\n",
    "        #print dp\n",
    "        return dp[p_len][s_len]"
   ]
  },
  {
   "cell_type": "code",
   "execution_count": 17,
   "metadata": {},
   "outputs": [
    {
     "data": {
      "text/plain": [
       "False"
      ]
     },
     "execution_count": 17,
     "metadata": {},
     "output_type": "execute_result"
    }
   ],
   "source": [
    "RegexMatch(\"mississippi\", \"mis\\*is\\*p\\*.\")"
   ]
  },
  {
   "cell_type": "code",
   "execution_count": null,
   "metadata": {},
   "outputs": [],
   "source": []
  }
 ],
 "metadata": {
  "kernelspec": {
   "display_name": "Python 3",
   "language": "python",
   "name": "python3"
  },
  "language_info": {
   "codemirror_mode": {
    "name": "ipython",
    "version": 3
   },
   "file_extension": ".py",
   "mimetype": "text/x-python",
   "name": "python",
   "nbconvert_exporter": "python",
   "pygments_lexer": "ipython3",
   "version": "3.8.5"
  }
 },
 "nbformat": 4,
 "nbformat_minor": 4
}
