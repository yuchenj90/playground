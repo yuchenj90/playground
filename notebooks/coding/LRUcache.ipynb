{
 "cells": [
  {
   "cell_type": "markdown",
   "id": "b5647b5c-f2ac-4793-a446-f1f67a38a88f",
   "metadata": {},
   "source": [
    "Design a data structure that follows the constraints of a Least Recently Used (LRU) cache.\n",
    "\n",
    "Implement the LRUCache class:\n",
    "\n",
    "LRUCache(int capacity) Initialize the LRU cache with positive size capacity.\n",
    "int get(int key) Return the value of the key if the key exists, otherwise return -1.\n",
    "void put(int key, int value) Update the value of the key if the key exists. Otherwise, add the key-value pair to the cache. If the number of keys exceeds the capacity from this operation, evict the least recently used key.\n",
    "The functions get and put must each run in O(1) average time complexity."
   ]
  },
  {
   "cell_type": "markdown",
   "id": "9ef2cca8-f81c-49b3-ba0e-04c97b490f78",
   "metadata": {},
   "source": [
    "Example 1:\n",
    "```Python\n",
    "Input\n",
    "[\"LRUCache\", \"put\", \"put\", \"get\", \"put\", \"get\", \"put\", \"get\", \"get\", \"get\"]\n",
    "[[2], [1, 1], [2, 2], [1], [3, 3], [2], [4, 4], [1], [3], [4]]\n",
    "Output\n",
    "[null, null, null, 1, null, -1, null, -1, 3, 4]\n",
    "\n",
    "Explanation\n",
    "lrucache = LRUCache(2);\n",
    "lrucache.put(1, 1); // cache is {1=1}\n",
    "lrucache.put(2, 2); // cache is {1=1, 2=2}\n",
    "lrucache.get(1);    // return 1\n",
    "lrucache.put(3, 3); // LRU key was 2, evicts key 2, cache is {1=1, 3=3}\n",
    "lrucache.get(2);    // returns -1 (not found)\n",
    "lrucache.put(4, 4); // LRU key was 1, evicts key 1, cache is {4=4, 3=3}\n",
    "lrucache.get(1);    // return -1 (not found)\n",
    "lrucache.get(3);    // return 3\n",
    "lrucache.get(4);    // return 4\n",
    " \n",
    "\n",
    "Constraints:\n",
    "\n",
    "1 <= capacity <= 3000\n",
    "0 <= key <= 104\n",
    "0 <= value <= 105\n",
    "At most 2 * 105 calls will be made to get and put.\n",
    "```"
   ]
  },
  {
   "cell_type": "code",
   "execution_count": 201,
   "id": "1f4b12d3-d375-4551-a0f0-2563919588b8",
   "metadata": {
    "tags": []
   },
   "outputs": [],
   "source": [
    "class TreeNode:\n",
    "    def __init__(self, key, value, prevn=None, nextn=None):\n",
    "        self.key = key\n",
    "        self.value = value\n",
    "        self.prev = prevn\n",
    "        self.next = nextn\n",
    "\n",
    "class LRUCache:\n",
    "    def __init__(self, capacity):\n",
    "        self.capacity = capacity\n",
    "        self.kn_dict = {}\n",
    "        self.head = None # head is the most recent node\n",
    "        self.tail = None # tail is the least recent node\n",
    "    \n",
    "    def update_cache(self, n, value=None):\n",
    "        if self.head != n:\n",
    "            if n.next is None: # n is tail\n",
    "                n.prev.next = None\n",
    "                self.tail = n.prev\n",
    "                n.prev = None\n",
    "                n.next = self.head\n",
    "                self.head.prev = n\n",
    "                self.head = n\n",
    "            else:\n",
    "                n.prev.next = n.next\n",
    "                n.next.prev = n.prev\n",
    "                n.next = self.head\n",
    "                self.head.prev = n\n",
    "                n.prev = None\n",
    "                self.head = n     \n",
    "        if value is not None:\n",
    "            self.head.value = value\n",
    "    \n",
    "    def insert_cache(self, key, value):\n",
    "        n = TreeNode(key, value)\n",
    "        if self.head is None:\n",
    "            self.head = n\n",
    "            self.tail = n\n",
    "        else:\n",
    "            n.next = self.head\n",
    "            self.head.prev = n\n",
    "            self.head = n\n",
    "        self.kn_dict[key] = n\n",
    "        \n",
    "    def get(self, key: int) -> int:\n",
    "        if key in self.kn_dict:\n",
    "            self.update_cache(self.kn_dict[key])\n",
    "            return self.kn_dict[key].value\n",
    "        return -1\n",
    "        \n",
    "    def put(self, key: int, value: int):\n",
    "        if key in self.kn_dict:\n",
    "            self.update_cache(self.kn_dict[key], value)\n",
    "        else:\n",
    "            if len(self.kn_dict) == self.capacity:\n",
    "                del self.kn_dict[self.tail.key]\n",
    "                tmp = self.tail\n",
    "                if tmp.prev is None:\n",
    "                    self.head = None\n",
    "                    self.tail = None\n",
    "                else:\n",
    "                    self.tail = tmp.prev\n",
    "                    self.tail.next = None\n",
    "                tmp = None\n",
    "            self.insert_cache(key, value)\n",
    "    "
   ]
  },
  {
   "cell_type": "code",
   "execution_count": 202,
   "id": "4bb488bb-035b-46ea-a6ca-87b5691c7234",
   "metadata": {
    "tags": []
   },
   "outputs": [
    {
     "data": {
      "text/plain": [
       "1"
      ]
     },
     "execution_count": 202,
     "metadata": {},
     "output_type": "execute_result"
    }
   ],
   "source": [
    "lrucache = LRUCache(2)\n",
    "lrucache.put(1, 1)\n",
    "lrucache.put(2, 2)\n",
    "lrucache.get(1)"
   ]
  },
  {
   "cell_type": "code",
   "execution_count": 203,
   "id": "c4d90d35-4d33-4f0d-9277-66fe7957250c",
   "metadata": {
    "tags": []
   },
   "outputs": [
    {
     "data": {
      "text/plain": [
       "1"
      ]
     },
     "execution_count": 203,
     "metadata": {},
     "output_type": "execute_result"
    }
   ],
   "source": [
    "lrucache.head.key"
   ]
  },
  {
   "cell_type": "code",
   "execution_count": 204,
   "id": "de452a55-88ae-4b28-9eb9-a00275b67a15",
   "metadata": {
    "tags": []
   },
   "outputs": [
    {
     "data": {
      "text/plain": [
       "-1"
      ]
     },
     "execution_count": 204,
     "metadata": {},
     "output_type": "execute_result"
    }
   ],
   "source": [
    "lrucache.put(3, 3)\n",
    "lrucache.get(2)"
   ]
  },
  {
   "cell_type": "code",
   "execution_count": 71,
   "id": "45e11ca1-ce6b-462e-b834-b627d934242d",
   "metadata": {
    "tags": []
   },
   "outputs": [
    {
     "data": {
      "text/plain": [
       "4"
      ]
     },
     "execution_count": 71,
     "metadata": {},
     "output_type": "execute_result"
    }
   ],
   "source": [
    "lrucache.put(4, 4)\n",
    "lrucache.get(1)\n",
    "lrucache.get(3)\n",
    "lrucache.get(4)"
   ]
  },
  {
   "cell_type": "code",
   "execution_count": 78,
   "id": "59ff4e51-7060-4861-8570-427b2b1a48b7",
   "metadata": {
    "tags": []
   },
   "outputs": [],
   "source": [
    "lrucache = LRUCache(1)\n",
    "lrucache.put(2, 1)"
   ]
  },
  {
   "cell_type": "code",
   "execution_count": 79,
   "id": "68fbb9fc-df81-4980-916c-9d2356647c52",
   "metadata": {
    "tags": []
   },
   "outputs": [
    {
     "data": {
      "text/plain": [
       "1"
      ]
     },
     "execution_count": 79,
     "metadata": {},
     "output_type": "execute_result"
    }
   ],
   "source": [
    "lrucache.get(2)"
   ]
  },
  {
   "cell_type": "code",
   "execution_count": 80,
   "id": "11032147-5f66-44c5-ae58-6f15f359e096",
   "metadata": {
    "tags": []
   },
   "outputs": [],
   "source": [
    "lrucache.put(3, 2)"
   ]
  },
  {
   "cell_type": "code",
   "execution_count": 81,
   "id": "0225142d-1954-403e-a4d8-f567f675f774",
   "metadata": {
    "tags": []
   },
   "outputs": [
    {
     "data": {
      "text/plain": [
       "-1"
      ]
     },
     "execution_count": 81,
     "metadata": {},
     "output_type": "execute_result"
    }
   ],
   "source": [
    "lrucache.get(2)"
   ]
  },
  {
   "cell_type": "code",
   "execution_count": 82,
   "id": "7532fbb8-06c8-4d02-8261-6d2c96114edf",
   "metadata": {
    "tags": []
   },
   "outputs": [
    {
     "data": {
      "text/plain": [
       "2"
      ]
     },
     "execution_count": 82,
     "metadata": {},
     "output_type": "execute_result"
    }
   ],
   "source": [
    "lrucache.get(3)"
   ]
  },
  {
   "cell_type": "code",
   "execution_count": 205,
   "id": "3c1f155c-a721-458b-bc3e-079931db0a61",
   "metadata": {
    "tags": []
   },
   "outputs": [
    {
     "data": {
      "text/plain": [
       "4"
      ]
     },
     "execution_count": 205,
     "metadata": {},
     "output_type": "execute_result"
    }
   ],
   "source": [
    "lrucache = LRUCache(3)\n",
    "lrucache.put(1, 1)\n",
    "lrucache.put(2, 2)\n",
    "lrucache.put(3, 3)\n",
    "lrucache.put(4, 4)\n",
    "lrucache.get(4)"
   ]
  },
  {
   "cell_type": "code",
   "execution_count": 206,
   "id": "d601f9e3-1c3b-4b73-a072-920aa9480f81",
   "metadata": {
    "tags": []
   },
   "outputs": [
    {
     "data": {
      "text/plain": [
       "3"
      ]
     },
     "execution_count": 206,
     "metadata": {},
     "output_type": "execute_result"
    }
   ],
   "source": [
    "lrucache.get(3)"
   ]
  },
  {
   "cell_type": "code",
   "execution_count": 207,
   "id": "51555374-b268-4c7b-95d0-24b7c7d3bd8c",
   "metadata": {
    "tags": []
   },
   "outputs": [
    {
     "data": {
      "text/plain": [
       "2"
      ]
     },
     "execution_count": 207,
     "metadata": {},
     "output_type": "execute_result"
    }
   ],
   "source": [
    "lrucache.get(2)"
   ]
  },
  {
   "cell_type": "code",
   "execution_count": 208,
   "id": "a6e61471-a09b-45e4-aef4-e87fead02ed7",
   "metadata": {
    "tags": []
   },
   "outputs": [
    {
     "data": {
      "text/plain": [
       "-1"
      ]
     },
     "execution_count": 208,
     "metadata": {},
     "output_type": "execute_result"
    }
   ],
   "source": [
    "lrucache.get(1)"
   ]
  },
  {
   "cell_type": "code",
   "execution_count": 209,
   "id": "64b5aa8f-18e1-4feb-932b-571646972833",
   "metadata": {
    "tags": []
   },
   "outputs": [],
   "source": [
    "lrucache.put(5, 5)"
   ]
  },
  {
   "cell_type": "code",
   "execution_count": 210,
   "id": "fb679eb6-31e9-4c47-bfa0-cb76a7490e39",
   "metadata": {
    "tags": []
   },
   "outputs": [
    {
     "data": {
      "text/plain": [
       "-1"
      ]
     },
     "execution_count": 210,
     "metadata": {},
     "output_type": "execute_result"
    }
   ],
   "source": [
    "lrucache.get(1)"
   ]
  },
  {
   "cell_type": "code",
   "execution_count": 211,
   "id": "2ff0b2f9-9c30-45f3-bdde-410b4e7dd40e",
   "metadata": {
    "tags": []
   },
   "outputs": [
    {
     "data": {
      "text/plain": [
       "2"
      ]
     },
     "execution_count": 211,
     "metadata": {},
     "output_type": "execute_result"
    }
   ],
   "source": [
    "lrucache.get(2)"
   ]
  },
  {
   "cell_type": "code",
   "execution_count": 212,
   "id": "0699085a-4206-4233-b6ca-a01103a024e1",
   "metadata": {
    "tags": []
   },
   "outputs": [
    {
     "data": {
      "text/plain": [
       "3"
      ]
     },
     "execution_count": 212,
     "metadata": {},
     "output_type": "execute_result"
    }
   ],
   "source": [
    "lrucache.get(3)"
   ]
  },
  {
   "cell_type": "code",
   "execution_count": 213,
   "id": "c1bf4c93-7d99-4d3c-b47a-a585f04bd37d",
   "metadata": {
    "tags": []
   },
   "outputs": [
    {
     "data": {
      "text/plain": [
       "-1"
      ]
     },
     "execution_count": 213,
     "metadata": {},
     "output_type": "execute_result"
    }
   ],
   "source": [
    "lrucache.get(4)"
   ]
  },
  {
   "cell_type": "code",
   "execution_count": 214,
   "id": "95555f86-fd7b-4784-b9c5-081f32be6fe0",
   "metadata": {
    "tags": []
   },
   "outputs": [
    {
     "data": {
      "text/plain": [
       "5"
      ]
     },
     "execution_count": 214,
     "metadata": {},
     "output_type": "execute_result"
    }
   ],
   "source": [
    "lrucache.get(5)"
   ]
  },
  {
   "cell_type": "markdown",
   "id": "7bd08ea2-b979-4636-9df8-3aaf8b4a96cb",
   "metadata": {},
   "source": [
    "Design and implement a data structure for a Least Frequently Used (LFU) cache.\n",
    "\n",
    "Implement the LFUCache class:\n",
    "\n",
    "LFUCache(int capacity) Initializes the object with the capacity of the data structure.\n",
    "int get(int key) Gets the value of the key if the key exists in the cache. Otherwise, returns -1.\n",
    "void put(int key, int value) Update the value of the key if present, or inserts the key if not already present. When the cache reaches its capacity, it should invalidate and remove the least frequently used key before inserting a new item. For this problem, when there is a tie (i.e., two or more keys with the same frequency), the least recently used key would be invalidated.\n",
    "To determine the least frequently used key, a use counter is maintained for each key in the cache. The key with the smallest use counter is the least frequently used key.\n",
    "\n",
    "When a key is first inserted into the cache, its use counter is set to 1 (due to the put operation). The use counter for a key in the cache is incremented either a get or put operation is called on it.\n",
    "\n",
    "The functions get and put must each run in O(1) average time complexity.\n"
   ]
  },
  {
   "cell_type": "markdown",
   "id": "c9253ee9-5066-43f5-a361-8955c07e76ab",
   "metadata": {},
   "source": [
    "Example 1:\n",
    "```Python\n",
    "Input\n",
    "[\"LFUCache\", \"put\", \"put\", \"get\", \"put\", \"get\", \"get\", \"put\", \"get\", \"get\", \"get\"]\n",
    "[[2], [1, 1], [2, 2], [1], [3, 3], [2], [3], [4, 4], [1], [3], [4]]\n",
    "Output\n",
    "[null, null, null, 1, null, -1, 3, null, -1, 3, 4]\n",
    "\n",
    "Explanation\n",
    "// cnt(x) = the use counter for key x\n",
    "// cache=[] will show the last used order for tiebreakers (leftmost element is  most recent)\n",
    "lfu = LFUCache(2);\n",
    "lfu.put(1, 1);   // cache=[1,_], cnt(1)=1\n",
    "lfu.put(2, 2);   // cache=[2,1], cnt(2)=1, cnt(1)=1\n",
    "lfu.get(1);      // return 1\n",
    "                 // cache=[1,2], cnt(2)=1, cnt(1)=2\n",
    "lfu.put(3, 3);   // 2 is the LFU key because cnt(2)=1 is the smallest, invalidate 2.\n",
    "                 // cache=[3,1], cnt(3)=1, cnt(1)=2\n",
    "lfu.get(2);      // return -1 (not found)\n",
    "lfu.get(3);      // return 3\n",
    "                 // cache=[3,1], cnt(3)=2, cnt(1)=2\n",
    "lfu.put(4, 4);   // Both 1 and 3 have the same cnt, but 1 is LRU, invalidate 1.\n",
    "                 // cache=[4,3], cnt(4)=1, cnt(3)=2\n",
    "lfu.get(1);      // return -1 (not found)\n",
    "lfu.get(3);      // return 3\n",
    "                 // cache=[3,4], cnt(4)=1, cnt(3)=3\n",
    "lfu.get(4);      // return 4\n",
    "                 // cache=[4,3], cnt(4)=2, cnt(3)=3\n",
    " \n",
    "\n",
    "Constraints:\n",
    "\n",
    "1 <= capacity <= 104\n",
    "0 <= key <= 105\n",
    "0 <= value <= 109\n",
    "At most 2 * 105 calls will be made to get and put.\n",
    "```"
   ]
  },
  {
   "cell_type": "code",
   "execution_count": 221,
   "id": "1dd47be3-d737-4cd1-a1eb-ed667e1fac13",
   "metadata": {
    "tags": []
   },
   "outputs": [],
   "source": [
    "from collections import OrderedDict\n",
    "        \n",
    "class LFUCache:\n",
    "    def __init__(self, capacity):\n",
    "        self.cap = capacity\n",
    "        self.count = {}\n",
    "        self.mincount = 0\n",
    "        self.kvc_dict = {}\n",
    "    \n",
    "    def update_key(self, key, value=None):\n",
    "        c = self.kvc_dict[key]['count']\n",
    "        del self.count[c][key]\n",
    "        if len(self.count[c]) == 0:\n",
    "            if self.mincount == c:\n",
    "                self.mincount += 1\n",
    "            del self.count[c]\n",
    "        if c+1 not in self.count:\n",
    "            self.count[c+1] = OrderedDict()\n",
    "            self.count[c+1][key] = True\n",
    "        else:\n",
    "            self.count[c+1][key] = True\n",
    "        self.kvc_dict[key]['count'] += 1\n",
    "        if value is not None:\n",
    "            self.kvc_dict[key]['value'] = value\n",
    "\n",
    "    def insert_key(self, key, value):\n",
    "        self.kvc_dict[key] = {'value': value, 'count': 1}\n",
    "        self.mincount = 1\n",
    "        if 1 not in self.count:\n",
    "            self.count[1] = OrderedDict()            \n",
    "        self.count[1][key] = True\n",
    "\n",
    "    def get(self, key: int) -> int:\n",
    "        if key in self.kvc_dict:\n",
    "            self.update_key(key)\n",
    "            return self.kvc_dict[key]['value']\n",
    "        return -1\n",
    "    \n",
    "    def put(self, key: int, value: int):\n",
    "        if len(self.kvc_dict) == self.cap and key not in self.kvc_dict:\n",
    "            x = self.count[self.mincount].popitem(last=False)[0]\n",
    "            del self.kvc_dict[x]\n",
    "            self.insert_key(key, value)\n",
    "        elif key not in self.kvc_dict:\n",
    "            self.insert_key(key, value)\n",
    "        else:\n",
    "            self.update_key(key, value)"
   ]
  },
  {
   "cell_type": "code",
   "execution_count": 222,
   "id": "8c8cd2c6-3ccb-4b64-985e-06b190e1c11a",
   "metadata": {
    "tags": []
   },
   "outputs": [
    {
     "data": {
      "text/plain": [
       "1"
      ]
     },
     "execution_count": 222,
     "metadata": {},
     "output_type": "execute_result"
    }
   ],
   "source": [
    "lfu = LFUCache(2)\n",
    "lfu.put(1, 1)\n",
    "lfu.put(2, 2)\n",
    "lfu.get(1)"
   ]
  },
  {
   "cell_type": "code",
   "execution_count": 223,
   "id": "2b7b7e70-2ec7-4d53-b3d8-e20ecf696ea6",
   "metadata": {
    "tags": []
   },
   "outputs": [
    {
     "data": {
      "text/plain": [
       "-1"
      ]
     },
     "execution_count": 223,
     "metadata": {},
     "output_type": "execute_result"
    }
   ],
   "source": [
    "lfu.put(3, 3)\n",
    "lfu.get(2)"
   ]
  },
  {
   "cell_type": "code",
   "execution_count": 224,
   "id": "c252a0c5-3827-4f69-a32a-55bbfaccd857",
   "metadata": {
    "tags": []
   },
   "outputs": [
    {
     "data": {
      "text/plain": [
       "3"
      ]
     },
     "execution_count": 224,
     "metadata": {},
     "output_type": "execute_result"
    }
   ],
   "source": [
    "lfu.get(3)"
   ]
  },
  {
   "cell_type": "code",
   "execution_count": 227,
   "id": "3e3c32a4-8d83-4a0e-8d17-4e77b943b4af",
   "metadata": {
    "tags": []
   },
   "outputs": [
    {
     "name": "stdout",
     "output_type": "stream",
     "text": [
      "-1\n",
      "3\n"
     ]
    }
   ],
   "source": [
    "lfu.put(4, 4)\n",
    "print(lfu.get(1))\n",
    "print(lfu.get(3))"
   ]
  },
  {
   "cell_type": "code",
   "execution_count": null,
   "id": "170f806d-5621-4009-9b98-7ad18477677a",
   "metadata": {},
   "outputs": [],
   "source": []
  }
 ],
 "metadata": {
  "kernelspec": {
   "display_name": "Python 3 (ipykernel)",
   "language": "python",
   "name": "python3"
  },
  "language_info": {
   "codemirror_mode": {
    "name": "ipython",
    "version": 3
   },
   "file_extension": ".py",
   "mimetype": "text/x-python",
   "name": "python",
   "nbconvert_exporter": "python",
   "pygments_lexer": "ipython3",
   "version": "3.8.12"
  }
 },
 "nbformat": 4,
 "nbformat_minor": 5
}
