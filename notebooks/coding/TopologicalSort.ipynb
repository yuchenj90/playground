{
 "cells": [
  {
   "cell_type": "markdown",
   "id": "31196808-75ba-4610-8f30-c0280ab0c136",
   "metadata": {},
   "source": [
    "Given a directed graph with nodes and edges, find the topological order. If not possible, return empty list; if there are multiple solution, return the one with the least lexicographical order.\n",
    "```\n",
    "Input: \n",
    "    nodes = [\"A\", \"B\", \"C\", \"D\", \"E\"], edges = [[\"A\", \"B\"], [\"D\", \"B\"], [\"E\", \"C\"], [\"C\", \"D\"]]\n",
    "Output:\n",
    "    [\"A\", \"E\", \"C\", \"D\", \"B\"]\n",
    "Note:\n",
    "    [\"E\", \"C\", \"D\", \"A\", \"B\"] is another solution but is lexicographiccal bigger than [\"A\", \"E\", \"C\", \"D\", \"B\"]\n",
    "```"
   ]
  },
  {
   "cell_type": "code",
   "execution_count": 13,
   "id": "6279eca6-1e78-421a-bfe8-ac623379d599",
   "metadata": {
    "tags": []
   },
   "outputs": [],
   "source": [
    "from typing import List\n",
    "\n",
    "def TopoSort(nodes: List[str], edges: List[List[str]]) -> List[str]:\n",
    "    edges = sorted(edges)\n",
    "    nodes = sorted(nodes)\n",
    "    indegree = {n: 0 for n in nodes}\n",
    "    visited = {n: False for n in nodes}\n",
    "    adj_m = {}\n",
    "    for e in edges:\n",
    "        indegree[e[1]] += 1\n",
    "        if e[0] not in adj_m:\n",
    "            adj_m[e[0]] = [e[1]]\n",
    "        else:\n",
    "            adj_m[e[0]].append(e[1])\n",
    "    res = []\n",
    "    while len(res) < len(nodes):\n",
    "        flag = False\n",
    "        for n in nodes:\n",
    "            if (not visited[n]) and (indegree[n] == 0):\n",
    "                flag = True\n",
    "                res.append(n)\n",
    "                visited[n] = True\n",
    "                if n in adj_m:\n",
    "                    for x in adj_m[n]:\n",
    "                        indegree[x] -= 1\n",
    "                break\n",
    "        if not flag:\n",
    "            return []\n",
    "    return res\n",
    "        \n",
    "    "
   ]
  },
  {
   "cell_type": "code",
   "execution_count": 14,
   "id": "a5e6db66-56b1-424d-98c3-ef76508b7fe1",
   "metadata": {
    "tags": []
   },
   "outputs": [
    {
     "data": {
      "text/plain": [
       "['A', 'E', 'C', 'D', 'B']"
      ]
     },
     "execution_count": 14,
     "metadata": {},
     "output_type": "execute_result"
    }
   ],
   "source": [
    "nodes = [\"A\", \"B\", \"C\", \"D\", \"E\"]\n",
    "edges = [[\"A\", \"B\"], [\"D\", \"B\"], [\"E\", \"C\"], [\"C\", \"D\"]]\n",
    "\n",
    "TopoSort(nodes, edges)"
   ]
  },
  {
   "cell_type": "code",
   "execution_count": 15,
   "id": "9a9fe929-cce8-4163-8b9c-60c9b45cc394",
   "metadata": {
    "tags": []
   },
   "outputs": [
    {
     "data": {
      "text/plain": [
       "[]"
      ]
     },
     "execution_count": 15,
     "metadata": {},
     "output_type": "execute_result"
    }
   ],
   "source": [
    "nodes = [\"A\", \"B\", \"C\", \"D\", \"E\"]\n",
    "edges = [[\"A\", \"B\"], [\"D\", \"B\"], [\"E\", \"C\"], [\"C\", \"D\"], [\"B\", \"E\"]]\n",
    "\n",
    "TopoSort(nodes, edges)"
   ]
  },
  {
   "cell_type": "code",
   "execution_count": 18,
   "id": "3ab82878-1515-4d2a-bb51-450ce97bd164",
   "metadata": {
    "tags": []
   },
   "outputs": [
    {
     "data": {
      "text/plain": [
       "['E', 'F', 'C', 'D', 'B', 'A', 'G']"
      ]
     },
     "execution_count": 18,
     "metadata": {},
     "output_type": "execute_result"
    }
   ],
   "source": [
    "nodes = [\"A\", \"B\", \"C\", \"F\", \"G\", \"E\", \"D\"]\n",
    "edges = [[\"B\", \"A\"], [\"D\", \"B\"], [\"F\", \"C\"], [\"C\", \"D\"], [\"F\", \"A\"]]\n",
    "\n",
    "TopoSort(nodes, edges)"
   ]
  },
  {
   "cell_type": "code",
   "execution_count": null,
   "id": "415d1eae-430a-4544-a97c-cb6e5c3c2d98",
   "metadata": {},
   "outputs": [],
   "source": []
  }
 ],
 "metadata": {
  "kernelspec": {
   "display_name": "Python 3 (ipykernel)",
   "language": "python",
   "name": "python3"
  },
  "language_info": {
   "codemirror_mode": {
    "name": "ipython",
    "version": 3
   },
   "file_extension": ".py",
   "mimetype": "text/x-python",
   "name": "python",
   "nbconvert_exporter": "python",
   "pygments_lexer": "ipython3",
   "version": "3.8.12"
  }
 },
 "nbformat": 4,
 "nbformat_minor": 5
}
