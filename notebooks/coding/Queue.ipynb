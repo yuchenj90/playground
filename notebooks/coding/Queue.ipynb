{
 "cells": [
  {
   "cell_type": "markdown",
   "id": "a4529219-5db7-4183-89d5-6b0d1e8f1af7",
   "metadata": {
    "tags": []
   },
   "source": [
    "Implement Queue data structure in python. Note that\n",
    "\n",
    "1. Enqueue(x, q) takes O(1) time\n",
    "2. Dequeue(x, q) takes O(1) time."
   ]
  },
  {
   "cell_type": "markdown",
   "id": "7ae9a4da-23d9-4058-a836-6018d504f249",
   "metadata": {},
   "source": [
    "# Method 1: using stack\n",
    "\n",
    "Idea: Maintain 2 stacks, s1 and s2, initially all empty.\n",
    "- Enqueue push item to s1. Time complexity is O(1).\n",
    "- Dequeue pop item in s2 when s2 is not empty. When s2 is empty, pop stack s1 into s2 and then pop top item in s2.\n",
    "- Dequeue worst time complexity is O(n), however the amortized time complexity is O(1) (each item at most pop twice)."
   ]
  },
  {
   "cell_type": "code",
   "execution_count": 15,
   "id": "6aa4d424-8931-44c4-a8a8-a03f429b9e29",
   "metadata": {
    "tags": []
   },
   "outputs": [],
   "source": [
    "class Queue:\n",
    "    def __init__(self, l = []):\n",
    "        self.s1 = l.copy()\n",
    "        self.s2 = []\n",
    "        \n",
    "    def enqueue(self, x):\n",
    "        self.s1.append(x)\n",
    "        \n",
    "    def dequeue(self):\n",
    "        if len(self.s2) == 0:\n",
    "            if len(self.s1) == 0:\n",
    "                raise Exception(\"Queue is empty!\")\n",
    "            while len(self.s1) > 0:\n",
    "                self.s2.append(self.s1.pop())\n",
    "        return self.s2.pop()\n",
    "    \n",
    "    def len(self):\n",
    "        return len(self.s1) + len(self.s2)\n",
    "        "
   ]
  },
  {
   "cell_type": "code",
   "execution_count": 16,
   "id": "c0f9ae03-772a-4006-9e2d-783cf0dea7dc",
   "metadata": {
    "tags": []
   },
   "outputs": [
    {
     "name": "stdout",
     "output_type": "stream",
     "text": [
      "0\n",
      "1\n",
      "2\n",
      "3\n",
      "4\n",
      "5\n"
     ]
    },
    {
     "ename": "Exception",
     "evalue": "Queue is empty!",
     "output_type": "error",
     "traceback": [
      "\u001b[0;31m---------------------------------------------------------------------------\u001b[0m",
      "\u001b[0;31mException\u001b[0m                                 Traceback (most recent call last)",
      "Cell \u001b[0;32mIn[16], line 11\u001b[0m\n\u001b[1;32m      9\u001b[0m     q\u001b[38;5;241m.\u001b[39menqueue(x)\n\u001b[1;32m     10\u001b[0m \u001b[38;5;28;01mwhile\u001b[39;00m q\u001b[38;5;241m.\u001b[39mlen() \u001b[38;5;241m>\u001b[39m\u001b[38;5;241m=\u001b[39m \u001b[38;5;241m0\u001b[39m:\n\u001b[0;32m---> 11\u001b[0m     \u001b[38;5;28mprint\u001b[39m(\u001b[43mq\u001b[49m\u001b[38;5;241;43m.\u001b[39;49m\u001b[43mdequeue\u001b[49m\u001b[43m(\u001b[49m\u001b[43m)\u001b[49m)\n",
      "Cell \u001b[0;32mIn[15], line 12\u001b[0m, in \u001b[0;36mQueue.dequeue\u001b[0;34m(self)\u001b[0m\n\u001b[1;32m     10\u001b[0m \u001b[38;5;28;01mif\u001b[39;00m \u001b[38;5;28mlen\u001b[39m(\u001b[38;5;28mself\u001b[39m\u001b[38;5;241m.\u001b[39ms2) \u001b[38;5;241m==\u001b[39m \u001b[38;5;241m0\u001b[39m:\n\u001b[1;32m     11\u001b[0m     \u001b[38;5;28;01mif\u001b[39;00m \u001b[38;5;28mlen\u001b[39m(\u001b[38;5;28mself\u001b[39m\u001b[38;5;241m.\u001b[39ms1) \u001b[38;5;241m==\u001b[39m \u001b[38;5;241m0\u001b[39m:\n\u001b[0;32m---> 12\u001b[0m         \u001b[38;5;28;01mraise\u001b[39;00m \u001b[38;5;167;01mException\u001b[39;00m(\u001b[38;5;124m\"\u001b[39m\u001b[38;5;124mQueue is empty!\u001b[39m\u001b[38;5;124m\"\u001b[39m)\n\u001b[1;32m     13\u001b[0m     \u001b[38;5;28;01mwhile\u001b[39;00m \u001b[38;5;28mlen\u001b[39m(\u001b[38;5;28mself\u001b[39m\u001b[38;5;241m.\u001b[39ms1) \u001b[38;5;241m>\u001b[39m \u001b[38;5;241m0\u001b[39m:\n\u001b[1;32m     14\u001b[0m         \u001b[38;5;28mself\u001b[39m\u001b[38;5;241m.\u001b[39ms2\u001b[38;5;241m.\u001b[39mappend(\u001b[38;5;28mself\u001b[39m\u001b[38;5;241m.\u001b[39ms1\u001b[38;5;241m.\u001b[39mpop())\n",
      "\u001b[0;31mException\u001b[0m: Queue is empty!"
     ]
    }
   ],
   "source": [
    "q = Queue([0])\n",
    "l = [1,2,3]\n",
    "m = [4,5]\n",
    "for x in l:\n",
    "    q.enqueue(x)\n",
    "print(q.dequeue())\n",
    "print(q.dequeue())\n",
    "for x in m:\n",
    "    q.enqueue(x)\n",
    "while q.len() >= 0:\n",
    "    print(q.dequeue())"
   ]
  },
  {
   "cell_type": "code",
   "execution_count": null,
   "id": "e2af306a-bb73-48ab-9b3c-22208cd5487a",
   "metadata": {},
   "outputs": [],
   "source": []
  },
  {
   "cell_type": "markdown",
   "id": "5a8a5961-cb1e-461f-ae9a-6f8d9d9d3532",
   "metadata": {},
   "source": [
    "# Method 2: Using list + head pointers\n",
    "Idea: maintain a list with a head pointer indicate the element at the top of the queue.\n",
    "- Enqueue: append new element to the end of the list. Time complexity is O(1).\n",
    "- Dequeue: head pointer move right. Time complexity is O(1).\n",
    "\n",
    "The downside of this approach is that you have to store every elements in the list. Space complexity is O(N), greater than actual queue size O(n), where N is total number of elements and n is the size of the queue."
   ]
  },
  {
   "cell_type": "code",
   "execution_count": null,
   "id": "1b9ac78c-d004-4e26-8cda-1f3c7685c32b",
   "metadata": {},
   "outputs": [],
   "source": []
  },
  {
   "cell_type": "markdown",
   "id": "6ddf9b5d-e575-4a6e-83ba-7892d36ebfa6",
   "metadata": {
    "tags": []
   },
   "source": [
    "# Method 3: Using Linked list\n",
    "Idea: maintain a linked list with a head and a tail node\n",
    "- Enqueue: tail point to the new node. Time complexity is O(1).\n",
    "- Dequeue: head move to the next node, remove the head node from memory. Time complexity is O(1).\n",
    "\n",
    "Space compleixy is O(n) where n is the queue size."
   ]
  },
  {
   "cell_type": "code",
   "execution_count": 25,
   "id": "434196d1-3f19-4e48-a695-8758bc427179",
   "metadata": {
    "tags": []
   },
   "outputs": [],
   "source": [
    "from typing import List\n",
    "import gc\n",
    "\n",
    "class Node:\n",
    "    def __init__(self, value):\n",
    "        self.value = value\n",
    "        self.next = None\n",
    "\n",
    "class Queue:\n",
    "    def __init__(self, l: List):\n",
    "        self.length = len(l)\n",
    "        if len(l) == 0:\n",
    "            self.head = None\n",
    "            self.tail = None\n",
    "        else:\n",
    "            self.head = Node(l[0])\n",
    "            n = self.head\n",
    "            for i in l[1:]:\n",
    "                n.next = Node(i)\n",
    "                n = n.next\n",
    "            self.tail = n\n",
    "            \n",
    "    def len(self):\n",
    "        return self.length\n",
    "    \n",
    "    def enqueue(self, x):\n",
    "        self.tail.next = Node(x)\n",
    "        self.tail = self.tail.next\n",
    "        self.length += 1\n",
    "        \n",
    "    def dequeue(self):\n",
    "        if self.length == 0:\n",
    "            raise Exception(\"Queue is empty!\")\n",
    "        else:\n",
    "            res = self.head.value\n",
    "            self.head = self.head.next\n",
    "            self.length -= 1\n",
    "            if self.length == 0:\n",
    "                self.tail = None\n",
    "            print(\"Garbage collector: collected\", \"%d objects.\" % gc.collect())\n",
    "            return res"
   ]
  },
  {
   "cell_type": "code",
   "execution_count": 26,
   "id": "527fee7c-abc6-4cb7-95c7-afe77ce9d8d9",
   "metadata": {
    "tags": []
   },
   "outputs": [
    {
     "name": "stdout",
     "output_type": "stream",
     "text": [
      "Garbage collector: collected 833 objects.\n",
      "0\n",
      "Garbage collector: collected 0 objects.\n",
      "1\n",
      "Garbage collector: collected 0 objects.\n",
      "2\n",
      "Garbage collector: collected 0 objects.\n",
      "3\n",
      "Garbage collector: collected 0 objects.\n",
      "4\n",
      "Garbage collector: collected 0 objects.\n",
      "5\n"
     ]
    },
    {
     "ename": "Exception",
     "evalue": "Queue is empty!",
     "output_type": "error",
     "traceback": [
      "\u001b[0;31m---------------------------------------------------------------------------\u001b[0m",
      "\u001b[0;31mException\u001b[0m                                 Traceback (most recent call last)",
      "Cell \u001b[0;32mIn[26], line 11\u001b[0m\n\u001b[1;32m      9\u001b[0m     q\u001b[38;5;241m.\u001b[39menqueue(x)\n\u001b[1;32m     10\u001b[0m \u001b[38;5;28;01mwhile\u001b[39;00m q\u001b[38;5;241m.\u001b[39mlen() \u001b[38;5;241m>\u001b[39m\u001b[38;5;241m=\u001b[39m \u001b[38;5;241m0\u001b[39m:\n\u001b[0;32m---> 11\u001b[0m     \u001b[38;5;28mprint\u001b[39m(\u001b[43mq\u001b[49m\u001b[38;5;241;43m.\u001b[39;49m\u001b[43mdequeue\u001b[49m\u001b[43m(\u001b[49m\u001b[43m)\u001b[49m)\n",
      "Cell \u001b[0;32mIn[25], line 33\u001b[0m, in \u001b[0;36mQueue.dequeue\u001b[0;34m(self)\u001b[0m\n\u001b[1;32m     31\u001b[0m \u001b[38;5;28;01mdef\u001b[39;00m \u001b[38;5;21mdequeue\u001b[39m(\u001b[38;5;28mself\u001b[39m):\n\u001b[1;32m     32\u001b[0m     \u001b[38;5;28;01mif\u001b[39;00m \u001b[38;5;28mself\u001b[39m\u001b[38;5;241m.\u001b[39mlength \u001b[38;5;241m==\u001b[39m \u001b[38;5;241m0\u001b[39m:\n\u001b[0;32m---> 33\u001b[0m         \u001b[38;5;28;01mraise\u001b[39;00m \u001b[38;5;167;01mException\u001b[39;00m(\u001b[38;5;124m\"\u001b[39m\u001b[38;5;124mQueue is empty!\u001b[39m\u001b[38;5;124m\"\u001b[39m)\n\u001b[1;32m     34\u001b[0m     \u001b[38;5;28;01melse\u001b[39;00m:\n\u001b[1;32m     35\u001b[0m         res \u001b[38;5;241m=\u001b[39m \u001b[38;5;28mself\u001b[39m\u001b[38;5;241m.\u001b[39mhead\u001b[38;5;241m.\u001b[39mvalue\n",
      "\u001b[0;31mException\u001b[0m: Queue is empty!"
     ]
    }
   ],
   "source": [
    "q = Queue([0])\n",
    "l = [1,2,3]\n",
    "m = [4,5]\n",
    "for x in l:\n",
    "    q.enqueue(x)\n",
    "print(q.dequeue())\n",
    "print(q.dequeue())\n",
    "for x in m:\n",
    "    q.enqueue(x)\n",
    "while q.len() >= 0:\n",
    "    print(q.dequeue())"
   ]
  },
  {
   "cell_type": "code",
   "execution_count": 29,
   "id": "8b78b03f-8eef-4030-8e39-264ce25dbae8",
   "metadata": {
    "tags": []
   },
   "outputs": [
    {
     "name": "stdout",
     "output_type": "stream",
     "text": [
      "Garbage collector: collected 0 objects.\n",
      "Creating cycles...\n",
      "{1: {...}}\n",
      "{2: {...}}\n",
      "{3: {...}}\n",
      "{4: {...}}\n",
      "{5: {...}}\n",
      "{6: {...}}\n",
      "{7: {...}}\n",
      "{8: {...}}\n",
      "{9: {...}}\n",
      "{10: {...}}\n",
      "Garbage collector: collected 10 objects.\n"
     ]
    }
   ],
   "source": [
    "import gc\n",
    "i = 0\n",
    "\n",
    "# create a cycle and on each iteration x as a dictionary\n",
    "# assigned to 1\n",
    "def create_cycle():\n",
    "\tx = { }\n",
    "\tx[i+1] = x\n",
    "\tprint(x)\n",
    "\n",
    "# lists are cleared whenever a full collection or \n",
    "# collection of the highest generation (2) is run\n",
    "collected = gc.collect() # or gc.collect(2)\n",
    "print(\"Garbage collector: collected %d objects.\" % (collected))\n",
    "\n",
    "print(\"Creating cycles...\")\n",
    "for i in range(10):\n",
    "\tcreate_cycle()\n",
    "\n",
    "collected = gc.collect()\n",
    "\n",
    "print(\"Garbage collector: collected %d objects.\" % (collected))\n"
   ]
  },
  {
   "cell_type": "code",
   "execution_count": 2,
   "id": "3b8252ee-5222-4884-8b6b-64dafe85820f",
   "metadata": {
    "tags": []
   },
   "outputs": [
    {
     "data": {
      "text/plain": [
       "0"
      ]
     },
     "execution_count": 2,
     "metadata": {},
     "output_type": "execute_result"
    }
   ],
   "source": [
    "import gc\n",
    "\n",
    "# Create some objects\n",
    "obj1 = [1, 2, 3]\n",
    "obj2 = {\"a\": 1, \"b\": 2}\n",
    "obj3 = \"Hello, world!\"\n",
    "\n",
    "# Delete references to objects\n",
    "del obj1\n",
    "del obj2\n",
    "del obj3\n",
    "\n",
    "# Force a garbage collection\n",
    "gc.collect()\n"
   ]
  },
  {
   "cell_type": "code",
   "execution_count": null,
   "id": "f557b99e-4a15-46dd-b120-20677f86d205",
   "metadata": {},
   "outputs": [],
   "source": []
  }
 ],
 "metadata": {
  "kernelspec": {
   "display_name": "Python 3 (ipykernel)",
   "language": "python",
   "name": "python3"
  },
  "language_info": {
   "codemirror_mode": {
    "name": "ipython",
    "version": 3
   },
   "file_extension": ".py",
   "mimetype": "text/x-python",
   "name": "python",
   "nbconvert_exporter": "python",
   "pygments_lexer": "ipython3",
   "version": "3.8.12"
  }
 },
 "nbformat": 4,
 "nbformat_minor": 5
}
