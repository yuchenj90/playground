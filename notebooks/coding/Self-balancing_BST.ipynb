{
 "cells": [
  {
   "cell_type": "markdown",
   "metadata": {},
   "source": [
    "# Red-black tree"
   ]
  },
  {
   "cell_type": "markdown",
   "metadata": {},
   "source": [
    "> In addition to the requirements imposed on a binary search tree the following must be satisfied by a red–black tree:\n",
    "> 1) Each node is either red or black.  \n",
    "> 2) The root is black. This rule is sometimes omitted. Since the root can always be changed from red to black, but not necessarily vice versa, this rule has little effect on analysis.  \n",
    "> 3) All leaves (NIL) are black.  \n",
    "> 4) If a node is red, then both its children are black. (No adjacent red nodes)  \n",
    "> 5) Every path from a given node to any of its descendant NIL nodes goes through the same number of black nodes."
   ]
  },
  {
   "cell_type": "markdown",
   "metadata": {},
   "source": [
    "<div>\n",
    "<img src=\"png/Red-black_tree_example.svg\" alt=\"Drawing\" style=\"width: 500px;\"/>\n",
    "</div>"
   ]
  },
  {
   "cell_type": "markdown",
   "metadata": {},
   "source": [
    "## Red-black tree is a balanced BST\n",
    "> A Red-Black Tree of height $h$ has black-height $h_b>= h/2$. A red-black tree with n nodes has black height $h_b \\leq \\log_2(n+1)$, \n",
    "hence the tree height $h \\leq 2h_b \\leq 2\\log_2(n+1)$ "
   ]
  },
  {
   "cell_type": "markdown",
   "metadata": {},
   "source": [
    "## Operations for Red-black tree"
   ]
  },
  {
   "cell_type": "markdown",
   "metadata": {},
   "source": [
    "### Insertion\n",
    "> Let x be the newly inserted node. The idea is to perform recoloring and rotation to maintain the tree.\n",
    "> 1. Perform standard BST insertion and make the color of newly inserted nodes as RED.\n",
    "> 2. If x is root, change color of x as BLACK (Black height of complete tree increases by 1) and done.\n",
    "> 3. Do following if color of x’s parent is not BLACK and x is not root.  \n",
    "> a. If x’s uncle is RED (Grand parent must exist from property 2 and must be black from property 4)  \n",
    ">   &emsp; (i) Change color of parent and uncle as BLACK.  \n",
    ">   &emsp; (ii) Change color of grand parent as RED.  \n",
    ">   &emsp; (iii) Change x = x’s grandparent, repeat steps 2 and 3 for new x.  \n",
    ">   &emsp; <div> <img src=\"png/redblack_insertion1.png\" alt=\"Drawing\" style=\"width: 500px;\"/> </div>\n",
    "> b. If x’s uncle is BLACK, then there can be four configurations for x, x’s parent (p) and x’s grandparent (g) (This is similar to AVL Tree). Namely, x can be left/right child of p and p can be left/right child of g.    \n",
    ">   &emsp; (i) Left Left Case (p is left child of g and x is left child of p)  \n",
    ">   &emsp; <div> <img src=\"png/redBlack_insertion_case3a1.png\" alt=\"Drawing\" style=\"width: 500px;\"/> </div>   \n",
    ">   &emsp; (ii) Left Right Case (p is left child of g and x is right child of p)  \n",
    ">   &emsp; <div> <img src=\"png/redBlack_insertion_case3b1.png\" alt=\"Drawing\" style=\"width: 500px;\"/> </div>  \n",
    ">   &emsp; (iii) Right Right Case (Mirror of case i)  \n",
    ">   &emsp; <div> <img src=\"png/redBlack_insertion_case3c1.png\" alt=\"Drawing\" style=\"width: 500px;\"/> </div>   \n",
    ">   &emsp; (iv) Right Left Case (Mirror of case ii)  \n",
    ">   &emsp; <div> <img src=\"png/redBlack_insertion_case3d1.png\" alt=\"Drawing\" style=\"width: 500px;\"/> </div>   "
   ]
  },
  {
   "cell_type": "markdown",
   "metadata": {},
   "source": [
    "### Deletion\n",
    "https://www.geeksforgeeks.org/red-black-tree-set-3-delete-2/"
   ]
  },
  {
   "cell_type": "markdown",
   "metadata": {},
   "source": [
    "## Library for self-balancing BST\n",
    "> C++ STL: set and map  \n",
    "> For Python, one can use PyPi modules like rbtree and pyavl"
   ]
  },
  {
   "cell_type": "code",
   "execution_count": 11,
   "metadata": {},
   "outputs": [],
   "source": [
    "from bintrees import RBTree as rb"
   ]
  },
  {
   "cell_type": "code",
   "execution_count": 44,
   "metadata": {},
   "outputs": [],
   "source": [
    "T = rb()"
   ]
  },
  {
   "cell_type": "code",
   "execution_count": 64,
   "metadata": {},
   "outputs": [],
   "source": [
    "T.insert(3,3)\n",
    "T.insert(2,2)\n",
    "T.insert(1,1)\n",
    "T.insert(4,4)\n",
    "T.insert(3,3)\n",
    "T.insert(3,4)"
   ]
  },
  {
   "cell_type": "code",
   "execution_count": 65,
   "metadata": {},
   "outputs": [
    {
     "name": "stdout",
     "output_type": "stream",
     "text": [
      "2 2\n",
      "1 1\n",
      "3 4\n",
      "4 4\n"
     ]
    }
   ],
   "source": [
    "def foo(x,y):\n",
    "    print(x,y)\n",
    "T.foreach(foo, order=-1)"
   ]
  },
  {
   "cell_type": "code",
   "execution_count": 54,
   "metadata": {},
   "outputs": [
    {
     "data": {
      "text/plain": [
       "4"
      ]
     },
     "execution_count": 54,
     "metadata": {},
     "output_type": "execute_result"
    }
   ],
   "source": [
    "T.count"
   ]
  },
  {
   "cell_type": "code",
   "execution_count": 63,
   "metadata": {},
   "outputs": [
    {
     "data": {
      "text/plain": [
       "1"
      ]
     },
     "execution_count": 63,
     "metadata": {},
     "output_type": "execute_result"
    }
   ],
   "source": [
    "len(dict(T[:2]))"
   ]
  },
  {
   "cell_type": "code",
   "execution_count": 66,
   "metadata": {},
   "outputs": [
    {
     "data": {
      "text/plain": [
       "True"
      ]
     },
     "execution_count": 66,
     "metadata": {},
     "output_type": "execute_result"
    }
   ],
   "source": [
    "3 in T"
   ]
  },
  {
   "cell_type": "code",
   "execution_count": 67,
   "metadata": {},
   "outputs": [
    {
     "data": {
      "text/plain": [
       "False"
      ]
     },
     "execution_count": 67,
     "metadata": {},
     "output_type": "execute_result"
    }
   ],
   "source": [
    "6 in T"
   ]
  },
  {
   "cell_type": "code",
   "execution_count": 68,
   "metadata": {},
   "outputs": [
    {
     "data": {
      "text/plain": [
       "\u001b[0;31mSignature:\u001b[0m \u001b[0mT\u001b[0m\u001b[0;34m.\u001b[0m\u001b[0minsert\u001b[0m\u001b[0;34m(\u001b[0m\u001b[0mkey\u001b[0m\u001b[0;34m,\u001b[0m \u001b[0mvalue\u001b[0m\u001b[0;34m)\u001b[0m\u001b[0;34m\u001b[0m\u001b[0;34m\u001b[0m\u001b[0m\n",
       "\u001b[0;31mDocstring:\u001b[0m T.insert(key, value) <==> T[key] = value, insert key, value into tree.\n",
       "\u001b[0;31mFile:\u001b[0m      ~/learn/playground/env/lib/python3.8/site-packages/bintrees/rbtree.py\n",
       "\u001b[0;31mType:\u001b[0m      method\n"
      ]
     },
     "metadata": {},
     "output_type": "display_data"
    }
   ],
   "source": [
    "T.insert?"
   ]
  },
  {
   "cell_type": "code",
   "execution_count": null,
   "metadata": {},
   "outputs": [],
   "source": []
  }
 ],
 "metadata": {
  "kernelspec": {
   "display_name": "Python 3",
   "language": "python",
   "name": "python3"
  },
  "language_info": {
   "codemirror_mode": {
    "name": "ipython",
    "version": 3
   },
   "file_extension": ".py",
   "mimetype": "text/x-python",
   "name": "python",
   "nbconvert_exporter": "python",
   "pygments_lexer": "ipython3",
   "version": "3.8.4"
  }
 },
 "nbformat": 4,
 "nbformat_minor": 4
}
