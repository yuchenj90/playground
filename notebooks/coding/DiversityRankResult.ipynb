{
 "cells": [
  {
   "cell_type": "markdown",
   "id": "2a661762-bd5b-4262-9d88-fdd5f2018e10",
   "metadata": {},
   "source": [
    "问给n个元素，每个元素有m个不同的topic，设计一个divesifier让相邻的k个不能有重复的topic，并且尽量保持原来的顺序。"
   ]
  },
  {
   "cell_type": "code",
   "execution_count": null,
   "id": "977ee0b2-cbfe-42ea-b433-4cb4415c0579",
   "metadata": {},
   "outputs": [],
   "source": []
  },
  {
   "cell_type": "markdown",
   "id": "5ab4773d-1820-4bce-9c4a-658b707db586",
   "metadata": {},
   "source": [
    "# Ranking diversification\n",
    "Given n items in **arr**, their relevance score **rel**, and their groups in **group**, find the best ranking of k<=n items. If not possible, output None.\n",
    "The diversification rule says no **m** consecutive items belong to the same group. \n",
    "The best ranking is defined by NDCG score.\n",
    "If no relevance score is available, try to minimize the rank of each item picked.\n",
    "\n",
    "```Python\n",
    "Example 1:\n",
    "    Input:\n",
    "        arr = [\"tv\", \"speaker\", \"socks\", \"headphone\", \"shirt\", \"coffee\", \"monitor\", \"keyboard\", \"tea\", \"jeans\", \"tshirt\"]\n",
    "        group = [\"electronics\", \"electronics\", \"fashion\", \"electronics\", \"fashion\", \"food\", \"electronics\", \"electronics\", \"food\", \"fashion\", \"fashion\"]\n",
    "        k = 8, m = 3\n",
    "    Output:\n",
    "        [\"tv\", \"socks\", \"coffee\", \"speaker\", \"shirt\", \"tea\", \"headphone\", \"jeans\"]\n",
    "    Explanation:\n",
    "        There are no any 3 consecutive items belong to the same group.\n",
    "```"
   ]
  },
  {
   "cell_type": "code",
   "execution_count": 1,
   "id": "344f284e-adce-420d-a592-b301f9cb0737",
   "metadata": {
    "tags": []
   },
   "outputs": [],
   "source": [
    "arr = [\"tv\", \"speaker\", \"socks\", \"headphone\", \"shirt\", \"coffee\", \"monitor\", \"keyboard\", \"tea\", \"jeans\", \"tshirt\"]\n",
    "group = [\"electronics\", \"electronics\", \"fashion\", \"electronics\", \"fashion\", \"food\", \"electronics\", \"electronics\", \"food\", \"fashion\", \"fashion\"]"
   ]
  },
  {
   "cell_type": "code",
   "execution_count": 2,
   "id": "61d34411-d8d1-477a-9695-8d8eec7cb1ab",
   "metadata": {
    "tags": []
   },
   "outputs": [],
   "source": [
    "from typing import List\n",
    "def Rerank(arr: List[str], group: List[str], m:int, k:int, rel: List[float]=None):\n",
    "    assert len(arr)==len(group), \"Sizes of items and groups must match!\"\n",
    "\n",
    "    item_map = {}\n",
    "    idx = {}\n",
    "    for i, v in enumerate(zip(arr, group)):\n",
    "        if v[1] not in item_map:\n",
    "            item_map[v[1]] = []\n",
    "            idx[v[1]] = 0\n",
    "        item_map[v[1]].append(i)\n",
    "    # print(idx, item_map)\n",
    "    res = []\n",
    "    g = []\n",
    "    while len(res) < k:\n",
    "        # print(res, idx)\n",
    "        cand = len(arr)\n",
    "        for t,v in item_map.items():\n",
    "            if t not in g[-m+1:] and idx[t]<len(v):\n",
    "                cand = min(cand, v[idx[t]])\n",
    "        if cand < len(arr):\n",
    "            res.append(arr[cand])\n",
    "            g.append(group[cand])\n",
    "            idx[group[cand]] += 1\n",
    "        else:\n",
    "            return None\n",
    "    return res\n",
    "        \n",
    "            \n",
    "        "
   ]
  },
  {
   "cell_type": "code",
   "execution_count": 3,
   "id": "dd99ee48-b5a3-4bf8-b38c-e9d1ddebb6f0",
   "metadata": {},
   "outputs": [
    {
     "data": {
      "text/plain": [
       "['tv', 'socks', 'coffee', 'speaker', 'shirt', 'tea', 'headphone', 'jeans']"
      ]
     },
     "execution_count": 3,
     "metadata": {},
     "output_type": "execute_result"
    }
   ],
   "source": [
    "Rerank(arr, group, 3, 8)"
   ]
  },
  {
   "cell_type": "code",
   "execution_count": 4,
   "id": "cc8b8087-489a-4fea-9388-a2edb13fe46d",
   "metadata": {
    "tags": []
   },
   "outputs": [],
   "source": [
    "Rerank(arr, group, 3, 9)"
   ]
  },
  {
   "cell_type": "code",
   "execution_count": 5,
   "id": "18fe2688-3e7d-4a58-b6fc-3c687af499e8",
   "metadata": {
    "tags": []
   },
   "outputs": [],
   "source": [
    "def Rerank2(arr: List[str], group: List[str], m:int, k:int, rel: List[float]=None):\n",
    "    def recur(res, visited, g_selected, l):\n",
    "        # print(res, visited)\n",
    "        if len(l)>0:\n",
    "            return\n",
    "        if len(res) == k:\n",
    "            l.append(res)\n",
    "        for item, g in zip(arr, group):\n",
    "            if item not in visited and g not in g_selected[-m+1:]:\n",
    "                visited[item] = True\n",
    "                recur(res+[item], visited, g_selected+[g], l)\n",
    "                del visited[item]\n",
    "    l = []\n",
    "    recur([], {}, [], l)\n",
    "    if len(l)>0:\n",
    "        return l[0]\n",
    "    return None\n",
    "                \n",
    "    "
   ]
  },
  {
   "cell_type": "code",
   "execution_count": 6,
   "id": "2380cc29-789f-4e0b-ae47-b8860a6225c2",
   "metadata": {
    "tags": []
   },
   "outputs": [
    {
     "data": {
      "text/plain": [
       "['tv', 'socks', 'coffee', 'speaker', 'shirt', 'tea', 'headphone', 'jeans']"
      ]
     },
     "execution_count": 6,
     "metadata": {},
     "output_type": "execute_result"
    }
   ],
   "source": [
    "Rerank2(arr, group, 3, 8)"
   ]
  },
  {
   "cell_type": "code",
   "execution_count": 7,
   "id": "091148c1-0b88-4a55-8c77-a40981f7dc19",
   "metadata": {
    "tags": []
   },
   "outputs": [],
   "source": [
    "arr = [\"coffee\", \"tv\", \"speaker\", \"socks\", \"headphone\", \"shirt\", \"monitor\", \"keyboard\", \"tea\", \"jeans\", \"tshirt\"]\n",
    "group = [\"food\", \"electronics\", \"electronics\", \"fashion\", \"electronics\", \"fashion\",  \"electronics\", \"electronics\", \"food\", \"fashion\", \"fashion\"]"
   ]
  },
  {
   "cell_type": "code",
   "execution_count": 8,
   "id": "746076e4-97fa-4057-87a2-39d17010d8cc",
   "metadata": {
    "tags": []
   },
   "outputs": [],
   "source": [
    "Rerank(arr, group, 3, 8)"
   ]
  },
  {
   "cell_type": "code",
   "execution_count": 9,
   "id": "1b751f6f-a289-4074-ac3f-202412cedb4d",
   "metadata": {
    "tags": []
   },
   "outputs": [
    {
     "data": {
      "text/plain": [
       "['tv', 'socks', 'coffee', 'speaker', 'shirt', 'tea', 'headphone', 'jeans']"
      ]
     },
     "execution_count": 9,
     "metadata": {},
     "output_type": "execute_result"
    }
   ],
   "source": [
    "Rerank2(arr, group, 3, 8)"
   ]
  },
  {
   "cell_type": "code",
   "execution_count": 10,
   "id": "ec77226d-09bc-407c-b382-8e79de1d095c",
   "metadata": {
    "tags": []
   },
   "outputs": [],
   "source": [
    "import math\n",
    "def Rerank3(arr: List[str], group: List[str], m:int, k:int, rel: List[float]=None):\n",
    "    def recur(res, visited, g_selected, l):\n",
    "        if len(res) == k:\n",
    "            l.append(res)\n",
    "        for item, g in zip(arr, group):\n",
    "            if item not in visited and g not in g_selected[-m+1:]:\n",
    "                visited[item] = True\n",
    "                recur(res+[item], visited, g_selected+[g], l)\n",
    "                del visited[item]\n",
    "    l = []\n",
    "    recur([], {}, [], l)\n",
    "    rel_score = {}\n",
    "    for item, s in zip(arr, rel):\n",
    "        rel_score[item] = s\n",
    "    \n",
    "    if len(l)>0:\n",
    "        max_score = 0\n",
    "        res = None\n",
    "        for x in l:\n",
    "            s = 0\n",
    "            for i in range(k):\n",
    "                s += rel_score[x[i]]/math.log(i+2) * math.log(2)\n",
    "            if s > max_score:\n",
    "                res = x.copy()\n",
    "                max_score = s\n",
    "        return res\n",
    "            \n",
    "    return None\n",
    "                "
   ]
  },
  {
   "cell_type": "code",
   "execution_count": 11,
   "id": "cc3b50ac-b9be-4fca-a6e2-b731282a5b2d",
   "metadata": {
    "tags": []
   },
   "outputs": [
    {
     "data": {
      "text/plain": [
       "['tv', 'socks', 'coffee', 'speaker', 'shirt', 'tea', 'headphone', 'jeans']"
      ]
     },
     "execution_count": 11,
     "metadata": {},
     "output_type": "execute_result"
    }
   ],
   "source": [
    "Rerank3(arr, group, 3, 8, [4,4,4,3,3,2,2,2,2,2,1])"
   ]
  },
  {
   "cell_type": "code",
   "execution_count": 12,
   "id": "7a8add09-1fa8-4ced-9160-d423f239e54b",
   "metadata": {
    "tags": []
   },
   "outputs": [
    {
     "data": {
      "text/plain": [
       "['jeans',\n",
       " 'monitor',\n",
       " 'tea',\n",
       " 'tshirt',\n",
       " 'keyboard',\n",
       " 'coffee',\n",
       " 'shirt',\n",
       " 'headphone']"
      ]
     },
     "execution_count": 12,
     "metadata": {},
     "output_type": "execute_result"
    }
   ],
   "source": [
    "Rerank3(arr, group, 3, 8, [1,1,1,2,2,3,3,3,3,4,4])"
   ]
  },
  {
   "cell_type": "code",
   "execution_count": 13,
   "id": "49c156f9-29c4-4064-8b9b-9c2489398fc5",
   "metadata": {
    "tags": []
   },
   "outputs": [],
   "source": [
    "Rerank3(arr, group, 4, 8, [1,1,1,2,2,3,3,3,3,4,4])"
   ]
  },
  {
   "cell_type": "code",
   "execution_count": null,
   "id": "d7515220-79df-49db-84e7-feb0d69b55f1",
   "metadata": {},
   "outputs": [],
   "source": []
  },
  {
   "cell_type": "code",
   "execution_count": null,
   "id": "306af571-cb82-494a-90a4-f11b6fe954be",
   "metadata": {},
   "outputs": [],
   "source": []
  }
 ],
 "metadata": {
  "kernelspec": {
   "display_name": "Python 3 (ipykernel)",
   "language": "python",
   "name": "python3"
  },
  "language_info": {
   "codemirror_mode": {
    "name": "ipython",
    "version": 3
   },
   "file_extension": ".py",
   "mimetype": "text/x-python",
   "name": "python",
   "nbconvert_exporter": "python",
   "pygments_lexer": "ipython3",
   "version": "3.8.12"
  }
 },
 "nbformat": 4,
 "nbformat_minor": 5
}
