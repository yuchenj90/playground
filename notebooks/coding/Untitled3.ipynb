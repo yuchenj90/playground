{
 "cells": [
  {
   "cell_type": "markdown",
   "id": "e3240f2f-7943-4f33-95b9-3c42b2443051",
   "metadata": {},
   "source": [
    "Given a word of length $n$ and $n$ 6-sided dice with a character in each side. Find out if this word can be constructed by the set of given dice.\n",
    "\n",
    ">Example 1:\n",
    ">- Input: word = \"hello\", dices = [[a, l, c, d, e, f], [a, b, c, d, e, f], [a, b, c, h, e, f], [a, b, c, d, o, f], [a, b, c, l, e, f]]\n",
    ">- Output: true\n",
    ">- Explanation: dice[2][3] + dice[1][4] + dice[0][1] + dice[4][3] + dice[3][4]\n",
    "\n",
    ">Example 2:\n",
    ">- Input: word = \"hello\", dices = [[a, b, c, d, e, f], [a, b, c, h, i, j], [h, s, t, m, j, e], [h, e, l, o, i, j], [o, h, a, l, d, e]]\n",
    ">- Output: false\n",
    ">- Explanation: l only occurred in the last two dices, but o must also from the last two dices. "
   ]
  },
  {
   "cell_type": "markdown",
   "id": "4e7b2373-3062-43c6-baf8-e08410d675f0",
   "metadata": {},
   "source": [
    "dp[i][m] "
   ]
  },
  {
   "cell_type": "code",
   "execution_count": 8,
   "id": "29281de8-f2da-4c74-99d3-9c8416a29bda",
   "metadata": {
    "tags": []
   },
   "outputs": [
    {
     "data": {
      "text/plain": [
       "512"
      ]
     },
     "execution_count": 8,
     "metadata": {},
     "output_type": "execute_result"
    }
   ],
   "source": [
    "1 << 9"
   ]
  },
  {
   "cell_type": "code",
   "execution_count": 4,
   "id": "cc525a0d-3853-4c8d-890d-6c358c6fe813",
   "metadata": {
    "tags": []
   },
   "outputs": [],
   "source": [
    "from typing import List\n",
    "def check_word(word: str, dices: List[List[str]]) -> bool:\n",
    "    n = len(word)\n",
    "    m = len(dices)\n",
    "    if m<n:\n",
    "        return False\n",
    "    t = (0 for _ in range(m))\n",
    "    dp = [{} for _ in range(n+1)]\n",
    "    dp[0][t] = True\n",
    "    for i in range(1,n+1):\n",
    "        ch = word[i]\n",
    "        \n",
    "            dp[i]\n",
    "    "
   ]
  },
  {
   "cell_type": "code",
   "execution_count": null,
   "id": "e5ef9620-7ea7-4049-bf90-dabbca2a2cea",
   "metadata": {},
   "outputs": [],
   "source": []
  },
  {
   "cell_type": "code",
   "execution_count": null,
   "id": "490243cd-fc01-4c4b-9f15-5c6e163bed4d",
   "metadata": {},
   "outputs": [],
   "source": []
  }
 ],
 "metadata": {
  "kernelspec": {
   "display_name": "Python 3 (ipykernel)",
   "language": "python",
   "name": "python3"
  },
  "language_info": {
   "codemirror_mode": {
    "name": "ipython",
    "version": 3
   },
   "file_extension": ".py",
   "mimetype": "text/x-python",
   "name": "python",
   "nbconvert_exporter": "python",
   "pygments_lexer": "ipython3",
   "version": "3.8.12"
  }
 },
 "nbformat": 4,
 "nbformat_minor": 5
}
