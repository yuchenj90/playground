{
 "cells": [
  {
   "cell_type": "markdown",
   "metadata": {},
   "source": [
    "# Pattern matching algorithms\n",
    "Determine if the pattern string P is matched with the text string T. If so, return the first position of match.\n",
    "\n",
    "Examples:\n",
    "1. T = 'this is an example', P = 'is', return 2\n",
    "2. T = 'aaaaaaaaaa', P = 'aaab', return -1"
   ]
  },
  {
   "cell_type": "markdown",
   "metadata": {},
   "source": [
    "# Brute force\n",
    "Match each character in P with T by scanning each possible locations, time complexity is O(m*(n-m+1)), where m is the length of P and n is the length of T."
   ]
  },
  {
   "cell_type": "code",
   "execution_count": 10,
   "metadata": {},
   "outputs": [],
   "source": [
    "def brute_force_match(P, T):\n",
    "    start_pos = 0\n",
    "    while start_pos < len(T):\n",
    "        flag = True\n",
    "        for pos in range(start_pos, start_pos+len(P)):\n",
    "            if pos>=len(T):\n",
    "                return -1\n",
    "            elif T[pos] != P[pos-start_pos]:\n",
    "                flag = False\n",
    "                break\n",
    "        if flag:\n",
    "            return start_pos\n",
    "        else:\n",
    "            start_pos += 1\n",
    "    return -1"
   ]
  },
  {
   "cell_type": "code",
   "execution_count": 11,
   "metadata": {},
   "outputs": [],
   "source": [
    "T = 'this is an example'\n",
    "P = 'is'"
   ]
  },
  {
   "cell_type": "code",
   "execution_count": 12,
   "metadata": {},
   "outputs": [
    {
     "data": {
      "text/plain": [
       "2"
      ]
     },
     "execution_count": 12,
     "metadata": {},
     "output_type": "execute_result"
    }
   ],
   "source": [
    "brute_force_match(P,T)"
   ]
  },
  {
   "cell_type": "code",
   "execution_count": 13,
   "metadata": {},
   "outputs": [],
   "source": [
    "T = 'ababababababababababababa'\n",
    "P = 'abababc'"
   ]
  },
  {
   "cell_type": "code",
   "execution_count": 14,
   "metadata": {},
   "outputs": [
    {
     "data": {
      "text/plain": [
       "-1"
      ]
     },
     "execution_count": 14,
     "metadata": {},
     "output_type": "execute_result"
    }
   ],
   "source": [
    "brute_force_match(P,T)"
   ]
  },
  {
   "cell_type": "code",
   "execution_count": 17,
   "metadata": {},
   "outputs": [],
   "source": [
    "T = 'abababababababababababababc'\n",
    "P = 'abababc'"
   ]
  },
  {
   "cell_type": "code",
   "execution_count": 18,
   "metadata": {},
   "outputs": [
    {
     "data": {
      "text/plain": [
       "20"
      ]
     },
     "execution_count": 18,
     "metadata": {},
     "output_type": "execute_result"
    }
   ],
   "source": [
    "brute_force_match(P,T)"
   ]
  },
  {
   "cell_type": "markdown",
   "metadata": {},
   "source": [
    "# Rabin-Karp algorithm"
   ]
  },
  {
   "cell_type": "markdown",
   "metadata": {},
   "source": [
    "Idea: The same as brute force alg. Instead of comparing each character, we use hash function to hash each substring with the same length to a number. Compare hash functions first, if found a match, then check if strings are exact match  \n",
    "Worst case complexity is still O(m*(n-m+1)), as there could be hash collisions for each substring. \n",
    "However, average complexity is O(n)."
   ]
  },
  {
   "cell_type": "code",
   "execution_count": 38,
   "metadata": {},
   "outputs": [],
   "source": [
    "def Rabin_Karp_match(P, T):\n",
    "    # uses hash function sum(ord(ch)) for characters in substring with length m\n",
    "    \n",
    "    if len(P)>len(T):\n",
    "        return -1\n",
    "    \n",
    "    hash_P = 0\n",
    "    for i in range(len(P)):\n",
    "        hash_P += ord(P[i])\n",
    "        \n",
    "    hash_T = 0\n",
    "    \n",
    "    for i in range(len(P)):\n",
    "        hash_T += ord(T[i])\n",
    "        \n",
    "    start_pos = 0\n",
    "    end_pos = len(P)\n",
    "    while True:\n",
    "        if hash_T == hash_P:\n",
    "            flag = True\n",
    "            for i in range(len(P)):\n",
    "                if P[i] != T[start_pos+i]:\n",
    "                    flag = False\n",
    "                    break\n",
    "            if flag:\n",
    "                return start_pos\n",
    "        if end_pos<len(T):\n",
    "            hash_T = hash_T - ord(T[start_pos]) + ord(T[end_pos])\n",
    "            start_pos += 1\n",
    "            end_pos += 1\n",
    "        else:\n",
    "            break\n",
    "        \n",
    "    return -1"
   ]
  },
  {
   "cell_type": "code",
   "execution_count": 44,
   "metadata": {},
   "outputs": [
    {
     "data": {
      "text/plain": [
       "2"
      ]
     },
     "execution_count": 44,
     "metadata": {},
     "output_type": "execute_result"
    }
   ],
   "source": [
    "Rabin_Karp_match('is','this is an example')"
   ]
  },
  {
   "cell_type": "code",
   "execution_count": 41,
   "metadata": {},
   "outputs": [
    {
     "data": {
      "text/plain": [
       "20"
      ]
     },
     "execution_count": 41,
     "metadata": {},
     "output_type": "execute_result"
    }
   ],
   "source": [
    "T = 'abababababababababababababc'\n",
    "P = 'abababc'\n",
    "Rabin_Karp_match(P,T)"
   ]
  },
  {
   "cell_type": "code",
   "execution_count": 46,
   "metadata": {},
   "outputs": [
    {
     "data": {
      "text/plain": [
       "19"
      ]
     },
     "execution_count": 46,
     "metadata": {},
     "output_type": "execute_result"
    }
   ],
   "source": [
    "Rabin_Karp_match('t','This is an example to show it.')"
   ]
  },
  {
   "cell_type": "markdown",
   "metadata": {},
   "source": [
    "# Knuth-Morris-Pratt (KMP) "
   ]
  },
  {
   "cell_type": "markdown",
   "metadata": {},
   "source": [
    "For each i, compute the length of longest substring of P[0:i] which is both suffix and prefix. For example,\n",
    "1. P = 'abcde', prefix = 00000\n",
    "2. P = 'abcabbcab', prefix = 000120012, at position 4, the string is 'abcab' and 'ab' is the longest suffix and prefix\n",
    "3. P = 'aaaaaaaab', prefix = 012345670, at position 3, the string is 'aaaa' and 'aaa' is the longest suffix and prefix\n",
    "\n",
    "We maintain a prepos index for the length of longest prefix/suffix for P[0:pos-1]. Moving to P[0:pos], we only need to compare P[prepos] and P[pos]:\n",
    "* if they have the same character, we can simply increase the length of prefix/suffix at P[0:pos-1] by 1\n",
    "* if they are not the same, we can reuse the longest prefix/suffix for P[0,prepos] to determine the next possible prefix/suffix for P[0:pos]\n",
    "\n",
    "Time complexity is O(m)."
   ]
  },
  {
   "cell_type": "code",
   "execution_count": 53,
   "metadata": {},
   "outputs": [],
   "source": [
    "def find_prefix(P):\n",
    "    # Find prefix\n",
    "    prefix = [0 for i in range(len(P))]\n",
    "    pos = 1\n",
    "    prepos = 0\n",
    "    while pos<len(P):\n",
    "        if P[pos]==P[prepos]: # if can continue match the next character, we increase the prefix by 1 and move to the next position\n",
    "            prefix[pos] = prepos + 1\n",
    "            prepos += 1\n",
    "            pos += 1\n",
    "        else:                 # if a match cannot be found\n",
    "            if prepos == 0:   # already moved to the first character, then the prefix/suffix length must be zero\n",
    "                pos += 1\n",
    "            else:             # we move to the prefix of the previous prefix string and compare again\n",
    "                prepos = prefix[prepos-1]\n",
    "    return prefix"
   ]
  },
  {
   "cell_type": "code",
   "execution_count": 54,
   "metadata": {},
   "outputs": [
    {
     "data": {
      "text/plain": [
       "[0, 0, 0, 1, 2, 0, 0, 1, 2]"
      ]
     },
     "execution_count": 54,
     "metadata": {},
     "output_type": "execute_result"
    }
   ],
   "source": [
    "find_prefix('abcabbcab')"
   ]
  },
  {
   "cell_type": "code",
   "execution_count": 55,
   "metadata": {},
   "outputs": [
    {
     "data": {
      "text/plain": [
       "[0, 0, 1, 2, 0, 1, 2, 3, 4, 5, 6, 7, 8, 9, 3, 4, 5]"
      ]
     },
     "execution_count": 55,
     "metadata": {},
     "output_type": "execute_result"
    }
   ],
   "source": [
    "find_prefix('ababcababcabababc')"
   ]
  },
  {
   "cell_type": "markdown",
   "metadata": {},
   "source": [
    "Next, we use the pre-computed prefix/suffix length to check pattern match. Each time we compare P[posP] and T[posT]. If it is a success, we move both index up 1 and compare the next one. If it is a failure, we use the prefix/suffix length of P and move posP to the longest prefix/suffix of P[0:posP-1].\n",
    "\n",
    "The time complexity is O(n) as the while loop will be excute at most 2n times. The reasons are: \n",
    "* if it is a success, posT will increase and there is only 1 iteration for the posT. \n",
    "* if it is a failure, posP will roll-back and it took ***at most*** the number of previous successes to remain at posT. So in average, posT has at most 2 iterations to do the comparison."
   ]
  },
  {
   "cell_type": "code",
   "execution_count": 70,
   "metadata": {},
   "outputs": [],
   "source": [
    "def KMP_match(P,T):\n",
    "    prefix = find_prefix(P)\n",
    "    \n",
    "    if P=='' or T=='':\n",
    "        return -1\n",
    "    posT = 0\n",
    "    posP = 0\n",
    "    while True:\n",
    "        if P[posP] == T[posT]:   # Current positions match\n",
    "            posP += 1\n",
    "            posT += 1\n",
    "            if posP == len(P):\n",
    "                return posT-posP\n",
    "        else:                    # Current positions don't match\n",
    "            if posP == 0:        \n",
    "                posT += 1\n",
    "            else:\n",
    "                posP = prefix[posP-1]\n",
    "        if posT>=len(T):\n",
    "            break\n",
    "    return -1"
   ]
  },
  {
   "cell_type": "code",
   "execution_count": 57,
   "metadata": {},
   "outputs": [
    {
     "data": {
      "text/plain": [
       "2"
      ]
     },
     "execution_count": 57,
     "metadata": {},
     "output_type": "execute_result"
    }
   ],
   "source": [
    "KMP_match('is','this is an example')"
   ]
  },
  {
   "cell_type": "code",
   "execution_count": 58,
   "metadata": {},
   "outputs": [
    {
     "data": {
      "text/plain": [
       "19"
      ]
     },
     "execution_count": 58,
     "metadata": {},
     "output_type": "execute_result"
    }
   ],
   "source": [
    "KMP_match('t','This is an example to show it.')"
   ]
  },
  {
   "cell_type": "code",
   "execution_count": 68,
   "metadata": {},
   "outputs": [
    {
     "data": {
      "text/plain": [
       "20"
      ]
     },
     "execution_count": 68,
     "metadata": {},
     "output_type": "execute_result"
    }
   ],
   "source": [
    "T = 'abababababababababababababc'\n",
    "P = 'abababc'\n",
    "KMP_match(P,T)"
   ]
  },
  {
   "cell_type": "code",
   "execution_count": 69,
   "metadata": {},
   "outputs": [
    {
     "data": {
      "text/plain": [
       "[0, 0, 1, 2, 3, 4, 0]"
      ]
     },
     "execution_count": 69,
     "metadata": {},
     "output_type": "execute_result"
    }
   ],
   "source": [
    "find_prefix(P)"
   ]
  },
  {
   "cell_type": "code",
   "execution_count": 67,
   "metadata": {},
   "outputs": [
    {
     "data": {
      "text/plain": [
       "-1"
      ]
     },
     "execution_count": 67,
     "metadata": {},
     "output_type": "execute_result"
    }
   ],
   "source": [
    "KMP_match(\"bba\",\"aaaaa\")"
   ]
  },
  {
   "cell_type": "markdown",
   "metadata": {},
   "source": [
    "# Boyer-Moore algorithm"
   ]
  },
  {
   "cell_type": "code",
   "execution_count": null,
   "metadata": {},
   "outputs": [],
   "source": []
  },
  {
   "cell_type": "code",
   "execution_count": null,
   "metadata": {},
   "outputs": [],
   "source": []
  },
  {
   "cell_type": "code",
   "execution_count": null,
   "metadata": {},
   "outputs": [],
   "source": []
  }
 ],
 "metadata": {
  "kernelspec": {
   "display_name": "Python 3",
   "language": "python",
   "name": "python3"
  },
  "language_info": {
   "codemirror_mode": {
    "name": "ipython",
    "version": 3
   },
   "file_extension": ".py",
   "mimetype": "text/x-python",
   "name": "python",
   "nbconvert_exporter": "python",
   "pygments_lexer": "ipython3",
   "version": "3.8.5"
  }
 },
 "nbformat": 4,
 "nbformat_minor": 4
}
