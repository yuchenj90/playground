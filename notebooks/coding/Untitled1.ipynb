{
 "cells": [
  {
   "cell_type": "markdown",
   "metadata": {},
   "source": [
    "## Maximum Average Subarray.\n",
    "Given an array consisting of n integers, find the contiguous subarray whose length is greater than or equal to k that has the maximum average value. And you need to output the maximum average value.\n",
    "\n",
    "Note:\n",
    "\n",
    "1 <= k <= n <= 10,000.\n",
    "Elements of the given array will be in range [-10,000, 10,000].\n",
    "The answer with the calculation error less than 10-5 will be accepted.\n",
    " "
   ]
  },
  {
   "cell_type": "code",
   "execution_count": 14,
   "metadata": {},
   "outputs": [],
   "source": [
    "def maxAveSubarray(arr, k):\n",
    "    def checkPositive(arr, k):\n",
    "        '''\n",
    "            check if there are subarray of size >=k with positive sum\n",
    "        '''\n",
    "        n = len(arr)\n",
    "        prefix_sum = [0]\n",
    "        for i in range(n):\n",
    "            prefix_sum.append(prefix_sum[-1]+arr[i])\n",
    "        prefix_min = [0] # computes min of prefix sum for index <i\n",
    "        for i in range(1,n+1):\n",
    "            prefix_min.append(min(prefix_min[-1], prefix_sum[i]))\n",
    "        runningmax = prefix_sum[n]\n",
    "        for i in range(n,k-1,-1):\n",
    "            runningmax = max(runningmax, prefix_sum[i])\n",
    "            if runningmax > prefix_min[i-k]:\n",
    "                return True\n",
    "        return False\n",
    "    \n",
    "    right = max(arr)\n",
    "    left = min(arr)\n",
    "    while ((right-left)>1e-6):\n",
    "        mid = (right-left)/2.0 + left\n",
    "        temp = []\n",
    "        for i in range(len(arr)):\n",
    "            temp.append(arr[i]-mid)\n",
    "        if checkPositive(temp, k):\n",
    "            left = mid\n",
    "        else:\n",
    "            right = mid\n",
    "    return round(mid*1e5)*1.0/1e5"
   ]
  },
  {
   "cell_type": "code",
   "execution_count": 15,
   "metadata": {},
   "outputs": [
    {
     "data": {
      "text/plain": [
       "6.5"
      ]
     },
     "execution_count": 15,
     "metadata": {},
     "output_type": "execute_result"
    }
   ],
   "source": [
    "maxAveSubarray([1,12], 2)"
   ]
  },
  {
   "cell_type": "code",
   "execution_count": 42,
   "metadata": {},
   "outputs": [],
   "source": [
    "l=[1,2]"
   ]
  },
  {
   "cell_type": "code",
   "execution_count": 43,
   "metadata": {},
   "outputs": [],
   "source": [
    "l2=l"
   ]
  },
  {
   "cell_type": "code",
   "execution_count": 44,
   "metadata": {},
   "outputs": [],
   "source": [
    "del l[-1]"
   ]
  },
  {
   "cell_type": "code",
   "execution_count": 45,
   "metadata": {},
   "outputs": [
    {
     "data": {
      "text/plain": [
       "[1]"
      ]
     },
     "execution_count": 45,
     "metadata": {},
     "output_type": "execute_result"
    }
   ],
   "source": [
    "l2"
   ]
  },
  {
   "cell_type": "code",
   "execution_count": 41,
   "metadata": {},
   "outputs": [
    {
     "data": {
      "text/plain": [
       "[1]"
      ]
     },
     "execution_count": 41,
     "metadata": {},
     "output_type": "execute_result"
    }
   ],
   "source": [
    "l"
   ]
  },
  {
   "cell_type": "code",
   "execution_count": null,
   "metadata": {},
   "outputs": [],
   "source": []
  }
 ],
 "metadata": {
  "kernelspec": {
   "display_name": "Python 3",
   "language": "python",
   "name": "python3"
  },
  "language_info": {
   "codemirror_mode": {
    "name": "ipython",
    "version": 3
   },
   "file_extension": ".py",
   "mimetype": "text/x-python",
   "name": "python",
   "nbconvert_exporter": "python",
   "pygments_lexer": "ipython3",
   "version": "3.8.6"
  }
 },
 "nbformat": 4,
 "nbformat_minor": 4
}
