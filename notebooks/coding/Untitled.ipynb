{
 "cells": [
  {
   "cell_type": "markdown",
   "metadata": {},
   "source": [
    "# check if a graph G = (V,E) is bipartite"
   ]
  },
  {
   "cell_type": "code",
   "execution_count": 25,
   "metadata": {},
   "outputs": [],
   "source": [
    "n = 11\n",
    "edges = [(1,2),(2,3),(3,4),(4,5),(5,6),(9,10),(4,1),(3,6),(9,11),(7,3),(1,7),(10,11)]"
   ]
  },
  {
   "cell_type": "markdown",
   "metadata": {},
   "source": [
    "def is_Bipartite(n,edges):\n",
    "    visited = {}\n",
    "    edges_dict = {i:[] for i in range(1,n+1)}\n",
    "    for e in edges:\n",
    "        edges_dict[e[0]].append(e[1])\n",
    "        edges_dict[e[1]].append(e[0])\n",
    "    print(edges_dict)\n",
    "    \n",
    "    while len(visited)<n:\n",
    "        # Find node i that have not been visited yet\n",
    "        for i in range(1,n+1):\n",
    "            if i not in visited:\n",
    "                q = [i]\n",
    "                visited[i] = 1\n",
    "                break\n",
    "                \n",
    "        # Starting from node i to traverse and color the graph via BFS\n",
    "        pos = 0\n",
    "        while (pos < len(q)):\n",
    "            node = q[pos]\n",
    "            for j in edges_dict[node]:\n",
    "                if j in visited and visited[j]==visited[node]:\n",
    "                    return False\n",
    "                elif j not in visited:\n",
    "                    visited[j] = 1-visited[node]\n",
    "                    q.append(j)\n",
    "            pos += 1\n",
    "        print(visited)\n",
    "    return True"
   ]
  },
  {
   "cell_type": "code",
   "execution_count": 27,
   "metadata": {},
   "outputs": [
    {
     "name": "stdout",
     "output_type": "stream",
     "text": [
      "{1: [2, 4, 7], 2: [1, 3], 3: [2, 4, 6, 7], 4: [3, 5, 1], 5: [4, 6], 6: [5, 3], 7: [3, 1], 8: [], 9: [10, 11], 10: [9, 11], 11: [9, 10]}\n",
      "{1: 1, 2: 0, 4: 0, 7: 0, 3: 1, 5: 1, 6: 0}\n",
      "{1: 1, 2: 0, 4: 0, 7: 0, 3: 1, 5: 1, 6: 0, 8: 1}\n"
     ]
    },
    {
     "data": {
      "text/plain": [
       "False"
      ]
     },
     "execution_count": 27,
     "metadata": {},
     "output_type": "execute_result"
    }
   ],
   "source": [
    "is_Bipartite(n,edges)"
   ]
  },
  {
   "cell_type": "code",
   "execution_count": 28,
   "metadata": {},
   "outputs": [],
   "source": [
    "def is_Bipartite(n,edges):\n",
    "    visited = {}\n",
    "    edges_dict = {i:[] for i in range(1,n+1)}\n",
    "    for e in edges:\n",
    "        edges_dict[e[0]].append(e[1])\n",
    "        edges_dict[e[1]].append(e[0])\n",
    "    print(edges_dict)\n",
    "    \n",
    "    while len(visited)<n:\n",
    "        # Find node i that have not been visited yet\n",
    "        for i in range(1,n+1):\n",
    "            if i not in visited:\n",
    "                stack = [i]   \n",
    "                visited[i] = 1\n",
    "                break\n",
    "                \n",
    "        # Starting from node i to traverse and color the graph via DFS\n",
    "        while (len(stack)>0):\n",
    "            node = stack.pop()\n",
    "            for j in edges_dict[node]:\n",
    "                if j in visited and visited[j]==visited[node]:\n",
    "                    return False\n",
    "                elif j not in visited:\n",
    "                    visited[j] = 1-visited[node]\n",
    "                    stack.append(j)\n",
    "        print(visited)\n",
    "    return True"
   ]
  },
  {
   "cell_type": "code",
   "execution_count": 29,
   "metadata": {},
   "outputs": [
    {
     "name": "stdout",
     "output_type": "stream",
     "text": [
      "{1: [2, 4, 7], 2: [1, 3], 3: [2, 4, 6, 7], 4: [3, 5, 1], 5: [4, 6], 6: [5, 3], 7: [3, 1], 8: [], 9: [10, 11], 10: [9, 11], 11: [9, 10]}\n",
      "{1: 1, 2: 0, 4: 0, 7: 0, 3: 1, 6: 0, 5: 1}\n",
      "{1: 1, 2: 0, 4: 0, 7: 0, 3: 1, 6: 0, 5: 1, 8: 1}\n"
     ]
    },
    {
     "data": {
      "text/plain": [
       "False"
      ]
     },
     "execution_count": 29,
     "metadata": {},
     "output_type": "execute_result"
    }
   ],
   "source": [
    "is_Bipartite(n,edges)"
   ]
  },
  {
   "cell_type": "code",
   "execution_count": null,
   "metadata": {},
   "outputs": [],
   "source": []
  },
  {
   "cell_type": "markdown",
   "metadata": {},
   "source": [
    "# Given graph G=(V,E), find shortest path from source node to each other nodes"
   ]
  },
  {
   "cell_type": "code",
   "execution_count": 33,
   "metadata": {},
   "outputs": [],
   "source": [
    "n = 8\n",
    "edges = {(1,2):4,(2,3):6,(3,4):1,(4,5):8,(5,6):9,(5,2):3,(4,7):4,(3,6):3,(8,2):1,(1,7):9,(2,6):8}"
   ]
  },
  {
   "cell_type": "code",
   "execution_count": 36,
   "metadata": {},
   "outputs": [],
   "source": [
    "import heapq\n",
    "import numpy as np"
   ]
  },
  {
   "cell_type": "code",
   "execution_count": 42,
   "metadata": {},
   "outputs": [],
   "source": [
    "def shortestPath(source, nodes, edges):\n",
    "    visited = {source: 0}\n",
    "    unvisited = {}\n",
    "    for i in nodes:\n",
    "        if i!=source:\n",
    "            unvisited[i] = np.inf\n",
    "    x = source\n",
    "    while len(unvisited)>0:\n",
    "        mindist = np.inf\n",
    "        minele = -1\n",
    "        for y in unvisited:\n",
    "            if (x,y) in edges:\n",
    "                unvisited[y] = min(unvisited[y], edges[(x,y)] + visited[x])\n",
    "            if (y,x) in edges:\n",
    "                unvisited[y] = min(unvisited[y], edges[(y,x)] + visited[x])\n",
    "            if unvisited[y]<mindist:\n",
    "                mindist = unvisited[y]\n",
    "                minele = y\n",
    "        if minele==-1:\n",
    "            break\n",
    "        else:\n",
    "            visited[minele] = mindist\n",
    "            del unvisited[minele]\n",
    "        x = minele\n",
    "    return visited"
   ]
  },
  {
   "cell_type": "code",
   "execution_count": 43,
   "metadata": {},
   "outputs": [
    {
     "data": {
      "text/plain": [
       "{1: 0, 2: 4, 8: 5, 5: 7, 7: 9, 3: 10, 4: 11, 6: 12}"
      ]
     },
     "execution_count": 43,
     "metadata": {},
     "output_type": "execute_result"
    }
   ],
   "source": [
    "shortestPath(1,range(1,n+1),edges)"
   ]
  },
  {
   "cell_type": "code",
   "execution_count": null,
   "metadata": {},
   "outputs": [],
   "source": []
  }
 ],
 "metadata": {
  "kernelspec": {
   "display_name": "Python 3",
   "language": "python",
   "name": "python3"
  },
  "language_info": {
   "codemirror_mode": {
    "name": "ipython",
    "version": 3
   },
   "file_extension": ".py",
   "mimetype": "text/x-python",
   "name": "python",
   "nbconvert_exporter": "python",
   "pygments_lexer": "ipython3",
   "version": "3.8.6"
  }
 },
 "nbformat": 4,
 "nbformat_minor": 4
}
