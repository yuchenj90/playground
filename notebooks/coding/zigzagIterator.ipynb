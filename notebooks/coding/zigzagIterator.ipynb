{
 "cells": [
  {
   "cell_type": "markdown",
   "id": "f7513bd1-cb50-493c-bab7-4e71973a5c8c",
   "metadata": {},
   "source": [
    "Given $k$ lists, implement an iterator to return their elements alternately.\n",
    "\n",
    "Example Input:\n",
    "k = 3, \n",
    "l = [[1,2,3], [4,5,6,7], [8,9]]\n",
    "\n",
    "Example Output:\n",
    "[1,4,8,2,5,9,3,6,7]\n"
   ]
  },
  {
   "cell_type": "markdown",
   "id": "a827bb13-b143-4b4b-b04e-c52610fac3cf",
   "metadata": {},
   "source": [
    "Idea: Store a queue"
   ]
  },
  {
   "cell_type": "code",
   "execution_count": 2,
   "id": "be1b187e-4934-4b1a-b166-54c1dd088169",
   "metadata": {
    "tags": []
   },
   "outputs": [],
   "source": [
    "from queue import Queue\n",
    "        \n",
    "class ZigzagIterator:\n",
    "    def __init__(self, l):\n",
    "        self.lists = l\n",
    "        self.queue = Queue()\n",
    "        for i in range(len(l)):\n",
    "            if len(l[i]) > 0:\n",
    "                self.queue.put((0,len(l[i]),i))\n",
    "        \n",
    "    def next(self) -> int:\n",
    "        if self.queue.qsize() == 0:\n",
    "            raise Exception(\"Reached the end of the iterator\")\n",
    "        x = self.queue.get()\n",
    "        if x[0]+1 < x[1]:\n",
    "            self.queue.put((x[0]+1, x[1], x[2]))\n",
    "        return self.lists[x[2]][x[0]]\n",
    "        \n",
    "    def hasNext(self) -> bool:\n",
    "        if self.queue.qsize() == 0:\n",
    "            return False\n",
    "        return True"
   ]
  },
  {
   "cell_type": "code",
   "execution_count": 3,
   "id": "030ef22e-35fb-42ff-81ab-e59782ad55be",
   "metadata": {
    "tags": []
   },
   "outputs": [
    {
     "name": "stdout",
     "output_type": "stream",
     "text": [
      "1\n",
      "2\n",
      "3\n",
      "5\n",
      "9\n",
      "10\n",
      "4\n",
      "6\n",
      "11\n",
      "7\n",
      "12\n",
      "8\n"
     ]
    }
   ],
   "source": [
    "z = ZigzagIterator([[1],[2],[3,4],[5,6,7,8],[9],[10,11,12]])\n",
    "while z.hasNext():\n",
    "    print(z.next())"
   ]
  },
  {
   "cell_type": "code",
   "execution_count": 9,
   "id": "69c91251-bfb0-43a4-95a3-f5fc712e3270",
   "metadata": {
    "tags": []
   },
   "outputs": [],
   "source": [
    "def test_zigzag():\n",
    "    z = ZigzagIterator([[1,2,3], [4,5,6,7], [8,9]])\n",
    "    ans = []\n",
    "    while z.hasNext():\n",
    "        ans.append(z.next())\n",
    "    assert ans == [1,4,8,2,5,9,3,6,7]"
   ]
  },
  {
   "cell_type": "code",
   "execution_count": 10,
   "id": "f3528013-059b-4f7d-b5d9-7b4f70a78498",
   "metadata": {
    "tags": []
   },
   "outputs": [],
   "source": [
    "test_zigzag()"
   ]
  },
  {
   "cell_type": "code",
   "execution_count": null,
   "id": "8a4300a6-22b0-4458-81ba-c17ee0455632",
   "metadata": {},
   "outputs": [],
   "source": [
    "class BSTIterator:\n",
    "\n",
    "    def __init__(self, root: Optional[TreeNode]):\n",
    "        self.root = root\n",
    "        self.unvisited_node = []\n",
    "        node = self.root\n",
    "        while node is not None:\n",
    "            self.unvisited_node.append(node)\n",
    "            node = node.left\n",
    "\n",
    "    def next(self) -> int:\n",
    "        x = self.unvisited_node.pop()\n",
    "        y = x.right\n",
    "        while y is not None:\n",
    "            self.unvisited_node.append(y)\n",
    "            y = y.left\n",
    "        return x.val\n",
    "        \n",
    "    def hasNext(self) -> bool:\n",
    "        return len(self.unvisited_node) > 0\n",
    "\n"
   ]
  },
  {
   "cell_type": "code",
   "execution_count": null,
   "id": "9c627edb-3bfc-46d5-b78f-1719304942c4",
   "metadata": {},
   "outputs": [],
   "source": []
  },
  {
   "cell_type": "code",
   "execution_count": null,
   "id": "6bb3a4ab-e67f-4ab5-9281-635da87740f0",
   "metadata": {},
   "outputs": [],
   "source": []
  },
  {
   "cell_type": "code",
   "execution_count": null,
   "id": "72f9376a-b3e4-4c46-95c5-f7648be8bf40",
   "metadata": {},
   "outputs": [],
   "source": []
  }
 ],
 "metadata": {
  "kernelspec": {
   "display_name": "Python 3 (ipykernel)",
   "language": "python",
   "name": "python3"
  },
  "language_info": {
   "codemirror_mode": {
    "name": "ipython",
    "version": 3
   },
   "file_extension": ".py",
   "mimetype": "text/x-python",
   "name": "python",
   "nbconvert_exporter": "python",
   "pygments_lexer": "ipython3",
   "version": "3.8.12"
  }
 },
 "nbformat": 4,
 "nbformat_minor": 5
}
