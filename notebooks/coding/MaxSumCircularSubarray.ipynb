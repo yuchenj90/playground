{
 "cells": [
  {
   "cell_type": "markdown",
   "metadata": {},
   "source": [
    "# Leetcode 918: Maximum Sum Circular Subarray"
   ]
  },
  {
   "cell_type": "markdown",
   "metadata": {},
   "source": [
    "Given a circular array C of integers represented by A, find the maximum possible sum of a non-empty subarray of C. Here, a circular array means the end of the array connects to the beginning of the array. Also, a subarray may only include each element of the fixed buffer A at most once."
   ]
  },
  {
   "cell_type": "markdown",
   "metadata": {},
   "source": [
    "**Solution:**\n",
    "* For given array A with length n, we use cumsum\\[i\\] to record the prefix sum of array A\\[0,i), i=0, 1, ..., n. \n",
    "* There are two types of subarray candidates: \n",
    "   * Non-circular, i.e., A[i] + A[i+1] + ... + A[j-1] = cumsum[j] - cumsum[i]. This can be achieved by keeping a cumsum_min[j] recording minimum prefix sums before (including) position j. Then we can loop over j=1, 2, ..., n to search for the maximum cumsum[j] - cumsum_min[j-1] for all non-empty candidates.\n",
    "   * Circular, i.e., A[0:i]+A[j:n-1]. Similarly, we keep track of cumsum_max[j] for maximum prefix sums before (including) position j. We loop over j=1, 2, ..., n to search for the maximum cumsum_max[j-1]+A[j-1:n-1] = cumsum_max[j-1] + total - cumsum[j-1] for all non-empty candidates."
   ]
  },
  {
   "cell_type": "code",
   "execution_count": 5,
   "metadata": {},
   "outputs": [],
   "source": [
    "def maxSubarraySumCircular(A):\n",
    "    \"\"\"\n",
    "    :type A: List[int]\n",
    "    :rtype: int\n",
    "    \"\"\"\n",
    "\n",
    "    if len(A)==0:\n",
    "        return 0\n",
    "\n",
    "\n",
    "    cumsum_min = 0\n",
    "    cumsum_max = 0\n",
    "\n",
    "    cumsum = [0 for _ in range(len(A)+1)]\n",
    "    cumsum_min = [0]\n",
    "    cumsum_max = [0]\n",
    "\n",
    "    for i in range(len(A)):\n",
    "        cumsum[i+1] = cumsum[i] + A[i]\n",
    "        cumsum_min.append(min(cumsum_min[-1],cumsum[i+1]))\n",
    "        cumsum_max.append(max(cumsum_max[-1],cumsum[i+1]))\n",
    "\n",
    "    res = float(\"-inf\")\n",
    "    total = cumsum[-1]\n",
    "\n",
    "    pos = len(A)\n",
    "    while pos>=1:\n",
    "        res = max(res, cumsum[pos] - cumsum_min[pos-1])\n",
    "        res = max(res, cumsum_max[pos-1] + total - cumsum[pos-1])\n",
    "\n",
    "        pos -= 1\n",
    "    return res\n"
   ]
  },
  {
   "cell_type": "code",
   "execution_count": 6,
   "metadata": {},
   "outputs": [
    {
     "data": {
      "text/plain": [
       "-1"
      ]
     },
     "execution_count": 6,
     "metadata": {},
     "output_type": "execute_result"
    }
   ],
   "source": [
    "maxSubarraySumCircular([-2,-5,-6,-1,-7])"
   ]
  },
  {
   "cell_type": "code",
   "execution_count": 7,
   "metadata": {},
   "outputs": [
    {
     "data": {
      "text/plain": [
       "10"
      ]
     },
     "execution_count": 7,
     "metadata": {},
     "output_type": "execute_result"
    }
   ],
   "source": [
    "maxSubarraySumCircular([5,-3,5])"
   ]
  },
  {
   "cell_type": "code",
   "execution_count": null,
   "metadata": {},
   "outputs": [],
   "source": []
  },
  {
   "cell_type": "code",
   "execution_count": null,
   "metadata": {},
   "outputs": [],
   "source": []
  },
  {
   "cell_type": "code",
   "execution_count": null,
   "metadata": {},
   "outputs": [],
   "source": []
  }
 ],
 "metadata": {
  "kernelspec": {
   "display_name": "Python 3",
   "language": "python",
   "name": "python3"
  },
  "language_info": {
   "codemirror_mode": {
    "name": "ipython",
    "version": 3
   },
   "file_extension": ".py",
   "mimetype": "text/x-python",
   "name": "python",
   "nbconvert_exporter": "python",
   "pygments_lexer": "ipython3",
   "version": "3.7.7"
  }
 },
 "nbformat": 4,
 "nbformat_minor": 4
}
