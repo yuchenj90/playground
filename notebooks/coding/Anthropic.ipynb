{
 "cells": [
  {
   "cell_type": "markdown",
   "id": "2c9bc85e-82e8-4bf5-9dfc-cbb5df97993e",
   "metadata": {},
   "source": [
    "<div>\n",
    "<img src=\"png/anthropic.png\" style=\"width: 1200px;\"/>\n",
    "</div>"
   ]
  },
  {
   "cell_type": "code",
   "execution_count": 39,
   "id": "f0c98463-e7ab-47d6-bd19-65134c718a88",
   "metadata": {
    "tags": []
   },
   "outputs": [],
   "source": [
    "def solutions(queries):\n",
    "    def AddFile(filename: str, size: int):\n",
    "        if filename not in file:\n",
    "            file[filename] = size\n",
    "            return \"true\"\n",
    "        else:\n",
    "            return \"false\"\n",
    "\n",
    "    def CopyFile(from_filename: str, to_filename: str):\n",
    "        if from_filename in file and to_filename not in file:\n",
    "            file[to_filename] = file[from_filename] \n",
    "            return \"true\"\n",
    "        else:\n",
    "            return \"false\"\n",
    "        \n",
    "    def GetFileSize(filename: str):\n",
    "        if filename in file:\n",
    "            return str(file[filename])\n",
    "        else:\n",
    "            return \"\"\n",
    "        \n",
    "    def FindFile(prefix: str, suffix: str):\n",
    "        res = []\n",
    "        for f in file.keys():\n",
    "            if f.startswith(prefix) and f.endswith(suffix):\n",
    "                res.append((-file[f], f+f'({file[f]})'))\n",
    "        if len(res) > 0:\n",
    "            return ', '.join([x[1] for x in sorted(res)])\n",
    "        return \"\"\n",
    "        \n",
    "    file = {}\n",
    "    output = []\n",
    "    for q in queries:\n",
    "        if q[0] == 'ADD_FILE':\n",
    "            output.append(AddFile(q[1], int(q[2])))\n",
    "        elif q[0] == 'COPY_FILE':\n",
    "            output.append(CopyFile(q[1], q[2]))\n",
    "        elif q[0] == 'GET_FILE_SIZE':\n",
    "            output.append(GetFileSize(q[1]))\n",
    "        elif q[0] == 'FIND_FILE':\n",
    "            output.append(FindFile(q[1], q[2]))\n",
    "    return output"
   ]
  },
  {
   "cell_type": "code",
   "execution_count": 40,
   "id": "f4cef656-c5ad-4090-ae7e-4bb87a4e46a8",
   "metadata": {
    "tags": []
   },
   "outputs": [
    {
     "data": {
      "text/plain": [
       "['true', 'false', 'true', 'false', 'false', '10', '']"
      ]
     },
     "execution_count": 40,
     "metadata": {},
     "output_type": "execute_result"
    }
   ],
   "source": [
    "queries = [\n",
    "    [\"ADD_FILE\", \"/dir1/dir2/file.txt\", \"10\"],\n",
    "    [\"COPY_FILE\", \"/non-existing.file\", \"/dir1/file.txt\"],\n",
    "    [\"COPY_FILE\", \"/dir1/dir2/file.txt\", \"/dir1/file.txt\"],\n",
    "    [\"ADD_FILE\", \"/dir1/file.txt\", \"15\"],\n",
    "    [\"COPY_FILE\", \"/dir1/file.txt\", \"/dir1/dir2/file.txt\"],\n",
    "    [\"GET_FILE_SIZE\", \"/dir1/file.txt\"],\n",
    "    [\"GET_FILE_SIZE\", \"/non-existing.file\"]\n",
    "]\n",
    "solutions(queries)"
   ]
  },
  {
   "cell_type": "code",
   "execution_count": 41,
   "id": "ee09706d-16ef-4014-a7a8-542deefc71c6",
   "metadata": {
    "tags": []
   },
   "outputs": [
    {
     "data": {
      "text/plain": [
       "['true',\n",
       " 'true',\n",
       " 'true',\n",
       " 'false',\n",
       " 'true',\n",
       " '/root/dir/another_dir/file.mp3(10), /root/dir/file.mp3(7), /root/music/file.mp3(7), /root/file.mp3(5)',\n",
       " '',\n",
       " '']"
      ]
     },
     "execution_count": 41,
     "metadata": {},
     "output_type": "execute_result"
    }
   ],
   "source": [
    "queries = [\n",
    "    [\"ADD_FILE\", \"/root/dir/another_dir/file.mp3\", \"10\"],\n",
    "    [\"ADD_FILE\", \"/root/file.mp3\", \"5\"],\n",
    "    [\"ADD_FILE\", \"/root/music/file.mp3\", \"7\"],\n",
    "    [\"COPY_FILE\", \"/root/music/file.mp3\", \"/root/file.mp3\"],\n",
    "    [\"COPY_FILE\", \"/root/music/file.mp3\", \"/root/dir/file.mp3\"],\n",
    "    [\"FIND_FILE\", \"/root\", \".mp3\"],    \n",
    "    [\"FIND_FILE\", \"/root\", \"file.txt\"],\n",
    "    [\"FIND_FILE\", \"/dir\", \"file.mp3\"]\n",
    "]\n",
    "solutions(queries)"
   ]
  },
  {
   "cell_type": "markdown",
   "id": "bdb77855-006a-472b-bb7a-a8ce7194847f",
   "metadata": {},
   "source": [
    "<div>\n",
    "<img src=\"png/anthropic2.png\" style=\"width: 800px;\"/>\n",
    "</div>"
   ]
  },
  {
   "cell_type": "code",
   "execution_count": 77,
   "id": "b30a3736-508b-4928-921d-98fa451d045b",
   "metadata": {},
   "outputs": [],
   "source": [
    "def solutions(queries):\n",
    "    def AddFile(filename: str, size: int, username: str='admin') -> str:\n",
    "        if filename not in file:\n",
    "            file[filename] = {'size': size, 'user': username}\n",
    "            if username!='admin':\n",
    "                user[username]['capacity_remain'] -= size\n",
    "                user[username]['file'].append((filename, size))\n",
    "                return str(user[username]['capacity_remain'])\n",
    "            return \"true\"\n",
    "        else:\n",
    "            return \"false\"\n",
    "\n",
    "    def CopyFile(from_filename: str, to_filename: str) -> str:\n",
    "        if from_filename in file and to_filename not in file:\n",
    "            username = file[from_filename]['user']\n",
    "            size = file[from_filename]['size']\n",
    "            if username=='admin' or user[username]['capacity_remain'] >= size:\n",
    "                file[to_filename] = file[from_filename].copy()\n",
    "                if username!='admin':\n",
    "                    user[username]['capacity_remain'] -= size\n",
    "                return \"true\"\n",
    "            return \"false\"\n",
    "        return \"false\"\n",
    "        \n",
    "    def GetFileSize(filename: str) -> str:\n",
    "        if filename in file:\n",
    "            return str(file[filename]['size'])\n",
    "        else:\n",
    "            return \"\"\n",
    "        \n",
    "    def FindFile(prefix: str, suffix: str) -> str:\n",
    "        res = []\n",
    "        for f in file.keys():\n",
    "            if f.startswith(prefix) and f.endswith(suffix):\n",
    "                res.append((-file[f]['size'], f+f\"({file[f]['size']})\"))\n",
    "        if len(res) > 0:\n",
    "            return ', '.join([x[1] for x in sorted(res)])\n",
    "        return \"\"\n",
    "    \n",
    "    def AddUser(username: str, capacity: int) -> str:\n",
    "        if username not in user:\n",
    "            user[username] = {'capacity': capacity, 'capacity_remain': capacity, 'file': []} \n",
    "            return \"true\"\n",
    "        return \"false\"\n",
    "        \n",
    "    def AddFileBy(username: str, filename: str, size: int) -> str: \n",
    "        if username not in user:\n",
    "            return \"\"\n",
    "        if user[username]['capacity_remain'] < size:\n",
    "            return \"\"\n",
    "        res = AddFile(filename, size, username)\n",
    "        if res=='false':\n",
    "            return \"\"\n",
    "        return res\n",
    "    \n",
    "    def UpdateCapacity(username: str, capacity: int) -> str:\n",
    "        if username not in user:\n",
    "            return \"\"\n",
    "        delta = capacity - user[username]['capacity']\n",
    "        user[username]['capacity'] = capacity\n",
    "        user[username]['capacity_remain'] += delta\n",
    "        count = 0\n",
    "        if user[username]['capacity_remain'] < 0:\n",
    "            user[username]['file'] = sorted(user[username]['file'], key=lambda x: (-x[1], x[0]))[::-1]\n",
    "            while user[username]['capacity_remain'] < 0 and len(user[username]['file']) > 0:\n",
    "                count += 1\n",
    "                x = user[username]['file'][-1]\n",
    "                user[username]['capacity_remain'] += x[1]\n",
    "                del file[x[0]]\n",
    "                user[username]['file'].pop()\n",
    "        return str(count)\n",
    "            \n",
    "        \n",
    "    file = {}\n",
    "    user = {}\n",
    "    output = []\n",
    "    for q in queries:\n",
    "        if q[0] == 'ADD_FILE':\n",
    "            output.append(AddFile(q[1], int(q[2])))\n",
    "        elif q[0] == 'COPY_FILE':\n",
    "            output.append(CopyFile(q[1], q[2]))\n",
    "        elif q[0] == 'GET_FILE_SIZE':\n",
    "            output.append(GetFileSize(q[1]))\n",
    "        elif q[0] == 'FIND_FILE':\n",
    "            output.append(FindFile(q[1], q[2]))\n",
    "        elif q[0] == 'ADD_USER':\n",
    "            output.append(AddUser(q[1], int(q[2])))\n",
    "        elif q[0] == 'ADD_FILE_BY':\n",
    "            output.append(AddFileBy(q[1], q[2], int(q[3])))\n",
    "        elif q[0] == 'UPDATE_CAPACITY':\n",
    "            output.append(UpdateCapacity(q[1], int(q[2])))\n",
    "    return output\n",
    "\n"
   ]
  },
  {
   "cell_type": "code",
   "execution_count": 78,
   "id": "c4162a29-ac35-4463-9886-0a15d58300ad",
   "metadata": {
    "tags": []
   },
   "outputs": [
    {
     "data": {
      "text/plain": [
       "['true', 'false', 'true', 'false', 'false', '10', '']"
      ]
     },
     "execution_count": 78,
     "metadata": {},
     "output_type": "execute_result"
    }
   ],
   "source": [
    "queries = [\n",
    "    [\"ADD_FILE\", \"/dir1/dir2/file.txt\", \"10\"],\n",
    "    [\"COPY_FILE\", \"/non-existing.file\", \"/dir1/file.txt\"],\n",
    "    [\"COPY_FILE\", \"/dir1/dir2/file.txt\", \"/dir1/file.txt\"],\n",
    "    [\"ADD_FILE\", \"/dir1/file.txt\", \"15\"],\n",
    "    [\"COPY_FILE\", \"/dir1/file.txt\", \"/dir1/dir2/file.txt\"],\n",
    "    [\"GET_FILE_SIZE\", \"/dir1/file.txt\"],\n",
    "    [\"GET_FILE_SIZE\", \"/non-existing.file\"]\n",
    "]\n",
    "solutions(queries)"
   ]
  },
  {
   "cell_type": "code",
   "execution_count": 79,
   "id": "c0af003d-f06f-4aa6-9880-8c0accba4884",
   "metadata": {
    "tags": []
   },
   "outputs": [
    {
     "data": {
      "text/plain": [
       "['true',\n",
       " 'true',\n",
       " 'true',\n",
       " 'false',\n",
       " 'true',\n",
       " '/root/dir/another_dir/file.mp3(10), /root/dir/file.mp3(7), /root/music/file.mp3(7), /root/file.mp3(5)',\n",
       " '',\n",
       " '']"
      ]
     },
     "execution_count": 79,
     "metadata": {},
     "output_type": "execute_result"
    }
   ],
   "source": [
    "queries = [\n",
    "    [\"ADD_FILE\", \"/root/dir/another_dir/file.mp3\", \"10\"],\n",
    "    [\"ADD_FILE\", \"/root/file.mp3\", \"5\"],\n",
    "    [\"ADD_FILE\", \"/root/music/file.mp3\", \"7\"],\n",
    "    [\"COPY_FILE\", \"/root/music/file.mp3\", \"/root/file.mp3\"],\n",
    "    [\"COPY_FILE\", \"/root/music/file.mp3\", \"/root/dir/file.mp3\"],\n",
    "    [\"FIND_FILE\", \"/root\", \".mp3\"],    \n",
    "    [\"FIND_FILE\", \"/root\", \"file.txt\"],\n",
    "    [\"FIND_FILE\", \"/dir\", \"file.mp3\"]\n",
    "]\n",
    "solutions(queries)"
   ]
  },
  {
   "cell_type": "code",
   "execution_count": 81,
   "id": "8c31e156-a825-4a20-a7e7-bd2d0be484a0",
   "metadata": {
    "tags": []
   },
   "outputs": [
    {
     "data": {
      "text/plain": [
       "['true',\n",
       " 'false',\n",
       " 'true',\n",
       " '75',\n",
       " '45',\n",
       " '',\n",
       " 'true',\n",
       " 'false',\n",
       " '5',\n",
       " 'true',\n",
       " '',\n",
       " '',\n",
       " '',\n",
       " '0',\n",
       " '2',\n",
       " '0']"
      ]
     },
     "execution_count": 81,
     "metadata": {},
     "output_type": "execute_result"
    }
   ],
   "source": [
    "queries = [\n",
    "    [\"ADD_USER\", 'user1', \"125\"],\n",
    "    [\"ADD_USER\", 'user1', \"100\"],\n",
    "    [\"ADD_USER\", 'user2', \"100\"],\n",
    "    [\"ADD_FILE_BY\", 'user1', '/dir/file.big', \"50\"],\n",
    "    [\"ADD_FILE_BY\", 'user1', '/file.med', \"30\"],\n",
    "    [\"ADD_FILE_BY\", 'user2', '/file.med', \"40\"],\n",
    "    [\"COPY_FILE\", '/file.med', '/dir/another/file.med'],\n",
    "    [\"COPY_FILE\", '/file.med', '/dir/another/another/file.med'],\n",
    "    [\"ADD_FILE_BY\", 'user1', '/dir/file.small', \"10\"],\n",
    "    [\"ADD_FILE\", '/dir/admin_file', \"200\"],\n",
    "    [\"ADD_FILE_BY\", 'user1', '/dir/file.small', \"5\"],\n",
    "    [\"ADD_FILE_BY\", 'user1', '/my_folder/file.huge', \"100\"],\n",
    "    [\"ADD_FILE_BY\", 'user3', '/my_folder/file.huge', \"100\"],\n",
    "    [\"UPDATE_CAPACITY\", 'user1', \"300\"],\n",
    "    [\"UPDATE_CAPACITY\", 'user1', \"50\"],\n",
    "    [\"UPDATE_CAPACITY\", 'user2', \"1000\"],\n",
    "]\n",
    "solutions(queries)"
   ]
  },
  {
   "cell_type": "code",
   "execution_count": 2,
   "id": "987577ba-0ff3-4790-9674-edd5759cfbc9",
   "metadata": {
    "tags": []
   },
   "outputs": [],
   "source": [
    "class Trie:\n",
    "    class Trienode:\n",
    "        def __init__(self, d):\n",
    "            self.dct = d\n",
    "            self.last = False\n",
    "\n",
    "    def __init__(self):\n",
    "        self.root = self.Trienode({})\n",
    "        \n",
    "    def insert(self, item: str) -> bool:\n",
    "        node = self.root\n",
    "        insert_mode = False\n",
    "        for x in item:\n",
    "            if (not insert_mode) and (x not in node.dct):\n",
    "                insert_mode = True\n",
    "            if insert_mode:\n",
    "                node.dct[x] = self.Trienode({})\n",
    "            node = node.dct[x]\n",
    "        node.last = True\n",
    "        return insert_mode\n",
    "\n",
    "    def find(self, item):\n",
    "        node = self.root\n",
    "        for x in item:\n",
    "            if x in node.dct:\n",
    "                node = node.dct[x]\n",
    "            else:\n",
    "                return False\n",
    "        return node.last\n",
    "\n",
    "\n",
    "    def get_shortest_prefix(self, item: str):\n",
    "        node = self.root\n",
    "        res = ''\n",
    "        for x in item:\n",
    "            if node.last:\n",
    "                return res\n",
    "            else:\n",
    "                if x in node.dct:\n",
    "                    res = res + x\n",
    "                    node = node.dct[x]\n",
    "                else:\n",
    "                    return item\n",
    "        if node.last:\n",
    "            return res\n",
    "        return item"
   ]
  },
  {
   "cell_type": "code",
   "execution_count": 3,
   "id": "ab27c857-1943-4434-b85c-56ed2aa773a1",
   "metadata": {
    "tags": []
   },
   "outputs": [],
   "source": [
    "t = Trie()\n"
   ]
  },
  {
   "cell_type": "code",
   "execution_count": 10,
   "id": "a3797d47-9d44-4fb1-830c-2c3c2c7ff202",
   "metadata": {
    "tags": []
   },
   "outputs": [
    {
     "data": {
      "text/plain": [
       "False"
      ]
     },
     "execution_count": 10,
     "metadata": {},
     "output_type": "execute_result"
    }
   ],
   "source": [
    "t.insert(\"/dir1/dir2/file.txt\")\n",
    "t.insert(\"/dir1/file.txt\")\n",
    "t.find(\"/di\")"
   ]
  },
  {
   "cell_type": "code",
   "execution_count": null,
   "id": "1bf1b9a4-d9e8-4c9d-9ac0-00f6a596d19e",
   "metadata": {},
   "outputs": [],
   "source": [
    "class CloudStorage:\n",
    "    class Trienode:\n",
    "        def __init__(self, d):\n",
    "            self.dct = d\n",
    "            self.size = None\n",
    "\n",
    "    def __init__(self):\n",
    "        self.root = self.Trienode({})    \n",
    "        \n",
    "    def add_file(self, filename, size):\n",
    "        node = self.root\n",
    "        insert_mode = False\n",
    "        for x in filename:\n",
    "            if x not in node\n",
    "        \n",
    "    def copy_file(from_filename, to_filename):\n",
    "    \n",
    "    def get_file(filename):"
   ]
  },
  {
   "cell_type": "markdown",
   "id": "b8c42b5f-fb95-48fe-b4c3-045badb526e0",
   "metadata": {},
   "source": [
    "Banking application\n",
    "1. record and hold transactions - deposits and transfers\n",
    "2. do data metrics returning topK accounts with outgoing money\n",
    "\n",
    "3. Add scheduled transactions and cancel them\n",
    "4. merge two accounts while"
   ]
  },
  {
   "cell_type": "code",
   "execution_count": null,
   "id": "7bfa2d18-8365-4ad1-9aec-8e53bf3e9fa7",
   "metadata": {},
   "outputs": [],
   "source": [
    "def solution(queries):\n",
    "    account = {}\n",
    "    for q in queries:\n",
    "        if q[0] == 'CREATE_ACCOUNT':\n",
    "            create_account(q[1], q[2])\n",
    "    \n",
    "    "
   ]
  },
  {
   "cell_type": "code",
   "execution_count": null,
   "id": "d6b9a556-1600-4249-9ddc-8ebbc7c095ca",
   "metadata": {},
   "outputs": [],
   "source": [
    "queries = [\n",
    "    [\"CREATE_ACCOUNT\", \"1\", \"ACCOUNT1\"],  # \"true\"\n",
    "    [\"CREATE_ACCOUNT\", \"2\", \"ACCOUNT1\"],  # \"false\", account with identifier ACCOUNT1 exists\n",
    "    [\"CREATE_ACCOUNT\", \"3\", \"ACCOUNT2\"],  # \"true\"\n",
    "    [\"DEPOSIT\", \"4\", \"non-existing\", \"2700\"], # \"\", account with identifier \"non-existing\" doesn't exist\n",
    "    [\"DEPOSIT\", \"5\", \"account1\",\"2700\"],  # \"2700\"\n",
    "    [\"PAY\", \"6\", \"non-existing\", \"2700\"], # \"\", account with identifier \"non-existing\" doesn't exist\n",
    "    [\"PAY\", \"7\", \"account1\", \"2701\"], # \"\", account1 only has 2700, insufficient funds\n",
    "    [\"PAY\", \"8\", \"account1\", \"200\"],  # \"2500\", funds remained in account 1\n",
    "]\n",
    "solution(queries)"
   ]
  },
  {
   "cell_type": "code",
   "execution_count": null,
   "id": "8bee2324-4266-4537-b8a7-5f5b547c7b03",
   "metadata": {},
   "outputs": [],
   "source": [
    "def solution(queries):\n",
    "    workers = {}\n",
    "    worker_times = {}\n",
    "    in_office = {}\n",
    "    promotions = {}\n",
    "    worker_time_detail = {}\n",
    "    double_paid_periods = []\n",
    "    result = []\n",
    "    def merge_double_paid_periods():\n",
    "        if not double_paid_periods:\n",
    "            return\n",
    "        double_paid_periods.sort()\n",
    "        merged_periods = [double_paid_periods[0]]\n",
    "        for start, end in double_paid_periods[1:]:\n",
    "            last_start, last_end = merged_periods[-1]\n",
    "            if start <= last_end:  # Overlapping periods\n",
    "                merged_periods[-1] = (last_start, max(last_end, end))\n",
    "            else:\n",
    "                merged_periods.append((start, end))\n",
    "        return merged_periods\n",
    "    for query in queries:\n",
    "        operation = query[0]\n",
    "        if operation == \"ADD_WORKER\":\n",
    "            workerId, position, compensation = query[1], query[2], query[3]\n",
    "            if workerId in workers:\n",
    "                result.append(\"false\")\n",
    "            else:\n",
    "                workers[workerId] = [(position, compensation, 0)]\n",
    "                worker_times[workerId] = 0\n",
    "                in_office[workerId] = None\n",
    "                worker_time_detail[workerId] = []\n",
    "                result.append(\"true\")\n",
    "        elif operation == \"REGISTER\":\n",
    "            workerId, timestamp = query[1], int(query[2])\n",
    "            if workerId not in workers:\n",
    "                result.append(\"invalid_request\")\n",
    "            else:\n",
    "                if in_office[workerId] is None:\n",
    "                    # Worker is entering\n",
    "                    # Apply promotion if applicable\n",
    "                    if workerId in promotions and promotions[workerId][2] <= timestamp:\n",
    "                        new_position, new_compensation = promotions[workerId][:2]\n",
    "                        workers[workerId].append(\n",
    "                            (new_position, new_compensation, 0))\n",
    "                        del promotions[workerId]\n",
    "                    in_office[workerId] = timestamp\n",
    "                else:\n",
    "                    # Worker is leaving\n",
    "                    entry_time = in_office[workerId]\n",
    "                    time_spent = timestamp - entry_time\n",
    "                    worker_times[workerId] += time_spent\n",
    "                    current_position = workers[workerId][-1]\n",
    "                    workers[workerId][-1] = (current_position[0],\n",
    "                                             current_position[1], current_position[2] + time_spent)\n",
    "                    in_office[workerId] = None\n",
    "                    worker_time_detail[workerId].append(\n",
    "                        [current_position[0], current_position[1], entry_time, timestamp])\n",
    "                result.append(\"registered\")\n",
    "        elif operation == \"GET\":\n",
    "            workerId = query[1]\n",
    "            if workerId not in workers:\n",
    "                result.append(\"\")\n",
    "            else:\n",
    "                result.append(str(worker_times[workerId]))\n",
    "        elif operation == \"TOP_N_WORKERS\":\n",
    "            n, position = int(query[1]), query[2]\n",
    "            filtered_workers = []\n",
    "            for workerId, pos_list in workers.items():\n",
    "                worker_position = pos_list[-1]\n",
    "                if worker_position[0] == position:"
   ]
  },
  {
   "cell_type": "code",
   "execution_count": null,
   "id": "520d42c7-bd37-4ad8-81a1-4fefdbdd9d74",
   "metadata": {},
   "outputs": [],
   "source": []
  },
  {
   "cell_type": "code",
   "execution_count": null,
   "id": "164599a6-7d60-433b-856a-06ebab6419ba",
   "metadata": {},
   "outputs": [],
   "source": []
  },
  {
   "cell_type": "code",
   "execution_count": null,
   "id": "da5b1ebb-8dec-45d8-bb65-1951afae71b6",
   "metadata": {},
   "outputs": [],
   "source": []
  }
 ],
 "metadata": {
  "kernelspec": {
   "display_name": "Python 3 (ipykernel)",
   "language": "python",
   "name": "python3"
  },
  "language_info": {
   "codemirror_mode": {
    "name": "ipython",
    "version": 3
   },
   "file_extension": ".py",
   "mimetype": "text/x-python",
   "name": "python",
   "nbconvert_exporter": "python",
   "pygments_lexer": "ipython3",
   "version": "3.8.12"
  }
 },
 "nbformat": 4,
 "nbformat_minor": 5
}
