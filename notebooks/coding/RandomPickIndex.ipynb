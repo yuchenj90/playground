{
 "cells": [
  {
   "cell_type": "markdown",
   "id": "ac98491a-273e-4db5-879f-4aa7fbe0cac8",
   "metadata": {},
   "source": [
    "# 528. [Random Pick with Weight](https://leetcode.com/problems/random-pick-with-weight)\n",
    "\n",
    "You are given a 0-indexed array of positive integers w where w[i] describes the weight of the ith index.\n",
    "\n",
    "You need to implement the function pickIndex(), which randomly picks an index in the range [0, w.length - 1] (inclusive) and returns it. The probability of picking an index i is w[i] / sum(w).\n",
    "\n",
    "For example, if w = [1, 3], the probability of picking index 0 is 1 / (1 + 3) = 0.25 (i.e., 25%), and the probability of picking index 1 is 3 / (1 + 3) = 0.75 (i.e., 75%).\n",
    " \n",
    "```Python\n",
    "Example 1:\n",
    "\n",
    "Input\n",
    "[\"Solution\",\"pickIndex\"]\n",
    "[[[1]],[]]\n",
    "Output\n",
    "[null,0]\n",
    "\n",
    "Explanation\n",
    "Solution solution = new Solution([1]);\n",
    "solution.pickIndex(); // return 0. The only option is to return 0 since there is only one element in w.\n",
    "Example 2:\n",
    "\n",
    "Input\n",
    "[\"Solution\",\"pickIndex\",\"pickIndex\",\"pickIndex\",\"pickIndex\",\"pickIndex\"]\n",
    "[[[1,3]],[],[],[],[],[]]\n",
    "Output\n",
    "[null,1,1,1,1,0]\n",
    "\n",
    "Explanation\n",
    "Solution solution = new Solution([1, 3]);\n",
    "solution.pickIndex(); // return 1. It is returning the second element (index = 1) that has a probability of 3/4.\n",
    "solution.pickIndex(); // return 1\n",
    "solution.pickIndex(); // return 1\n",
    "solution.pickIndex(); // return 1\n",
    "solution.pickIndex(); // return 0. It is returning the first element (index = 0) that has a probability of 1/4.\n",
    "\n",
    "Since this is a randomization problem, multiple answers are allowed.\n",
    "All of the following outputs can be considered correct:\n",
    "[null,1,1,1,1,0]\n",
    "[null,1,1,1,1,1]\n",
    "[null,1,1,1,0,0]\n",
    "[null,1,1,1,0,1]\n",
    "[null,1,0,1,0,0]\n",
    "......\n",
    "and so on.\n",
    " \n",
    "\n",
    "Constraints:\n",
    "\n",
    "1 <= w.length <= 104\n",
    "1 <= w[i] <= 105\n",
    "pickIndex will be called at most 104 times.\n",
    "```"
   ]
  },
  {
   "cell_type": "code",
   "execution_count": 54,
   "id": "0b300cb4-2d4e-4a06-8aca-6cdf293b2c0f",
   "metadata": {
    "tags": []
   },
   "outputs": [],
   "source": [
    "import random\n",
    "class RandomPickIndex:\n",
    "    def __init__(self, weights):\n",
    "        assert sum([x>0 for x in weights]) == len(weights), \"Each weight must be positive!\"\n",
    "        \n",
    "        self.weights = [x/sum(weights) for x in weights]\n",
    "        self.cumsum = [0]\n",
    "        for x in self.weights:\n",
    "            self.cumsum.append(x+self.cumsum[-1])\n",
    "        \n",
    "    def pickIndex(self):\n",
    "        x = random.random()\n",
    "        l, r = 0, len(self.weights)-1\n",
    "        while l<=r:\n",
    "            m = (r-l)//2+l\n",
    "            if self.cumsum[m] < x:\n",
    "                l = m + 1\n",
    "            else:\n",
    "                r = m - 1\n",
    "        if r < 0:\n",
    "            return 0\n",
    "        else:\n",
    "            if l<len(self.weights) and self.cumsum[l] < x:\n",
    "                return l\n",
    "            else:\n",
    "                return r\n",
    "        "
   ]
  },
  {
   "cell_type": "code",
   "execution_count": 89,
   "id": "6720df75-904e-4ef3-ad8e-34980b3dcb21",
   "metadata": {
    "tags": []
   },
   "outputs": [],
   "source": [
    "s = RandomPickIndex([2, 3, 5, 7, 3, 8, 9])"
   ]
  },
  {
   "cell_type": "code",
   "execution_count": 90,
   "id": "7b5a0e8a-3216-4e03-84f8-c7ebd4708aaf",
   "metadata": {
    "tags": []
   },
   "outputs": [],
   "source": [
    "res = []\n",
    "for _ in range(10000):\n",
    "    res.append(s.pickIndex())"
   ]
  },
  {
   "cell_type": "code",
   "execution_count": 91,
   "id": "cb0c8491-f1cc-48b3-85f7-25cdbbcfaa7c",
   "metadata": {
    "tags": []
   },
   "outputs": [],
   "source": [
    "from collections import Counter\n",
    "d = dict(Counter(res))\n",
    "for k, v in d.items():\n",
    "    d[k] = v/len(res)"
   ]
  },
  {
   "cell_type": "code",
   "execution_count": 92,
   "id": "14acafae-fb67-4e7d-a1cb-6bf6cf1779d3",
   "metadata": {
    "tags": []
   },
   "outputs": [
    {
     "data": {
      "text/plain": [
       "[0.055, 0.0807, 0.1378, 0.1869, 0.0806, 0.2176, 0.2414]"
      ]
     },
     "execution_count": 92,
     "metadata": {},
     "output_type": "execute_result"
    }
   ],
   "source": [
    "[t[1] for t in sorted(d.items(), key=lambda x: x[0])]"
   ]
  },
  {
   "cell_type": "code",
   "execution_count": 93,
   "id": "aa262fea-3598-4410-8e9c-f7f243ed491b",
   "metadata": {
    "tags": []
   },
   "outputs": [
    {
     "data": {
      "text/plain": [
       "[0.05405405405405406,\n",
       " 0.08108108108108109,\n",
       " 0.13513513513513514,\n",
       " 0.1891891891891892,\n",
       " 0.08108108108108109,\n",
       " 0.21621621621621623,\n",
       " 0.24324324324324326]"
      ]
     },
     "execution_count": 93,
     "metadata": {},
     "output_type": "execute_result"
    }
   ],
   "source": [
    "s.weights"
   ]
  },
  {
   "cell_type": "code",
   "execution_count": 98,
   "id": "ee066016-922d-4b9e-a4f8-9ccda69c3148",
   "metadata": {
    "tags": []
   },
   "outputs": [],
   "source": [
    "import numpy as np\n",
    "def KL_div(p, q):\n",
    "    '''\n",
    "        Compute KL divergence of two discrete prob distribution p and q, where q is reference prob distribution\n",
    "    '''\n",
    "    eps = 1e-9\n",
    "    p = np.array(p)\n",
    "    q = np.array(q)\n",
    "    return np.sum(p*np.log(p/(q+eps)))"
   ]
  },
  {
   "cell_type": "code",
   "execution_count": 99,
   "id": "af51f86c-5501-460f-be51-22c234983c4d",
   "metadata": {
    "tags": []
   },
   "outputs": [
    {
     "data": {
      "text/plain": [
       "6.197970523803007e-05"
      ]
     },
     "execution_count": 99,
     "metadata": {},
     "output_type": "execute_result"
    }
   ],
   "source": [
    "KL_div([t[1] for t in sorted(d.items(), key=lambda x: x[0])], s.weights)"
   ]
  },
  {
   "cell_type": "code",
   "execution_count": null,
   "id": "891b7f1f-2336-4171-aad8-bd30bfb7025a",
   "metadata": {},
   "outputs": [],
   "source": []
  },
  {
   "cell_type": "markdown",
   "id": "42505f18-a29e-4518-a475-341fe37b11d9",
   "metadata": {
    "tags": []
   },
   "source": [
    "第二个是 算法 用 rand7 实现rand10那种 写code 和 test‍‍‍‍‍"
   ]
  },
  {
   "cell_type": "code",
   "execution_count": null,
   "id": "9d9ddeb2-917c-4060-b5b0-9bfbe9700172",
   "metadata": {},
   "outputs": [],
   "source": [
    "x = rand7()\n",
    "y = rand7()\n"
   ]
  },
  {
   "cell_type": "code",
   "execution_count": null,
   "id": "38d6b5d0-5250-42e4-ba22-3e4e52a722fa",
   "metadata": {},
   "outputs": [],
   "source": []
  }
 ],
 "metadata": {
  "kernelspec": {
   "display_name": "Python 3 (ipykernel)",
   "language": "python",
   "name": "python3"
  },
  "language_info": {
   "codemirror_mode": {
    "name": "ipython",
    "version": 3
   },
   "file_extension": ".py",
   "mimetype": "text/x-python",
   "name": "python",
   "nbconvert_exporter": "python",
   "pygments_lexer": "ipython3",
   "version": "3.8.12"
  }
 },
 "nbformat": 4,
 "nbformat_minor": 5
}
