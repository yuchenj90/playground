{
 "cells": [
  {
   "cell_type": "markdown",
   "id": "e3fc0c99-b732-425d-af7b-1bfb8a43a9db",
   "metadata": {},
   "source": [
    "### Description\n",
    "\n",
    "In English, we have a concept called **root**, which can be followed by some other word to form another longer word. For example, when the **root** `\"help\"` is followed by the word `\"ful\"`, we can form a derivative `\"helpful\"`.\n",
    "\n",
    "Given a `dictionary` consisting of many **roots** and a `sentence` consisting of words separated by spaces, replace all the derivatives in the sentence with the **root** forming it. If a derivative can be replaced by more than one **root**, replace it with the **root** that has **the shortest length**.\n",
    "\n",
    "Return the sentence after the replacement.\n",
    "\n"
   ]
  },
  {
   "cell_type": "markdown",
   "id": "2293a6e7-52ef-4d59-bb05-3e379d0cd8e8",
   "metadata": {
    "tags": []
   },
   "source": [
    "### Example 1:\n",
    "> ```python\n",
    "> Input: dictionary = [\"cat\",\"bat\",\"rat\"], sentence = \"the cattle was rattled by the battery\"\n",
    "> Output: \"the cat was rat by the bat\"\n",
    "> ```\n",
    "\n",
    "### Example 2:\n",
    "> ```python\n",
    "> Input: dictionary = [\"a\",\"b\",\"c\"], sentence = \"aadsfasf absbs bbab cadsfafs\"\n",
    "> Output: \"a a b c\"\n",
    "> ```"
   ]
  },
  {
   "cell_type": "markdown",
   "id": "f38cda1a-8594-4556-b6a3-162a393e1fc2",
   "metadata": {
    "tags": []
   },
   "source": [
    "### Constraints:\n",
    "- `1 <= dictionary.length <= 1000`\n",
    "- `1 <= dictionary[i].length <= 100`\n",
    "- `dictionary[i]` consists of only lower-case letters.\n",
    "- `1 <= sentence.length <= 106`\n",
    "- sentence consists of only lower-case letters and spaces.\n",
    "- The number of words in `sentence` is in the range `[1, 1000]`\n",
    "- The length of each word in `sentence` is in the range `[1, 1000]`\n",
    "- Every two consecutive words in `sentence` will be separated by exactly one space.\n",
    "- `sentence` does not have leading or trailing spaces.\n"
   ]
  },
  {
   "cell_type": "code",
   "execution_count": 37,
   "id": "d4653028-4073-4c61-981b-668b4c83959b",
   "metadata": {
    "tags": []
   },
   "outputs": [],
   "source": [
    "class Trie:\n",
    "    class Trienode:\n",
    "        def __init__(self, d):\n",
    "            self.dct = d\n",
    "            self.last = False\n",
    "\n",
    "    def __init__(self):\n",
    "        self.root = self.Trienode({})\n",
    "\n",
    "    def find(self, item):\n",
    "        node = self.root\n",
    "        for x in item:\n",
    "            if x in node.dct:\n",
    "                node = node.dct[x]\n",
    "            else:\n",
    "                return False\n",
    "        return node.last\n",
    "\n",
    "    def insert(self, item: str):\n",
    "        node = self.root\n",
    "        insert_mode = False\n",
    "        for x in item:\n",
    "            if (not insert_mode) and (x not in node.dct):\n",
    "                insert_mode = True\n",
    "            if insert_mode:\n",
    "                node.dct[x] = self.Trienode({})\n",
    "            node = node.dct[x]\n",
    "        node.last = True\n",
    "\n",
    "    def get_shortest_prefix(self, item: str):\n",
    "        node = self.root\n",
    "        res = ''\n",
    "        for x in item:\n",
    "            if node.last:\n",
    "                return res\n",
    "            else:\n",
    "                if x in node.dct:\n",
    "                    res = res + x\n",
    "                    node = node.dct[x]\n",
    "                else:\n",
    "                    return item\n",
    "        if node.last:\n",
    "            return res\n",
    "        return item"
   ]
  },
  {
   "cell_type": "code",
   "execution_count": 40,
   "id": "2b9007a8-3cfb-426e-b5ff-8bdd37fe8e4b",
   "metadata": {
    "tags": []
   },
   "outputs": [],
   "source": [
    "from typing import List\n",
    "def replaceWords(dictionary: List[str], sentence: str) -> str:\n",
    "    t = Trie()\n",
    "    for x in dictionary:\n",
    "        t.insert(x)\n",
    "    l = sentence.split(' ')\n",
    "    return ' '.join([t.get_shortest_prefix(x) for x in l])\n"
   ]
  },
  {
   "cell_type": "code",
   "execution_count": 43,
   "id": "56c36f57-aed4-4068-8fe1-c4c2e5d4082e",
   "metadata": {
    "tags": []
   },
   "outputs": [
    {
     "data": {
      "text/plain": [
       "'a a a a a a bb a baab a'"
      ]
     },
     "execution_count": 43,
     "metadata": {},
     "output_type": "execute_result"
    }
   ],
   "source": [
    "dictionary = [\"a\", \"aa\", \"ab\", \"aaa\", \"aaaa\"]\n",
    "sentence = \"a aab aba abab aaaaa aaa bb abba baab aaaa\"\n",
    "replaceWords(dictionary, sentence)"
   ]
  },
  {
   "cell_type": "code",
   "execution_count": 42,
   "id": "3569e0c5-ddca-488e-a80f-0660f575a489",
   "metadata": {
    "tags": []
   },
   "outputs": [
    {
     "data": {
      "text/plain": [
       "'a a a a a a bb a baab a'"
      ]
     },
     "execution_count": 42,
     "metadata": {},
     "output_type": "execute_result"
    }
   ],
   "source": []
  },
  {
   "cell_type": "code",
   "execution_count": 3,
   "id": "cbb343d4-0e5a-4192-8bc1-bc996b39a006",
   "metadata": {
    "tags": []
   },
   "outputs": [
    {
     "name": "stdout",
     "output_type": "stream",
     "text": [
      "abc\n",
      "{}\n",
      "{'a': <__main__.Trie.Trienode object at 0x109248970>}\n",
      "{'a': <__main__.Trie.Trienode object at 0x109248970>, 'b': <__main__.Trie.Trienode object at 0x109248fa0>}\n"
     ]
    }
   ],
   "source": [
    "t.insert(\"abc\")"
   ]
  },
  {
   "cell_type": "code",
   "execution_count": null,
   "id": "0c1ffefa-25a4-4263-83c7-3679061973bf",
   "metadata": {},
   "outputs": [],
   "source": []
  }
 ],
 "metadata": {
  "kernelspec": {
   "display_name": "Python 3 (ipykernel)",
   "language": "python",
   "name": "python3"
  },
  "language_info": {
   "codemirror_mode": {
    "name": "ipython",
    "version": 3
   },
   "file_extension": ".py",
   "mimetype": "text/x-python",
   "name": "python",
   "nbconvert_exporter": "python",
   "pygments_lexer": "ipython3",
   "version": "3.8.12"
  }
 },
 "nbformat": 4,
 "nbformat_minor": 5
}
