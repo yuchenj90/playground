{
 "cells": [
  {
   "cell_type": "markdown",
   "metadata": {},
   "source": [
    "# Binary representation of signed integers\n",
    "\n",
    "We use binary number to represent positive integers in computer systems\n",
    "\n",
    "For negative intergers, we use N-bit two's complement. The first bit is reserved to show the sign of the integer.\n",
    "\n",
    "For example, to represent 4-bit signed integers, \n",
    "0000 0\n",
    "\n",
    "0001 1\n",
    "\n",
    "0010 2\n",
    "\n",
    "0011 3\n",
    "\n",
    "0100 4\n",
    "\n",
    "0101 5\n",
    "\n",
    "0110 6\n",
    "\n",
    "0111 7\n",
    "\n",
    "1000 -8 (0-8)\n",
    "\n",
    "1001 -7 (1-8)\n",
    "\n",
    "1010 -6 (2-8)\n",
    "\n",
    "1011 -5 (3-8)\n",
    "\n",
    "1100 -4 (4-8)\n",
    "\n",
    "1101 -3 (5-8)\n",
    "\n",
    "1110 -2 (6-8)\n",
    "\n",
    "1111 -1 (7-8)"
   ]
  },
  {
   "cell_type": "markdown",
   "metadata": {},
   "source": [
    "# Two's complement\n",
    "\n",
    "The two's complement of an N-bit number is defined as its complement with respect to 2^N.\n",
    "\n",
    "For example, the two's complement of 3-bit number 010 is 110, as they sum up to 1000 = 2^3\n",
    "\n",
    "The two's complement is calculated by inverting the digits and adding one"
   ]
  },
  {
   "cell_type": "markdown",
   "metadata": {},
   "source": [
    "Interestingly, under signed integer representation, two's complement of x is -x."
   ]
  },
  {
   "cell_type": "code",
   "execution_count": null,
   "metadata": {},
   "outputs": [],
   "source": []
  },
  {
   "cell_type": "markdown",
   "metadata": {},
   "source": [
    "# Not: bitwise negation\n",
    "\n",
    "NOT 0111 = 1000, so NOT 7 = -8, NOT x = -x-1"
   ]
  },
  {
   "cell_type": "code",
   "execution_count": 10,
   "metadata": {},
   "outputs": [
    {
     "name": "stdout",
     "output_type": "stream",
     "text": [
      "-8 7 -11\n"
     ]
    }
   ],
   "source": [
    "print(~7, ~(-8), ~10)"
   ]
  },
  {
   "cell_type": "code",
   "execution_count": null,
   "metadata": {},
   "outputs": [],
   "source": []
  },
  {
   "cell_type": "markdown",
   "metadata": {},
   "source": [
    "# And/OR\n",
    "101 & 1100 = 100\n",
    "101 | 1100 = 1101"
   ]
  },
  {
   "cell_type": "code",
   "execution_count": 15,
   "metadata": {},
   "outputs": [
    {
     "name": "stdout",
     "output_type": "stream",
     "text": [
      "4\n"
     ]
    }
   ],
   "source": [
    "print(5&12)"
   ]
  },
  {
   "cell_type": "code",
   "execution_count": 16,
   "metadata": {},
   "outputs": [
    {
     "name": "stdout",
     "output_type": "stream",
     "text": [
      "13\n"
     ]
    }
   ],
   "source": [
    "print(5|12)"
   ]
  },
  {
   "cell_type": "markdown",
   "metadata": {},
   "source": [
    "# XOR\n",
    "1,0 -> 1\n",
    "\n",
    "0,1 -> 1\n",
    "\n",
    "1,1 -> 0\n",
    "\n",
    "0,0 -> 0\n",
    "\n",
    "101^1100 = 1001"
   ]
  },
  {
   "cell_type": "code",
   "execution_count": 17,
   "metadata": {},
   "outputs": [
    {
     "name": "stdout",
     "output_type": "stream",
     "text": [
      "9\n"
     ]
    }
   ],
   "source": [
    "print(5^12)"
   ]
  },
  {
   "cell_type": "markdown",
   "metadata": {},
   "source": [
    "# <</>>\n",
    "101 << 2 = 10100\n",
    "101 >> 2 = 1"
   ]
  },
  {
   "cell_type": "code",
   "execution_count": 20,
   "metadata": {},
   "outputs": [
    {
     "name": "stdout",
     "output_type": "stream",
     "text": [
      "20 1\n"
     ]
    }
   ],
   "source": [
    "print(5 << 2, 5 >> 2)"
   ]
  },
  {
   "cell_type": "code",
   "execution_count": null,
   "metadata": {},
   "outputs": [],
   "source": []
  },
  {
   "cell_type": "markdown",
   "metadata": {},
   "source": [
    "# Check power of two"
   ]
  },
  {
   "cell_type": "code",
   "execution_count": 22,
   "metadata": {},
   "outputs": [],
   "source": [
    "def ispoweroftwo(x):\n",
    "    return (x&(x-1)==0)"
   ]
  },
  {
   "cell_type": "code",
   "execution_count": 28,
   "metadata": {},
   "outputs": [
    {
     "data": {
      "text/plain": [
       "False"
      ]
     },
     "execution_count": 28,
     "metadata": {},
     "output_type": "execute_result"
    }
   ],
   "source": [
    "ispoweroftwo(15)"
   ]
  },
  {
   "cell_type": "code",
   "execution_count": null,
   "metadata": {},
   "outputs": [],
   "source": []
  },
  {
   "cell_type": "code",
   "execution_count": 29,
   "metadata": {},
   "outputs": [
    {
     "data": {
      "text/plain": [
       "8"
      ]
     },
     "execution_count": 29,
     "metadata": {},
     "output_type": "execute_result"
    }
   ],
   "source": [
    "8&(-8)"
   ]
  },
  {
   "cell_type": "code",
   "execution_count": 31,
   "metadata": {},
   "outputs": [
    {
     "data": {
      "text/plain": [
       "2"
      ]
     },
     "execution_count": 31,
     "metadata": {},
     "output_type": "execute_result"
    }
   ],
   "source": [
    "i = 10\n",
    "i&(-i)"
   ]
  },
  {
   "cell_type": "code",
   "execution_count": null,
   "metadata": {},
   "outputs": [],
   "source": [
    "12: 01100\n",
    "-12: 10100\n"
   ]
  },
  {
   "cell_type": "markdown",
   "metadata": {},
   "source": [
    "# Find number of trailing zeros in the binary representations"
   ]
  },
  {
   "cell_type": "code",
   "execution_count": 33,
   "metadata": {},
   "outputs": [],
   "source": [
    "def num_trailing_zeros(x):\n",
    "    return (x&(-x)).bit_length()-1"
   ]
  },
  {
   "cell_type": "code",
   "execution_count": 36,
   "metadata": {},
   "outputs": [
    {
     "name": "stdout",
     "output_type": "stream",
     "text": [
      "2 4 0\n"
     ]
    }
   ],
   "source": [
    "print(num_trailing_zeros(12),num_trailing_zeros(16),num_trailing_zeros(4294712375401))"
   ]
  },
  {
   "cell_type": "code",
   "execution_count": null,
   "metadata": {},
   "outputs": [],
   "source": []
  }
 ],
 "metadata": {
  "kernelspec": {
   "display_name": "Python 3",
   "language": "python",
   "name": "python3"
  },
  "language_info": {
   "codemirror_mode": {
    "name": "ipython",
    "version": 3
   },
   "file_extension": ".py",
   "mimetype": "text/x-python",
   "name": "python",
   "nbconvert_exporter": "python",
   "pygments_lexer": "ipython3",
   "version": "3.8.4"
  }
 },
 "nbformat": 4,
 "nbformat_minor": 4
}
