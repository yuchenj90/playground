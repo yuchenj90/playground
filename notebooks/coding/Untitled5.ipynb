{
 "cells": [
  {
   "cell_type": "code",
   "execution_count": 17,
   "id": "f5b0d133-2bea-403e-99b2-63ee4e989076",
   "metadata": {},
   "outputs": [],
   "source": [
    "nums = [-5, -2, 1, 2, 6, 6, 9, 10, 12]\n"
   ]
  },
  {
   "cell_type": "code",
   "execution_count": 18,
   "id": "b338b1f5-e1c3-43b6-a7a3-d558d4ad46c2",
   "metadata": {
    "tags": []
   },
   "outputs": [],
   "source": [
    "def foo(nums, a, b, c):\n",
    "    res = []\n",
    "    for i in nums:\n",
    "        res.append(a*i**2 + b*i + c)\n",
    "    return sorted(res)"
   ]
  },
  {
   "cell_type": "code",
   "execution_count": 38,
   "id": "65cffecc-ccd1-422c-ae6c-bc8196882253",
   "metadata": {
    "tags": []
   },
   "outputs": [],
   "source": [
    "def binary_search(target, nums):\n",
    "    left, right = 0, len(nums)-1\n",
    "    while left <= right:\n",
    "        mid = (right-left)//2 + left\n",
    "        if target >= nums[mid]:\n",
    "            left = mid + 1\n",
    "        else:\n",
    "            right = mid - 1\n",
    "    if right < 0:\n",
    "        return 0\n",
    "    else:\n",
    "        if nums[right] >= target:\n",
    "            return right\n",
    "        else:\n",
    "            return right+1\n",
    "            \n",
    "    \n",
    "            \n",
    "    \n",
    "def cal_quadratic(nums, a, b, c):\n",
    "    '''\n",
    "        apply quadratic function ax^2 + bx + c to every element in nums, return sorted array\n",
    "    '''\n",
    "    if a == 0:\n",
    "        if b >= 0:\n",
    "            return [b*i+c for i in nums]\n",
    "        else:\n",
    "            return [b*i+c for i in nums[::-1]]\n",
    "    flag = False\n",
    "    if a < 0:\n",
    "        flag = True\n",
    "        a,b,c = -a, -b, -c\n",
    "\n",
    "    target = -b/a/2\n",
    "    i = binary_search(target, nums)\n",
    "    # print(i, nums, target)\n",
    "    if i==len(nums):\n",
    "        res = [a*i**2+b*i+c for i in nums[::-1]]\n",
    "    elif i==0:\n",
    "        res = [a*i**2+b*i+c for i in nums]\n",
    "    else:\n",
    "        pr, pl = i, i-1\n",
    "        res = []\n",
    "        while True:\n",
    "            if abs(nums[pr]-target) < abs(nums[pl]-target):\n",
    "                res.append(a*nums[pr]**2 + b*nums[pr] + c)\n",
    "                pr += 1\n",
    "                if pr >= len(nums):\n",
    "                    for k in range(pl, -1, -1):\n",
    "                        res.append(a*nums[k]**2 + b*nums[k] + c)\n",
    "                    break\n",
    "            else:\n",
    "                res.append(a*nums[pl]**2 + b*nums[pl] + c)\n",
    "                pl -= 1\n",
    "                if pl < 0:\n",
    "                    for k in range(pr, len(nums)):\n",
    "                        res.append(a*nums[k]**2 + b*nums[k] + c)\n",
    "                    break\n",
    "    if flag:\n",
    "        return [-i for i in res[::-1]]\n",
    "    return res\n",
    "                "
   ]
  },
  {
   "cell_type": "code",
   "execution_count": 39,
   "id": "330722db-bba8-4722-a9b5-5e457746d61c",
   "metadata": {
    "tags": []
   },
   "outputs": [
    {
     "data": {
      "text/plain": [
       "True"
      ]
     },
     "execution_count": 39,
     "metadata": {},
     "output_type": "execute_result"
    }
   ],
   "source": [
    "cal_quadratic(nums, 2, 4, 5) == foo(nums, 2, 4, 5)\n",
    "cal_quadratic(nums, 0, -4, 5) == foo(nums, 0, -4, 5)"
   ]
  },
  {
   "cell_type": "code",
   "execution_count": 40,
   "id": "44496bbb-344f-42b0-9c75-396a536cef83",
   "metadata": {
    "tags": []
   },
   "outputs": [
    {
     "name": "stdout",
     "output_type": "stream",
     "text": [
      "-1 -4\n",
      "-1 -3\n",
      "-1 -2\n",
      "-1 -1\n",
      "-1 0\n",
      "-1 1\n",
      "-1 2\n",
      "-1 3\n",
      "-1 4\n",
      "0 -4\n",
      "0 -3\n",
      "0 -2\n",
      "0 -1\n",
      "0 0\n",
      "0 1\n",
      "0 2\n",
      "0 3\n",
      "0 4\n",
      "1 -4\n",
      "1 -3\n",
      "1 -2\n",
      "1 -1\n",
      "1 0\n",
      "1 1\n",
      "1 2\n",
      "1 3\n",
      "1 4\n"
     ]
    }
   ],
   "source": [
    "for a in range(-1, 2):\n",
    "    for b in range(-4, 5):\n",
    "        print(a, b)\n",
    "        assert cal_quadratic(nums, a, b, -1) == foo(nums, a, b, -1)"
   ]
  },
  {
   "cell_type": "code",
   "execution_count": 41,
   "id": "75ee8798-a8fa-4d7b-a886-347ccc22e104",
   "metadata": {
    "tags": []
   },
   "outputs": [
    {
     "data": {
      "text/plain": [
       "[-193, -141, -118, -61, -61, -13, -6, -6, 3]"
      ]
     },
     "execution_count": 41,
     "metadata": {},
     "output_type": "execute_result"
    }
   ],
   "source": [
    "cal_quadratic(nums, -1, -4, -1)"
   ]
  },
  {
   "cell_type": "markdown",
   "id": "93eb9e6c-d78f-4c7b-aebd-0c3e8947c2aa",
   "metadata": {},
   "source": [
    "490. The Maze\n",
    "There is a ball in a maze with empty spaces and walls. The ball can go through empty spaces by rolling up, down, left or right, but it won't stop rolling until hitting a wall. When the ball stops, it could choose the next direction.\n",
    "\n",
    "Given the ball's start position, the destination and the maze, determine whether the ball could stop at the destination.\n",
    "\n",
    "The maze is represented by a binary 2D array. 1 means the wall and 0 means the empty space. You may assume that the borders of the maze are all walls. The start and destination coordinates are represented by row and column indexes.\n",
    "```\n",
    "- Example 1\n",
    "Input 1: a maze represented by a 2D array\n",
    "\n",
    "0 0 1 0 0\n",
    "0 0 0 0 0\n",
    "0 0 0 1 0\n",
    "1 1 0 1 1\n",
    "0 0 0 0 0\n",
    "\n",
    "Input 2: start coordinate (rowStart, colStart) = (0, 4)\n",
    "Input 3: destination coordinate (rowDest, colDest) = (4, 4)\n",
    "\n",
    "Output: true\n",
    "\n",
    "Explanation: One possible way is : left -> down -> left -> down -> right -> down -> right.\n",
    "\n",
    "- Example 2\n",
    "Input 1: a maze represented by a 2D array\n",
    "\n",
    "0 0 1 0 0\n",
    "0 0 0 0 0\n",
    "0 0 0 1 0\n",
    "1 1 0 1 1\n",
    "0 0 0 0 0\n",
    "\n",
    "Input 2: start coordinate (rowStart, colStart) = (0, 4)\n",
    "Input 3: destination coordinate (rowDest, colDest) = (3, 2)\n",
    "\n",
    "Output: false\n",
    "\n",
    "Explanation: There is no way for the ball to stop at the destination.\n",
    "\n",
    "```"
   ]
  },
  {
   "cell_type": "code",
   "execution_count": 44,
   "id": "4ac403d2-ee8c-46da-b4a6-a0791ce72a38",
   "metadata": {
    "tags": []
   },
   "outputs": [],
   "source": [
    "from typing import List, Tuple\n",
    "\n",
    "def canStop(maze: List[int], start: Tuple[int], dest: Tuple[int]) -> bool:\n",
    "    q = [start]\n",
    "    visited = {start: True}\n",
    "    p = 0\n",
    "    while p < len(q):\n",
    "        x = q[p]\n",
    "        # Go left\n",
    "        t = x[1]\n",
    "        while t>=0 and maze[x[0]][t] == 0:\n",
    "            t -= 1\n",
    "        left = (x[0], t+1)\n",
    "        if left == dest:\n",
    "            return True\n",
    "        # Go right\n",
    "        t = x[1]\n",
    "        while t<len(maze[0]) and maze[x[0]][t] == 0:\n",
    "            t += 1\n",
    "        right = (x[0], t-1)\n",
    "        if right == dest:\n",
    "            return True\n",
    "        # Go up\n",
    "        t = x[0]\n",
    "        while t>=0 and maze[t][x[1]] == 0:\n",
    "            t -= 1\n",
    "        up = (t+1, x[1])\n",
    "        if up == dest:\n",
    "            return True\n",
    "        # Go down\n",
    "        t = x[0]\n",
    "        while t<len(maze) and maze[t][x[1]] == 0:\n",
    "            t += 1\n",
    "        down = (t-1, x[1])\n",
    "        if down == dest:\n",
    "            return True\n",
    "        if left not in visited:\n",
    "            q.append(left)\n",
    "            visited[left] = True\n",
    "        if right not in visited:\n",
    "            q.append(right)\n",
    "            visited[right] = True\n",
    "        if up not in visited:\n",
    "            q.append(up)\n",
    "            visited[up] = True\n",
    "        if down not in visited:\n",
    "            q.append(down)\n",
    "            visited[down] = True\n",
    "        p += 1\n",
    "    return False\n",
    "            \n",
    "            \n",
    "    return True\n",
    "    "
   ]
  },
  {
   "cell_type": "code",
   "execution_count": 46,
   "id": "8d3b97b0-7e7e-47a1-b87c-5ee82ec67c13",
   "metadata": {
    "tags": []
   },
   "outputs": [
    {
     "data": {
      "text/plain": [
       "False"
      ]
     },
     "execution_count": 46,
     "metadata": {},
     "output_type": "execute_result"
    }
   ],
   "source": [
    "maze = [[0,0,1,0,0],\n",
    "[0,0,0,0,0],\n",
    "[0,0,0,1,0],\n",
    "[1,1,0,1,1],\n",
    "[0,0,0,0,0]]\n",
    "start = (0,4)\n",
    "dest = (3,2)\n",
    "canStop(maze, start, dest)"
   ]
  },
  {
   "cell_type": "code",
   "execution_count": null,
   "id": "14108fee-a8cd-48f5-aa96-66c23491bc47",
   "metadata": {},
   "outputs": [],
   "source": []
  }
 ],
 "metadata": {
  "kernelspec": {
   "display_name": "Python 3 (ipykernel)",
   "language": "python",
   "name": "python3"
  },
  "language_info": {
   "codemirror_mode": {
    "name": "ipython",
    "version": 3
   },
   "file_extension": ".py",
   "mimetype": "text/x-python",
   "name": "python",
   "nbconvert_exporter": "python",
   "pygments_lexer": "ipython3",
   "version": "3.8.12"
  }
 },
 "nbformat": 4,
 "nbformat_minor": 5
}
