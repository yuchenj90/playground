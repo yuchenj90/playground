{
 "cells": [
  {
   "cell_type": "markdown",
   "metadata": {},
   "source": [
    "# A class RangeSumArray with the following functions:\n",
    "\n",
    "1. sumRange(i,j), return the sum from the element i to element j in the array\n",
    "\n",
    "2. update(i,val), updates the element i in the array to val\n",
    "\n",
    "# Examples\n",
    "\n",
    "A = RangeSumArray([1,3,5])\n",
    "\n",
    "A.sumRange(0, 2) -> 9\n",
    "\n",
    "A.update(1, 2)\n",
    "\n",
    "A.sumRange(1, 2) -> 7"
   ]
  },
  {
   "cell_type": "markdown",
   "metadata": {},
   "source": [
    "# Binary indexed tree solution\n",
    "\n",
    "Best explanation so far: https://cs.stackexchange.com/questions/10538/bit-what-is-the-intuition-behind-a-binary-indexed-tree-and-how-was-it-thought-a"
   ]
  },
  {
   "cell_type": "raw",
   "metadata": {},
   "source": [
    "Binary Indexed Tree:\n",
    "BITree[0] = 0 is dummy node\n",
    "BITree[1] = A[0]\n",
    "BITree[2] = A[0] + A[1]\n",
    "BITree[3] = A[2]\n",
    "BITree[4] = A[0] + A[1] + A[2] + A[3]\n",
    "BITree[5] = A[4]\n",
    "BITree[6] = A[4] + A[5]\n",
    "BITree[7] = A[6]\n",
    "BITree[8] = A[0] + A[1] + ... + A[6] + A[7]\n",
    "BITree[9] = A[8]\n",
    "BITree[10] = A[8] + A[9]\n",
    "BITree[11] = A[10]\n",
    "BITree[12] = A[11] + A[10] + A[9] + A[8]\n",
    "BITree[13] = A[12]\n",
    "BITree[14] = A[13] + A[12]\n",
    "BITree[15] = A[14]\n",
    "BITree[16] = A[15] + A[14] + ... + A[0]\n",
    "etc.\n",
    "\n",
    "BITree[k] = A[k-1] + ... + A[(k-1)&k]"
   ]
  },
  {
   "cell_type": "markdown",
   "metadata": {},
   "source": [
    "### Construct a BI Tree (O(nlogn))\n",
    "BITree[7] = A[6]\n",
    "\n",
    "BITree[8] = A[7] + BITree[7] + BITree[6] + BITree[4]\n",
    "\n",
    "BITree[6] = A[5] + BITree[5]\n",
    "\n",
    "BITree[k] = A[k-1] + BITree[k-1] + BITree[k-2] + ... + BITree[k-2^m] where 2^m|k"
   ]
  },
  {
   "cell_type": "code",
   "execution_count": 1,
   "metadata": {},
   "outputs": [],
   "source": [
    "def foo(x):\n",
    "    l=[]\n",
    "    t=1\n",
    "    while x%(2*t)==0:\n",
    "        l.append(x-t)\n",
    "        t = t*2\n",
    "    return l"
   ]
  },
  {
   "cell_type": "code",
   "execution_count": 2,
   "metadata": {},
   "outputs": [
    {
     "name": "stdout",
     "output_type": "stream",
     "text": [
      "[15, 14, 12, 8] [] [11, 10]\n"
     ]
    }
   ],
   "source": [
    "print(foo(16),foo(9),foo(12))"
   ]
  },
  {
   "cell_type": "markdown",
   "metadata": {},
   "source": [
    "## sumRange (O(logn))\n",
    "sumRange(0,k-1) = BITree[k] + BITree[k->parent] + ... + BITree[k->parent->/...->parent]\n",
    "\n",
    "![sumRangeTree](sumRangeTree.png)"
   ]
  },
  {
   "cell_type": "code",
   "execution_count": 3,
   "metadata": {},
   "outputs": [],
   "source": [
    "def get_parents(x):\n",
    "    l=[]\n",
    "    while x>0:\n",
    "        l.append(x)\n",
    "        x = x - (x&(-x))\n",
    "    return l"
   ]
  },
  {
   "cell_type": "code",
   "execution_count": 5,
   "metadata": {},
   "outputs": [
    {
     "data": {
      "text/plain": [
       "[15, 14, 12, 8]"
      ]
     },
     "execution_count": 5,
     "metadata": {},
     "output_type": "execute_result"
    }
   ],
   "source": [
    "get_parents(15)"
   ]
  },
  {
   "cell_type": "markdown",
   "metadata": {},
   "source": [
    "## Update (O(logn))\n",
    "update(k-1,val)\n",
    "\n",
    "Update\n",
    "BITree[k], BITree[k->parent], ..., BITree[k->parent->...->parent]\n",
    "\n",
    "\n",
    "![updateTree](updateTree.png)"
   ]
  },
  {
   "cell_type": "code",
   "execution_count": 6,
   "metadata": {},
   "outputs": [],
   "source": [
    "def get_parents(x,M):\n",
    "    l=[]\n",
    "    while x<M:\n",
    "        l.append(x)\n",
    "        x = x + (x&(-x))\n",
    "    return l"
   ]
  },
  {
   "cell_type": "code",
   "execution_count": 7,
   "metadata": {},
   "outputs": [
    {
     "data": {
      "text/plain": [
       "[3, 4, 8]"
      ]
     },
     "execution_count": 7,
     "metadata": {},
     "output_type": "execute_result"
    }
   ],
   "source": [
    "get_parents(3,16)"
   ]
  },
  {
   "cell_type": "code",
   "execution_count": 8,
   "metadata": {},
   "outputs": [],
   "source": [
    "class RangeSumArray():\n",
    "    def __init__(self, array):\n",
    "        \"\"\"\n",
    "        :type nums: List[int]\n",
    "        \"\"\"\n",
    "        self.array = array\n",
    "        self.BITree = [0]\n",
    "        \n",
    "        for i in range(len(array)):\n",
    "            s = array[i]\n",
    "            t=1\n",
    "            while (i+1)%(2*t)==0:\n",
    "                s += self.BITree[i+1-t]\n",
    "                t = t*2\n",
    "            self.BITree.append(s)\n",
    "\n",
    "    def cumSum(self, i):\n",
    "        \"\"\"\n",
    "        :type i: int\n",
    "        \"\"\"\n",
    "        s = 0\n",
    "        i = i+1\n",
    "        while i>0:\n",
    "            s += self.BITree[i]\n",
    "            i = i - (i&(-i))\n",
    "        return s\n",
    "        \n",
    "    def sumRange(self, i, j):\n",
    "        \"\"\"\n",
    "        :type i: int\n",
    "        :type j: int\n",
    "        :rtype: int\n",
    "        \"\"\"\n",
    "        if (j<i) or (j<0) or (i>=len(self.array)):\n",
    "            return 0\n",
    "        else:\n",
    "            i = max(0,i)\n",
    "            j = min(len(self.array)-1,j)\n",
    "            if i==0:\n",
    "                return self.cumSum(j)\n",
    "            else:\n",
    "                return self.cumSum(j) - self.cumSum(i-1)\n",
    "        \n",
    "        \n",
    "    def update(self, i, val):\n",
    "        \"\"\"\n",
    "        :type i: int\n",
    "        :type val: int\n",
    "        :rtype: None\n",
    "        \"\"\"\n",
    "        diff = val - self.array[i]\n",
    "        self.array[i] = val\n",
    "        \n",
    "        i = i+1\n",
    "        while i<len(self.BITree):\n",
    "            self.BITree[i] += diff\n",
    "            i = i + (i&(-i))\n",
    "            \n",
    "    def append(self, val):\n",
    "        pos = len(self.array)\n",
    "        self.array.append(val)\n",
    "        \n",
    "        s = val\n",
    "        t = 1\n",
    "        pos = len(self.array)\n",
    "        while (pos%(t*2)==0):\n",
    "            s += self.BITree[pos-t]\n",
    "            t *= 2\n",
    "        self.BITree.append(s)"
   ]
  },
  {
   "cell_type": "code",
   "execution_count": 9,
   "metadata": {},
   "outputs": [],
   "source": [
    "a = RangeSumArray([1,1,1,1,1,1,1,1,1,1,1,1,1,1,1,1,1])"
   ]
  },
  {
   "cell_type": "code",
   "execution_count": 10,
   "metadata": {},
   "outputs": [
    {
     "data": {
      "text/plain": [
       "[0, 1, 2, 1, 4, 1, 2, 1, 8, 1, 2, 1, 4, 1, 2, 1, 16, 1]"
      ]
     },
     "execution_count": 10,
     "metadata": {},
     "output_type": "execute_result"
    }
   ],
   "source": [
    "a.BITree"
   ]
  },
  {
   "cell_type": "code",
   "execution_count": 11,
   "metadata": {},
   "outputs": [
    {
     "data": {
      "text/plain": [
       "7"
      ]
     },
     "execution_count": 11,
     "metadata": {},
     "output_type": "execute_result"
    }
   ],
   "source": [
    "a.sumRange(-10,6)"
   ]
  },
  {
   "cell_type": "code",
   "execution_count": 12,
   "metadata": {},
   "outputs": [],
   "source": [
    "a.update(3,2)"
   ]
  },
  {
   "cell_type": "code",
   "execution_count": 13,
   "metadata": {},
   "outputs": [
    {
     "data": {
      "text/plain": [
       "8"
      ]
     },
     "execution_count": 13,
     "metadata": {},
     "output_type": "execute_result"
    }
   ],
   "source": [
    "a.sumRange(-10,6)"
   ]
  },
  {
   "cell_type": "code",
   "execution_count": 14,
   "metadata": {},
   "outputs": [
    {
     "data": {
      "text/plain": [
       "[1, 1, 1, 2, 1, 1, 1, 1, 1, 1, 1, 1, 1, 1, 1, 1, 1]"
      ]
     },
     "execution_count": 14,
     "metadata": {},
     "output_type": "execute_result"
    }
   ],
   "source": [
    "a.array"
   ]
  },
  {
   "cell_type": "code",
   "execution_count": 15,
   "metadata": {},
   "outputs": [
    {
     "data": {
      "text/plain": [
       "[0, 1, 2, 1, 5, 1, 2, 1, 9, 1, 2, 1, 4, 1, 2, 1, 17, 1]"
      ]
     },
     "execution_count": 15,
     "metadata": {},
     "output_type": "execute_result"
    }
   ],
   "source": [
    "a.BITree"
   ]
  },
  {
   "cell_type": "code",
   "execution_count": 16,
   "metadata": {},
   "outputs": [],
   "source": [
    "a.append(3)"
   ]
  },
  {
   "cell_type": "code",
   "execution_count": 17,
   "metadata": {},
   "outputs": [],
   "source": [
    "a.append(5)\n",
    "a.append(2)"
   ]
  },
  {
   "cell_type": "code",
   "execution_count": 18,
   "metadata": {},
   "outputs": [
    {
     "data": {
      "text/plain": [
       "[0, 1, 2, 1, 5, 1, 2, 1, 9, 1, 2, 1, 4, 1, 2, 1, 17, 1, 4, 5, 11]"
      ]
     },
     "execution_count": 18,
     "metadata": {},
     "output_type": "execute_result"
    }
   ],
   "source": [
    "a.BITree"
   ]
  },
  {
   "cell_type": "code",
   "execution_count": 19,
   "metadata": {},
   "outputs": [
    {
     "data": {
      "text/plain": [
       "[1, 1, 1, 2, 1, 1, 1, 1, 1, 1, 1, 1, 1, 1, 1, 1, 1, 3, 5, 2]"
      ]
     },
     "execution_count": 19,
     "metadata": {},
     "output_type": "execute_result"
    }
   ],
   "source": [
    "a.array"
   ]
  },
  {
   "cell_type": "code",
   "execution_count": 20,
   "metadata": {},
   "outputs": [
    {
     "data": {
      "text/plain": [
       "15"
      ]
     },
     "execution_count": 20,
     "metadata": {},
     "output_type": "execute_result"
    }
   ],
   "source": [
    "a.sumRange(10,18)"
   ]
  },
  {
   "cell_type": "markdown",
   "metadata": {},
   "source": [
    "# Segmentation tree Solution"
   ]
  },
  {
   "cell_type": "raw",
   "metadata": {},
   "source": [
    "3. Range Sum Query\n",
    "We can find range sum query [L, R][L,R] using segment tree in the following way:\n",
    "\n",
    "Algorithm hold loop invariant:\n",
    "\n",
    "l \\le rl≤r and sum of [L \\ldots l][L…l] and [r \\ldots R][r…R] has been calculated, where ll and rr are the left and right boundary of calculated sum. Initially we set ll with left leaf LL and rr with right leaf RR. Range [l, r][l,r] shrinks on each iteration till range borders meets after approximately \\log nlogn iterations of the algorithm\n",
    "\n",
    "Loop till l \\le rl≤r\n",
    "Check if ll is right child of its parent PP\n",
    "ll is right child of PP. Then PP contains sum of range of ll and another child which is outside the range [l, r][l,r] and we don't need parent PP sum. Add ll to sumsum without its parent PP and set ll to point to the right of PP on the upper level.\n",
    "ll is not right child of PP. Then parent PP contains sum of range which lies in [l, r][l,r]. Add PP to sumsum and set ll to point to the parent of PP\n",
    "Check if rr is left child of its parent PP\n",
    "rr is left child of PP. Then PP contains sum of range of rr and another child which is outside the range [l, r][l,r] and we don't need parent PP sum. Add rr to sumsum without its parent PP and set rr to point to the left of PP on the upper level.\n",
    "rr is not left child of PP. Then parent PP contains sum of range which lies in [l, r][l,r]. Add PP to sumsum and set rr to point to the parent of PP"
   ]
  },
  {
   "cell_type": "code",
   "execution_count": 21,
   "metadata": {},
   "outputs": [],
   "source": [
    "import numpy as np\n",
    "class RangeSumArray():\n",
    "    def __init__(self, array):\n",
    "        \"\"\"\n",
    "        :type nums: List[int]\n",
    "        \"\"\"\n",
    "        self.array = array\n",
    "        n = len(array)\n",
    "        num_leaf = pow(2,int(np.ceil(np.log2(n))))\n",
    "        total = num_leaf*2\n",
    "        self.SegTree = [0 for i in range(total)]\n",
    "        \n",
    "        for i in range(n):\n",
    "            self.SegTree[i+num_leaf] = array[i]\n",
    "        i = num_leaf - 1\n",
    "        while i>0:\n",
    "            self.SegTree[i] = self.SegTree[i*2] + self.SegTree[i*2+1]\n",
    "            i -= 1\n",
    "        self.SegTree[0] = num_leaf\n",
    "\n",
    "    def cumSum(self, i):\n",
    "        \"\"\"\n",
    "        :type i: int\n",
    "        \"\"\"\n",
    "        if i<=0:\n",
    "            return 0\n",
    "        if i>len(self.array):\n",
    "            return self.SegTree[1]\n",
    "        else:\n",
    "            right_i = self.SegTree[0]\n",
    "            left_i = 1\n",
    "            res = 0\n",
    "            index = 1\n",
    "            while True:\n",
    "                if right_i == i:\n",
    "                    res += self.SegTree[index]\n",
    "                    break\n",
    "                elif right_i > i:\n",
    "                    right_i = int((right_i+left_i)/2)\n",
    "                    index *= 2\n",
    "                else:\n",
    "                    res += self.SegTree[index]\n",
    "                    index += 1\n",
    "                    [left_i, right_i] = [right_i+1, 2*right_i-left_i+1]\n",
    "                \n",
    "        \n",
    "        return res\n",
    "        \n",
    "    def sumRange(self, L, R):\n",
    "        \"\"\"\n",
    "        :type i: int\n",
    "        :type j: int\n",
    "        :rtype: int\n",
    "        \"\"\"\n",
    "        l = L + self.SegTree[0]\n",
    "        r = R + self.SegTree[0]\n",
    "        res = 0\n",
    "        \n",
    "        while (l<=r):\n",
    "            if (l%2 == 1):                # if l is right child of its parent P\n",
    "                res += self.SegTree[l]    # Don't go up to its parents and add the node value immediately\n",
    "                l += 1                    # Go to the branch right next to it\n",
    "                \n",
    "            if (r%2 == 0):                # if r is left child of its parent P\n",
    "                res += self.SegTree[r]    # Don't go up to its parents and add the node value immediately\n",
    "                r -= 1                    # Go to the branch left next to it\n",
    "                \n",
    "            # Go up one level\n",
    "            l = int(l/2)\n",
    "            r = int(r/2)\n",
    "        \n",
    "        return res\n",
    "        \n",
    "        \n",
    "    def update(self, i, val):\n",
    "        \"\"\"\n",
    "        :type i: int\n",
    "        :type val: int\n",
    "        :rtype: None\n",
    "        \"\"\"\n",
    "        diff = val - self.array[i]\n",
    "        self.array[i] = val\n",
    "        \n",
    "        pos = i + self.SegTree[0]\n",
    "        while pos>0:\n",
    "            self.SegTree[pos] += diff\n",
    "            pos = int(pos/2)"
   ]
  },
  {
   "cell_type": "code",
   "execution_count": 22,
   "metadata": {},
   "outputs": [],
   "source": [
    "A = [2,3,5,1,4,6,2,3,4,1,1,1,1,1,1,1,1,1,1,1]"
   ]
  },
  {
   "cell_type": "code",
   "execution_count": 23,
   "metadata": {},
   "outputs": [],
   "source": [
    "test = RangeSumArray(A) "
   ]
  },
  {
   "cell_type": "code",
   "execution_count": 24,
   "metadata": {},
   "outputs": [
    {
     "name": "stdout",
     "output_type": "stream",
     "text": [
      "0\n",
      "0\n",
      "0\n",
      "0\n",
      "0\n",
      "0\n",
      "0\n",
      "0\n",
      "0\n",
      "0\n",
      "1\n",
      "2\n",
      "3\n",
      "4\n",
      "5\n",
      "6\n",
      "7\n",
      "8\n",
      "9\n",
      "10\n"
     ]
    }
   ],
   "source": [
    "for i in range(20):\n",
    "    print(test.sumRange(10,i))"
   ]
  },
  {
   "cell_type": "code",
   "execution_count": 71,
   "metadata": {},
   "outputs": [],
   "source": [
    "test.update(2,2)"
   ]
  },
  {
   "cell_type": "code",
   "execution_count": 72,
   "metadata": {},
   "outputs": [
    {
     "data": {
      "text/plain": [
       "[2, 3, 2, 1, 4, 6, 2, 3, 4, 1, 1, 1, 1, 1, 1, 1, 1, 1, 1, 1]"
      ]
     },
     "execution_count": 72,
     "metadata": {},
     "output_type": "execute_result"
    }
   ],
   "source": [
    "test.array"
   ]
  },
  {
   "cell_type": "code",
   "execution_count": 77,
   "metadata": {},
   "outputs": [
    {
     "data": {
      "text/plain": [
       "7"
      ]
     },
     "execution_count": 77,
     "metadata": {},
     "output_type": "execute_result"
    }
   ],
   "source": [
    "test.cumSum(3)"
   ]
  },
  {
   "cell_type": "code",
   "execution_count": 29,
   "metadata": {},
   "outputs": [
    {
     "data": {
      "text/plain": [
       "True"
      ]
     },
     "execution_count": 29,
     "metadata": {},
     "output_type": "execute_result"
    }
   ],
   "source": [
    "{1:1, 2:2} == {2:2, 1:1}"
   ]
  },
  {
   "cell_type": "code",
   "execution_count": 32,
   "metadata": {},
   "outputs": [
    {
     "data": {
      "text/plain": [
       "False"
      ]
     },
     "execution_count": 32,
     "metadata": {},
     "output_type": "execute_result"
    }
   ],
   "source": [
    "'fjai'.isnumeric()"
   ]
  },
  {
   "cell_type": "code",
   "execution_count": 37,
   "metadata": {},
   "outputs": [],
   "source": [
    "try:\n",
    "    a = int('faa',16)\n",
    "except:\n",
    "    print('wo shi sb')\n",
    "    "
   ]
  },
  {
   "cell_type": "code",
   "execution_count": 38,
   "metadata": {},
   "outputs": [
    {
     "data": {
      "text/plain": [
       "4010"
      ]
     },
     "execution_count": 38,
     "metadata": {},
     "output_type": "execute_result"
    }
   ],
   "source": [
    "a"
   ]
  },
  {
   "cell_type": "code",
   "execution_count": null,
   "metadata": {},
   "outputs": [],
   "source": []
  },
  {
   "cell_type": "code",
   "execution_count": null,
   "metadata": {},
   "outputs": [],
   "source": []
  },
  {
   "cell_type": "code",
   "execution_count": null,
   "metadata": {},
   "outputs": [],
   "source": []
  }
 ],
 "metadata": {
  "kernelspec": {
   "display_name": "Python 3",
   "language": "python",
   "name": "python3"
  },
  "language_info": {
   "codemirror_mode": {
    "name": "ipython",
    "version": 3
   },
   "file_extension": ".py",
   "mimetype": "text/x-python",
   "name": "python",
   "nbconvert_exporter": "python",
   "pygments_lexer": "ipython3",
   "version": "3.7.7"
  }
 },
 "nbformat": 4,
 "nbformat_minor": 4
}
