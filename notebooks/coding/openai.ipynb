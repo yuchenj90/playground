{
 "cells": [
  {
   "cell_type": "markdown",
   "id": "a60555ff-e1fb-43da-bd39-8c2b912e1d7c",
   "metadata": {
    "tags": []
   },
   "source": [
    "## Implement a DB class\n",
    "### 1. store and query data \n"
   ]
  },
  {
   "cell_type": "markdown",
   "id": "a6ae55a2-9e7c-4d09-9d22-4cea05cfe2ba",
   "metadata": {},
   "source": [
    "Example:\n",
    "```Python\n",
    "db = DB()\n",
    "db.insert(\"users\", [{\"name\": \"John\", \"birthday\": \"1991-11-01\", \"id\": \"4232543\", \"gender\": \"Male\"}, {\"name\": \"Rose\", \"birthday\": \"1993-03-04\", \"id\": \"3241342\", \"gender\": \"Female\"}])\n",
    "db.query([\"name\",\"gender\"]) \n",
    "# returns [{\"name\": \"John\", \"gender\": \"Male\"}, {\"name\": \"Rose\", \"gender\": \"Female\"}]\n",
    "```"
   ]
  },
  {
   "cell_type": "markdown",
   "id": "927b7988-56f5-4c2e-b607-57dcf4a73a6f",
   "metadata": {},
   "source": [
    "### 2. Support where in the query "
   ]
  },
  {
   "cell_type": "markdown",
   "id": "74f4a552-e037-4601-bad0-c13852f5c2a9",
   "metadata": {
    "tags": []
   },
   "source": [
    "### 3. Support order by"
   ]
  },
  {
   "cell_type": "markdown",
   "id": "b9a94c7f-fe68-4b26-b612-fd6ea03f9967",
   "metadata": {
    "tags": []
   },
   "source": [
    "# 4. How to design DB for better query efficiency?"
   ]
  },
  {
   "cell_type": "code",
   "execution_count": null,
   "id": "bd8c1536-9f94-4685-a5d9-0cc02706c41f",
   "metadata": {},
   "outputs": [],
   "source": [
    "class DB():\n",
    "    def __init__(self):\n",
    "        self.tables = {}\n",
    "    \n",
    "    def \n",
    "    "
   ]
  }
 ],
 "metadata": {
  "kernelspec": {
   "display_name": "Python 3 (ipykernel)",
   "language": "python",
   "name": "python3"
  },
  "language_info": {
   "codemirror_mode": {
    "name": "ipython",
    "version": 3
   },
   "file_extension": ".py",
   "mimetype": "text/x-python",
   "name": "python",
   "nbconvert_exporter": "python",
   "pygments_lexer": "ipython3",
   "version": "3.8.12"
  }
 },
 "nbformat": 4,
 "nbformat_minor": 5
}
