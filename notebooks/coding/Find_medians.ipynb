{
 "cells": [
  {
   "cell_type": "markdown",
   "metadata": {},
   "source": [
    "# Problem 1\n",
    "> Given an array, find the median"
   ]
  },
  {
   "cell_type": "markdown",
   "metadata": {},
   "source": [
    "## Quick select alg\n",
    "> Let n be the array length. Then if we can find the k-th largest number in the array, we can solve the median problem.\n",
    "> To find the k-th largest number in the array, each time find a pivot number randomly and find arrays S and L that contain numbers smaller/larger than the pivot number. \n",
    "> * If |L|>k, then recursively find the k-th element in L\n",
    "> * If n-|S|<k, then recursively find the (k-(n-|S|))-th element in S\n",
    "> * Otherwise, the pivot number must be the k-th element.  \n",
    "> Since each recursive step uses O(n) time, either T(n) = O(n) + T(|S|) or T(n) = O(n) + T(|L|), the average time complexity is O(n)."
   ]
  },
  {
   "cell_type": "code",
   "execution_count": 1,
   "metadata": {},
   "outputs": [],
   "source": [
    "import numpy as np"
   ]
  },
  {
   "cell_type": "code",
   "execution_count": 34,
   "metadata": {},
   "outputs": [],
   "source": [
    "def quickSelect(nums,k):\n",
    "    np.random.seed()\n",
    "    n = len(nums)\n",
    "    i = np.random.randint(low=0, high=n)\n",
    "    p = nums[i]\n",
    "    smaller = []\n",
    "    larger = []\n",
    "    for m in nums:\n",
    "        if m<p:\n",
    "            smaller.append(m)\n",
    "        elif m>p:\n",
    "            larger.append(m)\n",
    "    if len(larger)>=k:\n",
    "        return quickSelect(larger, k)\n",
    "    elif len(smaller)>n-k:\n",
    "        return quickSelect(smaller, k-(n-len(smaller)))\n",
    "    else:\n",
    "        return p"
   ]
  },
  {
   "cell_type": "code",
   "execution_count": 42,
   "metadata": {},
   "outputs": [],
   "source": [
    "def findMedian(nums):\n",
    "    n = len(nums)\n",
    "    m = int(n/2)\n",
    "    if n%2==1:\n",
    "        return quickSelect(nums,m+1)\n",
    "    else:\n",
    "        return (quickSelect(nums,m+1)+quickSelect(nums,m))/2"
   ]
  },
  {
   "cell_type": "code",
   "execution_count": 57,
   "metadata": {},
   "outputs": [],
   "source": [
    "array = [4,3,7,6,5,5,1,4,3,3,5,6,3,3,5,7,6,4,2]"
   ]
  },
  {
   "cell_type": "code",
   "execution_count": 45,
   "metadata": {},
   "outputs": [
    {
     "data": {
      "text/plain": [
       "5"
      ]
     },
     "execution_count": 45,
     "metadata": {},
     "output_type": "execute_result"
    }
   ],
   "source": [
    "quickSelect(array,6)"
   ]
  },
  {
   "cell_type": "code",
   "execution_count": 46,
   "metadata": {},
   "outputs": [
    {
     "data": {
      "text/plain": [
       "4"
      ]
     },
     "execution_count": 46,
     "metadata": {},
     "output_type": "execute_result"
    }
   ],
   "source": [
    "findMedian(array)"
   ]
  },
  {
   "cell_type": "markdown",
   "metadata": {},
   "source": [
    "## Using three-way partition to reduce the space complexity from O(n) to O(1)\n",
    "> In-place change position, keep track of 3 positions, end of small, begin of medium (i.e., equal to pivot), begin of large"
   ]
  },
  {
   "cell_type": "code",
   "execution_count": 75,
   "metadata": {},
   "outputs": [],
   "source": [
    "def quickSelect(nums,k):\n",
    "    np.random.seed()\n",
    "    n = len(nums)\n",
    "    i = np.random.randint(low=0, high=n)\n",
    "    p = nums[i]\n",
    "    posS,posM,posL = 0,n-1,n\n",
    "    nums[i] = nums[n-1]\n",
    "    nums[n-1] = p\n",
    "    \n",
    "    while posS<posM:\n",
    "        if nums[posS]<p:\n",
    "            posS += 1\n",
    "        elif nums[posS]==p:\n",
    "            posM -= 1\n",
    "            nums[posS] = nums[posM]\n",
    "            nums[posM] = p\n",
    "        else:\n",
    "            posL -= 1\n",
    "            posM -= 1\n",
    "            nums[posL] = nums[posS]\n",
    "            nums[posS] = nums[posM]\n",
    "            nums[posM] = p\n",
    "    print(p,nums)\n",
    "    if n-posL>=k:\n",
    "        return quickSelect(nums[posL:],k)\n",
    "    elif posS>n-k:\n",
    "        return quickSelect(nums[:posS],k+posS-n)\n",
    "    else:\n",
    "        return p"
   ]
  },
  {
   "cell_type": "code",
   "execution_count": 84,
   "metadata": {},
   "outputs": [
    {
     "data": {
      "text/plain": [
       "11"
      ]
     },
     "execution_count": 84,
     "metadata": {},
     "output_type": "execute_result"
    }
   ],
   "source": [
    "10|1"
   ]
  },
  {
   "cell_type": "code",
   "execution_count": 76,
   "metadata": {},
   "outputs": [],
   "source": [
    "array = [4,3,7,6,5,5,1,4,3,3,5,6,3,3,5,7,6,4,2]"
   ]
  },
  {
   "cell_type": "code",
   "execution_count": 79,
   "metadata": {},
   "outputs": [
    {
     "name": "stdout",
     "output_type": "stream",
     "text": [
      "7 [3, 3, 2, 3, 3, 3, 1, 4, 4, 4, 5, 5, 6, 5, 6, 5, 6, 7, 7]\n",
      "5 [3, 3, 2, 3, 3, 3, 1, 4, 4, 4, 5, 5, 5, 5, 6, 6, 6]\n"
     ]
    },
    {
     "data": {
      "text/plain": [
       "5"
      ]
     },
     "execution_count": 79,
     "metadata": {},
     "output_type": "execute_result"
    }
   ],
   "source": [
    "quickSelect(array, 6)"
   ]
  },
  {
   "cell_type": "code",
   "execution_count": 85,
   "metadata": {},
   "outputs": [
    {
     "data": {
      "text/plain": [
       "[3, 3, 2, 3, 3, 3, 1, 4, 4, 4, 5, 5, 6, 5, 6, 5, 6, 7, 7]"
      ]
     },
     "execution_count": 85,
     "metadata": {},
     "output_type": "execute_result"
    }
   ],
   "source": [
    "array"
   ]
  },
  {
   "cell_type": "code",
   "execution_count": 90,
   "metadata": {},
   "outputs": [
    {
     "ename": "ValueError",
     "evalue": "zero-size array to reduction operation minimum which has no identity",
     "output_type": "error",
     "traceback": [
      "\u001b[0;31m---------------------------------------------------------------------------\u001b[0m",
      "\u001b[0;31mValueError\u001b[0m                                Traceback (most recent call last)",
      "\u001b[0;32m<ipython-input-90-8995df9868a9>\u001b[0m in \u001b[0;36m<module>\u001b[0;34m\u001b[0m\n\u001b[0;32m----> 1\u001b[0;31m \u001b[0mnp\u001b[0m\u001b[0;34m.\u001b[0m\u001b[0mmin\u001b[0m\u001b[0;34m(\u001b[0m\u001b[0mnp\u001b[0m\u001b[0;34m.\u001b[0m\u001b[0marray\u001b[0m\u001b[0;34m(\u001b[0m\u001b[0;34m[\u001b[0m\u001b[0;34m]\u001b[0m\u001b[0;34m)\u001b[0m\u001b[0;34m)\u001b[0m\u001b[0;34m\u001b[0m\u001b[0;34m\u001b[0m\u001b[0m\n\u001b[0m",
      "\u001b[0;32m<__array_function__ internals>\u001b[0m in \u001b[0;36mamin\u001b[0;34m(*args, **kwargs)\u001b[0m\n",
      "\u001b[0;32m~/learn/playground/env/lib/python3.8/site-packages/numpy/core/fromnumeric.py\u001b[0m in \u001b[0;36mamin\u001b[0;34m(a, axis, out, keepdims, initial, where)\u001b[0m\n\u001b[1;32m   2828\u001b[0m     \u001b[0;36m6\u001b[0m\u001b[0;34m\u001b[0m\u001b[0;34m\u001b[0m\u001b[0m\n\u001b[1;32m   2829\u001b[0m     \"\"\"\n\u001b[0;32m-> 2830\u001b[0;31m     return _wrapreduction(a, np.minimum, 'min', axis, None, out,\n\u001b[0m\u001b[1;32m   2831\u001b[0m                           keepdims=keepdims, initial=initial, where=where)\n\u001b[1;32m   2832\u001b[0m \u001b[0;34m\u001b[0m\u001b[0m\n",
      "\u001b[0;32m~/learn/playground/env/lib/python3.8/site-packages/numpy/core/fromnumeric.py\u001b[0m in \u001b[0;36m_wrapreduction\u001b[0;34m(obj, ufunc, method, axis, dtype, out, **kwargs)\u001b[0m\n\u001b[1;32m     85\u001b[0m                 \u001b[0;32mreturn\u001b[0m \u001b[0mreduction\u001b[0m\u001b[0;34m(\u001b[0m\u001b[0maxis\u001b[0m\u001b[0;34m=\u001b[0m\u001b[0maxis\u001b[0m\u001b[0;34m,\u001b[0m \u001b[0mout\u001b[0m\u001b[0;34m=\u001b[0m\u001b[0mout\u001b[0m\u001b[0;34m,\u001b[0m \u001b[0;34m**\u001b[0m\u001b[0mpasskwargs\u001b[0m\u001b[0;34m)\u001b[0m\u001b[0;34m\u001b[0m\u001b[0;34m\u001b[0m\u001b[0m\n\u001b[1;32m     86\u001b[0m \u001b[0;34m\u001b[0m\u001b[0m\n\u001b[0;32m---> 87\u001b[0;31m     \u001b[0;32mreturn\u001b[0m \u001b[0mufunc\u001b[0m\u001b[0;34m.\u001b[0m\u001b[0mreduce\u001b[0m\u001b[0;34m(\u001b[0m\u001b[0mobj\u001b[0m\u001b[0;34m,\u001b[0m \u001b[0maxis\u001b[0m\u001b[0;34m,\u001b[0m \u001b[0mdtype\u001b[0m\u001b[0;34m,\u001b[0m \u001b[0mout\u001b[0m\u001b[0;34m,\u001b[0m \u001b[0;34m**\u001b[0m\u001b[0mpasskwargs\u001b[0m\u001b[0;34m)\u001b[0m\u001b[0;34m\u001b[0m\u001b[0;34m\u001b[0m\u001b[0m\n\u001b[0m\u001b[1;32m     88\u001b[0m \u001b[0;34m\u001b[0m\u001b[0m\n\u001b[1;32m     89\u001b[0m \u001b[0;34m\u001b[0m\u001b[0m\n",
      "\u001b[0;31mValueError\u001b[0m: zero-size array to reduction operation minimum which has no identity"
     ]
    }
   ],
   "source": [
    "np.min(np.array([]))"
   ]
  },
  {
   "cell_type": "code",
   "execution_count": 89,
   "metadata": {},
   "outputs": [
    {
     "data": {
      "text/plain": [
       "array([ True, False,  True])"
      ]
     },
     "execution_count": 89,
     "metadata": {},
     "output_type": "execute_result"
    }
   ],
   "source": [
    "np.array([9,0,3])>0"
   ]
  },
  {
   "cell_type": "markdown",
   "metadata": {},
   "source": [
    "# Median of medians alg\n",
    "> Quick select only guarantees average running time of $O(n)$. In worst case when always smallest/largest elements are selected as pivot, finding median alg can be $O(n^2)$. Median of medians is the algorithm to reduce the worst-case time complexity to $O(n)$.  \n",
    "> The trick of Median of medians algorithm is to guarantee each time pivot is between the 30th and 70th percentiles. Thus, the size of the array in each recursion must exponentially decrease. Thus it makes the worst time complexity to $O(n)$.\n",
    "> "
   ]
  },
  {
   "cell_type": "code",
   "execution_count": null,
   "metadata": {},
   "outputs": [],
   "source": []
  },
  {
   "cell_type": "code",
   "execution_count": null,
   "metadata": {},
   "outputs": [],
   "source": []
  }
 ],
 "metadata": {
  "kernelspec": {
   "display_name": "Python 3",
   "language": "python",
   "name": "python3"
  },
  "language_info": {
   "codemirror_mode": {
    "name": "ipython",
    "version": 3
   },
   "file_extension": ".py",
   "mimetype": "text/x-python",
   "name": "python",
   "nbconvert_exporter": "python",
   "pygments_lexer": "ipython3",
   "version": "3.8.4"
  }
 },
 "nbformat": 4,
 "nbformat_minor": 4
}
