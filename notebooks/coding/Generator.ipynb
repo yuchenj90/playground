{
 "cells": [
  {
   "cell_type": "markdown",
   "id": "08d14270-b39d-48d8-9282-d57724ccd660",
   "metadata": {},
   "source": [
    "### Description\n",
    "Given a start date `start`, an end date `end`, and a positive integer `step`, return a generator object that yields dates in the range from `start` to `end` inclusive.\n",
    "<br>The value of `step` indicates the number of days between consecutive yielded values.\n",
    "<br>All yielded dates must be in the string format `YYYY-MM-DD`."
   ]
  },
  {
   "cell_type": "markdown",
   "id": "ad6d5ef6-623a-4ea7-8630-a68380732b7b",
   "metadata": {},
   "source": [
    "### Example 1:\n",
    "```\n",
    "Input: start = \"2023-04-01\", end = \"2023-04-04\", step = 1\n",
    "Output: [\"2023-04-01\",\"2023-04-02\",\"2023-04-03\",\"2023-04-04\"]\n",
    "Explanation: \n",
    "const g = dateRangeGenerator(start, end, step);\n",
    "g.next().value // '2023-04-01'\n",
    "g.next().value // '2023-04-02'\n",
    "g.next().value // '2023-04-03'\n",
    "g.next().value // '2023-04-04'\n",
    "```"
   ]
  },
  {
   "cell_type": "markdown",
   "id": "77e76584-fd85-4a94-ac07-94ef0f11b8b1",
   "metadata": {},
   "source": [
    "### Example 2:\n",
    "```\n",
    "Input: start = \"2023-04-10\", end = \"2023-04-20\", step = 3\n",
    "Output: [\"2023-04-10\",\"2023-04-13\",\"2023-04-16\",\"2023-04-19\"]\n",
    "Explanation: \n",
    "const g = dateRangeGenerator(start, end, step);\n",
    "g.next().value // '2023-04-10'\n",
    "g.next().value // '2023-04-13'\n",
    "g.next().value // '2023-04-16'\n",
    "g.next().value // '2023-04-19'\n",
    "```\n"
   ]
  },
  {
   "cell_type": "markdown",
   "id": "252224b2-0caa-49df-9ed2-dff6d27d62d4",
   "metadata": {
    "tags": []
   },
   "source": [
    "### Constraints:\n",
    "- new Date(start) <= new Date(end)\n",
    "- start and end dates are in the string format YYYY-MM-DD\n",
    "- 0 <= The difference in days between the start date and the end date <= 1500\n",
    "- 1 <= step <= 1000"
   ]
  },
  {
   "cell_type": "code",
   "execution_count": 18,
   "id": "ae045889-e4fa-498f-92b4-7512f1fd2bed",
   "metadata": {
    "tags": []
   },
   "outputs": [],
   "source": [
    "from datetime import datetime, timedelta\n",
    "\n",
    "def dateRangeGenerator(start, end, step):\n",
    "    date_format = '%Y-%m-%d'\n",
    "    start_date = datetime.strptime(start, date_format)\n",
    "    end_date = datetime.strptime(end, date_format)\n",
    "    current_date = start_date\n",
    "    while current_date <= end_date:\n",
    "        yield current_date.strftime(date_format)\n",
    "        current_date = current_date + timedelta(days=step)\n",
    "        "
   ]
  },
  {
   "cell_type": "code",
   "execution_count": 22,
   "id": "22e97b5f-f7a0-43bb-aff0-a815657059db",
   "metadata": {
    "tags": []
   },
   "outputs": [
    {
     "name": "stdout",
     "output_type": "stream",
     "text": [
      "2024-02-20\n",
      "2024-02-23\n",
      "2024-02-26\n",
      "2024-02-29\n"
     ]
    }
   ],
   "source": [
    "g = dateRangeGenerator(\"2024-02-20\", \"2024-03-01\", 3);\n",
    "\n",
    "for date in g:\n",
    "    print(date)\n"
   ]
  },
  {
   "cell_type": "code",
   "execution_count": 36,
   "id": "4e6cc438-bc4e-4793-aed9-43d7bd11cc72",
   "metadata": {
    "tags": []
   },
   "outputs": [
    {
     "name": "stdout",
     "output_type": "stream",
     "text": [
      "2023-02-20\n",
      "2023-02-25\n"
     ]
    },
    {
     "ename": "StopIteration",
     "evalue": "",
     "output_type": "error",
     "traceback": [
      "\u001b[0;31m---------------------------------------------------------------------------\u001b[0m",
      "\u001b[0;31mStopIteration\u001b[0m                             Traceback (most recent call last)",
      "Cell \u001b[0;32mIn[36], line 5\u001b[0m\n\u001b[1;32m      3\u001b[0m \u001b[38;5;28mprint\u001b[39m(\u001b[38;5;28mnext\u001b[39m(g))\n\u001b[1;32m      4\u001b[0m \u001b[38;5;28mprint\u001b[39m(\u001b[38;5;28mnext\u001b[39m(g))\n\u001b[0;32m----> 5\u001b[0m \u001b[38;5;28mprint\u001b[39m(\u001b[38;5;28;43mnext\u001b[39;49m\u001b[43m(\u001b[49m\u001b[43mg\u001b[49m\u001b[43m)\u001b[49m)\n",
      "\u001b[0;31mStopIteration\u001b[0m: "
     ]
    }
   ],
   "source": [
    "g = dateRangeGenerator(\"2023-02-20\", \"2023-03-01\", 5)\n",
    "\n",
    "print(next(g))\n",
    "print(next(g))\n",
    "print(next(g))"
   ]
  },
  {
   "cell_type": "code",
   "execution_count": null,
   "id": "4ee9fe22-ba3b-4f60-a9ac-578846629b38",
   "metadata": {},
   "outputs": [],
   "source": []
  },
  {
   "cell_type": "code",
   "execution_count": null,
   "id": "959b355f-45e3-410c-a632-dbeb418297f2",
   "metadata": {},
   "outputs": [],
   "source": []
  },
  {
   "cell_type": "code",
   "execution_count": null,
   "id": "5c666d16-62f0-4f76-ac60-5c5c59458ea1",
   "metadata": {},
   "outputs": [],
   "source": []
  }
 ],
 "metadata": {
  "kernelspec": {
   "display_name": "Python 3 (ipykernel)",
   "language": "python",
   "name": "python3"
  },
  "language_info": {
   "codemirror_mode": {
    "name": "ipython",
    "version": 3
   },
   "file_extension": ".py",
   "mimetype": "text/x-python",
   "name": "python",
   "nbconvert_exporter": "python",
   "pygments_lexer": "ipython3",
   "version": "3.8.12"
  }
 },
 "nbformat": 4,
 "nbformat_minor": 5
}
