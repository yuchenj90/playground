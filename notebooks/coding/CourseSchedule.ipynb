{
 "cells": [
  {
   "cell_type": "markdown",
   "metadata": {},
   "source": [
    "## Leetcode 207 Course Schedule\n",
    "> There are a total of numCourses courses you have to take, labeled from $0$ to $numCourses-1$. Some courses may have prerequisites, for example to take course $0$ you have to first take course $1$, which is expressed as a pair: $[0,1]$.  \n",
    "> Given the total number of courses and a list of prerequisite pairs, is it possible for you to finish all courses?  ($1 <= numCourses <= 10^5$)  \n",
    "> **Example:**  \n",
    "> Input: numCourses = 3, prerequisites = [[0,1],[0,2],[1,2]]  \n",
    "> Output: True  \n",
    "> Explaination: You can finish courses in the order of 2,1,0  \n",
    "> Input: numCourses = 3, prerequisites = [[0,1],[1,0]]]  \n",
    "> Output: False\n"
   ]
  },
  {
   "cell_type": "markdown",
   "metadata": {},
   "source": [
    "## Solution\n",
    "> Construct a directed graph as follows: each course is node, each prerequisite $[i,j]$ is directed edge from $i$ to $j$. The problem is equivalent to detect if there is directed cycle in the graph. \n",
    "> To detect cycles, we start from an arbitrary node and perform a Depth First Search. If there exists a back edge, then a cycle is detected. If not, we detected a connected component. Continue until all nodes are visited."
   ]
  },
  {
   "cell_type": "code",
   "execution_count": 9,
   "metadata": {},
   "outputs": [],
   "source": [
    "def canFinish(numCourses, prerequisites):\n",
    "    def DFS(node,edges):\n",
    "        s = [node]\n",
    "        visited={node:True}\n",
    "        while len(s)>0:\n",
    "            n = s.pop()\n",
    "            if n in edges:\n",
    "                for m in edges[n]:\n",
    "                    if m==node:\n",
    "                        return False,{}\n",
    "                    if m not in visited:\n",
    "                        s.append(m)\n",
    "                        visited[m] = True\n",
    "            print(s)\n",
    "        return True,visited\n",
    "    \n",
    "    \n",
    "    visited = {}\n",
    "    edge_dict = {}\n",
    "    for x in prerequisites:\n",
    "        if x[0] in edge_dict:\n",
    "            edge_dict[x[0]].append(x[1])\n",
    "        else:\n",
    "            edge_dict[x[0]] = [x[1]]\n",
    "                \n",
    "    for start in range(numCourses):\n",
    "        if start not in visited:\n",
    "            res, extra = DFS(start, edge_dict)\n",
    "            if not res:\n",
    "                return res\n",
    "            else:\n",
    "                visited.update(extra)\n",
    "        print(start,visited)\n",
    "    return True"
   ]
  },
  {
   "cell_type": "code",
   "execution_count": 64,
   "metadata": {},
   "outputs": [],
   "source": [
    "def canFinish(numCourses, prerequisites):\n",
    "    def DFS(edges, visited, node, has_cycle):\n",
    "        '''\n",
    "            DFS in recursion, if has_cycle detected, jump out of the recursion immediately\n",
    "        '''\n",
    "        if has_cycle[0]:\n",
    "            return\n",
    "        else:\n",
    "            if node in edges:\n",
    "                for k in edges[node]:\n",
    "                    if visited[k]==2:   # node k already in current path\n",
    "                        has_cycle[0] = True\n",
    "                        return\n",
    "                    else:\n",
    "                        visited[k] = 2\n",
    "                        DFS(edges, visited, k, has_cycle)\n",
    "                        visited[k] = 1\n",
    "            \n",
    "    visited = {i:0 for i in range(numCourses)} # 0: nodes have not visited, 1: nodes visited, 2: nodes in current path\n",
    "    edge_dict = {}\n",
    "    for x in prerequisites:\n",
    "        if x[0] in edge_dict:\n",
    "            edge_dict[x[0]].append(x[1])\n",
    "        else:\n",
    "            edge_dict[x[0]] = [x[1]]\n",
    "                \n",
    "    for start in range(numCourses):\n",
    "        if visited[start]==0:\n",
    "            has_cycle = [False]\n",
    "            DFS(edge_dict, visited, start, has_cycle)\n",
    "        if has_cycle[0]:\n",
    "            return False\n",
    "    \n",
    "    return True\n",
    "    \n",
    "    "
   ]
  },
  {
   "cell_type": "code",
   "execution_count": 5,
   "metadata": {},
   "outputs": [
    {
     "data": {
      "text/plain": [
       "True"
      ]
     },
     "execution_count": 5,
     "metadata": {},
     "output_type": "execute_result"
    }
   ],
   "source": [
    "canFinish(12, [[0,1],[1,2],[0,2],[5,6],[6,8],[8,7],[8,3],[10,2],[2,4],[4,8]])"
   ]
  },
  {
   "cell_type": "code",
   "execution_count": 10,
   "metadata": {},
   "outputs": [
    {
     "name": "stdout",
     "output_type": "stream",
     "text": [
      "[1, 2]\n",
      "[1, 4]\n",
      "[1, 8]\n",
      "[1, 7, 5]\n",
      "[1, 7, 6]\n",
      "[1, 7]\n",
      "[1]\n",
      "[]\n",
      "0 {0: True, 1: True, 2: True, 4: True, 8: True, 7: True, 5: True, 6: True}\n",
      "1 {0: True, 1: True, 2: True, 4: True, 8: True, 7: True, 5: True, 6: True}\n",
      "2 {0: True, 1: True, 2: True, 4: True, 8: True, 7: True, 5: True, 6: True}\n",
      "[]\n",
      "3 {0: True, 1: True, 2: True, 4: True, 8: True, 7: True, 5: True, 6: True, 3: True}\n",
      "4 {0: True, 1: True, 2: True, 4: True, 8: True, 7: True, 5: True, 6: True, 3: True}\n",
      "5 {0: True, 1: True, 2: True, 4: True, 8: True, 7: True, 5: True, 6: True, 3: True}\n",
      "6 {0: True, 1: True, 2: True, 4: True, 8: True, 7: True, 5: True, 6: True, 3: True}\n",
      "7 {0: True, 1: True, 2: True, 4: True, 8: True, 7: True, 5: True, 6: True, 3: True}\n",
      "8 {0: True, 1: True, 2: True, 4: True, 8: True, 7: True, 5: True, 6: True, 3: True}\n",
      "[]\n",
      "9 {0: True, 1: True, 2: True, 4: True, 8: True, 7: True, 5: True, 6: True, 3: True, 9: True}\n",
      "[2]\n",
      "[4]\n",
      "[8]\n",
      "[7, 5]\n",
      "[7, 6]\n",
      "[7]\n",
      "[]\n",
      "10 {0: True, 1: True, 2: True, 4: True, 8: True, 7: True, 5: True, 6: True, 3: True, 9: True, 10: True}\n",
      "[]\n",
      "11 {0: True, 1: True, 2: True, 4: True, 8: True, 7: True, 5: True, 6: True, 3: True, 9: True, 10: True, 11: True}\n"
     ]
    },
    {
     "data": {
      "text/plain": [
       "True"
      ]
     },
     "execution_count": 10,
     "metadata": {},
     "output_type": "execute_result"
    }
   ],
   "source": [
    "canFinish(12, [[0,1],[1,2],[0,2],[5,6],[6,8],[8,7],[8,5],[10,2],[2,4],[4,8]])"
   ]
  },
  {
   "cell_type": "code",
   "execution_count": null,
   "metadata": {},
   "outputs": [],
   "source": []
  },
  {
   "cell_type": "markdown",
   "metadata": {},
   "source": [
    "## Leetcode 210: Course Schedule II\n",
    "> There are a total of $n$ courses you have to take labelled from $0$ to $n - 1$. Some courses may have prerequisites, for example, if prerequisites[i] = [ai, bi], this means you must take the course bi before the course ai.  \n",
    "> Given the total number of courses numCourses and a list of the prerequisite pairs, return the ordering of courses you should take to finish all courses. If there are many valid answers, return any of them. If it is impossible to finish all courses, return an empty array.  \n",
    "> **Example:**  \n",
    "> Input: numCourses = 4, prerequisites = [[1,0],[2,0],[3,1],[3,2]]  \n",
    "> Output: [0,2,1,3]\n",
    "\n",
    " \n",
    "\n"
   ]
  },
  {
   "cell_type": "markdown",
   "metadata": {},
   "source": [
    "## Solution: \n",
    "> * topological sort problem, see https://en.wikipedia.org/wiki/Topological_sorting#:~:text=In%20computer%20science%2C%20a%20topological,before%20v%20in%20the%20ordering.\n",
    "> * Here we use Kahn's algorithm: Find a list of \"start nodes\" which have no indegree edges and insert them into final set; Then update the indegree of the remainning nodes and repeat the process. The topological sort can be found after all nodes in the final set. If at some point we can't find nodes to insert, the graph must be cyclic."
   ]
  },
  {
   "cell_type": "code",
   "execution_count": 72,
   "metadata": {},
   "outputs": [],
   "source": [
    "def findOrder(numCourses, prerequisites):\n",
    "    edge_dict = {}\n",
    "    indeg = [0 for _ in range(numCourses)]\n",
    "    for x in prerequisites:\n",
    "        if x[1] in edge_dict:\n",
    "            edge_dict[x[1]].append(x[0])\n",
    "        else:\n",
    "            edge_dict[x[1]]=[x[0]]\n",
    "        indeg[x[0]] += 1\n",
    "    \n",
    "    res = []\n",
    "    cand = []\n",
    "    for k in range(numCourses):\n",
    "        if indeg[k]==0:\n",
    "            cand.append(k)\n",
    "            \n",
    "    while len(res)<numCourses:\n",
    "        if len(cand)>0:\n",
    "            res.extend(cand)\n",
    "            new_cand = []\n",
    "            for k in cand:\n",
    "                if k in edge_dict:\n",
    "                    for m in edge_dict[k]:\n",
    "                        indeg[m] -= 1\n",
    "                        if indeg[m]==0:\n",
    "                            new_cand.append(m)\n",
    "            cand = new_cand.copy()\n",
    "            \n",
    "        else:\n",
    "            return []\n",
    "        \n",
    "    return res"
   ]
  },
  {
   "cell_type": "code",
   "execution_count": 74,
   "metadata": {},
   "outputs": [
    {
     "data": {
      "text/plain": [
       "[3, 7, 9, 11, 8, 6, 4, 5, 2, 1, 10, 0]"
      ]
     },
     "execution_count": 74,
     "metadata": {},
     "output_type": "execute_result"
    }
   ],
   "source": [
    "findOrder(12, [[0,1],[1,2],[0,2],[5,6],[6,8],[8,7],[8,3],[10,2],[2,4],[4,8]])"
   ]
  },
  {
   "cell_type": "code",
   "execution_count": 76,
   "metadata": {},
   "outputs": [
    {
     "data": {
      "text/plain": [
       "[]"
      ]
     },
     "execution_count": 76,
     "metadata": {},
     "output_type": "execute_result"
    }
   ],
   "source": [
    "findOrder(12, [[0,1],[1,2],[0,2],[5,6],[6,8],[8,7],[8,0],[10,2],[2,4],[4,8]])"
   ]
  },
  {
   "cell_type": "markdown",
   "metadata": {},
   "source": [
    "## Leetcode 630: Course Schedule III\n",
    "> There are $n$ different online courses numbered from $1$ to $n$. Each course has some duration(course length) $t$ and closed on $d$-th day. A course should be taken continuously for $t$ days and must be finished before or on the $d$-th day. You will start at the 1st day.  \n",
    "> Given $n$ online courses represented by pairs $(t,d)$, your task is to find the maximal number of courses that can be taken.  \n",
    "> The integer $1 <= d, t, n <= 10,000$.  \n",
    "> **Example:**  \n",
    "> Input: [[100, 200], [200, 1300], [1000, 1250], [2000, 3200]]  \n",
    "> Output: 3\n"
   ]
  },
  {
   "cell_type": "markdown",
   "metadata": {},
   "source": [
    "## Solution1: recursion\n",
    "> Sort according to end time of the courses. The max number of days we got initially is the max of the course end times.   \n",
    "> Each time, we consider the last course. If it can be take (duration < current_maxday), we can choose either take it or not. If we take it, the max number of days to finish the previous courses is updated to current_maxday - duration of the last course. If we don't take it, the keep the same current_maxday and consider courses before it.   \n",
    "> We can write a recursion to compute the max number of courses that can be taken. The time complexity in the worst case is O(2^n)."
   ]
  },
  {
   "cell_type": "code",
   "execution_count": 84,
   "metadata": {},
   "outputs": [],
   "source": [
    "def scheduleCourse(courses):\n",
    "    courses_sorted = sorted(courses, key=lambda x:x[1])\n",
    "    \n",
    "    def get_max_courses(courses, deadline):\n",
    "        if len(courses)==0:\n",
    "            return 0\n",
    "        else:\n",
    "            effective_ddl = min(deadline, courses[-1][1])\n",
    "            if courses[-1][0]<=effective_ddl: # can take the last course\n",
    "                return max(get_max_courses(courses[0:-1], effective_ddl), 1+get_max_courses(courses[0:-1], effective_ddl-courses[-1][0]))\n",
    "            else:\n",
    "                return get_max_courses(courses[0:-1], effective_ddl)\n",
    "            \n",
    "    return get_max_courses(courses_sorted, courses_sorted[-1][1])"
   ]
  },
  {
   "cell_type": "code",
   "execution_count": 85,
   "metadata": {},
   "outputs": [],
   "source": [
    "test = [[100, 200], [200, 1300], [1000, 1250], [2000, 3200]] "
   ]
  },
  {
   "cell_type": "code",
   "execution_count": 86,
   "metadata": {},
   "outputs": [
    {
     "data": {
      "text/plain": [
       "3"
      ]
     },
     "execution_count": 86,
     "metadata": {},
     "output_type": "execute_result"
    }
   ],
   "source": [
    "scheduleCourse(test)"
   ]
  },
  {
   "cell_type": "code",
   "execution_count": 88,
   "metadata": {},
   "outputs": [
    {
     "data": {
      "text/plain": [
       "4"
      ]
     },
     "execution_count": 88,
     "metadata": {},
     "output_type": "execute_result"
    }
   ],
   "source": [
    "scheduleCourse([[100, 200], [200, 1300], [1000, 1250], [2000, 3200], [300,1600]])"
   ]
  },
  {
   "cell_type": "markdown",
   "metadata": {},
   "source": [
    "## Solution 2: Dynamic programming\n",
    "> Similarly sort courses according to their ending time. \n",
    "> Use $dp[i][t]$ to denote the max number of courses one can take from the first i courses with max course ending time t. Let c be the vector of duration and deadline of course i, then the recursion is  \n",
    "> $dp[i][t] = \\max\\{dp[i-1][t], 1 + dp[i-1][\\min(t,c[1])-c[0]] \\}$ if $\\min(t, c[1])>=c[0]$ and $dp[i][t] = dp[i-1][t]$ otherwise. \n",
    "> Time complexity is $O(nd)$"
   ]
  },
  {
   "cell_type": "code",
   "execution_count": 115,
   "metadata": {},
   "outputs": [],
   "source": [
    "def scheduleCourse(courses):\n",
    "    courses_sorted = sorted(courses, key=lambda x:x[1])\n",
    "    n = len(courses)\n",
    "    maxt = courses_sorted[-1][1]\n",
    "    \n",
    "    dp = [[0 for _ in range(maxt+1)]]\n",
    "    \n",
    "    for i in range(n):\n",
    "        c = courses_sorted[i]\n",
    "        l = []\n",
    "        for t in range(maxt+1):\n",
    "            if min(t, c[1])<c[0]:\n",
    "                l.append(dp[i][t])\n",
    "            else:\n",
    "                l.append(max(dp[i][t], 1+dp[i][min(t,c[1])-c[0]]))\n",
    "        dp.append(l)\n",
    "    return dp[n][maxt]"
   ]
  },
  {
   "cell_type": "code",
   "execution_count": 116,
   "metadata": {},
   "outputs": [
    {
     "data": {
      "text/plain": [
       "2"
      ]
     },
     "execution_count": 116,
     "metadata": {},
     "output_type": "execute_result"
    }
   ],
   "source": [
    "scheduleCourse([[1,2],[2,3]])"
   ]
  },
  {
   "cell_type": "code",
   "execution_count": 117,
   "metadata": {},
   "outputs": [
    {
     "data": {
      "text/plain": [
       "4"
      ]
     },
     "execution_count": 117,
     "metadata": {},
     "output_type": "execute_result"
    }
   ],
   "source": [
    "scheduleCourse([[100, 200], [200, 1300], [1000, 1250], [2000, 3200], [300,1600]])"
   ]
  },
  {
   "cell_type": "markdown",
   "metadata": {},
   "source": [
    "## Solution 3: Greedy\n",
    "> First, **the courses in the optimal solution must appear in ascending order with respect to their end time.** Otherwise, if $e_a>e_b$ but a is before b, then we can flip a and b (ending time of b will be earlier, ending time of a = current ending time of b < e_b < e_a so it is still valid).  \n",
    "> Use the above statement, we sort all the courses by their ending time e. We maintain the current feasible set of courses and consider one more course at a time from left to right.  \n",
    "> If at some point we cannot add the new course (only need to check if current end time + new course duration > new course end time), then one course must be deleted. We greedily delete the one with the longest duration. Reasons are:\n",
    "> 1. The remaining course can be taken since i). orginal courses before that course has exactly the same end time; ii). original courses after that course has ealier end time than before; iii). since the max duration has been replaced with the new course duration, the overall finish time must be earlier than original ending time, which is earlier than the new course end time. \n",
    "> 2. By removing the longest duration course to eliminate conflicts, we ensure that we have saved most time for the remaining courses, that is, **the remaining courses can start at an earliest possible time.**\n",
    "\n",
    "> To effectively compute the course with the longest duration in the list, we maintain a maxheap. Time complexity of the algorithm is $O(n\\log n)$."
   ]
  },
  {
   "cell_type": "code",
   "execution_count": 121,
   "metadata": {},
   "outputs": [
    {
     "data": {
      "text/plain": [
       "\u001b[0;31mSignature:\u001b[0m \u001b[0mhq\u001b[0m\u001b[0;34m.\u001b[0m\u001b[0mheappushpop\u001b[0m\u001b[0;34m(\u001b[0m\u001b[0mheap\u001b[0m\u001b[0;34m,\u001b[0m \u001b[0mitem\u001b[0m\u001b[0;34m,\u001b[0m \u001b[0;34m/\u001b[0m\u001b[0;34m)\u001b[0m\u001b[0;34m\u001b[0m\u001b[0;34m\u001b[0m\u001b[0m\n",
       "\u001b[0;31mDocstring:\u001b[0m\n",
       "Push item on the heap, then pop and return the smallest item from the heap.\n",
       "\n",
       "The combined action runs more efficiently than heappush() followed by\n",
       "a separate call to heappop().\n",
       "\u001b[0;31mType:\u001b[0m      builtin_function_or_method\n"
      ]
     },
     "metadata": {},
     "output_type": "display_data"
    }
   ],
   "source": [
    "import heapq as hq\n",
    "hq.heappushpop?"
   ]
  },
  {
   "cell_type": "code",
   "execution_count": 122,
   "metadata": {},
   "outputs": [],
   "source": [
    "import heapq as hq\n",
    "def scheduleCourse(courses):\n",
    "    courses_sorted = sorted(courses, key=lambda x:x[1])\n",
    "    cand_duration = []\n",
    "    maxday = 0\n",
    "    n = len(courses)\n",
    "    \n",
    "    for c in courses_sorted:\n",
    "        if c[0]+maxday > c[1]: # cannot schedule course c\n",
    "            maxduration = -hq.heappushpop(cand_duration, -c[0])\n",
    "            maxday = maxday - maxduration + c[0]\n",
    "        else:\n",
    "            maxday = maxday + c[0]\n",
    "            hq.heappush(cand_duration, -c[0])\n",
    "    return len(cand_duration)"
   ]
  },
  {
   "cell_type": "code",
   "execution_count": 123,
   "metadata": {},
   "outputs": [
    {
     "data": {
      "text/plain": [
       "4"
      ]
     },
     "execution_count": 123,
     "metadata": {},
     "output_type": "execute_result"
    }
   ],
   "source": [
    "scheduleCourse([[100, 200], [200, 1300], [1000, 1250], [2000, 3200], [300,1600]])"
   ]
  },
  {
   "cell_type": "code",
   "execution_count": null,
   "metadata": {},
   "outputs": [],
   "source": [
    "Leetcode 300"
   ]
  }
 ],
 "metadata": {
  "kernelspec": {
   "display_name": "Python 3",
   "language": "python",
   "name": "python3"
  },
  "language_info": {
   "codemirror_mode": {
    "name": "ipython",
    "version": 3
   },
   "file_extension": ".py",
   "mimetype": "text/x-python",
   "name": "python",
   "nbconvert_exporter": "python",
   "pygments_lexer": "ipython3",
   "version": "3.8.6"
  }
 },
 "nbformat": 4,
 "nbformat_minor": 4
}
