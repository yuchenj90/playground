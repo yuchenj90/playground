{
 "cells": [
  {
   "cell_type": "markdown",
   "metadata": {},
   "source": [
    "# Find Kth smallest number in a unsorted list"
   ]
  },
  {
   "cell_type": "raw",
   "metadata": {},
   "source": [
    "Alg:\n",
    "\n",
    "Find a pivot value, go through the list to find three groups: smaller than val, equals to val and larger than val\n",
    "1) If smaller group has more than k values, the kth smallest must in that group\n",
    "2) If smaller + equal groups has less than k values, then the kth smallest must in larger group\n",
    "3) Otherwise, val is the kth smallest value\n",
    "\n",
    "Time complexity:\n",
    "T(n) = T(alpha*n) + O(n)"
   ]
  },
  {
   "cell_type": "code",
   "execution_count": null,
   "metadata": {},
   "outputs": [],
   "source": []
  },
  {
   "cell_type": "code",
   "execution_count": 1,
   "metadata": {},
   "outputs": [],
   "source": [
    "import random\n",
    "import numpy as np"
   ]
  },
  {
   "cell_type": "code",
   "execution_count": 58,
   "metadata": {},
   "outputs": [],
   "source": [
    "def find_kth_smallest(nums,start,end,k):\n",
    "    \n",
    "    def _swap(i,j,nums):\n",
    "        k = nums[i]\n",
    "        nums[i] = nums[j]\n",
    "        nums[j] = k\n",
    "    \n",
    "    def _three_type_sort(nums, start, end, i):\n",
    "        '''\n",
    "            using the i-th element in nums as pivot, in-place modify nums such that left is less than pivot, right is more than pivot\n",
    "        '''\n",
    "        val = nums[i]\n",
    "        pos = start\n",
    "        smaller_idx = start\n",
    "        larger_idx = end\n",
    "        \n",
    "        while (pos<=larger_idx):\n",
    "            if nums[pos]<val:\n",
    "                _swap(pos,smaller_idx,nums)\n",
    "                smaller_idx += 1\n",
    "                pos += 1\n",
    "            elif nums[pos]>val:\n",
    "                _swap(pos,larger_idx,nums)\n",
    "                larger_idx -= 1\n",
    "            else:\n",
    "                pos += 1\n",
    "                \n",
    "        return smaller_idx-start, end-larger_idx\n",
    "    \n",
    "    #print(\"\\n\")\n",
    "    #print(nums)\n",
    "    #print(start,end,k)\n",
    "    pos = random.randint(start, end)\n",
    "    val = nums[pos]\n",
    "    [smaller_count,larger_count] = _three_type_sort(nums, start, end, pos)\n",
    "    #print(val,smaller_count, larger_count, end - start + 1 - larger_count)\n",
    "    \n",
    "    if smaller_count >= k:\n",
    "        return find_kth_smallest(nums, start, start+smaller_count-1, k)\n",
    "    elif end - start + 1 - larger_count < k:\n",
    "        return find_kth_smallest(nums, end-larger_count+1, end, k-(end-start+1-larger_count))\n",
    "    else:\n",
    "        return val"
   ]
  },
  {
   "cell_type": "code",
   "execution_count": null,
   "metadata": {},
   "outputs": [],
   "source": []
  },
  {
   "cell_type": "code",
   "execution_count": 71,
   "metadata": {},
   "outputs": [],
   "source": [
    "## unit test\n",
    "def check(nums,k,val):\n",
    "    smaller_count = 0\n",
    "    nolarger_count = 0\n",
    "    for x in nums:\n",
    "        if x<val:\n",
    "            smaller_count += 1\n",
    "            nolarger_count += 1\n",
    "        elif x==val:\n",
    "            nolarger_count += 1\n",
    "    if (smaller_count<k) and (nolarger_count>=k):\n",
    "        return True\n",
    "    else:\n",
    "        return False\n",
    "    \n",
    "def unit_test(m):\n",
    "    # generate random test cases\n",
    "    leng = np.random.randint(low=1,high=100,size=m)\n",
    "    for l in leng:\n",
    "        nums = np.random.randint(low=1,high=100,size=l)\n",
    "        if l==1:\n",
    "            k=1\n",
    "        else:\n",
    "            k = np.random.randint(low=1,high=l)\n",
    "        #print(len(nums),k)\n",
    "        assert check(list(nums),k,find_kth_smallest(list(nums),0,len(nums)-1,k)), \"Wrong Answer!\"\n",
    "    print('All test cases passed!')"
   ]
  },
  {
   "cell_type": "code",
   "execution_count": 72,
   "metadata": {},
   "outputs": [
    {
     "name": "stdout",
     "output_type": "stream",
     "text": [
      "All test cases passed!\n"
     ]
    }
   ],
   "source": [
    "unit_test(10000)"
   ]
  },
  {
   "cell_type": "code",
   "execution_count": 115,
   "metadata": {},
   "outputs": [],
   "source": [
    "nums.sort()"
   ]
  },
  {
   "cell_type": "code",
   "execution_count": 119,
   "metadata": {},
   "outputs": [
    {
     "data": {
      "text/plain": [
       "[1, 1, 1, 1, 1, 2, 2, 2, 2, 2, 3, 3, 3, 4, 4, 4]"
      ]
     },
     "execution_count": 119,
     "metadata": {},
     "output_type": "execute_result"
    }
   ],
   "source": [
    "nums"
   ]
  },
  {
   "cell_type": "code",
   "execution_count": 121,
   "metadata": {},
   "outputs": [
    {
     "data": {
      "text/plain": [
       "[1, 1, 1, 1, 1, 2, 2, 2, 2, 2, 3, 3, 3, 4, 4, 4]"
      ]
     },
     "execution_count": 121,
     "metadata": {},
     "output_type": "execute_result"
    }
   ],
   "source": [
    "b"
   ]
  },
  {
   "cell_type": "code",
   "execution_count": 122,
   "metadata": {},
   "outputs": [],
   "source": [
    "nums[4]=3"
   ]
  },
  {
   "cell_type": "code",
   "execution_count": 118,
   "metadata": {},
   "outputs": [
    {
     "data": {
      "text/plain": [
       "\u001b[0;31mSignature:\u001b[0m \u001b[0mrandom\u001b[0m\u001b[0;34m.\u001b[0m\u001b[0mrandint\u001b[0m\u001b[0;34m(\u001b[0m\u001b[0ma\u001b[0m\u001b[0;34m,\u001b[0m \u001b[0mb\u001b[0m\u001b[0;34m)\u001b[0m\u001b[0;34m\u001b[0m\u001b[0;34m\u001b[0m\u001b[0m\n",
       "\u001b[0;31mDocstring:\u001b[0m\n",
       "Return random integer in range [a, b], including both end points.\n",
       "        \n",
       "\u001b[0;31mFile:\u001b[0m      /usr/local/opt/python/Frameworks/Python.framework/Versions/3.7/lib/python3.7/random.py\n",
       "\u001b[0;31mType:\u001b[0m      method\n"
      ]
     },
     "metadata": {},
     "output_type": "display_data"
    }
   ],
   "source": [
    "random.randint?"
   ]
  },
  {
   "cell_type": "code",
   "execution_count": null,
   "metadata": {},
   "outputs": [],
   "source": []
  }
 ],
 "metadata": {
  "kernelspec": {
   "display_name": "Python 3",
   "language": "python",
   "name": "python3"
  },
  "language_info": {
   "codemirror_mode": {
    "name": "ipython",
    "version": 3
   },
   "file_extension": ".py",
   "mimetype": "text/x-python",
   "name": "python",
   "nbconvert_exporter": "python",
   "pygments_lexer": "ipython3",
   "version": "3.7.7"
  }
 },
 "nbformat": 4,
 "nbformat_minor": 4
}
