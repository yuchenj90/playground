{
 "cells": [
  {
   "cell_type": "markdown",
   "id": "5b0dbcfb-6ca4-4573-abb0-a8204bf25d54",
   "metadata": {},
   "source": [
    "### 772. Basic Calculator III\n",
    "Implement a basic calculator to evaluate a simple expression string.\n",
    "\n",
    "The expression string may contain open ( and closing parentheses ), the plus + or minus sign -, non-negative integers and empty spaces .\n",
    "\n",
    "The expression string contains only non-negative integers, +, -, *, / operators , open ( and closing parentheses ) and empty spaces . The integer division should truncate toward zero.\n",
    "\n",
    "You may assume that the given expression is always valid. All intermediate results will be in the range of [-2147483648, 2147483647].\n",
    "\n",
    "Some examples:\n",
    "```\n",
    "\"1 + 1\" = 2\n",
    "\" 6-4 / 2 \" = 4\n",
    "\"2*(5+5*2)/3+(6/2+8)\" = 21\n",
    "\"(2+6* 3+5- (3*14/7+2)*5)+3\"=-12\n",
    "```\n",
    "\n"
   ]
  },
  {
   "cell_type": "code",
   "execution_count": 1,
   "id": "7e77fe85-5ed8-4d0d-8da1-81b7f98bf347",
   "metadata": {
    "tags": []
   },
   "outputs": [],
   "source": [
    "def BasicCalculator(expr: str) -> int:\n",
    "    def recur(stack):\n",
    "        num = 0\n",
    "        res = 0\n",
    "        while len(stack) > 0:\n",
    "            x = stack.pop()\n",
    "            if x == '+':\n",
    "                res += num\n",
    "                num = 0\n",
    "            elif x == '-':\n",
    "                res -= num\n",
    "                num = 0\n",
    "            elif x in ['*', '/']:\n",
    "                y = stack.pop()\n",
    "                if y == ')':\n",
    "                    if x=='*':\n",
    "                        tmp, stack = recur(stack)\n",
    "                        num = tmp * num\n",
    "                    else:\n",
    "                        tmp, stack = recur(stack)\n",
    "                        num = tmp // num\n",
    "                else:\n",
    "                    if x == '*':\n",
    "                        num = y * num\n",
    "                    else:\n",
    "                        num = y // num\n",
    "            elif x=='(':\n",
    "                res += num\n",
    "                return res, stack\n",
    "            elif x==')':\n",
    "                num, stack = recur(stack)\n",
    "            else:\n",
    "                num = x\n",
    "        res += num\n",
    "        return res, stack\n",
    "                \n",
    "        \n",
    "    expr = expr.replace(' ','')\n",
    "    stack = []\n",
    "    num = None\n",
    "    \n",
    "    for ch in expr:\n",
    "        if ch in ['(',')','+','-','*','/']:\n",
    "            if num is not None:\n",
    "                stack.append(num)\n",
    "                num = None\n",
    "            if ch == '(':\n",
    "                pos = len(stack)\n",
    "                \n",
    "            stack.append(ch)\n",
    "        else:\n",
    "            if num is None:\n",
    "                num = int(ch)\n",
    "            else:\n",
    "                num = num*10 + int(ch)\n",
    "    if num is not None:\n",
    "        stack.append(num)\n",
    "    return recur(stack)[0]\n",
    "                "
   ]
  },
  {
   "cell_type": "code",
   "execution_count": 2,
   "id": "3e9b6eeb-b0d9-4624-84f1-817201829ed4",
   "metadata": {
    "tags": []
   },
   "outputs": [
    {
     "data": {
      "text/plain": [
       "-12"
      ]
     },
     "execution_count": 2,
     "metadata": {},
     "output_type": "execute_result"
    }
   ],
   "source": [
    "BasicCalculator(\"(2+6* 3+5- (3*14/7+2)*5)+3\")"
   ]
  },
  {
   "cell_type": "code",
   "execution_count": 3,
   "id": "a887b99e-5490-4527-bade-286a53298543",
   "metadata": {
    "tags": []
   },
   "outputs": [
    {
     "data": {
      "text/plain": [
       "21"
      ]
     },
     "execution_count": 3,
     "metadata": {},
     "output_type": "execute_result"
    }
   ],
   "source": [
    "BasicCalculator(\"2*(5+5*2)/3+(6/2+8)\")"
   ]
  },
  {
   "cell_type": "code",
   "execution_count": 4,
   "id": "c68c53bf-c090-405c-8bd1-95998bc13af7",
   "metadata": {
    "tags": []
   },
   "outputs": [
    {
     "data": {
      "text/plain": [
       "6"
      ]
     },
     "execution_count": 4,
     "metadata": {},
     "output_type": "execute_result"
    }
   ],
   "source": [
    "BasicCalculator(\"2*(((5+5)*2)/3)-(7-(6+5)/(2+8))\")"
   ]
  },
  {
   "cell_type": "code",
   "execution_count": 5,
   "id": "92347e4a-fc41-4688-bdb6-a11161ee7f8a",
   "metadata": {},
   "outputs": [
    {
     "data": {
      "text/plain": [
       "13"
      ]
     },
     "execution_count": 5,
     "metadata": {},
     "output_type": "execute_result"
    }
   ],
   "source": [
    "BasicCalculator(\"-( -(8 - 9) * 2 / (7-8 )) + 6 * ( 9- 7 ) - ( 3 -2) \")"
   ]
  },
  {
   "cell_type": "code",
   "execution_count": 6,
   "id": "184818a0-4779-464d-9c8c-040eaaeeca5f",
   "metadata": {},
   "outputs": [
    {
     "data": {
      "text/plain": [
       "-63"
      ]
     },
     "execution_count": 6,
     "metadata": {},
     "output_type": "execute_result"
    }
   ],
   "source": [
    "BasicCalculator(\"-( -(-8 - 9) * 2 / (7-8 )) + 6 * (- 9- 7 ) - ( 3 -2) \")"
   ]
  },
  {
   "cell_type": "code",
   "execution_count": null,
   "id": "f76a8ae2-77d7-49ea-9d4d-ef1bb71ea113",
   "metadata": {},
   "outputs": [],
   "source": []
  }
 ],
 "metadata": {
  "kernelspec": {
   "display_name": "Python 3 (ipykernel)",
   "language": "python",
   "name": "python3"
  },
  "language_info": {
   "codemirror_mode": {
    "name": "ipython",
    "version": 3
   },
   "file_extension": ".py",
   "mimetype": "text/x-python",
   "name": "python",
   "nbconvert_exporter": "python",
   "pygments_lexer": "ipython3",
   "version": "3.8.12"
  }
 },
 "nbformat": 4,
 "nbformat_minor": 5
}
