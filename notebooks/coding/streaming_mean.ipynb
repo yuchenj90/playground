{
 "cells": [
  {
   "cell_type": "markdown",
   "id": "5cf0e37e-0915-4d35-8c13-aa038404ebc3",
   "metadata": {},
   "source": [
    "# Find mean of streaming data\n",
    "Suppose you have a streaming of large numbers, and you don't know how many numbers will be there. Find the mean of these numbers. \n"
   ]
  },
  {
   "cell_type": "markdown",
   "id": "6f67c1d2-97a8-4b8a-872c-2bc48674c603",
   "metadata": {
    "tags": []
   },
   "source": [
    "### Method 1: compute mean after each number arrives. However, there could be accuracy issue when there are lots of numbers."
   ]
  },
  {
   "cell_type": "code",
   "execution_count": 62,
   "id": "766b27ad-241a-4159-99ea-94aca09c1b82",
   "metadata": {
    "tags": []
   },
   "outputs": [],
   "source": [
    "class streamMean:\n",
    "    def __init__(self):\n",
    "        self.mean = 0\n",
    "        self.count = 0\n",
    "        \n",
    "    def getMean(self):\n",
    "        return self.mean\n",
    "    \n",
    "    def addData(self, num):\n",
    "        self.count += 1\n",
    "        self.mean = self.mean / self.count * (self.count-1) + num/self.count"
   ]
  },
  {
   "cell_type": "code",
   "execution_count": 63,
   "id": "ab780571-9b5a-4f8c-a471-549f8a7902c0",
   "metadata": {
    "tags": []
   },
   "outputs": [],
   "source": [
    "data = streamMean()"
   ]
  },
  {
   "cell_type": "code",
   "execution_count": 64,
   "id": "adb08d6e-01ed-495b-a652-1dd6e32ac0b2",
   "metadata": {
    "tags": []
   },
   "outputs": [],
   "source": [
    "for i in range(1000000):\n",
    "    data.addData(1000000000)"
   ]
  },
  {
   "cell_type": "code",
   "execution_count": 65,
   "id": "b5a7e520-743a-4ace-97e4-9d0aa8c1bc01",
   "metadata": {
    "tags": []
   },
   "outputs": [
    {
     "data": {
      "text/plain": [
       "999999999.9999974"
      ]
     },
     "execution_count": 65,
     "metadata": {},
     "output_type": "execute_result"
    }
   ],
   "source": [
    "data.mean"
   ]
  },
  {
   "cell_type": "code",
   "execution_count": 66,
   "id": "10fb88c2-f265-464c-b02a-4c1c529a1f39",
   "metadata": {
    "tags": []
   },
   "outputs": [
    {
     "data": {
      "text/plain": [
       "0.5000604391098022"
      ]
     },
     "execution_count": 66,
     "metadata": {},
     "output_type": "execute_result"
    }
   ],
   "source": [
    "data = streamMean()\n",
    "for i in range(1000000):\n",
    "    data.addData(1000000000+i)\n",
    "abs(data.getMean() - 1000500000)"
   ]
  },
  {
   "cell_type": "markdown",
   "id": "aa90161d-ada6-490d-b521-ebb720c3c852",
   "metadata": {
    "tags": []
   },
   "source": [
    "### Method 2: keep track of means every 2^k numbers. Increase accuracy but it can take log(n) time to compute mean and add new numbers"
   ]
  },
  {
   "cell_type": "code",
   "execution_count": 67,
   "id": "62107ee4-61af-4d19-9d00-24eb6ca0afdb",
   "metadata": {
    "tags": []
   },
   "outputs": [],
   "source": [
    "class streamMean:\n",
    "    def __init__(self):\n",
    "        self.means = []\n",
    "        self.count = 0\n",
    "        \n",
    "    def getMean(self):\n",
    "        res = 0\n",
    "        for x in self.means[::-1]:\n",
    "            res += x[0]/self.count*x[1]\n",
    "        return res\n",
    "        \n",
    "    def addData(self, num):\n",
    "        self.count += 1\n",
    "        self.means.append([num,1])\n",
    "        p = len(self.means)-1\n",
    "        while p > 0:\n",
    "            if self.means[p][1] == self.means[p-1][1]:\n",
    "                self.means[p-1][0] = (self.means[p][0] + self.means[p-1][0])/2\n",
    "                self.means[p-1][1] *= 2\n",
    "                self.means.pop()\n",
    "            else:\n",
    "                break\n",
    "            p -= 1"
   ]
  },
  {
   "cell_type": "code",
   "execution_count": 68,
   "id": "ab094f4f-c7e1-4c14-97dd-ff04feeb32c3",
   "metadata": {
    "tags": []
   },
   "outputs": [],
   "source": [
    "data = streamMean()"
   ]
  },
  {
   "cell_type": "code",
   "execution_count": 69,
   "id": "8e48a220-c837-4449-adb2-0ebfa7b37f4b",
   "metadata": {
    "tags": []
   },
   "outputs": [],
   "source": [
    "for i in range(1000000):\n",
    "    data.addData(1000000000)"
   ]
  },
  {
   "cell_type": "code",
   "execution_count": 70,
   "id": "380c9f70-db1d-45d0-a9ce-8fcb38be0afe",
   "metadata": {
    "tags": []
   },
   "outputs": [
    {
     "data": {
      "text/plain": [
       "1000000000.0"
      ]
     },
     "execution_count": 70,
     "metadata": {},
     "output_type": "execute_result"
    }
   ],
   "source": [
    "data.getMean()"
   ]
  },
  {
   "cell_type": "code",
   "execution_count": 71,
   "id": "efd53646-cbf7-4f1d-bb62-5d1379f191ef",
   "metadata": {
    "tags": []
   },
   "outputs": [
    {
     "data": {
      "text/plain": [
       "0.5"
      ]
     },
     "execution_count": 71,
     "metadata": {},
     "output_type": "execute_result"
    }
   ],
   "source": [
    "data = streamMean()\n",
    "for i in range(1000000):\n",
    "    data.addData(1000000000+i)\n",
    "abs(data.getMean() - 1000500000)"
   ]
  },
  {
   "cell_type": "markdown",
   "id": "91dea470-a076-4cca-b459-4111d6758bb8",
   "metadata": {
    "tags": []
   },
   "source": [
    "### Method 3: Resevior sampling. Sample K numbers and compute the mean as an approximate to overall mean"
   ]
  },
  {
   "cell_type": "code",
   "execution_count": 72,
   "id": "a6752119-1c7a-4b32-8ef4-39e87d9e5ec2",
   "metadata": {
    "tags": []
   },
   "outputs": [],
   "source": [
    "import random, math\n",
    "class streamMean:\n",
    "    def __init__(self, k:int):\n",
    "        self.k = k\n",
    "        self.nums = []\n",
    "        self.count = 0\n",
    "\n",
    "    def getMean(self):\n",
    "        res = 0\n",
    "        for i in range(len(self.nums)):\n",
    "            res = res/(i+1)*i + self.nums[i]/(i+1)\n",
    "        return res\n",
    "        \n",
    "    def addData(self, num):\n",
    "        self.count += 1\n",
    "        if len(self.nums) < self.k:\n",
    "            self.nums.append(num)\n",
    "        else:\n",
    "            randnum = random.random() * self.count\n",
    "            if randnum < self.k:\n",
    "                self.nums[math.floor(randnum)] = num\n",
    "                "
   ]
  },
  {
   "cell_type": "code",
   "execution_count": 73,
   "id": "0ae5723f-9002-4204-abe4-5fb6cc43fee3",
   "metadata": {
    "tags": []
   },
   "outputs": [],
   "source": [
    "data = streamMean(100)\n",
    "for i in range(1000000):\n",
    "    data.addData(1000000000)"
   ]
  },
  {
   "cell_type": "code",
   "execution_count": 74,
   "id": "33b07488-28ca-4b02-be2a-c87de3908dad",
   "metadata": {
    "tags": []
   },
   "outputs": [
    {
     "data": {
      "text/plain": [
       "999999999.9999994"
      ]
     },
     "execution_count": 74,
     "metadata": {},
     "output_type": "execute_result"
    }
   ],
   "source": [
    "data.getMean()"
   ]
  },
  {
   "cell_type": "code",
   "execution_count": 77,
   "id": "dcbc0c77-b36a-4efb-9a6a-bc1568926332",
   "metadata": {
    "tags": []
   },
   "outputs": [
    {
     "data": {
      "text/plain": [
       "147362.60000014305"
      ]
     },
     "execution_count": 77,
     "metadata": {},
     "output_type": "execute_result"
    }
   ],
   "source": [
    "data = streamMean(10)\n",
    "for i in range(1000000):\n",
    "    data.addData(1000000000+i)\n",
    "abs(data.getMean() - 1000500000)"
   ]
  },
  {
   "cell_type": "code",
   "execution_count": null,
   "id": "00fe0ac3-35a2-4ae9-9ae2-b2c4688cfcba",
   "metadata": {},
   "outputs": [],
   "source": []
  },
  {
   "cell_type": "code",
   "execution_count": null,
   "id": "0fd9a00b-8838-4a01-a180-0c3e4de374a4",
   "metadata": {},
   "outputs": [],
   "source": []
  }
 ],
 "metadata": {
  "kernelspec": {
   "display_name": "Python 3 (ipykernel)",
   "language": "python",
   "name": "python3"
  },
  "language_info": {
   "codemirror_mode": {
    "name": "ipython",
    "version": 3
   },
   "file_extension": ".py",
   "mimetype": "text/x-python",
   "name": "python",
   "nbconvert_exporter": "python",
   "pygments_lexer": "ipython3",
   "version": "3.8.12"
  }
 },
 "nbformat": 4,
 "nbformat_minor": 5
}
