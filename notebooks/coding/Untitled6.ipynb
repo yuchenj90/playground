{
 "cells": [
  {
   "cell_type": "code",
   "execution_count": 18,
   "id": "d8571ba9-e24f-4c0b-a460-f264f8e933b8",
   "metadata": {
    "tags": []
   },
   "outputs": [],
   "source": [
    "from typing import List, Tuple\n",
    "import math\n",
    "import numpy as np\n",
    "\n",
    "def BestMeetingPoint(loc: List[Tuple[float, float]]) -> Tuple[float, float]:\n",
    "    def getDist(loc: List[Tuple[float, float]], p: Tuple[float, float]):\n",
    "        d = 0\n",
    "        for l in loc:\n",
    "            d += math.sqrt((l[0]-p[0])**2 + (l[1]-p[1])**2)\n",
    "        return d\n",
    "    \n",
    "    p = (np.array([l[0] for l in loc]).mean(), np.array([l[1] for l in loc]).mean())\n",
    "    cur_d = getDist(loc, p)\n",
    "    eps = 1e-7\n",
    "    lr = 1e-3\n",
    "    n_iter = 0\n",
    "    while True: \n",
    "        print(n_iter, cur_d)\n",
    "        n_iter += 1\n",
    "        d_px = (getDist(loc, (p[0]+eps, p[1])) - cur_d)/eps\n",
    "        d_py = (getDist(loc, (p[0], p[1]+eps)) - cur_d)/eps\n",
    "        \n",
    "        p = (p[0] - lr * d_px, p[1] - lr * d_py)\n",
    "        new_d = getDist(loc, p)\n",
    "        \n",
    "        if abs(new_d-cur_d) < eps or n_iter > 100000:\n",
    "            break\n",
    "        cur_d = new_d\n",
    "    return p\n",
    "    "
   ]
  },
  {
   "cell_type": "code",
   "execution_count": 20,
   "id": "5510ab10-8153-4854-9a20-5731b9d13964",
   "metadata": {
    "tags": []
   },
   "outputs": [
    {
     "name": "stdout",
     "output_type": "stream",
     "text": [
      "0 28.284271247461902\n"
     ]
    },
    {
     "data": {
      "text/plain": [
       "(5.0, 5.0)"
      ]
     },
     "execution_count": 20,
     "metadata": {},
     "output_type": "execute_result"
    }
   ],
   "source": [
    "points = [(0,0),(10,10),(10,0),(0,10)]\n",
    "BestMeetingPoint(points)"
   ]
  },
  {
   "cell_type": "code",
   "execution_count": null,
   "id": "7c00ee1b-55ad-4880-b59b-f427566b993d",
   "metadata": {},
   "outputs": [],
   "source": []
  },
  {
   "cell_type": "code",
   "execution_count": 32,
   "id": "6d42bb55-bd9e-41fd-8016-a340fc3fcd35",
   "metadata": {
    "tags": []
   },
   "outputs": [],
   "source": [
    "import heapq\n",
    "\n",
    "def dijkstra_shortestpath(nodes, edges, source):\n",
    "    adj_m = {}\n",
    "    for e in edges:\n",
    "        if e[0] not in adj_m:\n",
    "            adj_m[e[0]] = {}\n",
    "        adj_m[e[0]][e[1]] = e[2]\n",
    "        if e[1] not in adj_m:\n",
    "            adj_m[e[1]] = {}\n",
    "        adj_m[e[1]][e[0]] = e[2]\n",
    "        \n",
    "    visited = {}\n",
    "    unvisited = []\n",
    "    for n in nodes:\n",
    "        if n!=source:\n",
    "            heapq.heappush(unvisited, (float('inf'), n))\n",
    "        else:\n",
    "            heapq.heappush(unvisited, (0,source))\n",
    "    print(unvisited)\n",
    "    \n",
    "    while len(unvisited)>0:\n",
    "        x = heapq.heappop(unvisited)\n",
    "        if x[0] == float('inf'):\n",
    "            break\n",
    "        if x[1] not in visited:\n",
    "            visited[x[1]] = x[0]\n",
    "            for k,v in adj_m[x[1]].items():\n",
    "                if k not in visited:\n",
    "                    heapq.heappush(unvisited, (v+x[0],k))\n",
    "\n",
    "    return visited\n",
    "        "
   ]
  },
  {
   "cell_type": "code",
   "execution_count": 33,
   "id": "2af9447e-3fd5-4525-8005-45590e908c24",
   "metadata": {
    "tags": []
   },
   "outputs": [
    {
     "name": "stdout",
     "output_type": "stream",
     "text": [
      "[(0, 0), (inf, 1), (inf, 2), (inf, 6), (inf, 7), (inf, 8)]\n"
     ]
    },
    {
     "data": {
      "text/plain": [
       "{0: 0, 1: 4, 7: 8, 6: 9, 2: 12, 8: 14}"
      ]
     },
     "execution_count": 33,
     "metadata": {},
     "output_type": "execute_result"
    }
   ],
   "source": [
    "dijkstra_shortestpath([0,1,2,6,7,8],[[0,1,4],[0,7,8],[1,7,11],[1,2,8],[2,8,2],[7,8,7],[7,6,1],[8,6,6]],0)"
   ]
  },
  {
   "cell_type": "code",
   "execution_count": null,
   "id": "0e51cb66-b0ea-46f8-b2b0-82b758ce28c6",
   "metadata": {},
   "outputs": [],
   "source": []
  }
 ],
 "metadata": {
  "kernelspec": {
   "display_name": "Python 3 (ipykernel)",
   "language": "python",
   "name": "python3"
  },
  "language_info": {
   "codemirror_mode": {
    "name": "ipython",
    "version": 3
   },
   "file_extension": ".py",
   "mimetype": "text/x-python",
   "name": "python",
   "nbconvert_exporter": "python",
   "pygments_lexer": "ipython3",
   "version": "3.8.12"
  }
 },
 "nbformat": 4,
 "nbformat_minor": 5
}
