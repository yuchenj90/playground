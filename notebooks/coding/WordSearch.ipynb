{
 "cells": [
  {
   "cell_type": "markdown",
   "id": "bbb8f1a7-1f65-4810-8b25-7c84dd58ebe1",
   "metadata": {},
   "source": [
    "# Word Search 1\n",
    "Given an m x n grid of characters board and a string word, return true if word exists in the grid.\n",
    "\n",
    "The word can be constructed from letters of sequentially adjacent cells, where adjacent cells are horizontally or vertically neighboring. The same letter cell may not be used more than once.\n",
    "\n"
   ]
  },
  {
   "cell_type": "markdown",
   "id": "17119893-d89f-41a7-a159-334f838ea66a",
   "metadata": {},
   "source": [
    "```Python\n",
    "Input: board = [[\"A\",\"B\",\"C\",\"E\"],[\"S\",\"F\",\"C\",\"S\"],[\"A\",\"D\",\"E\",\"E\"]], word = \"ABCCED\"\n",
    "Output: true\n",
    "\n",
    "Input: board = [[\"A\",\"B\",\"C\",\"E\"],[\"S\",\"F\",\"C\",\"S\"],[\"A\",\"D\",\"E\",\"E\"]], word = \"SEE\"\n",
    "Output: true\n",
    "\n",
    "Input: board = [[\"A\",\"B\",\"C\",\"E\"],[\"S\",\"F\",\"C\",\"S\"],[\"A\",\"D\",\"E\",\"E\"]], word = \"ABCB\"\n",
    "Output: false\n",
    "\n",
    "Constraints:\n",
    "\n",
    "m == board.length\n",
    "n = board[i].length\n",
    "1 <= m, n <= 6\n",
    "1 <= word.length <= 15\n",
    "board and word consists of only lowercase and uppercase English letters.\n",
    "```"
   ]
  },
  {
   "cell_type": "code",
   "execution_count": 7,
   "id": "05435beb-5de5-44fa-8e41-951d96f4f813",
   "metadata": {
    "tags": []
   },
   "outputs": [],
   "source": [
    "from typing import List\n",
    "class Solution:\n",
    "    def DFS(self, pos, word, board):\n",
    "        if len(word) == 0:\n",
    "            return True\n",
    "        if pos[0]<0 or pos[0]>=len(board) or pos[1]<0 or pos[1]>=len(board[0]) or board[pos[0]][pos[1]] != word[0]:\n",
    "            return False\n",
    "        ch = board[pos[0]][pos[1]] \n",
    "        board[pos[0]][pos[1]] = ''\n",
    "        res = self.DFS((pos[0]-1, pos[1]), word[1:], board) or self.DFS((pos[0]+1, pos[1]), word[1:], board) or self.DFS((pos[0], pos[1]-1), word[1:], board) \\\n",
    "                or self.DFS((pos[0], pos[1]+1), word[1:], board)\n",
    "        board[pos[0]][pos[1]] = ch\n",
    "        return res\n",
    "    \n",
    "    def wordSearch1(self, board: List[List[str]], word: str) -> bool:\n",
    "        m = len(board)\n",
    "        n = len(board[0])\n",
    "        for i in range(m):\n",
    "            for j in range(n):\n",
    "                if word[0] == board[i][j]:\n",
    "                    if self.DFS((i,j), word, board):\n",
    "                        return True\n",
    "        return False"
   ]
  },
  {
   "cell_type": "code",
   "execution_count": 8,
   "id": "d12b32e0-03bb-4139-a4dc-3dd073892157",
   "metadata": {
    "tags": []
   },
   "outputs": [
    {
     "data": {
      "text/plain": [
       "True"
      ]
     },
     "execution_count": 8,
     "metadata": {},
     "output_type": "execute_result"
    }
   ],
   "source": [
    "board = [[\"A\",\"B\",\"C\",\"E\"],[\"S\",\"F\",\"C\",\"S\"],[\"A\",\"D\",\"E\",\"E\"]]\n",
    "word = \"ABCCED\"\n",
    "s = Solution()\n",
    "s.wordSearch1(board, word)"
   ]
  },
  {
   "cell_type": "code",
   "execution_count": 9,
   "id": "fd8b7a3f-9001-48bb-b942-4d5094b3580e",
   "metadata": {
    "tags": []
   },
   "outputs": [
    {
     "data": {
      "text/plain": [
       "False"
      ]
     },
     "execution_count": 9,
     "metadata": {},
     "output_type": "execute_result"
    }
   ],
   "source": [
    "board = [[\"A\",\"B\",\"C\",\"E\"],[\"S\",\"F\",\"C\",\"S\"],[\"A\",\"D\",\"E\",\"E\"]]\n",
    "word = \"ABCB\"\n",
    "s = Solution()\n",
    "s.wordSearch1(board, word)"
   ]
  },
  {
   "cell_type": "markdown",
   "id": "1e29a485-532e-4bd7-a8be-96ce62fa80dc",
   "metadata": {
    "tags": []
   },
   "source": [
    "# Word Search 2\n",
    "Given an m x n board of characters and a list of strings words, return all words on the board.\n",
    "\n",
    "Each word must be constructed from letters of sequentially adjacent cells, where adjacent cells are horizontally or vertically neighboring. The same letter cell may not be used more than once in a word."
   ]
  },
  {
   "cell_type": "markdown",
   "id": "7e858293-490c-4313-a8c8-b3634fd9cf5d",
   "metadata": {
    "tags": []
   },
   "source": [
    "```Python\n",
    "Input: board = [[\"o\",\"a\",\"a\",\"n\"],[\"e\",\"t\",\"a\",\"e\"],[\"i\",\"h\",\"k\",\"r\"],[\"i\",\"f\",\"l\",\"v\"]], words = [\"oath\",\"pea\",\"eat\",\"rain\"]\n",
    "Output: [\"eat\",\"oath\"]\n",
    "\n",
    "Input: board = [[\"a\",\"b\"],[\"c\",\"d\"]], words = [\"abcb\"]\n",
    "Output: []\n",
    "\n",
    "Constraints:\n",
    "\n",
    "m == board.length\n",
    "n == board[i].length\n",
    "1 <= m, n <= 12\n",
    "board[i][j] is a lowercase English letter.\n",
    "1 <= words.length <= 3 * 104\n",
    "1 <= words[i].length <= 10\n",
    "words[i] consists of lowercase English letters.\n",
    "All the strings of words are unique.\n",
    "\n",
    "```"
   ]
  },
  {
   "cell_type": "code",
   "execution_count": 157,
   "id": "4863e1a1-3e0e-46a4-a801-90fd210b96ea",
   "metadata": {
    "tags": []
   },
   "outputs": [],
   "source": [
    "class Trie:\n",
    "    class TrieNode:\n",
    "        def __init__(self, d={}):\n",
    "            self.children = d\n",
    "            self.last = False\n",
    "\n",
    "    def __init__(self, ):\n",
    "        self.root = self.TrieNode({})\n",
    "        \n",
    "    def addWord(self, word):\n",
    "        n = self.root\n",
    "        for ch in word:\n",
    "            if ch not in n.children:\n",
    "                n.children[ch] = self.TrieNode({})\n",
    "            n = n.children[ch]\n",
    "        n.last = True\n",
    "    \n",
    "    def removeWord(self, word):\n",
    "        node = self.root\n",
    "        node_remove, ch_remove = node, word[0]\n",
    "        for ch in word:\n",
    "            if ch not in node.children:\n",
    "                return\n",
    "            else:\n",
    "                if len(node.children) > 1 or node.last:\n",
    "                    node_remove = node\n",
    "                    ch_remove = ch\n",
    "                node = node.children[ch]\n",
    "        if node.last and len(node.children) == 0:\n",
    "            del node_remove.children[ch_remove]\n",
    "        else:\n",
    "            node.last = False"
   ]
  },
  {
   "cell_type": "code",
   "execution_count": 168,
   "id": "d28a4cc8-9c71-48c0-8d22-398a4768d503",
   "metadata": {
    "tags": []
   },
   "outputs": [],
   "source": [
    "class Solution:\n",
    "    def DFS(self, node, pos, boards, t, curr_word, res):\n",
    "        if pos[0]<0 or pos[0]>=len(boards) or pos[1]<0 or pos[1]>=len(boards[0]):\n",
    "            return \n",
    "        for ch in node.children.copy():\n",
    "            if boards[pos[0]][pos[1]] == ch:\n",
    "                tmp = boards[pos[0]][pos[1]]\n",
    "                boards[pos[0]][pos[1]] = ''\n",
    "                if ch in node.children:\n",
    "                    self.DFS(node.children[ch], (pos[0]-1, pos[1]), boards, t, curr_word+ch, res)\n",
    "                if ch in node.children:\n",
    "                    self.DFS(node.children[ch], (pos[0]+1, pos[1]), boards, t, curr_word+ch, res)\n",
    "                if ch in node.children:\n",
    "                    self.DFS(node.children[ch], (pos[0], pos[1]-1), boards, t, curr_word+ch, res)\n",
    "                if ch in node.children:\n",
    "                    self.DFS(node.children[ch], (pos[0], pos[1]+1), boards, t, curr_word+ch, res)\n",
    "                boards[pos[0]][pos[1]] = tmp\n",
    "                if ch in node.children and node.children[ch].last:\n",
    "                    res.append(curr_word+ch)\n",
    "                    t.removeWord(curr_word+ch)\n",
    "                    node.children[ch].last = False\n",
    "                    break\n",
    "\n",
    "        \n",
    "    def wordSearch2(self, board: List[List[str]], words: List[str]) -> List[str]:\n",
    "        t = Trie()\n",
    "        for w in words:\n",
    "            t.addWord(w)\n",
    "        # print(t.root.children)\n",
    "        res = []\n",
    "        for i in range(len(board)):\n",
    "            for j in range(len(board[0])):\n",
    "                curr_word = ''\n",
    "                self.DFS(t.root, (i,j), board, t, curr_word, res)\n",
    "        return res"
   ]
  },
  {
   "cell_type": "code",
   "execution_count": 144,
   "id": "4cb18334-0107-4ff7-a26f-ad8288118ae5",
   "metadata": {
    "tags": []
   },
   "outputs": [],
   "source": [
    "t = Trie()\n",
    "t.addWord(\"A\")\n",
    "t.addWord(\"Ax\")"
   ]
  },
  {
   "cell_type": "code",
   "execution_count": 145,
   "id": "21ca1807-c88b-4400-95de-c89d5de88d5f",
   "metadata": {
    "tags": []
   },
   "outputs": [
    {
     "data": {
      "text/plain": [
       "{'A': <__main__.Trie.TrieNode at 0x105e1bfa0>}"
      ]
     },
     "execution_count": 145,
     "metadata": {},
     "output_type": "execute_result"
    }
   ],
   "source": [
    "t.root.children"
   ]
  },
  {
   "cell_type": "code",
   "execution_count": 146,
   "id": "568f8f81-1593-4414-b101-043572dd625a",
   "metadata": {
    "tags": []
   },
   "outputs": [],
   "source": [
    "t.removeWord(\"A\")"
   ]
  },
  {
   "cell_type": "code",
   "execution_count": 147,
   "id": "d38ec07f-b203-4804-987e-d410fd9f4c9e",
   "metadata": {
    "tags": []
   },
   "outputs": [
    {
     "data": {
      "text/plain": [
       "{'x': <__main__.Trie.TrieNode at 0x105e1bb20>}"
      ]
     },
     "execution_count": 147,
     "metadata": {},
     "output_type": "execute_result"
    }
   ],
   "source": [
    "t.root.children['A'].children"
   ]
  },
  {
   "cell_type": "code",
   "execution_count": 150,
   "id": "ef2dc29a-490b-4355-98e7-e427b1e0cadf",
   "metadata": {
    "tags": []
   },
   "outputs": [],
   "source": [
    "t = Trie()\n",
    "for w in words:\n",
    "    t.addWord(w)"
   ]
  },
  {
   "cell_type": "code",
   "execution_count": 153,
   "id": "9398774e-3016-4b9e-8800-8c47a0191021",
   "metadata": {
    "tags": []
   },
   "outputs": [],
   "source": [
    "t.removeWord(\"oath\")"
   ]
  },
  {
   "cell_type": "code",
   "execution_count": 163,
   "id": "c45421e9-18de-4222-9226-4b87609eb02e",
   "metadata": {
    "tags": []
   },
   "outputs": [
    {
     "name": "stdout",
     "output_type": "stream",
     "text": [
      "oath\n",
      "eat\n"
     ]
    },
    {
     "data": {
      "text/plain": [
       "['oath', 'eat']"
      ]
     },
     "execution_count": 163,
     "metadata": {},
     "output_type": "execute_result"
    }
   ],
   "source": [
    "s = Solution()\n",
    "board = [[\"o\",\"a\",\"a\",\"n\"],[\"e\",\"t\",\"a\",\"e\"],[\"i\",\"h\",\"k\",\"r\"],[\"i\",\"f\",\"l\",\"v\"]]\n",
    "words = [\"oath\",\"pea\",\"eat\",\"rain\"]\n",
    "s.wordSearch2(board, words)"
   ]
  },
  {
   "cell_type": "code",
   "execution_count": 164,
   "id": "bd5c195f-d6af-4e43-b423-7c63f72dd2e8",
   "metadata": {
    "tags": []
   },
   "outputs": [
    {
     "name": "stdout",
     "output_type": "stream",
     "text": [
      "aapl\n",
      "apple\n",
      "bay\n"
     ]
    },
    {
     "data": {
      "text/plain": [
       "['aapl', 'apple', 'bay']"
      ]
     },
     "execution_count": 164,
     "metadata": {},
     "output_type": "execute_result"
    }
   ],
   "source": [
    "s = Solution()\n",
    "board = [[\"p\",\"a\",\"a\",\"p\",\"p\"],[\"e\",\"t\",\"p\",\"e\",\"l\"],[\"c\",\"i\",\"l\",\"a\",\"b\"],[\"i\",\"f\",\"a\",\"y\",\"v\"]]\n",
    "words = [\"apple\",\"aapl\",\"apply\",\"application\",\"banana\",\"bay\"]\n",
    "s.wordSearch2(board, words)"
   ]
  },
  {
   "cell_type": "code",
   "execution_count": 169,
   "id": "6c4273d5-3354-470e-bf20-295ea771e570",
   "metadata": {
    "tags": []
   },
   "outputs": [
    {
     "data": {
      "text/plain": [
       "['mnaaaaaaaa',\n",
       " 'mbaaaaaaaa',\n",
       " 'baaaaaaaaa',\n",
       " 'bcaaaaaaaa',\n",
       " 'caaaaaaaaa',\n",
       " 'cbaaaaaaaa',\n",
       " 'cdaaaaaaaa',\n",
       " 'daaaaaaaaa',\n",
       " 'dcaaaaaaaa',\n",
       " 'deaaaaaaaa',\n",
       " 'eaaaaaaaaa',\n",
       " 'edaaaaaaaa',\n",
       " 'efaaaaaaaa',\n",
       " 'faaaaaaaaa',\n",
       " 'feaaaaaaaa',\n",
       " 'fgaaaaaaaa',\n",
       " 'gaaaaaaaaa',\n",
       " 'gfaaaaaaaa',\n",
       " 'ghaaaaaaaa',\n",
       " 'haaaaaaaaa',\n",
       " 'hgaaaaaaaa',\n",
       " 'hiaaaaaaaa',\n",
       " 'iaaaaaaaaa',\n",
       " 'ihaaaaaaaa',\n",
       " 'ijaaaaaaaa',\n",
       " 'jaaaaaaaaa',\n",
       " 'jiaaaaaaaa',\n",
       " 'jkaaaaaaaa',\n",
       " 'kaaaaaaaaa',\n",
       " 'kjaaaaaaaa',\n",
       " 'klaaaaaaaa',\n",
       " 'laaaaaaaaa',\n",
       " 'lkaaaaaaaa',\n",
       " 'noaaaaaaaa',\n",
       " 'naaaaaaaaa',\n",
       " 'aaaaaaaaaa',\n",
       " 'onaaaaaaaa',\n",
       " 'opaaaaaaaa',\n",
       " 'oaaaaaaaaa',\n",
       " 'poaaaaaaaa',\n",
       " 'pqaaaaaaaa',\n",
       " 'paaaaaaaaa',\n",
       " 'qpaaaaaaaa',\n",
       " 'qraaaaaaaa',\n",
       " 'qaaaaaaaaa',\n",
       " 'rqaaaaaaaa',\n",
       " 'rsaaaaaaaa',\n",
       " 'raaaaaaaaa',\n",
       " 'sraaaaaaaa',\n",
       " 'staaaaaaaa',\n",
       " 'saaaaaaaaa',\n",
       " 'tsaaaaaaaa',\n",
       " 'tuaaaaaaaa',\n",
       " 'taaaaaaaaa',\n",
       " 'utaaaaaaaa',\n",
       " 'uvaaaaaaaa',\n",
       " 'uaaaaaaaaa',\n",
       " 'vuaaaaaaaa',\n",
       " 'vwaaaaaaaa',\n",
       " 'vaaaaaaaaa',\n",
       " 'wvaaaaaaaa',\n",
       " 'waaaaaaaaa',\n",
       " 'azaaaaaaaa',\n",
       " 'xwaaaaaaaa',\n",
       " 'xyaaaaaaaa',\n",
       " 'yaaaaaaaaa',\n",
       " 'yzaaaaaaaa',\n",
       " 'zaaaaaaaaa',\n",
       " 'zyaaaaaaaa']"
      ]
     },
     "execution_count": 169,
     "metadata": {},
     "output_type": "execute_result"
    }
   ],
   "source": [
    "s = Solution()\n",
    "board = [[\"m\",\"b\",\"c\",\"d\",\"e\",\"f\",\"g\",\"h\",\"i\",\"j\",\"k\",\"l\"],[\"n\",\"a\",\"a\",\"a\",\"a\",\"a\",\"a\",\"a\",\"a\",\"a\",\"a\",\"a\"],[\"o\",\"a\",\"a\",\"a\",\"a\",\"a\",\"a\",\"a\",\"a\",\"a\",\"a\",\"a\"],[\"p\",\"a\",\"a\",\"a\",\"a\",\"a\",\"a\",\"a\",\"a\",\"a\",\"a\",\"a\"],[\"q\",\"a\",\"a\",\"a\",\"a\",\"a\",\"a\",\"a\",\"a\",\"a\",\"a\",\"a\"],[\"r\",\"a\",\"a\",\"a\",\"a\",\"a\",\"a\",\"a\",\"a\",\"a\",\"a\",\"a\"],[\"s\",\"a\",\"a\",\"a\",\"a\",\"a\",\"a\",\"a\",\"a\",\"a\",\"a\",\"a\"],[\"t\",\"a\",\"a\",\"a\",\"a\",\"a\",\"a\",\"a\",\"a\",\"a\",\"a\",\"a\"],[\"u\",\"a\",\"a\",\"a\",\"a\",\"a\",\"a\",\"a\",\"a\",\"a\",\"a\",\"a\"],[\"v\",\"a\",\"a\",\"a\",\"a\",\"a\",\"a\",\"a\",\"a\",\"a\",\"a\",\"a\"],[\"w\",\"a\",\"a\",\"a\",\"a\",\"a\",\"a\",\"a\",\"a\",\"a\",\"a\",\"a\"],[\"x\",\"y\",\"z\",\"a\",\"a\",\"a\",\"a\",\"a\",\"a\",\"a\",\"a\",\"a\"]]\n",
    "words = [\"aaaaaaaaaa\",\"baaaaaaaaa\",\"caaaaaaaaa\",\"daaaaaaaaa\",\"eaaaaaaaaa\",\"faaaaaaaaa\",\"gaaaaaaaaa\",\"haaaaaaaaa\",\"iaaaaaaaaa\",\"jaaaaaaaaa\",\"kaaaaaaaaa\",\"laaaaaaaaa\",\"maaaaaaaaa\",\"naaaaaaaaa\",\"oaaaaaaaaa\",\"paaaaaaaaa\",\"qaaaaaaaaa\",\"raaaaaaaaa\",\"saaaaaaaaa\",\"taaaaaaaaa\",\"uaaaaaaaaa\",\"vaaaaaaaaa\",\"waaaaaaaaa\",\"xaaaaaaaaa\",\"yaaaaaaaaa\",\"zaaaaaaaaa\",\"abaaaaaaaa\",\"bbaaaaaaaa\",\"cbaaaaaaaa\",\"dbaaaaaaaa\",\"ebaaaaaaaa\",\"fbaaaaaaaa\",\"gbaaaaaaaa\",\"hbaaaaaaaa\",\"ibaaaaaaaa\",\"jbaaaaaaaa\",\"kbaaaaaaaa\",\"lbaaaaaaaa\",\"mbaaaaaaaa\",\"nbaaaaaaaa\",\"obaaaaaaaa\",\"pbaaaaaaaa\",\"qbaaaaaaaa\",\"rbaaaaaaaa\",\"sbaaaaaaaa\",\"tbaaaaaaaa\",\"ubaaaaaaaa\",\"vbaaaaaaaa\",\"wbaaaaaaaa\",\"xbaaaaaaaa\",\"ybaaaaaaaa\",\"zbaaaaaaaa\",\"acaaaaaaaa\",\"bcaaaaaaaa\",\"ccaaaaaaaa\",\"dcaaaaaaaa\",\"ecaaaaaaaa\",\"fcaaaaaaaa\",\"gcaaaaaaaa\",\"hcaaaaaaaa\",\"icaaaaaaaa\",\"jcaaaaaaaa\",\"kcaaaaaaaa\",\"lcaaaaaaaa\",\"mcaaaaaaaa\",\"ncaaaaaaaa\",\"ocaaaaaaaa\",\"pcaaaaaaaa\",\"qcaaaaaaaa\",\"rcaaaaaaaa\",\"scaaaaaaaa\",\"tcaaaaaaaa\",\"ucaaaaaaaa\",\"vcaaaaaaaa\",\"wcaaaaaaaa\",\"xcaaaaaaaa\",\"ycaaaaaaaa\",\"zcaaaaaaaa\",\"adaaaaaaaa\",\"bdaaaaaaaa\",\"cdaaaaaaaa\",\"ddaaaaaaaa\",\"edaaaaaaaa\",\"fdaaaaaaaa\",\"gdaaaaaaaa\",\"hdaaaaaaaa\",\"idaaaaaaaa\",\"jdaaaaaaaa\",\"kdaaaaaaaa\",\"ldaaaaaaaa\",\"mdaaaaaaaa\",\"ndaaaaaaaa\",\"odaaaaaaaa\",\"pdaaaaaaaa\",\"qdaaaaaaaa\",\"rdaaaaaaaa\",\"sdaaaaaaaa\",\"tdaaaaaaaa\",\"udaaaaaaaa\",\"vdaaaaaaaa\",\"wdaaaaaaaa\",\"xdaaaaaaaa\",\"ydaaaaaaaa\",\"zdaaaaaaaa\",\"aeaaaaaaaa\",\"beaaaaaaaa\",\"ceaaaaaaaa\",\"deaaaaaaaa\",\"eeaaaaaaaa\",\"feaaaaaaaa\",\"geaaaaaaaa\",\"heaaaaaaaa\",\"ieaaaaaaaa\",\"jeaaaaaaaa\",\"keaaaaaaaa\",\"leaaaaaaaa\",\"meaaaaaaaa\",\"neaaaaaaaa\",\"oeaaaaaaaa\",\"peaaaaaaaa\",\"qeaaaaaaaa\",\"reaaaaaaaa\",\"seaaaaaaaa\",\"teaaaaaaaa\",\"ueaaaaaaaa\",\"veaaaaaaaa\",\"weaaaaaaaa\",\"xeaaaaaaaa\",\"yeaaaaaaaa\",\"zeaaaaaaaa\",\"afaaaaaaaa\",\"bfaaaaaaaa\",\"cfaaaaaaaa\",\"dfaaaaaaaa\",\"efaaaaaaaa\",\"ffaaaaaaaa\",\"gfaaaaaaaa\",\"hfaaaaaaaa\",\"ifaaaaaaaa\",\"jfaaaaaaaa\",\"kfaaaaaaaa\",\"lfaaaaaaaa\",\"mfaaaaaaaa\",\"nfaaaaaaaa\",\"ofaaaaaaaa\",\"pfaaaaaaaa\",\"qfaaaaaaaa\",\"rfaaaaaaaa\",\"sfaaaaaaaa\",\"tfaaaaaaaa\",\"ufaaaaaaaa\",\"vfaaaaaaaa\",\"wfaaaaaaaa\",\"xfaaaaaaaa\",\"yfaaaaaaaa\",\"zfaaaaaaaa\",\"agaaaaaaaa\",\"bgaaaaaaaa\",\"cgaaaaaaaa\",\"dgaaaaaaaa\",\"egaaaaaaaa\",\"fgaaaaaaaa\",\"ggaaaaaaaa\",\"hgaaaaaaaa\",\"igaaaaaaaa\",\"jgaaaaaaaa\",\"kgaaaaaaaa\",\"lgaaaaaaaa\",\"mgaaaaaaaa\",\"ngaaaaaaaa\",\"ogaaaaaaaa\",\"pgaaaaaaaa\",\"qgaaaaaaaa\",\"rgaaaaaaaa\",\"sgaaaaaaaa\",\"tgaaaaaaaa\",\"ugaaaaaaaa\",\"vgaaaaaaaa\",\"wgaaaaaaaa\",\"xgaaaaaaaa\",\"ygaaaaaaaa\",\"zgaaaaaaaa\",\"ahaaaaaaaa\",\"bhaaaaaaaa\",\"chaaaaaaaa\",\"dhaaaaaaaa\",\"ehaaaaaaaa\",\"fhaaaaaaaa\",\"ghaaaaaaaa\",\"hhaaaaaaaa\",\"ihaaaaaaaa\",\"jhaaaaaaaa\",\"khaaaaaaaa\",\"lhaaaaaaaa\",\"mhaaaaaaaa\",\"nhaaaaaaaa\",\"ohaaaaaaaa\",\"phaaaaaaaa\",\"qhaaaaaaaa\",\"rhaaaaaaaa\",\"shaaaaaaaa\",\"thaaaaaaaa\",\"uhaaaaaaaa\",\"vhaaaaaaaa\",\"whaaaaaaaa\",\"xhaaaaaaaa\",\"yhaaaaaaaa\",\"zhaaaaaaaa\",\"aiaaaaaaaa\",\"biaaaaaaaa\",\"ciaaaaaaaa\",\"diaaaaaaaa\",\"eiaaaaaaaa\",\"fiaaaaaaaa\",\"giaaaaaaaa\",\"hiaaaaaaaa\",\"iiaaaaaaaa\",\"jiaaaaaaaa\",\"kiaaaaaaaa\",\"liaaaaaaaa\",\"miaaaaaaaa\",\"niaaaaaaaa\",\"oiaaaaaaaa\",\"piaaaaaaaa\",\"qiaaaaaaaa\",\"riaaaaaaaa\",\"siaaaaaaaa\",\"tiaaaaaaaa\",\"uiaaaaaaaa\",\"viaaaaaaaa\",\"wiaaaaaaaa\",\"xiaaaaaaaa\",\"yiaaaaaaaa\",\"ziaaaaaaaa\",\"ajaaaaaaaa\",\"bjaaaaaaaa\",\"cjaaaaaaaa\",\"djaaaaaaaa\",\"ejaaaaaaaa\",\"fjaaaaaaaa\",\"gjaaaaaaaa\",\"hjaaaaaaaa\",\"ijaaaaaaaa\",\"jjaaaaaaaa\",\"kjaaaaaaaa\",\"ljaaaaaaaa\",\"mjaaaaaaaa\",\"njaaaaaaaa\",\"ojaaaaaaaa\",\"pjaaaaaaaa\",\"qjaaaaaaaa\",\"rjaaaaaaaa\",\"sjaaaaaaaa\",\"tjaaaaaaaa\",\"ujaaaaaaaa\",\"vjaaaaaaaa\",\"wjaaaaaaaa\",\"xjaaaaaaaa\",\"yjaaaaaaaa\",\"zjaaaaaaaa\",\"akaaaaaaaa\",\"bkaaaaaaaa\",\"ckaaaaaaaa\",\"dkaaaaaaaa\",\"ekaaaaaaaa\",\"fkaaaaaaaa\",\"gkaaaaaaaa\",\"hkaaaaaaaa\",\"ikaaaaaaaa\",\"jkaaaaaaaa\",\"kkaaaaaaaa\",\"lkaaaaaaaa\",\"mkaaaaaaaa\",\"nkaaaaaaaa\",\"okaaaaaaaa\",\"pkaaaaaaaa\",\"qkaaaaaaaa\",\"rkaaaaaaaa\",\"skaaaaaaaa\",\"tkaaaaaaaa\",\"ukaaaaaaaa\",\"vkaaaaaaaa\",\"wkaaaaaaaa\",\"xkaaaaaaaa\",\"ykaaaaaaaa\",\"zkaaaaaaaa\",\"alaaaaaaaa\",\"blaaaaaaaa\",\"claaaaaaaa\",\"dlaaaaaaaa\",\"elaaaaaaaa\",\"flaaaaaaaa\",\"glaaaaaaaa\",\"hlaaaaaaaa\",\"ilaaaaaaaa\",\"jlaaaaaaaa\",\"klaaaaaaaa\",\"llaaaaaaaa\",\"mlaaaaaaaa\",\"nlaaaaaaaa\",\"olaaaaaaaa\",\"plaaaaaaaa\",\"qlaaaaaaaa\",\"rlaaaaaaaa\",\"slaaaaaaaa\",\"tlaaaaaaaa\",\"ulaaaaaaaa\",\"vlaaaaaaaa\",\"wlaaaaaaaa\",\"xlaaaaaaaa\",\"ylaaaaaaaa\",\"zlaaaaaaaa\",\"amaaaaaaaa\",\"bmaaaaaaaa\",\"cmaaaaaaaa\",\"dmaaaaaaaa\",\"emaaaaaaaa\",\"fmaaaaaaaa\",\"gmaaaaaaaa\",\"hmaaaaaaaa\",\"imaaaaaaaa\",\"jmaaaaaaaa\",\"kmaaaaaaaa\",\"lmaaaaaaaa\",\"mmaaaaaaaa\",\"nmaaaaaaaa\",\"omaaaaaaaa\",\"pmaaaaaaaa\",\"qmaaaaaaaa\",\"rmaaaaaaaa\",\"smaaaaaaaa\",\"tmaaaaaaaa\",\"umaaaaaaaa\",\"vmaaaaaaaa\",\"wmaaaaaaaa\",\"xmaaaaaaaa\",\"ymaaaaaaaa\",\"zmaaaaaaaa\",\"anaaaaaaaa\",\"bnaaaaaaaa\",\"cnaaaaaaaa\",\"dnaaaaaaaa\",\"enaaaaaaaa\",\"fnaaaaaaaa\",\"gnaaaaaaaa\",\"hnaaaaaaaa\",\"inaaaaaaaa\",\"jnaaaaaaaa\",\"knaaaaaaaa\",\"lnaaaaaaaa\",\"mnaaaaaaaa\",\"nnaaaaaaaa\",\"onaaaaaaaa\",\"pnaaaaaaaa\",\"qnaaaaaaaa\",\"rnaaaaaaaa\",\"snaaaaaaaa\",\"tnaaaaaaaa\",\"unaaaaaaaa\",\"vnaaaaaaaa\",\"wnaaaaaaaa\",\"xnaaaaaaaa\",\"ynaaaaaaaa\",\"znaaaaaaaa\",\"aoaaaaaaaa\",\"boaaaaaaaa\",\"coaaaaaaaa\",\"doaaaaaaaa\",\"eoaaaaaaaa\",\"foaaaaaaaa\",\"goaaaaaaaa\",\"hoaaaaaaaa\",\"ioaaaaaaaa\",\"joaaaaaaaa\",\"koaaaaaaaa\",\"loaaaaaaaa\",\"moaaaaaaaa\",\"noaaaaaaaa\",\"ooaaaaaaaa\",\"poaaaaaaaa\",\"qoaaaaaaaa\",\"roaaaaaaaa\",\"soaaaaaaaa\",\"toaaaaaaaa\",\"uoaaaaaaaa\",\"voaaaaaaaa\",\"woaaaaaaaa\",\"xoaaaaaaaa\",\"yoaaaaaaaa\",\"zoaaaaaaaa\",\"apaaaaaaaa\",\"bpaaaaaaaa\",\"cpaaaaaaaa\",\"dpaaaaaaaa\",\"epaaaaaaaa\",\"fpaaaaaaaa\",\"gpaaaaaaaa\",\"hpaaaaaaaa\",\"ipaaaaaaaa\",\"jpaaaaaaaa\",\"kpaaaaaaaa\",\"lpaaaaaaaa\",\"mpaaaaaaaa\",\"npaaaaaaaa\",\"opaaaaaaaa\",\"ppaaaaaaaa\",\"qpaaaaaaaa\",\"rpaaaaaaaa\",\"spaaaaaaaa\",\"tpaaaaaaaa\",\"upaaaaaaaa\",\"vpaaaaaaaa\",\"wpaaaaaaaa\",\"xpaaaaaaaa\",\"ypaaaaaaaa\",\"zpaaaaaaaa\",\"aqaaaaaaaa\",\"bqaaaaaaaa\",\"cqaaaaaaaa\",\"dqaaaaaaaa\",\"eqaaaaaaaa\",\"fqaaaaaaaa\",\"gqaaaaaaaa\",\"hqaaaaaaaa\",\"iqaaaaaaaa\",\"jqaaaaaaaa\",\"kqaaaaaaaa\",\"lqaaaaaaaa\",\"mqaaaaaaaa\",\"nqaaaaaaaa\",\"oqaaaaaaaa\",\"pqaaaaaaaa\",\"qqaaaaaaaa\",\"rqaaaaaaaa\",\"sqaaaaaaaa\",\"tqaaaaaaaa\",\"uqaaaaaaaa\",\"vqaaaaaaaa\",\"wqaaaaaaaa\",\"xqaaaaaaaa\",\"yqaaaaaaaa\",\"zqaaaaaaaa\",\"araaaaaaaa\",\"braaaaaaaa\",\"craaaaaaaa\",\"draaaaaaaa\",\"eraaaaaaaa\",\"fraaaaaaaa\",\"graaaaaaaa\",\"hraaaaaaaa\",\"iraaaaaaaa\",\"jraaaaaaaa\",\"kraaaaaaaa\",\"lraaaaaaaa\",\"mraaaaaaaa\",\"nraaaaaaaa\",\"oraaaaaaaa\",\"praaaaaaaa\",\"qraaaaaaaa\",\"rraaaaaaaa\",\"sraaaaaaaa\",\"traaaaaaaa\",\"uraaaaaaaa\",\"vraaaaaaaa\",\"wraaaaaaaa\",\"xraaaaaaaa\",\"yraaaaaaaa\",\"zraaaaaaaa\",\"asaaaaaaaa\",\"bsaaaaaaaa\",\"csaaaaaaaa\",\"dsaaaaaaaa\",\"esaaaaaaaa\",\"fsaaaaaaaa\",\"gsaaaaaaaa\",\"hsaaaaaaaa\",\"isaaaaaaaa\",\"jsaaaaaaaa\",\"ksaaaaaaaa\",\"lsaaaaaaaa\",\"msaaaaaaaa\",\"nsaaaaaaaa\",\"osaaaaaaaa\",\"psaaaaaaaa\",\"qsaaaaaaaa\",\"rsaaaaaaaa\",\"ssaaaaaaaa\",\"tsaaaaaaaa\",\"usaaaaaaaa\",\"vsaaaaaaaa\",\"wsaaaaaaaa\",\"xsaaaaaaaa\",\"ysaaaaaaaa\",\"zsaaaaaaaa\",\"ataaaaaaaa\",\"btaaaaaaaa\",\"ctaaaaaaaa\",\"dtaaaaaaaa\",\"etaaaaaaaa\",\"ftaaaaaaaa\",\"gtaaaaaaaa\",\"htaaaaaaaa\",\"itaaaaaaaa\",\"jtaaaaaaaa\",\"ktaaaaaaaa\",\"ltaaaaaaaa\",\"mtaaaaaaaa\",\"ntaaaaaaaa\",\"otaaaaaaaa\",\"ptaaaaaaaa\",\"qtaaaaaaaa\",\"rtaaaaaaaa\",\"staaaaaaaa\",\"ttaaaaaaaa\",\"utaaaaaaaa\",\"vtaaaaaaaa\",\"wtaaaaaaaa\",\"xtaaaaaaaa\",\"ytaaaaaaaa\",\"ztaaaaaaaa\",\"auaaaaaaaa\",\"buaaaaaaaa\",\"cuaaaaaaaa\",\"duaaaaaaaa\",\"euaaaaaaaa\",\"fuaaaaaaaa\",\"guaaaaaaaa\",\"huaaaaaaaa\",\"iuaaaaaaaa\",\"juaaaaaaaa\",\"kuaaaaaaaa\",\"luaaaaaaaa\",\"muaaaaaaaa\",\"nuaaaaaaaa\",\"ouaaaaaaaa\",\"puaaaaaaaa\",\"quaaaaaaaa\",\"ruaaaaaaaa\",\"suaaaaaaaa\",\"tuaaaaaaaa\",\"uuaaaaaaaa\",\"vuaaaaaaaa\",\"wuaaaaaaaa\",\"xuaaaaaaaa\",\"yuaaaaaaaa\",\"zuaaaaaaaa\",\"avaaaaaaaa\",\"bvaaaaaaaa\",\"cvaaaaaaaa\",\"dvaaaaaaaa\",\"evaaaaaaaa\",\"fvaaaaaaaa\",\"gvaaaaaaaa\",\"hvaaaaaaaa\",\"ivaaaaaaaa\",\"jvaaaaaaaa\",\"kvaaaaaaaa\",\"lvaaaaaaaa\",\"mvaaaaaaaa\",\"nvaaaaaaaa\",\"ovaaaaaaaa\",\"pvaaaaaaaa\",\"qvaaaaaaaa\",\"rvaaaaaaaa\",\"svaaaaaaaa\",\"tvaaaaaaaa\",\"uvaaaaaaaa\",\"vvaaaaaaaa\",\"wvaaaaaaaa\",\"xvaaaaaaaa\",\"yvaaaaaaaa\",\"zvaaaaaaaa\",\"awaaaaaaaa\",\"bwaaaaaaaa\",\"cwaaaaaaaa\",\"dwaaaaaaaa\",\"ewaaaaaaaa\",\"fwaaaaaaaa\",\"gwaaaaaaaa\",\"hwaaaaaaaa\",\"iwaaaaaaaa\",\"jwaaaaaaaa\",\"kwaaaaaaaa\",\"lwaaaaaaaa\",\"mwaaaaaaaa\",\"nwaaaaaaaa\",\"owaaaaaaaa\",\"pwaaaaaaaa\",\"qwaaaaaaaa\",\"rwaaaaaaaa\",\"swaaaaaaaa\",\"twaaaaaaaa\",\"uwaaaaaaaa\",\"vwaaaaaaaa\",\"wwaaaaaaaa\",\"xwaaaaaaaa\",\"ywaaaaaaaa\",\"zwaaaaaaaa\",\"axaaaaaaaa\",\"bxaaaaaaaa\",\"cxaaaaaaaa\",\"dxaaaaaaaa\",\"exaaaaaaaa\",\"fxaaaaaaaa\",\"gxaaaaaaaa\",\"hxaaaaaaaa\",\"ixaaaaaaaa\",\"jxaaaaaaaa\",\"kxaaaaaaaa\",\"lxaaaaaaaa\",\"mxaaaaaaaa\",\"nxaaaaaaaa\",\"oxaaaaaaaa\",\"pxaaaaaaaa\",\"qxaaaaaaaa\",\"rxaaaaaaaa\",\"sxaaaaaaaa\",\"txaaaaaaaa\",\"uxaaaaaaaa\",\"vxaaaaaaaa\",\"wxaaaaaaaa\",\"xxaaaaaaaa\",\"yxaaaaaaaa\",\"zxaaaaaaaa\",\"ayaaaaaaaa\",\"byaaaaaaaa\",\"cyaaaaaaaa\",\"dyaaaaaaaa\",\"eyaaaaaaaa\",\"fyaaaaaaaa\",\"gyaaaaaaaa\",\"hyaaaaaaaa\",\"iyaaaaaaaa\",\"jyaaaaaaaa\",\"kyaaaaaaaa\",\"lyaaaaaaaa\",\"myaaaaaaaa\",\"nyaaaaaaaa\",\"oyaaaaaaaa\",\"pyaaaaaaaa\",\"qyaaaaaaaa\",\"ryaaaaaaaa\",\"syaaaaaaaa\",\"tyaaaaaaaa\",\"uyaaaaaaaa\",\"vyaaaaaaaa\",\"wyaaaaaaaa\",\"xyaaaaaaaa\",\"yyaaaaaaaa\",\"zyaaaaaaaa\",\"azaaaaaaaa\",\"bzaaaaaaaa\",\"czaaaaaaaa\",\"dzaaaaaaaa\",\"ezaaaaaaaa\",\"fzaaaaaaaa\",\"gzaaaaaaaa\",\"hzaaaaaaaa\",\"izaaaaaaaa\",\"jzaaaaaaaa\",\"kzaaaaaaaa\",\"lzaaaaaaaa\",\"mzaaaaaaaa\",\"nzaaaaaaaa\",\"ozaaaaaaaa\",\"pzaaaaaaaa\",\"qzaaaaaaaa\",\"rzaaaaaaaa\",\"szaaaaaaaa\",\"tzaaaaaaaa\",\"uzaaaaaaaa\",\"vzaaaaaaaa\",\"wzaaaaaaaa\",\"xzaaaaaaaa\",\"yzaaaaaaaa\",\"zzaaaaaaaa\"]\n",
    "s.wordSearch2(board, words)"
   ]
  },
  {
   "cell_type": "code",
   "execution_count": null,
   "id": "db4ab3e7-8bf0-4079-8193-a16a4962b424",
   "metadata": {},
   "outputs": [],
   "source": []
  }
 ],
 "metadata": {
  "kernelspec": {
   "display_name": "Python 3 (ipykernel)",
   "language": "python",
   "name": "python3"
  },
  "language_info": {
   "codemirror_mode": {
    "name": "ipython",
    "version": 3
   },
   "file_extension": ".py",
   "mimetype": "text/x-python",
   "name": "python",
   "nbconvert_exporter": "python",
   "pygments_lexer": "ipython3",
   "version": "3.8.12"
  }
 },
 "nbformat": 4,
 "nbformat_minor": 5
}
