{
 "cells": [
  {
   "cell_type": "markdown",
   "id": "4aca94df-b854-451a-97f2-03b24ea46be6",
   "metadata": {
    "tags": []
   },
   "source": [
    "<img src=\"301.png\" width=1000 height=600>"
   ]
  },
  {
   "cell_type": "markdown",
   "id": "c5b0f508-8898-41ba-a7bf-14a1fd4df7f0",
   "metadata": {},
   "source": [
    "- Related question: 1249"
   ]
  },
  {
   "cell_type": "markdown",
   "id": "c8c7b3db-3bf8-46dc-9ef5-accd9f360bbd",
   "metadata": {
    "tags": []
   },
   "source": [
    "# Solution\n",
    "- To get all possible answers, we need to perform a BFS search. Starting from removing 1 character, we can check all possible scenarios and if none are valid after removing, we can continue to remove another character and so on.\n",
    "- Save the changed strings in a queue and record the # of changes made.\n"
   ]
  },
  {
   "cell_type": "code",
   "execution_count": 6,
   "id": "bc7cf7fe-dafd-4c69-8048-c5f330d43525",
   "metadata": {
    "tags": []
   },
   "outputs": [],
   "source": [
    "from typing import Dict, Literal, Union, List"
   ]
  },
  {
   "cell_type": "code",
   "execution_count": 15,
   "id": "5f45b039-a351-4d4d-999c-466939a45476",
   "metadata": {
    "tags": []
   },
   "outputs": [],
   "source": [
    "def removeInvalidParentheses(s: str) -> List[str]:\n",
    "    def checkValid(s: str):\n",
    "        count = 0\n",
    "        for c in s:\n",
    "            if c=='(':\n",
    "                count += 1\n",
    "            elif c==')':\n",
    "                count -= 1\n",
    "                if count < 0:\n",
    "                    return False\n",
    "        if count == 0:\n",
    "            return True\n",
    "        return False\n",
    "    \n",
    "    def BFS(s: str):\n",
    "        queue = [s]\n",
    "        num_changes = [0]\n",
    "        p = 0\n",
    "        visited = {s: 'True'}\n",
    "        min_changes = len(s) + 1\n",
    "        res = []\n",
    "        while p < len(queue):\n",
    "            s = queue[p]\n",
    "            if num_changes[p] > min_changes:\n",
    "                break\n",
    "            for i in range(len(s)):\n",
    "                if s[i] in ['(',')']:\n",
    "                    new_s = s[:i] + s[i+1:]\n",
    "                    if new_s not in visited:\n",
    "                        queue.append(new_s)\n",
    "                        num_changes.append(num_changes[p]+1)\n",
    "                        visited[new_s] = True\n",
    "                        if checkValid(new_s):\n",
    "                            min_changes = num_changes[p] + 1\n",
    "                            res.append(new_s)\n",
    "            p += 1\n",
    "        return res\n",
    "                \n",
    "    if checkValid(s):\n",
    "        return [s]\n",
    "    else:\n",
    "        return BFS(s)\n",
    "    "
   ]
  },
  {
   "cell_type": "code",
   "execution_count": 17,
   "id": "8b2efe69-3655-4522-89a6-160ba5942432",
   "metadata": {
    "tags": []
   },
   "outputs": [
    {
     "data": {
      "text/plain": [
       "['(a())()', '(a)()()']"
      ]
     },
     "execution_count": 17,
     "metadata": {},
     "output_type": "execute_result"
    }
   ],
   "source": [
    "removeInvalidParentheses(\"(a)())()\")"
   ]
  },
  {
   "cell_type": "code",
   "execution_count": null,
   "id": "c957e334-940b-47dc-9005-37304a39864b",
   "metadata": {},
   "outputs": [],
   "source": []
  }
 ],
 "metadata": {
  "kernelspec": {
   "display_name": "Python 3 (ipykernel)",
   "language": "python",
   "name": "python3"
  },
  "language_info": {
   "codemirror_mode": {
    "name": "ipython",
    "version": 3
   },
   "file_extension": ".py",
   "mimetype": "text/x-python",
   "name": "python",
   "nbconvert_exporter": "python",
   "pygments_lexer": "ipython3",
   "version": "3.8.12"
  }
 },
 "nbformat": 4,
 "nbformat_minor": 5
}
