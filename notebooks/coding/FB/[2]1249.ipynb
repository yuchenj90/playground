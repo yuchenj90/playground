{
 "cells": [
  {
   "cell_type": "markdown",
   "id": "b703c61d-1621-4539-b610-d83e8e9f2179",
   "metadata": {
    "tags": []
   },
   "source": [
    "<img src=\"1249.png\" width=1000 height=600>"
   ]
  },
  {
   "cell_type": "markdown",
   "id": "51547bcc-ef2c-4145-8349-d3c27706ccf1",
   "metadata": {},
   "source": [
    "# Solution\n",
    "- Use stack to save the position of '('. When we found ')', we pop out as long as there is '(' in the stack. If there are none, we need to remove this ')'. Finally, we remove all the remainning '(' in the stack. \n",
    "- String is immutable in python, for the ease of modification, we change it to list first.\n",
    "- Time complexity O(n), space complexity O(n)"
   ]
  },
  {
   "cell_type": "code",
   "execution_count": 7,
   "id": "8c3b0058-6c69-4c17-bcac-4270136b5edc",
   "metadata": {
    "tags": []
   },
   "outputs": [],
   "source": [
    "def minRemoveToMakeValid(s: str) -> str:\n",
    "    l = [c for c in s]\n",
    "    stack = []\n",
    "    n = len(l)\n",
    "    for i in range(n):\n",
    "        if l[i] == '(':\n",
    "            stack.append(i)\n",
    "        if l[i] == ')':\n",
    "            if len(stack) == 0:\n",
    "                l[i] = ''\n",
    "            else:\n",
    "                stack.pop()\n",
    "    for i in stack:\n",
    "        l[i] = ''\n",
    "    return ''.join(l)"
   ]
  },
  {
   "cell_type": "code",
   "execution_count": 8,
   "id": "4ff8d1f4-4957-45b2-9a59-2d45fc37f674",
   "metadata": {
    "tags": []
   },
   "outputs": [
    {
     "data": {
      "text/plain": [
       "'lee(t(c)o)de'"
      ]
     },
     "execution_count": 8,
     "metadata": {},
     "output_type": "execute_result"
    }
   ],
   "source": [
    "minRemoveToMakeValid(\"lee(t(c)o)de)\")"
   ]
  },
  {
   "cell_type": "code",
   "execution_count": 9,
   "id": "108cba41-adeb-4db5-baae-76011d0c591e",
   "metadata": {
    "tags": []
   },
   "outputs": [
    {
     "data": {
      "text/plain": [
       "''"
      ]
     },
     "execution_count": 9,
     "metadata": {},
     "output_type": "execute_result"
    }
   ],
   "source": [
    "minRemoveToMakeValid(\"))((\")"
   ]
  },
  {
   "cell_type": "code",
   "execution_count": 10,
   "id": "5e3588bf-c9a3-494f-823a-382040771a05",
   "metadata": {
    "tags": []
   },
   "outputs": [
    {
     "data": {
      "text/plain": [
       "'ab(c)d'"
      ]
     },
     "execution_count": 10,
     "metadata": {},
     "output_type": "execute_result"
    }
   ],
   "source": [
    "minRemoveToMakeValid(\"a)b(c)d\")"
   ]
  },
  {
   "cell_type": "code",
   "execution_count": 11,
   "id": "791dd708-8669-4ce5-a7be-effe79868a28",
   "metadata": {
    "tags": []
   },
   "outputs": [
    {
     "data": {
      "text/plain": [
       "'((()(()(()))))'"
      ]
     },
     "execution_count": 11,
     "metadata": {},
     "output_type": "execute_result"
    }
   ],
   "source": [
    "minRemoveToMakeValid(\"((()(()(()))))\")"
   ]
  },
  {
   "cell_type": "code",
   "execution_count": null,
   "id": "fbfe92f6-1248-47ae-999e-7c7d009c2c9d",
   "metadata": {},
   "outputs": [],
   "source": []
  },
  {
   "cell_type": "code",
   "execution_count": null,
   "id": "dc236d49-7a0c-46a3-af99-a8c8f7a79ce4",
   "metadata": {},
   "outputs": [],
   "source": []
  }
 ],
 "metadata": {
  "kernelspec": {
   "display_name": "Python 3 (ipykernel)",
   "language": "python",
   "name": "python3"
  },
  "language_info": {
   "codemirror_mode": {
    "name": "ipython",
    "version": 3
   },
   "file_extension": ".py",
   "mimetype": "text/x-python",
   "name": "python",
   "nbconvert_exporter": "python",
   "pygments_lexer": "ipython3",
   "version": "3.8.12"
  }
 },
 "nbformat": 4,
 "nbformat_minor": 5
}
