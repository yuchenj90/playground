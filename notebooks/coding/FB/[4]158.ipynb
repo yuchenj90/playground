{
 "cells": [
  {
   "cell_type": "markdown",
   "id": "3476ae99-f338-4b9d-b573-f2e9432a8b23",
   "metadata": {
    "tags": []
   },
   "source": [
    "<img src=\"158-1.png\" width=700 height=400>\n",
    "<img src=\"158-2.png\" width=700 height=400>\n",
    "<img src=\"158-3.png\" width=700 height=400>\n",
    "<img src=\"158-4.png\" width=700 height=400>\n",
    "<img src=\"158-5.png\" width=700 height=400>\n"
   ]
  },
  {
   "cell_type": "code",
   "execution_count": 3,
   "id": "1f514c30-ab3e-4ead-b5ac-7b80367ae5c9",
   "metadata": {
    "tags": []
   },
   "outputs": [],
   "source": [
    "from typing import Dict, Literal, Union, List"
   ]
  },
  {
   "cell_type": "code",
   "execution_count": 4,
   "id": "e57e86ca-4aee-4091-a2a3-9339ae68a5ca",
   "metadata": {
    "tags": []
   },
   "outputs": [],
   "source": [
    "# The read4 API is already defined for you.\n",
    "# def read4(buf4: List[str]) -> int:\n",
    "\n",
    "class Solution:\n",
    "    def __init__(self):\n",
    "        self.unused_chars = []\n",
    "        \n",
    "    def read(self, buf: List[str], n: int) -> int:\n",
    "        res = []\n",
    "        if len(self.unused_chars) > 0:\n",
    "            if len(self.unused_chars) > n:\n",
    "                res = self.unused_chars[:n]\n",
    "                self.unused_chars = self.unused_chars[n:]\n",
    "                n = n - len(res)\n",
    "            elif len(self.unused_chars) > 0:\n",
    "                res = self.unused_chars[:]\n",
    "                n = n - len(self.unused_chars)\n",
    "                self.unused_chars = []\n",
    "\n",
    "        buf4 = [\"\" for i in range(4)]\n",
    "        while n > 0:\n",
    "            s = read4(buf4)\n",
    "            # print(\"buf4:\", buf4)\n",
    "            if s <= n:\n",
    "                if s == 0: # reach the end of the file\n",
    "                    break\n",
    "                for x in buf4[:s]:\n",
    "                    res.append(x)\n",
    "                n = n - s\n",
    "            else: # retrieved more than needed\n",
    "                for i in range(n):\n",
    "                    res.append(buf4[i])\n",
    "                self.unused_chars = [buf4[i] for i in range(n, s)]\n",
    "                break\n",
    "            # print(res, self.unused_chars, n)\n",
    "        for i in range(len(res)):\n",
    "            buf[i] = res[i]\n",
    "        return len(res)"
   ]
  },
  {
   "cell_type": "code",
   "execution_count": null,
   "id": "08972572-17f8-4081-848b-b12afe603389",
   "metadata": {},
   "outputs": [],
   "source": []
  }
 ],
 "metadata": {
  "kernelspec": {
   "display_name": "Python 3 (ipykernel)",
   "language": "python",
   "name": "python3"
  },
  "language_info": {
   "codemirror_mode": {
    "name": "ipython",
    "version": 3
   },
   "file_extension": ".py",
   "mimetype": "text/x-python",
   "name": "python",
   "nbconvert_exporter": "python",
   "pygments_lexer": "ipython3",
   "version": "3.8.12"
  }
 },
 "nbformat": 4,
 "nbformat_minor": 5
}
