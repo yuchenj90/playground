{
 "cells": [
  {
   "cell_type": "code",
   "execution_count": 2,
   "id": "3a6a5cd6-2b5e-44ac-a755-412ae6cb2dd6",
   "metadata": {
    "tags": []
   },
   "outputs": [],
   "source": [
    "def minRemoveToMakeValid(s: str) -> str:\n",
    "    l = [c for c in s]\n",
    "    s = []\n",
    "    for i in range(len(l)):\n",
    "        if l[i]=='(':\n",
    "            s.append(i)\n",
    "        elif l[i]==')':\n",
    "            if len(s)>0:\n",
    "                del s[-1]\n",
    "            else:\n",
    "                l[i] = ''\n",
    "    for i in s:\n",
    "        l[i] = ''\n",
    "    return \"\".join(l)\n",
    "            \n",
    "            \n"
   ]
  },
  {
   "cell_type": "code",
   "execution_count": 5,
   "id": "e925e806-f19c-4a11-b28d-4ebd3a735b57",
   "metadata": {
    "tags": []
   },
   "outputs": [
    {
     "data": {
      "text/plain": [
       "'lee(t(c)o)de'"
      ]
     },
     "execution_count": 5,
     "metadata": {},
     "output_type": "execute_result"
    }
   ],
   "source": [
    "minRemoveToMakeValid(\"lee(t(c)o)de)\")"
   ]
  },
  {
   "cell_type": "code",
   "execution_count": 22,
   "id": "e0f46c81-59ea-47ff-a994-976246b1fa41",
   "metadata": {
    "tags": []
   },
   "outputs": [],
   "source": [
    "from typing import List\n",
    "def change(amount: int, coins: List[int]) -> int:\n",
    "    m = len(coins)\n",
    "    dp = [1] + [0 for i in range(amount)]\n",
    "    res = [[[]]] + [[] for i in range(amount)]\n",
    "    for c in coins:\n",
    "        for i in range(c, amount+1):\n",
    "            dp[i] += dp[i-c]\n",
    "            for l in res[i-c]:\n",
    "                res[i].append(l+[c])\n",
    "    return dp[amount], res[amount]"
   ]
  },
  {
   "cell_type": "code",
   "execution_count": 28,
   "id": "d8cb6898-318f-4f57-a257-bfac09e57a6f",
   "metadata": {
    "tags": []
   },
   "outputs": [],
   "source": [
    "x, y = change(10, [2,3,5])"
   ]
  },
  {
   "cell_type": "code",
   "execution_count": 30,
   "id": "a24a1dd2-e043-48f7-89ea-bb842441030f",
   "metadata": {
    "tags": []
   },
   "outputs": [
    {
     "data": {
      "text/plain": [
       "[[2, 2, 2, 2, 2], [2, 2, 3, 3], [2, 3, 5], [5, 5]]"
      ]
     },
     "execution_count": 30,
     "metadata": {},
     "output_type": "execute_result"
    }
   ],
   "source": [
    "y"
   ]
  },
  {
   "cell_type": "code",
   "execution_count": 19,
   "id": "fca128a5-1e7c-478d-b9c8-53b4e14b603b",
   "metadata": {
    "tags": []
   },
   "outputs": [
    {
     "data": {
      "text/plain": [
       "[]"
      ]
     },
     "execution_count": 19,
     "metadata": {},
     "output_type": "execute_result"
    }
   ],
   "source": [
    "res = [[] for i in range(1000+1)]\n",
    "res[0]"
   ]
  },
  {
   "cell_type": "code",
   "execution_count": 50,
   "id": "6b1d614d-748f-4ee9-ba49-e19baf563a1a",
   "metadata": {
    "tags": []
   },
   "outputs": [],
   "source": [
    "import numpy as np\n",
    "np.random.seed(14)\n",
    "def quicksort(nums):\n",
    "    if len(nums)<=1:\n",
    "        return nums\n",
    "    n = len(nums)\n",
    "    p = np.random.choice(range(n))\n",
    "    nums[p],nums[n-1] = nums[n-1], nums[p]\n",
    "    pl = 0\n",
    "    pr = n-2\n",
    "    while pl <= pr:\n",
    "        if nums[pl] > nums[n-1]:\n",
    "            nums[pr], nums[pl] = nums[pl], nums[pr]\n",
    "            pr -= 1\n",
    "        else:\n",
    "            pl += 1\n",
    "    print(nums)\n",
    "    if pl==n-1:\n",
    "        return quicksort(nums[:n-1]) + [nums[n-1]]\n",
    "    elif nums[pl] > nums[n-1]:\n",
    "        return quicksort(nums[:pl]) + [nums[n-1]] + quicksort(nums[pl:n-1])\n",
    "    else:\n",
    "        return quicksort(nums[:pl+1]) + [nums[n-1]] + quicksort(nums[pl+1:n-1])\n",
    "    \n",
    "            \n",
    "            "
   ]
  },
  {
   "cell_type": "code",
   "execution_count": 52,
   "id": "3fd72957-825b-4bfd-9349-85c029dcba44",
   "metadata": {
    "tags": []
   },
   "outputs": [
    {
     "name": "stdout",
     "output_type": "stream",
     "text": [
      "[2, -7, -1, 2, 1, -4, 5, 7, 9, 8, 7, 7, 3, 10, 4, 2]\n",
      "[-4, -7, 2, 1, 2, -1]\n",
      "[-7, -4]\n",
      "[2, 1, 2]\n",
      "[1, 2]\n",
      "[3, 9, 8, 7, 7, 7, 10, 5, 4]\n",
      "[9, 8, 7, 7, 7, 5, 10]\n",
      "[7, 7, 5, 8, 9, 7]\n",
      "[7, 5, 7]\n",
      "[7, 5]\n",
      "[9, 8]\n"
     ]
    },
    {
     "data": {
      "text/plain": [
       "[-7, -4, -1, 1, 2, 2, 2, 3, 4, 5, 7, 7, 7, 8, 9, 10]"
      ]
     },
     "execution_count": 52,
     "metadata": {},
     "output_type": "execute_result"
    }
   ],
   "source": [
    "quicksort([4,3,7,2,7,8,-4,5,7,2,1,-1,-7,2,10,9])"
   ]
  },
  {
   "cell_type": "code",
   "execution_count": 53,
   "id": "79e76aa2-5cdc-40e6-9c7b-d224d23fb348",
   "metadata": {
    "tags": []
   },
   "outputs": [],
   "source": [
    "from typing import List\n",
    "class Node:\n",
    "    def __init__(self, val, p=None):\n",
    "        self.val = val\n",
    "        self.parent = p\n",
    "        \n",
    "class UnionFind:\n",
    "    def __init__(self, l: List[int]) -> None:\n",
    "        self.node = {Node(x): x for x in l}\n",
    "    \n",
    "    def union(self, x: Node, y: Node) -> None:\n",
    "        x = self.find(x)  \n",
    "        y = self.find(y) \n",
    "        if x!=y:\n",
    "            y.parent = x\n",
    "        \n",
    "    def find(self, x: Node) -> Node:\n",
    "        while x.parent is not None:\n",
    "            x = x.parent \n",
    "        return x"
   ]
  },
  {
   "cell_type": "code",
   "execution_count": null,
   "id": "12666449-ae99-4ce8-81ae-96e1549beda4",
   "metadata": {},
   "outputs": [],
   "source": []
  }
 ],
 "metadata": {
  "kernelspec": {
   "display_name": "Python 3 (ipykernel)",
   "language": "python",
   "name": "python3"
  },
  "language_info": {
   "codemirror_mode": {
    "name": "ipython",
    "version": 3
   },
   "file_extension": ".py",
   "mimetype": "text/x-python",
   "name": "python",
   "nbconvert_exporter": "python",
   "pygments_lexer": "ipython3",
   "version": "3.8.12"
  }
 },
 "nbformat": 4,
 "nbformat_minor": 5
}
