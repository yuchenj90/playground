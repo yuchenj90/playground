{
 "cells": [
  {
   "cell_type": "markdown",
   "id": "e4636d3f-2845-499f-8332-8dfd1485443b",
   "metadata": {
    "tags": []
   },
   "source": [
    "<img src=\"287-1.png\" width=800 height=500>\n",
    "<img src=\"287-2.png\" width=800 height=500>"
   ]
  },
  {
   "cell_type": "code",
   "execution_count": null,
   "id": "0db6de9a-51b6-41b7-9093-3aca5a3f72fc",
   "metadata": {},
   "outputs": [],
   "source": []
  },
  {
   "cell_type": "markdown",
   "id": "46049dea-2eaa-42ad-ad05-35f86842a9dd",
   "metadata": {},
   "source": [
    "# Solution\n",
    "- Method 1: sort and check the adjacent element. Time complexity O(nlogn), space complexity O(1)\n",
    "- Method 2: Convert nums array to a linked list. nums[0] -> nums[nums[0]] -> nums[nums[nums[0]]] -> ... Since each number is from range $[1,n]$, we must hit a cycle in the linked list at some point (at or before the $n+1$ element). Suppose we have $i_0=0$, $i_1=nums[0]$, $i_2=nums[i1]$, $\\dots$, $i_k=nums[i_{k-1}]=i_l$, where l<=k. Then we found the duplicates $nums[i_{k-1}] = nums[i_{l-1}]$ where $i_{k-1} \\neq i_{l-1}$. Thus, we can see that the starting point of a cycle is always the duplicated number. The problem reduces to find the starting point of a cycle.\n",
    "\n",
    "    We can achieve this by using fast and slow pointers. Slow pointer moves according to slow = nums[slow], fast pointer moves 2 steps each time (fast = nums[nums[fast]]). Suppose the cycle occur at the (k+1)-th element with length l. Then after slow and fast pointers meet at some point within the cycle, we move the faster pointer to the beginning nums[0] and continue until they meet. Since the faster pointer need to traverse the linked list before the cycle twice, it cancelled out with the slower pointer's steps spent on this. Hence the next time they meet, it must be the beginning of the cycle.\n",
    "e.g. [2,4,1,3,5,3] corresponding linked list: 2->1->4->5->3->3->3->3->...\n",
    "slow pointer:2 -> 1 -> 4 -> 5 -> 3, 3 -> 3 -> 3 -> 3\n",
    "fast pointer:2 -> 4 -> 3 -> 3 -> 3, 2 -> 1 -> 5 -> 3\n",
    "\n",
    "[2,4,1,3,2] 2->1->4->2->1->4...\n",
    "slow pointer:2 -> 1 -> 4 -> 2, 2\n",
    "fast pointer:2 -> 4 -> 1 -> 2, 2\n"
   ]
  },
  {
   "cell_type": "code",
   "execution_count": null,
   "id": "08cb0bb6-50b6-4f32-ae1d-a5864bbd0f6d",
   "metadata": {},
   "outputs": [],
   "source": [
    "\n",
    "Initialize: fast = slow = nums[0] = 2\n",
    "Step 1: slow = nums[2] = 1, fast = nums[nums[2]] = 4\n",
    "Step 2: slow = nums[1] = 4, fast = nums[nums[4]] = 3\n",
    "Step 3: slow = nums[4] = 5, fast = nums[nums[3]] = 3\n",
    "Step 4: slow = nums[5] = 3, fast = nums[nums[3]] = 3"
   ]
  }
 ],
 "metadata": {
  "kernelspec": {
   "display_name": "Python 3 (ipykernel)",
   "language": "python",
   "name": "python3"
  },
  "language_info": {
   "codemirror_mode": {
    "name": "ipython",
    "version": 3
   },
   "file_extension": ".py",
   "mimetype": "text/x-python",
   "name": "python",
   "nbconvert_exporter": "python",
   "pygments_lexer": "ipython3",
   "version": "3.8.12"
  }
 },
 "nbformat": 4,
 "nbformat_minor": 5
}
