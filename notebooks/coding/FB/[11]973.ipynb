{
 "cells": [
  {
   "cell_type": "markdown",
   "id": "11c5908b-6193-49ad-b462-a3cbb77709b8",
   "metadata": {
    "tags": []
   },
   "source": [
    "<img src=\"973-1.png\" width=800 height=500>\n",
    "<img src=\"973-2.png\" width=800 height=500>"
   ]
  },
  {
   "cell_type": "code",
   "execution_count": null,
   "id": "91d6fb03-4d6c-4fa8-86a1-0e4e97c23f14",
   "metadata": {},
   "outputs": [],
   "source": []
  },
  {
   "cell_type": "markdown",
   "id": "79a37c27-2a11-4aad-938d-5683b5301d11",
   "metadata": {
    "tags": []
   },
   "source": [
    "# Solution\n",
    "- Method 1: Sort -> top K. time O(nlogn), space O(1)\n",
    "- Method 2: Maintain a max heap of size K to store the smallest K elements so far. Time O(nlogk), space O(k)\n",
    "- Method 3: Quick select a random element, find elements that are bigger or smaller than it. Then recursively do the same thing on the left or the right array, depending on the size. This is the idea of quicksort, best case time O(n), worst case time O(n^2), average case time O(nlogn). Space O(1)."
   ]
  },
  {
   "cell_type": "markdown",
   "id": "74d5b646-01de-4f7e-99d0-3ccab0aeb6e9",
   "metadata": {},
   "source": [
    "## Method 2"
   ]
  },
  {
   "cell_type": "code",
   "execution_count": 6,
   "id": "45b8a24b-24ea-4379-87ad-ddd6ad23f818",
   "metadata": {
    "tags": []
   },
   "outputs": [],
   "source": [
    "import heapq as hq\n",
    "from typing import Dict, Literal, Union, List\n",
    "def kClosest_heap(points: List[List[int]], k: int) -> List[List[int]]:\n",
    "        h = []\n",
    "        for p in points:\n",
    "            x = p[0]**2 + p[1]**2\n",
    "            if len(h) < k:\n",
    "                hq.heappush(h, (-x,tuple(p)))\n",
    "            else:\n",
    "                hq.heappushpop(h, (-x,tuple(p)))\n",
    "        return [[x[0], x[1]] for s, x in h]"
   ]
  },
  {
   "cell_type": "code",
   "execution_count": 7,
   "id": "9a696d03-5631-4793-ba11-79116ef06bb9",
   "metadata": {
    "tags": []
   },
   "outputs": [
    {
     "data": {
      "text/plain": [
       "[[-2, 4], [3, 3]]"
      ]
     },
     "execution_count": 7,
     "metadata": {},
     "output_type": "execute_result"
    }
   ],
   "source": [
    "kClosest_heap([[3,3],[5,-1],[-2,4]], 2)"
   ]
  },
  {
   "cell_type": "code",
   "execution_count": null,
   "id": "50c188ee-c1e7-4219-829e-55d2393c0773",
   "metadata": {},
   "outputs": [],
   "source": []
  },
  {
   "cell_type": "markdown",
   "id": "5b97fff0-065f-4cbe-9a09-839a187e6eb8",
   "metadata": {},
   "source": [
    "# Method 3"
   ]
  },
  {
   "cell_type": "code",
   "execution_count": 25,
   "id": "860d949d-f251-4179-89b9-8bccc2649e96",
   "metadata": {
    "tags": []
   },
   "outputs": [],
   "source": [
    "import heapq as hq\n",
    "import random\n",
    "from typing import Dict, Literal, Union, List\n",
    "def kClosest_quickselect(points: List[List[int]], k: int) -> List[List[int]]:\n",
    "    def quickselect_inplace(left, right, pivot):\n",
    "        p = points[pivot]\n",
    "        dp = p[0]**2 + p[1]**2\n",
    "        points[pivot], points[right] = points[right], points[pivot]\n",
    "        loc = left\n",
    "        for i in range(left, right):\n",
    "            if points[i][0]**2 + points[i][1]**2 < dp:\n",
    "                points[loc], points[i] = points[i], points[loc]\n",
    "                loc += 1\n",
    "        points[loc], points[right] = points[right], points[loc]\n",
    "        return loc\n",
    "\n",
    "    def quickselect(left, right):\n",
    "        if left < right:\n",
    "            pivot = random.randint(left, right)\n",
    "            pivot = quickselect_inplace(left, right, pivot)\n",
    "            if pivot < k:\n",
    "                quickselect(pivot+1, right)\n",
    "            elif pivot > k:\n",
    "                quickselect(left, pivot-1)\n",
    "        return\n",
    "\n",
    "    random.seed(43)\n",
    "    quickselect(0, len(points)-1)\n",
    "    return points[:k]"
   ]
  },
  {
   "cell_type": "code",
   "execution_count": 27,
   "id": "620ec238-738c-4e3d-b065-1ba35bfc1879",
   "metadata": {
    "tags": []
   },
   "outputs": [
    {
     "data": {
      "text/plain": [
       "[[3, 3], [-2, 4]]"
      ]
     },
     "execution_count": 27,
     "metadata": {},
     "output_type": "execute_result"
    }
   ],
   "source": [
    "kClosest_quickselect([[3,3],[5,-1],[-2,4]], 2)"
   ]
  },
  {
   "cell_type": "code",
   "execution_count": null,
   "id": "c415e8c1-22c9-41d6-b841-7f1810adad39",
   "metadata": {},
   "outputs": [],
   "source": []
  }
 ],
 "metadata": {
  "kernelspec": {
   "display_name": "Python 3 (ipykernel)",
   "language": "python",
   "name": "python3"
  },
  "language_info": {
   "codemirror_mode": {
    "name": "ipython",
    "version": 3
   },
   "file_extension": ".py",
   "mimetype": "text/x-python",
   "name": "python",
   "nbconvert_exporter": "python",
   "pygments_lexer": "ipython3",
   "version": "3.8.12"
  }
 },
 "nbformat": 4,
 "nbformat_minor": 5
}
