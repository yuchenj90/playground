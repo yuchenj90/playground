{
 "cells": [
  {
   "cell_type": "markdown",
   "id": "03089804-f232-4a92-9260-79eb9c8baba1",
   "metadata": {
    "tags": []
   },
   "source": [
    "<img src=\"680.png\" width=1000 height=600>"
   ]
  },
  {
   "cell_type": "markdown",
   "id": "531c1928-a6e3-4905-bf23-5d38524ad7a7",
   "metadata": {},
   "source": [
    "# Solution\n",
    "- When checking palindrome, we can use two pointers initially placed at the leftmost and rightmost position. We can gradually move them towards the center and check if the letters are the same.\n",
    "- Once we found letters are not the same, we must remove one of them to check if the remainning string is valid. Hence, we need to check two possible scenarios: removing the left one or removing the right one.\n",
    "- To make this work in one run, we can use two sets of pointers (left1, right1) and (left2, right2). The first one corresponds to remove the left one if not valid, the second set of pointers is used to keep track of the case when the right character is removed after finding the invalid pair"
   ]
  },
  {
   "cell_type": "code",
   "execution_count": 3,
   "id": "a0bb001c-50e2-4016-8a97-cc15aa13e300",
   "metadata": {
    "tags": []
   },
   "outputs": [],
   "source": [
    "def validPalindrome(s: str) -> bool:\n",
    "    left1, left2 = 0, 0\n",
    "    right1, right2 = len(s)-1, len(s)-1\n",
    "    flag = False\n",
    "    while left1 < right1 and left2 < right2:\n",
    "        if s[left1]!=s[right1] and s[left2]!=s[right2]:\n",
    "            if flag:\n",
    "                return False\n",
    "            else:\n",
    "                left1 += 1\n",
    "                right2 -= 1\n",
    "                flag = True\n",
    "        if s[left1] == s[right1]:\n",
    "            left1 += 1\n",
    "            right1 -= 1\n",
    "        if s[left2] == s[right2]:\n",
    "            left2 += 1\n",
    "            right2 -= 1\n",
    "\n",
    "    if left1>=right1 or left2>=right2:\n",
    "        return True\n",
    "    return False"
   ]
  },
  {
   "cell_type": "code",
   "execution_count": 4,
   "id": "ebdabf88-8eff-4b65-ae39-5db3f0965335",
   "metadata": {
    "tags": []
   },
   "outputs": [
    {
     "data": {
      "text/plain": [
       "True"
      ]
     },
     "execution_count": 4,
     "metadata": {},
     "output_type": "execute_result"
    }
   ],
   "source": [
    "validPalindrome(\"abca\")"
   ]
  },
  {
   "cell_type": "code",
   "execution_count": 5,
   "id": "23bee24b-df00-4199-a7e7-defd555462be",
   "metadata": {
    "tags": []
   },
   "outputs": [
    {
     "data": {
      "text/plain": [
       "False"
      ]
     },
     "execution_count": 5,
     "metadata": {},
     "output_type": "execute_result"
    }
   ],
   "source": [
    "validPalindrome(\"abcab\")"
   ]
  },
  {
   "cell_type": "code",
   "execution_count": null,
   "id": "a58778a8-1ef3-43ff-aaa2-f4ab925b8071",
   "metadata": {},
   "outputs": [],
   "source": []
  }
 ],
 "metadata": {
  "kernelspec": {
   "display_name": "Python 3 (ipykernel)",
   "language": "python",
   "name": "python3"
  },
  "language_info": {
   "codemirror_mode": {
    "name": "ipython",
    "version": 3
   },
   "file_extension": ".py",
   "mimetype": "text/x-python",
   "name": "python",
   "nbconvert_exporter": "python",
   "pygments_lexer": "ipython3",
   "version": "3.8.12"
  }
 },
 "nbformat": 4,
 "nbformat_minor": 5
}
