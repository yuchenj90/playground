{
 "cells": [
  {
   "cell_type": "markdown",
   "id": "ab188d78-f6b4-4df4-93d2-2c83bdb6762c",
   "metadata": {
    "tags": []
   },
   "source": [
    "<img src=\"transformer.png\" width=400 height=200>"
   ]
  },
  {
   "cell_type": "code",
   "execution_count": 2,
   "id": "802c2af1-6d6f-4243-8628-ed8aef7431bb",
   "metadata": {
    "tags": []
   },
   "outputs": [],
   "source": [
    "import torch\n",
    "import torch.nn as nn\n",
    "import math"
   ]
  },
  {
   "cell_type": "markdown",
   "id": "7bcd22e9-942e-4678-9ad3-91ff6dd4b1fa",
   "metadata": {
    "tags": []
   },
   "source": [
    "# token embedding lookup table"
   ]
  },
  {
   "cell_type": "code",
   "execution_count": 9,
   "id": "97cc7af9-2e59-4a1c-8a64-0a2f2f6d5c53",
   "metadata": {
    "tags": []
   },
   "outputs": [],
   "source": [
    "class InputEmbeddings(nn.Module):\n",
    "    def __init__(self, d_model: int, vocab_size: int):\n",
    "        super.__init__()\n",
    "        self.d_model = d_model\n",
    "        self.vocab_size = vocab_size\n",
    "        self.embedding = nn.Embedding(self.vocab_size, self.d_model)\n",
    "        \n",
    "    def forward(self, x):\n",
    "        return self.embedding(x) * math.sqrt(self.d_model) # multiply by sqrt of model size as noted in the original paper"
   ]
  },
  {
   "cell_type": "markdown",
   "id": "dddcadf2-a778-441d-860d-ec65c2d44755",
   "metadata": {},
   "source": [
    "# positional encoding\n",
    "<img src=\"positional_encoding.png\" width=200 height=100>\n",
    "i represents the i-th element in the embedding"
   ]
  },
  {
   "cell_type": "code",
   "execution_count": 22,
   "id": "370f5725-87ce-40ce-9bea-8fdc1074b2ab",
   "metadata": {
    "tags": []
   },
   "outputs": [],
   "source": [
    "class PositionalEncoding(nn.Module):\n",
    "    def __init__(self, d_model: int, seq_len: int, dropout: float) -> None:\n",
    "        super.__init__()\n",
    "        self.d_model = d_model\n",
    "        self.seq_len = seq_len\n",
    "        self.dropout = dropout\n",
    "        \n",
    "        pe = torch.zeros(seq_len, d_model) # initialize the size of positional encoder\n",
    "        pos = torch.arange(0, seq_len, dtype=torch.float).unsqueeze(1) # has shape (seq_len, 1)\n",
    "        denom = torch.exp(torch.arange(0, d_model, 2).float() * (-math.log(10000.0) / d_model)) # denominator, with size d_model/2\n",
    "        pe[:,::2] = torch.sin(pos*denom)\n",
    "        pe[:,1::2] = torch.cos(pos*denom)\n",
    "        pe = pe.unsqueeze(0) # (1, seq_len, d_model)\n",
    "        \n",
    "        self.register_buffer('pe',pe)\n",
    "        \n",
    "    def forward(self, x):\n",
    "        x = x + (self.pe[:, :x.shape[1], :]).requires_grad_(False)\n",
    "        return self.dropout(x)"
   ]
  },
  {
   "cell_type": "markdown",
   "id": "dc23642f-d1f2-419d-956e-1526935de96f",
   "metadata": {},
   "source": [
    "# Components"
   ]
  },
  {
   "cell_type": "code",
   "execution_count": 211,
   "id": "8f80f19f-daec-43c2-9a99-e8be56621754",
   "metadata": {
    "tags": []
   },
   "outputs": [],
   "source": [
    "class LayerNormalization(nn.Module):\n",
    "    def __init__(self, eps: float = 1e-6) -> None:\n",
    "        super().__init__()\n",
    "        self.alpha = nn.Parameter(torch.ones(1)) # multiply\n",
    "        self.bias = nn.Parameter(torch.zeros(1)) # add\n",
    "        \n",
    "    def forward(self, x):\n",
    "        me, std = x.mean(dim=-1, keepdim=True), x.std(dim=-1, keepdim=True)\n",
    "        return self.alpha * (x - me)/(std * self.eps) + self.bias"
   ]
  },
  {
   "cell_type": "code",
   "execution_count": 212,
   "id": "0edecfaa-4c24-4b36-897c-b4fc2039cd94",
   "metadata": {
    "tags": []
   },
   "outputs": [],
   "source": [
    "class PositionwiseFF(nn.Module):\n",
    "    def __init__(self, d_model: int, d_ff: int, dropout: float) -> None:\n",
    "        super().__init__()\n",
    "        self.linear_1 = nn.Linear(d_model, d_ff)\n",
    "        self.dropout = nn.Dropout(dropout)\n",
    "        self.linear_2 = nn.Linear(d_ff, d_model)\n",
    "        \n",
    "    def forward(self, x):\n",
    "        # (Batch, seq_len, d_model) --> (Batch, seq_len, d_ff) -> (Batch, seq_len, d_model)\n",
    "        return self.linear_2(self.dropout(nn.ReLU(self.linear_1(x))))"
   ]
  },
  {
   "cell_type": "code",
   "execution_count": 11,
   "id": "2f143f76-9a79-4dec-8502-e8ec76f91b66",
   "metadata": {
    "tags": []
   },
   "outputs": [],
   "source": [
    "class MultiHeadAttention(nn.Module):\n",
    "    def __init__(self, d_model: int = 512, n_heads: int = 8, dropout: float = 0.1) -> None:\n",
    "        super().__init__()\n",
    "        self.d_model = d_model\n",
    "        self.n_heads = n_heads\n",
    "        assert d_model % n_heads == 0, \"d_model is not divisible by n_head\"\n",
    "        self.d_h = d_model//n_heads # dim of key, query, value\n",
    "        \n",
    "        self.LinearQ = nn.Linear(d_model, d_model)\n",
    "        self.LinearK = nn.Linear(d_model, d_model)\n",
    "        self.LinearV = nn.Linear(d_model, d_model)\n",
    "        self.Linear = nn.Linear(d_model, d_model)\n",
    "        self.dropout = nn.Dropout(dropout)\n",
    "        \n",
    "    def attention(self, query, key, value, mask, dropout: nn.Dropout):\n",
    "        attention_scores = query @ key.transpose(-2, -1) / math.sqrt(self.d_h)\n",
    "        if mask is not None:\n",
    "            attention_scores.masked_fill_(mask == 0, -1e9)\n",
    "        attention_scores = attention_scores.softmax(dim = -1)  # (Batch size, n_heads, seq_len, seq_len)\n",
    "        if dropout is not None:\n",
    "            attention_scores = dropout(attention_scores)\n",
    "        return attention_scores @ value, attention_scores   # return shape (Batch size, n_heads, seq_len, d_h) after multiply value\n",
    "        \n",
    "        \n",
    "    def forward(self, q, k, v, mask):\n",
    "        # q,k,v (batch_size, seq_len, d_model)\n",
    "        q_proj = self.LinearQ(q)\n",
    "        k_proj = self.LinearK(k)\n",
    "        v_proj = self.LinearV(v)\n",
    "        \n",
    "        q_proj = q_proj.view(q_proj.shape[0], q_proj.shape[1], self.n_heads, self.d_h).transpose(1, 2)  # (batch size, n_heads, seq_len, d_h)\n",
    "        k_proj = k_proj.view(k_proj.shape[0], k_proj.shape[1], self.n_heads, self.d_h).transpose(1, 2)\n",
    "        v_proj = v_proj.view(v_proj.shape[0], v_proj.shape[1], self.n_heads, self.d_h).transpose(1, 2)\n",
    "        \n",
    "        x, self.attention_scores = self.attention(q_proj, k_proj, v_proj, mask, self.dropout)\n",
    "        x = x.transpose(1,2)  # (Batch size, seq_len, n_heads, d_h) \n",
    "        x = x.contiguous().view(x.shape[0], x.shape[1], self.d_model)\n",
    "        return self.Linear(x) # (Batch size, seq_len, d_model)\n",
    "        "
   ]
  },
  {
   "cell_type": "code",
   "execution_count": 12,
   "id": "5203e14f-19e9-415c-9dc4-298e5bf4787a",
   "metadata": {
    "tags": []
   },
   "outputs": [],
   "source": [
    "model = MultiHeadAttention()"
   ]
  },
  {
   "cell_type": "code",
   "execution_count": 13,
   "id": "556c9aac-d877-470e-bdce-00a6ff6252a5",
   "metadata": {
    "tags": []
   },
   "outputs": [],
   "source": [
    "q = torch.rand((7,13,512))\n",
    "k = q.clone()\n",
    "v = q.clone()"
   ]
  },
  {
   "cell_type": "code",
   "execution_count": 15,
   "id": "aaa42117-385f-478d-8d9a-37664eed043c",
   "metadata": {
    "tags": []
   },
   "outputs": [
    {
     "data": {
      "text/plain": [
       "torch.Size([7, 13, 512])"
      ]
     },
     "execution_count": 15,
     "metadata": {},
     "output_type": "execute_result"
    }
   ],
   "source": [
    "model(q, k, v, None).shape"
   ]
  },
  {
   "cell_type": "code",
   "execution_count": 227,
   "id": "c53ae683-ce47-432c-9a63-d91381951301",
   "metadata": {
    "tags": []
   },
   "outputs": [],
   "source": [
    "class ResidualConnection(nn.Module):\n",
    "    def __init__(self, dropout: float) -> None:\n",
    "        super().__init__()\n",
    "        self.dropout = nn.Dropout(dropout)\n",
    "        self.norm = LayerNormalization()\n",
    "        \n",
    "    def forward(self, x, sublayer):\n",
    "        return x + self.dropout(sublayer(self.norm(x)))"
   ]
  },
  {
   "cell_type": "markdown",
   "id": "ec7a5a6a-5b28-4dc8-be27-a540829b33de",
   "metadata": {
    "tags": []
   },
   "source": [
    "# Encoder"
   ]
  },
  {
   "cell_type": "code",
   "execution_count": 218,
   "id": "0bf138db-5e92-4e2e-b8b3-20f4f4cc4959",
   "metadata": {
    "tags": []
   },
   "outputs": [],
   "source": [
    "class EncoderBlock(nn.Module):\n",
    "    def __init__(self, selfAttention: MultiHeadAttention, feedForward: PositionwiseFF, dropout: float) -> None:\n",
    "        super().__init__()\n",
    "        self.self_attention = selfAttention\n",
    "        self.feedForward = feedForward\n",
    "        self.residual_connections = nn.ModuleList([ResidualConnection(dropout) for _ in range(2)])\n",
    "        \n",
    "    def forward(self, x, src_mask):\n",
    "        x = self.residual_connections[0](x, lambda x: self.selfAttention(x, x, x, src_mask))\n",
    "        x = self.residual_connections[1](x, self.feedForward)\n",
    "        return x\n",
    "        \n",
    "class Encoder(nn.Module):\n",
    "    \n",
    "    def __init__(self, layers: nn.ModuleList) -> None:\n",
    "        super().__init__()\n",
    "        self.layers = layers\n",
    "        self.norm = LayerNormalization()\n",
    "        \n",
    "    def forward(self, x, mask):\n",
    "        for layer in self.layers:\n",
    "            x = layer(x, mask)\n",
    "        return self.norm(x)"
   ]
  },
  {
   "cell_type": "markdown",
   "id": "85d69fc9-a519-4e46-9a56-03493c38b07f",
   "metadata": {},
   "source": [
    "# Decoder"
   ]
  },
  {
   "cell_type": "code",
   "execution_count": 220,
   "id": "f4c57207-50f6-4f34-a656-b9ca85d0c4a9",
   "metadata": {
    "tags": []
   },
   "outputs": [],
   "source": [
    "class DecoderBlock(nn.Module):\n",
    "    def __init__(self, selfAttention: MultiHeadAttention, crossAttention: MultiHeadAttention, feedForward: PositionwiseFF) -> None:\n",
    "        super().__init__()\n",
    "        self.selfAttention = selfAttention\n",
    "        self.crossAttention = crossAttention\n",
    "        self.feedForward = feedForward\n",
    "        self.residual_connetions = nn.ModuleList([ResidualConnection(dropout) for _ in range(3)])\n",
    "        \n",
    "    def forward(self, x, encoder_output, src_mask, tgt_mask):\n",
    "        x = self.residual_connetions[0](x, lambda x: self.selfAttention(x, x, x, tgt_mask))\n",
    "        x = self.residual_connetions[1](x, lambda x: self.crossAttention(x, encoder_output, encoder_output, src_mask))\n",
    "        x = self.residual_connetions[2](x, self.feedForward)\n",
    "        return x\n",
    "    \n",
    "class Decoder(nn.Module):\n",
    "    def __init__(self, layers: nn.ModuleList) -> None:\n",
    "        super().__init__()\n",
    "        self.layers = layers\n",
    "        self.norm = LayerNormalization()\n",
    "        \n",
    "    def forward(self, x, encoder_output, src_mask, tgt_mask):\n",
    "        for layer in self.layers:\n",
    "            x = layer(x, encoder_output, src_mask, tgt_mask)\n",
    "        return self.norm(x)\n",
    "        "
   ]
  },
  {
   "cell_type": "markdown",
   "id": "b65d66e0-5cd6-41ea-bd40-50168fcc9fa1",
   "metadata": {},
   "source": [
    "# Final Layer"
   ]
  },
  {
   "cell_type": "code",
   "execution_count": 221,
   "id": "03f77ba5-4385-4bbd-ba11-40037f59b1df",
   "metadata": {
    "tags": []
   },
   "outputs": [],
   "source": [
    "class ProjectionLayer(nn.Module):\n",
    "    def __init__(self, d_model: int, vocab_size: int) -> None:\n",
    "        super().__init__()\n",
    "        self.d_model = d_model\n",
    "        self.linear = nn.Linear(d_model, vocab_size)\n",
    "        \n",
    "    def forward(self, x):\n",
    "        return torch.log_softmax(self.linear(x), dim=-1)\n",
    "        "
   ]
  },
  {
   "cell_type": "markdown",
   "id": "5ba20e96-e37c-47d4-beef-5f2355e98807",
   "metadata": {
    "tags": []
   },
   "source": [
    "# Putting everything together"
   ]
  },
  {
   "cell_type": "code",
   "execution_count": 223,
   "id": "d0e7097e-9159-495c-90ed-c380e1f16ffe",
   "metadata": {
    "tags": []
   },
   "outputs": [],
   "source": [
    "class Transformer(nn.Module):\n",
    "    def __init__(self, \n",
    "                 encoder: Encoder, \n",
    "                 decoder: Decoder, \n",
    "                 src_embed: InputEmbeddings, \n",
    "                 tgt_embed: InputEmbeddings, \n",
    "                 src_pos: PositionalEncoding, \n",
    "                 tgt_pos: PositionalEncoding,\n",
    "                 projection_layer: ProjectionLayer,\n",
    "                ) -> None:\n",
    "        super.__init__()\n",
    "        \n",
    "        self.encoder = encoder\n",
    "        self.decoder = decoder\n",
    "        self.src_embed = src_embed\n",
    "        self.tgt_embed = tgt_embed\n",
    "        self.src_pos = src_pos\n",
    "        self.tgt_pos = tgt_pos\n",
    "        self.projection_layer = projection_layer\n",
    "        \n",
    "    def encode(self, src, src_mask):\n",
    "        src = self.src_embed(src)\n",
    "        src = self.src_pos(src)\n",
    "        src = self.encoder(src, src_mask)\n",
    "        return src\n",
    "        \n",
    "    def decode(self, encoder_output, src_mask, tgt, tgt_mask):\n",
    "        tgt = self.tgt_embed(tgt)\n",
    "        tgt = self.tgt_pos(tgt)\n",
    "        tgt = self.decoder(tgt, encoder_output, src_mask, tgt_mask)\n",
    "        return tgt\n",
    "    \n",
    "    def project(self, x):\n",
    "        return self.projection_layer(x)\n",
    "    "
   ]
  },
  {
   "cell_type": "code",
   "execution_count": 232,
   "id": "0dbf8e27-e69a-4f0d-bdf5-3253ad9058ea",
   "metadata": {
    "tags": []
   },
   "outputs": [],
   "source": [
    "def build_transformer(src_vocab_size: int, \n",
    "                      tgt_vocab_size: int, \n",
    "                      src_seq_len: int, \n",
    "                      tgt_seq_len: int,\n",
    "                      d_model: int = 512,\n",
    "                      n_blocks: int = 6,\n",
    "                      n_heads: int = 8,\n",
    "                      dropout: float = 0.1,\n",
    "                      d_ff: int = 2048\n",
    "                     ) -> Transformer:\n",
    "    # create embedding layer\n",
    "    src_embed = InputEmbeddings(d_model, src_vocab_size)\n",
    "    tgt_embed = InputEmbeddings(d_model, tgt_vocab_size)\n",
    "    \n",
    "    # create positional encoding layers\n",
    "    src_pos = PositionalEncoding(d_model, src_seq_len, dropout)\n",
    "    tgt_pos = PositionalEncoding(d_model, tgt_seq_len, dropout)\n",
    "    \n",
    "    # create encoder and decoder\n",
    "    encoder = Encoder(nn.ModuleList([EncoderBlock(MultiHeadAttention(d_model, n_heads, dropout), PositionwiseFF(d_model, d_ff, dropout), dropout) for _ in range(n_blocks)]))\n",
    "    decoder = Decoder(nn.ModuleList([DecoderBlock(MultiHeadAttention(d_model, n_heads, dropout), MultiHeadAttention(d_model, n_heads, dropout), PositionwiseFF(d_model, d_ff, dropout))\n",
    "                                        for _ in range(n_blocks)\n",
    "                                    ]))\n",
    "    projection_layer = ProjectionLayer(d_model, tgt_vocab_size)\n",
    "    \n",
    "    #transformer\n",
    "    transformer = Transformer(encoder, decoder, src_embed, tgt_embed, src_pos, tgt_pos, projection_layer)\n",
    "    \n",
    "    # initialize params\n",
    "    for p in transformer.parameters():\n",
    "        if p.dim() > 1:\n",
    "            nn.init.xavier_uniform_(p)\n",
    "    \n",
    "    return transformer\n",
    "    "
   ]
  },
  {
   "cell_type": "code",
   "execution_count": null,
   "id": "34127aea-a3f6-4a35-bd84-be4887d76934",
   "metadata": {},
   "outputs": [],
   "source": []
  },
  {
   "cell_type": "code",
   "execution_count": null,
   "id": "51fcc389-4dc5-4f6f-9e4e-4b97ee31dfa2",
   "metadata": {},
   "outputs": [],
   "source": []
  },
  {
   "cell_type": "code",
   "execution_count": null,
   "id": "6523982e-1b73-4e23-9cdd-d11543f80c0b",
   "metadata": {},
   "outputs": [],
   "source": []
  },
  {
   "cell_type": "code",
   "execution_count": null,
   "id": "97686694-1817-40bd-b6d6-96a2d3fdc3eb",
   "metadata": {},
   "outputs": [],
   "source": []
  }
 ],
 "metadata": {
  "kernelspec": {
   "display_name": "Python 3 (ipykernel)",
   "language": "python",
   "name": "python3"
  },
  "language_info": {
   "codemirror_mode": {
    "name": "ipython",
    "version": 3
   },
   "file_extension": ".py",
   "mimetype": "text/x-python",
   "name": "python",
   "nbconvert_exporter": "python",
   "pygments_lexer": "ipython3",
   "version": "3.8.12"
  }
 },
 "nbformat": 4,
 "nbformat_minor": 5
}
