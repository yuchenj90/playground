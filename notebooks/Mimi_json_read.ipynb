{
 "cells": [
  {
   "cell_type": "code",
   "execution_count": 63,
   "metadata": {},
   "outputs": [],
   "source": [
    "import json\n",
    "import pandas as pd\n",
    "\n",
    "def foo(filename):\n",
    "    with open(filename) as f:\n",
    "        data = json.load(f)\n",
    "    data_trials = data['trials']\n",
    "    '''\n",
    "    params_name = []\n",
    "    for params in data_trials[0]['parameters']:\n",
    "        params_name.append(list(params.values())[0])\n",
    "    metrics_name = []\n",
    "    for metrics in data_trials[0]['finalMeasurement']['metrics']:\n",
    "        metrics_name.append(list(metrics.values())[0])\n",
    "    '''\n",
    "    df = pd.DataFrame()\n",
    "\n",
    "    for trial in data_trials:\n",
    "        row = {}\n",
    "        row['id'] = trial['id']\n",
    "        row['status'] = trial['status']\n",
    "        if row['status'] =='COMPLETED':\n",
    "            for l in trial['parameters']:\n",
    "                row[l['name']] = l['floatValue']\n",
    "            row['objectiveValue'] = trial['finalMeasurement']['objectiveValue'] \n",
    "\n",
    "            for l in trial['finalMeasurement']['metrics']:\n",
    "                row[l['name']] = l['value']\n",
    "\n",
    "            df = df.append(row, ignore_index=True)\n",
    "    return df"
   ]
  },
  {
   "cell_type": "code",
   "execution_count": 64,
   "metadata": {},
   "outputs": [],
   "source": [
    "df = foo('data/study_3620439789512.txt')"
   ]
  },
  {
   "cell_type": "code",
   "execution_count": 65,
   "metadata": {},
   "outputs": [
    {
     "data": {
      "text/html": [
       "<div>\n",
       "<style scoped>\n",
       "    .dataframe tbody tr th:only-of-type {\n",
       "        vertical-align: middle;\n",
       "    }\n",
       "\n",
       "    .dataframe tbody tr th {\n",
       "        vertical-align: top;\n",
       "    }\n",
       "\n",
       "    .dataframe thead th {\n",
       "        text-align: right;\n",
       "    }\n",
       "</style>\n",
       "<table border=\"1\" class=\"dataframe\">\n",
       "  <thead>\n",
       "    <tr style=\"text-align: right;\">\n",
       "      <th></th>\n",
       "      <th>epoch</th>\n",
       "      <th>gamma</th>\n",
       "      <th>id</th>\n",
       "      <th>l_acc</th>\n",
       "      <th>l_eval_loss</th>\n",
       "      <th>lr</th>\n",
       "      <th>num_sb_layers</th>\n",
       "      <th>num_ts_layers</th>\n",
       "      <th>objectiveValue</th>\n",
       "      <th>r_acc</th>\n",
       "      <th>r_eval_loss</th>\n",
       "      <th>size</th>\n",
       "      <th>status</th>\n",
       "    </tr>\n",
       "  </thead>\n",
       "  <tbody>\n",
       "    <tr>\n",
       "      <th>0</th>\n",
       "      <td>100.0</td>\n",
       "      <td>1.0</td>\n",
       "      <td>1.0</td>\n",
       "      <td>0.87650</td>\n",
       "      <td>0.409784</td>\n",
       "      <td>0.001275</td>\n",
       "      <td>1.0</td>\n",
       "      <td>3.0</td>\n",
       "      <td>1.73335</td>\n",
       "      <td>0.85685</td>\n",
       "      <td>0.477017</td>\n",
       "      <td>200.0</td>\n",
       "      <td>COMPLETED</td>\n",
       "    </tr>\n",
       "    <tr>\n",
       "      <th>1</th>\n",
       "      <td>150.0</td>\n",
       "      <td>2.0</td>\n",
       "      <td>2.0</td>\n",
       "      <td>0.89780</td>\n",
       "      <td>0.320496</td>\n",
       "      <td>0.000952</td>\n",
       "      <td>1.0</td>\n",
       "      <td>3.0</td>\n",
       "      <td>1.77115</td>\n",
       "      <td>0.87335</td>\n",
       "      <td>0.375734</td>\n",
       "      <td>50.0</td>\n",
       "      <td>COMPLETED</td>\n",
       "    </tr>\n",
       "    <tr>\n",
       "      <th>2</th>\n",
       "      <td>200.0</td>\n",
       "      <td>0.0</td>\n",
       "      <td>3.0</td>\n",
       "      <td>0.83610</td>\n",
       "      <td>0.488994</td>\n",
       "      <td>0.001823</td>\n",
       "      <td>1.0</td>\n",
       "      <td>3.0</td>\n",
       "      <td>1.61860</td>\n",
       "      <td>0.78250</td>\n",
       "      <td>0.630171</td>\n",
       "      <td>200.0</td>\n",
       "      <td>COMPLETED</td>\n",
       "    </tr>\n",
       "    <tr>\n",
       "      <th>3</th>\n",
       "      <td>150.0</td>\n",
       "      <td>3.0</td>\n",
       "      <td>4.0</td>\n",
       "      <td>0.89945</td>\n",
       "      <td>0.313688</td>\n",
       "      <td>0.000780</td>\n",
       "      <td>1.0</td>\n",
       "      <td>4.0</td>\n",
       "      <td>1.77775</td>\n",
       "      <td>0.87830</td>\n",
       "      <td>0.361489</td>\n",
       "      <td>50.0</td>\n",
       "      <td>COMPLETED</td>\n",
       "    </tr>\n",
       "    <tr>\n",
       "      <th>4</th>\n",
       "      <td>200.0</td>\n",
       "      <td>2.0</td>\n",
       "      <td>5.0</td>\n",
       "      <td>0.88805</td>\n",
       "      <td>0.357057</td>\n",
       "      <td>0.001049</td>\n",
       "      <td>2.0</td>\n",
       "      <td>3.0</td>\n",
       "      <td>1.75580</td>\n",
       "      <td>0.86775</td>\n",
       "      <td>0.415259</td>\n",
       "      <td>100.0</td>\n",
       "      <td>COMPLETED</td>\n",
       "    </tr>\n",
       "  </tbody>\n",
       "</table>\n",
       "</div>"
      ],
      "text/plain": [
       "   epoch  gamma   id    l_acc  l_eval_loss        lr  num_sb_layers  \\\n",
       "0  100.0    1.0  1.0  0.87650     0.409784  0.001275            1.0   \n",
       "1  150.0    2.0  2.0  0.89780     0.320496  0.000952            1.0   \n",
       "2  200.0    0.0  3.0  0.83610     0.488994  0.001823            1.0   \n",
       "3  150.0    3.0  4.0  0.89945     0.313688  0.000780            1.0   \n",
       "4  200.0    2.0  5.0  0.88805     0.357057  0.001049            2.0   \n",
       "\n",
       "   num_ts_layers  objectiveValue    r_acc  r_eval_loss   size     status  \n",
       "0            3.0         1.73335  0.85685     0.477017  200.0  COMPLETED  \n",
       "1            3.0         1.77115  0.87335     0.375734   50.0  COMPLETED  \n",
       "2            3.0         1.61860  0.78250     0.630171  200.0  COMPLETED  \n",
       "3            4.0         1.77775  0.87830     0.361489   50.0  COMPLETED  \n",
       "4            3.0         1.75580  0.86775     0.415259  100.0  COMPLETED  "
      ]
     },
     "execution_count": 65,
     "metadata": {},
     "output_type": "execute_result"
    }
   ],
   "source": [
    "df.head()"
   ]
  },
  {
   "cell_type": "code",
   "execution_count": 3,
   "metadata": {},
   "outputs": [],
   "source": [
    "with open('data/study_3620439789512.txt') as f:\n",
    "    data = json.load(f)"
   ]
  },
  {
   "cell_type": "code",
   "execution_count": 9,
   "metadata": {},
   "outputs": [],
   "source": [
    "data_trials = data['trials']\n"
   ]
  },
  {
   "cell_type": "code",
   "execution_count": 26,
   "metadata": {},
   "outputs": [
    {
     "data": {
      "text/plain": [
       "{'name': 'epoch', 'floatValue': 100}"
      ]
     },
     "execution_count": 26,
     "metadata": {},
     "output_type": "execute_result"
    }
   ],
   "source": [
    "params"
   ]
  },
  {
   "cell_type": "code",
   "execution_count": 35,
   "metadata": {},
   "outputs": [],
   "source": [
    "params_name = []\n",
    "for params in data_trials[0]['parameters']:\n",
    "    params_name.append(list(params.values())[0])"
   ]
  },
  {
   "cell_type": "code",
   "execution_count": 36,
   "metadata": {},
   "outputs": [
    {
     "data": {
      "text/plain": [
       "['epoch', 'gamma', 'lr', 'num_sb_layers', 'num_ts_layers', 'size']"
      ]
     },
     "execution_count": 36,
     "metadata": {},
     "output_type": "execute_result"
    }
   ],
   "source": [
    "params_name"
   ]
  },
  {
   "cell_type": "code",
   "execution_count": 42,
   "metadata": {},
   "outputs": [
    {
     "data": {
      "text/plain": [
       "{'elapsedSecs': 8285,\n",
       " 'steps': '0',\n",
       " 'objectiveValue': 1.73335,\n",
       " 'metrics': [{'name': 'l_acc', 'value': 0.8765},\n",
       "  {'name': 'l_eval_loss', 'value': 0.4097836911678314},\n",
       "  {'name': 'r_acc', 'value': 0.85685},\n",
       "  {'name': 'r_eval_loss', 'value': 0.4770171046257019}],\n",
       " 'modelCheckpointPath': '',\n",
       " 'missingObjectiveValue': False}"
      ]
     },
     "execution_count": 42,
     "metadata": {},
     "output_type": "execute_result"
    }
   ],
   "source": [
    "data_trials[0]['finalMeasurement']"
   ]
  },
  {
   "cell_type": "code",
   "execution_count": 40,
   "metadata": {},
   "outputs": [],
   "source": [
    "metrics_name = []\n",
    "for metrics in data_trials[0]['finalMeasurement']['metrics']:\n",
    "    metrics_name.append(list(metrics.values())[0])"
   ]
  },
  {
   "cell_type": "code",
   "execution_count": 43,
   "metadata": {},
   "outputs": [],
   "source": [
    "metrics_name.append('objectiveValue')"
   ]
  },
  {
   "cell_type": "code",
   "execution_count": 44,
   "metadata": {},
   "outputs": [
    {
     "data": {
      "text/plain": [
       "['l_acc', 'l_eval_loss', 'r_acc', 'r_eval_loss', 'objectiveValue']"
      ]
     },
     "execution_count": 44,
     "metadata": {},
     "output_type": "execute_result"
    }
   ],
   "source": [
    "metrics_name"
   ]
  },
  {
   "cell_type": "code",
   "execution_count": 48,
   "metadata": {},
   "outputs": [
    {
     "name": "stdout",
     "output_type": "stream",
     "text": [
      "100\n",
      "1\n",
      "0.0012753718084571482\n",
      "1\n",
      "3\n",
      "200\n"
     ]
    }
   ],
   "source": [
    "for params in data_trials[0]['parameters']:\n",
    "    print(list(params.values())[1])"
   ]
  },
  {
   "cell_type": "code",
   "execution_count": 61,
   "metadata": {},
   "outputs": [],
   "source": [
    "df = pd.DataFrame(columns = ['id']+params_name+metrics_name)\n",
    "\n",
    "for trial in data_trials:\n",
    "    row = {}\n",
    "    row['id'] = trial['id']\n",
    "    row['status'] = trial['status']\n",
    "    if row['status'] =='COMPLETED':\n",
    "        for l in trial['parameters']:\n",
    "            row[l['name']] = l['floatValue']\n",
    "        row['objectiveValue'] = trial['finalMeasurement']['objectiveValue'] \n",
    "\n",
    "        for l in trial['finalMeasurement']['metrics']:\n",
    "            row[l['name']] = l['value']\n",
    "\n",
    "        df = df.append(row, ignore_index=True)\n",
    "    "
   ]
  },
  {
   "cell_type": "code",
   "execution_count": 56,
   "metadata": {},
   "outputs": [
    {
     "data": {
      "text/plain": [
       "{'id': 1465,\n",
       " 'status': 'PENDING',\n",
       " 'customStatus': '',\n",
       " 'description': '',\n",
       " 'parameters': [{'name': 'epoch', 'floatValue': 200},\n",
       "  {'name': 'gamma', 'floatValue': 0},\n",
       "  {'name': 'lr', 'floatValue': 0.0009844237128753066},\n",
       "  {'name': 'num_sb_layers', 'floatValue': 2},\n",
       "  {'name': 'num_ts_layers', 'floatValue': 2},\n",
       "  {'name': 'size', 'floatValue': 200}],\n",
       " 'measurements': [],\n",
       " 'creationTimeSec': '1589107465',\n",
       " 'completionTimeSec': '0',\n",
       " 'assignedWorker': 'client_80',\n",
       " 'stoppingReason': '',\n",
       " 'trialInfeasible': False,\n",
       " 'infeasibilityReason': '',\n",
       " 'relatedLinks': [],\n",
       " 'metadata': []}"
      ]
     },
     "execution_count": 56,
     "metadata": {},
     "output_type": "execute_result"
    }
   ],
   "source": [
    "trial"
   ]
  },
  {
   "cell_type": "code",
   "execution_count": 62,
   "metadata": {},
   "outputs": [
    {
     "data": {
      "text/html": [
       "<div>\n",
       "<style scoped>\n",
       "    .dataframe tbody tr th:only-of-type {\n",
       "        vertical-align: middle;\n",
       "    }\n",
       "\n",
       "    .dataframe tbody tr th {\n",
       "        vertical-align: top;\n",
       "    }\n",
       "\n",
       "    .dataframe thead th {\n",
       "        text-align: right;\n",
       "    }\n",
       "</style>\n",
       "<table border=\"1\" class=\"dataframe\">\n",
       "  <thead>\n",
       "    <tr style=\"text-align: right;\">\n",
       "      <th></th>\n",
       "      <th>id</th>\n",
       "      <th>epoch</th>\n",
       "      <th>gamma</th>\n",
       "      <th>lr</th>\n",
       "      <th>num_sb_layers</th>\n",
       "      <th>num_ts_layers</th>\n",
       "      <th>size</th>\n",
       "      <th>l_acc</th>\n",
       "      <th>l_eval_loss</th>\n",
       "      <th>r_acc</th>\n",
       "      <th>r_eval_loss</th>\n",
       "      <th>objectiveValue</th>\n",
       "      <th>status</th>\n",
       "    </tr>\n",
       "  </thead>\n",
       "  <tbody>\n",
       "    <tr>\n",
       "      <th>0</th>\n",
       "      <td>1</td>\n",
       "      <td>100</td>\n",
       "      <td>1</td>\n",
       "      <td>0.001275</td>\n",
       "      <td>1</td>\n",
       "      <td>3</td>\n",
       "      <td>200</td>\n",
       "      <td>0.87650</td>\n",
       "      <td>0.409784</td>\n",
       "      <td>0.85685</td>\n",
       "      <td>0.477017</td>\n",
       "      <td>1.73335</td>\n",
       "      <td>COMPLETED</td>\n",
       "    </tr>\n",
       "    <tr>\n",
       "      <th>1</th>\n",
       "      <td>2</td>\n",
       "      <td>150</td>\n",
       "      <td>2</td>\n",
       "      <td>0.000952</td>\n",
       "      <td>1</td>\n",
       "      <td>3</td>\n",
       "      <td>50</td>\n",
       "      <td>0.89780</td>\n",
       "      <td>0.320496</td>\n",
       "      <td>0.87335</td>\n",
       "      <td>0.375734</td>\n",
       "      <td>1.77115</td>\n",
       "      <td>COMPLETED</td>\n",
       "    </tr>\n",
       "    <tr>\n",
       "      <th>2</th>\n",
       "      <td>3</td>\n",
       "      <td>200</td>\n",
       "      <td>0</td>\n",
       "      <td>0.001823</td>\n",
       "      <td>1</td>\n",
       "      <td>3</td>\n",
       "      <td>200</td>\n",
       "      <td>0.83610</td>\n",
       "      <td>0.488994</td>\n",
       "      <td>0.78250</td>\n",
       "      <td>0.630171</td>\n",
       "      <td>1.61860</td>\n",
       "      <td>COMPLETED</td>\n",
       "    </tr>\n",
       "    <tr>\n",
       "      <th>3</th>\n",
       "      <td>4</td>\n",
       "      <td>150</td>\n",
       "      <td>3</td>\n",
       "      <td>0.000780</td>\n",
       "      <td>1</td>\n",
       "      <td>4</td>\n",
       "      <td>50</td>\n",
       "      <td>0.89945</td>\n",
       "      <td>0.313688</td>\n",
       "      <td>0.87830</td>\n",
       "      <td>0.361489</td>\n",
       "      <td>1.77775</td>\n",
       "      <td>COMPLETED</td>\n",
       "    </tr>\n",
       "    <tr>\n",
       "      <th>4</th>\n",
       "      <td>5</td>\n",
       "      <td>200</td>\n",
       "      <td>2</td>\n",
       "      <td>0.001049</td>\n",
       "      <td>2</td>\n",
       "      <td>3</td>\n",
       "      <td>100</td>\n",
       "      <td>0.88805</td>\n",
       "      <td>0.357057</td>\n",
       "      <td>0.86775</td>\n",
       "      <td>0.415259</td>\n",
       "      <td>1.75580</td>\n",
       "      <td>COMPLETED</td>\n",
       "    </tr>\n",
       "    <tr>\n",
       "      <th>...</th>\n",
       "      <td>...</td>\n",
       "      <td>...</td>\n",
       "      <td>...</td>\n",
       "      <td>...</td>\n",
       "      <td>...</td>\n",
       "      <td>...</td>\n",
       "      <td>...</td>\n",
       "      <td>...</td>\n",
       "      <td>...</td>\n",
       "      <td>...</td>\n",
       "      <td>...</td>\n",
       "      <td>...</td>\n",
       "      <td>...</td>\n",
       "    </tr>\n",
       "    <tr>\n",
       "      <th>3157</th>\n",
       "      <td>3256</td>\n",
       "      <td>150</td>\n",
       "      <td>3</td>\n",
       "      <td>0.000401</td>\n",
       "      <td>1</td>\n",
       "      <td>4</td>\n",
       "      <td>100</td>\n",
       "      <td>0.89630</td>\n",
       "      <td>0.311932</td>\n",
       "      <td>0.87425</td>\n",
       "      <td>0.372554</td>\n",
       "      <td>1.77055</td>\n",
       "      <td>COMPLETED</td>\n",
       "    </tr>\n",
       "    <tr>\n",
       "      <th>3158</th>\n",
       "      <td>3257</td>\n",
       "      <td>100</td>\n",
       "      <td>0</td>\n",
       "      <td>0.001005</td>\n",
       "      <td>1</td>\n",
       "      <td>4</td>\n",
       "      <td>50</td>\n",
       "      <td>0.90310</td>\n",
       "      <td>0.299966</td>\n",
       "      <td>0.88245</td>\n",
       "      <td>0.355586</td>\n",
       "      <td>1.78555</td>\n",
       "      <td>COMPLETED</td>\n",
       "    </tr>\n",
       "    <tr>\n",
       "      <th>3159</th>\n",
       "      <td>3258</td>\n",
       "      <td>100</td>\n",
       "      <td>0</td>\n",
       "      <td>0.000064</td>\n",
       "      <td>2</td>\n",
       "      <td>2</td>\n",
       "      <td>100</td>\n",
       "      <td>0.87110</td>\n",
       "      <td>0.402389</td>\n",
       "      <td>0.84070</td>\n",
       "      <td>0.475552</td>\n",
       "      <td>1.71180</td>\n",
       "      <td>COMPLETED</td>\n",
       "    </tr>\n",
       "    <tr>\n",
       "      <th>3160</th>\n",
       "      <td>3268</td>\n",
       "      <td>100</td>\n",
       "      <td>2</td>\n",
       "      <td>0.000267</td>\n",
       "      <td>0</td>\n",
       "      <td>3</td>\n",
       "      <td>100</td>\n",
       "      <td>0.89510</td>\n",
       "      <td>0.318692</td>\n",
       "      <td>0.87865</td>\n",
       "      <td>0.364515</td>\n",
       "      <td>1.77375</td>\n",
       "      <td>COMPLETED</td>\n",
       "    </tr>\n",
       "    <tr>\n",
       "      <th>3161</th>\n",
       "      <td>3276</td>\n",
       "      <td>100</td>\n",
       "      <td>3</td>\n",
       "      <td>0.000228</td>\n",
       "      <td>1</td>\n",
       "      <td>4</td>\n",
       "      <td>50</td>\n",
       "      <td>0.86865</td>\n",
       "      <td>0.411468</td>\n",
       "      <td>0.83080</td>\n",
       "      <td>0.503075</td>\n",
       "      <td>1.69945</td>\n",
       "      <td>COMPLETED</td>\n",
       "    </tr>\n",
       "  </tbody>\n",
       "</table>\n",
       "<p>3162 rows × 13 columns</p>\n",
       "</div>"
      ],
      "text/plain": [
       "        id epoch gamma        lr num_sb_layers num_ts_layers size    l_acc  \\\n",
       "0        1   100     1  0.001275             1             3  200  0.87650   \n",
       "1        2   150     2  0.000952             1             3   50  0.89780   \n",
       "2        3   200     0  0.001823             1             3  200  0.83610   \n",
       "3        4   150     3  0.000780             1             4   50  0.89945   \n",
       "4        5   200     2  0.001049             2             3  100  0.88805   \n",
       "...    ...   ...   ...       ...           ...           ...  ...      ...   \n",
       "3157  3256   150     3  0.000401             1             4  100  0.89630   \n",
       "3158  3257   100     0  0.001005             1             4   50  0.90310   \n",
       "3159  3258   100     0  0.000064             2             2  100  0.87110   \n",
       "3160  3268   100     2  0.000267             0             3  100  0.89510   \n",
       "3161  3276   100     3  0.000228             1             4   50  0.86865   \n",
       "\n",
       "      l_eval_loss    r_acc  r_eval_loss  objectiveValue     status  \n",
       "0        0.409784  0.85685     0.477017         1.73335  COMPLETED  \n",
       "1        0.320496  0.87335     0.375734         1.77115  COMPLETED  \n",
       "2        0.488994  0.78250     0.630171         1.61860  COMPLETED  \n",
       "3        0.313688  0.87830     0.361489         1.77775  COMPLETED  \n",
       "4        0.357057  0.86775     0.415259         1.75580  COMPLETED  \n",
       "...           ...      ...          ...             ...        ...  \n",
       "3157     0.311932  0.87425     0.372554         1.77055  COMPLETED  \n",
       "3158     0.299966  0.88245     0.355586         1.78555  COMPLETED  \n",
       "3159     0.402389  0.84070     0.475552         1.71180  COMPLETED  \n",
       "3160     0.318692  0.87865     0.364515         1.77375  COMPLETED  \n",
       "3161     0.411468  0.83080     0.503075         1.69945  COMPLETED  \n",
       "\n",
       "[3162 rows x 13 columns]"
      ]
     },
     "execution_count": 62,
     "metadata": {},
     "output_type": "execute_result"
    }
   ],
   "source": [
    "df"
   ]
  },
  {
   "cell_type": "code",
   "execution_count": null,
   "metadata": {},
   "outputs": [],
   "source": []
  },
  {
   "cell_type": "code",
   "execution_count": null,
   "metadata": {},
   "outputs": [],
   "source": [
    "import"
   ]
  }
 ],
 "metadata": {
  "kernelspec": {
   "display_name": "Python 3",
   "language": "python",
   "name": "python3"
  },
  "language_info": {
   "codemirror_mode": {
    "name": "ipython",
    "version": 3
   },
   "file_extension": ".py",
   "mimetype": "text/x-python",
   "name": "python",
   "nbconvert_exporter": "python",
   "pygments_lexer": "ipython3",
   "version": "3.7.7"
  }
 },
 "nbformat": 4,
 "nbformat_minor": 4
}
