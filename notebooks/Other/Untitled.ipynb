{
 "cells": [
  {
   "cell_type": "code",
   "execution_count": 9,
   "id": "acdf3bd3-1a0c-49da-8c9b-1452484c727f",
   "metadata": {
    "tags": []
   },
   "outputs": [],
   "source": [
    "from pydub import AudioSegment\n",
    "import wave"
   ]
  },
  {
   "cell_type": "code",
   "execution_count": 14,
   "id": "f78fb9cf-35e5-49f0-ac0e-97592f4e5ddb",
   "metadata": {
    "tags": []
   },
   "outputs": [],
   "source": [
    "import soundfile\n",
    "import wave\n",
    "\n",
    "file_path = \"/Users/yuchen.jiang2/Downloads/recordings 2/5002E00001y09xWQAQ.wav\"\n",
    "\n",
    "# Read and rewrite the file with soundfile\n",
    "data, samplerate = soundfile.read(file_path)\n",
    "#soundfile.write(file_path, data, samplerate)\n",
    "\n",
    "# Now try to open the file with wave\n",
    "#with wave.open(file_path) as file:\n",
    "#    print('File opened!')\n"
   ]
  },
  {
   "cell_type": "code",
   "execution_count": 15,
   "id": "91aee729-cea0-48d9-9927-04ab229adc72",
   "metadata": {
    "tags": []
   },
   "outputs": [
    {
     "data": {
      "text/plain": [
       "array([ 0.10946655,  0.14331055,  0.15924072, ..., -0.00250244,\n",
       "        0.00222778,  0.00271606])"
      ]
     },
     "execution_count": 15,
     "metadata": {},
     "output_type": "execute_result"
    }
   ],
   "source": [
    "data"
   ]
  },
  {
   "cell_type": "code",
   "execution_count": 16,
   "id": "ee4bb084-f571-4c67-bc95-b238804f7937",
   "metadata": {
    "tags": []
   },
   "outputs": [
    {
     "data": {
      "text/plain": [
       "8000"
      ]
     },
     "execution_count": 16,
     "metadata": {},
     "output_type": "execute_result"
    }
   ],
   "source": [
    "samplerate"
   ]
  },
  {
   "cell_type": "code",
   "execution_count": 26,
   "id": "d9c91c2b-ec31-4a26-9d4d-46fac634481c",
   "metadata": {
    "tags": []
   },
   "outputs": [],
   "source": [
    "ten_seconds = 60 * samplerate\n",
    "  \n",
    "first_10_seconds = data[:ten_seconds]"
   ]
  },
  {
   "cell_type": "code",
   "execution_count": 27,
   "id": "674d7434-1df2-4a14-a322-c789cfd9bbad",
   "metadata": {
    "tags": []
   },
   "outputs": [],
   "source": [
    "soundfile.write('../test.wav', first_10_seconds, samplerate)"
   ]
  },
  {
   "cell_type": "code",
   "execution_count": null,
   "id": "56350ad6-5667-4a1d-aad0-c7889b58b450",
   "metadata": {},
   "outputs": [],
   "source": []
  },
  {
   "cell_type": "code",
   "execution_count": null,
   "id": "7823c5fb-44c6-49c7-b1df-1e9417de5d02",
   "metadata": {},
   "outputs": [],
   "source": []
  }
 ],
 "metadata": {
  "kernelspec": {
   "display_name": "Python 3 (ipykernel)",
   "language": "python",
   "name": "python3"
  },
  "language_info": {
   "codemirror_mode": {
    "name": "ipython",
    "version": 3
   },
   "file_extension": ".py",
   "mimetype": "text/x-python",
   "name": "python",
   "nbconvert_exporter": "python",
   "pygments_lexer": "ipython3",
   "version": "3.8.12"
  }
 },
 "nbformat": 4,
 "nbformat_minor": 5
}
