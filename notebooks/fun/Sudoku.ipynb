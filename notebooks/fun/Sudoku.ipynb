{
 "cells": [
  {
   "cell_type": "markdown",
   "metadata": {},
   "source": [
    "# Sudoku formulation\n",
    "Define x_vrc = 1 if value v occurs at row r and column c\n",
    "\n",
    "sum_v x_vrc = 1 for all r,c \\in [1,9] -- each (r,c) cell can have one value\n",
    "\n",
    "sum_r x_vrc = 1 for all v,c \\in [1,9] -- each column c can have value v once\n",
    "\n",
    "sum_c x_vrc = 1 for all r,c \\in [1,9] -- each row r can have value v once\n",
    "\n",
    "sum_(r,c)\\in S sum_vrc = 1 for all v \\in [1,9]  -- each square S can have value v once"
   ]
  },
  {
   "cell_type": "code",
   "execution_count": 1,
   "metadata": {},
   "outputs": [],
   "source": [
    "import pulp as p \n",
    "import numpy as np"
   ]
  },
  {
   "cell_type": "code",
   "execution_count": 3,
   "metadata": {},
   "outputs": [],
   "source": [
    "from fun.sudoku_helper import sudoku_read, sudoku_solver"
   ]
  },
  {
   "cell_type": "code",
   "execution_count": 5,
   "metadata": {},
   "outputs": [
    {
     "name": "stdout",
     "output_type": "stream",
     "text": [
      "+-------+-------+-------+\n",
      "| 7 X 1 | X X X | 5 X 2 |\n",
      "| X 5 2 | X X X | X X X |\n",
      "| X X X | X X 4 | X X 9 |\n",
      "+-------+-------+-------+\n",
      "| X 2 X | 4 X X | X X 6 |\n",
      "| X 1 X | X X 9 | X X X |\n",
      "| X X X | 3 X 5 | X 9 X |\n",
      "+-------+-------+-------+\n",
      "| X 9 4 | 6 X X | X X 1 |\n",
      "| 2 6 X | X X X | 3 X X |\n",
      "| X X X | X X X | X X X |\n",
      "+-------+-------+-------+\n"
     ]
    }
   ],
   "source": [
    "data = sudoku_read('fun/data/sudokuin.txt')"
   ]
  },
  {
   "cell_type": "code",
   "execution_count": 6,
   "metadata": {},
   "outputs": [
    {
     "name": "stdout",
     "output_type": "stream",
     "text": [
      "Found a solution!\n",
      "+-------+-------+-------+\n",
      "| \u001b[31m7\u001b[0m 4 \u001b[31m1\u001b[0m | 9 3 6 | \u001b[31m5\u001b[0m 8 \u001b[31m2\u001b[0m |\n",
      "| 9 \u001b[31m5\u001b[0m \u001b[31m2\u001b[0m | 7 8 1 | 6 4 3 |\n",
      "| 6 3 8 | 2 5 \u001b[31m4\u001b[0m | 7 1 \u001b[31m9\u001b[0m |\n",
      "+-------+-------+-------+\n",
      "| 5 \u001b[31m2\u001b[0m 9 | \u001b[31m4\u001b[0m 1 7 | 8 3 \u001b[31m6\u001b[0m |\n",
      "| 3 \u001b[31m1\u001b[0m 7 | 8 6 \u001b[31m9\u001b[0m | 4 2 5 |\n",
      "| 4 8 6 | \u001b[31m3\u001b[0m 2 \u001b[31m5\u001b[0m | 1 \u001b[31m9\u001b[0m 7 |\n",
      "+-------+-------+-------+\n",
      "| 8 \u001b[31m9\u001b[0m \u001b[31m4\u001b[0m | \u001b[31m6\u001b[0m 7 3 | 2 5 \u001b[31m1\u001b[0m |\n",
      "| \u001b[31m2\u001b[0m \u001b[31m6\u001b[0m 5 | 1 9 8 | \u001b[31m3\u001b[0m 7 4 |\n",
      "| 1 7 3 | 5 4 2 | 9 6 8 |\n",
      "+-------+-------+-------+\n",
      "All solutions found\n"
     ]
    }
   ],
   "source": [
    "[res,x] = sudoku_solver(data)"
   ]
  },
  {
   "cell_type": "code",
   "execution_count": 7,
   "metadata": {},
   "outputs": [
    {
     "data": {
      "text/plain": [
       "{1: [[7, 4, 1, 9, 3, 6, 5, 8, 2],\n",
       "  [9, 5, 2, 7, 8, 1, 6, 4, 3],\n",
       "  [6, 3, 8, 2, 5, 4, 7, 1, 9],\n",
       "  [5, 2, 9, 4, 1, 7, 8, 3, 6],\n",
       "  [3, 1, 7, 8, 6, 9, 4, 2, 5],\n",
       "  [4, 8, 6, 3, 2, 5, 1, 9, 7],\n",
       "  [8, 9, 4, 6, 7, 3, 2, 5, 1],\n",
       "  [2, 6, 5, 1, 9, 8, 3, 7, 4],\n",
       "  [1, 7, 3, 5, 4, 2, 9, 6, 8]]}"
      ]
     },
     "execution_count": 7,
     "metadata": {},
     "output_type": "execute_result"
    }
   ],
   "source": [
    "res"
   ]
  },
  {
   "cell_type": "code",
   "execution_count": null,
   "metadata": {},
   "outputs": [],
   "source": []
  },
  {
   "cell_type": "code",
   "execution_count": null,
   "metadata": {},
   "outputs": [],
   "source": []
  },
  {
   "cell_type": "code",
   "execution_count": null,
   "metadata": {},
   "outputs": [],
   "source": []
  },
  {
   "cell_type": "code",
   "execution_count": null,
   "metadata": {},
   "outputs": [],
   "source": []
  }
 ],
 "metadata": {
  "kernelspec": {
   "display_name": "Python 3",
   "language": "python",
   "name": "python3"
  },
  "language_info": {
   "codemirror_mode": {
    "name": "ipython",
    "version": 3
   },
   "file_extension": ".py",
   "mimetype": "text/x-python",
   "name": "python",
   "nbconvert_exporter": "python",
   "pygments_lexer": "ipython3",
   "version": "3.7.7"
  }
 },
 "nbformat": 4,
 "nbformat_minor": 4
}
