{
 "cells": [
  {
   "cell_type": "markdown",
   "metadata": {},
   "source": [
    "## ICPC Archive 7619 - Guessing the Dice Roll\n",
    "> There are N players playing a guessing game. Each player guesses a sequence consists of $\\{1,2,3,4,5,6\\}$ with length L, then a dice will be rolled again and again and the roll out sequence will be recorded. The player whose guessing sequence first matches the last L rolls of the dice wins the game.\n",
    "> output the winning probability of each player with the precision of 6 digits.\n",
    "> Full problem link: https://icpcarchive.ecs.baylor.edu/index.php?option=com_onlinejudge&Itemid=8&category=766&page=show_problem&problem=5641"
   ]
  },
  {
   "cell_type": "code",
   "execution_count": 24,
   "metadata": {},
   "outputs": [],
   "source": [
    "import numpy as np\n",
    "import pandas as pd"
   ]
  },
  {
   "cell_type": "markdown",
   "metadata": {},
   "source": [
    "## Markov chain -- solving a linear system"
   ]
  },
  {
   "cell_type": "code",
   "execution_count": 25,
   "metadata": {},
   "outputs": [],
   "source": [
    "def get_prefixs(s):\n",
    "    '''\n",
    "        Get all possible prefixs of sequences s as conditions\n",
    "    '''\n",
    "    count = 1\n",
    "    prefix_dict = {None: 0}\n",
    "    for t in s:\n",
    "        for i in range(len(t)-1):\n",
    "            if tuple(t[0:i+1]) not in prefix_dict:\n",
    "                prefix_dict[tuple(t[:i+1])] = count\n",
    "                count+=1\n",
    "    return prefix_dict"
   ]
  },
  {
   "cell_type": "code",
   "execution_count": 26,
   "metadata": {},
   "outputs": [],
   "source": [
    "def compute_coef(prefix_dict, s, k):\n",
    "    '''\n",
    "        Compute the winning probability for player k\n",
    "    '''\n",
    "\n",
    "    c = None\n",
    "    A = []\n",
    "    b = []\n",
    "    m = len(prefix_dict)\n",
    "\n",
    "    for d,v in prefix_dict.items():\n",
    "        coefs = [0 for _ in range(m)]\n",
    "        v = 0\n",
    "\n",
    "        for i in range(1,7):\n",
    "            if d==None:\n",
    "                t = [i]\n",
    "            else:\n",
    "                t = list(d)+[i]\n",
    "\n",
    "            if t==s[k]:\n",
    "                v += 1.0/6\n",
    "\n",
    "            elif t not in s:   \n",
    "                pos = 0\n",
    "                while (pos<len(t)) and (tuple(t[pos:]) not in prefix_dict):\n",
    "                    pos += 1\n",
    "\n",
    "                if pos == len(t):\n",
    "                    t = None\n",
    "                else:\n",
    "                    t = tuple(t[pos:])\n",
    "\n",
    "                coefs[prefix_dict[t]] += 1.0/6\n",
    "\n",
    "        A.append(coefs)\n",
    "        b.append(v)\n",
    "    return A,b"
   ]
  },
  {
   "cell_type": "code",
   "execution_count": 27,
   "metadata": {},
   "outputs": [],
   "source": [
    "def runner(s):\n",
    "    prefix_dict = get_prefixs(s)\n",
    "    m = len(prefix_dict)\n",
    "    res = []\n",
    "    for i in range(len(s)):\n",
    "        A,b = compute_coef(prefix_dict, s, i)\n",
    "        sol = np.linalg.solve(np.eye(m) - A, b)\n",
    "        res.append(np.round(sol[0],6))\n",
    "    return res"
   ]
  },
  {
   "cell_type": "code",
   "execution_count": 28,
   "metadata": {},
   "outputs": [],
   "source": [
    "res = runner([[1,2,3],[2,3,4],[3,4,5],[4,5,6]])"
   ]
  },
  {
   "cell_type": "code",
   "execution_count": 29,
   "metadata": {},
   "outputs": [
    {
     "data": {
      "text/plain": [
       "[0.285337, 0.237781, 0.237781, 0.239102]"
      ]
     },
     "execution_count": 29,
     "metadata": {},
     "output_type": "execute_result"
    }
   ],
   "source": [
    "res"
   ]
  },
  {
   "cell_type": "markdown",
   "metadata": {},
   "source": [
    "## Simulation"
   ]
  },
  {
   "cell_type": "code",
   "execution_count": 30,
   "metadata": {},
   "outputs": [],
   "source": [
    "def get_freq(n, s):\n",
    "    plot_res = pd.DataFrame(columns=s+['sample_size'])\n",
    "    r = np.random.randint(low=1, high=n+1, size=pow(10,7))\n",
    "    res = {tuple(i):0 for i in s}\n",
    "    m = len(s[0])\n",
    "    i = m\n",
    "    while (i<=len(r)):\n",
    "        t = tuple(r[i-m:i])\n",
    "        if t in res:\n",
    "            res[t] += 1\n",
    "            i = i+m\n",
    "            if sum(res.values())%20==0:\n",
    "                win_prob = {}\n",
    "                for t in s:\n",
    "                    win_prob[tuple(t)] = (res[tuple(t)]*1.0/sum(res.values()))\n",
    "                win_prob['sample_size'] = sum(res.values())\n",
    "                plot_res = plot_res.append(win_prob, ignore_index=True)\n",
    "        else:\n",
    "            i = i+1\n",
    "        \n",
    "    return res,plot_res"
   ]
  },
  {
   "cell_type": "code",
   "execution_count": 32,
   "metadata": {},
   "outputs": [],
   "source": [
    "res,plot_res = get_freq(n=6,s=[(1,2,3),(2,3,4),(3,4,5),(4,5,6)])"
   ]
  },
  {
   "cell_type": "code",
   "execution_count": 33,
   "metadata": {},
   "outputs": [],
   "source": [
    "plot_res.columns = ['A', 'B', 'C', 'D', 'sample_size']"
   ]
  },
  {
   "cell_type": "code",
   "execution_count": 34,
   "metadata": {},
   "outputs": [
    {
     "data": {
      "text/plain": [
       "<matplotlib.legend.Legend at 0x1250ec880>"
      ]
     },
     "execution_count": 34,
     "metadata": {},
     "output_type": "execute_result"
    },
    {
     "data": {
      "image/png": "[encoded data removed]",
      "text/plain": [
       "<Figure size 432x288 with 1 Axes>"
      ]
     },
     "metadata": {
      "needs_background": "light"
     },
     "output_type": "display_data"
    }
   ],
   "source": [
    "ax = plot_res.plot(x='sample_size', y='A')\n",
    "plot_res.plot(x='sample_size', y='B', ax=ax)\n",
    "plot_res.plot(x='sample_size', y='C', ax=ax)\n",
    "plot_res.plot(x='sample_size', y='D', ax=ax)\n",
    "ax.legend([(1,2,3), (2,3,4), (3,4,5), (4,5,6)])"
   ]
  },
  {
   "cell_type": "code",
   "execution_count": null,
   "metadata": {},
   "outputs": [],
   "source": []
  }
 ],
 "metadata": {
  "kernelspec": {
   "display_name": "Python 3",
   "language": "python",
   "name": "python3"
  },
  "language_info": {
   "codemirror_mode": {
    "name": "ipython",
    "version": 3
   },
   "file_extension": ".py",
   "mimetype": "text/x-python",
   "name": "python",
   "nbconvert_exporter": "python",
   "pygments_lexer": "ipython3",
   "version": "3.8.5"
  }
 },
 "nbformat": 4,
 "nbformat_minor": 4
}
