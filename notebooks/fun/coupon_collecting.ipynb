{
 "cells": [
  {
   "cell_type": "markdown",
   "id": "8177e4c5-a9ab-4df6-8cbd-17addf3329d4",
   "metadata": {},
   "source": [
    "# Intro: coupon collecting problem\n",
    "In probability theory, the famous coupon collecting problem is stated as follows: There are n different kinds of coupons, and each time you buy a bag of cereal you can get any 1 coupon with probability $1/n$. What's the expected number of bags of cereal you need to buy to collect all n kinds of coupons? \n",
    "\n",
    "The solution is quite simple. Suppose $T_i$ is the number of bags you need to buy to collect i different coupons when you already have i-1 different coupons, $p_i$ is the probability that you collect the new type of coupon when you already have $i-1$ different coupons. Then $p_i = \\frac{n-i+1}{n}$. Since $T_i$ is geometrically distributed with probability $p_i$, we have the expected number of bags computed as $E[T] = E[T_1] + E[T_2] + \\dots + E[T_n] = \\sum_{i=1}^n \\frac{1}{p_i} = n\\sum_{i=1}^n \\frac{1}{i}$. When $n \\rightarrow \\infty$, $E[T]$ is close to $n\\log(n)$."
   ]
  },
  {
   "cell_type": "markdown",
   "id": "3f082fa1-6aa3-429c-9f23-156ad4ea0285",
   "metadata": {
    "tags": []
   },
   "source": [
    "# Problem generalization\n",
    "In classic coupon collecting problem, we assumed each coupon can be collected with equal probability. However, in practice, this is usually not the case. There are some coupons easier to collect while others are more difficult. What if probabilities are different? Specifically, we are interested in the following problem: <br>\n",
    "<blockquote> There are n different coupons. Suppose each draw has probability $p_i$ to get coupon $i$ ($\\sum_{i=1}^n p_i <= 1$). What's the expected number of draws to collect all the coupons? </blockquote>"
   ]
  },
  {
   "cell_type": "markdown",
   "id": "93e26b80-9e98-47f1-9085-0ee42985843f",
   "metadata": {
    "tags": []
   },
   "source": [
    "## Let's start with n=2 coupons \n",
    "\n",
    "Suppose $T$ is the number of draws to collect both of the coupons, $T_i$ is the number of draws to collect coupon $i$, then using conditional probabilities and the linearity of expected value, we have\n",
    "$E[T] = E[T_1] + P(\\text{coupon 2 is collected after coupon 1})E[T_2]$.\n",
    "Clearly, $E[T_i] = \\frac{1}{p_i}$, we only need to find the probability that coupon 2 is collected after coupon 1. \n",
    "That probability can be calculated via $p_1 + (1-p_1-p_2)p_1 + (1-p_1-p_2)^2p_1 + \\cdots = \\frac{p_1}{p_1+p_2}$. <br>\n",
    "Therefore, $E[T] = \\frac{1}{p_1} + \\frac{p_1}{p_1+p_2} \\frac{1}{p_2} = \\frac{p_1^2+p_2^2+p_1p_2}{p_1p_2(p_1+p_2)}$\n",
    "\n",
    "We wrote the following code to verify this conclusion"
   ]
  },
  {
   "cell_type": "code",
   "execution_count": 6,
   "id": "c60eb292-a17a-4c13-884f-2495ffd66bf4",
   "metadata": {
    "tags": []
   },
   "outputs": [],
   "source": [
    "import numpy as np"
   ]
  },
  {
   "cell_type": "code",
   "execution_count": 7,
   "id": "ba1b8d0e-3733-4fab-8ce2-765215548678",
   "metadata": {
    "tags": []
   },
   "outputs": [],
   "source": [
    "p1 = 0.1\n",
    "p2 = 0.2"
   ]
  },
  {
   "cell_type": "code",
   "execution_count": 8,
   "id": "22095c3d-736a-47c2-823d-e58d97dae5df",
   "metadata": {
    "tags": []
   },
   "outputs": [],
   "source": [
    "def count(x):\n",
    "    i = 0\n",
    "    j = 0\n",
    "    c = []\n",
    "    while i < len(x) and j<len(x):\n",
    "        j = i\n",
    "        d = {}\n",
    "        while j < len(x):\n",
    "            if x[j]>0:\n",
    "                d[x[j]] = True\n",
    "            if len(d)==2:\n",
    "                c.append(j-i+1)\n",
    "                i = j+1\n",
    "                break\n",
    "            else:\n",
    "                j = j+1\n",
    "    return c"
   ]
  },
  {
   "cell_type": "code",
   "execution_count": 31,
   "id": "b2fd8121-00e6-4969-ae29-b3ec6bc1992d",
   "metadata": {
    "tags": []
   },
   "outputs": [],
   "source": [
    "def verify(p1, p2, sample_size=1000000):\n",
    "    x = np.random.choice([1, 2, 0], sample_size, p=[p1, p2, 1-p1-p2])\n",
    "    a = count(x)\n",
    "    print(f'''numerical results: {round(np.array(a).mean(),2)}''')\n",
    "    print(f'''theorical results: {round((p1**2+p2**2+p1*p2)/p1/p2/(p1+p2), 2)}''')\n",
    "    "
   ]
  },
  {
   "cell_type": "code",
   "execution_count": 32,
   "id": "2822fcd7-579e-46b8-828e-e192cbbd5bfe",
   "metadata": {
    "tags": []
   },
   "outputs": [
    {
     "name": "stdout",
     "output_type": "stream",
     "text": [
      "numerical results: 23.31\n",
      "theorical results: 23.33\n"
     ]
    }
   ],
   "source": [
    "verify(0.1, 0.05)"
   ]
  },
  {
   "cell_type": "code",
   "execution_count": null,
   "id": "58e6a8ce-57de-47a2-861a-474ecdeb5f54",
   "metadata": {},
   "outputs": [],
   "source": []
  },
  {
   "cell_type": "markdown",
   "id": "2fae46d7-5271-4866-9053-793f17224082",
   "metadata": {},
   "source": [
    "# When n>2\n",
    "Using the above code, we can easily compute the numerical results for any cases. "
   ]
  },
  {
   "cell_type": "code",
   "execution_count": 64,
   "id": "843cd2c1-4fa2-4705-87e9-48a1100dff08",
   "metadata": {
    "tags": []
   },
   "outputs": [],
   "source": [
    "def expected_num_coupons(p, sample_size=1000000):\n",
    "    def _count(n, x):\n",
    "        '''\n",
    "            Given array x of simulated coupon collecting process and number of coupons n in total, find number of draws to collect n coupons in total. \n",
    "        '''\n",
    "        i = 0\n",
    "        j = 0\n",
    "        c = []\n",
    "        while i < len(x) and j<len(x):\n",
    "            j = i\n",
    "            d = {}\n",
    "            while j < len(x):\n",
    "                if x[j]>0:\n",
    "                    d[x[j]] = True\n",
    "                if len(d)==n:\n",
    "                    c.append(j-i+1)\n",
    "                    i = j+1\n",
    "                    break\n",
    "                else:\n",
    "                    j = j+1\n",
    "        return c\n",
    "    \n",
    "    n = len(p)\n",
    "    x = np.random.choice(list(range(1,n+1))+[0], sample_size, p=p+[1-np.array(p).sum()])\n",
    "    a = np.array(_count(n, x))\n",
    "    return [a.mean(), a.std()]"
   ]
  },
  {
   "cell_type": "code",
   "execution_count": 65,
   "id": "af552b88-9fe4-4523-9590-e0c9f7bf06a8",
   "metadata": {
    "tags": []
   },
   "outputs": [],
   "source": [
    "[me, std] = expected_num_coupons([0.1, 0.2, 0.03])"
   ]
  },
  {
   "cell_type": "code",
   "execution_count": 67,
   "id": "49bd7284-a668-4b8d-94bd-e506534eeae1",
   "metadata": {
    "tags": []
   },
   "outputs": [
    {
     "name": "stdout",
     "output_type": "stream",
     "text": [
      "36.05856050771672 31.352230962583036\n"
     ]
    }
   ],
   "source": [
    "print(me, std)"
   ]
  },
  {
   "cell_type": "code",
   "execution_count": 68,
   "id": "554f8a7c-a2e9-47e8-af76-2f2ddb60b43c",
   "metadata": {
    "tags": []
   },
   "outputs": [],
   "source": [
    "[me, std] = expected_num_coupons([0.1, 0.2, 0.03, 0.04, 0.05])"
   ]
  },
  {
   "cell_type": "code",
   "execution_count": 69,
   "id": "ea6da87a-6959-4903-b86d-25466df6f3d8",
   "metadata": {
    "tags": []
   },
   "outputs": [
    {
     "name": "stdout",
     "output_type": "stream",
     "text": [
      "49.8074911590377 31.265872158528143\n"
     ]
    }
   ],
   "source": [
    "print(me, std)"
   ]
  },
  {
   "cell_type": "markdown",
   "id": "f2e88853-02d4-4bf9-bf90-92cb1c9dc12d",
   "metadata": {},
   "source": [
    "### Can we derive a mathematical formula like we did to $n=2$? "
   ]
  },
  {
   "cell_type": "markdown",
   "id": "95c17ab0-9296-45e3-88d1-48faea773a05",
   "metadata": {},
   "source": [
    "Suppose coupons are collected according to a Poisson Process with rate $\\lambda=1$. A type $i$ event occur when a type $i$ coupon is collected during the process. \n",
    "Let ${N_j(t)}$ denote the number of type $j$ coupons collected by time $t$, then $\\{N_j(t), t\\geq0\\}, j=1, \\dots, m$ are independent Poisson processes with rates $\\lambda_j = \\lambda p_j = p_j$. <br>\n",
    "Let $X_j$ denote the time of the first event of the $j$-th process, $X = \\max_{1\\leq j \\leq n} X_j$ is the time at which all types of coupons are collected. <br>\n",
    "$P(X<t) = P(X_i<t, \\forall i=1,\\dots,m) = \\Pi_{i=1}^m P(X_i<t)= \\Pi_{i=1}^m (1-e^{-p_i t})$ <br>\n",
    "Therefore, the expected number of draws to collect all types of coupons is $E[X] = \\int_{0}^{\\infty} P(X>t)dt = \\int_0^{\\infty} \\{1- \\Pi_{i=1}^m (1-e^{-p_i t})\\}dt$ <br>\n",
    "To simplify the above formula, we note that $\\int_0^{\\infty} e^{-\\alpha t}dt = -\\frac{1}{\\alpha}$ when $\\alpha<0$. Therefore, \n",
    "$E[X] = \\sum_{i} \\frac{1}{p_i} - \\sum_{(i,j)} \\frac{1}{p_i+p_j} + \\sum_{(i,j,k)}\\frac{1}{p_i+p_j+p_k} - \\dots$, or more formally,\n",
    "<blockquote> \n",
    "    $E[X] = \\sum_{k=1}^n \\sum_{i_1, i_2, \\dots, i_k} (-1)^{(k-1)} \\frac{1}{p_{i_1}+\\cdots+p_{i_k}}$\n",
    "    </blockquote>\n",
    "When $n=2$, it reduces to $\\frac{1}{p_1} + \\frac{1}{p_2} - \\frac{1}{p_1+p_2}$.\n",
    "We can write code to compute this number numerically. But it requires $O(2^n)$ time complexity to actually compute this number."
   ]
  },
  {
   "cell_type": "markdown",
   "id": "af28245b-90bd-4c1b-adf1-03b2b1b9584a",
   "metadata": {
    "tags": []
   },
   "source": [
    "1/0.1+1/0.2+1/0.03-1/0.13-1/0.23-1/0.3+1/0.33"
   ]
  },
  {
   "cell_type": "code",
   "execution_count": 71,
   "id": "778e3c0b-9872-4719-82ba-a50d54c3a970",
   "metadata": {
    "tags": []
   },
   "outputs": [],
   "source": [
    "def recur(p, m, n_ele, cur_s, s):\n",
    "    if n_ele==m:\n",
    "        s[0] = s[0]+1/cur_s\n",
    "    else:\n",
    "        for i in range(len(p)):\n",
    "            recur(p[i+1:], m, n_ele+1, cur_s+p[i], s)"
   ]
  },
  {
   "cell_type": "code",
   "execution_count": 73,
   "id": "ab085ad5-1985-4edd-b1d4-878d989a761e",
   "metadata": {
    "tags": []
   },
   "outputs": [],
   "source": [
    "res = [0]\n",
    "recur([0.1, 0.2, 0.03], 2, 0, 0, res)"
   ]
  },
  {
   "cell_type": "code",
   "execution_count": 76,
   "id": "88cf7998-3991-48f3-b886-6e394b37a517",
   "metadata": {
    "tags": []
   },
   "outputs": [],
   "source": [
    "def cal_expected_num_draws(p):\n",
    "    n = len(p)\n",
    "    ans = 0\n",
    "    for k in range(1,n+1):\n",
    "        res = [0]\n",
    "        recur(p, k, 0, 0, res)\n",
    "        ans = ans + np.power(-1, k-1)*res[0]\n",
    "    return ans"
   ]
  },
  {
   "cell_type": "code",
   "execution_count": 85,
   "id": "c3de3a06-351d-4c21-bd7d-a650a1fe2c3c",
   "metadata": {
    "tags": []
   },
   "outputs": [
    {
     "name": "stdout",
     "output_type": "stream",
     "text": [
      "132.34365905936258\n",
      "132.09180977542934\n"
     ]
    }
   ],
   "source": [
    "p=[0.1, 0.2, 0.03, 0.008]\n",
    "print(cal_expected_num_draws(p))\n",
    "print(expected_num_coupons(p)[0])"
   ]
  },
  {
   "cell_type": "code",
   "execution_count": 95,
   "id": "78f8d99b-c683-43dc-b15b-2bea6feac0ae",
   "metadata": {
    "tags": []
   },
   "outputs": [
    {
     "name": "stdout",
     "output_type": "stream",
     "text": [
      "90.62274739073663\n",
      "CPU times: user 54.6 s, sys: 119 ms, total: 54.8 s\n",
      "Wall time: 54.9 s\n"
     ]
    },
    {
     "data": {
      "text/plain": [
       "90.62299626608417"
      ]
     },
     "execution_count": 95,
     "metadata": {},
     "output_type": "execute_result"
    }
   ],
   "source": [
    "%%time\n",
    "n = 24\n",
    "p = [1/n for i in range(n)]\n",
    "print(cal_expected_num_draws(p))\n",
    "np.array([1/i for i in range(1,n+1)]).sum()*n"
   ]
  },
  {
   "cell_type": "code",
   "execution_count": null,
   "id": "d38124aa-858e-41a5-85eb-f08b76bf16a4",
   "metadata": {},
   "outputs": [],
   "source": []
  },
  {
   "cell_type": "markdown",
   "id": "15344532-ea54-4a06-bc8f-2959bc13c3bc",
   "metadata": {
    "tags": []
   },
   "source": [
    "# Open questions\n",
    " - How to efficiently compute the mean when there are more than 30 types of coupons?\n",
    " - Is there a closed form solution for the variance as well?"
   ]
  },
  {
   "cell_type": "code",
   "execution_count": null,
   "id": "9fc49797-0417-4092-8a3b-0723c21df543",
   "metadata": {},
   "outputs": [],
   "source": []
  },
  {
   "cell_type": "code",
   "execution_count": null,
   "id": "f6eb1ea1-8d31-409b-adf7-917e82cfb780",
   "metadata": {},
   "outputs": [],
   "source": []
  },
  {
   "cell_type": "code",
   "execution_count": null,
   "id": "b988ac9b-5f90-4eb0-9179-bf2b45c0b5e3",
   "metadata": {},
   "outputs": [],
   "source": []
  }
 ],
 "metadata": {
  "kernelspec": {
   "display_name": "Python 3 (ipykernel)",
   "language": "python",
   "name": "python3"
  },
  "language_info": {
   "codemirror_mode": {
    "name": "ipython",
    "version": 3
   },
   "file_extension": ".py",
   "mimetype": "text/x-python",
   "name": "python",
   "nbconvert_exporter": "python",
   "pygments_lexer": "ipython3",
   "version": "3.8.12"
  }
 },
 "nbformat": 4,
 "nbformat_minor": 5
}
