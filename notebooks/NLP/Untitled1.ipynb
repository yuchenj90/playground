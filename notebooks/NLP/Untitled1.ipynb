{
 "cells": [
  {
   "cell_type": "code",
   "execution_count": 1,
   "id": "345185f3-e542-4e05-b991-d9ce8d7c9406",
   "metadata": {
    "tags": []
   },
   "outputs": [
    {
     "name": "stdout",
     "output_type": "stream",
     "text": [
      "0.668740304976422\n"
     ]
    }
   ],
   "source": [
    "from nltk.translate.bleu_score import sentence_bleu\n",
    "reference = [['this', 'movie', 'was', 'awesome']]\n",
    "candidate = ['this', 'movie', 'was', 'awesome', 'too']\n",
    "score = sentence_bleu(reference, candidate)\n",
    "print(score)\n"
   ]
  },
  {
   "cell_type": "code",
   "execution_count": 4,
   "id": "96d8744d-e347-4396-af2b-7b5a48ea0bd1",
   "metadata": {
    "tags": []
   },
   "outputs": [
    {
     "data": {
      "text/plain": [
       "0.668740304976422"
      ]
     },
     "execution_count": 4,
     "metadata": {},
     "output_type": "execute_result"
    }
   ],
   "source": [
    "import numpy as np\n",
    "np.power(4/5 * 3/4 * 2/3 *1/2, 0.25)"
   ]
  },
  {
   "cell_type": "code",
   "execution_count": null,
   "id": "dbef9280-23e8-4f4a-930c-23e587f6fcfb",
   "metadata": {},
   "outputs": [],
   "source": []
  },
  {
   "cell_type": "code",
   "execution_count": 6,
   "id": "55f32e3f-c93b-460f-89e9-e34feafddba3",
   "metadata": {
    "tags": []
   },
   "outputs": [
    {
     "name": "stdout",
     "output_type": "stream",
     "text": [
      "{'rouge-1': {'r': 1.0, 'p': 0.8, 'f': 0.8888888839506174}, 'rouge-2': {'r': 1.0, 'p': 0.75, 'f': 0.8571428522448981}, 'rouge-l': {'r': 1.0, 'p': 0.8, 'f': 0.8888888839506174}}\n"
     ]
    }
   ],
   "source": [
    "from rouge import Rouge\n",
    "reference = 'this movie was awesome'\n",
    "candidate = 'this movie was awesome too'\n",
    "rouge = Rouge()\n",
    "scores = rouge.get_scores(candidate, reference)[0]\n",
    "print(scores)"
   ]
  },
  {
   "cell_type": "code",
   "execution_count": 8,
   "id": "96e7d49b-3997-4c8d-83fe-d1a2c27d4a06",
   "metadata": {
    "tags": []
   },
   "outputs": [
    {
     "name": "stderr",
     "output_type": "stream",
     "text": [
      "[nltk_data] Downloading package wordnet to\n",
      "[nltk_data]     /Users/yuchen.jiang2/nltk_data...\n"
     ]
    },
    {
     "data": {
      "text/plain": [
       "True"
      ]
     },
     "execution_count": 8,
     "metadata": {},
     "output_type": "execute_result"
    }
   ],
   "source": [
    "import nltk\n",
    "nltk.download('wordnet')\n"
   ]
  },
  {
   "cell_type": "code",
   "execution_count": 9,
   "id": "60d4fd87-9b72-481a-a5dd-1a6b5c8a16bc",
   "metadata": {
    "tags": []
   },
   "outputs": [
    {
     "name": "stdout",
     "output_type": "stream",
     "text": [
      "0.9679878048780488\n"
     ]
    }
   ],
   "source": [
    "from nltk.translate.meteor_score import single_meteor_score\n",
    "reference = ['this', 'movie', 'was', 'awesome']\n",
    "candidate = ['this', 'movie', 'was', 'awesome', 'too']\n",
    "score = single_meteor_score(reference, candidate)\n",
    "print(score)"
   ]
  },
  {
   "cell_type": "code",
   "execution_count": 10,
   "id": "bf5a1bc2-1a19-421b-af65-920cdffc7fed",
   "metadata": {
    "tags": []
   },
   "outputs": [
    {
     "data": {
      "text/plain": [
       "\u001b[0;31mSignature:\u001b[0m\n",
       "\u001b[0msingle_meteor_score\u001b[0m\u001b[0;34m(\u001b[0m\u001b[0;34m\u001b[0m\n",
       "\u001b[0;34m\u001b[0m    \u001b[0mreference\u001b[0m\u001b[0;34m:\u001b[0m \u001b[0mIterable\u001b[0m\u001b[0;34m[\u001b[0m\u001b[0mstr\u001b[0m\u001b[0;34m]\u001b[0m\u001b[0;34m,\u001b[0m\u001b[0;34m\u001b[0m\n",
       "\u001b[0;34m\u001b[0m    \u001b[0mhypothesis\u001b[0m\u001b[0;34m:\u001b[0m \u001b[0mIterable\u001b[0m\u001b[0;34m[\u001b[0m\u001b[0mstr\u001b[0m\u001b[0;34m]\u001b[0m\u001b[0;34m,\u001b[0m\u001b[0;34m\u001b[0m\n",
       "\u001b[0;34m\u001b[0m    \u001b[0mpreprocess\u001b[0m\u001b[0;34m:\u001b[0m \u001b[0mCallable\u001b[0m\u001b[0;34m[\u001b[0m\u001b[0;34m[\u001b[0m\u001b[0mstr\u001b[0m\u001b[0;34m]\u001b[0m\u001b[0;34m,\u001b[0m \u001b[0mstr\u001b[0m\u001b[0;34m]\u001b[0m \u001b[0;34m=\u001b[0m \u001b[0;34m<\u001b[0m\u001b[0mmethod\u001b[0m \u001b[0;34m'lower'\u001b[0m \u001b[0mof\u001b[0m \u001b[0;34m'str'\u001b[0m \u001b[0mobjects\u001b[0m\u001b[0;34m>\u001b[0m\u001b[0;34m,\u001b[0m\u001b[0;34m\u001b[0m\n",
       "\u001b[0;34m\u001b[0m    \u001b[0mstemmer\u001b[0m\u001b[0;34m:\u001b[0m \u001b[0mnltk\u001b[0m\u001b[0;34m.\u001b[0m\u001b[0mstem\u001b[0m\u001b[0;34m.\u001b[0m\u001b[0mapi\u001b[0m\u001b[0;34m.\u001b[0m\u001b[0mStemmerI\u001b[0m \u001b[0;34m=\u001b[0m \u001b[0;34m<\u001b[0m\u001b[0mPorterStemmer\u001b[0m\u001b[0;34m>\u001b[0m\u001b[0;34m,\u001b[0m\u001b[0;34m\u001b[0m\n",
       "\u001b[0;34m\u001b[0m    \u001b[0mwordnet\u001b[0m\u001b[0;34m:\u001b[0m \u001b[0mnltk\u001b[0m\u001b[0;34m.\u001b[0m\u001b[0mcorpus\u001b[0m\u001b[0;34m.\u001b[0m\u001b[0mreader\u001b[0m\u001b[0;34m.\u001b[0m\u001b[0mwordnet\u001b[0m\u001b[0;34m.\u001b[0m\u001b[0mWordNetCorpusReader\u001b[0m \u001b[0;34m=\u001b[0m \u001b[0;34m<\u001b[0m\u001b[0mWordNetCorpusReader\u001b[0m \u001b[0;32min\u001b[0m \u001b[0;34m'/Users/yuchen.jiang2/nltk_data/corpora/wordnet.zip/wordnet/'\u001b[0m\u001b[0;34m>\u001b[0m\u001b[0;34m,\u001b[0m\u001b[0;34m\u001b[0m\n",
       "\u001b[0;34m\u001b[0m    \u001b[0malpha\u001b[0m\u001b[0;34m:\u001b[0m \u001b[0mfloat\u001b[0m \u001b[0;34m=\u001b[0m \u001b[0;36m0.9\u001b[0m\u001b[0;34m,\u001b[0m\u001b[0;34m\u001b[0m\n",
       "\u001b[0;34m\u001b[0m    \u001b[0mbeta\u001b[0m\u001b[0;34m:\u001b[0m \u001b[0mfloat\u001b[0m \u001b[0;34m=\u001b[0m \u001b[0;36m3.0\u001b[0m\u001b[0;34m,\u001b[0m\u001b[0;34m\u001b[0m\n",
       "\u001b[0;34m\u001b[0m    \u001b[0mgamma\u001b[0m\u001b[0;34m:\u001b[0m \u001b[0mfloat\u001b[0m \u001b[0;34m=\u001b[0m \u001b[0;36m0.5\u001b[0m\u001b[0;34m,\u001b[0m\u001b[0;34m\u001b[0m\n",
       "\u001b[0;34m\u001b[0m\u001b[0;34m)\u001b[0m \u001b[0;34m->\u001b[0m \u001b[0mfloat\u001b[0m\u001b[0;34m\u001b[0m\u001b[0;34m\u001b[0m\u001b[0m\n",
       "\u001b[0;31mDocstring:\u001b[0m\n",
       "Calculates METEOR score for single hypothesis and reference as per\n",
       "\"Meteor: An Automatic Metric for MT Evaluation with HighLevels of\n",
       "Correlation with Human Judgments\" by Alon Lavie and Abhaya Agarwal,\n",
       "in Proceedings of ACL.\n",
       "https://www.cs.cmu.edu/~alavie/METEOR/pdf/Lavie-Agarwal-2007-METEOR.pdf\n",
       "\n",
       "\n",
       ">>> hypothesis1 = ['It', 'is', 'a', 'guide', 'to', 'action', 'which', 'ensures', 'that', 'the', 'military', 'always', 'obeys', 'the', 'commands', 'of', 'the', 'party']\n",
       "\n",
       ">>> reference1 = ['It', 'is', 'a', 'guide', 'to', 'action', 'that', 'ensures', 'that', 'the', 'military', 'will', 'forever', 'heed', 'Party', 'commands']\n",
       "\n",
       "\n",
       ">>> round(single_meteor_score(reference1, hypothesis1),4)\n",
       "0.6944\n",
       "\n",
       "    If there is no words match during the alignment the method returns the\n",
       "    score as 0. We can safely  return a zero instead of raising a\n",
       "    division by zero error as no match usually implies a bad translation.\n",
       "\n",
       ">>> round(single_meteor_score(['this', 'is', 'a', 'cat'], ['non', 'matching', 'hypothesis']),4)\n",
       "0.0\n",
       "\n",
       ":param reference: pre-tokenized reference\n",
       ":param hypothesis: pre-tokenized hypothesis\n",
       ":param preprocess: preprocessing function (default str.lower)\n",
       ":param stemmer: nltk.stem.api.StemmerI object (default PorterStemmer())\n",
       ":param wordnet: a wordnet corpus reader object (default nltk.corpus.wordnet)\n",
       ":param alpha: parameter for controlling relative weights of precision and recall.\n",
       ":param beta: parameter for controlling shape of penalty as a\n",
       "             function of as a function of fragmentation.\n",
       ":param gamma: relative weight assigned to fragmentation penalty.\n",
       ":return: The sentence-level METEOR score.\n",
       "\u001b[0;31mFile:\u001b[0m      ~/personal/repos/playground/env/lib/python3.8/site-packages/nltk/translate/meteor_score.py\n",
       "\u001b[0;31mType:\u001b[0m      function"
      ]
     },
     "metadata": {},
     "output_type": "display_data"
    }
   ],
   "source": [
    "single_meteor_score?"
   ]
  },
  {
   "cell_type": "code",
   "execution_count": null,
   "id": "21486f64-2cee-4c54-9497-c3772a1d7329",
   "metadata": {},
   "outputs": [],
   "source": []
  }
 ],
 "metadata": {
  "kernelspec": {
   "display_name": "Python 3 (ipykernel)",
   "language": "python",
   "name": "python3"
  },
  "language_info": {
   "codemirror_mode": {
    "name": "ipython",
    "version": 3
   },
   "file_extension": ".py",
   "mimetype": "text/x-python",
   "name": "python",
   "nbconvert_exporter": "python",
   "pygments_lexer": "ipython3",
   "version": "3.8.12"
  }
 },
 "nbformat": 4,
 "nbformat_minor": 5
}
