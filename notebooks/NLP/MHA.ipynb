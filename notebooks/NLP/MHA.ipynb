{
 "cells": [
  {
   "cell_type": "code",
   "execution_count": 49,
   "id": "1dfd5cf5-e471-4833-9c48-8149502b5d0e",
   "metadata": {
    "tags": []
   },
   "outputs": [],
   "source": [
    "import torch\n",
    "import torch.nn as nn\n",
    "import math"
   ]
  },
  {
   "cell_type": "code",
   "execution_count": 71,
   "id": "736130a1-05df-4e29-99e6-2ffa47036eba",
   "metadata": {},
   "outputs": [],
   "source": [
    "class MultiHeadedAttention(nn.Module):\n",
    "    def __init__(self, d_model:int, n_heads:int, ):\n",
    "        self.d_model = d_model\n",
    "        self.n_heads = n_heads\n",
    "        assert self.d_model % self.n_heads == 0, \"d_model should be divisible by n_heads!\"\n",
    "        self.d_h = self.d_model//self.n_heads\n",
    "        \n",
    "        self.LinearQ = nn.Linear(d_model, d_model)\n",
    "        self.LinearK = nn.Linear(d_model, d_model)\n",
    "        self.LinearV = nn.Linear(d_model, d_model)\n",
    "        \n",
    "        \n",
    "    def forward(self, q, k, v):\n",
    "        # q, k, v size: (batch size, seq_len, d_model)\n",
    "        q_proj = self.LinearQ(q)  # (batch size, seq_len, d_model)\n",
    "        k_proj = self.LinearK(k)\n",
    "        v_proj = self.LinearV(v)\n",
    "        \n",
    "        q_proj = q_proj.view(q_proj.shape[0], q_proj.shape[1], self.n_heads, self.d_h).transpose(1,2) # (batch size, n_heads, seq_len, d_h)\n",
    "        k_proj = k_proj.view(q_proj.shape[0], q_proj.shape[1], self.n_heads, self.d_h).transpose(1,2)\n",
    "        v_proj = v_proj.view(q_proj.shape[0], q_proj.shape[1], self.n_heads, self.d_h).transpose(1,2)\n",
    "\n",
    "        att_prob = (q_proj @ k_proj.transpose(-1,-2)/math.sqrt(self.d_h)).softmax(dim=-1) # (batch size, n_heads, seq_len, seq_len)\n",
    "        att_val = (att_prob @ v_proj).transpose(1,2).view(q_proj.shape[0], q_proj.shape[1], self.d_model) # (batch size, seq_len, n_model)\n",
    "        return att_val"
   ]
  },
  {
   "cell_type": "code",
   "execution_count": 48,
   "id": "689893a3-f63b-4380-9533-9ed5711c0bbf",
   "metadata": {
    "tags": []
   },
   "outputs": [
    {
     "data": {
      "text/plain": [
       "tensor([[[0.3564, 0.1849, 0.1144, 0.1004, 0.2439],\n",
       "         [0.2444, 0.2232, 0.1591, 0.1228, 0.2505],\n",
       "         [0.3624, 0.1600, 0.1398, 0.1140, 0.2238],\n",
       "         [0.3129, 0.1503, 0.1475, 0.1525, 0.2368],\n",
       "         [0.2616, 0.2201, 0.1191, 0.1384, 0.2607]],\n",
       "\n",
       "        [[0.1406, 0.2157, 0.1067, 0.1946, 0.3423],\n",
       "         [0.1062, 0.1445, 0.0759, 0.2854, 0.3880],\n",
       "         [0.1470, 0.2324, 0.0975, 0.1865, 0.3366],\n",
       "         [0.1071, 0.1688, 0.0805, 0.2838, 0.3597],\n",
       "         [0.0894, 0.0771, 0.1371, 0.3367, 0.3597]]])"
      ]
     },
     "execution_count": 48,
     "metadata": {},
     "output_type": "execute_result"
    }
   ],
   "source": [
    "m = nn.Softmax(dim=-1)\n",
    "m(a @ torch.transpose(b, 1, 2))"
   ]
  },
  {
   "cell_type": "code",
   "execution_count": 69,
   "id": "bfe2fdb3-4f4f-461f-9b65-2e58d5d97116",
   "metadata": {
    "tags": []
   },
   "outputs": [
    {
     "data": {
      "text/plain": [
       "tensor([[5.1662e-01, 8.5651e-01, 2.7627e-02, 7.0715e-04, 6.7368e-01, 6.1441e-01,\n",
       "         3.5076e-01, 7.8261e-01, 2.2942e-01, 9.4171e-01, 4.2464e-02, 5.7357e-01,\n",
       "         6.7729e-01, 5.2001e-01, 2.0488e-01, 9.5282e-01, 5.0492e-03, 1.2875e-01,\n",
       "         3.7501e-01, 9.3959e-01, 3.9402e-01, 4.0903e-01, 3.5688e-01, 5.0833e-01,\n",
       "         1.6406e-01, 2.1066e-02, 3.5486e-01, 6.4652e-01, 4.9309e-03, 5.5206e-01,\n",
       "         2.4028e-01, 8.2871e-01, 3.9795e-01, 1.2829e-02, 4.0384e-01, 5.3361e-01,\n",
       "         7.6448e-02, 8.9446e-02, 4.1684e-01, 2.7728e-01, 2.8358e-01, 6.3485e-01,\n",
       "         3.3976e-01, 3.3906e-01, 7.3859e-01, 2.3730e-02, 3.3382e-01, 9.5803e-01,\n",
       "         7.1400e-02, 2.2049e-02, 3.7260e-01, 1.1008e-01, 1.9810e-01, 6.3477e-02,\n",
       "         4.0891e-01, 6.1942e-01, 8.5863e-01, 5.7828e-01, 1.6506e-01, 8.8968e-01,\n",
       "         3.9389e-01, 9.9047e-01, 5.4204e-01, 5.0099e-01, 7.5437e-01, 4.4286e-01,\n",
       "         5.6542e-02, 2.2373e-01, 2.4036e-01, 7.7569e-01, 7.7603e-01, 3.0141e-02,\n",
       "         9.5410e-01, 4.1722e-01, 4.7254e-02, 2.9206e-01, 4.5178e-01, 2.7830e-01,\n",
       "         3.0282e-02, 8.2671e-01, 9.5780e-01, 5.5201e-01, 9.3391e-01, 4.7232e-02,\n",
       "         2.3946e-01, 2.1375e-01, 4.6506e-01, 5.7538e-01, 4.4436e-01, 5.6886e-01,\n",
       "         3.7940e-01, 1.7267e-01, 3.7327e-01, 3.6760e-01, 5.8591e-01, 9.3240e-01,\n",
       "         3.6501e-01, 4.2490e-01, 3.0239e-01, 3.6580e-01]])"
      ]
     },
     "execution_count": 69,
     "metadata": {},
     "output_type": "execute_result"
    }
   ],
   "source": [
    "a.view((1,100))"
   ]
  },
  {
   "cell_type": "code",
   "execution_count": null,
   "id": "9ca9243a-e3ea-4489-8527-468be682b266",
   "metadata": {},
   "outputs": [],
   "source": [
    "# implement transpose\n",
    "import numpy as np\n",
    "\n",
    "def transpose(arr, dim1, dim2):\n",
    "    s = arr.shape\n",
    "    "
   ]
  },
  {
   "cell_type": "code",
   "execution_count": 27,
   "id": "b7789e28-0153-4da4-adaa-40127f88b238",
   "metadata": {
    "tags": []
   },
   "outputs": [
    {
     "data": {
      "text/plain": [
       "(2, 3, 4)"
      ]
     },
     "execution_count": 27,
     "metadata": {},
     "output_type": "execute_result"
    }
   ],
   "source": [
    "import numpy as np\n",
    "\n",
    "np.zeros((2,3,4)).shape"
   ]
  },
  {
   "cell_type": "code",
   "execution_count": 24,
   "id": "5abbd316-431e-4bd5-b336-500d8272f643",
   "metadata": {
    "tags": []
   },
   "outputs": [
    {
     "data": {
      "text/plain": [
       "torch.Size([2, 5, 10])"
      ]
     },
     "execution_count": 24,
     "metadata": {},
     "output_type": "execute_result"
    }
   ],
   "source": [
    "a.shape"
   ]
  },
  {
   "cell_type": "code",
   "execution_count": 23,
   "id": "36b0ccf0-12fb-4273-ab79-422a0ec3c186",
   "metadata": {
    "tags": []
   },
   "outputs": [
    {
     "data": {
      "text/plain": [
       "tensor([[[ 0, 50],\n",
       "         [10, 60],\n",
       "         [20, 70],\n",
       "         [30, 80],\n",
       "         [40, 90]],\n",
       "\n",
       "        [[ 1, 51],\n",
       "         [11, 61],\n",
       "         [21, 71],\n",
       "         [31, 81],\n",
       "         [41, 91]],\n",
       "\n",
       "        [[ 2, 52],\n",
       "         [12, 62],\n",
       "         [22, 72],\n",
       "         [32, 82],\n",
       "         [42, 92]],\n",
       "\n",
       "        [[ 3, 53],\n",
       "         [13, 63],\n",
       "         [23, 73],\n",
       "         [33, 83],\n",
       "         [43, 93]],\n",
       "\n",
       "        [[ 4, 54],\n",
       "         [14, 64],\n",
       "         [24, 74],\n",
       "         [34, 84],\n",
       "         [44, 94]],\n",
       "\n",
       "        [[ 5, 55],\n",
       "         [15, 65],\n",
       "         [25, 75],\n",
       "         [35, 85],\n",
       "         [45, 95]],\n",
       "\n",
       "        [[ 6, 56],\n",
       "         [16, 66],\n",
       "         [26, 76],\n",
       "         [36, 86],\n",
       "         [46, 96]],\n",
       "\n",
       "        [[ 7, 57],\n",
       "         [17, 67],\n",
       "         [27, 77],\n",
       "         [37, 87],\n",
       "         [47, 97]],\n",
       "\n",
       "        [[ 8, 58],\n",
       "         [18, 68],\n",
       "         [28, 78],\n",
       "         [38, 88],\n",
       "         [48, 98]],\n",
       "\n",
       "        [[ 9, 59],\n",
       "         [19, 69],\n",
       "         [29, 79],\n",
       "         [39, 89],\n",
       "         [49, 99]]])"
      ]
     },
     "execution_count": 23,
     "metadata": {},
     "output_type": "execute_result"
    }
   ],
   "source": [
    "torch.transpose(a, 0,2)"
   ]
  },
  {
   "cell_type": "code",
   "execution_count": 20,
   "id": "29718d43-a5e3-45eb-8c7f-f6dc9bea99e0",
   "metadata": {
    "tags": []
   },
   "outputs": [
    {
     "data": {
      "text/plain": [
       "tensor([[[  285,   735,  1185,  1635,  2085],\n",
       "         [  735,  2185,  3635,  5085,  6535],\n",
       "         [ 1185,  3635,  6085,  8535, 10985],\n",
       "         [ 1635,  5085,  8535, 11985, 15435],\n",
       "         [ 2085,  6535, 10985, 15435, 19885]],\n",
       "\n",
       "        [[29785, 35235, 40685, 46135, 51585],\n",
       "         [35235, 41685, 48135, 54585, 61035],\n",
       "         [40685, 48135, 55585, 63035, 70485],\n",
       "         [46135, 54585, 63035, 71485, 79935],\n",
       "         [51585, 61035, 70485, 79935, 89385]]])"
      ]
     },
     "execution_count": 20,
     "metadata": {},
     "output_type": "execute_result"
    }
   ],
   "source": [
    "a @ torch.transpose(b, -1, -2)"
   ]
  },
  {
   "cell_type": "code",
   "execution_count": 14,
   "id": "1fdd0f0a-a6d0-4b5f-9ecd-98668ddac9e0",
   "metadata": {
    "tags": []
   },
   "outputs": [
    {
     "ename": "RuntimeError",
     "evalue": "Expected size for first two dimensions of batch2 tensor to be: [2, 10] but got: [2, 5].",
     "output_type": "error",
     "traceback": [
      "\u001b[0;31m---------------------------------------------------------------------------\u001b[0m",
      "\u001b[0;31mRuntimeError\u001b[0m                              Traceback (most recent call last)",
      "Cell \u001b[0;32mIn[14], line 1\u001b[0m\n\u001b[0;32m----> 1\u001b[0m \u001b[43ma\u001b[49m\u001b[38;5;129;43m@b\u001b[39;49m\n",
      "\u001b[0;31mRuntimeError\u001b[0m: Expected size for first two dimensions of batch2 tensor to be: [2, 10] but got: [2, 5]."
     ]
    }
   ],
   "source": [
    "a @ b.transpose()"
   ]
  },
  {
   "cell_type": "code",
   "execution_count": 6,
   "id": "38f16cba-e374-46e6-b3a1-1984149db48b",
   "metadata": {
    "tags": []
   },
   "outputs": [
    {
     "data": {
      "text/plain": [
       "torch.Size([2, 4, 10])"
      ]
     },
     "execution_count": 6,
     "metadata": {},
     "output_type": "execute_result"
    }
   ],
   "source": [
    "a.shape"
   ]
  },
  {
   "cell_type": "code",
   "execution_count": 7,
   "id": "3e40e337-fe9b-4dc7-b5ac-99c289819868",
   "metadata": {
    "tags": []
   },
   "outputs": [
    {
     "data": {
      "text/plain": [
       "tensor([[[[0., 0.],\n",
       "          [0., 0.],\n",
       "          [0., 0.],\n",
       "          [0., 0.],\n",
       "          [0., 0.]],\n",
       "\n",
       "         [[0., 0.],\n",
       "          [0., 0.],\n",
       "          [0., 0.],\n",
       "          [0., 0.],\n",
       "          [0., 0.]],\n",
       "\n",
       "         [[0., 0.],\n",
       "          [0., 0.],\n",
       "          [0., 0.],\n",
       "          [0., 0.],\n",
       "          [0., 0.]],\n",
       "\n",
       "         [[0., 0.],\n",
       "          [0., 0.],\n",
       "          [0., 0.],\n",
       "          [0., 0.],\n",
       "          [0., 0.]]],\n",
       "\n",
       "\n",
       "        [[[0., 0.],\n",
       "          [0., 0.],\n",
       "          [0., 0.],\n",
       "          [0., 0.],\n",
       "          [0., 0.]],\n",
       "\n",
       "         [[0., 0.],\n",
       "          [0., 0.],\n",
       "          [0., 0.],\n",
       "          [0., 0.],\n",
       "          [0., 0.]],\n",
       "\n",
       "         [[0., 0.],\n",
       "          [0., 0.],\n",
       "          [0., 0.],\n",
       "          [0., 0.],\n",
       "          [0., 0.]],\n",
       "\n",
       "         [[0., 0.],\n",
       "          [0., 0.],\n",
       "          [0., 0.],\n",
       "          [0., 0.],\n",
       "          [0., 0.]]]])"
      ]
     },
     "execution_count": 7,
     "metadata": {},
     "output_type": "execute_result"
    }
   ],
   "source": [
    "a.view(2,4,5,2)"
   ]
  },
  {
   "cell_type": "code",
   "execution_count": null,
   "id": "80208a22-457c-40e8-a690-81d163149a3a",
   "metadata": {},
   "outputs": [],
   "source": []
  }
 ],
 "metadata": {
  "kernelspec": {
   "display_name": "Python 3 (ipykernel)",
   "language": "python",
   "name": "python3"
  },
  "language_info": {
   "codemirror_mode": {
    "name": "ipython",
    "version": 3
   },
   "file_extension": ".py",
   "mimetype": "text/x-python",
   "name": "python",
   "nbconvert_exporter": "python",
   "pygments_lexer": "ipython3",
   "version": "3.8.12"
  }
 },
 "nbformat": 4,
 "nbformat_minor": 5
}
