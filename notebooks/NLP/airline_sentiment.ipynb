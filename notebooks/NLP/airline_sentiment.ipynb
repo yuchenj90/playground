{
 "cells": [
  {
   "cell_type": "code",
   "execution_count": 1,
   "id": "5bdd6766-8e4f-4e68-b798-6a8c090e4583",
   "metadata": {
    "tags": []
   },
   "outputs": [],
   "source": [
    "import torch\n",
    "import torch.nn as nn\n",
    "import pandas as pd\n",
    "from nltk import TweetTokenizer"
   ]
  },
  {
   "cell_type": "code",
   "execution_count": 2,
   "id": "41e56e58-75f7-42ff-baeb-2d3bf488c000",
   "metadata": {
    "tags": []
   },
   "outputs": [],
   "source": [
    "df = pd.read_csv('../../data/Airline_sentiment_raw.csv')"
   ]
  },
  {
   "cell_type": "code",
   "execution_count": 3,
   "id": "c16a988d-b290-405f-9ff2-458ee2789852",
   "metadata": {
    "tags": []
   },
   "outputs": [],
   "source": [
    "from sklearn.preprocessing import LabelEncoder\n",
    "from sklearn.model_selection import train_test_split"
   ]
  },
  {
   "cell_type": "code",
   "execution_count": 4,
   "id": "ebd9a443-c079-4881-ab9f-ad4d157c3e76",
   "metadata": {
    "tags": []
   },
   "outputs": [],
   "source": [
    "df_train, df_test = train_test_split(df, test_size = 0.2, random_state= 12)"
   ]
  },
  {
   "cell_type": "code",
   "execution_count": 5,
   "id": "f3ab568f-16de-47ee-8a50-6782018a6908",
   "metadata": {
    "tags": []
   },
   "outputs": [],
   "source": [
    "e = LabelEncoder()\n",
    "y_train = e.fit_transform(df_train['airline_sentiment'])\n",
    "y_test = e.transform(df_test['airline_sentiment'])"
   ]
  },
  {
   "cell_type": "code",
   "execution_count": 6,
   "id": "6217bd58-5bfa-48fd-ae43-36794d3f3fc5",
   "metadata": {
    "tags": []
   },
   "outputs": [
    {
     "data": {
      "text/plain": [
       "array(['negative', 'neutral', 'positive'], dtype=object)"
      ]
     },
     "execution_count": 6,
     "metadata": {},
     "output_type": "execute_result"
    }
   ],
   "source": [
    "e.classes_"
   ]
  },
  {
   "cell_type": "code",
   "execution_count": 7,
   "id": "5213acff-f165-4a69-af67-39315046a924",
   "metadata": {
    "tags": []
   },
   "outputs": [
    {
     "name": "stdout",
     "output_type": "stream",
     "text": [
      "Counter({0: 7302, 1: 2530, 2: 1880})\n",
      "Counter({0: 1876, 1: 569, 2: 483})\n"
     ]
    }
   ],
   "source": [
    "from collections import Counter\n",
    "print(Counter(y_train))\n",
    "print(Counter(y_test))"
   ]
  },
  {
   "cell_type": "code",
   "execution_count": 8,
   "id": "d159b76f-25d3-430b-8757-93cbe81e5400",
   "metadata": {
    "tags": []
   },
   "outputs": [],
   "source": [
    "tweettk = TweetTokenizer()\n",
    "df_train['tokenized_text'] = df_train.apply(lambda x: tweettk.tokenize(x['text']), axis = 1)\n",
    "df_test['tokenized_text'] = df_test.apply(lambda x: tweettk.tokenize(x['text']), axis = 1)\n",
    "def identity_tokenizer(text):\n",
    "    return text"
   ]
  },
  {
   "cell_type": "code",
   "execution_count": 11,
   "id": "fa8d79f0-56f9-4247-9bdb-e6aeeb1de723",
   "metadata": {
    "tags": []
   },
   "outputs": [
    {
     "name": "stderr",
     "output_type": "stream",
     "text": [
      "/Users/yuchen.jiang2/personal/repos/playground/env/lib/python3.8/site-packages/sklearn/feature_extraction/text.py:525: UserWarning: The parameter 'token_pattern' will not be used since 'tokenizer' is not None'\n",
      "  warnings.warn(\n"
     ]
    }
   ],
   "source": [
    "from sklearn.feature_extraction.text import TfidfVectorizer\n",
    "vectorizer = TfidfVectorizer(ngram_range=(1,3), tokenizer=identity_tokenizer, lowercase=False)\n",
    "corpus = list(df_train['tokenized_text'])\n",
    "X_train = vectorizer.fit_transform(corpus)\n",
    "X_test = vectorizer.transform(list(df_test['tokenized_text']))"
   ]
  },
  {
   "cell_type": "code",
   "execution_count": 12,
   "id": "d9cba04a-caf4-4aec-b343-21b613dfb62a",
   "metadata": {},
   "outputs": [
    {
     "name": "stdout",
     "output_type": "stream",
     "text": [
      "283906\n"
     ]
    }
   ],
   "source": [
    "vectorizer.get_feature_names_out()\n",
    "print(len(vectorizer.get_feature_names_out()))"
   ]
  },
  {
   "cell_type": "code",
   "execution_count": 13,
   "id": "a57bb331-8c00-41af-9375-c9f55e96aee2",
   "metadata": {
    "tags": []
   },
   "outputs": [
    {
     "data": {
      "text/plain": [
       "array(['!', ',', \", I've\", \", I've tried\", '-', '- help', '- help !', '.',\n",
       "       \". I'm\", \". I'm having\", '30', '30 EST', '30 EST .', '8',\n",
       "       '8 times', '8 times today', '8:', '8: 30', '8: 30 EST',\n",
       "       '@AmericanAir', '@AmericanAir ,', \"@AmericanAir , I've\", 'EST',\n",
       "       'EST .', \"EST . I'm\", \"I'm\", \"I'm having\", \"I'm having no\", \"I've\",\n",
       "       \"I've tried\", \"I've tried no\", 'at', 'at 8:', 'at 8: 30',\n",
       "       'beginning', 'beginning at', 'beginning at 8:', 'desk',\n",
       "       'desk beginning', 'desk beginning at', 'get', 'get in',\n",
       "       'get in touch', 'having', 'having no', 'having no luck', 'help',\n",
       "       'help !', 'in', 'in touch', 'in touch with', 'less', 'less than',\n",
       "       'less than 8', 'luck', 'luck -', 'luck - help', 'no', 'no less',\n",
       "       'no less than', 'no luck', 'no luck -', 'service', 'service desk',\n",
       "       'service desk beginning', 'than', 'than 8', 'than 8 times',\n",
       "       'times', 'times today', 'times today to', 'to', 'to get',\n",
       "       'to get in', 'today', 'today to', 'today to get', 'touch',\n",
       "       'touch with', 'touch with your', 'tried', 'tried no',\n",
       "       'tried no less', 'with', 'with your', 'with your service', 'your',\n",
       "       'your service', 'your service desk'], dtype=object)"
      ]
     },
     "execution_count": 13,
     "metadata": {},
     "output_type": "execute_result"
    }
   ],
   "source": [
    "import numpy as np\n",
    "idx = np.argwhere(X_train.toarray()[3]>0)[:,0]\n",
    "vectorizer.get_feature_names_out()[idx]"
   ]
  },
  {
   "cell_type": "markdown",
   "id": "bd27d468-af0b-43af-938c-1ce34d49e2e2",
   "metadata": {
    "tags": []
   },
   "source": [
    "# Model selection"
   ]
  },
  {
   "cell_type": "code",
   "execution_count": 14,
   "id": "6d9aa616-2ed1-4ca8-be6c-4cd3ee1b927a",
   "metadata": {
    "tags": []
   },
   "outputs": [],
   "source": [
    "from sklearn.linear_model import LogisticRegression"
   ]
  },
  {
   "cell_type": "code",
   "execution_count": 15,
   "id": "e455b9f6-5a21-4835-8068-d5bcdbff5f83",
   "metadata": {
    "tags": []
   },
   "outputs": [
    {
     "name": "stderr",
     "output_type": "stream",
     "text": [
      "/Users/yuchen.jiang2/personal/repos/playground/env/lib/python3.8/site-packages/sklearn/linear_model/_logistic.py:460: ConvergenceWarning: lbfgs failed to converge (status=1):\n",
      "STOP: TOTAL NO. of ITERATIONS REACHED LIMIT.\n",
      "\n",
      "Increase the number of iterations (max_iter) or scale the data as shown in:\n",
      "    https://scikit-learn.org/stable/modules/preprocessing.html\n",
      "Please also refer to the documentation for alternative solver options:\n",
      "    https://scikit-learn.org/stable/modules/linear_model.html#logistic-regression\n",
      "  n_iter_i = _check_optimize_result(\n"
     ]
    },
    {
     "data": {
      "text/html": [
       "<style>#sk-container-id-1 {color: black;}#sk-container-id-1 pre{padding: 0;}#sk-container-id-1 div.sk-toggleable {background-color: white;}#sk-container-id-1 label.sk-toggleable__label {cursor: pointer;display: block;width: 100%;margin-bottom: 0;padding: 0.3em;box-sizing: border-box;text-align: center;}#sk-container-id-1 label.sk-toggleable__label-arrow:before {content: \"▸\";float: left;margin-right: 0.25em;color: #696969;}#sk-container-id-1 label.sk-toggleable__label-arrow:hover:before {color: black;}#sk-container-id-1 div.sk-estimator:hover label.sk-toggleable__label-arrow:before {color: black;}#sk-container-id-1 div.sk-toggleable__content {max-height: 0;max-width: 0;overflow: hidden;text-align: left;background-color: #f0f8ff;}#sk-container-id-1 div.sk-toggleable__content pre {margin: 0.2em;color: black;border-radius: 0.25em;background-color: #f0f8ff;}#sk-container-id-1 input.sk-toggleable__control:checked~div.sk-toggleable__content {max-height: 200px;max-width: 100%;overflow: auto;}#sk-container-id-1 input.sk-toggleable__control:checked~label.sk-toggleable__label-arrow:before {content: \"▾\";}#sk-container-id-1 div.sk-estimator input.sk-toggleable__control:checked~label.sk-toggleable__label {background-color: #d4ebff;}#sk-container-id-1 div.sk-label input.sk-toggleable__control:checked~label.sk-toggleable__label {background-color: #d4ebff;}#sk-container-id-1 input.sk-hidden--visually {border: 0;clip: rect(1px 1px 1px 1px);clip: rect(1px, 1px, 1px, 1px);height: 1px;margin: -1px;overflow: hidden;padding: 0;position: absolute;width: 1px;}#sk-container-id-1 div.sk-estimator {font-family: monospace;background-color: #f0f8ff;border: 1px dotted black;border-radius: 0.25em;box-sizing: border-box;margin-bottom: 0.5em;}#sk-container-id-1 div.sk-estimator:hover {background-color: #d4ebff;}#sk-container-id-1 div.sk-parallel-item::after {content: \"\";width: 100%;border-bottom: 1px solid gray;flex-grow: 1;}#sk-container-id-1 div.sk-label:hover label.sk-toggleable__label {background-color: #d4ebff;}#sk-container-id-1 div.sk-serial::before {content: \"\";position: absolute;border-left: 1px solid gray;box-sizing: border-box;top: 0;bottom: 0;left: 50%;z-index: 0;}#sk-container-id-1 div.sk-serial {display: flex;flex-direction: column;align-items: center;background-color: white;padding-right: 0.2em;padding-left: 0.2em;position: relative;}#sk-container-id-1 div.sk-item {position: relative;z-index: 1;}#sk-container-id-1 div.sk-parallel {display: flex;align-items: stretch;justify-content: center;background-color: white;position: relative;}#sk-container-id-1 div.sk-item::before, #sk-container-id-1 div.sk-parallel-item::before {content: \"\";position: absolute;border-left: 1px solid gray;box-sizing: border-box;top: 0;bottom: 0;left: 50%;z-index: -1;}#sk-container-id-1 div.sk-parallel-item {display: flex;flex-direction: column;z-index: 1;position: relative;background-color: white;}#sk-container-id-1 div.sk-parallel-item:first-child::after {align-self: flex-end;width: 50%;}#sk-container-id-1 div.sk-parallel-item:last-child::after {align-self: flex-start;width: 50%;}#sk-container-id-1 div.sk-parallel-item:only-child::after {width: 0;}#sk-container-id-1 div.sk-dashed-wrapped {border: 1px dashed gray;margin: 0 0.4em 0.5em 0.4em;box-sizing: border-box;padding-bottom: 0.4em;background-color: white;}#sk-container-id-1 div.sk-label label {font-family: monospace;font-weight: bold;display: inline-block;line-height: 1.2em;}#sk-container-id-1 div.sk-label-container {text-align: center;}#sk-container-id-1 div.sk-container {/* jupyter's `normalize.less` sets `[hidden] { display: none; }` but bootstrap.min.css set `[hidden] { display: none !important; }` so we also need the `!important` here to be able to override the default hidden behavior on the sphinx rendered scikit-learn.org. See: https://github.com/scikit-learn/scikit-learn/issues/21755 */display: inline-block !important;position: relative;}#sk-container-id-1 div.sk-text-repr-fallback {display: none;}</style><div id=\"sk-container-id-1\" class=\"sk-top-container\"><div class=\"sk-text-repr-fallback\"><pre>LogisticRegression()</pre><b>In a Jupyter environment, please rerun this cell to show the HTML representation or trust the notebook. <br />On GitHub, the HTML representation is unable to render, please try loading this page with nbviewer.org.</b></div><div class=\"sk-container\" hidden><div class=\"sk-item\"><div class=\"sk-estimator sk-toggleable\"><input class=\"sk-toggleable__control sk-hidden--visually\" id=\"sk-estimator-id-1\" type=\"checkbox\" checked><label for=\"sk-estimator-id-1\" class=\"sk-toggleable__label sk-toggleable__label-arrow\">LogisticRegression</label><div class=\"sk-toggleable__content\"><pre>LogisticRegression()</pre></div></div></div></div></div>"
      ],
      "text/plain": [
       "LogisticRegression()"
      ]
     },
     "execution_count": 15,
     "metadata": {},
     "output_type": "execute_result"
    }
   ],
   "source": [
    "lr = LogisticRegression()\n",
    "lr.fit(X_train, y_train)"
   ]
  },
  {
   "cell_type": "code",
   "execution_count": 16,
   "id": "b6b9f4e2-e973-4218-bf57-d2b796a4175a",
   "metadata": {
    "tags": []
   },
   "outputs": [
    {
     "data": {
      "text/plain": [
       "0.9090676229508197"
      ]
     },
     "execution_count": 16,
     "metadata": {},
     "output_type": "execute_result"
    }
   ],
   "source": [
    "(lr.predict(X_train)==y_train).mean()"
   ]
  },
  {
   "cell_type": "code",
   "execution_count": 17,
   "id": "fc2ce56b-67e5-42dc-9cca-0a6d3cdc3b4d",
   "metadata": {
    "tags": []
   },
   "outputs": [
    {
     "data": {
      "text/plain": [
       "0.7824453551912568"
      ]
     },
     "execution_count": 17,
     "metadata": {},
     "output_type": "execute_result"
    }
   ],
   "source": [
    "(lr.predict(X_test)==y_test).mean()"
   ]
  },
  {
   "cell_type": "code",
   "execution_count": 18,
   "id": "392466ad-bd03-413a-92f0-23926ce550c2",
   "metadata": {
    "tags": []
   },
   "outputs": [],
   "source": [
    "idx = np.argpartition(-abs(lr.coef_), kth=3, axis=1)[:,:3]"
   ]
  },
  {
   "cell_type": "code",
   "execution_count": 19,
   "id": "f720632d-3e2c-4f6d-b0ee-0153fc3c17d2",
   "metadata": {
    "tags": []
   },
   "outputs": [
    {
     "data": {
      "text/plain": [
       "array([-3.09653321,  0.59631965, -3.25031483])"
      ]
     },
     "execution_count": 19,
     "metadata": {},
     "output_type": "execute_result"
    }
   ],
   "source": [
    "lr.coef_[0,idx[2]]"
   ]
  },
  {
   "cell_type": "code",
   "execution_count": 20,
   "id": "a982df7c-473b-4e4c-b3ce-864ec4a2be8f",
   "metadata": {
    "tags": []
   },
   "outputs": [
    {
     "data": {
      "text/plain": [
       "array(['thanks', '?', '!'], dtype=object)"
      ]
     },
     "execution_count": 20,
     "metadata": {},
     "output_type": "execute_result"
    }
   ],
   "source": [
    "vectorizer.get_feature_names_out()[idx[2]]"
   ]
  },
  {
   "cell_type": "code",
   "execution_count": null,
   "id": "12e1dd6e-15e4-408e-8c46-c85352645178",
   "metadata": {},
   "outputs": [],
   "source": []
  },
  {
   "cell_type": "markdown",
   "id": "62ab8b24-523e-4b2c-bf8c-16bb9bf9f4a2",
   "metadata": {
    "tags": []
   },
   "source": [
    "## Eval"
   ]
  },
  {
   "cell_type": "code",
   "execution_count": 21,
   "id": "d6dd4d6c-2559-423f-b98c-9f98af147c5e",
   "metadata": {
    "tags": []
   },
   "outputs": [],
   "source": [
    "from sklearn.metrics import confusion_matrix"
   ]
  },
  {
   "cell_type": "code",
   "execution_count": 22,
   "id": "506c5199-9dde-4a88-a369-f896d53fe956",
   "metadata": {
    "tags": []
   },
   "outputs": [],
   "source": [
    "y_test_pred = lr.predict(X_test)"
   ]
  },
  {
   "cell_type": "code",
   "execution_count": 23,
   "id": "a2940860-8f8e-443d-a6ca-54c6644dda88",
   "metadata": {
    "tags": []
   },
   "outputs": [
    {
     "data": {
      "text/plain": [
       "array([[0.97121535, 0.01492537, 0.01385928],\n",
       "       [0.5483304 , 0.37258348, 0.07908612],\n",
       "       [0.41407867, 0.05383023, 0.5320911 ]])"
      ]
     },
     "execution_count": 23,
     "metadata": {},
     "output_type": "execute_result"
    }
   ],
   "source": [
    "confusion_matrix(y_test, y_test_pred, normalize='true')"
   ]
  },
  {
   "cell_type": "code",
   "execution_count": 24,
   "id": "5b652ece-9764-4c2e-8669-b88f0416ef9b",
   "metadata": {
    "tags": []
   },
   "outputs": [
    {
     "data": {
      "text/plain": [
       "array(['negative', 'neutral', 'positive'], dtype=object)"
      ]
     },
     "execution_count": 24,
     "metadata": {},
     "output_type": "execute_result"
    }
   ],
   "source": [
    "e.classes_"
   ]
  },
  {
   "cell_type": "code",
   "execution_count": 25,
   "id": "6dc678c2-bd1f-40f7-917a-14d621f779a0",
   "metadata": {
    "tags": []
   },
   "outputs": [
    {
     "data": {
      "text/plain": [
       "array([[0.79007142, 0.10443285, 0.10549574],\n",
       "       [0.11739281, 0.03074196, 0.85186523],\n",
       "       [0.89220935, 0.08586487, 0.02192578],\n",
       "       ...,\n",
       "       [0.2213164 , 0.07865532, 0.70002828],\n",
       "       [0.75733589, 0.2098197 , 0.0328444 ],\n",
       "       [0.80535415, 0.15707137, 0.03757448]])"
      ]
     },
     "execution_count": 25,
     "metadata": {},
     "output_type": "execute_result"
    }
   ],
   "source": [
    "lr.predict_proba(X_test)"
   ]
  },
  {
   "cell_type": "code",
   "execution_count": null,
   "id": "0a58158d-0e61-446e-988a-bcffa5385965",
   "metadata": {},
   "outputs": [],
   "source": []
  },
  {
   "cell_type": "code",
   "execution_count": null,
   "id": "409ca193-c7ea-40de-874d-7a735a24a82c",
   "metadata": {},
   "outputs": [],
   "source": []
  },
  {
   "cell_type": "markdown",
   "id": "32fde058-486e-42c0-b330-82f3e9ecd887",
   "metadata": {},
   "source": [
    "* Classified too many neutral/positive to negative"
   ]
  },
  {
   "cell_type": "markdown",
   "id": "b5345c45-6796-4df5-a34f-5fea2f3975b4",
   "metadata": {
    "tags": []
   },
   "source": [
    "# Modeling with negative prediction only"
   ]
  },
  {
   "cell_type": "code",
   "execution_count": 26,
   "id": "09a332c1-2869-4b07-9a76-dcb14b1b4249",
   "metadata": {
    "tags": []
   },
   "outputs": [],
   "source": [
    "y_neg_train = (y_train>=1)\n",
    "y_neg_test = (y_test>=1)"
   ]
  },
  {
   "cell_type": "code",
   "execution_count": 27,
   "id": "cc9ef3bc-7392-4282-b09a-da801ee3adfe",
   "metadata": {
    "tags": []
   },
   "outputs": [],
   "source": [
    "lr_neg = LogisticRegression()"
   ]
  },
  {
   "cell_type": "code",
   "execution_count": 28,
   "id": "11ace9d3-7b2e-498e-81be-6e96c9778bf4",
   "metadata": {
    "tags": []
   },
   "outputs": [
    {
     "data": {
      "text/html": [
       "<style>#sk-container-id-2 {color: black;}#sk-container-id-2 pre{padding: 0;}#sk-container-id-2 div.sk-toggleable {background-color: white;}#sk-container-id-2 label.sk-toggleable__label {cursor: pointer;display: block;width: 100%;margin-bottom: 0;padding: 0.3em;box-sizing: border-box;text-align: center;}#sk-container-id-2 label.sk-toggleable__label-arrow:before {content: \"▸\";float: left;margin-right: 0.25em;color: #696969;}#sk-container-id-2 label.sk-toggleable__label-arrow:hover:before {color: black;}#sk-container-id-2 div.sk-estimator:hover label.sk-toggleable__label-arrow:before {color: black;}#sk-container-id-2 div.sk-toggleable__content {max-height: 0;max-width: 0;overflow: hidden;text-align: left;background-color: #f0f8ff;}#sk-container-id-2 div.sk-toggleable__content pre {margin: 0.2em;color: black;border-radius: 0.25em;background-color: #f0f8ff;}#sk-container-id-2 input.sk-toggleable__control:checked~div.sk-toggleable__content {max-height: 200px;max-width: 100%;overflow: auto;}#sk-container-id-2 input.sk-toggleable__control:checked~label.sk-toggleable__label-arrow:before {content: \"▾\";}#sk-container-id-2 div.sk-estimator input.sk-toggleable__control:checked~label.sk-toggleable__label {background-color: #d4ebff;}#sk-container-id-2 div.sk-label input.sk-toggleable__control:checked~label.sk-toggleable__label {background-color: #d4ebff;}#sk-container-id-2 input.sk-hidden--visually {border: 0;clip: rect(1px 1px 1px 1px);clip: rect(1px, 1px, 1px, 1px);height: 1px;margin: -1px;overflow: hidden;padding: 0;position: absolute;width: 1px;}#sk-container-id-2 div.sk-estimator {font-family: monospace;background-color: #f0f8ff;border: 1px dotted black;border-radius: 0.25em;box-sizing: border-box;margin-bottom: 0.5em;}#sk-container-id-2 div.sk-estimator:hover {background-color: #d4ebff;}#sk-container-id-2 div.sk-parallel-item::after {content: \"\";width: 100%;border-bottom: 1px solid gray;flex-grow: 1;}#sk-container-id-2 div.sk-label:hover label.sk-toggleable__label {background-color: #d4ebff;}#sk-container-id-2 div.sk-serial::before {content: \"\";position: absolute;border-left: 1px solid gray;box-sizing: border-box;top: 0;bottom: 0;left: 50%;z-index: 0;}#sk-container-id-2 div.sk-serial {display: flex;flex-direction: column;align-items: center;background-color: white;padding-right: 0.2em;padding-left: 0.2em;position: relative;}#sk-container-id-2 div.sk-item {position: relative;z-index: 1;}#sk-container-id-2 div.sk-parallel {display: flex;align-items: stretch;justify-content: center;background-color: white;position: relative;}#sk-container-id-2 div.sk-item::before, #sk-container-id-2 div.sk-parallel-item::before {content: \"\";position: absolute;border-left: 1px solid gray;box-sizing: border-box;top: 0;bottom: 0;left: 50%;z-index: -1;}#sk-container-id-2 div.sk-parallel-item {display: flex;flex-direction: column;z-index: 1;position: relative;background-color: white;}#sk-container-id-2 div.sk-parallel-item:first-child::after {align-self: flex-end;width: 50%;}#sk-container-id-2 div.sk-parallel-item:last-child::after {align-self: flex-start;width: 50%;}#sk-container-id-2 div.sk-parallel-item:only-child::after {width: 0;}#sk-container-id-2 div.sk-dashed-wrapped {border: 1px dashed gray;margin: 0 0.4em 0.5em 0.4em;box-sizing: border-box;padding-bottom: 0.4em;background-color: white;}#sk-container-id-2 div.sk-label label {font-family: monospace;font-weight: bold;display: inline-block;line-height: 1.2em;}#sk-container-id-2 div.sk-label-container {text-align: center;}#sk-container-id-2 div.sk-container {/* jupyter's `normalize.less` sets `[hidden] { display: none; }` but bootstrap.min.css set `[hidden] { display: none !important; }` so we also need the `!important` here to be able to override the default hidden behavior on the sphinx rendered scikit-learn.org. See: https://github.com/scikit-learn/scikit-learn/issues/21755 */display: inline-block !important;position: relative;}#sk-container-id-2 div.sk-text-repr-fallback {display: none;}</style><div id=\"sk-container-id-2\" class=\"sk-top-container\"><div class=\"sk-text-repr-fallback\"><pre>LogisticRegression()</pre><b>In a Jupyter environment, please rerun this cell to show the HTML representation or trust the notebook. <br />On GitHub, the HTML representation is unable to render, please try loading this page with nbviewer.org.</b></div><div class=\"sk-container\" hidden><div class=\"sk-item\"><div class=\"sk-estimator sk-toggleable\"><input class=\"sk-toggleable__control sk-hidden--visually\" id=\"sk-estimator-id-2\" type=\"checkbox\" checked><label for=\"sk-estimator-id-2\" class=\"sk-toggleable__label sk-toggleable__label-arrow\">LogisticRegression</label><div class=\"sk-toggleable__content\"><pre>LogisticRegression()</pre></div></div></div></div></div>"
      ],
      "text/plain": [
       "LogisticRegression()"
      ]
     },
     "execution_count": 28,
     "metadata": {},
     "output_type": "execute_result"
    }
   ],
   "source": [
    "lr_neg.fit(X_train, y_neg_train)"
   ]
  },
  {
   "cell_type": "code",
   "execution_count": 29,
   "id": "ba7aa944-0908-492d-880b-cbf6deca4576",
   "metadata": {
    "tags": []
   },
   "outputs": [],
   "source": [
    "y_neg_test_pred = lr_neg.predict(X_test)"
   ]
  },
  {
   "cell_type": "code",
   "execution_count": 30,
   "id": "ab62e692-5056-4c76-ad36-7f436f932284",
   "metadata": {
    "tags": []
   },
   "outputs": [
    {
     "data": {
      "text/plain": [
       "array([[0.96375267, 0.03624733],\n",
       "       [0.43060837, 0.56939163]])"
      ]
     },
     "execution_count": 30,
     "metadata": {},
     "output_type": "execute_result"
    }
   ],
   "source": [
    "confusion_matrix(y_neg_test, y_neg_test_pred, normalize='true')"
   ]
  },
  {
   "cell_type": "code",
   "execution_count": 31,
   "id": "1d310a62-8ad5-4ec4-ae14-6a40953296be",
   "metadata": {
    "tags": []
   },
   "outputs": [],
   "source": [
    "y_neg_test_prob = lr_neg.predict_proba(X_test)"
   ]
  },
  {
   "cell_type": "code",
   "execution_count": 32,
   "id": "4ed84131-18ed-4c8d-a475-bb9c24944b1f",
   "metadata": {
    "tags": []
   },
   "outputs": [],
   "source": [
    "from sklearn.metrics import roc_curve, roc_auc_score"
   ]
  },
  {
   "cell_type": "code",
   "execution_count": 33,
   "id": "03d2bc47-840c-4017-9c24-48e4fde63f25",
   "metadata": {
    "tags": []
   },
   "outputs": [
    {
     "data": {
      "text/plain": [
       "0.9066300254566386"
      ]
     },
     "execution_count": 33,
     "metadata": {},
     "output_type": "execute_result"
    }
   ],
   "source": [
    "fpr, tpr, thd = roc_curve(y_neg_test, y_neg_test_prob[:,1])\n",
    "roc_auc_score(y_neg_test, y_neg_test_prob[:,1])"
   ]
  },
  {
   "cell_type": "code",
   "execution_count": 34,
   "id": "8348e6bf-1cfc-44e2-ad58-8d81671fa854",
   "metadata": {
    "tags": []
   },
   "outputs": [
    {
     "data": {
      "text/plain": [
       "[<matplotlib.lines.Line2D at 0x2c7256220>]"
      ]
     },
     "execution_count": 34,
     "metadata": {},
     "output_type": "execute_result"
    },
    {
     "data": {
      "image/png": "[encoded data removed]",
      "text/plain": [
       "<Figure size 640x480 with 1 Axes>"
      ]
     },
     "metadata": {},
     "output_type": "display_data"
    }
   ],
   "source": [
    "from matplotlib import pyplot as plt\n",
    "plt.plot(fpr, tpr)"
   ]
  },
  {
   "cell_type": "code",
   "execution_count": 35,
   "id": "9c108ca1-0f92-4f9a-bbfb-6c6dce8d2386",
   "metadata": {
    "tags": []
   },
   "outputs": [
    {
     "data": {
      "text/plain": [
       "0.9875730936947043"
      ]
     },
     "execution_count": 35,
     "metadata": {},
     "output_type": "execute_result"
    }
   ],
   "source": [
    "y_neg_train_prob = lr_neg.predict_proba(X_train)\n",
    "fpr, tpr, thd = roc_curve(y_neg_train, y_neg_train_prob[:,1])\n",
    "roc_auc_score(y_neg_train, y_neg_train_prob[:,1])"
   ]
  },
  {
   "cell_type": "code",
   "execution_count": 36,
   "id": "513b76be-4c59-4710-9dc5-a3541a449a0a",
   "metadata": {
    "tags": []
   },
   "outputs": [
    {
     "data": {
      "text/plain": [
       "array([False,  True, False, ...,  True, False, False])"
      ]
     },
     "execution_count": 36,
     "metadata": {},
     "output_type": "execute_result"
    }
   ],
   "source": [
    "y_neg_test_pred"
   ]
  },
  {
   "cell_type": "code",
   "execution_count": 45,
   "id": "95f9a148-4e8a-4fb6-847e-3db1b74797f1",
   "metadata": {
    "tags": []
   },
   "outputs": [
    {
     "data": {
      "text/plain": [
       "(array([549., 705., 448., 330., 243., 195., 142., 148.,  97.,  71.]),\n",
       " array([0.01290418, 0.11153156, 0.21015895, 0.30878633, 0.40741372,\n",
       "        0.50604111, 0.60466849, 0.70329588, 0.80192326, 0.90055065,\n",
       "        0.99917804]),\n",
       " <BarContainer object of 10 artists>)"
      ]
     },
     "execution_count": 45,
     "metadata": {},
     "output_type": "execute_result"
    },
    {
     "data": {
      "image/png": "[encoded data removed]",
      "text/plain": [
       "<Figure size 640x480 with 1 Axes>"
      ]
     },
     "metadata": {},
     "output_type": "display_data"
    }
   ],
   "source": [
    "plt.hist(y_neg_test_prob[:,1])"
   ]
  },
  {
   "cell_type": "code",
   "execution_count": 53,
   "id": "53a27d29-f087-46a5-9e3f-0427d7b1c73f",
   "metadata": {
    "tags": []
   },
   "outputs": [],
   "source": [
    "pcts = np.percentile(y_neg_test_prob[:,1], [10*i for i in range(11)])"
   ]
  },
  {
   "cell_type": "code",
   "execution_count": 57,
   "id": "8eb8e3a9-82a9-40b5-86b5-017178d58e92",
   "metadata": {
    "tags": []
   },
   "outputs": [
    {
     "data": {
      "text/plain": [
       "array([0.01290418, 0.07978389, 0.11576955, 0.15196885, 0.19568545,\n",
       "       0.25060885, 0.32498184, 0.41376041, 0.53608439, 0.71536293,\n",
       "       0.99917804])"
      ]
     },
     "execution_count": 57,
     "metadata": {},
     "output_type": "execute_result"
    }
   ],
   "source": [
    "pcts"
   ]
  },
  {
   "cell_type": "code",
   "execution_count": 70,
   "id": "d420e8bc-9e95-439d-9a46-9ca18e664a5c",
   "metadata": {
    "tags": []
   },
   "outputs": [],
   "source": []
  },
  {
   "cell_type": "code",
   "execution_count": 75,
   "id": "85c3d31c-b202-4115-97a0-6ed439e21074",
   "metadata": {
    "tags": []
   },
   "outputs": [],
   "source": [
    "plot_x = []\n",
    "plot_y = []\n",
    "for i in range(10):\n",
    "    plot_x.append(y_neg_test_prob[(y_neg_test_prob[:,1]<pcts[i+1]) & (y_neg_test_prob[:,1]>=pcts[i]), 1].mean())\n",
    "    plot_y.append(y_neg_test[(y_neg_test_prob[:,1]<pcts[i+1]) & (y_neg_test_prob[:,1]>=pcts[i])].mean())"
   ]
  },
  {
   "cell_type": "code",
   "execution_count": 78,
   "id": "7ab80abd-36b2-408b-b359-95d67637eb8f",
   "metadata": {
    "tags": []
   },
   "outputs": [
    {
     "data": {
      "text/plain": [
       "[<matplotlib.lines.Line2D at 0x2c9028640>]"
      ]
     },
     "execution_count": 78,
     "metadata": {},
     "output_type": "execute_result"
    },
    {
     "data": {
      "image/png": "[encoded data removed]",
      "text/plain": [
       "<Figure size 640x480 with 1 Axes>"
      ]
     },
     "metadata": {},
     "output_type": "display_data"
    }
   ],
   "source": [
    "plt.plot(plot_x, plot_y)\n",
    "plt.plot([i/10.0 for i in range(11)], [i/10.0 for i in range(11)])"
   ]
  },
  {
   "cell_type": "code",
   "execution_count": null,
   "id": "12320f59-43c3-447b-a6dd-3d3acd1ca1bc",
   "metadata": {},
   "outputs": [],
   "source": []
  },
  {
   "cell_type": "code",
   "execution_count": 38,
   "id": "1205e7d5-e72f-4772-875f-11e15276aceb",
   "metadata": {
    "tags": []
   },
   "outputs": [
    {
     "data": {
      "text/plain": [
       "Counter({0: 1876, 2: 483, 1: 569})"
      ]
     },
     "execution_count": 38,
     "metadata": {},
     "output_type": "execute_result"
    }
   ],
   "source": [
    "Counter(y_test)"
   ]
  },
  {
   "cell_type": "code",
   "execution_count": null,
   "id": "d3a001cf-297f-4afe-a62a-e964d5ad1984",
   "metadata": {},
   "outputs": [],
   "source": []
  },
  {
   "cell_type": "code",
   "execution_count": null,
   "id": "efb11e98-eeef-4684-956a-23c161eb664f",
   "metadata": {},
   "outputs": [],
   "source": []
  },
  {
   "cell_type": "markdown",
   "id": "21e6c9be-ed79-46a5-9b8a-60dace6a1f6f",
   "metadata": {
    "jp-MarkdownHeadingCollapsed": true,
    "tags": []
   },
   "source": [
    "# XGBoost"
   ]
  },
  {
   "cell_type": "code",
   "execution_count": 38,
   "id": "d00a1f02-f845-4f72-b952-2f382a92410e",
   "metadata": {
    "tags": []
   },
   "outputs": [],
   "source": [
    "import xgboost as xgb"
   ]
  },
  {
   "cell_type": "code",
   "execution_count": 39,
   "id": "d5f13d46-2b48-4f3c-b016-dc5515f28bfc",
   "metadata": {
    "tags": []
   },
   "outputs": [],
   "source": [
    "params = {'n_estimators': 100,\n",
    "          'max_depth': 3,\n",
    "          'learning_rate': 0.1,\n",
    "          'objective': 'binary:logistic',\n",
    "          'booster': 'gbtree',\n",
    "          'n_jobs': 4,\n",
    "          'subsample': 1,\n",
    "          'colsample_bytree': 1,\n",
    "          'random_state': 0,\n",
    "          'reg_lambda': 1,\n",
    "          'eval_metric': ['auc', 'logloss']\n",
    "         }"
   ]
  },
  {
   "cell_type": "code",
   "execution_count": 40,
   "id": "e50affb4-fc73-494e-b9f6-5aff988857c1",
   "metadata": {
    "tags": []
   },
   "outputs": [],
   "source": [
    "xgb_clf = xgb.XGBClassifier(**params)"
   ]
  },
  {
   "cell_type": "code",
   "execution_count": 41,
   "id": "a23ce744-6bb4-4962-84cc-b732c991562e",
   "metadata": {
    "tags": []
   },
   "outputs": [
    {
     "data": {
      "text/html": [
       "<style>#sk-container-id-3 {color: black;}#sk-container-id-3 pre{padding: 0;}#sk-container-id-3 div.sk-toggleable {background-color: white;}#sk-container-id-3 label.sk-toggleable__label {cursor: pointer;display: block;width: 100%;margin-bottom: 0;padding: 0.3em;box-sizing: border-box;text-align: center;}#sk-container-id-3 label.sk-toggleable__label-arrow:before {content: \"▸\";float: left;margin-right: 0.25em;color: #696969;}#sk-container-id-3 label.sk-toggleable__label-arrow:hover:before {color: black;}#sk-container-id-3 div.sk-estimator:hover label.sk-toggleable__label-arrow:before {color: black;}#sk-container-id-3 div.sk-toggleable__content {max-height: 0;max-width: 0;overflow: hidden;text-align: left;background-color: #f0f8ff;}#sk-container-id-3 div.sk-toggleable__content pre {margin: 0.2em;color: black;border-radius: 0.25em;background-color: #f0f8ff;}#sk-container-id-3 input.sk-toggleable__control:checked~div.sk-toggleable__content {max-height: 200px;max-width: 100%;overflow: auto;}#sk-container-id-3 input.sk-toggleable__control:checked~label.sk-toggleable__label-arrow:before {content: \"▾\";}#sk-container-id-3 div.sk-estimator input.sk-toggleable__control:checked~label.sk-toggleable__label {background-color: #d4ebff;}#sk-container-id-3 div.sk-label input.sk-toggleable__control:checked~label.sk-toggleable__label {background-color: #d4ebff;}#sk-container-id-3 input.sk-hidden--visually {border: 0;clip: rect(1px 1px 1px 1px);clip: rect(1px, 1px, 1px, 1px);height: 1px;margin: -1px;overflow: hidden;padding: 0;position: absolute;width: 1px;}#sk-container-id-3 div.sk-estimator {font-family: monospace;background-color: #f0f8ff;border: 1px dotted black;border-radius: 0.25em;box-sizing: border-box;margin-bottom: 0.5em;}#sk-container-id-3 div.sk-estimator:hover {background-color: #d4ebff;}#sk-container-id-3 div.sk-parallel-item::after {content: \"\";width: 100%;border-bottom: 1px solid gray;flex-grow: 1;}#sk-container-id-3 div.sk-label:hover label.sk-toggleable__label {background-color: #d4ebff;}#sk-container-id-3 div.sk-serial::before {content: \"\";position: absolute;border-left: 1px solid gray;box-sizing: border-box;top: 0;bottom: 0;left: 50%;z-index: 0;}#sk-container-id-3 div.sk-serial {display: flex;flex-direction: column;align-items: center;background-color: white;padding-right: 0.2em;padding-left: 0.2em;position: relative;}#sk-container-id-3 div.sk-item {position: relative;z-index: 1;}#sk-container-id-3 div.sk-parallel {display: flex;align-items: stretch;justify-content: center;background-color: white;position: relative;}#sk-container-id-3 div.sk-item::before, #sk-container-id-3 div.sk-parallel-item::before {content: \"\";position: absolute;border-left: 1px solid gray;box-sizing: border-box;top: 0;bottom: 0;left: 50%;z-index: -1;}#sk-container-id-3 div.sk-parallel-item {display: flex;flex-direction: column;z-index: 1;position: relative;background-color: white;}#sk-container-id-3 div.sk-parallel-item:first-child::after {align-self: flex-end;width: 50%;}#sk-container-id-3 div.sk-parallel-item:last-child::after {align-self: flex-start;width: 50%;}#sk-container-id-3 div.sk-parallel-item:only-child::after {width: 0;}#sk-container-id-3 div.sk-dashed-wrapped {border: 1px dashed gray;margin: 0 0.4em 0.5em 0.4em;box-sizing: border-box;padding-bottom: 0.4em;background-color: white;}#sk-container-id-3 div.sk-label label {font-family: monospace;font-weight: bold;display: inline-block;line-height: 1.2em;}#sk-container-id-3 div.sk-label-container {text-align: center;}#sk-container-id-3 div.sk-container {/* jupyter's `normalize.less` sets `[hidden] { display: none; }` but bootstrap.min.css set `[hidden] { display: none !important; }` so we also need the `!important` here to be able to override the default hidden behavior on the sphinx rendered scikit-learn.org. See: https://github.com/scikit-learn/scikit-learn/issues/21755 */display: inline-block !important;position: relative;}#sk-container-id-3 div.sk-text-repr-fallback {display: none;}</style><div id=\"sk-container-id-3\" class=\"sk-top-container\"><div class=\"sk-text-repr-fallback\"><pre>XGBClassifier(base_score=None, booster=&#x27;gbtree&#x27;, callbacks=None,\n",
       "              colsample_bylevel=None, colsample_bynode=None, colsample_bytree=1,\n",
       "              device=None, early_stopping_rounds=None, enable_categorical=False,\n",
       "              eval_metric=[&#x27;auc&#x27;, &#x27;logloss&#x27;], feature_types=None, gamma=None,\n",
       "              grow_policy=None, importance_type=None,\n",
       "              interaction_constraints=None, learning_rate=0.1, max_bin=None,\n",
       "              max_cat_threshold=None, max_cat_to_onehot=None,\n",
       "              max_delta_step=None, max_depth=3, max_leaves=None,\n",
       "              min_child_weight=None, missing=nan, monotone_constraints=None,\n",
       "              multi_strategy=None, n_estimators=100, n_jobs=4,\n",
       "              num_parallel_tree=None, random_state=0, ...)</pre><b>In a Jupyter environment, please rerun this cell to show the HTML representation or trust the notebook. <br />On GitHub, the HTML representation is unable to render, please try loading this page with nbviewer.org.</b></div><div class=\"sk-container\" hidden><div class=\"sk-item\"><div class=\"sk-estimator sk-toggleable\"><input class=\"sk-toggleable__control sk-hidden--visually\" id=\"sk-estimator-id-3\" type=\"checkbox\" checked><label for=\"sk-estimator-id-3\" class=\"sk-toggleable__label sk-toggleable__label-arrow\">XGBClassifier</label><div class=\"sk-toggleable__content\"><pre>XGBClassifier(base_score=None, booster=&#x27;gbtree&#x27;, callbacks=None,\n",
       "              colsample_bylevel=None, colsample_bynode=None, colsample_bytree=1,\n",
       "              device=None, early_stopping_rounds=None, enable_categorical=False,\n",
       "              eval_metric=[&#x27;auc&#x27;, &#x27;logloss&#x27;], feature_types=None, gamma=None,\n",
       "              grow_policy=None, importance_type=None,\n",
       "              interaction_constraints=None, learning_rate=0.1, max_bin=None,\n",
       "              max_cat_threshold=None, max_cat_to_onehot=None,\n",
       "              max_delta_step=None, max_depth=3, max_leaves=None,\n",
       "              min_child_weight=None, missing=nan, monotone_constraints=None,\n",
       "              multi_strategy=None, n_estimators=100, n_jobs=4,\n",
       "              num_parallel_tree=None, random_state=0, ...)</pre></div></div></div></div></div>"
      ],
      "text/plain": [
       "XGBClassifier(base_score=None, booster='gbtree', callbacks=None,\n",
       "              colsample_bylevel=None, colsample_bynode=None, colsample_bytree=1,\n",
       "              device=None, early_stopping_rounds=None, enable_categorical=False,\n",
       "              eval_metric=['auc', 'logloss'], feature_types=None, gamma=None,\n",
       "              grow_policy=None, importance_type=None,\n",
       "              interaction_constraints=None, learning_rate=0.1, max_bin=None,\n",
       "              max_cat_threshold=None, max_cat_to_onehot=None,\n",
       "              max_delta_step=None, max_depth=3, max_leaves=None,\n",
       "              min_child_weight=None, missing=nan, monotone_constraints=None,\n",
       "              multi_strategy=None, n_estimators=100, n_jobs=4,\n",
       "              num_parallel_tree=None, random_state=0, ...)"
      ]
     },
     "execution_count": 41,
     "metadata": {},
     "output_type": "execute_result"
    }
   ],
   "source": [
    "xgb_clf.fit(X_train, y_neg_train)"
   ]
  },
  {
   "cell_type": "code",
   "execution_count": 42,
   "id": "e9a2858b-d7d5-4b4d-a415-1f3cc0767374",
   "metadata": {},
   "outputs": [
    {
     "data": {
      "text/plain": [
       "0.8027663934426229"
      ]
     },
     "execution_count": 42,
     "metadata": {},
     "output_type": "execute_result"
    }
   ],
   "source": [
    "(xgb_clf.predict(X_train)==y_neg_train).mean()"
   ]
  },
  {
   "cell_type": "code",
   "execution_count": 43,
   "id": "fc196da7-ba50-4c55-96dd-bef84a4bf7a3",
   "metadata": {
    "tags": []
   },
   "outputs": [
    {
     "data": {
      "text/plain": [
       "0.7786885245901639"
      ]
     },
     "execution_count": 43,
     "metadata": {},
     "output_type": "execute_result"
    }
   ],
   "source": [
    "(xgb_clf.predict(X_test)==y_neg_test).mean()"
   ]
  },
  {
   "cell_type": "code",
   "execution_count": null,
   "id": "0667c3b2-48ea-46da-8bf8-7fba750f401b",
   "metadata": {},
   "outputs": [],
   "source": []
  },
  {
   "cell_type": "code",
   "execution_count": 44,
   "id": "70d6bb02-dfc3-468b-af61-3751ec5dbce4",
   "metadata": {
    "tags": []
   },
   "outputs": [],
   "source": [
    "y_neg_test_prob = xgb_clf.predict_proba(X_test)[:,1]"
   ]
  },
  {
   "cell_type": "code",
   "execution_count": 45,
   "id": "cd2d9d90-6621-4235-9ff6-a112ae2f698c",
   "metadata": {
    "tags": []
   },
   "outputs": [
    {
     "data": {
      "text/plain": [
       "0.8535647907934526"
      ]
     },
     "execution_count": 45,
     "metadata": {},
     "output_type": "execute_result"
    }
   ],
   "source": [
    "fpr, tpr, thd = roc_curve(y_neg_test, y_neg_test_prob)\n",
    "roc_auc_score(y_neg_test, y_neg_test_prob)"
   ]
  },
  {
   "cell_type": "markdown",
   "id": "3252aaf1-bf4a-4bba-94fa-4d7e845c6d4b",
   "metadata": {
    "tags": []
   },
   "source": [
    "## model selection"
   ]
  },
  {
   "cell_type": "code",
   "execution_count": 46,
   "id": "ca9130fb-f858-4dfd-a50a-78ed3c50a073",
   "metadata": {
    "tags": []
   },
   "outputs": [],
   "source": [
    "from sklearn.model_selection import KFold, GridSearchCV"
   ]
  },
  {
   "cell_type": "code",
   "execution_count": 47,
   "id": "aaa26b20-4da9-48be-bfa7-7528bcb122aa",
   "metadata": {
    "tags": []
   },
   "outputs": [],
   "source": [
    "params = {'objective': 'binary:logistic',\n",
    "          'eval_metric':'logloss',\n",
    "          'booster': 'gbtree',\n",
    "          'subsample': 0.8,\n",
    "          'colsample_bytree': 0.8,\n",
    "          'random_state': 0,\n",
    "         }\n",
    "\n",
    "params_grid = {'n_estimators': [40, 80, 120, 160],\n",
    "               'max_depth': [3,4],\n",
    "               'learning_rate': [0.1, 0.5],\n",
    "               'reg_lambda': [1,5],\n",
    "              }"
   ]
  },
  {
   "cell_type": "code",
   "execution_count": 48,
   "id": "70b12123-004d-4a61-8c00-c3891eebebf1",
   "metadata": {
    "tags": []
   },
   "outputs": [],
   "source": [
    "clf = GridSearchCV(xgb_clf, params_grid, n_jobs=4, verbose=2, scoring=['roc_auc','accuracy','neg_log_loss'], refit='roc_auc')"
   ]
  },
  {
   "cell_type": "code",
   "execution_count": 49,
   "id": "c2c99198-a8c8-4004-be7e-ae728a968bca",
   "metadata": {
    "collapsed": true,
    "jupyter": {
     "outputs_hidden": true
    },
    "tags": []
   },
   "outputs": [
    {
     "name": "stdout",
     "output_type": "stream",
     "text": [
      "Fitting 5 folds for each of 32 candidates, totalling 160 fits\n",
      "[CV] END learning_rate=0.1, max_depth=3, n_estimators=40, reg_lambda=1; total time=   1.8s\n",
      "[CV] END learning_rate=0.1, max_depth=3, n_estimators=40, reg_lambda=5; total time=   2.0s\n",
      "[CV] END learning_rate=0.1, max_depth=3, n_estimators=80, reg_lambda=1; total time=   3.3s\n",
      "[CV] END learning_rate=0.1, max_depth=3, n_estimators=80, reg_lambda=1; total time=   3.8s\n",
      "[CV] END learning_rate=0.1, max_depth=3, n_estimators=80, reg_lambda=5; total time=   3.6s\n"
     ]
    },
    {
     "name": "stderr",
     "output_type": "stream",
     "text": [
      "/Users/yuchen.jiang2/personal/repos/playground/env/lib/python3.8/site-packages/joblib/externals/loky/process_executor.py:752: UserWarning: A worker stopped while some jobs were given to the executor. This can be caused by a too short worker timeout or by a memory leak.\n",
      "  warnings.warn(\n"
     ]
    },
    {
     "name": "stdout",
     "output_type": "stream",
     "text": [
      "[CV] END learning_rate=0.1, max_depth=3, n_estimators=40, reg_lambda=1; total time=   1.9s\n",
      "[CV] END learning_rate=0.1, max_depth=3, n_estimators=40, reg_lambda=5; total time=   1.7s\n",
      "[CV] END learning_rate=0.1, max_depth=3, n_estimators=40, reg_lambda=5; total time=   1.9s\n",
      "[CV] END learning_rate=0.1, max_depth=3, n_estimators=80, reg_lambda=1; total time=   3.2s\n",
      "[CV] END learning_rate=0.1, max_depth=3, n_estimators=80, reg_lambda=5; total time=   3.5s\n",
      "[CV] END learning_rate=0.1, max_depth=3, n_estimators=120, reg_lambda=1; total time=   4.5s\n",
      "[CV] END learning_rate=0.1, max_depth=3, n_estimators=120, reg_lambda=1; total time=   4.9s\n",
      "[CV] END learning_rate=0.1, max_depth=3, n_estimators=120, reg_lambda=5; total time=   5.2s\n",
      "[CV] END learning_rate=0.1, max_depth=3, n_estimators=160, reg_lambda=1; total time=   6.3s\n",
      "[CV] END learning_rate=0.1, max_depth=3, n_estimators=160, reg_lambda=5; total time=   6.2s\n",
      "[CV] END learning_rate=0.1, max_depth=3, n_estimators=120, reg_lambda=1; total time=   4.7s\n",
      "[CV] END learning_rate=0.1, max_depth=3, n_estimators=120, reg_lambda=5; total time=   4.8s\n",
      "[CV] END learning_rate=0.1, max_depth=3, n_estimators=160, reg_lambda=1; total time=   6.3s\n",
      "[CV] END learning_rate=0.1, max_depth=3, n_estimators=160, reg_lambda=5; total time=   6.1s\n",
      "[CV] END learning_rate=0.1, max_depth=3, n_estimators=160, reg_lambda=5; total time=   6.5s\n",
      "[CV] END learning_rate=0.1, max_depth=3, n_estimators=40, reg_lambda=1; total time=   1.6s\n",
      "[CV] END learning_rate=0.1, max_depth=3, n_estimators=40, reg_lambda=1; total time=   1.8s\n",
      "[CV] END learning_rate=0.1, max_depth=3, n_estimators=40, reg_lambda=5; total time=   2.0s\n",
      "[CV] END learning_rate=0.1, max_depth=3, n_estimators=80, reg_lambda=1; total time=   3.4s\n",
      "[CV] END learning_rate=0.1, max_depth=3, n_estimators=80, reg_lambda=5; total time=   3.5s\n",
      "[CV] END learning_rate=0.1, max_depth=3, n_estimators=120, reg_lambda=1; total time=   4.6s\n",
      "[CV] END learning_rate=0.1, max_depth=3, n_estimators=120, reg_lambda=5; total time=   5.0s\n",
      "[CV] END learning_rate=0.1, max_depth=3, n_estimators=120, reg_lambda=5; total time=   4.9s\n",
      "[CV] END learning_rate=0.1, max_depth=3, n_estimators=160, reg_lambda=1; total time=   6.2s\n",
      "[CV] END learning_rate=0.1, max_depth=3, n_estimators=160, reg_lambda=5; total time=   6.2s\n",
      "[CV] END learning_rate=0.1, max_depth=4, n_estimators=40, reg_lambda=1; total time=   2.2s\n",
      "[CV] END learning_rate=0.1, max_depth=4, n_estimators=40, reg_lambda=1; total time=   2.3s\n",
      "[CV] END learning_rate=0.1, max_depth=4, n_estimators=40, reg_lambda=1; total time=   2.6s\n",
      "[CV] END learning_rate=0.1, max_depth=3, n_estimators=40, reg_lambda=1; total time=   2.0s\n",
      "[CV] END learning_rate=0.1, max_depth=3, n_estimators=40, reg_lambda=5; total time=   1.8s\n",
      "[CV] END learning_rate=0.1, max_depth=3, n_estimators=80, reg_lambda=1; total time=   3.6s\n",
      "[CV] END learning_rate=0.1, max_depth=3, n_estimators=80, reg_lambda=5; total time=   3.5s\n",
      "[CV] END learning_rate=0.1, max_depth=3, n_estimators=80, reg_lambda=5; total time=   3.5s\n",
      "[CV] END learning_rate=0.1, max_depth=3, n_estimators=120, reg_lambda=1; total time=   4.3s\n",
      "[CV] END learning_rate=0.1, max_depth=3, n_estimators=120, reg_lambda=5; total time=   4.9s\n",
      "[CV] END learning_rate=0.1, max_depth=3, n_estimators=160, reg_lambda=1; total time=   6.3s\n",
      "[CV] END learning_rate=0.1, max_depth=3, n_estimators=160, reg_lambda=1; total time=   6.3s\n",
      "[CV] END learning_rate=0.1, max_depth=3, n_estimators=160, reg_lambda=5; total time=   6.1s\n",
      "[CV] END learning_rate=0.1, max_depth=4, n_estimators=40, reg_lambda=1; total time=   2.7s\n",
      "[CV] END learning_rate=0.1, max_depth=4, n_estimators=40, reg_lambda=5; total time=   2.6s\n",
      "[CV] END learning_rate=0.1, max_depth=4, n_estimators=40, reg_lambda=1; total time=   2.9s\n",
      "[CV] END learning_rate=0.1, max_depth=4, n_estimators=40, reg_lambda=5; total time=   2.7s\n",
      "[CV] END learning_rate=0.1, max_depth=4, n_estimators=40, reg_lambda=5; total time=   2.4s\n",
      "[CV] END learning_rate=0.1, max_depth=4, n_estimators=40, reg_lambda=5; total time=   2.4s\n",
      "[CV] END learning_rate=0.1, max_depth=4, n_estimators=80, reg_lambda=1; total time=   5.4s\n",
      "[CV] END learning_rate=0.1, max_depth=4, n_estimators=80, reg_lambda=1; total time=   5.4s\n",
      "[CV] END learning_rate=0.1, max_depth=4, n_estimators=80, reg_lambda=1; total time=   5.7s\n",
      "[CV] END learning_rate=0.1, max_depth=4, n_estimators=80, reg_lambda=5; total time=   5.0s\n",
      "[CV] END learning_rate=0.1, max_depth=4, n_estimators=120, reg_lambda=1; total time=   8.2s\n",
      "[CV] END learning_rate=0.1, max_depth=4, n_estimators=80, reg_lambda=1; total time=   5.1s\n",
      "[CV] END learning_rate=0.1, max_depth=4, n_estimators=80, reg_lambda=5; total time=   5.1s\n",
      "[CV] END learning_rate=0.1, max_depth=4, n_estimators=80, reg_lambda=5; total time=   4.9s\n",
      "[CV] END learning_rate=0.1, max_depth=4, n_estimators=120, reg_lambda=1; total time=   7.3s\n",
      "[CV] END learning_rate=0.1, max_depth=4, n_estimators=120, reg_lambda=5; total time=   7.3s\n",
      "[CV] END learning_rate=0.1, max_depth=4, n_estimators=120, reg_lambda=5; total time=   7.8s\n",
      "[CV] END learning_rate=0.1, max_depth=4, n_estimators=120, reg_lambda=5; total time=   7.5s\n",
      "[CV] END learning_rate=0.1, max_depth=4, n_estimators=160, reg_lambda=1; total time=   9.9s\n",
      "[CV] END learning_rate=0.1, max_depth=4, n_estimators=40, reg_lambda=5; total time=   2.6s\n",
      "[CV] END learning_rate=0.1, max_depth=4, n_estimators=80, reg_lambda=1; total time=   4.9s\n",
      "[CV] END learning_rate=0.1, max_depth=4, n_estimators=80, reg_lambda=5; total time=   5.1s\n",
      "[CV] END learning_rate=0.1, max_depth=4, n_estimators=120, reg_lambda=1; total time=   7.9s\n",
      "[CV] END learning_rate=0.1, max_depth=4, n_estimators=120, reg_lambda=1; total time=   7.3s\n",
      "[CV] END learning_rate=0.1, max_depth=4, n_estimators=120, reg_lambda=5; total time=   7.1s\n",
      "[CV] END learning_rate=0.1, max_depth=4, n_estimators=160, reg_lambda=1; total time=   9.5s\n",
      "[CV] END learning_rate=0.1, max_depth=4, n_estimators=160, reg_lambda=5; total time=   9.1s\n",
      "[CV] END learning_rate=0.1, max_depth=4, n_estimators=80, reg_lambda=5; total time=   5.6s\n",
      "[CV] END learning_rate=0.1, max_depth=4, n_estimators=120, reg_lambda=1; total time=   7.4s\n",
      "[CV] END learning_rate=0.1, max_depth=4, n_estimators=120, reg_lambda=5; total time=   7.0s\n",
      "[CV] END learning_rate=0.1, max_depth=4, n_estimators=160, reg_lambda=1; total time=  10.2s\n",
      "[CV] END learning_rate=0.1, max_depth=4, n_estimators=160, reg_lambda=5; total time=   9.5s\n",
      "[CV] END learning_rate=0.1, max_depth=4, n_estimators=160, reg_lambda=5; total time=   9.5s\n",
      "[CV] END learning_rate=0.5, max_depth=3, n_estimators=40, reg_lambda=1; total time=   2.0s\n",
      "[CV] END learning_rate=0.5, max_depth=3, n_estimators=40, reg_lambda=1; total time=   1.4s\n",
      "[CV] END learning_rate=0.5, max_depth=3, n_estimators=40, reg_lambda=1; total time=   1.3s\n",
      "[CV] END learning_rate=0.5, max_depth=3, n_estimators=40, reg_lambda=1; total time=   1.6s\n",
      "[CV] END learning_rate=0.5, max_depth=3, n_estimators=40, reg_lambda=5; total time=   1.5s\n",
      "[CV] END learning_rate=0.5, max_depth=3, n_estimators=40, reg_lambda=5; total time=   1.7s\n",
      "[CV] END learning_rate=0.1, max_depth=4, n_estimators=160, reg_lambda=1; total time=  10.4s\n",
      "[CV] END learning_rate=0.1, max_depth=4, n_estimators=160, reg_lambda=1; total time=  10.0s\n",
      "[CV] END learning_rate=0.1, max_depth=4, n_estimators=160, reg_lambda=5; total time=   9.2s\n",
      "[CV] END learning_rate=0.5, max_depth=3, n_estimators=40, reg_lambda=5; total time=   1.4s\n",
      "[CV] END learning_rate=0.5, max_depth=3, n_estimators=80, reg_lambda=1; total time=   2.8s\n",
      "[CV] END learning_rate=0.5, max_depth=3, n_estimators=80, reg_lambda=1; total time=   2.9s\n",
      "[CV] END learning_rate=0.5, max_depth=3, n_estimators=80, reg_lambda=5; total time=   2.9s\n",
      "[CV] END learning_rate=0.5, max_depth=3, n_estimators=120, reg_lambda=1; total time=   4.2s\n",
      "[CV] END learning_rate=0.5, max_depth=3, n_estimators=120, reg_lambda=5; total time=   4.7s\n",
      "[CV] END learning_rate=0.5, max_depth=3, n_estimators=160, reg_lambda=1; total time=   5.7s\n",
      "[CV] END learning_rate=0.1, max_depth=4, n_estimators=160, reg_lambda=5; total time=   9.4s\n",
      "[CV] END learning_rate=0.5, max_depth=3, n_estimators=40, reg_lambda=1; total time=   1.5s\n",
      "[CV] END learning_rate=0.5, max_depth=3, n_estimators=40, reg_lambda=5; total time=   1.5s\n",
      "[CV] END learning_rate=0.5, max_depth=3, n_estimators=80, reg_lambda=1; total time=   2.8s\n",
      "[CV] END learning_rate=0.5, max_depth=3, n_estimators=80, reg_lambda=1; total time=   2.8s\n",
      "[CV] END learning_rate=0.5, max_depth=3, n_estimators=80, reg_lambda=5; total time=   3.2s\n",
      "[CV] END learning_rate=0.5, max_depth=3, n_estimators=120, reg_lambda=1; total time=   4.3s\n",
      "[CV] END learning_rate=0.5, max_depth=3, n_estimators=120, reg_lambda=5; total time=   4.1s\n",
      "[CV] END learning_rate=0.5, max_depth=3, n_estimators=120, reg_lambda=5; total time=   4.5s\n",
      "[CV] END learning_rate=0.5, max_depth=3, n_estimators=160, reg_lambda=1; total time=   5.4s\n",
      "[CV] END learning_rate=0.5, max_depth=3, n_estimators=80, reg_lambda=5; total time=   3.0s\n",
      "[CV] END learning_rate=0.5, max_depth=3, n_estimators=120, reg_lambda=1; total time=   4.5s\n",
      "[CV] END learning_rate=0.5, max_depth=3, n_estimators=120, reg_lambda=1; total time=   4.3s\n",
      "[CV] END learning_rate=0.5, max_depth=3, n_estimators=120, reg_lambda=5; total time=   4.3s\n",
      "[CV] END learning_rate=0.5, max_depth=3, n_estimators=160, reg_lambda=1; total time=   5.5s\n",
      "[CV] END learning_rate=0.5, max_depth=3, n_estimators=160, reg_lambda=5; total time=   5.5s\n",
      "[CV] END learning_rate=0.5, max_depth=4, n_estimators=40, reg_lambda=1; total time=   2.4s\n",
      "[CV] END learning_rate=0.5, max_depth=3, n_estimators=40, reg_lambda=5; total time=   1.3s\n",
      "[CV] END learning_rate=0.5, max_depth=3, n_estimators=80, reg_lambda=1; total time=   2.6s\n",
      "[CV] END learning_rate=0.5, max_depth=3, n_estimators=80, reg_lambda=5; total time=   3.1s\n",
      "[CV] END learning_rate=0.5, max_depth=3, n_estimators=80, reg_lambda=5; total time=   3.1s\n",
      "[CV] END learning_rate=0.5, max_depth=3, n_estimators=120, reg_lambda=1; total time=   4.0s\n",
      "[CV] END learning_rate=0.5, max_depth=3, n_estimators=120, reg_lambda=5; total time=   4.5s\n",
      "[CV] END learning_rate=0.5, max_depth=3, n_estimators=160, reg_lambda=1; total time=   5.6s\n",
      "[CV] END learning_rate=0.5, max_depth=3, n_estimators=160, reg_lambda=5; total time=   5.8s\n",
      "[CV] END learning_rate=0.5, max_depth=3, n_estimators=160, reg_lambda=5; total time=   6.1s\n",
      "[CV] END learning_rate=0.5, max_depth=4, n_estimators=40, reg_lambda=1; total time=   2.8s\n",
      "[CV] END learning_rate=0.5, max_depth=3, n_estimators=160, reg_lambda=1; total time=   5.6s\n",
      "[CV] END learning_rate=0.5, max_depth=3, n_estimators=160, reg_lambda=5; total time=   6.2s\n",
      "[CV] END learning_rate=0.5, max_depth=4, n_estimators=40, reg_lambda=1; total time=   2.8s\n",
      "[CV] END learning_rate=0.5, max_depth=4, n_estimators=40, reg_lambda=5; total time=   2.6s\n",
      "[CV] END learning_rate=0.5, max_depth=3, n_estimators=160, reg_lambda=5; total time=   5.7s\n",
      "[CV] END learning_rate=0.5, max_depth=4, n_estimators=40, reg_lambda=1; total time=   2.3s\n",
      "[CV] END learning_rate=0.5, max_depth=4, n_estimators=40, reg_lambda=5; total time=   2.7s\n",
      "[CV] END learning_rate=0.5, max_depth=4, n_estimators=40, reg_lambda=5; total time=   2.6s\n",
      "[CV] END learning_rate=0.5, max_depth=4, n_estimators=40, reg_lambda=5; total time=   2.4s\n",
      "[CV] END learning_rate=0.5, max_depth=4, n_estimators=80, reg_lambda=1; total time=   4.9s\n",
      "[CV] END learning_rate=0.5, max_depth=4, n_estimators=80, reg_lambda=5; total time=   5.1s\n",
      "[CV] END learning_rate=0.5, max_depth=4, n_estimators=80, reg_lambda=5; total time=   4.5s\n",
      "[CV] END learning_rate=0.5, max_depth=4, n_estimators=120, reg_lambda=1; total time=   6.7s\n",
      "[CV] END learning_rate=0.5, max_depth=4, n_estimators=120, reg_lambda=5; total time=   6.9s\n",
      "[CV] END learning_rate=0.5, max_depth=4, n_estimators=160, reg_lambda=1; total time=   9.2s\n",
      "[CV] END learning_rate=0.5, max_depth=4, n_estimators=40, reg_lambda=1; total time=   2.6s\n",
      "[CV] END learning_rate=0.5, max_depth=4, n_estimators=40, reg_lambda=5; total time=   2.6s\n",
      "[CV] END learning_rate=0.5, max_depth=4, n_estimators=80, reg_lambda=1; total time=   4.0s\n",
      "[CV] END learning_rate=0.5, max_depth=4, n_estimators=80, reg_lambda=1; total time=   5.0s\n",
      "[CV] END learning_rate=0.5, max_depth=4, n_estimators=80, reg_lambda=5; total time=   4.7s\n",
      "[CV] END learning_rate=0.5, max_depth=4, n_estimators=120, reg_lambda=1; total time=   6.6s\n",
      "[CV] END learning_rate=0.5, max_depth=4, n_estimators=120, reg_lambda=5; total time=   6.8s\n",
      "[CV] END learning_rate=0.5, max_depth=4, n_estimators=120, reg_lambda=5; total time=   7.1s\n",
      "[CV] END learning_rate=0.5, max_depth=4, n_estimators=160, reg_lambda=1; total time=   7.5s\n",
      "[CV] END learning_rate=0.5, max_depth=4, n_estimators=80, reg_lambda=1; total time=   5.2s\n",
      "[CV] END learning_rate=0.5, max_depth=4, n_estimators=80, reg_lambda=5; total time=   4.9s\n",
      "[CV] END learning_rate=0.5, max_depth=4, n_estimators=120, reg_lambda=1; total time=   6.4s\n",
      "[CV] END learning_rate=0.5, max_depth=4, n_estimators=120, reg_lambda=1; total time=   6.5s\n",
      "[CV] END learning_rate=0.5, max_depth=4, n_estimators=120, reg_lambda=5; total time=   6.8s\n",
      "[CV] END learning_rate=0.5, max_depth=4, n_estimators=160, reg_lambda=1; total time=   8.7s\n",
      "[CV] END learning_rate=0.5, max_depth=4, n_estimators=160, reg_lambda=5; total time=   8.0s\n"
     ]
    },
    {
     "data": {
      "text/html": [
       "<style>#sk-container-id-4 {color: black;}#sk-container-id-4 pre{padding: 0;}#sk-container-id-4 div.sk-toggleable {background-color: white;}#sk-container-id-4 label.sk-toggleable__label {cursor: pointer;display: block;width: 100%;margin-bottom: 0;padding: 0.3em;box-sizing: border-box;text-align: center;}#sk-container-id-4 label.sk-toggleable__label-arrow:before {content: \"▸\";float: left;margin-right: 0.25em;color: #696969;}#sk-container-id-4 label.sk-toggleable__label-arrow:hover:before {color: black;}#sk-container-id-4 div.sk-estimator:hover label.sk-toggleable__label-arrow:before {color: black;}#sk-container-id-4 div.sk-toggleable__content {max-height: 0;max-width: 0;overflow: hidden;text-align: left;background-color: #f0f8ff;}#sk-container-id-4 div.sk-toggleable__content pre {margin: 0.2em;color: black;border-radius: 0.25em;background-color: #f0f8ff;}#sk-container-id-4 input.sk-toggleable__control:checked~div.sk-toggleable__content {max-height: 200px;max-width: 100%;overflow: auto;}#sk-container-id-4 input.sk-toggleable__control:checked~label.sk-toggleable__label-arrow:before {content: \"▾\";}#sk-container-id-4 div.sk-estimator input.sk-toggleable__control:checked~label.sk-toggleable__label {background-color: #d4ebff;}#sk-container-id-4 div.sk-label input.sk-toggleable__control:checked~label.sk-toggleable__label {background-color: #d4ebff;}#sk-container-id-4 input.sk-hidden--visually {border: 0;clip: rect(1px 1px 1px 1px);clip: rect(1px, 1px, 1px, 1px);height: 1px;margin: -1px;overflow: hidden;padding: 0;position: absolute;width: 1px;}#sk-container-id-4 div.sk-estimator {font-family: monospace;background-color: #f0f8ff;border: 1px dotted black;border-radius: 0.25em;box-sizing: border-box;margin-bottom: 0.5em;}#sk-container-id-4 div.sk-estimator:hover {background-color: #d4ebff;}#sk-container-id-4 div.sk-parallel-item::after {content: \"\";width: 100%;border-bottom: 1px solid gray;flex-grow: 1;}#sk-container-id-4 div.sk-label:hover label.sk-toggleable__label {background-color: #d4ebff;}#sk-container-id-4 div.sk-serial::before {content: \"\";position: absolute;border-left: 1px solid gray;box-sizing: border-box;top: 0;bottom: 0;left: 50%;z-index: 0;}#sk-container-id-4 div.sk-serial {display: flex;flex-direction: column;align-items: center;background-color: white;padding-right: 0.2em;padding-left: 0.2em;position: relative;}#sk-container-id-4 div.sk-item {position: relative;z-index: 1;}#sk-container-id-4 div.sk-parallel {display: flex;align-items: stretch;justify-content: center;background-color: white;position: relative;}#sk-container-id-4 div.sk-item::before, #sk-container-id-4 div.sk-parallel-item::before {content: \"\";position: absolute;border-left: 1px solid gray;box-sizing: border-box;top: 0;bottom: 0;left: 50%;z-index: -1;}#sk-container-id-4 div.sk-parallel-item {display: flex;flex-direction: column;z-index: 1;position: relative;background-color: white;}#sk-container-id-4 div.sk-parallel-item:first-child::after {align-self: flex-end;width: 50%;}#sk-container-id-4 div.sk-parallel-item:last-child::after {align-self: flex-start;width: 50%;}#sk-container-id-4 div.sk-parallel-item:only-child::after {width: 0;}#sk-container-id-4 div.sk-dashed-wrapped {border: 1px dashed gray;margin: 0 0.4em 0.5em 0.4em;box-sizing: border-box;padding-bottom: 0.4em;background-color: white;}#sk-container-id-4 div.sk-label label {font-family: monospace;font-weight: bold;display: inline-block;line-height: 1.2em;}#sk-container-id-4 div.sk-label-container {text-align: center;}#sk-container-id-4 div.sk-container {/* jupyter's `normalize.less` sets `[hidden] { display: none; }` but bootstrap.min.css set `[hidden] { display: none !important; }` so we also need the `!important` here to be able to override the default hidden behavior on the sphinx rendered scikit-learn.org. See: https://github.com/scikit-learn/scikit-learn/issues/21755 */display: inline-block !important;position: relative;}#sk-container-id-4 div.sk-text-repr-fallback {display: none;}</style><div id=\"sk-container-id-4\" class=\"sk-top-container\"><div class=\"sk-text-repr-fallback\"><pre>GridSearchCV(estimator=XGBClassifier(base_score=None, booster=&#x27;gbtree&#x27;,\n",
       "                                     callbacks=None, colsample_bylevel=None,\n",
       "                                     colsample_bynode=None, colsample_bytree=1,\n",
       "                                     device=None, early_stopping_rounds=None,\n",
       "                                     enable_categorical=False,\n",
       "                                     eval_metric=[&#x27;auc&#x27;, &#x27;logloss&#x27;],\n",
       "                                     feature_types=None, gamma=None,\n",
       "                                     grow_policy=None, importance_type=None,\n",
       "                                     interaction_constraints=None,\n",
       "                                     learning_r...\n",
       "                                     max_leaves=None, min_child_weight=None,\n",
       "                                     missing=nan, monotone_constraints=None,\n",
       "                                     multi_strategy=None, n_estimators=100,\n",
       "                                     n_jobs=4, num_parallel_tree=None,\n",
       "                                     random_state=0, ...),\n",
       "             n_jobs=4,\n",
       "             param_grid={&#x27;learning_rate&#x27;: [0.1, 0.5], &#x27;max_depth&#x27;: [3, 4],\n",
       "                         &#x27;n_estimators&#x27;: [40, 80, 120, 160],\n",
       "                         &#x27;reg_lambda&#x27;: [1, 5]},\n",
       "             refit=&#x27;roc_auc&#x27;, scoring=[&#x27;roc_auc&#x27;, &#x27;accuracy&#x27;, &#x27;neg_log_loss&#x27;],\n",
       "             verbose=2)</pre><b>In a Jupyter environment, please rerun this cell to show the HTML representation or trust the notebook. <br />On GitHub, the HTML representation is unable to render, please try loading this page with nbviewer.org.</b></div><div class=\"sk-container\" hidden><div class=\"sk-item sk-dashed-wrapped\"><div class=\"sk-label-container\"><div class=\"sk-label sk-toggleable\"><input class=\"sk-toggleable__control sk-hidden--visually\" id=\"sk-estimator-id-4\" type=\"checkbox\" ><label for=\"sk-estimator-id-4\" class=\"sk-toggleable__label sk-toggleable__label-arrow\">GridSearchCV</label><div class=\"sk-toggleable__content\"><pre>GridSearchCV(estimator=XGBClassifier(base_score=None, booster=&#x27;gbtree&#x27;,\n",
       "                                     callbacks=None, colsample_bylevel=None,\n",
       "                                     colsample_bynode=None, colsample_bytree=1,\n",
       "                                     device=None, early_stopping_rounds=None,\n",
       "                                     enable_categorical=False,\n",
       "                                     eval_metric=[&#x27;auc&#x27;, &#x27;logloss&#x27;],\n",
       "                                     feature_types=None, gamma=None,\n",
       "                                     grow_policy=None, importance_type=None,\n",
       "                                     interaction_constraints=None,\n",
       "                                     learning_r...\n",
       "                                     max_leaves=None, min_child_weight=None,\n",
       "                                     missing=nan, monotone_constraints=None,\n",
       "                                     multi_strategy=None, n_estimators=100,\n",
       "                                     n_jobs=4, num_parallel_tree=None,\n",
       "                                     random_state=0, ...),\n",
       "             n_jobs=4,\n",
       "             param_grid={&#x27;learning_rate&#x27;: [0.1, 0.5], &#x27;max_depth&#x27;: [3, 4],\n",
       "                         &#x27;n_estimators&#x27;: [40, 80, 120, 160],\n",
       "                         &#x27;reg_lambda&#x27;: [1, 5]},\n",
       "             refit=&#x27;roc_auc&#x27;, scoring=[&#x27;roc_auc&#x27;, &#x27;accuracy&#x27;, &#x27;neg_log_loss&#x27;],\n",
       "             verbose=2)</pre></div></div></div><div class=\"sk-parallel\"><div class=\"sk-parallel-item\"><div class=\"sk-item\"><div class=\"sk-label-container\"><div class=\"sk-label sk-toggleable\"><input class=\"sk-toggleable__control sk-hidden--visually\" id=\"sk-estimator-id-5\" type=\"checkbox\" ><label for=\"sk-estimator-id-5\" class=\"sk-toggleable__label sk-toggleable__label-arrow\">estimator: XGBClassifier</label><div class=\"sk-toggleable__content\"><pre>XGBClassifier(base_score=None, booster=&#x27;gbtree&#x27;, callbacks=None,\n",
       "              colsample_bylevel=None, colsample_bynode=None, colsample_bytree=1,\n",
       "              device=None, early_stopping_rounds=None, enable_categorical=False,\n",
       "              eval_metric=[&#x27;auc&#x27;, &#x27;logloss&#x27;], feature_types=None, gamma=None,\n",
       "              grow_policy=None, importance_type=None,\n",
       "              interaction_constraints=None, learning_rate=0.1, max_bin=None,\n",
       "              max_cat_threshold=None, max_cat_to_onehot=None,\n",
       "              max_delta_step=None, max_depth=3, max_leaves=None,\n",
       "              min_child_weight=None, missing=nan, monotone_constraints=None,\n",
       "              multi_strategy=None, n_estimators=100, n_jobs=4,\n",
       "              num_parallel_tree=None, random_state=0, ...)</pre></div></div></div><div class=\"sk-serial\"><div class=\"sk-item\"><div class=\"sk-estimator sk-toggleable\"><input class=\"sk-toggleable__control sk-hidden--visually\" id=\"sk-estimator-id-6\" type=\"checkbox\" ><label for=\"sk-estimator-id-6\" class=\"sk-toggleable__label sk-toggleable__label-arrow\">XGBClassifier</label><div class=\"sk-toggleable__content\"><pre>XGBClassifier(base_score=None, booster=&#x27;gbtree&#x27;, callbacks=None,\n",
       "              colsample_bylevel=None, colsample_bynode=None, colsample_bytree=1,\n",
       "              device=None, early_stopping_rounds=None, enable_categorical=False,\n",
       "              eval_metric=[&#x27;auc&#x27;, &#x27;logloss&#x27;], feature_types=None, gamma=None,\n",
       "              grow_policy=None, importance_type=None,\n",
       "              interaction_constraints=None, learning_rate=0.1, max_bin=None,\n",
       "              max_cat_threshold=None, max_cat_to_onehot=None,\n",
       "              max_delta_step=None, max_depth=3, max_leaves=None,\n",
       "              min_child_weight=None, missing=nan, monotone_constraints=None,\n",
       "              multi_strategy=None, n_estimators=100, n_jobs=4,\n",
       "              num_parallel_tree=None, random_state=0, ...)</pre></div></div></div></div></div></div></div></div></div></div>"
      ],
      "text/plain": [
       "GridSearchCV(estimator=XGBClassifier(base_score=None, booster='gbtree',\n",
       "                                     callbacks=None, colsample_bylevel=None,\n",
       "                                     colsample_bynode=None, colsample_bytree=1,\n",
       "                                     device=None, early_stopping_rounds=None,\n",
       "                                     enable_categorical=False,\n",
       "                                     eval_metric=['auc', 'logloss'],\n",
       "                                     feature_types=None, gamma=None,\n",
       "                                     grow_policy=None, importance_type=None,\n",
       "                                     interaction_constraints=None,\n",
       "                                     learning_r...\n",
       "                                     max_leaves=None, min_child_weight=None,\n",
       "                                     missing=nan, monotone_constraints=None,\n",
       "                                     multi_strategy=None, n_estimators=100,\n",
       "                                     n_jobs=4, num_parallel_tree=None,\n",
       "                                     random_state=0, ...),\n",
       "             n_jobs=4,\n",
       "             param_grid={'learning_rate': [0.1, 0.5], 'max_depth': [3, 4],\n",
       "                         'n_estimators': [40, 80, 120, 160],\n",
       "                         'reg_lambda': [1, 5]},\n",
       "             refit='roc_auc', scoring=['roc_auc', 'accuracy', 'neg_log_loss'],\n",
       "             verbose=2)"
      ]
     },
     "execution_count": 49,
     "metadata": {},
     "output_type": "execute_result"
    }
   ],
   "source": [
    "clf.fit(X_train, y_neg_train)"
   ]
  },
  {
   "cell_type": "code",
   "execution_count": 50,
   "id": "f7fc8f92-6809-4246-8abb-e5c1f471dbe2",
   "metadata": {
    "tags": []
   },
   "outputs": [
    {
     "data": {
      "text/plain": [
       "array([0.8235817 , 0.82118673, 0.84783335, 0.84486386, 0.86055705,\n",
       "       0.85737347, 0.86820361, 0.86444734, 0.83494969, 0.83152692,\n",
       "       0.85794084, 0.85438908, 0.86827901, 0.86480189, 0.87496631,\n",
       "       0.87139284, 0.86537071, 0.86258323, 0.87970166, 0.87661002,\n",
       "       0.88431418, 0.88390195, 0.88857961, 0.88756345, 0.86839597,\n",
       "       0.86811182, 0.8825541 , 0.87990774, 0.88645072, 0.88520612,\n",
       "       0.88961075, 0.88768713])"
      ]
     },
     "execution_count": 50,
     "metadata": {},
     "output_type": "execute_result"
    }
   ],
   "source": [
    "clf.cv_results_['mean_test_roc_auc']"
   ]
  },
  {
   "cell_type": "code",
   "execution_count": 51,
   "id": "463930a5-49a1-4204-adaf-3004d2955424",
   "metadata": {
    "tags": []
   },
   "outputs": [
    {
     "data": {
      "text/plain": [
       "array([0.75486696, 0.7537568 , 0.77570068, 0.7754446 , 0.78756935,\n",
       "       0.78321501, 0.792351  , 0.7896184 , 0.76374676, 0.76135659,\n",
       "       0.78193412, 0.78048252, 0.79072871, 0.78774061, 0.79696161,\n",
       "       0.79397344, 0.79474223, 0.79363177, 0.8084031 , 0.80498744,\n",
       "       0.81326946, 0.81403796, 0.81839245, 0.81472074, 0.79909595,\n",
       "       0.79593713, 0.80771967, 0.80430506, 0.81600108, 0.81233133,\n",
       "       0.81916095, 0.8163443 ])"
      ]
     },
     "execution_count": 51,
     "metadata": {},
     "output_type": "execute_result"
    }
   ],
   "source": [
    "clf.cv_results_['mean_test_accuracy']"
   ]
  },
  {
   "cell_type": "code",
   "execution_count": 52,
   "id": "601218cb-7711-4e08-b48e-8ceca102fed0",
   "metadata": {
    "tags": []
   },
   "outputs": [
    {
     "data": {
      "text/plain": [
       "array([-0.5231312 , -0.52660012, -0.48646685, -0.4901394 , -0.46530176,\n",
       "       -0.46928277, -0.45153008, -0.45613551, -0.50682564, -0.50964276,\n",
       "       -0.46940232, -0.47327534, -0.45027949, -0.45430919, -0.43743057,\n",
       "       -0.44205196, -0.44447928, -0.44759111, -0.41976911, -0.42440138,\n",
       "       -0.41073253, -0.4117343 , -0.40342041, -0.40515976, -0.43616265,\n",
       "       -0.43790927, -0.41378886, -0.41790016, -0.40757998, -0.4090145 ,\n",
       "       -0.40298323, -0.40526376])"
      ]
     },
     "execution_count": 52,
     "metadata": {},
     "output_type": "execute_result"
    }
   ],
   "source": [
    "clf.cv_results_['mean_test_neg_log_loss']"
   ]
  },
  {
   "cell_type": "code",
   "execution_count": 53,
   "id": "7d6d75fe-7d37-47dc-a4e9-0ef9f1d67830",
   "metadata": {
    "tags": []
   },
   "outputs": [
    {
     "data": {
      "text/plain": [
       "{'learning_rate': 0.5, 'max_depth': 4, 'n_estimators': 160, 'reg_lambda': 1}"
      ]
     },
     "execution_count": 53,
     "metadata": {},
     "output_type": "execute_result"
    }
   ],
   "source": [
    "idx = clf.cv_results_['mean_test_neg_log_loss'].argmax()\n",
    "clf.cv_results_['params'][idx]"
   ]
  },
  {
   "cell_type": "code",
   "execution_count": 54,
   "id": "11f47702-5531-4714-8faf-59f06c454e13",
   "metadata": {
    "tags": []
   },
   "outputs": [
    {
     "data": {
      "text/plain": [
       "{'learning_rate': 0.5, 'max_depth': 4, 'n_estimators': 160, 'reg_lambda': 1}"
      ]
     },
     "execution_count": 54,
     "metadata": {},
     "output_type": "execute_result"
    }
   ],
   "source": [
    "idx = clf.cv_results_['mean_test_roc_auc'].argmax()\n",
    "clf.cv_results_['params'][idx]"
   ]
  },
  {
   "cell_type": "code",
   "execution_count": 55,
   "id": "7a1aa5e7-24f2-4c9c-91ac-2a621f2b57ac",
   "metadata": {
    "tags": []
   },
   "outputs": [
    {
     "data": {
      "text/plain": [
       "{'learning_rate': 0.5, 'max_depth': 4, 'n_estimators': 160, 'reg_lambda': 1}"
      ]
     },
     "execution_count": 55,
     "metadata": {},
     "output_type": "execute_result"
    }
   ],
   "source": [
    "idx = clf.cv_results_['mean_test_accuracy'].argmax()\n",
    "clf.cv_results_['params'][idx]"
   ]
  },
  {
   "cell_type": "code",
   "execution_count": 56,
   "id": "d2406aa5-d724-4417-a8dd-11bf987e2230",
   "metadata": {
    "tags": []
   },
   "outputs": [
    {
     "data": {
      "text/plain": [
       "{'learning_rate': 0.5, 'max_depth': 4, 'n_estimators': 160, 'reg_lambda': 1}"
      ]
     },
     "execution_count": 56,
     "metadata": {},
     "output_type": "execute_result"
    }
   ],
   "source": [
    "clf.best_params_"
   ]
  },
  {
   "cell_type": "code",
   "execution_count": 57,
   "id": "11b58614-5ee9-4a05-8ea9-67ef57b3bf04",
   "metadata": {
    "tags": []
   },
   "outputs": [],
   "source": [
    "y_neg_test_prob = clf.predict_proba(X_test)"
   ]
  },
  {
   "cell_type": "code",
   "execution_count": 58,
   "id": "d967d0e9-6f7b-4cff-8c10-ed67ce3f286f",
   "metadata": {
    "tags": []
   },
   "outputs": [
    {
     "data": {
      "text/plain": [
       "0.8900733297121128"
      ]
     },
     "execution_count": 58,
     "metadata": {},
     "output_type": "execute_result"
    }
   ],
   "source": [
    "fpr, tpr, thd = roc_curve(y_neg_test, y_neg_test_prob[:,1])\n",
    "roc_auc_score(y_neg_test, y_neg_test_prob[:,1])"
   ]
  },
  {
   "cell_type": "code",
   "execution_count": null,
   "id": "b1f16642-a9f2-4fc0-b6fb-1e1e3fc96646",
   "metadata": {},
   "outputs": [],
   "source": []
  },
  {
   "cell_type": "markdown",
   "id": "dc14fa0a-7d5f-43d9-9804-876b117578cf",
   "metadata": {},
   "source": [
    "# using word embedding"
   ]
  },
  {
   "cell_type": "code",
   "execution_count": 9,
   "id": "afff70aa-c9ea-42e0-bd4c-ee0d90732a9b",
   "metadata": {
    "tags": []
   },
   "outputs": [
    {
     "name": "stderr",
     "output_type": "stream",
     "text": [
      "/Users/yuchen.jiang2/personal/repos/playground/env/lib/python3.8/site-packages/tqdm/auto.py:21: TqdmWarning: IProgress not found. Please update jupyter and ipywidgets. See https://ipywidgets.readthedocs.io/en/stable/user_install.html\n",
      "  from .autonotebook import tqdm as notebook_tqdm\n"
     ]
    }
   ],
   "source": [
    "from transformers import BertTokenizer, BertModel\n",
    "tokenizer = BertTokenizer.from_pretrained('bert-base-uncased', padding=\"max_length\", truncation=\"max_length\")\n",
    "model = BertModel.from_pretrained(\"bert-base-uncased\")\n",
    "\n",
    "encoded_input = tokenizer(list(df_train['text']), return_tensors='pt', padding=True, truncation=True)\n",
    "# output = model(**encoded_input)"
   ]
  },
  {
   "cell_type": "code",
   "execution_count": null,
   "id": "84bf2e41-68a4-4c82-91f3-03416d2ea655",
   "metadata": {
    "tags": []
   },
   "outputs": [],
   "source": [
    "output.pooler_output.shape"
   ]
  },
  {
   "cell_type": "code",
   "execution_count": null,
   "id": "24a8c915-4803-46d1-90a4-3e6e30572dd5",
   "metadata": {},
   "outputs": [],
   "source": []
  },
  {
   "cell_type": "code",
   "execution_count": 12,
   "id": "fc22beb6-f332-4580-a89a-63e89d4acbdb",
   "metadata": {},
   "outputs": [
    {
     "name": "stderr",
     "output_type": "stream",
     "text": [
      "/Users/yuchen.jiang2/personal/repos/playground/env/lib/python3.8/site-packages/tqdm/auto.py:21: TqdmWarning: IProgress not found. Please update jupyter and ipywidgets. See https://ipywidgets.readthedocs.io/en/stable/user_install.html\n",
      "  from .autonotebook import tqdm as notebook_tqdm\n"
     ]
    }
   ],
   "source": [
    "# Importing the libraries needed\n",
    "import pandas as pd\n",
    "import numpy as np\n",
    "from sklearn.model_selection import train_test_split\n",
    "import torch\n",
    "import seaborn as sns\n",
    "import transformers\n",
    "import json\n",
    "from tqdm import tqdm\n",
    "from torch.utils.data import Dataset, DataLoader\n",
    "from transformers import RobertaModel, RobertaTokenizerFast, RobertaConfig, AutoTokenizer\n",
    "import logging\n",
    "from tqdm import tqdm\n",
    "from collections import OrderedDict\n",
    "logging.basicConfig(level=logging.ERROR)"
   ]
  },
  {
   "cell_type": "code",
   "execution_count": 13,
   "id": "256f0141-892c-4844-9885-a1b671e6c121",
   "metadata": {
    "tags": []
   },
   "outputs": [],
   "source": [
    "def prep_batch_dataset(X, y, batch_size):\n",
    "    tensorX = torch.tensor(X)\n",
    "    tensory = torch.tensor(y)\n",
    "    dataset = TensorDataset(tensorX, tensory)\n",
    "    dl = DataLoader(dataset, batch_size)\n",
    "    return dl"
   ]
  },
  {
   "cell_type": "code",
   "execution_count": 18,
   "id": "e5c9c8ae-9994-465a-a6e8-abbdeb445905",
   "metadata": {
    "tags": []
   },
   "outputs": [],
   "source": [
    "X_train, y_train = list(df_train['text']), df_train['airline_sentiment']\n",
    "X_test, y_test = list(df_test['text']), df_test['airline_sentiment']"
   ]
  },
  {
   "cell_type": "code",
   "execution_count": 20,
   "id": "7bf9bc32-d521-448b-a561-dcac37520af1",
   "metadata": {},
   "outputs": [
    {
     "ename": "ValueError",
     "evalue": "could not determine the shape of object type 'Series'",
     "output_type": "error",
     "traceback": [
      "\u001b[0;31m---------------------------------------------------------------------------\u001b[0m",
      "\u001b[0;31mValueError\u001b[0m                                Traceback (most recent call last)",
      "Cell \u001b[0;32mIn[20], line 2\u001b[0m\n\u001b[1;32m      1\u001b[0m batch_size \u001b[38;5;241m=\u001b[39m \u001b[38;5;241m32\u001b[39m\n\u001b[0;32m----> 2\u001b[0m dl_train \u001b[38;5;241m=\u001b[39m \u001b[43mprep_batch_dataset\u001b[49m\u001b[43m(\u001b[49m\u001b[43mX_train\u001b[49m\u001b[43m,\u001b[49m\u001b[43m \u001b[49m\u001b[43my_train\u001b[49m\u001b[43m,\u001b[49m\u001b[43m \u001b[49m\u001b[43mbatch_size\u001b[49m\u001b[43m)\u001b[49m\n\u001b[1;32m      3\u001b[0m \u001b[38;5;66;03m# dl_val = prep_batch_dataset(X_val, y_val, batch_size)\u001b[39;00m\n\u001b[1;32m      4\u001b[0m dl_test \u001b[38;5;241m=\u001b[39m prep_batch_dataset(X_test, y_test, batch_size)\n",
      "Cell \u001b[0;32mIn[13], line 2\u001b[0m, in \u001b[0;36mprep_batch_dataset\u001b[0;34m(X, y, batch_size)\u001b[0m\n\u001b[1;32m      1\u001b[0m \u001b[38;5;28;01mdef\u001b[39;00m \u001b[38;5;21mprep_batch_dataset\u001b[39m(X, y, batch_size):\n\u001b[0;32m----> 2\u001b[0m     tensorX \u001b[38;5;241m=\u001b[39m \u001b[43mtorch\u001b[49m\u001b[38;5;241;43m.\u001b[39;49m\u001b[43mtensor\u001b[49m\u001b[43m(\u001b[49m\u001b[43mX\u001b[49m\u001b[43m)\u001b[49m\n\u001b[1;32m      3\u001b[0m     tensory \u001b[38;5;241m=\u001b[39m torch\u001b[38;5;241m.\u001b[39mtensor(y)\n\u001b[1;32m      4\u001b[0m     dataset \u001b[38;5;241m=\u001b[39m TensorDataset(tensorX, tensory)\n",
      "\u001b[0;31mValueError\u001b[0m: could not determine the shape of object type 'Series'"
     ]
    }
   ],
   "source": [
    "batch_size = 32\n",
    "dl_train = prep_batch_dataset(X_train, y_train, batch_size)\n",
    "# dl_val = prep_batch_dataset(X_val, y_val, batch_size)\n",
    "dl_test = prep_batch_dataset(X_test, y_test, batch_size)"
   ]
  },
  {
   "cell_type": "code",
   "execution_count": 62,
   "id": "20f619f7-4b0c-44d4-be0b-a8783b697979",
   "metadata": {
    "tags": []
   },
   "outputs": [
    {
     "data": {
      "text/html": [
       "<div>\n",
       "<style scoped>\n",
       "    .dataframe tbody tr th:only-of-type {\n",
       "        vertical-align: middle;\n",
       "    }\n",
       "\n",
       "    .dataframe tbody tr th {\n",
       "        vertical-align: top;\n",
       "    }\n",
       "\n",
       "    .dataframe thead th {\n",
       "        text-align: right;\n",
       "    }\n",
       "</style>\n",
       "<table border=\"1\" class=\"dataframe\">\n",
       "  <thead>\n",
       "    <tr style=\"text-align: right;\">\n",
       "      <th></th>\n",
       "      <th>text</th>\n",
       "      <th>airline_sentiment</th>\n",
       "    </tr>\n",
       "  </thead>\n",
       "  <tbody>\n",
       "    <tr>\n",
       "      <th>11149</th>\n",
       "      <td>@USAirways @americanair I feel sorry for AA</td>\n",
       "      <td>negative</td>\n",
       "    </tr>\n",
       "    <tr>\n",
       "      <th>142</th>\n",
       "      <td>@VirginAmerica Can you find us a flt out of LA...</td>\n",
       "      <td>neutral</td>\n",
       "    </tr>\n",
       "    <tr>\n",
       "      <th>1405</th>\n",
       "      <td>@united maybemange the airline alittlebetter. ...</td>\n",
       "      <td>negative</td>\n",
       "    </tr>\n",
       "    <tr>\n",
       "      <th>13024</th>\n",
       "      <td>@AmericanAir, I've tried no less than 8 times ...</td>\n",
       "      <td>negative</td>\n",
       "    </tr>\n",
       "    <tr>\n",
       "      <th>8992</th>\n",
       "      <td>@USAirways Said only way to get on plane about...</td>\n",
       "      <td>negative</td>\n",
       "    </tr>\n",
       "    <tr>\n",
       "      <th>...</th>\n",
       "      <td>...</td>\n",
       "      <td>...</td>\n",
       "    </tr>\n",
       "    <tr>\n",
       "      <th>7409</th>\n",
       "      <td>@JetBlue Usually I have such a great experienc...</td>\n",
       "      <td>negative</td>\n",
       "    </tr>\n",
       "    <tr>\n",
       "      <th>3325</th>\n",
       "      <td>@united Club DEN, East or West, both are disgu...</td>\n",
       "      <td>negative</td>\n",
       "    </tr>\n",
       "    <tr>\n",
       "      <th>9606</th>\n",
       "      <td>“@USAirways: @hegshmeg O” thank you for that e...</td>\n",
       "      <td>positive</td>\n",
       "    </tr>\n",
       "    <tr>\n",
       "      <th>5787</th>\n",
       "      <td>@SouthwestAir give me tickets to atlanta! I wo...</td>\n",
       "      <td>neutral</td>\n",
       "    </tr>\n",
       "    <tr>\n",
       "      <th>14155</th>\n",
       "      <td>@AmericanAir all flights Cancelled Flighted to...</td>\n",
       "      <td>negative</td>\n",
       "    </tr>\n",
       "  </tbody>\n",
       "</table>\n",
       "<p>11712 rows × 2 columns</p>\n",
       "</div>"
      ],
      "text/plain": [
       "                                                    text airline_sentiment\n",
       "11149        @USAirways @americanair I feel sorry for AA          negative\n",
       "142    @VirginAmerica Can you find us a flt out of LA...           neutral\n",
       "1405   @united maybemange the airline alittlebetter. ...          negative\n",
       "13024  @AmericanAir, I've tried no less than 8 times ...          negative\n",
       "8992   @USAirways Said only way to get on plane about...          negative\n",
       "...                                                  ...               ...\n",
       "7409   @JetBlue Usually I have such a great experienc...          negative\n",
       "3325   @united Club DEN, East or West, both are disgu...          negative\n",
       "9606   “@USAirways: @hegshmeg O” thank you for that e...          positive\n",
       "5787   @SouthwestAir give me tickets to atlanta! I wo...           neutral\n",
       "14155  @AmericanAir all flights Cancelled Flighted to...          negative\n",
       "\n",
       "[11712 rows x 2 columns]"
      ]
     },
     "execution_count": 62,
     "metadata": {},
     "output_type": "execute_result"
    },
    {
     "name": "stdout",
     "output_type": "stream",
     "text": [
      "[CV] END learning_rate=0.5, max_depth=4, n_estimators=160, reg_lambda=5; total time=   8.8s\n",
      "[CV] END learning_rate=0.5, max_depth=4, n_estimators=80, reg_lambda=1; total time=   5.2s\n",
      "[CV] END learning_rate=0.5, max_depth=4, n_estimators=80, reg_lambda=5; total time=   5.0s\n",
      "[CV] END learning_rate=0.5, max_depth=4, n_estimators=120, reg_lambda=1; total time=   6.8s\n",
      "[CV] END learning_rate=0.5, max_depth=4, n_estimators=120, reg_lambda=5; total time=   7.1s\n",
      "[CV] END learning_rate=0.5, max_depth=4, n_estimators=160, reg_lambda=1; total time=   8.2s\n",
      "[CV] END learning_rate=0.5, max_depth=4, n_estimators=160, reg_lambda=1; total time=   7.5s\n",
      "[CV] END learning_rate=0.5, max_depth=4, n_estimators=160, reg_lambda=5; total time=   8.0s\n",
      "[CV] END learning_rate=0.5, max_depth=4, n_estimators=160, reg_lambda=5; total time=   8.3s\n",
      "[CV] END learning_rate=0.5, max_depth=4, n_estimators=160, reg_lambda=5; total time=   4.7s\n"
     ]
    }
   ],
   "source": [
    "df_train[['text', 'airline_sentiment']]"
   ]
  },
  {
   "cell_type": "code",
   "execution_count": null,
   "id": "7ffea662-b986-4e32-8243-cad4764df29a",
   "metadata": {},
   "outputs": [],
   "source": []
  },
  {
   "cell_type": "code",
   "execution_count": 2,
   "id": "af78858c-6318-441e-8091-3a9f795bf10d",
   "metadata": {
    "tags": []
   },
   "outputs": [],
   "source": [
    "import tensorflow_hub as hub\n",
    "import tensorflow as tf\n",
    "url = 'https://tfhub.dev/tensorflow/bert_en_uncased_L-12_H-768_A-12/4'"
   ]
  },
  {
   "cell_type": "code",
   "execution_count": 3,
   "id": "7952e84b-894c-443f-b71a-58c2b7b72a59",
   "metadata": {
    "tags": []
   },
   "outputs": [],
   "source": [
    "encoder = hub.load(url)"
   ]
  },
  {
   "cell_type": "code",
   "execution_count": 5,
   "id": "affc92f4-f8ca-4c30-810b-bfd1a1d70fff",
   "metadata": {
    "tags": []
   },
   "outputs": [],
   "source": [
    "mlm = hub.KerasLayer(encoder.mlm, trainable=True)"
   ]
  },
  {
   "cell_type": "code",
   "execution_count": 6,
   "id": "b86c1d38-c309-41d8-af24-296c6864fcab",
   "metadata": {
    "tags": []
   },
   "outputs": [],
   "source": [
    "encoder_layer = hub.KerasLayer(\n",
    "    \"https://tfhub.dev/tensorflow/bert_en_uncased_L-12_H-768_A-12/4\",\n",
    "    trainable=True)"
   ]
  },
  {
   "cell_type": "code",
   "execution_count": 8,
   "id": "4b809721-a46f-4365-a79e-f4dac0a2dc4b",
   "metadata": {
    "tags": []
   },
   "outputs": [
    {
     "name": "stdout",
     "output_type": "stream",
     "text": [
      "\u001b[31mERROR: Could not find a version that satisfies the requirement tensorflow_text (from versions: none)\u001b[0m\n",
      "\u001b[31mERROR: No matching distribution found for tensorflow_text\u001b[0m\n"
     ]
    }
   ],
   "source": [
    "!pip install tensorflow_text\n"
   ]
  },
  {
   "cell_type": "code",
   "execution_count": 4,
   "id": "12dad27c-9345-4f8a-a132-7494510db96b",
   "metadata": {
    "tags": []
   },
   "outputs": [
    {
     "ename": "RuntimeError",
     "evalue": "Op type not registered 'CaseFoldUTF8' in binary running on yuchen-jiang2--G91GK77VJP. Make sure the Op and Kernel are registered in the binary running in this process. Note that if you are loading a saved graph which used ops from tf.contrib, accessing (e.g.) `tf.contrib.resampler` should be done before importing the graph, as contrib ops are lazily registered when the module is first accessed.",
     "output_type": "error",
     "traceback": [
      "\u001b[0;31m---------------------------------------------------------------------------\u001b[0m",
      "\u001b[0;31mKeyError\u001b[0m                                  Traceback (most recent call last)",
      "File \u001b[0;32m~/personal/repos/playground/env/lib/python3.8/site-packages/tensorflow/python/framework/ops.py:3746\u001b[0m, in \u001b[0;36mGraph.op_def_for_type\u001b[0;34m(self, type)\u001b[0m\n\u001b[1;32m   3745\u001b[0m \u001b[38;5;28;01mtry\u001b[39;00m:\n\u001b[0;32m-> 3746\u001b[0m   \u001b[38;5;28;01mreturn\u001b[39;00m \u001b[38;5;28;43mself\u001b[39;49m\u001b[38;5;241;43m.\u001b[39;49m\u001b[43m_op_def_cache\u001b[49m\u001b[43m[\u001b[49m\u001b[38;5;28;43mtype\u001b[39;49m\u001b[43m]\u001b[49m\n\u001b[1;32m   3747\u001b[0m \u001b[38;5;28;01mexcept\u001b[39;00m \u001b[38;5;167;01mKeyError\u001b[39;00m:\n",
      "\u001b[0;31mKeyError\u001b[0m: 'CaseFoldUTF8'",
      "\nDuring handling of the above exception, another exception occurred:\n",
      "\u001b[0;31mRuntimeError\u001b[0m                              Traceback (most recent call last)",
      "Cell \u001b[0;32mIn[4], line 2\u001b[0m\n\u001b[1;32m      1\u001b[0m text_input \u001b[38;5;241m=\u001b[39m tf\u001b[38;5;241m.\u001b[39mkeras\u001b[38;5;241m.\u001b[39mlayers\u001b[38;5;241m.\u001b[39mInput(shape\u001b[38;5;241m=\u001b[39m(), dtype\u001b[38;5;241m=\u001b[39mtf\u001b[38;5;241m.\u001b[39mstring)\n\u001b[0;32m----> 2\u001b[0m preprocessor \u001b[38;5;241m=\u001b[39m \u001b[43mhub\u001b[49m\u001b[38;5;241;43m.\u001b[39;49m\u001b[43mKerasLayer\u001b[49m\u001b[43m(\u001b[49m\n\u001b[1;32m      3\u001b[0m \u001b[43m    \u001b[49m\u001b[38;5;124;43m\"\u001b[39;49m\u001b[38;5;124;43mhttps://tfhub.dev/tensorflow/bert_en_uncased_preprocess/3\u001b[39;49m\u001b[38;5;124;43m\"\u001b[39;49m\u001b[43m)\u001b[49m\n\u001b[1;32m      4\u001b[0m encoder_inputs \u001b[38;5;241m=\u001b[39m preprocessor(text_input)\n\u001b[1;32m      5\u001b[0m encoder \u001b[38;5;241m=\u001b[39m hub\u001b[38;5;241m.\u001b[39mKerasLayer(\n\u001b[1;32m      6\u001b[0m     \u001b[38;5;124m\"\u001b[39m\u001b[38;5;124mhttps://tfhub.dev/tensorflow/bert_en_uncased_L-12_H-768_A-12/4\u001b[39m\u001b[38;5;124m\"\u001b[39m,\n\u001b[1;32m      7\u001b[0m     trainable\u001b[38;5;241m=\u001b[39m\u001b[38;5;28;01mTrue\u001b[39;00m)\n",
      "File \u001b[0;32m~/personal/repos/playground/env/lib/python3.8/site-packages/tensorflow_hub/keras_layer.py:157\u001b[0m, in \u001b[0;36mKerasLayer.__init__\u001b[0;34m(self, handle, trainable, arguments, _sentinel, tags, signature, signature_outputs_as_dict, output_key, output_shape, load_options, **kwargs)\u001b[0m\n\u001b[1;32m    153\u001b[0m   \u001b[38;5;28mself\u001b[39m\u001b[38;5;241m.\u001b[39m_output_shape \u001b[38;5;241m=\u001b[39m data_structures\u001b[38;5;241m.\u001b[39mNoDependency(\n\u001b[1;32m    154\u001b[0m       _convert_nest_to_shapes(output_shape))\n\u001b[1;32m    156\u001b[0m \u001b[38;5;28mself\u001b[39m\u001b[38;5;241m.\u001b[39m_load_options \u001b[38;5;241m=\u001b[39m load_options\n\u001b[0;32m--> 157\u001b[0m \u001b[38;5;28mself\u001b[39m\u001b[38;5;241m.\u001b[39m_func \u001b[38;5;241m=\u001b[39m \u001b[43mload_module\u001b[49m\u001b[43m(\u001b[49m\u001b[43mhandle\u001b[49m\u001b[43m,\u001b[49m\u001b[43m \u001b[49m\u001b[43mtags\u001b[49m\u001b[43m,\u001b[49m\u001b[43m \u001b[49m\u001b[38;5;28;43mself\u001b[39;49m\u001b[38;5;241;43m.\u001b[39;49m\u001b[43m_load_options\u001b[49m\u001b[43m)\u001b[49m\n\u001b[1;32m    158\u001b[0m \u001b[38;5;28mself\u001b[39m\u001b[38;5;241m.\u001b[39m_is_hub_module_v1 \u001b[38;5;241m=\u001b[39m \u001b[38;5;28mgetattr\u001b[39m(\u001b[38;5;28mself\u001b[39m\u001b[38;5;241m.\u001b[39m_func, \u001b[38;5;124m\"\u001b[39m\u001b[38;5;124m_is_hub_module_v1\u001b[39m\u001b[38;5;124m\"\u001b[39m, \u001b[38;5;28;01mFalse\u001b[39;00m)\n\u001b[1;32m    160\u001b[0m \u001b[38;5;66;03m# Update with the defaults when using legacy TF1 Hub format.\u001b[39;00m\n",
      "File \u001b[0;32m~/personal/repos/playground/env/lib/python3.8/site-packages/tensorflow_hub/keras_layer.py:459\u001b[0m, in \u001b[0;36mload_module\u001b[0;34m(handle, tags, load_options)\u001b[0m\n\u001b[1;32m    457\u001b[0m     \u001b[38;5;28;01mexcept\u001b[39;00m \u001b[38;5;167;01mImportError\u001b[39;00m:  \u001b[38;5;66;03m# Expected before TF2.4.\u001b[39;00m\n\u001b[1;32m    458\u001b[0m       set_load_options \u001b[38;5;241m=\u001b[39m load_options\n\u001b[0;32m--> 459\u001b[0m \u001b[38;5;28;01mreturn\u001b[39;00m \u001b[43mmodule_v2\u001b[49m\u001b[38;5;241;43m.\u001b[39;49m\u001b[43mload\u001b[49m\u001b[43m(\u001b[49m\u001b[43mhandle\u001b[49m\u001b[43m,\u001b[49m\u001b[43m \u001b[49m\u001b[43mtags\u001b[49m\u001b[38;5;241;43m=\u001b[39;49m\u001b[43mtags\u001b[49m\u001b[43m,\u001b[49m\u001b[43m \u001b[49m\u001b[43moptions\u001b[49m\u001b[38;5;241;43m=\u001b[39;49m\u001b[43mset_load_options\u001b[49m\u001b[43m)\u001b[49m\n",
      "File \u001b[0;32m~/personal/repos/playground/env/lib/python3.8/site-packages/tensorflow_hub/module_v2.py:120\u001b[0m, in \u001b[0;36mload\u001b[0;34m(handle, tags, options)\u001b[0m\n\u001b[1;32m    117\u001b[0m   obj \u001b[38;5;241m=\u001b[39m tf\u001b[38;5;241m.\u001b[39mcompat\u001b[38;5;241m.\u001b[39mv1\u001b[38;5;241m.\u001b[39msaved_model\u001b[38;5;241m.\u001b[39mload_v2(\n\u001b[1;32m    118\u001b[0m       module_path, tags\u001b[38;5;241m=\u001b[39mtags, options\u001b[38;5;241m=\u001b[39moptions)\n\u001b[1;32m    119\u001b[0m \u001b[38;5;28;01melse\u001b[39;00m:\n\u001b[0;32m--> 120\u001b[0m   obj \u001b[38;5;241m=\u001b[39m \u001b[43mtf\u001b[49m\u001b[38;5;241;43m.\u001b[39;49m\u001b[43mcompat\u001b[49m\u001b[38;5;241;43m.\u001b[39;49m\u001b[43mv1\u001b[49m\u001b[38;5;241;43m.\u001b[39;49m\u001b[43msaved_model\u001b[49m\u001b[38;5;241;43m.\u001b[39;49m\u001b[43mload_v2\u001b[49m\u001b[43m(\u001b[49m\u001b[43mmodule_path\u001b[49m\u001b[43m,\u001b[49m\u001b[43m \u001b[49m\u001b[43mtags\u001b[49m\u001b[38;5;241;43m=\u001b[39;49m\u001b[43mtags\u001b[49m\u001b[43m)\u001b[49m\n\u001b[1;32m    121\u001b[0m obj\u001b[38;5;241m.\u001b[39m_is_hub_module_v1 \u001b[38;5;241m=\u001b[39m is_hub_module_v1  \u001b[38;5;66;03m# pylint: disable=protected-access\u001b[39;00m\n\u001b[1;32m    122\u001b[0m \u001b[38;5;28;01mreturn\u001b[39;00m obj\n",
      "File \u001b[0;32m~/personal/repos/playground/env/lib/python3.8/site-packages/tensorflow/python/saved_model/load.py:858\u001b[0m, in \u001b[0;36mload\u001b[0;34m(export_dir, tags, options)\u001b[0m\n\u001b[1;32m    856\u001b[0m \u001b[38;5;28;01mif\u001b[39;00m \u001b[38;5;28misinstance\u001b[39m(export_dir, os\u001b[38;5;241m.\u001b[39mPathLike):\n\u001b[1;32m    857\u001b[0m   export_dir \u001b[38;5;241m=\u001b[39m os\u001b[38;5;241m.\u001b[39mfspath(export_dir)\n\u001b[0;32m--> 858\u001b[0m result \u001b[38;5;241m=\u001b[39m \u001b[43mload_partial\u001b[49m\u001b[43m(\u001b[49m\u001b[43mexport_dir\u001b[49m\u001b[43m,\u001b[49m\u001b[43m \u001b[49m\u001b[38;5;28;43;01mNone\u001b[39;49;00m\u001b[43m,\u001b[49m\u001b[43m \u001b[49m\u001b[43mtags\u001b[49m\u001b[43m,\u001b[49m\u001b[43m \u001b[49m\u001b[43moptions\u001b[49m\u001b[43m)\u001b[49m[\u001b[38;5;124m\"\u001b[39m\u001b[38;5;124mroot\u001b[39m\u001b[38;5;124m\"\u001b[39m]\n\u001b[1;32m    859\u001b[0m \u001b[38;5;28;01mreturn\u001b[39;00m result\n",
      "File \u001b[0;32m~/personal/repos/playground/env/lib/python3.8/site-packages/tensorflow/python/saved_model/load.py:988\u001b[0m, in \u001b[0;36mload_partial\u001b[0;34m(export_dir, filters, tags, options)\u001b[0m\n\u001b[1;32m    986\u001b[0m \u001b[38;5;28;01mwith\u001b[39;00m ops\u001b[38;5;241m.\u001b[39minit_scope():\n\u001b[1;32m    987\u001b[0m   \u001b[38;5;28;01mtry\u001b[39;00m:\n\u001b[0;32m--> 988\u001b[0m     loader \u001b[38;5;241m=\u001b[39m \u001b[43mLoader\u001b[49m\u001b[43m(\u001b[49m\u001b[43mobject_graph_proto\u001b[49m\u001b[43m,\u001b[49m\u001b[43m \u001b[49m\u001b[43msaved_model_proto\u001b[49m\u001b[43m,\u001b[49m\u001b[43m \u001b[49m\u001b[43mexport_dir\u001b[49m\u001b[43m,\u001b[49m\n\u001b[1;32m    989\u001b[0m \u001b[43m                    \u001b[49m\u001b[43mckpt_options\u001b[49m\u001b[43m,\u001b[49m\u001b[43m \u001b[49m\u001b[43moptions\u001b[49m\u001b[43m,\u001b[49m\u001b[43m \u001b[49m\u001b[43mfilters\u001b[49m\u001b[43m)\u001b[49m\n\u001b[1;32m    990\u001b[0m   \u001b[38;5;28;01mexcept\u001b[39;00m errors\u001b[38;5;241m.\u001b[39mNotFoundError \u001b[38;5;28;01mas\u001b[39;00m err:\n\u001b[1;32m    991\u001b[0m     \u001b[38;5;28;01mraise\u001b[39;00m \u001b[38;5;167;01mFileNotFoundError\u001b[39;00m(\n\u001b[1;32m    992\u001b[0m         \u001b[38;5;28mstr\u001b[39m(err) \u001b[38;5;241m+\u001b[39m \u001b[38;5;124m\"\u001b[39m\u001b[38;5;130;01m\\n\u001b[39;00m\u001b[38;5;124m You may be trying to load on a different device \u001b[39m\u001b[38;5;124m\"\u001b[39m\n\u001b[1;32m    993\u001b[0m         \u001b[38;5;124m\"\u001b[39m\u001b[38;5;124mfrom the computational device. Consider setting the \u001b[39m\u001b[38;5;124m\"\u001b[39m\n\u001b[1;32m    994\u001b[0m         \u001b[38;5;124m\"\u001b[39m\u001b[38;5;124m`experimental_io_device` option in `tf.saved_model.LoadOptions` \u001b[39m\u001b[38;5;124m\"\u001b[39m\n\u001b[1;32m    995\u001b[0m         \u001b[38;5;124m\"\u001b[39m\u001b[38;5;124mto the io_device such as \u001b[39m\u001b[38;5;124m'\u001b[39m\u001b[38;5;124m/job:localhost\u001b[39m\u001b[38;5;124m'\u001b[39m\u001b[38;5;124m.\u001b[39m\u001b[38;5;124m\"\u001b[39m)\n",
      "File \u001b[0;32m~/personal/repos/playground/env/lib/python3.8/site-packages/tensorflow/python/saved_model/load.py:161\u001b[0m, in \u001b[0;36mLoader.__init__\u001b[0;34m(self, object_graph_proto, saved_model_proto, export_dir, ckpt_options, save_options, filters)\u001b[0m\n\u001b[1;32m    158\u001b[0m \u001b[38;5;28mself\u001b[39m\u001b[38;5;241m.\u001b[39m_proto \u001b[38;5;241m=\u001b[39m object_graph_proto\n\u001b[1;32m    159\u001b[0m \u001b[38;5;28mself\u001b[39m\u001b[38;5;241m.\u001b[39m_export_dir \u001b[38;5;241m=\u001b[39m export_dir\n\u001b[1;32m    160\u001b[0m \u001b[38;5;28mself\u001b[39m\u001b[38;5;241m.\u001b[39m_concrete_functions \u001b[38;5;241m=\u001b[39m (\n\u001b[0;32m--> 161\u001b[0m     \u001b[43mfunction_deserialization\u001b[49m\u001b[38;5;241;43m.\u001b[39;49m\u001b[43mload_function_def_library\u001b[49m\u001b[43m(\u001b[49m\n\u001b[1;32m    162\u001b[0m \u001b[43m        \u001b[49m\u001b[43mlibrary\u001b[49m\u001b[38;5;241;43m=\u001b[39;49m\u001b[43mmeta_graph\u001b[49m\u001b[38;5;241;43m.\u001b[39;49m\u001b[43mgraph_def\u001b[49m\u001b[38;5;241;43m.\u001b[39;49m\u001b[43mlibrary\u001b[49m\u001b[43m,\u001b[49m\n\u001b[1;32m    163\u001b[0m \u001b[43m        \u001b[49m\u001b[43msaved_object_graph\u001b[49m\u001b[38;5;241;43m=\u001b[39;49m\u001b[38;5;28;43mself\u001b[39;49m\u001b[38;5;241;43m.\u001b[39;49m\u001b[43m_proto\u001b[49m\u001b[43m,\u001b[49m\n\u001b[1;32m    164\u001b[0m \u001b[43m        \u001b[49m\u001b[43mwrapper_function\u001b[49m\u001b[38;5;241;43m=\u001b[39;49m\u001b[43m_WrapperFunction\u001b[49m\u001b[43m)\u001b[49m)\n\u001b[1;32m    165\u001b[0m \u001b[38;5;66;03m# Store a set of all concrete functions that have been set up with\u001b[39;00m\n\u001b[1;32m    166\u001b[0m \u001b[38;5;66;03m# captures.\u001b[39;00m\n\u001b[1;32m    167\u001b[0m \u001b[38;5;28mself\u001b[39m\u001b[38;5;241m.\u001b[39m_restored_concrete_functions \u001b[38;5;241m=\u001b[39m \u001b[38;5;28mset\u001b[39m()\n",
      "File \u001b[0;32m~/personal/repos/playground/env/lib/python3.8/site-packages/tensorflow/python/saved_model/function_deserialization.py:422\u001b[0m, in \u001b[0;36mload_function_def_library\u001b[0;34m(library, saved_object_graph, load_shared_name_suffix, wrapper_function)\u001b[0m\n\u001b[1;32m    416\u001b[0m \u001b[38;5;66;03m# There is no need to copy all functions into the function def graph. It\u001b[39;00m\n\u001b[1;32m    417\u001b[0m \u001b[38;5;66;03m# leads to a O(n^2) increase of memory when importing functions and the\u001b[39;00m\n\u001b[1;32m    418\u001b[0m \u001b[38;5;66;03m# extra function definitions are a no-op since they already imported as a\u001b[39;00m\n\u001b[1;32m    419\u001b[0m \u001b[38;5;66;03m# function before and passed in explicitly (due to the topologic sort\u001b[39;00m\n\u001b[1;32m    420\u001b[0m \u001b[38;5;66;03m# import).\u001b[39;00m\n\u001b[1;32m    421\u001b[0m \u001b[38;5;28;01mwith\u001b[39;00m graph\u001b[38;5;241m.\u001b[39mas_default():\n\u001b[0;32m--> 422\u001b[0m   func_graph \u001b[38;5;241m=\u001b[39m \u001b[43mfunction_def_lib\u001b[49m\u001b[38;5;241;43m.\u001b[39;49m\u001b[43mfunction_def_to_graph\u001b[49m\u001b[43m(\u001b[49m\n\u001b[1;32m    423\u001b[0m \u001b[43m      \u001b[49m\u001b[43mfdef\u001b[49m\u001b[43m,\u001b[49m\n\u001b[1;32m    424\u001b[0m \u001b[43m      \u001b[49m\u001b[43mstructured_input_signature\u001b[49m\u001b[38;5;241;43m=\u001b[39;49m\u001b[43mstructured_input_signature\u001b[49m\u001b[43m,\u001b[49m\n\u001b[1;32m    425\u001b[0m \u001b[43m      \u001b[49m\u001b[43mstructured_outputs\u001b[49m\u001b[38;5;241;43m=\u001b[39;49m\u001b[43mstructured_outputs\u001b[49m\u001b[43m)\u001b[49m\n\u001b[1;32m    426\u001b[0m \u001b[38;5;66;03m# Restores gradients for function-call ops (not the same as ops that use\u001b[39;00m\n\u001b[1;32m    427\u001b[0m \u001b[38;5;66;03m# custom gradients)\u001b[39;00m\n\u001b[1;32m    428\u001b[0m _restore_gradient_functions(func_graph, renamed_functions, loaded_gradients)\n",
      "File \u001b[0;32m~/personal/repos/playground/env/lib/python3.8/site-packages/tensorflow/python/framework/function_def_to_graph.py:91\u001b[0m, in \u001b[0;36mfunction_def_to_graph\u001b[0;34m(fdef, structured_input_signature, structured_outputs, input_shapes, propagate_device_spec, include_library_functions)\u001b[0m\n\u001b[1;32m     88\u001b[0m       \u001b[38;5;28;01melse\u001b[39;00m:\n\u001b[1;32m     89\u001b[0m         input_shapes\u001b[38;5;241m.\u001b[39mappend(input_shape)\n\u001b[0;32m---> 91\u001b[0m graph_def, nested_to_flat_tensor_name \u001b[38;5;241m=\u001b[39m \u001b[43mfunction_def_to_graph_def\u001b[49m\u001b[43m(\u001b[49m\n\u001b[1;32m     92\u001b[0m \u001b[43m    \u001b[49m\u001b[43mfdef\u001b[49m\u001b[43m,\u001b[49m\u001b[43m \u001b[49m\u001b[43minput_shapes\u001b[49m\u001b[43m,\u001b[49m\u001b[43m \u001b[49m\u001b[43minclude_library_functions\u001b[49m\u001b[38;5;241;43m=\u001b[39;49m\u001b[43minclude_library_functions\u001b[49m\n\u001b[1;32m     93\u001b[0m \u001b[43m\u001b[49m\u001b[43m)\u001b[49m\n\u001b[1;32m     95\u001b[0m \u001b[38;5;28;01mwith\u001b[39;00m func_graph\u001b[38;5;241m.\u001b[39mas_default():\n\u001b[1;32m     96\u001b[0m   \u001b[38;5;66;03m# Add all function nodes to the graph.\u001b[39;00m\n\u001b[1;32m     97\u001b[0m   importer\u001b[38;5;241m.\u001b[39mimport_graph_def_for_function(\n\u001b[1;32m     98\u001b[0m       graph_def, name\u001b[38;5;241m=\u001b[39m\u001b[38;5;124m\"\u001b[39m\u001b[38;5;124m\"\u001b[39m, propagate_device_spec\u001b[38;5;241m=\u001b[39mpropagate_device_spec)\n",
      "File \u001b[0;32m~/personal/repos/playground/env/lib/python3.8/site-packages/tensorflow/python/framework/function_def_to_graph.py:330\u001b[0m, in \u001b[0;36mfunction_def_to_graph_def\u001b[0;34m(fdef, input_shapes, include_library_functions)\u001b[0m\n\u001b[1;32m    328\u001b[0m       graph_def\u001b[38;5;241m.\u001b[39mlibrary\u001b[38;5;241m.\u001b[39mgradient\u001b[38;5;241m.\u001b[39mextend([grad_def])\n\u001b[1;32m    329\u001b[0m \u001b[38;5;28;01melse\u001b[39;00m:\n\u001b[0;32m--> 330\u001b[0m   op_def \u001b[38;5;241m=\u001b[39m \u001b[43mdefault_graph\u001b[49m\u001b[38;5;241;43m.\u001b[39;49m\u001b[43mop_def_for_type\u001b[49m\u001b[43m(\u001b[49m\u001b[43mnode_def\u001b[49m\u001b[38;5;241;43m.\u001b[39;49m\u001b[43mop\u001b[49m\u001b[43m)\u001b[49m  \u001b[38;5;66;03m# pylint: disable=protected-access\u001b[39;00m\n\u001b[1;32m    332\u001b[0m \u001b[38;5;28;01mfor\u001b[39;00m attr \u001b[38;5;129;01min\u001b[39;00m op_def\u001b[38;5;241m.\u001b[39mattr:\n\u001b[1;32m    333\u001b[0m   \u001b[38;5;28;01mif\u001b[39;00m attr\u001b[38;5;241m.\u001b[39mtype \u001b[38;5;241m==\u001b[39m \u001b[38;5;124m\"\u001b[39m\u001b[38;5;124mfunc\u001b[39m\u001b[38;5;124m\"\u001b[39m:\n",
      "File \u001b[0;32m~/personal/repos/playground/env/lib/python3.8/site-packages/tensorflow/python/framework/ops.py:3749\u001b[0m, in \u001b[0;36mGraph.op_def_for_type\u001b[0;34m(self, type)\u001b[0m\n\u001b[1;32m   3746\u001b[0m   \u001b[38;5;28;01mreturn\u001b[39;00m \u001b[38;5;28mself\u001b[39m\u001b[38;5;241m.\u001b[39m_op_def_cache[\u001b[38;5;28mtype\u001b[39m]\n\u001b[1;32m   3747\u001b[0m \u001b[38;5;28;01mexcept\u001b[39;00m \u001b[38;5;167;01mKeyError\u001b[39;00m:\n\u001b[1;32m   3748\u001b[0m   \u001b[38;5;28mself\u001b[39m\u001b[38;5;241m.\u001b[39m_op_def_cache[\u001b[38;5;28mtype\u001b[39m] \u001b[38;5;241m=\u001b[39m op_def_pb2\u001b[38;5;241m.\u001b[39mOpDef\u001b[38;5;241m.\u001b[39mFromString(\n\u001b[0;32m-> 3749\u001b[0m       \u001b[38;5;28;43mself\u001b[39;49m\u001b[38;5;241;43m.\u001b[39;49m\u001b[43m_op_def_for_type\u001b[49m\u001b[43m(\u001b[49m\u001b[38;5;28;43mtype\u001b[39;49m\u001b[43m)\u001b[49m\n\u001b[1;32m   3750\u001b[0m   )\n\u001b[1;32m   3751\u001b[0m   \u001b[38;5;28;01mreturn\u001b[39;00m \u001b[38;5;28mself\u001b[39m\u001b[38;5;241m.\u001b[39m_op_def_cache[\u001b[38;5;28mtype\u001b[39m]\n",
      "\u001b[0;31mRuntimeError\u001b[0m: Op type not registered 'CaseFoldUTF8' in binary running on yuchen-jiang2--G91GK77VJP. Make sure the Op and Kernel are registered in the binary running in this process. Note that if you are loading a saved graph which used ops from tf.contrib, accessing (e.g.) `tf.contrib.resampler` should be done before importing the graph, as contrib ops are lazily registered when the module is first accessed."
     ]
    }
   ],
   "source": [
    "text_input = tf.keras.layers.Input(shape=(), dtype=tf.string)\n",
    "preprocessor = hub.KerasLayer(\n",
    "    \"https://tfhub.dev/tensorflow/bert_en_uncased_preprocess/3\")\n",
    "encoder_inputs = preprocessor(text_input)\n",
    "encoder = hub.KerasLayer(\n",
    "    \"https://tfhub.dev/tensorflow/bert_en_uncased_L-12_H-768_A-12/4\",\n",
    "    trainable=True)\n",
    "outputs = encoder(encoder_inputs)\n",
    "pooled_output = outputs[\"pooled_output\"]      # [batch_size, 768].\n",
    "sequence_output = outputs[\"sequence_output\"]  # [batch_size, seq_length, 768].\n"
   ]
  },
  {
   "cell_type": "code",
   "execution_count": null,
   "id": "9b50dcb0-d1b6-44d0-9b77-899f59ccc0a2",
   "metadata": {},
   "outputs": [],
   "source": []
  }
 ],
 "metadata": {
  "kernelspec": {
   "display_name": "Python 3 (ipykernel)",
   "language": "python",
   "name": "python3"
  },
  "language_info": {
   "codemirror_mode": {
    "name": "ipython",
    "version": 3
   },
   "file_extension": ".py",
   "mimetype": "text/x-python",
   "name": "python",
   "nbconvert_exporter": "python",
   "pygments_lexer": "ipython3",
   "version": "3.8.12"
  }
 },
 "nbformat": 4,
 "nbformat_minor": 5
}
