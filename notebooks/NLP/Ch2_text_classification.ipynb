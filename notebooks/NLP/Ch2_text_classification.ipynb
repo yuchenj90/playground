{
 "cells": [
  {
   "cell_type": "markdown",
   "id": "24666631-20c5-4d14-a16b-db2095d78d74",
   "metadata": {
    "tags": []
   },
   "source": [
    "# Load dataset"
   ]
  },
  {
   "cell_type": "code",
   "execution_count": 36,
   "id": "ec2790f3-5b38-41cd-9e44-ffaa562c9c6c",
   "metadata": {
    "tags": []
   },
   "outputs": [
    {
     "name": "stdout",
     "output_type": "stream",
     "text": [
      "135127\n",
      "['acronym_identification', 'ade_corpus_v2', 'UCLNLP/adversarial_qa', 'aeslc', 'afrikaans_ner_corpus', 'ag_news', 'allenai/ai2_arc', 'air_dialogue', 'ajgt_twitter_ar', 'allegro_reviews']\n"
     ]
    }
   ],
   "source": [
    "from datasets import list_datasets\n",
    "all_datasets = list_datasets()\n",
    "print(len(all_datasets))\n",
    "print(all_datasets[:10])"
   ]
  },
  {
   "cell_type": "code",
   "execution_count": 198,
   "id": "e05e45d3-1a4d-4115-a340-325847e1b5c2",
   "metadata": {
    "tags": []
   },
   "outputs": [
    {
     "data": {
      "text/plain": [
       "DatasetDict({\n",
       "    train: Dataset({\n",
       "        features: ['text', 'label'],\n",
       "        num_rows: 16000\n",
       "    })\n",
       "    validation: Dataset({\n",
       "        features: ['text', 'label'],\n",
       "        num_rows: 2000\n",
       "    })\n",
       "    test: Dataset({\n",
       "        features: ['text', 'label'],\n",
       "        num_rows: 2000\n",
       "    })\n",
       "})"
      ]
     },
     "execution_count": 198,
     "metadata": {},
     "output_type": "execute_result"
    }
   ],
   "source": [
    "from datasets import load_dataset\n",
    "emotions = load_dataset(\"emotion\")\n",
    "emotions"
   ]
  },
  {
   "cell_type": "code",
   "execution_count": 38,
   "id": "0c5c7d72-17e8-45f2-ad78-4c10c148029f",
   "metadata": {
    "tags": []
   },
   "outputs": [
    {
     "name": "stdout",
     "output_type": "stream",
     "text": [
      "16000 {'text': 'i didnt feel humiliated', 'label': 0}\n",
      "{'text': Value(dtype='string', id=None), 'label': ClassLabel(names=['sadness', 'joy', 'love', 'anger', 'fear', 'surprise'], id=None)}\n"
     ]
    }
   ],
   "source": [
    "train_ds = emotions[\"train\"]\n",
    "test_ds = emotions[\"test\"]\n",
    "val_ds = emotions[\"validation\"]\n",
    "print(len(train_ds), train_ds[0])\n",
    "print(train_ds.features)"
   ]
  },
  {
   "cell_type": "code",
   "execution_count": 39,
   "id": "9bdbde87-9872-4ce3-a9f5-1df5ce7188c2",
   "metadata": {
    "tags": []
   },
   "outputs": [
    {
     "data": {
      "text/html": [
       "<div>\n",
       "<style scoped>\n",
       "    .dataframe tbody tr th:only-of-type {\n",
       "        vertical-align: middle;\n",
       "    }\n",
       "\n",
       "    .dataframe tbody tr th {\n",
       "        vertical-align: top;\n",
       "    }\n",
       "\n",
       "    .dataframe thead th {\n",
       "        text-align: right;\n",
       "    }\n",
       "</style>\n",
       "<table border=\"1\" class=\"dataframe\">\n",
       "  <thead>\n",
       "    <tr style=\"text-align: right;\">\n",
       "      <th></th>\n",
       "      <th>text</th>\n",
       "      <th>label</th>\n",
       "      <th>label_name</th>\n",
       "    </tr>\n",
       "  </thead>\n",
       "  <tbody>\n",
       "    <tr>\n",
       "      <th>0</th>\n",
       "      <td>i didnt feel humiliated</td>\n",
       "      <td>0</td>\n",
       "      <td>sadness</td>\n",
       "    </tr>\n",
       "    <tr>\n",
       "      <th>1</th>\n",
       "      <td>i can go from feeling so hopeless to so damned...</td>\n",
       "      <td>0</td>\n",
       "      <td>sadness</td>\n",
       "    </tr>\n",
       "    <tr>\n",
       "      <th>2</th>\n",
       "      <td>im grabbing a minute to post i feel greedy wrong</td>\n",
       "      <td>3</td>\n",
       "      <td>anger</td>\n",
       "    </tr>\n",
       "    <tr>\n",
       "      <th>3</th>\n",
       "      <td>i am ever feeling nostalgic about the fireplac...</td>\n",
       "      <td>2</td>\n",
       "      <td>love</td>\n",
       "    </tr>\n",
       "    <tr>\n",
       "      <th>4</th>\n",
       "      <td>i am feeling grouchy</td>\n",
       "      <td>3</td>\n",
       "      <td>anger</td>\n",
       "    </tr>\n",
       "  </tbody>\n",
       "</table>\n",
       "</div>"
      ],
      "text/plain": [
       "                                                text  label label_name\n",
       "0                            i didnt feel humiliated      0    sadness\n",
       "1  i can go from feeling so hopeless to so damned...      0    sadness\n",
       "2   im grabbing a minute to post i feel greedy wrong      3      anger\n",
       "3  i am ever feeling nostalgic about the fireplac...      2       love\n",
       "4                               i am feeling grouchy      3      anger"
      ]
     },
     "execution_count": 39,
     "metadata": {},
     "output_type": "execute_result"
    }
   ],
   "source": [
    "import pandas as pd\n",
    "emotions.set_format(type=\"pandas\")\n",
    "df = emotions[\"train\"][:]\n",
    "df['label_name'] = df.apply(lambda x: train_ds.features['label'].int2str(x['label']), axis=1)\n",
    "df.head()"
   ]
  },
  {
   "cell_type": "code",
   "execution_count": 40,
   "id": "890a430e-fbb3-4f01-93c9-547ba6766d36",
   "metadata": {
    "tags": []
   },
   "outputs": [
    {
     "data": {
      "text/plain": [
       "<Axes: >"
      ]
     },
     "execution_count": 40,
     "metadata": {},
     "output_type": "execute_result"
    },
    {
     "data": {
      "image/png": "[encoded data removed]",
      "text/plain": [
       "<Figure size 640x480 with 1 Axes>"
      ]
     },
     "metadata": {},
     "output_type": "display_data"
    }
   ],
   "source": [
    "df['label_name'].value_counts().plot.barh()"
   ]
  },
  {
   "cell_type": "code",
   "execution_count": 41,
   "id": "904260d1-b714-4093-9b03-44ec73e4b7d1",
   "metadata": {
    "tags": []
   },
   "outputs": [
    {
     "data": {
      "text/plain": [
       "<Axes: title={'center': 'token per tweet'}, xlabel='label_name'>"
      ]
     },
     "execution_count": 41,
     "metadata": {},
     "output_type": "execute_result"
    },
    {
     "data": {
      "image/png": "[encoded data removed]",
      "text/plain": [
       "<Figure size 640x480 with 1 Axes>"
      ]
     },
     "metadata": {},
     "output_type": "display_data"
    }
   ],
   "source": [
    "df['token per tweet'] = df['text'].str.split().apply(len)\n",
    "df.boxplot('token per tweet', by='label_name')"
   ]
  },
  {
   "cell_type": "markdown",
   "id": "7ab5b290-ef8e-408e-bcf6-9377c185c8b1",
   "metadata": {},
   "source": [
    "# Tokenization"
   ]
  },
  {
   "cell_type": "code",
   "execution_count": 49,
   "id": "66232ea1-6925-4a6f-95c6-f9c97cd9be07",
   "metadata": {
    "tags": []
   },
   "outputs": [
    {
     "name": "stdout",
     "output_type": "stream",
     "text": [
      "vocab size = 30522\n",
      "{'input_ids': [101, 19204, 6026, 3793, 2003, 2019, 6827, 4708, 1999, 17953, 2361, 1012, 2292, 1005, 1055, 2131, 2318, 1012, 102], 'attention_mask': [1, 1, 1, 1, 1, 1, 1, 1, 1, 1, 1, 1, 1, 1, 1, 1, 1, 1, 1]}\n",
      "['[CLS]', 'token', '##izing', 'text', 'is', 'an', 'essential', 'task', 'in', 'nl', '##p', '.', 'let', \"'\", 's', 'get', 'started', '.', '[SEP]']\n",
      "[CLS] tokenizing text is an essential task in nlp. let ' s get started. [SEP]\n"
     ]
    }
   ],
   "source": [
    "# subword tokenization\n",
    "from transformers import AutoTokenizer\n",
    "model_ckpt = \"distilbert-base-uncased\"\n",
    "tokenizer = AutoTokenizer.from_pretrained(model_ckpt)\n",
    "print(f\"vocab size = {tokenizer.vocab_size}\")\n",
    "\n",
    "example_text = \"Tokenizing text is an essential task in NLP. Let's get started.\"\n",
    "encoded_text = tokenizer(example_text)\n",
    "print(encoded_text)\n",
    "print(tokenizer.convert_ids_to_tokens(encoded_text.input_ids))\n",
    "print(tokenizer.convert_tokens_to_string(tokenizer.convert_ids_to_tokens(encoded_text.input_ids)))"
   ]
  },
  {
   "cell_type": "code",
   "execution_count": 84,
   "id": "a309c2bd-b0e5-4e34-abae-f40edc163c66",
   "metadata": {
    "tags": []
   },
   "outputs": [],
   "source": [
    "encoded_text.update({'label':1})"
   ]
  },
  {
   "cell_type": "code",
   "execution_count": 85,
   "id": "82344538-3fc6-4ca7-94d9-4e686754edcc",
   "metadata": {
    "tags": []
   },
   "outputs": [
    {
     "data": {
      "text/plain": [
       "{'input_ids': [101, 19204, 6026, 3793, 2003, 2019, 6827, 4708, 1999, 17953, 2361, 1012, 2292, 1005, 1055, 2131, 2318, 1012, 102], 'attention_mask': [1, 1, 1, 1, 1, 1, 1, 1, 1, 1, 1, 1, 1, 1, 1, 1, 1, 1, 1], 'label': 1}"
      ]
     },
     "execution_count": 85,
     "metadata": {},
     "output_type": "execute_result"
    }
   ],
   "source": [
    "encoded_text"
   ]
  },
  {
   "cell_type": "code",
   "execution_count": 90,
   "id": "424e7ef0-eedc-42c6-b73d-913443542f21",
   "metadata": {
    "tags": []
   },
   "outputs": [
    {
     "name": "stdout",
     "output_type": "stream",
     "text": [
      "{'input_ids': [[101, 1045, 2134, 2102, 2514, 26608, 102, 0, 0, 0, 0, 0, 0, 0, 0, 0, 0, 0, 0, 0, 0, 0, 0], [101, 1045, 2064, 2175, 2013, 3110, 2061, 20625, 2000, 2061, 9636, 17772, 2074, 2013, 2108, 2105, 2619, 2040, 14977, 1998, 2003, 8300, 102]], 'attention_mask': [[1, 1, 1, 1, 1, 1, 1, 0, 0, 0, 0, 0, 0, 0, 0, 0, 0, 0, 0, 0, 0, 0, 0], [1, 1, 1, 1, 1, 1, 1, 1, 1, 1, 1, 1, 1, 1, 1, 1, 1, 1, 1, 1, 1, 1, 1]]}\n"
     ]
    }
   ],
   "source": [
    "def tokenize(batch):\n",
    "    return tokenizer(list(batch[\"text\"]), padding=True, truncation=True)\n",
    "print(tokenize(train_ds[:2]))"
   ]
  },
  {
   "cell_type": "code",
   "execution_count": 91,
   "id": "061e9933-016c-4c52-b707-9f274d9b26d9",
   "metadata": {
    "tags": []
   },
   "outputs": [],
   "source": [
    "emotions_encoded = emotions.map(tokenize, batched=True, batch_size=None)"
   ]
  },
  {
   "cell_type": "code",
   "execution_count": 107,
   "id": "d59c127d-2032-40c1-b8b7-6fe453cf839a",
   "metadata": {
    "tags": []
   },
   "outputs": [],
   "source": [
    "for k in emotions_encoded:\n",
    "    emotions_encoded[k] = emotions_encoded[k].add_column(\"label\", list(emotions[k][\"label\"]))"
   ]
  },
  {
   "cell_type": "markdown",
   "id": "1d572ee1-e2eb-404e-9cb4-2d10047639df",
   "metadata": {},
   "source": [
    "# Model: data prep"
   ]
  },
  {
   "cell_type": "code",
   "execution_count": 64,
   "id": "5a8bd1db-8687-4d10-aaf1-ae175e24b4b5",
   "metadata": {
    "tags": []
   },
   "outputs": [
    {
     "name": "stderr",
     "output_type": "stream",
     "text": [
      "Downloading model.safetensors: 100%|████████████████████████████████████████████████████████████████| 268M/268M [00:18<00:00, 14.4MB/s]\n"
     ]
    }
   ],
   "source": [
    "import torch\n",
    "from transformers import AutoModel\n",
    "model_ckpt = \"distilbert-base-uncased\"\n",
    "device = torch.device(\"cuda\" if torch.cuda.is_available() else \"cpu\")\n",
    "model = AutoModel.from_pretrained(model_ckpt).to(device)"
   ]
  },
  {
   "cell_type": "code",
   "execution_count": 66,
   "id": "14b0b1b7-1bf6-4917-b4a0-5aa271cb45bc",
   "metadata": {
    "tags": []
   },
   "outputs": [
    {
     "name": "stdout",
     "output_type": "stream",
     "text": [
      "Input tensor shape: torch.Size([1, 12])\n"
     ]
    }
   ],
   "source": [
    "text = \"This is a test. NLP is great!\"\n",
    "inputs = tokenizer(text, return_tensors=\"pt\")\n",
    "print(f\"Input tensor shape: {inputs['input_ids'].size()}\")"
   ]
  },
  {
   "cell_type": "code",
   "execution_count": 67,
   "id": "8927ef33-1647-40d5-b6b1-21be82332914",
   "metadata": {
    "tags": []
   },
   "outputs": [
    {
     "name": "stdout",
     "output_type": "stream",
     "text": [
      "BaseModelOutput(last_hidden_state=tensor([[[-5.9883e-04, -1.7338e-01,  2.9519e-02,  ..., -1.1462e-01,\n",
      "           3.0177e-01,  4.5108e-01],\n",
      "         [-2.1150e-01, -4.7318e-01, -2.8987e-02,  ..., -2.6335e-01,\n",
      "           5.0803e-01,  4.0644e-01],\n",
      "         [-1.5809e-01, -2.2234e-01,  1.3791e-01,  ...,  7.6267e-02,\n",
      "           3.1981e-01,  8.4213e-01],\n",
      "         ...,\n",
      "         [ 4.1224e-01, -1.5811e-01,  1.8453e-01,  ..., -1.9711e-01,\n",
      "           3.5727e-02,  2.3895e-02],\n",
      "         [ 8.2687e-02, -1.8365e-01, -4.5916e-02,  ...,  1.0824e-01,\n",
      "           3.5329e-01, -1.1933e-01],\n",
      "         [ 9.3667e-01,  1.6186e-01, -3.3155e-01,  ...,  1.8813e-01,\n",
      "          -3.7558e-01, -3.2283e-01]]]), hidden_states=None, attentions=None)\n"
     ]
    }
   ],
   "source": [
    "inputs = {k:v.to(device) for k,v in inputs.items()}\n",
    "with torch.no_grad():\n",
    "    outputs = model(**inputs)\n",
    "print(outputs)"
   ]
  },
  {
   "cell_type": "code",
   "execution_count": 73,
   "id": "c5a3a092-3936-4b37-87f2-6b972c66c21f",
   "metadata": {
    "tags": []
   },
   "outputs": [
    {
     "name": "stdout",
     "output_type": "stream",
     "text": [
      "hidden state size = torch.Size([1, 12, 768])\n",
      "CLS token size = torch.Size([1, 768])\n"
     ]
    }
   ],
   "source": [
    "print(f\"hidden state size = {outputs.last_hidden_state.size()}\")\n",
    "print(f\"CLS token size = {outputs.last_hidden_state[:,0].size()}\")"
   ]
  },
  {
   "cell_type": "code",
   "execution_count": 74,
   "id": "d24358a5-2a34-48a0-b987-0121ba30e31e",
   "metadata": {
    "tags": []
   },
   "outputs": [
    {
     "data": {
      "text/plain": [
       "['input_ids', 'attention_mask']"
      ]
     },
     "execution_count": 74,
     "metadata": {},
     "output_type": "execute_result"
    }
   ],
   "source": [
    "tokenizer.model_input_names"
   ]
  },
  {
   "cell_type": "code",
   "execution_count": 111,
   "id": "5e65bc3e-8988-4837-97ca-5ccee2e4ba20",
   "metadata": {
    "tags": []
   },
   "outputs": [
    {
     "data": {
      "text/plain": [
       "DatasetDict({\n",
       "    train: Dataset({\n",
       "        features: ['input_ids', 'attention_mask', 'label'],\n",
       "        num_rows: 16000\n",
       "    })\n",
       "    validation: Dataset({\n",
       "        features: ['input_ids', 'attention_mask', 'label'],\n",
       "        num_rows: 2000\n",
       "    })\n",
       "    test: Dataset({\n",
       "        features: ['input_ids', 'attention_mask', 'label'],\n",
       "        num_rows: 2000\n",
       "    })\n",
       "})"
      ]
     },
     "execution_count": 111,
     "metadata": {},
     "output_type": "execute_result"
    }
   ],
   "source": [
    "emotions_encoded"
   ]
  },
  {
   "cell_type": "code",
   "execution_count": 113,
   "id": "fcaaedde-28b7-4276-aca7-e88add629c30",
   "metadata": {
    "tags": []
   },
   "outputs": [
    {
     "name": "stderr",
     "output_type": "stream",
     "text": [
      "Map: 100%|███████████████████████████████████████████████████████████████████████████████| 16000/16000 [02:37<00:00, 101.57 examples/s]\n",
      "Map: 100%|█████████████████████████████████████████████████████████████████████████████████| 2000/2000 [00:15<00:00, 131.87 examples/s]\n",
      "Map: 100%|█████████████████████████████████████████████████████████████████████████████████| 2000/2000 [00:14<00:00, 137.30 examples/s]\n"
     ]
    }
   ],
   "source": [
    "def extract_hidden_states(batch):\n",
    "    # batch inputs are token ids after tokenization\"\n",
    "    inputs = {k:v.to(device) for k, v in batch.items() if k in tokenizer.model_input_names}\n",
    "    with torch.no_grad():\n",
    "        outputs = model(**inputs).last_hidden_state\n",
    "    return {\"hidden_state\": outputs[:,0].cpu().numpy()}\n",
    "\n",
    "emotions_encoded.set_format(\"torch\", columns=[\"input_ids\", \"attention_mask\", \"label\"])\n",
    "emotions_hidden = emotions_encoded.map(extract_hidden_states, batched=True)"
   ]
  },
  {
   "cell_type": "code",
   "execution_count": 119,
   "id": "8d41c1a1-ed58-4a27-8b35-c42ff4643b9b",
   "metadata": {
    "tags": []
   },
   "outputs": [],
   "source": [
    "import numpy as np\n",
    "X_train = np.array(emotions_hidden[\"train\"][\"hidden_state\"])\n",
    "X_test = np.array(emotions_hidden[\"test\"][\"hidden_state\"])\n",
    "X_val = np.array(emotions_hidden[\"validation\"][\"hidden_state\"])\n",
    "\n",
    "y_train = np.array(emotions_hidden[\"train\"][\"label\"])\n",
    "y_test = np.array(emotions_hidden[\"test\"][\"label\"])\n",
    "y_val = np.array(emotions_hidden[\"validation\"][\"label\"])"
   ]
  },
  {
   "cell_type": "code",
   "execution_count": 120,
   "id": "2cd3cdf5-636f-4667-9fd2-4adf2d61ca1d",
   "metadata": {
    "tags": []
   },
   "outputs": [
    {
     "data": {
      "text/plain": [
       "(2000, 768)"
      ]
     },
     "execution_count": 120,
     "metadata": {},
     "output_type": "execute_result"
    }
   ],
   "source": [
    "X_val.shape"
   ]
  },
  {
   "cell_type": "code",
   "execution_count": 121,
   "id": "64b30a47-e3d1-4990-937c-901edf00be41",
   "metadata": {
    "tags": []
   },
   "outputs": [
    {
     "name": "stderr",
     "output_type": "stream",
     "text": [
      "/Users/yuchen.jiang2/personal/repos/playground/env/lib/python3.8/site-packages/sklearn/linear_model/_logistic.py:460: ConvergenceWarning: lbfgs failed to converge (status=1):\n",
      "STOP: TOTAL NO. of ITERATIONS REACHED LIMIT.\n",
      "\n",
      "Increase the number of iterations (max_iter) or scale the data as shown in:\n",
      "    https://scikit-learn.org/stable/modules/preprocessing.html\n",
      "Please also refer to the documentation for alternative solver options:\n",
      "    https://scikit-learn.org/stable/modules/linear_model.html#logistic-regression\n",
      "  n_iter_i = _check_optimize_result(\n"
     ]
    },
    {
     "data": {
      "text/plain": [
       "0.633"
      ]
     },
     "execution_count": 121,
     "metadata": {},
     "output_type": "execute_result"
    }
   ],
   "source": [
    "from sklearn.linear_model import LogisticRegression\n",
    "\n",
    "lr_clf = LogisticRegression(max_iter=3000)\n",
    "lr_clf.fit(X_train, y_train)\n",
    "lr_clf.score(X_val, y_val)"
   ]
  },
  {
   "cell_type": "code",
   "execution_count": 136,
   "id": "5e2c4311-bb7b-487d-b129-cc32337e2283",
   "metadata": {
    "tags": []
   },
   "outputs": [
    {
     "data": {
      "text/plain": [
       "<sklearn.metrics._plot.confusion_matrix.ConfusionMatrixDisplay at 0x3510a5d90>"
      ]
     },
     "execution_count": 136,
     "metadata": {},
     "output_type": "execute_result"
    },
    {
     "data": {
      "image/png": "[encoded data removed]",
      "text/plain": [
       "<Figure size 640x480 with 2 Axes>"
      ]
     },
     "metadata": {},
     "output_type": "display_data"
    }
   ],
   "source": [
    "from sklearn.metrics import confusion_matrix, ConfusionMatrixDisplay\n",
    "y_val_pred = lr_clf.predict(X_val)\n",
    "p = ConfusionMatrixDisplay(confusion_matrix=confusion_matrix(y_val, y_val_pred, normalize=\"true\"), display_labels=emotions['train'].features['label'].names)\n",
    "p.plot()"
   ]
  },
  {
   "cell_type": "markdown",
   "id": "7ed4f3c4-8ee1-49a5-b701-60ef9d834ab9",
   "metadata": {},
   "source": [
    "# Fine-tuning"
   ]
  },
  {
   "cell_type": "code",
   "execution_count": 138,
   "id": "b2220215-baf5-4a64-a1a3-20a2b141e564",
   "metadata": {
    "tags": []
   },
   "outputs": [],
   "source": [
    "from transformers import AutoModelForSequenceClassification"
   ]
  },
  {
   "cell_type": "code",
   "execution_count": 139,
   "id": "512a88c9-c6ca-4141-adda-9d7c86a5e77b",
   "metadata": {
    "tags": []
   },
   "outputs": [],
   "source": [
    "n_labels = len(emotions['train'].features['label'].names)"
   ]
  },
  {
   "cell_type": "code",
   "execution_count": 140,
   "id": "c77882b5-8016-467f-917b-13b1dedbb4d0",
   "metadata": {
    "tags": []
   },
   "outputs": [
    {
     "name": "stderr",
     "output_type": "stream",
     "text": [
      "Some weights of DistilBertForSequenceClassification were not initialized from the model checkpoint at distilbert-base-uncased and are newly initialized: ['pre_classifier.weight', 'classifier.bias', 'classifier.weight', 'pre_classifier.bias']\n",
      "You should probably TRAIN this model on a down-stream task to be able to use it for predictions and inference.\n"
     ]
    }
   ],
   "source": [
    "model = (AutoModelForSequenceClassification.from_pretrained(model_ckpt, num_labels=n_labels).to(device))"
   ]
  },
  {
   "cell_type": "code",
   "execution_count": 141,
   "id": "9a22ee43-86b7-4969-bea4-282c53e255fe",
   "metadata": {
    "tags": []
   },
   "outputs": [],
   "source": [
    "from sklearn.metrics import accuracy_score, f1_score\n",
    "def compute_metrics(pred):\n",
    "    labels = pred.label_ids\n",
    "    preds = pred.predictions.argmax(-1)\n",
    "    f1 = f1_score(labels, preds, average=\"weighted\")\n",
    "    acc = accuracy_score(labels, preds)\n",
    "    return {\"accuracy\": acc, \"f1\": f1}"
   ]
  },
  {
   "cell_type": "code",
   "execution_count": 150,
   "id": "6e5ca943-5a3e-409e-9328-e38fde7ed824",
   "metadata": {
    "tags": []
   },
   "outputs": [],
   "source": [
    "from huggingface_hub import notebook_login"
   ]
  },
  {
   "cell_type": "code",
   "execution_count": 155,
   "id": "3635440b-01aa-408a-a6cb-6366111a2f96",
   "metadata": {
    "tags": []
   },
   "outputs": [
    {
     "data": {
      "application/vnd.jupyter.widget-view+json": {
       "model_id": "c7898df4131646ecaad9f6028ab72310",
       "version_major": 2,
       "version_minor": 0
      },
      "text/plain": [
       "VBox(children=(HTML(value='<center> <img\\nsrc=https://huggingface.co/front/assets/huggingface_logo-noborder.sv…"
      ]
     },
     "metadata": {},
     "output_type": "display_data"
    }
   ],
   "source": [
    "notebook_login()"
   ]
  },
  {
   "cell_type": "code",
   "execution_count": 156,
   "id": "b828a685-9851-44dc-a543-4bc33461977d",
   "metadata": {
    "tags": []
   },
   "outputs": [
    {
     "name": "stdout",
     "output_type": "stream",
     "text": [
      "'NoneType' object has no attribute 'cadam32bit_grad_fp32'\n"
     ]
    },
    {
     "name": "stderr",
     "output_type": "stream",
     "text": [
      "/Users/yuchen.jiang2/personal/repos/playground/env/lib/python3.8/site-packages/bitsandbytes/cextension.py:34: UserWarning: The installed version of bitsandbytes was compiled without GPU support. 8-bit optimizers, 8-bit multiplication, and GPU quantization are unavailable.\n",
      "  warn(\"The installed version of bitsandbytes was compiled without GPU support. \"\n"
     ]
    }
   ],
   "source": [
    "from transformers import Trainer, TrainingArguments"
   ]
  },
  {
   "cell_type": "code",
   "execution_count": 157,
   "id": "f427f596-88c6-42a2-9c66-3efd2107d997",
   "metadata": {
    "tags": []
   },
   "outputs": [],
   "source": [
    "batch_size = 64\n",
    "logging_steps = len(emotions_encoded[\"train\"]) // batch_size\n",
    "model_name = f\"{model_ckpt}-finetuned-emotion\""
   ]
  },
  {
   "cell_type": "code",
   "execution_count": 186,
   "id": "815f0547-41ce-4371-b387-bd3b185e9ae4",
   "metadata": {
    "tags": []
   },
   "outputs": [],
   "source": [
    "training_args = TrainingArguments(output_dir=model_name,\n",
    "                                    num_train_epochs=2,\n",
    "                                    learning_rate=2e-5,\n",
    "                                    per_device_train_batch_size=batch_size,\n",
    "                                    per_device_eval_batch_size=batch_size,\n",
    "                                    weight_decay=0.01,\n",
    "                                    evaluation_strategy=\"epoch\",\n",
    "                                    disable_tqdm=False,\n",
    "                                    logging_steps=logging_steps,\n",
    "                                    push_to_hub=True,\n",
    "                                    log_level=\"error\",\n",
    "                                    use_mps_device=True)"
   ]
  },
  {
   "cell_type": "code",
   "execution_count": 160,
   "id": "3acaa0d1-8d2a-4d1a-b715-effe3b768f56",
   "metadata": {},
   "outputs": [],
   "source": [
    "trainer = Trainer(model=model, args=training_args,\n",
    "                    compute_metrics=compute_metrics,\n",
    "                    train_dataset=emotions_encoded[\"train\"],\n",
    "                    eval_dataset=emotions_encoded[\"validation\"],\n",
    "                    tokenizer=tokenizer)"
   ]
  },
  {
   "cell_type": "code",
   "execution_count": 161,
   "id": "88c0280d-3994-4402-b141-c866820d2647",
   "metadata": {
    "tags": []
   },
   "outputs": [
    {
     "data": {
      "text/html": [
       "\n",
       "    <div>\n",
       "      \n",
       "      <progress value='500' max='500' style='width:300px; height:20px; vertical-align: middle;'></progress>\n",
       "      [500/500 05:11, Epoch 2/2]\n",
       "    </div>\n",
       "    <table border=\"1\" class=\"dataframe\">\n",
       "  <thead>\n",
       " <tr style=\"text-align: left;\">\n",
       "      <th>Epoch</th>\n",
       "      <th>Training Loss</th>\n",
       "      <th>Validation Loss</th>\n",
       "      <th>Accuracy</th>\n",
       "      <th>F1</th>\n",
       "    </tr>\n",
       "  </thead>\n",
       "  <tbody>\n",
       "    <tr>\n",
       "      <td>1</td>\n",
       "      <td>0.817300</td>\n",
       "      <td>0.326941</td>\n",
       "      <td>0.906500</td>\n",
       "      <td>0.905553</td>\n",
       "    </tr>\n",
       "    <tr>\n",
       "      <td>2</td>\n",
       "      <td>0.250200</td>\n",
       "      <td>0.211681</td>\n",
       "      <td>0.929000</td>\n",
       "      <td>0.928916</td>\n",
       "    </tr>\n",
       "  </tbody>\n",
       "</table><p>"
      ],
      "text/plain": [
       "<IPython.core.display.HTML object>"
      ]
     },
     "metadata": {},
     "output_type": "display_data"
    },
    {
     "data": {
      "text/plain": [
       "TrainOutput(global_step=500, training_loss=0.5337880859375, metrics={'train_runtime': 318.7735, 'train_samples_per_second': 100.385, 'train_steps_per_second': 1.569, 'total_flos': 720342861696000.0, 'train_loss': 0.5337880859375, 'epoch': 2.0})"
      ]
     },
     "execution_count": 161,
     "metadata": {},
     "output_type": "execute_result"
    }
   ],
   "source": [
    "trainer.train()"
   ]
  },
  {
   "cell_type": "code",
   "execution_count": 164,
   "id": "421bfddc-abf7-4125-bd01-1debe0a7fd95",
   "metadata": {
    "tags": []
   },
   "outputs": [
    {
     "data": {
      "text/html": [],
      "text/plain": [
       "<IPython.core.display.HTML object>"
      ]
     },
     "metadata": {},
     "output_type": "display_data"
    }
   ],
   "source": [
    "preds_output = trainer.predict(emotions_encoded[\"validation\"])"
   ]
  },
  {
   "cell_type": "code",
   "execution_count": 165,
   "id": "57d1b9fb-0d79-427c-ab5e-155f7e5d3155",
   "metadata": {
    "tags": []
   },
   "outputs": [
    {
     "data": {
      "text/plain": [
       "{'test_loss': 0.2116813361644745,\n",
       " 'test_accuracy': 0.929,\n",
       " 'test_f1': 0.9289159103142277,\n",
       " 'test_runtime': 5.6608,\n",
       " 'test_samples_per_second': 353.305,\n",
       " 'test_steps_per_second': 5.653}"
      ]
     },
     "execution_count": 165,
     "metadata": {},
     "output_type": "execute_result"
    }
   ],
   "source": [
    "preds_output.metrics"
   ]
  },
  {
   "cell_type": "code",
   "execution_count": 167,
   "id": "abe14bf3-ed78-46ac-a6d8-ce0a01ebeba9",
   "metadata": {
    "tags": []
   },
   "outputs": [],
   "source": [
    "y_val_pred = np.argmax(preds_output.predictions, axis=1)"
   ]
  },
  {
   "cell_type": "code",
   "execution_count": 168,
   "id": "fb97a870-fa1b-4165-b0bd-4d9068a2ba91",
   "metadata": {
    "tags": []
   },
   "outputs": [
    {
     "data": {
      "text/plain": [
       "<sklearn.metrics._plot.confusion_matrix.ConfusionMatrixDisplay at 0x35814a340>"
      ]
     },
     "execution_count": 168,
     "metadata": {},
     "output_type": "execute_result"
    },
    {
     "data": {
      "image/png": "[encoded data removed]",
      "text/plain": [
       "<Figure size 640x480 with 2 Axes>"
      ]
     },
     "metadata": {},
     "output_type": "display_data"
    }
   ],
   "source": [
    "ConfusionMatrixDisplay(confusion_matrix=confusion_matrix(y_val, y_val_pred, normalize=\"true\"), display_labels=emotions['train'].features['label'].names).plot()"
   ]
  },
  {
   "cell_type": "code",
   "execution_count": null,
   "id": "815b80de-d8f5-4cce-b437-107c4706eafb",
   "metadata": {},
   "outputs": [],
   "source": []
  },
  {
   "cell_type": "markdown",
   "id": "6aa5b335-c22a-4057-8560-ca5884ab03a2",
   "metadata": {},
   "source": [
    "# Error analysis"
   ]
  },
  {
   "cell_type": "code",
   "execution_count": 172,
   "id": "22a7d920-ba18-4bf2-9f74-4ef4d47196e7",
   "metadata": {
    "tags": []
   },
   "outputs": [
    {
     "data": {
      "text/plain": [
       "{'input_ids': tensor([[  101,  2023,  2003,  1037,  3231,  1012, 17953,  2361,  2003,  2307,\n",
       "            999,   102]]),\n",
       " 'attention_mask': tensor([[1, 1, 1, 1, 1, 1, 1, 1, 1, 1, 1, 1]])}"
      ]
     },
     "execution_count": 172,
     "metadata": {},
     "output_type": "execute_result"
    }
   ],
   "source": [
    "inputs"
   ]
  },
  {
   "cell_type": "code",
   "execution_count": 188,
   "id": "ac9cdb37-557a-4243-9dd1-c99c22a48996",
   "metadata": {
    "tags": []
   },
   "outputs": [],
   "source": [
    "from torch.nn.functional import cross_entropy\n",
    "\n",
    "def forward_pass_with_label(batch):\n",
    "    device=\"mps\"\n",
    "    inputs = {k:v.to(device) for k,v in batch.items() if k in tokenizer.model_input_names}\n",
    "    with torch.no_grad():\n",
    "        output = model(**inputs)\n",
    "        pred_label = torch.argmax(output.logits, axis=-1)\n",
    "        loss = cross_entropy(output.logits, batch[\"label\"].to(device), reduction=\"none\")\n",
    "    \n",
    "    return {\"loss\": loss.cpu().numpy(), \n",
    "            \"predicted_label\": pred_label.cpu().numpy()}"
   ]
  },
  {
   "cell_type": "code",
   "execution_count": 189,
   "id": "8c25ad77-2dd9-40a3-8d38-f5e3915be38b",
   "metadata": {
    "tags": []
   },
   "outputs": [
    {
     "data": {
      "text/plain": [
       "['input_ids', 'attention_mask']"
      ]
     },
     "execution_count": 189,
     "metadata": {},
     "output_type": "execute_result"
    }
   ],
   "source": [
    "tokenizer.model_input_names"
   ]
  },
  {
   "cell_type": "code",
   "execution_count": 190,
   "id": "7a9ae233-9f93-4d2e-bb44-952a360f11f0",
   "metadata": {
    "tags": []
   },
   "outputs": [
    {
     "data": {
      "text/plain": [
       "Dataset({\n",
       "    features: ['input_ids', 'attention_mask', 'label'],\n",
       "    num_rows: 2000\n",
       "})"
      ]
     },
     "execution_count": 190,
     "metadata": {},
     "output_type": "execute_result"
    }
   ],
   "source": [
    "emotions_encoded[\"validation\"]"
   ]
  },
  {
   "cell_type": "code",
   "execution_count": 197,
   "id": "84db81d4-5459-48dd-8362-2c5278b95386",
   "metadata": {
    "tags": []
   },
   "outputs": [
    {
     "name": "stderr",
     "output_type": "stream",
     "text": [
      "Map: 100%|█████████████████████████████████████████████████████████████████████████████████| 2000/2000 [00:05<00:00, 352.04 examples/s]\n"
     ]
    }
   ],
   "source": [
    "emotions_encoded.set_format(\"torch\", columns=[\"input_ids\", \"attention_mask\", \"label\"])\n",
    "emotions_encoded[\"validation\"] = emotions_encoded[\"validation\"].map(forward_pass_with_label, batched=True, batch_size=16)"
   ]
  },
  {
   "cell_type": "code",
   "execution_count": 205,
   "id": "a441d70b-7edb-4e80-bd2f-e174ad9c5b56",
   "metadata": {
    "tags": []
   },
   "outputs": [],
   "source": [
    "emotions_encoded.set_format(\"pandas\")\n",
    "emotions.set_format(\"pandas\")"
   ]
  },
  {
   "cell_type": "code",
   "execution_count": 219,
   "id": "b7d312dc-7cb8-40bf-9b41-d35b3dd04867",
   "metadata": {
    "tags": []
   },
   "outputs": [],
   "source": [
    "df_val = pd.concat([emotions[\"validation\"][:]['text'],emotions_encoded[\"validation\"][:]], axis=1)[['text', 'label', 'loss', 'predicted_label']]"
   ]
  },
  {
   "cell_type": "code",
   "execution_count": 222,
   "id": "437b1462-9dee-4650-a353-39bc0e648e1e",
   "metadata": {
    "tags": []
   },
   "outputs": [],
   "source": [
    "df_val['label_names'] = df_val['label'].apply(val_ds.features['label'].int2str)\n",
    "df_val['predicted_label_names'] = df_val['predicted_label'].apply(val_ds.features['label'].int2str)"
   ]
  },
  {
   "cell_type": "code",
   "execution_count": 227,
   "id": "4fb54ec4-4ab5-4a48-ad45-b7a68c6ea5a2",
   "metadata": {
    "tags": []
   },
   "outputs": [
    {
     "data": {
      "text/html": [
       "<div>\n",
       "<style scoped>\n",
       "    .dataframe tbody tr th:only-of-type {\n",
       "        vertical-align: middle;\n",
       "    }\n",
       "\n",
       "    .dataframe tbody tr th {\n",
       "        vertical-align: top;\n",
       "    }\n",
       "\n",
       "    .dataframe thead th {\n",
       "        text-align: right;\n",
       "    }\n",
       "</style>\n",
       "<table border=\"1\" class=\"dataframe\">\n",
       "  <thead>\n",
       "    <tr style=\"text-align: right;\">\n",
       "      <th></th>\n",
       "      <th>text</th>\n",
       "      <th>label</th>\n",
       "      <th>loss</th>\n",
       "      <th>predicted_label</th>\n",
       "      <th>label_names</th>\n",
       "      <th>predicted_label_names</th>\n",
       "    </tr>\n",
       "  </thead>\n",
       "  <tbody>\n",
       "    <tr>\n",
       "      <th>1801</th>\n",
       "      <td>i feel that he was being overshadowed by the supporting characters</td>\n",
       "      <td>2</td>\n",
       "      <td>5.401307</td>\n",
       "      <td>0</td>\n",
       "      <td>love</td>\n",
       "      <td>sadness</td>\n",
       "    </tr>\n",
       "    <tr>\n",
       "      <th>1500</th>\n",
       "      <td>i guess we would naturally feel a sense of loneliness even the people who said unkind things to you might be missed</td>\n",
       "      <td>3</td>\n",
       "      <td>5.300870</td>\n",
       "      <td>0</td>\n",
       "      <td>anger</td>\n",
       "      <td>sadness</td>\n",
       "    </tr>\n",
       "    <tr>\n",
       "      <th>318</th>\n",
       "      <td>i felt ashamed of these feelings and was scared because i knew that something wrong with me and thought i might be gay</td>\n",
       "      <td>4</td>\n",
       "      <td>5.184979</td>\n",
       "      <td>0</td>\n",
       "      <td>fear</td>\n",
       "      <td>sadness</td>\n",
       "    </tr>\n",
       "    <tr>\n",
       "      <th>1963</th>\n",
       "      <td>i called myself pro life and voted for perry without knowing this information i would feel betrayed but moreover i would feel that i had betrayed god by supporting a man who mandated a barely year old vaccine for little girls putting them in danger to financially support people close to him</td>\n",
       "      <td>1</td>\n",
       "      <td>5.122453</td>\n",
       "      <td>0</td>\n",
       "      <td>joy</td>\n",
       "      <td>sadness</td>\n",
       "    </tr>\n",
       "    <tr>\n",
       "      <th>882</th>\n",
       "      <td>i feel badly about reneging on my commitment to bring donuts to the faithful at holy family catholic church in columbus ohio</td>\n",
       "      <td>2</td>\n",
       "      <td>5.118984</td>\n",
       "      <td>0</td>\n",
       "      <td>love</td>\n",
       "      <td>sadness</td>\n",
       "    </tr>\n",
       "    <tr>\n",
       "      <th>1870</th>\n",
       "      <td>i guess i feel betrayed because i admired him so much and for someone to do this to his wife and kids just goes beyond the pale</td>\n",
       "      <td>1</td>\n",
       "      <td>4.923136</td>\n",
       "      <td>0</td>\n",
       "      <td>joy</td>\n",
       "      <td>sadness</td>\n",
       "    </tr>\n",
       "    <tr>\n",
       "      <th>1950</th>\n",
       "      <td>i as representative of everything thats wrong with corporate america and feel that sending him to washington is a ludicrous idea</td>\n",
       "      <td>5</td>\n",
       "      <td>4.775763</td>\n",
       "      <td>0</td>\n",
       "      <td>surprise</td>\n",
       "      <td>sadness</td>\n",
       "    </tr>\n",
       "    <tr>\n",
       "      <th>312</th>\n",
       "      <td>i like the domestic scene salty sweet combos recipe reviews the smell of rosemary babies the feeling of having exercised hand clapping rhymes books lost teacups and laundry that has been washed dried folded and put away</td>\n",
       "      <td>0</td>\n",
       "      <td>4.663596</td>\n",
       "      <td>1</td>\n",
       "      <td>sadness</td>\n",
       "      <td>joy</td>\n",
       "    </tr>\n",
       "    <tr>\n",
       "      <th>1683</th>\n",
       "      <td>i had applied for a job and they had assured me that the exams would take place a few months later a week later i went to obtain some more information and they told me that the exams had already taken place</td>\n",
       "      <td>3</td>\n",
       "      <td>4.650277</td>\n",
       "      <td>1</td>\n",
       "      <td>anger</td>\n",
       "      <td>joy</td>\n",
       "    </tr>\n",
       "    <tr>\n",
       "      <th>1111</th>\n",
       "      <td>im lazy my characters fall into categories of smug and or blas people and their foils people who feel inconvenienced by smug and or blas people</td>\n",
       "      <td>1</td>\n",
       "      <td>4.385153</td>\n",
       "      <td>4</td>\n",
       "      <td>joy</td>\n",
       "      <td>fear</td>\n",
       "    </tr>\n",
       "  </tbody>\n",
       "</table>\n",
       "</div>"
      ],
      "text/plain": [
       "                                                                                                                                                                                                                                                                                                     text  \\\n",
       "1801                                                                                                                                                                                                                                   i feel that he was being overshadowed by the supporting characters   \n",
       "1500                                                                                                                                                                                  i guess we would naturally feel a sense of loneliness even the people who said unkind things to you might be missed   \n",
       "318                                                                                                                                                                                i felt ashamed of these feelings and was scared because i knew that something wrong with me and thought i might be gay   \n",
       "1963  i called myself pro life and voted for perry without knowing this information i would feel betrayed but moreover i would feel that i had betrayed god by supporting a man who mandated a barely year old vaccine for little girls putting them in danger to financially support people close to him   \n",
       "882                                                                                                                                                                          i feel badly about reneging on my commitment to bring donuts to the faithful at holy family catholic church in columbus ohio   \n",
       "1870                                                                                                                                                                      i guess i feel betrayed because i admired him so much and for someone to do this to his wife and kids just goes beyond the pale   \n",
       "1950                                                                                                                                                                     i as representative of everything thats wrong with corporate america and feel that sending him to washington is a ludicrous idea   \n",
       "312                                                                           i like the domestic scene salty sweet combos recipe reviews the smell of rosemary babies the feeling of having exercised hand clapping rhymes books lost teacups and laundry that has been washed dried folded and put away   \n",
       "1683                                                                                       i had applied for a job and they had assured me that the exams would take place a few months later a week later i went to obtain some more information and they told me that the exams had already taken place   \n",
       "1111                                                                                                                                                      im lazy my characters fall into categories of smug and or blas people and their foils people who feel inconvenienced by smug and or blas people   \n",
       "\n",
       "      label      loss  predicted_label label_names predicted_label_names  \n",
       "1801      2  5.401307                0        love               sadness  \n",
       "1500      3  5.300870                0       anger               sadness  \n",
       "318       4  5.184979                0        fear               sadness  \n",
       "1963      1  5.122453                0         joy               sadness  \n",
       "882       2  5.118984                0        love               sadness  \n",
       "1870      1  4.923136                0         joy               sadness  \n",
       "1950      5  4.775763                0    surprise               sadness  \n",
       "312       0  4.663596                1     sadness                   joy  \n",
       "1683      3  4.650277                1       anger                   joy  \n",
       "1111      1  4.385153                4         joy                  fear  "
      ]
     },
     "metadata": {},
     "output_type": "display_data"
    }
   ],
   "source": [
    "with pd.option_context('display.max_colwidth', None):\n",
    "    display(df_val.sort_values(\"loss\", ascending=False).head(10))"
   ]
  },
  {
   "cell_type": "code",
   "execution_count": 228,
   "id": "292bf9d5-a171-4f93-916b-6f125d499e61",
   "metadata": {
    "tags": []
   },
   "outputs": [
    {
     "data": {
      "text/html": [
       "<div>\n",
       "<style scoped>\n",
       "    .dataframe tbody tr th:only-of-type {\n",
       "        vertical-align: middle;\n",
       "    }\n",
       "\n",
       "    .dataframe tbody tr th {\n",
       "        vertical-align: top;\n",
       "    }\n",
       "\n",
       "    .dataframe thead th {\n",
       "        text-align: right;\n",
       "    }\n",
       "</style>\n",
       "<table border=\"1\" class=\"dataframe\">\n",
       "  <thead>\n",
       "    <tr style=\"text-align: right;\">\n",
       "      <th></th>\n",
       "      <th>text</th>\n",
       "      <th>label</th>\n",
       "      <th>loss</th>\n",
       "      <th>predicted_label</th>\n",
       "      <th>label_names</th>\n",
       "      <th>predicted_label_names</th>\n",
       "    </tr>\n",
       "  </thead>\n",
       "  <tbody>\n",
       "    <tr>\n",
       "      <th>632</th>\n",
       "      <td>i feel he is an terrific really worth bet</td>\n",
       "      <td>1</td>\n",
       "      <td>0.015824</td>\n",
       "      <td>1</td>\n",
       "      <td>joy</td>\n",
       "      <td>joy</td>\n",
       "    </tr>\n",
       "    <tr>\n",
       "      <th>669</th>\n",
       "      <td>i am not feeling very joyful today its been a rough day</td>\n",
       "      <td>1</td>\n",
       "      <td>0.015929</td>\n",
       "      <td>1</td>\n",
       "      <td>joy</td>\n",
       "      <td>joy</td>\n",
       "    </tr>\n",
       "    <tr>\n",
       "      <th>131</th>\n",
       "      <td>i feel like a graph doesnt show the data accurately enough to be useful</td>\n",
       "      <td>1</td>\n",
       "      <td>0.016096</td>\n",
       "      <td>1</td>\n",
       "      <td>joy</td>\n",
       "      <td>joy</td>\n",
       "    </tr>\n",
       "    <tr>\n",
       "      <th>578</th>\n",
       "      <td>i got to christmas feeling positive about the future and hopeful that hospital admissions were finally behind me</td>\n",
       "      <td>1</td>\n",
       "      <td>0.016183</td>\n",
       "      <td>1</td>\n",
       "      <td>joy</td>\n",
       "      <td>joy</td>\n",
       "    </tr>\n",
       "    <tr>\n",
       "      <th>1263</th>\n",
       "      <td>i feel this way about blake lively</td>\n",
       "      <td>1</td>\n",
       "      <td>0.016221</td>\n",
       "      <td>1</td>\n",
       "      <td>joy</td>\n",
       "      <td>joy</td>\n",
       "    </tr>\n",
       "    <tr>\n",
       "      <th>1418</th>\n",
       "      <td>i am a big believer in the phrase that some people are all style no substance and i feel that if you have nothing worthwhile to say just dont say it</td>\n",
       "      <td>1</td>\n",
       "      <td>0.016259</td>\n",
       "      <td>1</td>\n",
       "      <td>joy</td>\n",
       "      <td>joy</td>\n",
       "    </tr>\n",
       "    <tr>\n",
       "      <th>1513</th>\n",
       "      <td>i have also been getting back into my gym routine so im feeling positive about this now</td>\n",
       "      <td>1</td>\n",
       "      <td>0.016383</td>\n",
       "      <td>1</td>\n",
       "      <td>joy</td>\n",
       "      <td>joy</td>\n",
       "    </tr>\n",
       "    <tr>\n",
       "      <th>1523</th>\n",
       "      <td>i dont give a fuck because i feel like i cannot elicit any positive change or shifts within my current client load</td>\n",
       "      <td>1</td>\n",
       "      <td>0.016448</td>\n",
       "      <td>1</td>\n",
       "      <td>joy</td>\n",
       "      <td>joy</td>\n",
       "    </tr>\n",
       "    <tr>\n",
       "      <th>1368</th>\n",
       "      <td>i started this blog with pure intentions i must confess to starting to feel a little disheartened lately by the knowledge that there doesnt seem to be anybody reading it</td>\n",
       "      <td>0</td>\n",
       "      <td>0.016516</td>\n",
       "      <td>0</td>\n",
       "      <td>sadness</td>\n",
       "      <td>sadness</td>\n",
       "    </tr>\n",
       "    <tr>\n",
       "      <th>19</th>\n",
       "      <td>i had lunch with an old friend and it was nice but in general im not feeling energetic</td>\n",
       "      <td>1</td>\n",
       "      <td>0.016540</td>\n",
       "      <td>1</td>\n",
       "      <td>joy</td>\n",
       "      <td>joy</td>\n",
       "    </tr>\n",
       "  </tbody>\n",
       "</table>\n",
       "</div>"
      ],
      "text/plain": [
       "                                                                                                                                                                           text  \\\n",
       "632                                                                                                                                   i feel he is an terrific really worth bet   \n",
       "669                                                                                                                     i am not feeling very joyful today its been a rough day   \n",
       "131                                                                                                     i feel like a graph doesnt show the data accurately enough to be useful   \n",
       "578                                                            i got to christmas feeling positive about the future and hopeful that hospital admissions were finally behind me   \n",
       "1263                                                                                                                                         i feel this way about blake lively   \n",
       "1418                       i am a big believer in the phrase that some people are all style no substance and i feel that if you have nothing worthwhile to say just dont say it   \n",
       "1513                                                                                    i have also been getting back into my gym routine so im feeling positive about this now   \n",
       "1523                                                         i dont give a fuck because i feel like i cannot elicit any positive change or shifts within my current client load   \n",
       "1368  i started this blog with pure intentions i must confess to starting to feel a little disheartened lately by the knowledge that there doesnt seem to be anybody reading it   \n",
       "19                                                                                       i had lunch with an old friend and it was nice but in general im not feeling energetic   \n",
       "\n",
       "      label      loss  predicted_label label_names predicted_label_names  \n",
       "632       1  0.015824                1         joy                   joy  \n",
       "669       1  0.015929                1         joy                   joy  \n",
       "131       1  0.016096                1         joy                   joy  \n",
       "578       1  0.016183                1         joy                   joy  \n",
       "1263      1  0.016221                1         joy                   joy  \n",
       "1418      1  0.016259                1         joy                   joy  \n",
       "1513      1  0.016383                1         joy                   joy  \n",
       "1523      1  0.016448                1         joy                   joy  \n",
       "1368      0  0.016516                0     sadness               sadness  \n",
       "19        1  0.016540                1         joy                   joy  "
      ]
     },
     "metadata": {},
     "output_type": "display_data"
    }
   ],
   "source": [
    "with pd.option_context('display.max_colwidth', None):\n",
    "    display(df_val.sort_values(\"loss\", ascending=True).head(10))"
   ]
  },
  {
   "cell_type": "markdown",
   "id": "d1486195-ab88-4cce-823e-3340d627759b",
   "metadata": {},
   "source": [
    "# save and share"
   ]
  },
  {
   "cell_type": "code",
   "execution_count": 229,
   "id": "0b560b0c-ac63-4f1d-ab65-03607e0954b4",
   "metadata": {
    "tags": []
   },
   "outputs": [
    {
     "name": "stderr",
     "output_type": "stream",
     "text": [
      "training_args.bin: 100%|██████████████████████████████████████████████████████████████████████████| 4.09k/4.09k [00:00<00:00, 8.88kB/s]\n"
     ]
    },
    {
     "data": {
      "text/plain": [
       "'https://huggingface.co/ryanjyc/distilbert-base-uncased-finetuned-emotion/tree/main/'"
      ]
     },
     "execution_count": 229,
     "metadata": {},
     "output_type": "execute_result"
    }
   ],
   "source": [
    "trainer.push_to_hub(commit_message=\"Training completed!\")"
   ]
  },
  {
   "cell_type": "code",
   "execution_count": 230,
   "id": "6543f9d5-c72c-4dbb-9a02-8b6930ae5a15",
   "metadata": {
    "tags": []
   },
   "outputs": [
    {
     "name": "stderr",
     "output_type": "stream",
     "text": [
      "Downloading config.json: 100%|█████████████████████████████████████████████████████████████████████████| 883/883 [00:00<00:00, 206kB/s]\n",
      "Downloading pytorch_model.bin: 100%|████████████████████████████████████████████████████████████████| 268M/268M [00:18<00:00, 14.8MB/s]\n",
      "Downloading tokenizer_config.json: 100%|███████████████████████████████████████████████████████████| 1.23k/1.23k [00:00<00:00, 806kB/s]\n",
      "Downloading vocab.txt: 100%|████████████████████████████████████████████████████████████████████████| 232k/232k [00:00<00:00, 3.79MB/s]\n",
      "Downloading tokenizer.json: 100%|███████████████████████████████████████████████████████████████████| 712k/712k [00:00<00:00, 5.25MB/s]\n",
      "Downloading added_tokens.json: 100%|████████████████████████████████████████████████████████████████| 82.0/82.0 [00:00<00:00, 46.2kB/s]\n",
      "Downloading (…)cial_tokens_map.json: 100%|████████████████████████████████████████████████████████████| 125/125 [00:00<00:00, 87.9kB/s]\n"
     ]
    }
   ],
   "source": [
    "from transformers import pipeline\n",
    "\n",
    "model_id = \"ryanjyc/distilbert-base-uncased-finetuned-emotion\"\n",
    "clf = pipeline(\"text-classification\", model = model_id)"
   ]
  },
  {
   "cell_type": "code",
   "execution_count": 232,
   "id": "ddeac953-35a1-4c1e-88f4-bc148a026b1f",
   "metadata": {
    "tags": []
   },
   "outputs": [
    {
     "name": "stderr",
     "output_type": "stream",
     "text": [
      "/Users/yuchen.jiang2/personal/repos/playground/env/lib/python3.8/site-packages/transformers/pipelines/text_classification.py:105: UserWarning: `return_all_scores` is now deprecated,  if want a similar functionality use `top_k=None` instead of `return_all_scores=True` or `top_k=1` instead of `return_all_scores=False`.\n",
      "  warnings.warn(\n"
     ]
    }
   ],
   "source": [
    "text = \"I saw a movie today and it was very scary.\"\n",
    "preds = clf(text, return_all_scores=True)"
   ]
  },
  {
   "cell_type": "code",
   "execution_count": 237,
   "id": "bf56fdce-a85d-46b8-a56f-28f4478707d9",
   "metadata": {
    "tags": []
   },
   "outputs": [
    {
     "data": {
      "image/png": "[encoded data removed]",
      "text/plain": [
       "<Figure size 640x480 with 1 Axes>"
      ]
     },
     "metadata": {},
     "output_type": "display_data"
    }
   ],
   "source": [
    "from matplotlib import pyplot as plt\n",
    "labels = emotions['train'].features['label'].names\n",
    "\n",
    "plt.bar(labels, 100 * pd.DataFrame(preds[0])[\"score\"], color='C0')\n",
    "plt.title(f'\"{text}\"')\n",
    "plt.ylabel(\"Class probability (%)\")\n",
    "plt.show()"
   ]
  },
  {
   "cell_type": "code",
   "execution_count": null,
   "id": "11239c14-4805-4ea0-b346-50dd3255d739",
   "metadata": {},
   "outputs": [],
   "source": []
  }
 ],
 "metadata": {
  "kernelspec": {
   "display_name": "Python 3 (ipykernel)",
   "language": "python",
   "name": "python3"
  },
  "language_info": {
   "codemirror_mode": {
    "name": "ipython",
    "version": 3
   },
   "file_extension": ".py",
   "mimetype": "text/x-python",
   "name": "python",
   "nbconvert_exporter": "python",
   "pygments_lexer": "ipython3",
   "version": "3.8.12"
  }
 },
 "nbformat": 4,
 "nbformat_minor": 5
}
