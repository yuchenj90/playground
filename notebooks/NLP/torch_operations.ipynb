{
 "cells": [
  {
   "cell_type": "code",
   "execution_count": 1,
   "id": "b9097435-89a5-4fef-8884-feb381279eac",
   "metadata": {
    "tags": []
   },
   "outputs": [],
   "source": [
    "import torch"
   ]
  },
  {
   "cell_type": "code",
   "execution_count": 2,
   "id": "b61554ab-620a-4295-b4ee-5931db26eafb",
   "metadata": {},
   "outputs": [
    {
     "data": {
      "text/plain": [
       "torch.Size([1, 2, 3, 4])"
      ]
     },
     "execution_count": 2,
     "metadata": {},
     "output_type": "execute_result"
    }
   ],
   "source": [
    "a = torch.randn(1, 2, 3, 4)\n",
    "a.size()"
   ]
  },
  {
   "cell_type": "markdown",
   "id": "2d3f3be2-a70d-4612-94f8-c73ee8df6e69",
   "metadata": {
    "tags": []
   },
   "source": [
    "# Transpose vs view"
   ]
  },
  {
   "cell_type": "code",
   "execution_count": 10,
   "id": "8222dde8-a8a5-41a7-9c7b-1907b4cc39e9",
   "metadata": {
    "tags": []
   },
   "outputs": [
    {
     "data": {
      "text/plain": [
       "torch.Size([1, 3, 2, 4])"
      ]
     },
     "execution_count": 10,
     "metadata": {},
     "output_type": "execute_result"
    }
   ],
   "source": [
    "b = a.transpose(1, 2)  # Swaps 2nd and 3rd dimension\n",
    "b.size()\n"
   ]
  },
  {
   "cell_type": "code",
   "execution_count": 11,
   "id": "26a9e430-a608-4b6d-8ba9-9d76a62cfb14",
   "metadata": {
    "tags": []
   },
   "outputs": [
    {
     "name": "stdout",
     "output_type": "stream",
     "text": [
      "tensor([[[[ 1.6395,  1.5620, -0.1664, -0.6549],\n",
      "          [-0.0124, -0.5689,  0.4032, -0.3532],\n",
      "          [ 0.2920,  0.7610, -1.4492, -1.3785]],\n",
      "\n",
      "         [[ 0.4671,  0.3856,  2.4157, -0.9427],\n",
      "          [ 1.6166, -0.0037,  0.0669, -1.5434],\n",
      "          [-2.0009,  0.0901, -0.9708, -1.0613]]]])\n",
      "tensor([[[[ 1.6395,  1.5620, -0.1664, -0.6549],\n",
      "          [ 0.4671,  0.3856,  2.4157, -0.9427]],\n",
      "\n",
      "         [[-0.0124, -0.5689,  0.4032, -0.3532],\n",
      "          [ 1.6166, -0.0037,  0.0669, -1.5434]],\n",
      "\n",
      "         [[ 0.2920,  0.7610, -1.4492, -1.3785],\n",
      "          [-2.0009,  0.0901, -0.9708, -1.0613]]]])\n"
     ]
    }
   ],
   "source": [
    "print(a)\n",
    "print(b)"
   ]
  },
  {
   "cell_type": "code",
   "execution_count": 12,
   "id": "8e9705e6-e92a-4499-b1fb-905acef737e2",
   "metadata": {
    "tags": []
   },
   "outputs": [
    {
     "data": {
      "text/plain": [
       "torch.Size([1, 3, 2, 4])"
      ]
     },
     "execution_count": 12,
     "metadata": {},
     "output_type": "execute_result"
    }
   ],
   "source": [
    "c = a.view(1, 3, 2, 4)  # Does not change tensor layout in memory\n",
    "c.size()"
   ]
  },
  {
   "cell_type": "code",
   "execution_count": 13,
   "id": "fa9182b4-fd56-453b-b670-8670f98e262f",
   "metadata": {
    "tags": []
   },
   "outputs": [
    {
     "name": "stdout",
     "output_type": "stream",
     "text": [
      "tensor([[[[ 1.6395,  1.5620, -0.1664, -0.6549],\n",
      "          [-0.0124, -0.5689,  0.4032, -0.3532]],\n",
      "\n",
      "         [[ 0.2920,  0.7610, -1.4492, -1.3785],\n",
      "          [ 0.4671,  0.3856,  2.4157, -0.9427]],\n",
      "\n",
      "         [[ 1.6166, -0.0037,  0.0669, -1.5434],\n",
      "          [-2.0009,  0.0901, -0.9708, -1.0613]]]])\n"
     ]
    }
   ],
   "source": [
    "print(c)"
   ]
  },
  {
   "cell_type": "code",
   "execution_count": 14,
   "id": "22568a54-e44d-4603-9116-227544a6281d",
   "metadata": {
    "tags": []
   },
   "outputs": [
    {
     "data": {
      "text/plain": [
       "torch.Size([1, 2, 3, 4])"
      ]
     },
     "execution_count": 14,
     "metadata": {},
     "output_type": "execute_result"
    }
   ],
   "source": [
    "a.size()"
   ]
  },
  {
   "cell_type": "code",
   "execution_count": 15,
   "id": "0770f0ee-ed7d-44b1-835b-ba27e524bc0c",
   "metadata": {
    "tags": []
   },
   "outputs": [
    {
     "name": "stdout",
     "output_type": "stream",
     "text": [
      "torch.Size([1, 2, 4, 3])\n",
      "tensor([[[[ 1.6395, -0.0124,  0.2920],\n",
      "          [ 1.5620, -0.5689,  0.7610],\n",
      "          [-0.1664,  0.4032, -1.4492],\n",
      "          [-0.6549, -0.3532, -1.3785]],\n",
      "\n",
      "         [[ 0.4671,  1.6166, -2.0009],\n",
      "          [ 0.3856, -0.0037,  0.0901],\n",
      "          [ 2.4157,  0.0669, -0.9708],\n",
      "          [-0.9427, -1.5434, -1.0613]]]])\n"
     ]
    }
   ],
   "source": [
    "print(a.transpose(-1,-2).size())\n",
    "print(a.transpose(-1,-2))"
   ]
  },
  {
   "cell_type": "code",
   "execution_count": 17,
   "id": "dd2ab088-a652-40a9-b8de-c8cebf8af73f",
   "metadata": {
    "tags": []
   },
   "outputs": [
    {
     "name": "stdout",
     "output_type": "stream",
     "text": [
      "torch.Size([1, 4, 3, 2])\n",
      "tensor([[[[ 1.6395,  0.4671],\n",
      "          [-0.0124,  1.6166],\n",
      "          [ 0.2920, -2.0009]],\n",
      "\n",
      "         [[ 1.5620,  0.3856],\n",
      "          [-0.5689, -0.0037],\n",
      "          [ 0.7610,  0.0901]],\n",
      "\n",
      "         [[-0.1664,  2.4157],\n",
      "          [ 0.4032,  0.0669],\n",
      "          [-1.4492, -0.9708]],\n",
      "\n",
      "         [[-0.6549, -0.9427],\n",
      "          [-0.3532, -1.5434],\n",
      "          [-1.3785, -1.0613]]]])\n"
     ]
    }
   ],
   "source": [
    "print(a.transpose(-1,-3).size())\n",
    "print(a.transpose(-1,-3))"
   ]
  },
  {
   "cell_type": "code",
   "execution_count": 18,
   "id": "2ae22b42-cfce-4181-bd58-26f4ad2e2c29",
   "metadata": {
    "tags": []
   },
   "outputs": [
    {
     "data": {
      "text/plain": [
       "torch.Size([1, 2, 3, 4])"
      ]
     },
     "execution_count": 18,
     "metadata": {},
     "output_type": "execute_result"
    }
   ],
   "source": [
    "a.size()"
   ]
  },
  {
   "cell_type": "code",
   "execution_count": 24,
   "id": "fd2af924-aec4-42a8-9a34-103be7304496",
   "metadata": {
    "tags": []
   },
   "outputs": [
    {
     "data": {
      "text/plain": [
       "torch.Size([1, 2, 3, 3])"
      ]
     },
     "execution_count": 24,
     "metadata": {},
     "output_type": "execute_result"
    }
   ],
   "source": [
    "(a @ a.transpose(-1,-2)).size()"
   ]
  },
  {
   "cell_type": "code",
   "execution_count": null,
   "id": "c5116ab3-0381-4eb2-993e-af0854b1a3f9",
   "metadata": {},
   "outputs": [],
   "source": []
  },
  {
   "cell_type": "code",
   "execution_count": null,
   "id": "45eed45c-9a6d-4662-bbf8-6ab34a3ae0d2",
   "metadata": {},
   "outputs": [],
   "source": []
  }
 ],
 "metadata": {
  "kernelspec": {
   "display_name": "Python 3 (ipykernel)",
   "language": "python",
   "name": "python3"
  },
  "language_info": {
   "codemirror_mode": {
    "name": "ipython",
    "version": 3
   },
   "file_extension": ".py",
   "mimetype": "text/x-python",
   "name": "python",
   "nbconvert_exporter": "python",
   "pygments_lexer": "ipython3",
   "version": "3.8.12"
  }
 },
 "nbformat": 4,
 "nbformat_minor": 5
}
